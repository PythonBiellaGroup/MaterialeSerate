{
 "cells": [
  {
   "cell_type": "code",
   "execution_count": 1,
   "id": "70379d74",
   "metadata": {},
   "outputs": [],
   "source": [
    "import pandas as pd\n",
    "from sklearn.compose import ColumnTransformer\n",
    "from sklearn.preprocessing import OneHotEncoder, StandardScaler, LabelEncoder, QuantileTransformer\n",
    "from sklearn.impute import SimpleImputer\n",
    "from sklearn.pipeline import Pipeline\n",
    "from sklearn.model_selection import train_test_split\n",
    "from xgboost import XGBClassifier\n",
    "import json\n",
    "import os\n",
    "import joblib\n",
    "from itertools import product\n",
    "import warnings\n"
   ]
  },
  {
   "cell_type": "markdown",
   "id": "ac03bdb1",
   "metadata": {},
   "source": [
    "# Esercizio mlflow\n",
    "\n",
    "Problema giocattolo → Classificazione binaria (LendingClub Dataset), task del modello e’ di determinare se un individuo andrà in default su prestito in base a dati collezionati durante l'avvio della pratica."
   ]
  },
  {
   "cell_type": "code",
   "execution_count": 7,
   "id": "c98d005e",
   "metadata": {},
   "outputs": [],
   "source": [
    "data = pd.read_csv('./train_dataset.csv')\n",
    "data_test = pd.read_csv('./test_dataset.csv')"
   ]
  },
  {
   "cell_type": "code",
   "execution_count": 8,
   "id": "9f7f9c5d",
   "metadata": {},
   "outputs": [
    {
     "data": {
      "text/html": [
       "<div>\n",
       "<style scoped>\n",
       "    .dataframe tbody tr th:only-of-type {\n",
       "        vertical-align: middle;\n",
       "    }\n",
       "\n",
       "    .dataframe tbody tr th {\n",
       "        vertical-align: top;\n",
       "    }\n",
       "\n",
       "    .dataframe thead th {\n",
       "        text-align: right;\n",
       "    }\n",
       "</style>\n",
       "<table border=\"1\" class=\"dataframe\">\n",
       "  <thead>\n",
       "    <tr style=\"text-align: right;\">\n",
       "      <th></th>\n",
       "      <th>loan_amount</th>\n",
       "      <th>payments_term</th>\n",
       "      <th>monthly_payment</th>\n",
       "      <th>grade</th>\n",
       "      <th>working_years</th>\n",
       "      <th>home</th>\n",
       "      <th>annual_income</th>\n",
       "      <th>verification</th>\n",
       "      <th>purpose</th>\n",
       "      <th>debt_to_income</th>\n",
       "      <th>delinquency</th>\n",
       "      <th>inquiries</th>\n",
       "      <th>open_credit_lines</th>\n",
       "      <th>derogatory_records</th>\n",
       "      <th>revolving_balance</th>\n",
       "      <th>revolving_rate</th>\n",
       "      <th>total_accounts</th>\n",
       "      <th>bankruptcies</th>\n",
       "      <th>fico_average</th>\n",
       "      <th>loan_risk</th>\n",
       "    </tr>\n",
       "  </thead>\n",
       "  <tbody>\n",
       "    <tr>\n",
       "      <th>0</th>\n",
       "      <td>3000</td>\n",
       "      <td>36 months</td>\n",
       "      <td>90.48</td>\n",
       "      <td>1</td>\n",
       "      <td>10</td>\n",
       "      <td>Rent</td>\n",
       "      <td>48000.0</td>\n",
       "      <td>Source Verified</td>\n",
       "      <td>debt_consolidation</td>\n",
       "      <td>14.15</td>\n",
       "      <td>0</td>\n",
       "      <td>0</td>\n",
       "      <td>5</td>\n",
       "      <td>0</td>\n",
       "      <td>1896</td>\n",
       "      <td>39.5</td>\n",
       "      <td>12</td>\n",
       "      <td>0</td>\n",
       "      <td>777</td>\n",
       "      <td>Paid</td>\n",
       "    </tr>\n",
       "    <tr>\n",
       "      <th>1</th>\n",
       "      <td>12650</td>\n",
       "      <td>60 months</td>\n",
       "      <td>316.23</td>\n",
       "      <td>4</td>\n",
       "      <td>2</td>\n",
       "      <td>Rent</td>\n",
       "      <td>61500.0</td>\n",
       "      <td>Source Verified</td>\n",
       "      <td>credit_card</td>\n",
       "      <td>12.86</td>\n",
       "      <td>0</td>\n",
       "      <td>1</td>\n",
       "      <td>9</td>\n",
       "      <td>0</td>\n",
       "      <td>11200</td>\n",
       "      <td>83.0</td>\n",
       "      <td>27</td>\n",
       "      <td>0</td>\n",
       "      <td>697</td>\n",
       "      <td>Paid</td>\n",
       "    </tr>\n",
       "    <tr>\n",
       "      <th>2</th>\n",
       "      <td>5000</td>\n",
       "      <td>60 months</td>\n",
       "      <td>106.24</td>\n",
       "      <td>2</td>\n",
       "      <td>10</td>\n",
       "      <td>Mortgage</td>\n",
       "      <td>90000.0</td>\n",
       "      <td>Not Verified</td>\n",
       "      <td>car</td>\n",
       "      <td>11.85</td>\n",
       "      <td>0</td>\n",
       "      <td>0</td>\n",
       "      <td>16</td>\n",
       "      <td>0</td>\n",
       "      <td>31007</td>\n",
       "      <td>80.7</td>\n",
       "      <td>35</td>\n",
       "      <td>0</td>\n",
       "      <td>737</td>\n",
       "      <td>Paid</td>\n",
       "    </tr>\n",
       "    <tr>\n",
       "      <th>3</th>\n",
       "      <td>16000</td>\n",
       "      <td>36 months</td>\n",
       "      <td>540.88</td>\n",
       "      <td>3</td>\n",
       "      <td>3</td>\n",
       "      <td>Mortgage</td>\n",
       "      <td>35004.0</td>\n",
       "      <td>Verified</td>\n",
       "      <td>debt_consolidation</td>\n",
       "      <td>20.81</td>\n",
       "      <td>0</td>\n",
       "      <td>0</td>\n",
       "      <td>5</td>\n",
       "      <td>0</td>\n",
       "      <td>14383</td>\n",
       "      <td>92.2</td>\n",
       "      <td>23</td>\n",
       "      <td>0</td>\n",
       "      <td>722</td>\n",
       "      <td>Paid</td>\n",
       "    </tr>\n",
       "    <tr>\n",
       "      <th>4</th>\n",
       "      <td>17600</td>\n",
       "      <td>60 months</td>\n",
       "      <td>409.43</td>\n",
       "      <td>3</td>\n",
       "      <td>10</td>\n",
       "      <td>Mortgage</td>\n",
       "      <td>95000.0</td>\n",
       "      <td>Verified</td>\n",
       "      <td>debt_consolidation</td>\n",
       "      <td>8.07</td>\n",
       "      <td>0</td>\n",
       "      <td>3</td>\n",
       "      <td>11</td>\n",
       "      <td>0</td>\n",
       "      <td>3858</td>\n",
       "      <td>14.8</td>\n",
       "      <td>17</td>\n",
       "      <td>0</td>\n",
       "      <td>732</td>\n",
       "      <td>Charged off</td>\n",
       "    </tr>\n",
       "  </tbody>\n",
       "</table>\n",
       "</div>"
      ],
      "text/plain": [
       "   loan_amount payments_term  monthly_payment  grade  working_years      home  \\\n",
       "0         3000     36 months            90.48      1             10      Rent   \n",
       "1        12650     60 months           316.23      4              2      Rent   \n",
       "2         5000     60 months           106.24      2             10  Mortgage   \n",
       "3        16000     36 months           540.88      3              3  Mortgage   \n",
       "4        17600     60 months           409.43      3             10  Mortgage   \n",
       "\n",
       "   annual_income     verification             purpose  debt_to_income  \\\n",
       "0        48000.0  Source Verified  debt_consolidation           14.15   \n",
       "1        61500.0  Source Verified         credit_card           12.86   \n",
       "2        90000.0     Not Verified                 car           11.85   \n",
       "3        35004.0         Verified  debt_consolidation           20.81   \n",
       "4        95000.0         Verified  debt_consolidation            8.07   \n",
       "\n",
       "   delinquency  inquiries  open_credit_lines  derogatory_records  \\\n",
       "0            0          0                  5                   0   \n",
       "1            0          1                  9                   0   \n",
       "2            0          0                 16                   0   \n",
       "3            0          0                  5                   0   \n",
       "4            0          3                 11                   0   \n",
       "\n",
       "   revolving_balance  revolving_rate  total_accounts  bankruptcies  \\\n",
       "0               1896            39.5              12             0   \n",
       "1              11200            83.0              27             0   \n",
       "2              31007            80.7              35             0   \n",
       "3              14383            92.2              23             0   \n",
       "4               3858            14.8              17             0   \n",
       "\n",
       "   fico_average    loan_risk  \n",
       "0           777         Paid  \n",
       "1           697         Paid  \n",
       "2           737         Paid  \n",
       "3           722         Paid  \n",
       "4           732  Charged off  "
      ]
     },
     "execution_count": 8,
     "metadata": {},
     "output_type": "execute_result"
    }
   ],
   "source": [
    "data.head()"
   ]
  },
  {
   "cell_type": "code",
   "execution_count": 9,
   "id": "f1949795",
   "metadata": {},
   "outputs": [
    {
     "data": {
      "text/plain": [
       "Paid           25224\n",
       "Charged off     3978\n",
       "Name: loan_risk, dtype: int64"
      ]
     },
     "execution_count": 9,
     "metadata": {},
     "output_type": "execute_result"
    }
   ],
   "source": [
    "data['loan_risk'].value_counts()"
   ]
  },
  {
   "cell_type": "code",
   "execution_count": 10,
   "id": "ffa086e9",
   "metadata": {},
   "outputs": [],
   "source": [
    "data_train, data_val = train_test_split(data, test_size=0.2)"
   ]
  },
  {
   "attachments": {
    "immagine.png": {
     "image/png": "[encoded data removed]"
    }
   },
   "cell_type": "markdown",
   "id": "347dd9dc",
   "metadata": {},
   "source": [
    "# Definizione di una pipeline di classificazione\n",
    "\n",
    "All'interno della pipeline dati vengono preparati processati e dati in pasto al modello. Funzione qui sotto allena la pipeline su dati forniti come argomento usando parametri specificati nel dizionario parameters\n",
    "\n",
    "![immagine.png](attachment:immagine.png)"
   ]
  },
  {
   "cell_type": "code",
   "execution_count": 11,
   "id": "200ae12f",
   "metadata": {},
   "outputs": [],
   "source": [
    "def train_xgboost_pipeline(data_x, data_y, parameters=None):\n",
    "    # Questa funzione allena un classificatore xgboost utilizzando gli iperparametri definiti in parameters\n",
    "\n",
    "    if parameters is None:\n",
    "        parameters = dict(n_estimators=100, \n",
    "                          max_depth=4, \n",
    "                          scale_pos_weight=1,\n",
    "                          learning_rate=0.1)\n",
    "    \n",
    "    # Preprocessamento features numeriche e categoriche\n",
    "\n",
    "    numerical_features = data_x.select_dtypes(include=\"number\").columns\n",
    "    categorical_features = data_x.select_dtypes(include=\"object\").columns\n",
    "\n",
    "    \n",
    "    numerical_transformer = Pipeline(steps=[('imputer', SimpleImputer(strategy='median'))])\n",
    "\n",
    "    categorical_transformer = Pipeline(steps=[('onehot', OneHotEncoder(handle_unknown='ignore'))])\n",
    "\n",
    "    preprocessor = ColumnTransformer(transformers=[('ord', numerical_transformer, numerical_features),\n",
    "                                                ('cat', categorical_transformer, categorical_features)])\n",
    "\n",
    "    # Creazione di una pipeline preprocessor + XGBoost\n",
    "    \n",
    "    xgb_clf = XGBClassifier(n_estimators=parameters['n_estimators'],\n",
    "                           max_depth=parameters['max_depth'],\n",
    "                           scale_pos_weight=parameters['scale_pos_weight'],\n",
    "                           learning_rate=parameters['learning_rate'],\n",
    "                           random_state=42,\n",
    "                           n_jobs=4)\n",
    "\n",
    "    xgb_pipeline = Pipeline(steps=[(\"preprocessing\", preprocessor), \n",
    "                                   (\"xgb_model\", xgb_clf)])\n",
    "\n",
    "    # Fit della pipeline\n",
    "\n",
    "    xgb_pipeline.fit(data_x, data_y)\n",
    "\n",
    "    return xgb_pipeline"
   ]
  },
  {
   "cell_type": "code",
   "execution_count": 12,
   "id": "94d30f32",
   "metadata": {},
   "outputs": [
    {
     "name": "stderr",
     "output_type": "stream",
     "text": [
      "/home/gillus/miniconda3/lib/python3.9/site-packages/xgboost/sklearn.py:1224: UserWarning: The use of label encoder in XGBClassifier is deprecated and will be removed in a future release. To remove this warning, do the following: 1) Pass option use_label_encoder=False when constructing XGBClassifier object; and 2) Encode your labels (y) as integers starting with 0, i.e. 0, 1, 2, ..., [num_class - 1].\n",
      "  warnings.warn(label_encoder_deprecation_msg, UserWarning)\n"
     ]
    },
    {
     "name": "stdout",
     "output_type": "stream",
     "text": [
      "[21:40:42] WARNING: ../src/learner.cc:1115: Starting in XGBoost 1.3.0, the default evaluation metric used with the objective 'binary:logistic' was changed from 'error' to 'logloss'. Explicitly set eval_metric if you'd like to restore the old behavior.\n"
     ]
    }
   ],
   "source": [
    "clf = train_xgboost_pipeline(data_train.drop(['loan_risk'],axis=1),data_train['loan_risk'])"
   ]
  },
  {
   "cell_type": "code",
   "execution_count": 13,
   "id": "1554bb11",
   "metadata": {},
   "outputs": [
    {
     "data": {
      "text/plain": [
       "Pipeline(steps=[('preprocessing',\n",
       "                 ColumnTransformer(transformers=[('ord',\n",
       "                                                  Pipeline(steps=[('imputer',\n",
       "                                                                   SimpleImputer(strategy='median'))]),\n",
       "                                                  Index(['loan_amount', 'monthly_payment', 'grade', 'working_years',\n",
       "       'annual_income', 'debt_to_income', 'delinquency', 'inquiries',\n",
       "       'open_credit_lines', 'derogatory_records', 'revolving_balance',\n",
       "       'revolving_rate', 'total_accounts...\n",
       "                               gamma=0, gpu_id=-1, importance_type=None,\n",
       "                               interaction_constraints='', learning_rate=0.1,\n",
       "                               max_delta_step=0, max_depth=4,\n",
       "                               min_child_weight=1, missing=nan,\n",
       "                               monotone_constraints='()', n_estimators=100,\n",
       "                               n_jobs=4, num_parallel_tree=1, predictor='auto',\n",
       "                               random_state=42, reg_alpha=0, reg_lambda=1,\n",
       "                               scale_pos_weight=1, subsample=1,\n",
       "                               tree_method='exact', validate_parameters=1,\n",
       "                               verbosity=None))])"
      ]
     },
     "execution_count": 13,
     "metadata": {},
     "output_type": "execute_result"
    }
   ],
   "source": [
    "clf"
   ]
  },
  {
   "cell_type": "markdown",
   "id": "42bb5413",
   "metadata": {},
   "source": [
    "Analisi metriche di classificazione modello, classification_report genera un dizionario contenente i punteggi piu\\' importanti"
   ]
  },
  {
   "cell_type": "code",
   "execution_count": 14,
   "id": "2df335af",
   "metadata": {},
   "outputs": [],
   "source": [
    "from sklearn.metrics import classification_report\n",
    "\n",
    "report_val = classification_report(data_val['loan_risk'],\n",
    "                                   clf.predict(data_val.drop(['loan_risk'],axis=1)), \n",
    "                                   output_dict=True)\n",
    "\n",
    "report_test = classification_report(data_test['loan_risk'],\n",
    "                                    clf.predict(data_test.drop(['loan_risk'],axis=1)), \n",
    "                                    output_dict=True)"
   ]
  },
  {
   "cell_type": "code",
   "execution_count": 15,
   "id": "0da3cc98",
   "metadata": {},
   "outputs": [
    {
     "data": {
      "text/plain": [
       "{'Charged off': {'precision': 0.7,\n",
       "  'recall': 0.008244994110718492,\n",
       "  'f1-score': 0.016298020954598372,\n",
       "  'support': 849},\n",
       " 'Paid': {'precision': 0.855599382610187,\n",
       "  'recall': 0.9993990384615384,\n",
       "  'f1-score': 0.9219255289660907,\n",
       "  'support': 4992},\n",
       " 'accuracy': 0.8553329909262113,\n",
       " 'macro avg': {'precision': 0.7777996913050935,\n",
       "  'recall': 0.5038220162861284,\n",
       "  'f1-score': 0.46911177496034456,\n",
       "  'support': 5841},\n",
       " 'weighted avg': {'precision': 0.8329827286406529,\n",
       "  'recall': 0.8553329909262113,\n",
       "  'f1-score': 0.7902909194297516,\n",
       "  'support': 5841}}"
      ]
     },
     "execution_count": 15,
     "metadata": {},
     "output_type": "execute_result"
    }
   ],
   "source": [
    "report_val"
   ]
  },
  {
   "cell_type": "markdown",
   "id": "74cea044",
   "metadata": {},
   "source": [
    "# Setup di una grid search\n",
    "\n",
    "Andiamo a cercare la combinazione di parametri che performa meglio sul set di validazione. Facendo questo logghiamo ciascun esperimento usando mlflow\n"
   ]
  },
  {
   "cell_type": "code",
   "execution_count": 16,
   "id": "e8d61554",
   "metadata": {},
   "outputs": [
    {
     "name": "stdout",
     "output_type": "stream",
     "text": [
      "Number of experiments: 24\n",
      "Running experiment number  0\n",
      "heads/master-0-gbf553fb\n",
      "[21:48:48] WARNING: ../src/learner.cc:1115: Starting in XGBoost 1.3.0, the default evaluation metric used with the objective 'binary:logistic' was changed from 'error' to 'logloss'. Explicitly set eval_metric if you'd like to restore the old behavior.\n",
      "Running experiment number  1\n",
      "heads/master-0-gbf553fb\n",
      "[21:48:49] WARNING: ../src/learner.cc:1115: Starting in XGBoost 1.3.0, the default evaluation metric used with the objective 'binary:logistic' was changed from 'error' to 'logloss'. Explicitly set eval_metric if you'd like to restore the old behavior.\n",
      "Running experiment number  2\n",
      "heads/master-0-gbf553fb\n",
      "[21:48:51] WARNING: ../src/learner.cc:1115: Starting in XGBoost 1.3.0, the default evaluation metric used with the objective 'binary:logistic' was changed from 'error' to 'logloss'. Explicitly set eval_metric if you'd like to restore the old behavior.\n",
      "Running experiment number  3\n",
      "heads/master-0-gbf553fb\n",
      "[21:48:53] WARNING: ../src/learner.cc:1115: Starting in XGBoost 1.3.0, the default evaluation metric used with the objective 'binary:logistic' was changed from 'error' to 'logloss'. Explicitly set eval_metric if you'd like to restore the old behavior.\n",
      "Running experiment number  4\n",
      "heads/master-0-gbf553fb\n",
      "[21:48:54] WARNING: ../src/learner.cc:1115: Starting in XGBoost 1.3.0, the default evaluation metric used with the objective 'binary:logistic' was changed from 'error' to 'logloss'. Explicitly set eval_metric if you'd like to restore the old behavior.\n",
      "Running experiment number  5\n",
      "heads/master-0-gbf553fb\n",
      "[21:48:56] WARNING: ../src/learner.cc:1115: Starting in XGBoost 1.3.0, the default evaluation metric used with the objective 'binary:logistic' was changed from 'error' to 'logloss'. Explicitly set eval_metric if you'd like to restore the old behavior.\n",
      "Running experiment number  6\n",
      "heads/master-0-gbf553fb\n",
      "[21:48:58] WARNING: ../src/learner.cc:1115: Starting in XGBoost 1.3.0, the default evaluation metric used with the objective 'binary:logistic' was changed from 'error' to 'logloss'. Explicitly set eval_metric if you'd like to restore the old behavior.\n",
      "Running experiment number  7\n",
      "heads/master-0-gbf553fb\n",
      "[21:48:59] WARNING: ../src/learner.cc:1115: Starting in XGBoost 1.3.0, the default evaluation metric used with the objective 'binary:logistic' was changed from 'error' to 'logloss'. Explicitly set eval_metric if you'd like to restore the old behavior.\n",
      "Running experiment number  8\n",
      "heads/master-0-gbf553fb\n",
      "[21:49:01] WARNING: ../src/learner.cc:1115: Starting in XGBoost 1.3.0, the default evaluation metric used with the objective 'binary:logistic' was changed from 'error' to 'logloss'. Explicitly set eval_metric if you'd like to restore the old behavior.\n",
      "Running experiment number  9\n",
      "heads/master-0-gbf553fb\n",
      "[21:49:02] WARNING: ../src/learner.cc:1115: Starting in XGBoost 1.3.0, the default evaluation metric used with the objective 'binary:logistic' was changed from 'error' to 'logloss'. Explicitly set eval_metric if you'd like to restore the old behavior.\n",
      "Running experiment number  10\n",
      "heads/master-0-gbf553fb\n",
      "[21:49:04] WARNING: ../src/learner.cc:1115: Starting in XGBoost 1.3.0, the default evaluation metric used with the objective 'binary:logistic' was changed from 'error' to 'logloss'. Explicitly set eval_metric if you'd like to restore the old behavior.\n",
      "Running experiment number  11\n",
      "heads/master-0-gbf553fb\n",
      "[21:49:06] WARNING: ../src/learner.cc:1115: Starting in XGBoost 1.3.0, the default evaluation metric used with the objective 'binary:logistic' was changed from 'error' to 'logloss'. Explicitly set eval_metric if you'd like to restore the old behavior.\n",
      "Running experiment number  12\n",
      "heads/master-0-gbf553fb\n",
      "[21:49:07] WARNING: ../src/learner.cc:1115: Starting in XGBoost 1.3.0, the default evaluation metric used with the objective 'binary:logistic' was changed from 'error' to 'logloss'. Explicitly set eval_metric if you'd like to restore the old behavior.\n",
      "Running experiment number  13\n",
      "heads/master-0-gbf553fb\n",
      "[21:49:09] WARNING: ../src/learner.cc:1115: Starting in XGBoost 1.3.0, the default evaluation metric used with the objective 'binary:logistic' was changed from 'error' to 'logloss'. Explicitly set eval_metric if you'd like to restore the old behavior.\n",
      "Running experiment number  14\n",
      "heads/master-0-gbf553fb\n",
      "[21:49:11] WARNING: ../src/learner.cc:1115: Starting in XGBoost 1.3.0, the default evaluation metric used with the objective 'binary:logistic' was changed from 'error' to 'logloss'. Explicitly set eval_metric if you'd like to restore the old behavior.\n",
      "Running experiment number  15\n",
      "heads/master-0-gbf553fb\n",
      "[21:49:14] WARNING: ../src/learner.cc:1115: Starting in XGBoost 1.3.0, the default evaluation metric used with the objective 'binary:logistic' was changed from 'error' to 'logloss'. Explicitly set eval_metric if you'd like to restore the old behavior.\n",
      "Running experiment number  16\n",
      "heads/master-0-gbf553fb\n",
      "[21:49:16] WARNING: ../src/learner.cc:1115: Starting in XGBoost 1.3.0, the default evaluation metric used with the objective 'binary:logistic' was changed from 'error' to 'logloss'. Explicitly set eval_metric if you'd like to restore the old behavior.\n",
      "Running experiment number  17\n",
      "heads/master-0-gbf553fb\n",
      "[21:49:18] WARNING: ../src/learner.cc:1115: Starting in XGBoost 1.3.0, the default evaluation metric used with the objective 'binary:logistic' was changed from 'error' to 'logloss'. Explicitly set eval_metric if you'd like to restore the old behavior.\n",
      "Running experiment number  18\n",
      "heads/master-0-gbf553fb\n",
      "[21:49:20] WARNING: ../src/learner.cc:1115: Starting in XGBoost 1.3.0, the default evaluation metric used with the objective 'binary:logistic' was changed from 'error' to 'logloss'. Explicitly set eval_metric if you'd like to restore the old behavior.\n",
      "Running experiment number  19\n",
      "heads/master-0-gbf553fb\n",
      "[21:49:23] WARNING: ../src/learner.cc:1115: Starting in XGBoost 1.3.0, the default evaluation metric used with the objective 'binary:logistic' was changed from 'error' to 'logloss'. Explicitly set eval_metric if you'd like to restore the old behavior.\n",
      "Running experiment number  20\n",
      "heads/master-0-gbf553fb\n",
      "[21:49:25] WARNING: ../src/learner.cc:1115: Starting in XGBoost 1.3.0, the default evaluation metric used with the objective 'binary:logistic' was changed from 'error' to 'logloss'. Explicitly set eval_metric if you'd like to restore the old behavior.\n",
      "Running experiment number  21\n",
      "heads/master-0-gbf553fb\n",
      "[21:49:27] WARNING: ../src/learner.cc:1115: Starting in XGBoost 1.3.0, the default evaluation metric used with the objective 'binary:logistic' was changed from 'error' to 'logloss'. Explicitly set eval_metric if you'd like to restore the old behavior.\n",
      "Running experiment number  22\n",
      "heads/master-0-gbf553fb\n",
      "[21:49:29] WARNING: ../src/learner.cc:1115: Starting in XGBoost 1.3.0, the default evaluation metric used with the objective 'binary:logistic' was changed from 'error' to 'logloss'. Explicitly set eval_metric if you'd like to restore the old behavior.\n",
      "Running experiment number  23\n",
      "heads/master-0-gbf553fb\n",
      "[21:49:31] WARNING: ../src/learner.cc:1115: Starting in XGBoost 1.3.0, the default evaluation metric used with the objective 'binary:logistic' was changed from 'error' to 'logloss'. Explicitly set eval_metric if you'd like to restore the old behavior.\n",
      "Best F1 was: 0.3210214318285453\n",
      "Using the following parameters\n",
      "{'n_estimators': 100, 'max_depth': 6, 'scale_pos_weight': 0.1, 'learning_rate': 0.01}\n"
     ]
    }
   ],
   "source": [
    "#! pip install mlflow\n",
    "\n",
    "import mlflow\n",
    "\n",
    "\n",
    "max_depth = [3, 6]\n",
    "scale_pos_weight = [0.1, 1, 10]\n",
    "learning_rate = [0.01, 0.001]\n",
    "n_estimators = [100, 50]\n",
    "\n",
    "name_experiment = 'Primissima grid-search'\n",
    "\n",
    "parameters = product(max_depth, scale_pos_weight, learning_rate, n_estimators)\n",
    "parameters_list = list(parameters)\n",
    "\n",
    "print('Number of experiments:', len(parameters_list))\n",
    "\n",
    "# Hyperparameter search\n",
    "results = []\n",
    "best_param = None\n",
    "best_f1 = 0.0\n",
    "warnings.filterwarnings('ignore')\n",
    "\n",
    "for i, param in enumerate(parameters_list):\n",
    "    print('Running experiment number ', i)\n",
    "    with mlflow.start_run(run_name=name_experiment):\n",
    "        # Tell mlflow to log the following parameters for the experiments dashboard\n",
    "        mlflow.log_param('max_depth', param[0])\n",
    "        mlflow.log_param('scale_pos_weight', param[1])\n",
    "        mlflow.log_param('learning_rate', param[2])\n",
    "        mlflow.log_param('n_estimators', param[3])\n",
    "        mlflow.log_param('version', os.system('git describe --all --long'))\n",
    "\n",
    "        try:\n",
    "            parameters = dict(n_estimators=param[3], \n",
    "                              max_depth=param[0], \n",
    "                              scale_pos_weight=param[1],\n",
    "                              learning_rate=param[2])\n",
    "\n",
    "            clf = train_xgboost_pipeline(data_train.drop(['loan_risk'],axis=1),\n",
    "                                         data_train['loan_risk'], \n",
    "                                         parameters=parameters)\n",
    "            \n",
    "            \n",
    "            report_val = classification_report(data_val['loan_risk'],\n",
    "                                               clf.predict(data_val.drop(['loan_risk'],axis=1)), \n",
    "                                               output_dict=True)\n",
    "\n",
    "            report_test = classification_report(data_test['loan_risk'],\n",
    "                                                clf.predict(data_test.drop(['loan_risk'],axis=1)), \n",
    "                                                output_dict=True)\n",
    "\n",
    "            # Tell mlflow to log the following metrics\n",
    "            mlflow.log_metric(\"recall\", report_val['Charged off']['recall'])            \n",
    "            mlflow.log_metric(\"precision\", report_val['Charged off']['precision'])\n",
    "            mlflow.log_metric(\"F1\", report_val['Charged off']['f1-score'])\n",
    "\n",
    "            # Store this artifact for each run\n",
    "            json.dump(report_test, open(\"metrics.json\", \"w\"))\n",
    "            mlflow.log_artifact('./metrics.json')\n",
    "\n",
    "            # save the best experiment yet (in terms of precision)\n",
    "            if report_val['Charged off']['f1-score'] > best_f1:\n",
    "                best_param = parameters\n",
    "                best_f1 = report_val['Charged off']['f1-score']\n",
    "            \n",
    "                                            \n",
    "            results.append([param, report_val['Charged off']['f1-score']])\n",
    "\n",
    "        except ValueError:\n",
    "            print('bad parameter combination:', param)\n",
    "            continue\n",
    "\n",
    "mlflow.end_run()\n",
    "print('Best F1 was:', best_f1)\n",
    "print('Using the following parameters')\n",
    "print(best_param)"
   ]
  },
  {
   "cell_type": "markdown",
   "id": "d461a320",
   "metadata": {},
   "source": [
    "Combinazione parametri piu' performante"
   ]
  },
  {
   "cell_type": "code",
   "execution_count": 17,
   "id": "a27fde37",
   "metadata": {},
   "outputs": [
    {
     "data": {
      "text/plain": [
       "{'n_estimators': 100,\n",
       " 'max_depth': 6,\n",
       " 'scale_pos_weight': 0.1,\n",
       " 'learning_rate': 0.01}"
      ]
     },
     "execution_count": 17,
     "metadata": {},
     "output_type": "execute_result"
    }
   ],
   "source": [
    "best_param"
   ]
  },
  {
   "cell_type": "markdown",
   "id": "b9513569",
   "metadata": {},
   "source": [
    "# Salvataggio del modello \n",
    "\n",
    "Salviamo il modello scelto nel nostro registro"
   ]
  },
  {
   "cell_type": "code",
   "execution_count": 18,
   "id": "873649df",
   "metadata": {},
   "outputs": [
    {
     "name": "stdout",
     "output_type": "stream",
     "text": [
      "[21:55:08] WARNING: ../src/learner.cc:1115: Starting in XGBoost 1.3.0, the default evaluation metric used with the objective 'binary:logistic' was changed from 'error' to 'logloss'. Explicitly set eval_metric if you'd like to restore the old behavior.\n"
     ]
    }
   ],
   "source": [
    "from mlflow.models.signature import infer_signature\n",
    "\n",
    "best_clf = train_xgboost_pipeline(data_train.drop(['loan_risk'], axis=1),\n",
    "                                     data_train['loan_risk'], \n",
    "                                     parameters=best_param)\n",
    "\n",
    "signature = infer_signature(data_val.drop(['loan_risk'], axis=1),\n",
    "                            best_clf.predict(data_val.drop(['loan_risk'], axis=1)))\n",
    "\n",
    "\n",
    "input_example = {}\n",
    "for i in data_val.drop(['loan_risk'],axis=1).columns:\n",
    "    input_example[i] = data_val[i].iloc[0]\n",
    "\n",
    "    \n",
    "mlflow.sklearn.save_model(best_clf, path='./model2/',signature=signature, input_example=input_example)\n",
    "\n",
    "\n",
    "# per caricare uno dei modelli del registro\n",
    "# saved_model_path=\".\"\n",
    "# reloaded_model = mlflow.sklearn.load_model(model_uri=saved_model_path)"
   ]
  },
  {
   "cell_type": "markdown",
   "id": "3c8184d1",
   "metadata": {},
   "source": [
    "# Creazione di un'API impacchettata in un container Docker"
   ]
  },
  {
   "cell_type": "markdown",
   "id": "3e87c825",
   "metadata": {},
   "source": [
    "mlflow offre la possibilita' di mettere in produzione uno dei modelli del nostro registro impacchettandolo in un container docker che espone un'API per fare queries del modello.\n",
    "\n",
    "\n",
    "Per creare l'immagine docker possiamo usare la seguente linea di comando\n",
    "```\n",
    "mlflow models build-docker -m \"./best_model\" -n \"xgboost_loan\"     \n",
    "```\n",
    "\n",
    "\n",
    "Una volta che l'immagine e' stata creata possiamo fare partire il container con\n",
    "```\n",
    "docker run -p 5001:8080 xgboost_loan                                    \n",
    "```                                        "
   ]
  },
  {
   "cell_type": "markdown",
   "id": "9e2b0967",
   "metadata": {},
   "source": [
    "# Query del modello\n",
    "\n",
    "Prendiamo un esempio di input salvato e creiamo un payload per l'API"
   ]
  },
  {
   "cell_type": "code",
   "execution_count": 21,
   "id": "29a0ec08",
   "metadata": {},
   "outputs": [
    {
     "name": "stdout",
     "output_type": "stream",
     "text": [
      "{'columns': ['loan_amount', 'payments_term', 'monthly_payment', 'grade', 'working_years', 'home', 'annual_income', 'verification', 'purpose', 'debt_to_income', 'delinquency', 'inquiries', 'open_credit_lines', 'derogatory_records', 'revolving_balance', 'revolving_rate', 'total_accounts', 'bankruptcies', 'fico_average'], 'data': [[100000000000, '60 months', 214.87, 1, 8, 'Mortgage', 50000.0, 'Not Verified', 'debt_consolidation', 18.36, 0, 0, 7, 0, 9075, 44.3, 25, 0, 752]]}\n"
     ]
    }
   ],
   "source": [
    "import requests\n",
    "import json\n",
    "\n",
    "\n",
    "with open('./model2/input_example.json') as f:\n",
    "    sample_input = json.load(f)\n",
    "sample_input['data'][0][0]=1000\n",
    "print(sample_input)"
   ]
  },
  {
   "cell_type": "code",
   "execution_count": 22,
   "id": "57b3bec9",
   "metadata": {},
   "outputs": [
    {
     "name": "stdout",
     "output_type": "stream",
     "text": [
      "Predicted loan outcome: Paid\n"
     ]
    }
   ],
   "source": [
    "\n",
    "\n",
    "\n",
    "response = requests.post(\n",
    "              url='http://127.0.0.1:5001/invocations', data=json.dumps(sample_input),\n",
    "              headers={\"Content-type\": \"application/json\"})\n",
    "response_json = json.loads(response.text)\n",
    "print('Predicted loan outcome: '+response_json[0])"
   ]
  },
  {
   "cell_type": "code",
   "execution_count": null,
   "id": "28409152",
   "metadata": {},
   "outputs": [],
   "source": [
    "\n"
   ]
  },
  {
   "cell_type": "code",
   "execution_count": null,
   "id": "fbf28b9c",
   "metadata": {},
   "outputs": [],
   "source": []
  },
  {
   "cell_type": "code",
   "execution_count": null,
   "id": "29eae9cd",
   "metadata": {},
   "outputs": [],
   "source": []
  }
 ],
 "metadata": {
  "kernelspec": {
   "display_name": "Python (myenv)",
   "language": "python",
   "name": "myenv"
  },
  "language_info": {
   "codemirror_mode": {
    "name": "ipython",
    "version": 3
   },
   "file_extension": ".py",
   "mimetype": "text/x-python",
   "name": "python",
   "nbconvert_exporter": "python",
   "pygments_lexer": "ipython3",
   "version": "3.9.5"
  }
 },
 "nbformat": 4,
 "nbformat_minor": 5
}
