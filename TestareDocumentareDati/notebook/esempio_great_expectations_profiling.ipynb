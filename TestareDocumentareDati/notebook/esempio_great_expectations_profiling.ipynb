{
 "cells": [
  {
   "cell_type": "markdown",
   "id": "b262fbe8",
   "metadata": {
    "slideshow": {
     "slide_type": "slide"
    }
   },
   "source": [
    "# Creazione ambiente great_expectations \n",
    "\n",
    "great_expectations puó essere installato direttamente da pip\n",
    "(```pip install great-expectations```).\n",
    "\n",
    "Per creare una suite di tests é necessario inizializzare un progetto facendo girare, da linea di comando,\n",
    "```great_expectations init```\n",
    "\n",
    "Questo comando crea una serie di cartelle nelle quali verranno salvati tutti i test creati e la documentazione HTML.\n",
    "\n"
   ]
  },
  {
   "cell_type": "code",
   "execution_count": null,
   "id": "c92a48bf",
   "metadata": {
    "slideshow": {
     "slide_type": "fragment"
    }
   },
   "outputs": [],
   "source": [
    "import great_expectations as ge\n",
    "\n",
    "data_context = ge.data_context.DataContext()\n",
    "suite = data_context.create_expectation_suite(\"prova1\",overwrite_existing=True,)"
   ]
  },
  {
   "cell_type": "code",
   "execution_count": null,
   "id": "32656eb7",
   "metadata": {
    "slideshow": {
     "slide_type": "fragment"
    }
   },
   "outputs": [],
   "source": [
    "suite"
   ]
  },
  {
   "cell_type": "markdown",
   "id": "0017f146",
   "metadata": {
    "slideshow": {
     "slide_type": "slide"
    }
   },
   "source": [
    "# Import di un batch di dati a partire da un pandas DataFrame"
   ]
  },
  {
   "cell_type": "code",
   "execution_count": null,
   "id": "b577e883",
   "metadata": {
    "slideshow": {
     "slide_type": "fragment"
    }
   },
   "outputs": [],
   "source": [
    "batch = ge.dataset.PandasDataset(pd.read_csv('./X_exercise.csv'), expectation_suite=suite)"
   ]
  },
  {
   "cell_type": "code",
   "execution_count": null,
   "id": "d93884aa",
   "metadata": {
    "slideshow": {
     "slide_type": "fragment"
    }
   },
   "outputs": [],
   "source": [
    "batch"
   ]
  },
  {
   "cell_type": "code",
   "execution_count": null,
   "id": "750992dc",
   "metadata": {
    "slideshow": {
     "slide_type": "fragment"
    }
   },
   "outputs": [],
   "source": [
    "# Etichetta target\n",
    "batch['FraudFound_P'].value_counts()"
   ]
  },
  {
   "cell_type": "markdown",
   "id": "c71b9552",
   "metadata": {
    "slideshow": {
     "slide_type": "slide"
    }
   },
   "source": [
    "# Creiamo una expectation per una singola colonna\n"
   ]
  },
  {
   "cell_type": "code",
   "execution_count": null,
   "id": "a2f26410",
   "metadata": {
    "slideshow": {
     "slide_type": "fragment"
    }
   },
   "outputs": [],
   "source": [
    "batch['WeekOfMonth'].unique()"
   ]
  },
  {
   "cell_type": "code",
   "execution_count": null,
   "id": "63747bb1",
   "metadata": {
    "slideshow": {
     "slide_type": "fragment"
    }
   },
   "outputs": [],
   "source": [
    "batch.expect_column_values_to_be_between('WeekOfMonth',1,5)"
   ]
  },
  {
   "cell_type": "markdown",
   "id": "725a8bb3",
   "metadata": {
    "slideshow": {
     "slide_type": "slide"
    }
   },
   "source": [
    "# Aggiungiamo altre expectations "
   ]
  },
  {
   "cell_type": "code",
   "execution_count": null,
   "id": "19e798bd",
   "metadata": {
    "slideshow": {
     "slide_type": "fragment"
    }
   },
   "outputs": [],
   "source": [
    "batch.expect_column_max_to_be_between('Year',1994,2000)"
   ]
  },
  {
   "cell_type": "code",
   "execution_count": null,
   "id": "c060b4b3",
   "metadata": {
    "slideshow": {
     "slide_type": "fragment"
    }
   },
   "outputs": [],
   "source": [
    "batch.expect_column_min_to_be_between('Age',16,20)\n",
    "batch.expect_column_min_to_be_between('Year',1990,1994)"
   ]
  },
  {
   "cell_type": "markdown",
   "id": "c4188d19",
   "metadata": {
    "slideshow": {
     "slide_type": "slide"
    }
   },
   "source": [
    "# Aggiungiamo un expectation con un elemento probabilistico\n"
   ]
  },
  {
   "cell_type": "code",
   "execution_count": null,
   "id": "c69aa713",
   "metadata": {
    "slideshow": {
     "slide_type": "fragment"
    }
   },
   "outputs": [],
   "source": [
    "batch.expect_column_values_to_be_between('Age',15,85, mostly=0.9)"
   ]
  },
  {
   "cell_type": "markdown",
   "id": "6c3a6759",
   "metadata": {
    "slideshow": {
     "slide_type": "slide"
    }
   },
   "source": [
    "# Aggiungiamo una expectation condizionale\n"
   ]
  },
  {
   "cell_type": "code",
   "execution_count": null,
   "id": "e2cd67a3",
   "metadata": {
    "slideshow": {
     "slide_type": "fragment"
    }
   },
   "outputs": [],
   "source": [
    "batch.expect_column_values_to_be_between(\n",
    "                column='Age',\n",
    "                min_value=25,\n",
    "                max_value=80,\n",
    "                condition_parser=\"pandas\",\n",
    "                row_condition='MaritalStatus==\"Married\"',\n",
    "                mostly=0.95,\n",
    "            )"
   ]
  },
  {
   "cell_type": "markdown",
   "id": "f7697094",
   "metadata": {
    "slideshow": {
     "slide_type": "slide"
    }
   },
   "source": [
    "# Salviamo le expectations definite fino ad ora all'interno della nostra suite"
   ]
  },
  {
   "cell_type": "code",
   "execution_count": null,
   "id": "e111d7b3",
   "metadata": {
    "slideshow": {
     "slide_type": "fragment"
    }
   },
   "outputs": [],
   "source": [
    "suite = batch.get_expectation_suite()\n",
    "data_context.save_expectation_suite(suite)"
   ]
  },
  {
   "cell_type": "markdown",
   "id": "3e6646c2",
   "metadata": {
    "slideshow": {
     "slide_type": "slide"
    }
   },
   "source": [
    "# Generiamo data_docs in formato HTML"
   ]
  },
  {
   "cell_type": "code",
   "execution_count": null,
   "id": "9a250e69",
   "metadata": {
    "slideshow": {
     "slide_type": "fragment"
    }
   },
   "outputs": [],
   "source": [
    "data_context.build_data_docs()"
   ]
  },
  {
   "cell_type": "markdown",
   "id": "e15f2545",
   "metadata": {
    "slideshow": {
     "slide_type": "slide"
    }
   },
   "source": [
    "# Utilizziamo la suite creata per validare un nuovo batch di dati\n",
    "\n"
   ]
  },
  {
   "cell_type": "code",
   "execution_count": null,
   "id": "0715ab01",
   "metadata": {
    "slideshow": {
     "slide_type": "fragment"
    }
   },
   "outputs": [],
   "source": [
    "import datetime\n",
    "batch_test = ge.dataset.PandasDataset(pd.read_csv('./X_holdout.csv'), expectation_suite=suite)\n",
    "run_id = datetime.datetime.utcnow().strftime(\"%Y%m%dT%H%M%S.%fZ\")\n",
    "validation_result = batch_test.validate(run_id=run_id,catch_exceptions=True)"
   ]
  },
  {
   "cell_type": "code",
   "execution_count": null,
   "id": "3acdf697",
   "metadata": {
    "slideshow": {
     "slide_type": "fragment"
    }
   },
   "outputs": [],
   "source": [
    "validation_result"
   ]
  },
  {
   "cell_type": "markdown",
   "id": "8579b149",
   "metadata": {
    "slideshow": {
     "slide_type": "slide"
    }
   },
   "source": [
    "# Proviamo a far fallire qualche expectation"
   ]
  },
  {
   "cell_type": "code",
   "execution_count": null,
   "id": "d562768b",
   "metadata": {
    "slideshow": {
     "slide_type": "fragment"
    }
   },
   "outputs": [],
   "source": [
    "X = pd.read_csv('./X_holdout.csv')\n",
    "X['Age'].iloc[np.random.choice(X.shape[0],150)]=0\n",
    "X.to_csv('./X_holdout_corrupted.csv')"
   ]
  },
  {
   "cell_type": "code",
   "execution_count": null,
   "id": "82cef2c0",
   "metadata": {
    "slideshow": {
     "slide_type": "fragment"
    }
   },
   "outputs": [],
   "source": [
    "import datetime\n",
    "batch_test = ge.dataset.PandasDataset(pd.read_csv('./X_holdout_corrupted.csv'), expectation_suite=suite)\n",
    "run_id = datetime.datetime.utcnow().strftime(\"%Y%m%dT%H%M%S.%fZ\")\n",
    "validation_result = batch_test.validate(run_id=run_id,catch_exceptions=True)\n",
    "validation_result"
   ]
  },
  {
   "cell_type": "markdown",
   "id": "42b01b60",
   "metadata": {
    "slideshow": {
     "slide_type": "slide"
    }
   },
   "source": [
    "# Generazione automatica di data tests tramite libreria di data profiling"
   ]
  },
  {
   "cell_type": "code",
   "execution_count": null,
   "id": "edd6d121",
   "metadata": {
    "slideshow": {
     "slide_type": "fragment"
    }
   },
   "outputs": [],
   "source": [
    "from structured_data_profiling.profiler import DatasetProfiler"
   ]
  },
  {
   "cell_type": "markdown",
   "id": "f471a29d",
   "metadata": {
    "slideshow": {
     "slide_type": "fragment"
    }
   },
   "source": [
    "Istanziamo la classe DatasetProfiler specificando eventuali presenze di primary_key, colonne target e attributi protetti"
   ]
  },
  {
   "cell_type": "code",
   "execution_count": null,
   "id": "ae2d276e",
   "metadata": {
    "slideshow": {
     "slide_type": "fragment"
    }
   },
   "outputs": [],
   "source": [
    "dp = DatasetProfiler('./X_exercise.csv', \n",
    "                     regression=False, \n",
    "                     primary_key='PolicyNumber',\n",
    "                     target='FraudFound_P', \n",
    "                     protected_attributes=['Sex','Age'])"
   ]
  },
  {
   "cell_type": "code",
   "execution_count": null,
   "id": "872611b5",
   "metadata": {
    "slideshow": {
     "slide_type": "slide"
    }
   },
   "outputs": [],
   "source": [
    "dp.column_types"
   ]
  },
  {
   "cell_type": "code",
   "execution_count": null,
   "id": "d2ede5a0",
   "metadata": {
    "slideshow": {
     "slide_type": "slide"
    }
   },
   "outputs": [],
   "source": [
    "dp.profile()"
   ]
  },
  {
   "cell_type": "code",
   "execution_count": null,
   "id": "b012791c",
   "metadata": {
    "slideshow": {
     "slide_type": "fragment"
    }
   },
   "outputs": [],
   "source": [
    "dp.summary()"
   ]
  },
  {
   "cell_type": "code",
   "execution_count": null,
   "id": "585ec100",
   "metadata": {
    "slideshow": {
     "slide_type": "slide"
    }
   },
   "outputs": [],
   "source": [
    "dp.ordinal_columns"
   ]
  },
  {
   "cell_type": "code",
   "execution_count": null,
   "id": "b5f22bd9",
   "metadata": {
    "slideshow": {
     "slide_type": "slide"
    }
   },
   "outputs": [],
   "source": [
    "dp.column_profiles['NumberOfSuppliments']\n"
   ]
  },
  {
   "cell_type": "code",
   "execution_count": null,
   "id": "35f471dd",
   "metadata": {
    "slideshow": {
     "slide_type": "fragment"
    }
   },
   "outputs": [],
   "source": [
    "dp.column_profiles['Make']\n",
    "\n",
    "#str(dp.reduced_data_sample['Month'].iloc[10])\n"
   ]
  },
  {
   "cell_type": "markdown",
   "id": "55bb8054",
   "metadata": {
    "slideshow": {
     "slide_type": "slide"
    }
   },
   "source": [
    "# Generiamo una suite di expectations a partire dai test costruiti"
   ]
  },
  {
   "cell_type": "code",
   "execution_count": null,
   "id": "82a9e05f",
   "metadata": {
    "slideshow": {
     "slide_type": "fragment"
    }
   },
   "outputs": [],
   "source": [
    "dp.generate_expectations()"
   ]
  },
  {
   "cell_type": "markdown",
   "id": "eb2f54e3",
   "metadata": {
    "slideshow": {
     "slide_type": "slide"
    }
   },
   "source": [
    "# Analizziamo i segmenti di dati identificati dal profiler "
   ]
  },
  {
   "cell_type": "code",
   "execution_count": null,
   "id": "10f3d702",
   "metadata": {
    "slideshow": {
     "slide_type": "fragment"
    }
   },
   "outputs": [],
   "source": [
    "dp.data_slices"
   ]
  },
  {
   "cell_type": "code",
   "execution_count": null,
   "id": "978cc7bf",
   "metadata": {
    "slideshow": {
     "slide_type": "fragment"
    }
   },
   "outputs": [],
   "source": [
    "# Analizziamo le data slices trovate dal profiler\n",
    "\n",
    "for i in dp.data_slices:\n",
    "    X_i = dp.data_sample.query(i)\n",
    "    label_count = X_i['FraudFound_P'].value_counts().values\n",
    "    fraction = 0\n",
    "    if label_count.shape[0]>1:\n",
    "        fraction = label_count[1]/label_count[0]\n",
    "    print(i, ', Positive_label_fraction: ', fraction)    "
   ]
  },
  {
   "cell_type": "code",
   "execution_count": null,
   "id": "c79fe0bf",
   "metadata": {},
   "outputs": [],
   "source": []
  }
 ],
 "metadata": {
  "celltoolbar": "Slideshow",
  "kernelspec": {
   "display_name": "Python 3 (ipykernel)",
   "language": "python",
   "name": "python3"
  },
  "language_info": {
   "codemirror_mode": {
    "name": "ipython",
    "version": 3
   },
   "file_extension": ".py",
   "mimetype": "text/x-python",
   "name": "python",
   "nbconvert_exporter": "python",
   "pygments_lexer": "ipython3",
   "version": "3.10.6"
  }
 },
 "nbformat": 4,
 "nbformat_minor": 5
}
