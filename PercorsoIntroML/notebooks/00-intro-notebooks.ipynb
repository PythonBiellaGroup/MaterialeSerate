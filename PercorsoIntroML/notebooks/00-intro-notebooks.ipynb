{
 "cells": [
  {
   "cell_type": "markdown",
   "id": "12dbdacc-79d4-44f4-ad77-1f7b33ed0620",
   "metadata": {},
   "source": [
    "# Introduzione ai notebooks\n",
    "\n",
    "Un notebook è un file json che viene letto e interpretato da [Jupyter](https://jupyter.org/).\n",
    "\n",
    "Ci permette di eseguire codice in modo interattivo e di documentare gli esperimenti."
   ]
  },
  {
   "cell_type": "markdown",
   "id": "ac9a42d7-5c5f-4225-bdb6-150f14a31b7f",
   "metadata": {},
   "source": [
    "# Concetti chiave"
   ]
  },
  {
   "cell_type": "markdown",
   "id": "19591149-233f-4726-adc0-6fd7c2a576b4",
   "metadata": {},
   "source": [
    "## Cells\n",
    "Sono i blocchi elementari dei notebooks.\n",
    "\n",
    "Possono essere in:\n",
    "- *edit mode*: quando si sta modificando il contenuto (bordo blu + cursore visibile)\n",
    "- *command mode*: quando la cella è selezionata ma non si sta modificando il contenuto (non vediamo il cursore e non ha bordo blu)"
   ]
  },
  {
   "cell_type": "markdown",
   "id": "6b7170a4-2ff7-45e5-8e6f-ae535af4d0f2",
   "metadata": {},
   "source": [
    "### Markdown cells"
   ]
  },
  {
   "cell_type": "markdown",
   "id": "c322c60f-3cc2-45d4-bccf-b4e756078d36",
   "metadata": {},
   "source": [
    "This is some plain text that forms a paragraph. Add emphasis via **bold** and __bold__, or *italic* and _italic_. \n",
    "\n",
    "Paragraphs must be separated by an empty line. \n",
    "\n",
    "* Sometimes we want to include lists. \n",
    "* Which can be bulleted using asterisks. \n",
    "\n",
    "1. Lists can also be numbered. \n",
    "2. If we want an ordered list.\n",
    "\n",
    "[It is possible to include hyperlinks](https://www.example.com)\n",
    "\n",
    "Inline code uses single backticks: `foo()`, and code blocks use triple backticks: \n",
    "```\n",
    "bar()\n",
    "``` \n",
    "Or can be indented by 4 spaces: \n",
    "\n",
    "    foo()\n",
    "    \n",
    "And finally, adding images is easy: ![Alt text](https://via.placeholder.com/150)"
   ]
  },
  {
   "cell_type": "code",
   "execution_count": null,
   "id": "68fd4b85-9a87-4927-8d28-814960c187ae",
   "metadata": {},
   "outputs": [],
   "source": []
  },
  {
   "cell_type": "markdown",
   "id": "0032b29d-6124-456b-9a17-fd129ae7e37c",
   "metadata": {},
   "source": [
    "### Code cells\n",
    "Eseguibili con `Ctrl + Enter` oppure `Shift + Enter`"
   ]
  },
  {
   "cell_type": "code",
   "execution_count": 1,
   "id": "2118cc45-35d9-4dd6-a708-3b1bc334db46",
   "metadata": {},
   "outputs": [
    {
     "name": "stdout",
     "output_type": "stream",
     "text": [
      "Hello World!\n"
     ]
    }
   ],
   "source": [
    "print('Hello World!')"
   ]
  },
  {
   "cell_type": "code",
   "execution_count": null,
   "id": "949ebc6e-1a12-48f0-bb0e-66114bd815d9",
   "metadata": {},
   "outputs": [],
   "source": []
  },
  {
   "cell_type": "code",
   "execution_count": null,
   "id": "a536304d-5251-40dc-8f8c-271267a10728",
   "metadata": {},
   "outputs": [],
   "source": []
  },
  {
   "cell_type": "markdown",
   "id": "2d0e0336-3b5a-466d-a82d-969d909484bd",
   "metadata": {
    "tags": []
   },
   "source": [
    "## Kernels\n",
    "Dietro le quinte ogni notebook esegue un kernel. Nel nostro caso un kernel è un processo interattivo python.\n",
    "\n",
    "Quando viene eseguita una code cell:\n",
    "1. il codice viene inviato al kernel\n",
    "2. il kernel esegue il codice\n",
    "3. il risultato viene restituito al notebook in modo da essere visualizzato nell'output della cella\n",
    "\n",
    "Lo stato del kernel è persistente per l'intero documento (finchè il kernel non viene riavviato o spento)."
   ]
  },
  {
   "cell_type": "code",
   "execution_count": null,
   "id": "5e0badfd-d666-4dac-a1d3-7bfa7cae79b6",
   "metadata": {},
   "outputs": [],
   "source": []
  },
  {
   "cell_type": "code",
   "execution_count": null,
   "id": "e27982e3-27fb-4925-a2fa-0d4fadc7b376",
   "metadata": {},
   "outputs": [],
   "source": []
  },
  {
   "cell_type": "markdown",
   "id": "a8fb4b5c-21ad-4b55-9156-896553cb32cc",
   "metadata": {},
   "source": [
    "# Shortcuts"
   ]
  },
  {
   "cell_type": "markdown",
   "id": "40256e98-8620-4cd8-ae47-f490959a9a25",
   "metadata": {},
   "source": [
    "- Passaggio fra `edit mode` e `command mode` utilizzando `Enter` e `Esc`\n",
    "\n",
    "- Quando si è in `command mode` è possibile:\n",
    "   - Spostarsi fra le celle utilizzando i tasti \"freccia\" **🠕** e **🠗** \n",
    "   - Inserire nuove celle sopra o sotto quella attiva premendo rispettivamente  **A** o **B**.\n",
    "   - Trasformare una cella in una *Markdown Cell* premendo **M**\n",
    "   - Trasformare una cella in una *Code Cell* premendo **Y**\n",
    "   - Eliminare una cella premendo **D + D** (2 volte **D**) will delete the active cell.\n",
    "   - Copiare una cella premendo **C**\n",
    "   - Incollare una cella premendo **V**"
   ]
  },
  {
   "cell_type": "code",
   "execution_count": null,
   "id": "e961d878-918c-40ff-b7c9-13bfa6037139",
   "metadata": {},
   "outputs": [],
   "source": []
  },
  {
   "cell_type": "markdown",
   "id": "36351c55-729f-4567-9801-5ede455ef3fd",
   "metadata": {},
   "source": [
    "# Magic commands\n",
    "Sono comandi speciali che possono essere eseguiti all'interno di una code cell.\n",
    "\n",
    "Alcuni esempi: \n",
    "- **!** system call: esegue un comando nel sistema che ospita il kernel\n",
    "- **%%writefile**: scrive il contenuto della cella su file\n",
    "- **%run**: esegue un file\n",
    "- **%%time**: stampa il tempo di esecuzione\n",
    "\n",
    "La lista completa è disponibile nella [documentazione ufficiale](https://ipython.readthedocs.io/en/stable/interactive/magics.html)."
   ]
  },
  {
   "cell_type": "code",
   "execution_count": 2,
   "id": "89c443c7-bc2a-4d1b-989a-47e54cc624bb",
   "metadata": {},
   "outputs": [
    {
     "name": "stdout",
     "output_type": "stream",
     "text": [
      "/d/source/introml-scikitlearn\n"
     ]
    }
   ],
   "source": [
    "!pwd"
   ]
  },
  {
   "cell_type": "code",
   "execution_count": 3,
   "id": "2c2938f7-b0de-4615-b65a-1aceeea49b54",
   "metadata": {},
   "outputs": [
    {
     "name": "stdout",
     "output_type": "stream",
     "text": [
      "Writing ./notebooks/hello_world.py\n"
     ]
    }
   ],
   "source": [
    "%%writefile ./notebooks/hello_world.py\n",
    "\n",
    "print(\"hello world\")"
   ]
  },
  {
   "cell_type": "code",
   "execution_count": 4,
   "id": "87fbc7e4-c26e-4bfc-9a85-1839b7a9b96f",
   "metadata": {},
   "outputs": [
    {
     "name": "stdout",
     "output_type": "stream",
     "text": [
      "hello world\n"
     ]
    }
   ],
   "source": [
    "%run hello_world"
   ]
  },
  {
   "cell_type": "code",
   "execution_count": 5,
   "id": "7311d9de-5c09-471e-8f40-4c81a2954658",
   "metadata": {},
   "outputs": [
    {
     "name": "stdout",
     "output_type": "stream",
     "text": [
      "Wall time: 2.01 s\n"
     ]
    }
   ],
   "source": [
    "%%time\n",
    "\n",
    "import time\n",
    "time.sleep(2)"
   ]
  },
  {
   "cell_type": "code",
   "execution_count": null,
   "id": "16b51874-1196-4d4e-875c-dcf6175cec47",
   "metadata": {},
   "outputs": [],
   "source": []
  }
 ],
 "metadata": {
  "kernelspec": {
   "display_name": "Python [conda env:py39_pbg]",
   "language": "python",
   "name": "conda-env-py39_pbg-py"
  },
  "language_info": {
   "codemirror_mode": {
    "name": "ipython",
    "version": 3
   },
   "file_extension": ".py",
   "mimetype": "text/x-python",
   "name": "python",
   "nbconvert_exporter": "python",
   "pygments_lexer": "ipython3",
   "version": "3.9.7"
  }
 },
 "nbformat": 4,
 "nbformat_minor": 5
}
