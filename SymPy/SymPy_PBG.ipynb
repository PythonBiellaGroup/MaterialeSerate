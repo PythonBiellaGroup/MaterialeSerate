{
  "nbformat": 4,
  "nbformat_minor": 0,
  "metadata": {
    "colab": {
      "provenance": []
    },
    "kernelspec": {
      "name": "python3",
      "display_name": "Python 3"
    },
    "language_info": {
      "name": "python"
    }
  },
  "cells": [
    {
      "cell_type": "markdown",
      "source": [
        "# SymPy - Introduzione al calcolo simbolico\n",
        "## Al professore non racconterai,\n",
        "## che fai matematica con SymPy\n"
      ],
      "metadata": {
        "id": "4qrrKeLuxXST"
      }
    },
    {
      "cell_type": "markdown",
      "source": [
        "by Python Biella Group"
      ],
      "metadata": {
        "id": "wVj2l-apkMHx"
      }
    },
    {
      "cell_type": "markdown",
      "source": [
        "# Disclaimer"
      ],
      "metadata": {
        "id": "eCrFqtWmi2BA"
      }
    },
    {
      "cell_type": "markdown",
      "source": [
        "# Introduzione a SymPy\n",
        "\n",
        "## Cos'è SymPy?\n",
        "- **SymPy (Symbolic Python)** è una libreria Python per la matematica simbolica. Free open-source, leggera, scritta completamente in Python\n",
        "https://www.sympy.org/en/index.html\n",
        "- Documentazione: https://docs.sympy.org/latest/index.html\n",
        "- Obiettivo: diventare un sistema di algebra computazionale completo (CAS) mantenendo il codice il più semplice possibile, in modo da essere comprensibile e facilmente estendibile.\n",
        "- Sperimentazione live: https://live.sympy.org/ ; https://gamma.sympy.org/\n",
        "\n",
        "- Permette di eseguire calcoli matematici simbolici (algebra, derivazione, integrazione, risoluzione di equazioni) senza bisogno di approssimazioni numeriche.\n",
        "- A differenza di librerie numeriche come `math`, **SymPy** lavora con espressioni simboliche che possono essere manipolate simbolicamente e semplificate.\n",
        "\n",
        "\n",
        "\n",
        "\n",
        "\n",
        "## Perché Usare SymPy?\n",
        "- **Manipolazione simbolica**: Risolvere equazioni, semplificare espressioni, lavorare con polinomi e funzioni simboliche.\n",
        "- **Calcoli esatti**: Fornisce risultati simbolici esatti, senza approssimazioni numeriche.\n",
        "- **Versatilità**: Può essere utilizzato in una vasta gamma di applicazioni scientifiche, ingegneristiche e matematiche.\n"
      ],
      "metadata": {
        "id": "yoLLWboJZRU4"
      }
    },
    {
      "cell_type": "markdown",
      "source": [
        "# Differenza tra Matematica Classica (Modulo `math`) e Matematica Simbolica (Modulo `sympy`)\n",
        "\n",
        "## 1. Definizione:\n",
        "- **Matematica Classica (Modulo `math`)**: Si basa su operazioni numeriche. Le funzioni del modulo `math` restituiscono **valori numerici** dopo aver effettuato calcoli su numeri concreti.\n",
        "- **Matematica Simbolica (Modulo `sympy`)**: Opera su espressioni algebriche **simboliche**, come variabili e polinomi, e fornisce risultati sotto forma di espressioni simboliche che possono essere manipolate algebricamente.\n",
        "\n",
        "## 2. Caratteristiche:\n",
        "- **Modulo `math`**:\n",
        "    - Calcoli **numerici** e risultati immediati.\n",
        "    - Funziona solo con numeri reali e operazioni numeriche.\n",
        "    - Prestazioni più elevate per calcoli puramente numerici.\n",
        "  \n",
        "- **Modulo `sympy`**:\n",
        "    - Permette manipolazioni **algebriche simboliche** come fattorizzazione, derivazione, integrazione.\n",
        "    - Lavora con espressioni simboliche e permette di operare con variabili non definite.\n",
        "    - Risultati esatti e **senza approssimazioni** finché non vengono richiesti calcoli numerici.\n",
        "\n",
        "## 3. Vantaggi e Svantaggi:\n",
        "- **`math`**:\n",
        "    - **Vantaggio**: Adatto a calcoli veloci e numerici, ideale per problemi con numeri definiti.\n",
        "    - **Svantaggio**: Non supporta manipolazioni simboliche o algebra.\n",
        "  \n",
        "- **`sympy`**:\n",
        "    - **Vantaggio**: Permette di lavorare con espressioni generali, risolvere equazioni, fare algebra simbolica.\n",
        "    - **Svantaggio**: Più lento rispetto a `math` per calcoli puramente numerici, richiede più risorse computazionali.\n",
        "\n"
      ],
      "metadata": {
        "id": "f3oI0CjcDgK6"
      }
    },
    {
      "cell_type": "markdown",
      "source": [
        "# Sympy pratico"
      ],
      "metadata": {
        "id": "FxDaFcgdnwF9"
      }
    },
    {
      "cell_type": "code",
      "source": [
        "# Permette output multipli da una sola cella\n",
        "from IPython.core.interactiveshell import InteractiveShell\n",
        "InteractiveShell.ast_node_interactivity = \"all\"\n",
        "# Permette di inserire MD come output; ad esempio, linea separatrice nelle celle di output\n",
        "from IPython.display import Markdown, display"
      ],
      "metadata": {
        "id": "_NiKw26xG22A"
      },
      "execution_count": null,
      "outputs": []
    },
    {
      "cell_type": "code",
      "source": [
        "import math\n",
        "math.sqrt(2)\n",
        "math.sqrt(2)*math.sqrt(2) #2.0000000000000004 aaaaaaaaaaaargh ??????"
      ],
      "metadata": {
        "id": "Twiq7CBjflkA"
      },
      "execution_count": null,
      "outputs": []
    },
    {
      "cell_type": "code",
      "source": [
        "math.sin(math.radians(30)) # 0.49999999999999994 aaaaaaaaaaaargh ?????"
      ],
      "metadata": {
        "id": "DGiaNT1tDxny"
      },
      "execution_count": null,
      "outputs": []
    },
    {
      "cell_type": "code",
      "source": [
        "1/3"
      ],
      "metadata": {
        "id": "xs3EOfxeogp6"
      },
      "execution_count": null,
      "outputs": []
    },
    {
      "cell_type": "markdown",
      "source": [
        "I computer rappresentano i numeri reali (decimali) utilizzando un formato binario chiamato virgola mobile (floating-point).\n",
        "\n",
        "Questo formato è limitato nella precisione e non può rappresentare esattamente alcuni numeri decimali, come radice quadrata di 2, che sono numeri irrazionali con un'espansione infinita e non periodica in decimale.\n",
        "\n",
        "Le piccole differenze che si osservano sono un effetto collaterale di come i computer gestiscono i numeri reali. Non possono rappresentare esattamente tutti i numeri decimali, quindi avvengono piccole imprecisioni.\n",
        "\n",
        "Queste imprecisioni sono talmente piccole che non influenzano la maggior parte delle applicazioni, ma sono visibili quando si effettuano calcoli che coinvolgono numeri irrazionali."
      ],
      "metadata": {
        "id": "kuR0Kjkjmc1R"
      }
    },
    {
      "cell_type": "code",
      "source": [
        "# Importiamo la libreria che aiuta gli studenti :-)\n",
        "import sympy as sym\n",
        "# Impostazione della visualizzazione \"figa\" (LaTeX)\n",
        "sym.init_printing(pretty_print=True)\n",
        "# Versione su colab\n",
        "sym.__version__"
      ],
      "metadata": {
        "id": "9N-BS_PtAky2"
      },
      "execution_count": null,
      "outputs": []
    },
    {
      "cell_type": "code",
      "source": [
        "display(Markdown('Radice di due'))\n",
        "sym.Pow(2, 1/2)\n",
        "display(Markdown('Le prime 100 cifre'))\n",
        "sym.N(sym.Pow(2, 1/2), 100)\n",
        "display(Markdown('Radice di due alla seconda... quanto fa?'))\n",
        "sym.Pow(2, 1/2) * sym.Pow(2, 1/2)\n",
        "sym.Pow(2, 1/2) ** 2\n",
        "display(Markdown('---'))\n",
        "alfa = sym.rad(30)\n",
        "display(Markdown(f'Rappresentazione di un angolo di 30 gradi: {alfa}'))\n",
        "alfa\n",
        "display(Markdown(f'Seno di 30 gradi: {sym.sin(alfa)}'))\n",
        "display(Markdown('---'))\n",
        "display(Markdown(f'Un terzo rimane un terzo: {sym.Rational(1, 3)}'))\n",
        "display(Markdown('Le prime 100 cifre'))\n",
        "sym.N(sym.Rational(1, 3),100)"
      ],
      "metadata": {
        "id": "8MS2EdzpgS9A"
      },
      "execution_count": null,
      "outputs": []
    },
    {
      "cell_type": "markdown",
      "source": [
        "SymPy affronta questo problema in modo diverso rispetto ai numeri in virgola mobile: utilizza calcolo simbolico, anziché numerico. In pratica, quando si lavora con SymPy, i numeri e le operazioni non vengono immediatamente approssimati, ma vengono trattati come simboli algebrici, il che consente di evitare le imprecisioni derivanti dalla rappresentazione numerica.\n",
        "\n",
        "SymPy usa la aritmetica simbolica per manipolare e semplificare espressioni o qualsiasi altra operazione algebrica (compresi gli oggetti simbolici come radice di 2).\n",
        "\n",
        "Quando infine SymPy converte un risultato simbolico in un numero numerico (ad esempio con il comando evalf()), può essere configurato per controllare la precisione desiderata. Ad esempio, puoi specificare quanti decimali vuoi ottenere, riducendo l'errore di approssimazione."
      ],
      "metadata": {
        "id": "qjkED-pVnMU9"
      }
    },
    {
      "cell_type": "code",
      "source": [
        "# Definire variabili simboliche\n",
        "x = sym.symbols('x')\n",
        "a, b, c = sym.symbols('a b c')\n",
        "x, a, b, c\n",
        "type(x)"
      ],
      "metadata": {
        "id": "ny_2K3tpNF0r"
      },
      "execution_count": null,
      "outputs": []
    },
    {
      "cell_type": "code",
      "source": [
        "x + 1/2\n",
        "x + sym.Rational(1,2)"
      ],
      "metadata": {
        "id": "45Yw_2oXhGlF"
      },
      "execution_count": null,
      "outputs": []
    },
    {
      "cell_type": "code",
      "source": [
        "# Altro esempio: radice quadrata di 8\n",
        "math.sqrt(8)\n",
        "# Con SymPy il risultato è \"matematico\"\n",
        "sym.sqrt(8)"
      ],
      "metadata": {
        "id": "2gfYq-7VQR10"
      },
      "execution_count": null,
      "outputs": []
    },
    {
      "cell_type": "code",
      "source": [
        "# Ci sono tutti gli \"amici\" :)\n",
        "(sym.pi, sym.E, sym.oo)"
      ],
      "metadata": {
        "id": "-iZogmeRhZhR"
      },
      "execution_count": null,
      "outputs": []
    },
    {
      "cell_type": "code",
      "source": [
        "sym.pi\n",
        "display(Markdown('Le prime 100 cifre di p greco sono:'))\n",
        "sym.N(sym.pi, 100)\n",
        "display(Markdown('in altro modo'))\n",
        "sym.pi.evalf(100)"
      ],
      "metadata": {
        "id": "jLhSQA1qiA3Y"
      },
      "execution_count": null,
      "outputs": []
    },
    {
      "cell_type": "markdown",
      "source": [
        "# Algebra: monomi, polinomi, operazioni, semplificazioni"
      ],
      "metadata": {
        "id": "4asrMACPFhag"
      }
    },
    {
      "cell_type": "code",
      "source": [
        "# Definire le due espressioni\n",
        "expr1 = x**2 + 3*x + 5\n",
        "expr2 = 2*x**2 - x - 4\n",
        "expr1\n",
        "expr2"
      ],
      "metadata": {
        "id": "EkgYdP0QFy1x"
      },
      "execution_count": null,
      "outputs": []
    },
    {
      "cell_type": "code",
      "source": [
        "# Per assegnare un valore\n",
        "expr1.subs(x, 2)"
      ],
      "metadata": {
        "id": "vyYxsWxEP275"
      },
      "execution_count": null,
      "outputs": []
    },
    {
      "cell_type": "code",
      "source": [
        "# Sommare le espressioni\n",
        "sum = expr1 + expr2\n",
        "sum\n",
        "\n",
        "# La somma è già semplificata...\n",
        "result = sym.simplify(sum)\n",
        "result"
      ],
      "metadata": {
        "id": "2tQZJV3QGUSY"
      },
      "execution_count": null,
      "outputs": []
    },
    {
      "cell_type": "code",
      "source": [
        "polinomio1 = 3*x**3 - 2*x + 1\n",
        "polinomio2 = x**2 + 5*x - 4\n",
        "# Moltiplicare i polinomi\n",
        "prodotto = polinomio1 * polinomio2\n",
        "prodotto\n",
        "display(Markdown('---'))\n",
        "# Semplificare\n",
        "risultato = sym.expand(prodotto)\n",
        "risultato\n"
      ],
      "metadata": {
        "id": "A6AYFLDiLRYL"
      },
      "execution_count": null,
      "outputs": []
    },
    {
      "cell_type": "code",
      "source": [
        "# Genera polinomi di grado n\n",
        "import random\n",
        "\n",
        "def genera_polinomio(n):\n",
        "    # Definisce la variabile simbolica\n",
        "    x = sym.symbols('x')\n",
        "\n",
        "    # Crea un polinomio casuale di grado n\n",
        "    polinomio = 0\n",
        "    for i in range(n + 1):\n",
        "        coefficiente = random.randint(-10, 10)  # Coefficiente casuale tra -10 e 10\n",
        "        polinomio += coefficiente * x**i\n",
        "\n",
        "    return polinomio\n",
        "\n",
        "f = genera_polinomio(5)\n",
        "f\n",
        "sym.factor(f)"
      ],
      "metadata": {
        "id": "bw9Q08a0XC5U"
      },
      "execution_count": null,
      "outputs": []
    },
    {
      "cell_type": "code",
      "source": [
        "def genera_polinomio_fattorizzabile(n):\n",
        "    # Definisce la variabile simbolica\n",
        "    x = sym.symbols('x')\n",
        "    # Lista per tenere i fattori\n",
        "    fattori = []\n",
        "    # Crea fattori di primo grado con coefficienti casuali tra -9 e 9\n",
        "    for i in range(n):\n",
        "        # Creiamo un fattore di primo grado: (ax + b)\n",
        "        a = random.randint(1, 9)  # Coefficiente del termine lineare, positivo\n",
        "        b = random.randint(-9, 9)  # Coefficiente del termine costante\n",
        "        fattori.append(a * x + b)\n",
        "    # Il polinomio è il prodotto dei fattori\n",
        "    polinomio = fattori[0]\n",
        "    for fattore in fattori[1:]:\n",
        "        polinomio *= fattore\n",
        "\n",
        "    return sym.expand(polinomio)\n",
        "\n",
        "f = genera_polinomio_fattorizzabile(5)\n",
        "f\n",
        "sym.factor(f)"
      ],
      "metadata": {
        "id": "1_NmSCFKX0yN"
      },
      "execution_count": null,
      "outputs": []
    },
    {
      "cell_type": "markdown",
      "source": [
        "# Scomposizione in fattori e prodotti notevoli"
      ],
      "metadata": {
        "id": "iKuz4wrmMSa7"
      }
    },
    {
      "cell_type": "code",
      "source": [
        "espressione_cubo = (x + 1)**3\n",
        "espressione_cubo\n",
        "display(Markdown('---'))\n",
        "# Espandere l'espressione\n",
        "espanso_cubo = sym.expand(espressione_cubo)\n",
        "espanso_cubo"
      ],
      "metadata": {
        "id": "9T3AvZvxMqaC"
      },
      "execution_count": null,
      "outputs": []
    },
    {
      "cell_type": "code",
      "source": [
        "polinomio_complesso = 2*x**3 + 4*x**2 - 6*x\n",
        "polinomio_complesso\n",
        "display(Markdown('---'))\n",
        "# Fattorizzazione\n",
        "fattorizzato_complesso = sym.factor(polinomio_complesso)\n",
        "fattorizzato_complesso"
      ],
      "metadata": {
        "id": "ATa3u4UnMWEy"
      },
      "execution_count": null,
      "outputs": []
    },
    {
      "cell_type": "code",
      "source": [
        "polinomio1 = x**3 - 2*x**2 + 3*x - 4\n",
        "polinomio2 = x - 1\n",
        "polinomio1, polinomio2\n",
        "display(Markdown('---'))\n",
        "# Divisione dei polinomi\n",
        "quoziente, resto = sym.div(polinomio1, polinomio2)\n",
        "quoziente\n",
        "resto"
      ],
      "metadata": {
        "id": "6q97UQKdNxnE"
      },
      "execution_count": null,
      "outputs": []
    },
    {
      "cell_type": "code",
      "source": [
        "polinomio1 = x**2 - 1\n",
        "polinomio2 = x - 1\n",
        "polinomio1, polinomio2\n",
        "display(Markdown('---'))\n",
        "# Divisione dei polinomi\n",
        "quoziente, resto = sym.div(polinomio1, polinomio2)\n",
        "quoziente\n",
        "resto"
      ],
      "metadata": {
        "id": "GklokOU3xM07"
      },
      "execution_count": null,
      "outputs": []
    },
    {
      "cell_type": "markdown",
      "source": [
        "# MCD e mcm"
      ],
      "metadata": {
        "id": "6EdBZ1MIPH4U"
      }
    },
    {
      "cell_type": "code",
      "source": [
        "f = 4*x**2 - 1\n",
        "g = 8*x**3 + 1\n",
        "f\n",
        "#Scomposizione in fattori\n",
        "sym.factor(f)\n",
        "display(Markdown('---'))\n",
        "g\n",
        "sym.factor(g)\n"
      ],
      "metadata": {
        "id": "lesXAaVbOji0"
      },
      "execution_count": null,
      "outputs": []
    },
    {
      "cell_type": "code",
      "source": [
        "# Massimo Comun Denominatore\n",
        "sym.gcd(f, g)"
      ],
      "metadata": {
        "id": "tUqpUgPCQ0I1"
      },
      "execution_count": null,
      "outputs": []
    },
    {
      "cell_type": "code",
      "source": [
        "# minimo comune multiplo\n",
        "sym.lcm(f, g)\n",
        "sym.factor(sym.lcm(f, g))\n"
      ],
      "metadata": {
        "id": "d1CI3-0GPT89"
      },
      "execution_count": null,
      "outputs": []
    },
    {
      "cell_type": "markdown",
      "source": [
        "# Frazioni algebriche"
      ],
      "metadata": {
        "id": "1WMlxn7_RWdO"
      }
    },
    {
      "cell_type": "code",
      "source": [
        "# Definire la frazione algebrica\n",
        "numeratore = x**2 - 4\n",
        "denominatore = x**2 + 2*x - 8\n",
        "frazione = numeratore / denominatore\n",
        "frazione"
      ],
      "metadata": {
        "id": "kevkCTW1RZj9"
      },
      "execution_count": null,
      "outputs": []
    },
    {
      "cell_type": "code",
      "source": [
        "sym.factor(numeratore)\n",
        "sym.factor(denominatore)"
      ],
      "metadata": {
        "id": "SwAo-vXoSK4u"
      },
      "execution_count": null,
      "outputs": []
    },
    {
      "cell_type": "code",
      "source": [
        "# Semplificare la frazione\n",
        "# simplify() funzione più generalista, che cerca di semplificare un'espressione in modo più ampio\n",
        "sym.simplify(frazione)"
      ],
      "metadata": {
        "id": "Jer4G13vRuHG"
      },
      "execution_count": null,
      "outputs": []
    },
    {
      "cell_type": "code",
      "source": [
        "# Rimuove i fattori comuni tra numeratore e denominatore\n",
        "# cancel() è più specializzata per le frazioni e si concentra esclusivamente sulla rimozione dei fattori comuni tra numeratore e denominatore.\n",
        "sym.cancel(frazione)"
      ],
      "metadata": {
        "id": "T483I78MR4w9"
      },
      "execution_count": null,
      "outputs": []
    },
    {
      "cell_type": "markdown",
      "source": [
        "# Equazioni"
      ],
      "metadata": {
        "id": "lfufbBkcaiZF"
      }
    },
    {
      "cell_type": "code",
      "source": [
        "equazione = sym.Eq(3*x - 6, 0)\n",
        "equazione\n",
        "type(equazione)\n",
        "equazione.lhs\n",
        "equazione.rhs\n"
      ],
      "metadata": {
        "id": "IxJkqv2walMj"
      },
      "execution_count": null,
      "outputs": []
    },
    {
      "cell_type": "code",
      "source": [
        "sym.simplify(equazione)\n",
        "soluzioni = sym.solve(equazione,x)\n",
        "soluzioni"
      ],
      "metadata": {
        "id": "zUvcoIMygr6P"
      },
      "execution_count": null,
      "outputs": []
    },
    {
      "cell_type": "markdown",
      "source": [
        "Equazione frazionaria"
      ],
      "metadata": {
        "id": "l1yBQFomeU7l"
      }
    },
    {
      "cell_type": "code",
      "source": [
        "equazione = sym.Eq(1/x + 2, 4)\n",
        "equazione\n",
        "soluzioni = sym.solve(equazione,x)\n",
        "soluzioni"
      ],
      "metadata": {
        "id": "nrcuTA41eVnV"
      },
      "execution_count": null,
      "outputs": []
    },
    {
      "cell_type": "code",
      "source": [
        "# I passaggi sono da costruire a mano\n",
        "equazione_semplificata = sym.Eq(equazione.lhs - equazione.rhs, 0)\n",
        "equazione_semplificata\n",
        "equazione_semplificata = sym.Eq(sym.together(equazione.lhs - equazione.rhs), 0)\n",
        "equazione_semplificata\n",
        "sym.simplify(equazione_semplificata)\n",
        "soluzioni = sym.solve(equazione_semplificata,x)\n",
        "soluzioni"
      ],
      "metadata": {
        "id": "89NZrWf7iKiQ"
      },
      "execution_count": null,
      "outputs": []
    },
    {
      "cell_type": "code",
      "source": [
        "equazione = sym.Eq(x * (6+x - 4), 8*x)\n",
        "equazione\n",
        "sym.simplify(equazione)\n",
        "soluzioni = sym.solve(equazione,x)\n",
        "soluzioni"
      ],
      "metadata": {
        "id": "4v5CQrAed4rt"
      },
      "execution_count": null,
      "outputs": []
    },
    {
      "cell_type": "markdown",
      "source": [
        "Altri esempi"
      ],
      "metadata": {
        "id": "UbDDzh2XiWZu"
      }
    },
    {
      "cell_type": "code",
      "source": [
        "equazione = sym.Eq(x**4 + 3*x**2 - 4, 0)\n",
        "equazione\n",
        "sym.simplify(equazione)\n",
        "soluzioni = sym.solve(equazione,x)\n",
        "soluzioni"
      ],
      "metadata": {
        "id": "DLhwa3_sdD_F"
      },
      "execution_count": null,
      "outputs": []
    },
    {
      "cell_type": "code",
      "source": [
        "equazione = sym.Eq(x * ( x**2 - 2000 ), x * (x**2 - x))\n",
        "equazione\n",
        "sym.simplify(equazione)\n",
        "soluzioni = sym.solve(equazione,x)\n",
        "soluzioni"
      ],
      "metadata": {
        "id": "EWIszJq4djXl"
      },
      "execution_count": null,
      "outputs": []
    },
    {
      "cell_type": "markdown",
      "source": [
        "Equazione parametrica rispetto al parametro a"
      ],
      "metadata": {
        "id": "ouqCgViD6RbN"
      }
    },
    {
      "cell_type": "code",
      "source": [
        "equazione = sym.Eq(x * ( x**2 - a ), x * (x**2 - x))\n",
        "equazione\n",
        "sym.simplify(equazione)\n",
        "soluzioni = sym.solve(equazione,x)\n",
        "soluzioni"
      ],
      "metadata": {
        "id": "XZrc8d6A5_uh"
      },
      "execution_count": null,
      "outputs": []
    },
    {
      "cell_type": "markdown",
      "source": [
        "Equazioni esponenziali"
      ],
      "metadata": {
        "id": "k0_aVjGSdBhV"
      }
    },
    {
      "cell_type": "code",
      "source": [
        "equazione = sym.Eq(2**(x-4), 16)\n",
        "equazione\n",
        "# Symplify non è utile\n",
        "sym.simplify(equazione)\n",
        "# Risolvi l'equazione\n",
        "soluzione = sym.solve(equazione, x)\n",
        "soluzione\n"
      ],
      "metadata": {
        "id": "Fnlx6iiMivoP"
      },
      "execution_count": null,
      "outputs": []
    },
    {
      "cell_type": "code",
      "source": [
        "# Attrezzi utili\n",
        "sym.factorint(16)\n",
        "sym.log(16, 2)\n",
        "# ma i passi li devi sapere tu ..."
      ],
      "metadata": {
        "id": "PxhNIVdqjUxo"
      },
      "execution_count": null,
      "outputs": []
    },
    {
      "cell_type": "code",
      "source": [
        "# Usiamo gli attrezzi di Python...\n",
        "import random\n",
        "\n",
        "def genera_equazione_terzo_grado():\n",
        "  \"\"\"Genera un'equazione di terzo grado casuale con SymPy.\"\"\"\n",
        "  # Definisci il simbolo della variabile\n",
        "  x = sym.symbols('x')\n",
        "  # Genera coefficienti casuali per i termini di terzo, secondo, primo grado e termine noto\n",
        "  a = random.randint(-10, 10)  # Coefficiente di x^3 (assicuriamoci che non sia 0)\n",
        "  while a == 0:\n",
        "      a = random.randint(-10, 10)\n",
        "  b = random.randint(-10, 10)  # Coefficiente di x^2\n",
        "  c = random.randint(-10, 10)  # Coefficiente di x\n",
        "  d = random.randint(-10, 10)  # Termine noto\n",
        "  # Costruisci l'equazione\n",
        "  equazione = sym.Eq(a*x**3 + b*x**2 + c*x + d, 0)\n",
        "  # Restituisco l'equazione se e solo se...\n",
        "  # TODO: applicazione eventuali filtri ai risultati\n",
        "  return equazione\n",
        "\n",
        "# Genera e stampa un'equazione di terzo grado casuale\n",
        "equazione_casuale = genera_equazione_terzo_grado()\n",
        "display(Markdown(\"## Equazione di terzo grado casuale:\"))\n",
        "equazione_casuale\n",
        "\n",
        "# Risolvi l'equazione (opzionale)\n",
        "soluzioni = sym.solve(equazione_casuale, sym.symbols('x'))\n",
        "display(Markdown(\"Soluzioni dell'equazione:\"))\n",
        "soluzioni"
      ],
      "metadata": {
        "id": "0GQw71UU7Gj9"
      },
      "execution_count": null,
      "outputs": []
    },
    {
      "cell_type": "code",
      "source": [
        "equazione_casuale.lhs\n",
        "sym.factor(equazione_casuale.lhs)"
      ],
      "metadata": {
        "id": "aapV-iW88Euv"
      },
      "execution_count": null,
      "outputs": []
    },
    {
      "cell_type": "code",
      "source": [
        "# Funzione per generare un'equazione di terzo grado con radici intere minori di 20\n",
        "def genera_equazione_terzo_grado():\n",
        "    x = sym.symbols('x')\n",
        "    # Genera 3 soluzioni casuali intere nell'intervallo richiesto\n",
        "    radici = [random.randint(-20, 20) for _ in range(3)]\n",
        "    # Costruisci il polinomio a partire dalle radici\n",
        "    polinomio = 1\n",
        "    for radice in radici:\n",
        "        polinomio *= (x - radice)\n",
        "    # Espandi il polinomio per ottenere la forma standard\n",
        "    polinomio = polinomio.expand()\n",
        "    equazione = sym.Eq(polinomio, 0)\n",
        "    return equazione\n",
        "\n",
        "# Esegui la funzione per generare un'equazione\n",
        "equazione = genera_equazione_terzo_grado()\n",
        "equazione\n",
        "sym.factor(equazione.lhs)\n",
        "# Risolvi l'equazione (opzionale)\n",
        "soluzioni = sym.solve(equazione, sym.symbols('x'))\n",
        "display(Markdown(\"Soluzioni dell'equazione:\"))\n",
        "soluzioni"
      ],
      "metadata": {
        "id": "hhv30T8Ll0dk"
      },
      "execution_count": null,
      "outputs": []
    },
    {
      "cell_type": "code",
      "source": [
        "# Grado N, intervallo interi i\n",
        "def genera_equazione_grado_n(n, i):\n",
        "    x = sym.symbols('x')\n",
        "    # Genera 3 soluzioni casuali intere nell'intervallo richiesto\n",
        "    radici = [random.randint(-1 * i, i) for _ in range(n)]\n",
        "    # Costruisci il polinomio a partire dalle radici\n",
        "    polinomio = 1\n",
        "    for radice in radici:\n",
        "        polinomio *= (x - radice)\n",
        "    # Espandi il polinomio per ottenere la forma standard\n",
        "    polinomio = polinomio.expand()\n",
        "    equazione = sym.Eq(polinomio, 0)\n",
        "    return equazione"
      ],
      "metadata": {
        "id": "7DK3ycCHnKoE"
      },
      "execution_count": null,
      "outputs": []
    },
    {
      "cell_type": "code",
      "source": [
        "# Esegui la funzione per generare un'equazione\n",
        "display(Markdown(\"## Equazione di quinto grado, range risultati -10,10:\"))\n",
        "equazione = genera_equazione_grado_n(5, 10)\n",
        "equazione\n",
        "sym.factor(equazione.lhs)\n",
        "# Risolvi l'equazione (opzionale)\n",
        "soluzioni = sym.solve(equazione, sym.symbols('x'))\n",
        "display(Markdown(\"Soluzioni:\"))\n",
        "soluzioni\n",
        "display(Markdown('---'))\n",
        "# Esegui la funzione per generare un'equazione\n",
        "display(Markdown(\"## Equazione di decimo grado, range risultati -3,3:\"))\n",
        "equazione = genera_equazione_grado_n(10, 3)\n",
        "equazione\n",
        "sym.factor(equazione.lhs)\n",
        "# Risolvi l'equazione (opzionale)\n",
        "soluzioni = sym.solve(equazione, sym.symbols('x'))\n",
        "display(Markdown(\"Soluzioni:\"))\n",
        "soluzioni"
      ],
      "metadata": {
        "id": "Gm6l1HLLoBDV"
      },
      "execution_count": null,
      "outputs": []
    },
    {
      "cell_type": "markdown",
      "source": [
        "# Sistemi"
      ],
      "metadata": {
        "id": "MaRMcNmQhUyx"
      }
    },
    {
      "cell_type": "code",
      "source": [
        "# Definisci le variabili simboliche\n",
        "x, y = sym.symbols('x y')\n",
        "\n",
        "# Definisci un sistema di equazioni\n",
        "equazioni = [\n",
        "    x + y - 5,\n",
        "    x - y - 1\n",
        "]\n",
        "equazioni\n",
        "\n",
        "# Risolvi il sistema di equazioni\n",
        "soluzioni = sym.solve(equazioni, (x, y))\n",
        "soluzioni"
      ],
      "metadata": {
        "id": "DDALzUAPhXuI"
      },
      "execution_count": null,
      "outputs": []
    },
    {
      "cell_type": "code",
      "source": [
        "x, y, z = sym.symbols('x y z')\n",
        "\n",
        "eq1 = sym.Eq(x + y, 5)\n",
        "eq2 = sym.Eq(x - y, 1)\n",
        "eq3 = sym.Eq(x + y + z, 10)\n",
        "eq1\n",
        "eq2\n",
        "eq3\n",
        "soluzioni = sym.solve([eq1, eq2, eq3], (x, y, z))\n",
        "soluzioni"
      ],
      "metadata": {
        "id": "N38aT7ythuQQ"
      },
      "execution_count": null,
      "outputs": []
    },
    {
      "cell_type": "markdown",
      "source": [
        "# Disequazioni"
      ],
      "metadata": {
        "id": "Byw1ps8lBDmN"
      }
    },
    {
      "cell_type": "code",
      "source": [
        "# Definire la disequazione\n",
        "disequazione = x**2 - 4 > 0\n",
        "disequazione"
      ],
      "metadata": {
        "id": "82FLN2UOAQpI"
      },
      "execution_count": null,
      "outputs": []
    },
    {
      "cell_type": "code",
      "source": [
        "sym.simplify(disequazione)\n",
        "sym.factor(disequazione)"
      ],
      "metadata": {
        "id": "QrsIPiBUBA1W"
      },
      "execution_count": null,
      "outputs": []
    },
    {
      "cell_type": "code",
      "source": [
        "# Risolvere la disequazione\n",
        "sol = sym.solve_univariate_inequality(disequazione, x)\n",
        "sol"
      ],
      "metadata": {
        "id": "Uy73BpJlCsPe"
      },
      "execution_count": null,
      "outputs": []
    },
    {
      "cell_type": "code",
      "source": [
        "#solveset restituisce soluzioni complete in un dominio specifico\n",
        "solution_set = sym.solveset(disequazione, x, domain=sym.S.Reals)\n",
        "solution_set"
      ],
      "metadata": {
        "id": "f5bndkjEB-cX"
      },
      "execution_count": null,
      "outputs": []
    },
    {
      "cell_type": "markdown",
      "source": [
        "# Trigonometria"
      ],
      "metadata": {
        "id": "ZjRzbbKVJRop"
      }
    },
    {
      "cell_type": "code",
      "source": [
        "expr = sym.sin(x)\n",
        "expr\n",
        "expr.subs(x, 0)\n",
        "expr.subs(x, sym.rad(90))"
      ],
      "metadata": {
        "id": "MbA8OMalJVKf"
      },
      "execution_count": null,
      "outputs": []
    },
    {
      "cell_type": "code",
      "source": [
        "sym.sin(x)**2 + sym.cos(x)**2\n",
        "sym.trigsimp(sym.sin(x)**2 + sym.cos(x)**2)\n",
        "display(Markdown('---'))\n",
        "sym.sin(x)**4 - 2*sym.cos(x)**2*sym.sin(x)**2 + sym.cos(x)**4\n",
        "sym.trigsimp(sym.sin(x)**4 - 2*sym.cos(x)**2*sym.sin(x)**2 + sym.cos(x)**4)\n",
        "display(Markdown('---'))\n",
        "sym.sin(x)*sym.tan(x)/sym.sec(x)\n",
        "sym.trigsimp(sym.sin(x)*sym.tan(x)/sym.sec(x))"
      ],
      "metadata": {
        "id": "5LIHeiAJKBKQ"
      },
      "execution_count": null,
      "outputs": []
    },
    {
      "cell_type": "markdown",
      "source": [
        "# Funzioni"
      ],
      "metadata": {
        "id": "xdOgVb-hmhdc"
      }
    },
    {
      "cell_type": "code",
      "source": [
        "f = x**2 + 3*x + 2  # Funzione quadratica\n",
        "f\n",
        "sym.plotting.plot(f, title=f'Grafico di {f}', xlabel='Asse x', ylabel='Asse y')"
      ],
      "metadata": {
        "id": "uBeNWMHN9y8l"
      },
      "execution_count": null,
      "outputs": []
    },
    {
      "cell_type": "markdown",
      "source": [
        "Limiti"
      ],
      "metadata": {
        "id": "7aM2NsDrFM-I"
      }
    },
    {
      "cell_type": "code",
      "source": [
        "display(Markdown('Limite di f(x) per x che tende a infinito'))\n",
        "limite = sym.limit(f, x, sym.oo)\n",
        "limite"
      ],
      "metadata": {
        "id": "ukew7lXCE97h"
      },
      "execution_count": null,
      "outputs": []
    },
    {
      "cell_type": "code",
      "source": [
        "limite_sinistro = sym.limit(f, x, 0, dir='-')  # Limite da sinistra\n",
        "limite_sinistro\n",
        "limite_destro = sym.limit(f, x, 0, dir='+')  # Limite da destra\n",
        "limite_destro"
      ],
      "metadata": {
        "id": "_BdxpWJbFNxx"
      },
      "execution_count": null,
      "outputs": []
    },
    {
      "cell_type": "code",
      "source": [
        "f = sym.sin(x)/x\n",
        "f\n",
        "sym.plotting.plot(f, (x, -30, 30), ylim=(-0.50, 1), title=f'Grafico di {f}', xlabel='Asse x', ylabel='Asse y', line_color='red')\n",
        "display(Markdown(f'Limite di f(x) per x che tende a zero: {sym.limit(f,x,0)}'))\n",
        "display(Markdown(f'Limite di f(x) per x che tende a infinito: {sym.limit(f,x,+sym.oo)}'))"
      ],
      "metadata": {
        "id": "Pej2zEvPRSvF"
      },
      "execution_count": null,
      "outputs": []
    },
    {
      "cell_type": "markdown",
      "source": [
        "Derivate"
      ],
      "metadata": {
        "id": "mxnaAHbX-CR9"
      }
    },
    {
      "cell_type": "code",
      "source": [
        "f = x**2 + 3*x + 2  # Funzione quadratica\n",
        "f\n",
        "# Calcolare la derivata prima\n",
        "derivata = sym.diff(f, x)\n",
        "display(Markdown('Derivata'))\n",
        "derivata\n",
        "display(Markdown('Derivata seconda'))\n",
        "derivata_seconda = sym.diff(f, x,x)\n",
        "derivata_seconda"
      ],
      "metadata": {
        "id": "JOdeG5VjEXm-"
      },
      "execution_count": null,
      "outputs": []
    },
    {
      "cell_type": "markdown",
      "source": [
        "Integrali"
      ],
      "metadata": {
        "id": "ksEzbw1V-GCE"
      }
    },
    {
      "cell_type": "code",
      "source": [
        "display(Markdown('Integrale indefinito'))\n",
        "# Calcolare l'integrale indefinito\n",
        "integrale = sym.integrate(f, x)\n",
        "integrale\n",
        "display(Markdown('---'))\n",
        "integ = sym.Integral(f, x)\n",
        "integ\n",
        "integ.doit()\n"
      ],
      "metadata": {
        "id": "VAOHb2svEsX5"
      },
      "execution_count": null,
      "outputs": []
    },
    {
      "cell_type": "markdown",
      "source": [
        "Con https://gamma.sympy.org/ si possono vedere i passaggi intermedi!"
      ],
      "metadata": {
        "id": "Uky8Xl3aHKTa"
      }
    },
    {
      "cell_type": "code",
      "source": [
        "y = sym.symbols('y')\n",
        "integ = sym.Integral(sym.exp(-x**2-y**2), (x,sym.oo,sym.oo), (y,-sym.oo,sym.oo))\n",
        "integ\n",
        "integ.doit()"
      ],
      "metadata": {
        "id": "CtNNVAHvSFXz"
      },
      "execution_count": null,
      "outputs": []
    },
    {
      "cell_type": "markdown",
      "source": [
        "Punti Critici (Massimi e Minimi)"
      ],
      "metadata": {
        "id": "1NY7wrFlFjIJ"
      }
    },
    {
      "cell_type": "code",
      "source": [
        "# Trova i punti critici (dove la derivata è zero)\n",
        "display(Markdown(f'Derivata di {f} è {derivata}'))\n",
        "sol_derivata = sym.solve(derivata, x)\n",
        "display(Markdown('Punti critici:'))\n",
        "for s in sol_derivata:\n",
        "  (s, f.subs(x, s))"
      ],
      "metadata": {
        "id": "No45EUvFFk54"
      },
      "execution_count": null,
      "outputs": []
    },
    {
      "cell_type": "markdown",
      "source": [
        "Concavità e Convessità"
      ],
      "metadata": {
        "id": "_C3XMgya1DYW"
      }
    },
    {
      "cell_type": "code",
      "source": [
        "derivata_seconda = sym.diff(derivata, x)\n",
        "derivata_seconda\n",
        "display(Markdown('Il punto critico è un minimo'))"
      ],
      "metadata": {
        "id": "h9X74AWU1Ecf"
      },
      "execution_count": null,
      "outputs": []
    },
    {
      "cell_type": "markdown",
      "source": [
        "Asintoti"
      ],
      "metadata": {
        "id": "6GQC5mxW1SHe"
      }
    },
    {
      "cell_type": "code",
      "source": [
        "# Asintoto verticale: risolvere il denominatore uguale a zero\n",
        "f = 1 / (x - 2)\n",
        "#sym.plotting.plot(f)\n",
        "sym.plotting.plot(f, (x, -5, 5), ylim=(-10, 10), title=f'Grafico di {f}', xlabel='Asse x', ylabel='Asse y', line_color='blue', line_width=2)\n",
        "asintoto_verticale = sym.solve(x - 2, x)\n",
        "display(Markdown(f\"Asintoti verticali: x in {asintoto_verticale}\"))\n",
        "asintoto_orizzontale = sym.limit(f, x, sym.oo)\n",
        "display(Markdown(f\"Asintoto orizzontale: Y = {asintoto_orizzontale}\"))"
      ],
      "metadata": {
        "id": "EHUu-u2b1UKb"
      },
      "execution_count": null,
      "outputs": []
    },
    {
      "cell_type": "markdown",
      "source": [
        "Intersezioni con gli Assi"
      ],
      "metadata": {
        "id": "ekQEjhFf16qG"
      }
    },
    {
      "cell_type": "code",
      "source": [
        "# Intersezione con l'asse delle ascisse (y=0)\n",
        "f\n",
        "intersezione_ascisse = sym.solve(f, x)\n",
        "display(Markdown(f\"Intersezioni con l'asse delle ascisse: ({intersezione_ascisse}, 0)\"))\n",
        "\n",
        "# Intersezione con l'asse delle ordinate (x=0)\n",
        "intersezione_ordinate = f.subs(x, 0)\n",
        "display(Markdown(f\"Intersezione con l'asse delle ordinate: (0, {intersezione_ordinate}\"))\n",
        "sym.plotting.plot(f, (x, -5, 5), ylim=(-10, 10), title=f'Grafico di {f}', xlabel='Asse x', ylabel='Asse y', line_color='blue')"
      ],
      "metadata": {
        "id": "8-X7sl5E1t_5"
      },
      "execution_count": null,
      "outputs": []
    },
    {
      "cell_type": "markdown",
      "source": [
        "Studio del segno"
      ],
      "metadata": {
        "id": "CjVc-BiK2QG1"
      }
    },
    {
      "cell_type": "code",
      "source": [
        "# Risolvere per x quando la funzione è maggiore di zero\n",
        "soluzione_positiva = sym.solve(f > 0, x)\n",
        "display(Markdown(f\"Intervallo in cui la funzione è positiva: {soluzione_positiva}\"))"
      ],
      "metadata": {
        "id": "qF6vtLLz2Rh-"
      },
      "execution_count": null,
      "outputs": []
    },
    {
      "cell_type": "code",
      "source": [
        "# Tracciare la funzione; punto in verde (g), cerchio (o) intersezione con l'ordinata\n",
        "p = sym.plotting.plot(f, (x, -5, 5), ylim=(-10, 10), title=f'Grafico di {f}', xlabel='Asse x', ylabel='Asse y', line_color='blue', markers=[{'args': [0, f.subs(x, 0), 'go']}])"
      ],
      "metadata": {
        "id": "4EQHoVpR23sz"
      },
      "execution_count": null,
      "outputs": []
    },
    {
      "cell_type": "markdown",
      "source": [
        "Disegnare la funzione con matplotlib"
      ],
      "metadata": {
        "id": "YCrnxXxnABYw"
      }
    },
    {
      "cell_type": "code",
      "source": [
        "import numpy as np\n",
        "import matplotlib.pyplot as plt\n",
        "\n",
        "f = x**2 + 3*x + 2\n",
        "f\n",
        "display(Markdown('---'))\n",
        "# Funzione da tracciare\n",
        "# La funzione simbolica diventa numerica e utilizzabile con array NumPy\n",
        "f_lambdified = sym.lambdify(x, f, 'numpy')\n",
        "\n",
        "# Tracciare la funzione\n",
        "# 400 è il numero totale di valori equidistanti che si desiderano generare tra -10 e 10\n",
        "x_vals = np.linspace(-10, 10, 400)\n",
        "y_vals = f_lambdified(x_vals)\n",
        "\n",
        "plt.plot(x_vals, y_vals, label=f\"f(x) = {f}\")\n",
        "\n",
        "# Aggiungere due punti (a caso) da evidenziare, ad esempio x = 1, x = 5\n",
        "p = [1, 5]\n",
        "y_p = [f_lambdified(i) for i in p]\n",
        "plt.scatter(p, y_p, color='red', zorder=5)\n",
        "plt.text(p[0], y_p[0], f\"({p[0]}, {y_p[0]})\", fontsize=12, ha='right')\n",
        "plt.text(p[1], y_p[1], f\"({p[1]}, {y_p[1]})\", fontsize=12, ha='right')\n",
        "\n",
        "# Mostrare il grafico\n",
        "plt.title(f\"Grafico della funzione {f}\")\n",
        "plt.xlabel(\"x\")\n",
        "plt.ylabel(\"f(x)\")\n",
        "plt.grid(True)\n",
        "plt.legend()\n",
        "plt.show()"
      ],
      "metadata": {
        "id": "8WI4VEcD8YH-"
      },
      "execution_count": null,
      "outputs": []
    },
    {
      "cell_type": "code",
      "source": [
        "# Altro esempio\n",
        "import matplotlib.pyplot as plt\n",
        "import numpy as np\n",
        "\n",
        "# Funzione da disegnare\n",
        "f = sym.sin(x) * sym.exp(x)\n",
        "# La funzione lambdify trasforma l'espressione simbolica f in una funzione numerica, più veloce da trattare\n",
        "f_lambdified = sym.lambdify(x, f, 'numpy')\n",
        "f\n",
        "display(Markdown('---'))\n",
        "\n",
        "# Tracciare il grafico\n",
        "x_vals = np.linspace(-10, 10, 400)\n",
        "y_vals = f_lambdified(x_vals)\n",
        "\n",
        "plt.plot(x_vals, y_vals)\n",
        "plt.title('Grafico di sin(x) * exp(x)')\n",
        "plt.xlabel('x')\n",
        "plt.ylabel('f(x)')\n",
        "plt.grid(True)\n",
        "plt.show()"
      ],
      "metadata": {
        "id": "KToeX5okk4hA"
      },
      "execution_count": null,
      "outputs": []
    },
    {
      "cell_type": "code",
      "source": [
        "def trova_minimi_massimi(f, x):\n",
        "    # Calcolare la derivata prima\n",
        "    f_d_prima = sym.diff(f, x)\n",
        "\n",
        "    # Calcolare la derivata seconda\n",
        "    f_d_seconda = sym.diff(f_d_prima, x)\n",
        "\n",
        "    # Trovare i punti critici risolvendo f'(x) = 0\n",
        "    punti_critici = sym.solveset(f_d_prima, x, domain=sym.S.Reals)\n",
        "\n",
        "    # Inizializzare i risultati\n",
        "    minimi = []\n",
        "    massimi = []\n",
        "\n",
        "    # Per ciascun punto critico, verificare se è un minimo o un massimo\n",
        "    for punto in punti_critici:\n",
        "        # Calcolare il valore della seconda derivata in quel punto\n",
        "        if f_d_seconda.subs(x, punto) > 0:\n",
        "            minimi.append(punto)\n",
        "        elif f_d_seconda.subs(x, punto) < 0:\n",
        "            massimi.append(punto)\n",
        "    return minimi, massimi"
      ],
      "metadata": {
        "id": "Sg4Ey1MemZGi"
      },
      "execution_count": null,
      "outputs": []
    },
    {
      "cell_type": "code",
      "source": [
        "def studio_funzione(f):\n",
        "    # Definiamo la variabile simbolica\n",
        "    display(Markdown('Studio della funzione'), f)\n",
        "    x = sym.symbols('x')\n",
        "\n",
        "    # 1. Dominio della funzione: insieme dei valori input (dominio) per cui la funzione è definita\n",
        "    dominio = sym.calculus.util.continuous_domain(f, x, sym.S.Reals)\n",
        "    display(Markdown('Dominio della funzione:'), dominio)\n",
        "\n",
        "    # 1. Codominio della funzione: insieme dei valori output (immagine) della funzione\n",
        "    dominio = sym.calculus.util.function_range(f, x, sym.S.Reals)\n",
        "    display(Markdown('Codominio della funzione:'), dominio)\n",
        "\n",
        "    # 2. Derivata prima\n",
        "    derivata = sym.diff(f, x)\n",
        "    display(Markdown('Derivata prima'), derivata)\n",
        "\n",
        "    # 3. Punti stazionari (soluzioni di f'(x) = 0)\n",
        "    soluzioni_derivata = sym.solveset(derivata, x, domain=dominio)\n",
        "    display(Markdown('Soluzioni di f\\'(x) = 0 (punti stazionari)'), {soluzioni_derivata})\n",
        "\n",
        "    # 4. Massimi e minimi\n",
        "    minimi, massimi = trova_minimi_massimi(f, x)\n",
        "    for punto in minimi:\n",
        "      display(Markdown(f'Minimo ({punto},{f.subs(x, punto)})'))\n",
        "    for punto in massimi:\n",
        "      display(Markdown(f'Massimo ({punto},{f.subs(x, punto)})'))\n",
        "\n",
        "    # 5. Asintoti (verticali e orizzontali)\n",
        "    asintoti_verticali = sym.solveset(sym.denom(f), x, domain=dominio)\n",
        "    asintoti_orizzontali = []\n",
        "    limite_pos_inf = sym.limit(f, x, sym.oo)\n",
        "    limite_neg_inf = sym.limit(f, x, -sym.oo)\n",
        "    if limite_pos_inf.is_finite:\n",
        "        asintoti_orizzontali.append((sym.oo, limite_pos_inf))\n",
        "    if limite_neg_inf.is_finite:\n",
        "        asintoti_orizzontali.append((-sym.oo, limite_neg_inf))\n",
        "    display(Markdown(f'Asintoti verticali: {asintoti_verticali}'))\n",
        "    display(Markdown(f'Asintoti orizzontali: {asintoti_orizzontali}'))\n",
        "\n",
        "    # 6. Grafico con SymPy\n",
        "    p = sym.plotting.plot(f, (x, -5, 5), ylim=(-5, 5), title=f'Grafico di {f}', xlabel='Asse x', ylabel='Asse y', line_color='blue', show=False)\n",
        "    for punto in minimi:\n",
        "        p.extend(sym.plotting.plot(markers=[{'args': [punto, f.subs(x, punto), 'ro']}],show=False))\n",
        "    for punto in massimi:\n",
        "        p.extend(sym.plotting.plot(markers=[{'args': [punto, f.subs(x, punto), 'go']}],show=False))\n",
        "    p.show()"
      ],
      "metadata": {
        "id": "N-jvzskh4_aA"
      },
      "execution_count": null,
      "outputs": []
    },
    {
      "cell_type": "code",
      "source": [
        "# Esempio di uso\n",
        "f = x**3 - 6*x**2 + 9*x\n",
        "studio_funzione(f)"
      ],
      "metadata": {
        "id": "qofwajHQqsm0"
      },
      "execution_count": null,
      "outputs": []
    },
    {
      "cell_type": "code",
      "source": [
        "f = sym.tan(x)\n",
        "studio_funzione(f)"
      ],
      "metadata": {
        "id": "58svUv7nCBip"
      },
      "execution_count": null,
      "outputs": []
    },
    {
      "cell_type": "code",
      "source": [
        "f = 1 / (x - 2)\n",
        "studio_funzione(f)"
      ],
      "metadata": {
        "id": "_UTG9hLZqQcD"
      },
      "execution_count": null,
      "outputs": []
    },
    {
      "cell_type": "code",
      "source": [
        "f = 1 / (x**2 - 4)\n",
        "studio_funzione(f)"
      ],
      "metadata": {
        "id": "2MIMiT_trlFT"
      },
      "execution_count": null,
      "outputs": []
    },
    {
      "cell_type": "code",
      "source": [
        "f = 3*x**3 + 4*x**2 +2*x + 1\n",
        "studio_funzione(f)"
      ],
      "metadata": {
        "id": "qbRwA5XoCVPB"
      },
      "execution_count": null,
      "outputs": []
    },
    {
      "cell_type": "code",
      "source": [
        "f = sym.exp(x) / (1 + sym.exp(2*x))\n",
        "studio_funzione(f)"
      ],
      "metadata": {
        "id": "QPr-9KMLDElp"
      },
      "execution_count": null,
      "outputs": []
    },
    {
      "cell_type": "code",
      "source": [
        "f = x**2 + 3*x + 2\n",
        "studio_funzione(f)"
      ],
      "metadata": {
        "id": "ry1Hk4nQD6aB"
      },
      "execution_count": null,
      "outputs": []
    },
    {
      "cell_type": "code",
      "source": [
        "# Funzione a tratti\n",
        "f = sym.Piecewise((4,x<=0), (3-x**2,x<=2), (2*x-6,True))\n",
        "sym.plotting.plot(f, -10, 10)\n",
        "#studio_funzione(f)\n",
        "#fallisce!"
      ],
      "metadata": {
        "id": "H0bqODAHUkLD"
      },
      "execution_count": null,
      "outputs": []
    },
    {
      "cell_type": "markdown",
      "source": [
        "# Conclusioni\n",
        "\n",
        "\n",
        "| Caratteristica | `math` | `sympy` |\n",
        "|---|---|---|\n",
        "| Tipo di calcolo | Numerico | Simbolico |\n",
        "| Precisione | Approssimata | Esatta |\n",
        "| Variabili | Numeriche | Simboliche |\n",
        "| Funzioni | Predefinite (calcolo numerico) | Manipolazione di espressioni |\n",
        "| Utilizzo | Calcoli numerici di base | Algebra, analisi, ecc. |\n",
        "\n",
        "* `math` e `sympy` sono strumenti complementari.\n",
        "* `math` è efficiente per calcoli numerici, `sympy` per la manipolazione simbolica.\n",
        "* La scelta dipende dal problema specifico.\n",
        "\n",
        "SymPy include anche **sottopacchetti che trattano argomenti avanzati e specializzati** come la teoria delle categorie, la logica quantistica, la dinamica meccanica o la statistica.\n",
        "Anche se non hai alcuna utilità per le loro funzionalità, possono servire come utili esempi di come codificare conoscenze di dominio complesse.\n",
        "\n",
        "SymPy è ben integrato con il resto dell'ecosistema scientifico Python. Il suo utilizzo all'interno del notebook IPython fornisce un ambiente produttivo per la prototipazione e l'esplorazione di modelli e calcoli simbolici. Anche potenti librerie numeriche, come NumPy, SciPy, pandas e sklearn, sono solo a poche istruzioni di importazione e SymPy ha funzionalità per **facilitare la transizione tra il mondo simbolico e quello numerico**.\n",
        "\n",
        "Ciò che distingue SymPy dai tradizionali sistemi di computer algebra è che **è facile integrarlo in qualsiasi pipeline di elaborazione**.\n",
        "Essendo in Python, è facile interfacciarlo con qualsiasi altra libreria Python o anche con altri linguaggi.\n",
        "\n",
        "Può, ad esempio, fungere da ponte tra due sistemi altrimenti incompatibili, come un'applicazione di modellazione dinamica proprietaria o una libreria C per equazioni differenziali accoppiate, trasformare l'input dell'utente per inviarlo a un renderer o altri tipi di integrazioni.\n"
      ],
      "metadata": {
        "id": "85poP1PZSQYD"
      }
    },
    {
      "cell_type": "markdown",
      "source": [],
      "metadata": {
        "id": "NPjQ9Wr-Hzda"
      }
    }
  ]
}