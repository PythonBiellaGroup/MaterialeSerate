{
 "cells": [
  {
   "cell_type": "code",
   "execution_count": 46,
   "metadata": {
    "colab": {
     "base_uri": "https://localhost:8080/"
    },
    "id": "lvlMhGMBfAri",
    "outputId": "9fec13de-0a1a-4bb2-ff52-29bc47f600e4"
   },
   "outputs": [
    {
     "name": "stdout",
     "output_type": "stream",
     "text": [
      "3.8.1\n"
     ]
    },
    {
     "name": "stderr",
     "output_type": "stream",
     "text": [
      "[nltk_data] Downloading package stopwords to /home/gillus/nltk_data...\n",
      "[nltk_data]   Package stopwords is already up-to-date!\n",
      "[nltk_data] Downloading package wordnet to /home/gillus/nltk_data...\n",
      "[nltk_data]   Package wordnet is already up-to-date!\n",
      "[nltk_data] Downloading package punkt to /home/gillus/nltk_data...\n",
      "[nltk_data]   Package punkt is already up-to-date!\n",
      "[nltk_data] Downloading package averaged_perceptron_tagger to\n",
      "[nltk_data]     /home/gillus/nltk_data...\n",
      "[nltk_data]   Package averaged_perceptron_tagger is already up-to-\n",
      "[nltk_data]       date!\n"
     ]
    }
   ],
   "source": [
    "import pandas as pd\n",
    "import numpy as np\n",
    "import re\n",
    "import  nltk\n",
    "print(nltk.__version__)\n",
    "import spacy\n",
    "spacy.__version__\n",
    "import pickle\n",
    "from sklearn.feature_extraction.text import TfidfTransformer, CountVectorizer\n",
    "from sklearn.feature_selection import SelectKBest, chi2\n",
    "from sklearn.pipeline import Pipeline\n",
    "from sklearn.ensemble import RandomForestClassifier\n",
    "from sklearn.linear_model import LogisticRegression\n",
    "from sklearn.svm import LinearSVC, SVC\n",
    "from sklearn.metrics import confusion_matrix, classification_report\n",
    "from sklearn.metrics import accuracy_score\n",
    "from sklearn.metrics import f1_score\n",
    "from sklearn.model_selection import train_test_split\n",
    "import string\n",
    "import demoji\n",
    "\n",
    "nltk.download('stopwords')\n",
    "nltk.download('wordnet')\n",
    "nltk.download('punkt')\n",
    "nltk.download('averaged_perceptron_tagger')\n",
    "from nltk.corpus import stopwords, wordnet\n",
    "from nltk import word_tokenize, pos_tag\n",
    "from nltk.stem.wordnet import WordNetLemmatizer"
   ]
  },
  {
   "cell_type": "code",
   "execution_count": 16,
   "metadata": {
    "colab": {
     "base_uri": "https://localhost:8080/"
    },
    "id": "ujur4pKUfArk",
    "outputId": "6d93310c-dea1-4bd7-a9f1-73de184c7c25"
   },
   "outputs": [],
   "source": [
    "#spacy.cli.download(\"en_core_web_lg\")"
   ]
  },
  {
   "cell_type": "code",
   "execution_count": 17,
   "metadata": {
    "id": "ymJvP_gsfArk"
   },
   "outputs": [],
   "source": [
    "nlp = spacy.load(\"en_core_web_lg\")"
   ]
  },
  {
   "cell_type": "code",
   "execution_count": null,
   "metadata": {
    "colab": {
     "base_uri": "https://localhost:8080/"
    },
    "id": "CQCEwR1kCSfs",
    "outputId": "a8a8c4de-7b1e-46a7-841a-596bb4f70826"
   },
   "outputs": [],
   "source": []
  },
  {
   "cell_type": "code",
   "execution_count": 18,
   "metadata": {
    "colab": {
     "base_uri": "https://localhost:8080/",
     "height": 424
    },
    "id": "SYdtRNznCFjn",
    "outputId": "5d484780-6aaa-4096-da33-e57cf4f6070c"
   },
   "outputs": [
    {
     "data": {
      "text/html": [
       "<div>\n",
       "<style scoped>\n",
       "    .dataframe tbody tr th:only-of-type {\n",
       "        vertical-align: middle;\n",
       "    }\n",
       "\n",
       "    .dataframe tbody tr th {\n",
       "        vertical-align: top;\n",
       "    }\n",
       "\n",
       "    .dataframe thead th {\n",
       "        text-align: right;\n",
       "    }\n",
       "</style>\n",
       "<table border=\"1\" class=\"dataframe\">\n",
       "  <thead>\n",
       "    <tr style=\"text-align: right;\">\n",
       "      <th></th>\n",
       "      <th>id</th>\n",
       "      <th>text</th>\n",
       "      <th>label</th>\n",
       "    </tr>\n",
       "  </thead>\n",
       "  <tbody>\n",
       "    <tr>\n",
       "      <th>0</th>\n",
       "      <td>12322</td>\n",
       "      <td>you need to stop the engine and wait until it ...</td>\n",
       "      <td>generated</td>\n",
       "    </tr>\n",
       "    <tr>\n",
       "      <th>1</th>\n",
       "      <td>1682</td>\n",
       "      <td>The Commission shall publish the report; an in...</td>\n",
       "      <td>generated</td>\n",
       "    </tr>\n",
       "    <tr>\n",
       "      <th>2</th>\n",
       "      <td>22592</td>\n",
       "      <td>I have not been tweeting a lot lately, but I d...</td>\n",
       "      <td>generated</td>\n",
       "    </tr>\n",
       "    <tr>\n",
       "      <th>3</th>\n",
       "      <td>17390</td>\n",
       "      <td>I pass my exam and really thankgod for that bu...</td>\n",
       "      <td>human</td>\n",
       "    </tr>\n",
       "    <tr>\n",
       "      <th>4</th>\n",
       "      <td>30453</td>\n",
       "      <td>The template will have 3 parts: a mustache sha...</td>\n",
       "      <td>human</td>\n",
       "    </tr>\n",
       "    <tr>\n",
       "      <th>...</th>\n",
       "      <td>...</td>\n",
       "      <td>...</td>\n",
       "      <td>...</td>\n",
       "    </tr>\n",
       "    <tr>\n",
       "      <th>33840</th>\n",
       "      <td>16850</td>\n",
       "      <td>@PierreJoye i have a server already, thanks fo...</td>\n",
       "      <td>human</td>\n",
       "    </tr>\n",
       "    <tr>\n",
       "      <th>33841</th>\n",
       "      <td>6265</td>\n",
       "      <td>10. Article 13 of Council Directive 80/777/EEC...</td>\n",
       "      <td>human</td>\n",
       "    </tr>\n",
       "    <tr>\n",
       "      <th>33842</th>\n",
       "      <td>11284</td>\n",
       "      <td>Crying because I have to cry for you?. No. No,...</td>\n",
       "      <td>generated</td>\n",
       "    </tr>\n",
       "    <tr>\n",
       "      <th>33843</th>\n",
       "      <td>860</td>\n",
       "      <td>However, it will continue to offer customers a...</td>\n",
       "      <td>generated</td>\n",
       "    </tr>\n",
       "    <tr>\n",
       "      <th>33844</th>\n",
       "      <td>15795</td>\n",
       "      <td>@kamitchell I suppose, but I figure Aubrey de ...</td>\n",
       "      <td>human</td>\n",
       "    </tr>\n",
       "  </tbody>\n",
       "</table>\n",
       "<p>33845 rows × 3 columns</p>\n",
       "</div>"
      ],
      "text/plain": [
       "          id                                               text      label\n",
       "0      12322  you need to stop the engine and wait until it ...  generated\n",
       "1       1682  The Commission shall publish the report; an in...  generated\n",
       "2      22592  I have not been tweeting a lot lately, but I d...  generated\n",
       "3      17390  I pass my exam and really thankgod for that bu...      human\n",
       "4      30453  The template will have 3 parts: a mustache sha...      human\n",
       "...      ...                                                ...        ...\n",
       "33840  16850  @PierreJoye i have a server already, thanks fo...      human\n",
       "33841   6265  10. Article 13 of Council Directive 80/777/EEC...      human\n",
       "33842  11284  Crying because I have to cry for you?. No. No,...  generated\n",
       "33843    860  However, it will continue to offer customers a...  generated\n",
       "33844  15795  @kamitchell I suppose, but I figure Aubrey de ...      human\n",
       "\n",
       "[33845 rows x 3 columns]"
      ]
     },
     "execution_count": 18,
     "metadata": {},
     "output_type": "execute_result"
    }
   ],
   "source": [
    "df = pd.read_csv(\"./train.tsv\", sep=\"\\t\")\n",
    "df"
   ]
  },
  {
   "cell_type": "code",
   "execution_count": 47,
   "metadata": {
    "colab": {
     "base_uri": "https://localhost:8080/"
    },
    "id": "-_9KVT_n3ZBe",
    "outputId": "432c9ed3-1aaa-4912-b8d8-81ae90fba041"
   },
   "outputs": [],
   "source": [
    "\n",
    "\n",
    "stopword_list = stopwords.words('english')\n",
    "punctuations = string.punctuation\n",
    "\n",
    "emoticon_string = r\"\"\"\n",
    "    (?:\n",
    "      [<>]?\n",
    "      [:;=8]                     # eyes\n",
    "      [\\-o\\*\\']?                 # optional nose\n",
    "      [\\)\\]\\(\\[dDpP/\\:\\}\\{@\\|\\\\] # mouth      \n",
    "      |\n",
    "      [\\)\\]\\(\\[dDpP/\\:\\}\\{@\\|\\\\] # mouth\n",
    "      [\\-o\\*\\']?                 # optional nose\n",
    "      [:;=8]                     # eyes\n",
    "      [<>]?\n",
    "    )\"\"\"\n",
    "\n",
    "def remove_emojis(text):\n",
    "    return demoji.replace(text, '')\n",
    "\n",
    "def spacy_nlp_tokenizer(text):\n",
    "\n",
    "    # substituting all space characters with a single space\n",
    "    text = re.sub('\\s+', ' ', text)\n",
    "    # removing Url\n",
    "    text = re.sub(r\"\\S*https?:\\S*\", \"\", text, flags=re.MULTILINE)\n",
    "    #removing mention\n",
    "    text = re.sub(r'@[\\w]+', \"\", text, flags=re.MULTILINE)\n",
    "    # remove textual emoji\n",
    "    text = re.sub(emoticon_string,'',text, flags=re.MULTILINE)\n",
    "    # remove graphical emoji\n",
    "    text = remove_emojis(text) \n",
    "    \n",
    "    doc = nlp(text)\n",
    "\n",
    "    # lowering case\n",
    "    tokens = [token.text.lower() for token in doc]\n",
    "    \n",
    "    # removing punctuations\n",
    "    tokens_nopunct = [token for token in tokens if token not in punctuations]\n",
    "    \n",
    "    # creating ngrams\n",
    "    tokens_bigrams = ['BI_'+p1+'_'+p2 for p1,p2 in nltk.ngrams(tokens_nopunct,2)]\n",
    "    tokens_trigrams = ['TRI_'+p1+'_'+p2+'_'+p3 for p1,p2,p3 in nltk.ngrams(tokens_nopunct,3)]\n",
    "\n",
    "    all_tokens = list()\n",
    "    all_tokens.extend(tokens_nopunct)\n",
    "    all_tokens.extend(tokens_bigrams)\n",
    "    all_tokens.extend(tokens_trigrams)\n",
    "    return all_tokens"
   ]
  },
  {
   "cell_type": "code",
   "execution_count": null,
   "metadata": {
    "colab": {
     "base_uri": "https://localhost:8080/"
    },
    "id": "zQ66bxoHUGP0",
    "outputId": "2fbde78e-73e9-4023-b983-90ebee2a69d1"
   },
   "outputs": [],
   "source": []
  },
  {
   "cell_type": "code",
   "execution_count": 21,
   "metadata": {
    "id": "h70Q1kNZfArm"
   },
   "outputs": [],
   "source": [
    "X_train, X_test, y_train, y_test = train_test_split(df['text'], df['label'], test_size=0.2, random_state=1)"
   ]
  },
  {
   "cell_type": "code",
   "execution_count": 22,
   "metadata": {
    "colab": {
     "base_uri": "https://localhost:8080/"
    },
    "id": "aP9FFanOfArm",
    "outputId": "22d6d009-d3d4-4812-d5ea-d689a7431526"
   },
   "outputs": [
    {
     "data": {
      "text/plain": [
       "(27076, 27076, 6769, 6769)"
      ]
     },
     "execution_count": 22,
     "metadata": {},
     "output_type": "execute_result"
    }
   ],
   "source": [
    "len(X_train), len(y_train), len(X_test), len(y_test)"
   ]
  },
  {
   "cell_type": "code",
   "execution_count": 23,
   "metadata": {
    "id": "nrS8m3-jfArm"
   },
   "outputs": [],
   "source": [
    "vect=CountVectorizer(analyzer=spacy_nlp_tokenizer, min_df = 5)"
   ]
  },
  {
   "cell_type": "code",
   "execution_count": 24,
   "metadata": {
    "colab": {
     "base_uri": "https://localhost:8080/"
    },
    "id": "mqkBlPkLfArn",
    "outputId": "7b2fea7a-141b-4189-ffd9-fd6f7b784b64"
   },
   "outputs": [
    {
     "name": "stdout",
     "output_type": "stream",
     "text": [
      "fit\n",
      "transform\n",
      "done\n"
     ]
    }
   ],
   "source": [
    "print('fit')\n",
    "# Just creating the features space. It defines the dimensions.\n",
    "vect.fit(X_train) \n",
    "print('transform')\n",
    "#Creating the vectors\n",
    "X_train_tok = vect.transform(X_train) \n",
    "print('done')\n",
    "\n",
    "X_test_tok =vect.transform(X_test)"
   ]
  },
  {
   "cell_type": "code",
   "execution_count": null,
   "metadata": {
    "colab": {
     "base_uri": "https://localhost:8080/"
    },
    "id": "NRmPJKHtfArn",
    "outputId": "1f9f300f-4b8f-44e8-8e7a-98faadf537ac"
   },
   "outputs": [],
   "source": []
  },
  {
   "cell_type": "code",
   "execution_count": 25,
   "metadata": {
    "id": "TBLatXjkHkIH"
   },
   "outputs": [],
   "source": [
    "vocabulary = vect"
   ]
  },
  {
   "cell_type": "code",
   "execution_count": 26,
   "metadata": {
    "id": "iq1OUwiofAro"
   },
   "outputs": [],
   "source": [
    "with open('./x_train_tok.pkl','wb') as outfile:\n",
    "    pickle.dump(X_train_tok, outfile)\n",
    "with open('./x_test_tok.pkl','wb') as outfile:\n",
    "    pickle.dump(X_test_tok, outfile)"
   ]
  },
  {
   "cell_type": "code",
   "execution_count": 27,
   "metadata": {
    "id": "085gCWAXHfxf"
   },
   "outputs": [],
   "source": [
    "with open('./vocabulary.pkl','wb') as outfile:\n",
    "    pickle.dump(vocabulary, outfile)"
   ]
  },
  {
   "cell_type": "code",
   "execution_count": 28,
   "metadata": {
    "colab": {
     "base_uri": "https://localhost:8080/"
    },
    "id": "9C5_zAPZfAro",
    "outputId": "5444aef8-21f6-4b0c-e1f7-6bbd31d6dcb7"
   },
   "outputs": [],
   "source": [
    "# with open('./x_train_tok.pkl',mode='br') as inputfile:\n",
    "#     X_train_tok = pickle.load(inputfile)\n",
    "# with open('./x_test_tok.pkl',mode='br') as inputfile:\n",
    "#     X_test_tok = pickle.load(inputfile)\n",
    "# with open('./vocabulary.pkl',mode='br') as inputfile:\n",
    "#     vocabulary = pickle.load(inputfile)"
   ]
  },
  {
   "cell_type": "code",
   "execution_count": null,
   "metadata": {
    "id": "0JsSWNjwSWpa"
   },
   "outputs": [],
   "source": []
  },
  {
   "cell_type": "markdown",
   "metadata": {
    "id": "z0r223ExfAro"
   },
   "source": [
    "## Logistic Regression"
   ]
  },
  {
   "cell_type": "code",
   "execution_count": 48,
   "metadata": {
    "colab": {
     "base_uri": "https://localhost:8080/"
    },
    "id": "J4-xngSffArp",
    "outputId": "bcbaf6a5-f0b1-4ab2-d36c-b7d5ad6d5678"
   },
   "outputs": [
    {
     "name": "stdout",
     "output_type": "stream",
     "text": [
      "Classification report:\n",
      "              precision    recall  f1-score   support\n",
      "\n",
      "   generated       0.80      0.80      0.80      3428\n",
      "       human       0.80      0.79      0.79      3341\n",
      "\n",
      "    accuracy                           0.80      6769\n",
      "   macro avg       0.80      0.80      0.80      6769\n",
      "weighted avg       0.80      0.80      0.80      6769\n",
      "\n",
      "Confusion matrix:\n",
      "[[2757  671]\n",
      " [ 701 2640]]\n"
     ]
    }
   ],
   "source": [
    "LR_pipeline = Pipeline([\n",
    "    ('sel', SelectKBest(chi2, k=12000)),  # feature selection\n",
    "    ('tfidf', TfidfTransformer()),  # weighting\n",
    "    ('learner', LogisticRegression(max_iter=200))  # learning algorithm\n",
    "])\n",
    "\n",
    "LR_pipeline.fit(X_train_tok , y_train)\n",
    "predictions = LR_pipeline.predict(X_test_tok)\n",
    "\n",
    "print('Classification report:')\n",
    "print(classification_report(y_test, predictions))\n",
    "print('Confusion matrix:')\n",
    "cm = confusion_matrix(y_test, predictions)\n",
    "print(cm)"
   ]
  },
  {
   "cell_type": "code",
   "execution_count": 30,
   "metadata": {
    "id": "8dd6ysq3-fAH"
   },
   "outputs": [],
   "source": [
    "tokenizer = vocabulary\n",
    "selector = LR_pipeline.named_steps['sel']\n",
    "classifier = LR_pipeline.named_steps['learner']"
   ]
  },
  {
   "cell_type": "code",
   "execution_count": 49,
   "metadata": {
    "colab": {
     "base_uri": "https://localhost:8080/"
    },
    "id": "tFXLh2yK-RzC",
    "outputId": "0b17f323-45dc-4a91-fcd4-3255729a3258"
   },
   "outputs": [
    {
     "data": {
      "text/plain": [
       "68202"
      ]
     },
     "execution_count": 49,
     "metadata": {},
     "output_type": "execute_result"
    }
   ],
   "source": [
    "#questo mi restituisce le features prese in considerazione dal selectKBest\n",
    "\n",
    "feature_names = tokenizer.get_feature_names_out() #Get output feature names for transformation.\n",
    "feats_w_score = list()\n",
    "#selector.get_support() mi dice quali features sono state prese in considerazione e quali no\n",
    "#selector.score_: scores of features.\n",
    "for index,(selected,score) in enumerate(zip(selector.get_support(),selector.scores_)):\n",
    "    feats_w_score.append((score,selected,feature_names[index]))\n",
    "feats_w_score = sorted(feats_w_score)\n",
    "len(feats_w_score)"
   ]
  },
  {
   "cell_type": "code",
   "execution_count": null,
   "metadata": {
    "colab": {
     "base_uri": "https://localhost:8080/"
    },
    "id": "WlJZqnoKLXih",
    "outputId": "be0e9dc2-28ef-4d8d-be58-0254780fc604"
   },
   "outputs": [],
   "source": []
  },
  {
   "cell_type": "code",
   "execution_count": 32,
   "metadata": {
    "colab": {
     "base_uri": "https://localhost:8080/"
    },
    "id": "vTJxi_k-K6oB",
    "outputId": "1e433517-2d29-42b0-87b3-1a8c06fab498"
   },
   "outputs": [
    {
     "data": {
      "text/plain": [
       "([(8.151873332063225e-09, False, 'BI_is_too'),\n",
       "  (6.85936674506259e-06, False, 'BI_1_2'),\n",
       "  (6.85936674506259e-06, False, 'directives'),\n",
       "  (8.221823892670018e-06, False, 'shampoo'),\n",
       "  (1.781712243222258e-05, False, 'BI_for_your'),\n",
       "  (6.160062629522848e-05, False, 'BI_ _yeah'),\n",
       "  (6.160062629522848e-05, False, 'BI_agreement_between'),\n",
       "  (7.466459240969449e-05, False, 'BI_back_and'),\n",
       "  (7.466459240969449e-05, False, 'BI_may_take'),\n",
       "  (7.466459240969449e-05, False, 'TRI_should_be_able'),\n",
       "  (0.00010764622918458291, False, 'TRI_good_idea_to'),\n",
       "  (0.00012320125259045696, False, 'physical'),\n",
       "  (0.00013563426011169307, False, 'TRI_the_committee_of'),\n",
       "  (0.00014932918481938898, False, 'supply'),\n",
       "  (0.0002171871615416713, False, 'BI_account_of'),\n",
       "  (0.0002330712579415054, False, 'TRI_in_front_of'),\n",
       "  (0.00027841003867685055, False, 'BI_until_the'),\n",
       "  (0.0003983594152084282, False, 'BI_in_front'),\n",
       "  (0.00043409536403958224, False, 'car'),\n",
       "  (0.0004494157642345621, False, 'BI_agreement_is'),\n",
       "  (0.0005324673230447823, False, 'baking'),\n",
       "  (0.0005398985977225319, False, 'BI_annex_i'),\n",
       "  (0.0005987744876970347, False, 'lines'),\n",
       "  (0.0006043451762564457, False, 'BI_make_an'),\n",
       "  (0.0006043451762564457, False, 'BI_procedure_laid'),\n",
       "  (0.0006515614846250631, False, 'BI_the_main'),\n",
       "  (0.0007108757246050272, False, 'behind'),\n",
       "  (0.0007477470166673457, False, 'TRI_that_you_can'),\n",
       "  (0.0007884372640238038, False, 'strip'),\n",
       "  (0.0008303019708105607, False, 'quick'),\n",
       "  (0.0008303019708105607, False, 'volume'),\n",
       "  (0.0008515989269492123, False, 'extra'),\n",
       "  (0.0008988315284691241, False, 'BI_way_of'),\n",
       "  (0.0009131481929110273, False, '123'),\n",
       "  (0.0009131481929110273, False, '17th'),\n",
       "  (0.0009131481929110273, False, '2025'),\n",
       "  (0.0009131481929110273, False, '2075/92'),\n",
       "  (0.0009131481929110273, False, '450'),\n",
       "  (0.0009131481929110273, False, '75/268'),\n",
       "  (0.0009131481929110273, False, '7th'),\n",
       "  (0.0009131481929110273, False, 'BI_   _i'),\n",
       "  (0.0009131481929110273, False, 'BI_ _congrats'),\n",
       "  (0.0009131481929110273, False, 'BI_ _happy'),\n",
       "  (0.0009131481929110273, False, 'BI_ _heyy'),\n",
       "  (0.0009131481929110273, False, 'BI_ _lmfao'),\n",
       "  (0.0009131481929110273, False, 'BI_ _nice'),\n",
       "  (0.0009131481929110273, False, 'BI_ _s'),\n",
       "  (0.0009131481929110273, False, 'BI_ _tom'),\n",
       "  (0.0009131481929110273, False, 'BI_10_2'),\n",
       "  (0.0009131481929110273, False, 'BI_1999_for'),\n",
       "  (0.0009131481929110273, False, 'BI_1_e'),\n",
       "  (0.0009131481929110273, False, 'BI_1st_day'),\n",
       "  (0.0009131481929110273, False, 'BI_2003_on'),\n",
       "  (0.0009131481929110273, False, 'BI_2006_on'),\n",
       "  (0.0009131481929110273, False, 'BI_2008_the'),\n",
       "  (0.0009131481929110273, False, 'BI_2010_and'),\n",
       "  (0.0009131481929110273, False, 'BI_24_of'),\n",
       "  (0.0009131481929110273, False, 'BI_2_see'),\n",
       "  (0.0009131481929110273, False, 'BI_2_should'),\n",
       "  (0.0009131481929110273, False, 'BI_2_with'),\n",
       "  (0.0009131481929110273, False, 'BI_3_notwithstanding'),\n",
       "  (0.0009131481929110273, False, 'BI_6_are'),\n",
       "  (0.0009131481929110273, False, 'BI_75/268_eec'),\n",
       "  (0.0009131481929110273, False, 'BI_9_article'),\n",
       "  (0.0009131481929110273, False, 'BI_a_base'),\n",
       "  (0.0009131481929110273, False, 'BI_a_bird'),\n",
       "  (0.0009131481929110273, False, 'BI_a_butter'),\n",
       "  (0.0009131481929110273, False, 'BI_a_customer'),\n",
       "  (0.0009131481929110273, False, 'BI_a_discussion'),\n",
       "  (0.0009131481929110273, False, 'BI_a_flexible'),\n",
       "  (0.0009131481929110273, False, 'BI_a_funny'),\n",
       "  (0.0009131481929110273, False, 'BI_a_horrible'),\n",
       "  (0.0009131481929110273, False, 'BI_a_longterm'),\n",
       "  (0.0009131481929110273, False, 'BI_a_microwave'),\n",
       "  (0.0009131481929110273, False, 'BI_a_mobile'),\n",
       "  (0.0009131481929110273, False, 'BI_a_nonprofit'),\n",
       "  (0.0009131481929110273, False, 'BI_a_payment'),\n",
       "  (0.0009131481929110273, False, 'BI_a_portfolio'),\n",
       "  (0.0009131481929110273, False, 'BI_a_powerful'),\n",
       "  (0.0009131481929110273, False, 'BI_a_relaxing'),\n",
       "  (0.0009131481929110273, False, 'BI_a_revision'),\n",
       "  (0.0009131481929110273, False, 'BI_a_speech'),\n",
       "  (0.0009131481929110273, False, 'BI_a_stranger'),\n",
       "  (0.0009131481929110273, False, 'BI_a_style'),\n",
       "  (0.0009131481929110273, False, 'BI_a_triangle'),\n",
       "  (0.0009131481929110273, False, 'BI_a_tv'),\n",
       "  (0.0009131481929110273, False, 'BI_a_typical'),\n",
       "  (0.0009131481929110273, False, 'BI_a_wider'),\n",
       "  (0.0009131481929110273, False, 'BI_about_doing'),\n",
       "  (0.0009131481929110273, False, 'BI_about_is'),\n",
       "  (0.0009131481929110273, False, 'BI_absolutely_love'),\n",
       "  (0.0009131481929110273, False, 'BI_absolutely_necessary'),\n",
       "  (0.0009131481929110273, False, 'BI_accessing_the'),\n",
       "  (0.0009131481929110273, False, 'BI_action_and'),\n",
       "  (0.0009131481929110273, False, 'BI_activity_and'),\n",
       "  (0.0009131481929110273, False, 'BI_additionally_a'),\n",
       "  (0.0009131481929110273, False, 'BI_admitted_to'),\n",
       "  (0.0009131481929110273, False, 'BI_after_reading'),\n",
       "  (0.0009131481929110273, False, 'BI_air_at'),\n",
       "  (0.0009131481929110273, False, 'BI_all_is')],\n",
       " [(600.0289071115296, True, 'decision'),\n",
       "  (600.8395986597604, True, 'TRI_on_the_day'),\n",
       "  (610.6892906158769, True, 'that'),\n",
       "  (629.4521833725466, True, 'BI_the_annex'),\n",
       "  (635.5952852375958, True, 'BI_decision_is'),\n",
       "  (646.6133963640247, True, 'TRI_this_decision_is'),\n",
       "  (646.893333768851, True, 'BI_article_1'),\n",
       "  (648.0511490994509, True, 'the'),\n",
       "  (673.801031835603, True, 'we'),\n",
       "  (680.7447474740245, True, 'states'),\n",
       "  (683.8438750101618, True, 'TRI_decision_is_addressed'),\n",
       "  (707.1389404387412, True, 'BI_shall_be'),\n",
       "  (734.1892972730305, True, 'at'),\n",
       "  (762.1814628116288, True, 'BI_following_its'),\n",
       "  (765.8841991064298, True, 'TRI_following_its_publication'),\n",
       "  (766.8548868537962, True, 'TRI_day_following_its'),\n",
       "  (795.3972874918991, True, 'day'),\n",
       "  (811.9197977595637, True, 'TRI_addressed_to_the'),\n",
       "  (813.3907897269696, True, 'addressed'),\n",
       "  (837.6014140162341, True, 'into'),\n",
       "  (847.709629919997, True, 'BI_addressed_to'),\n",
       "  (868.9850146686072, True, 'TRI_is_addressed_to'),\n",
       "  (872.99301057565, True, 'BI_is_addressed'),\n",
       "  (880.9382767158081, True, 'of'),\n",
       "  (890.1782321045757, True, 'BI_day_following'),\n",
       "  (918.7387717641125, True, 'official'),\n",
       "  (919.132746492081, True, 'communities'),\n",
       "  (920.5816980636603, True, 'BI_this_decision'),\n",
       "  (922.804502704307, True, 'TRI_the_european_communities'),\n",
       "  (923.7630936343072, True, 'BI_european_communities'),\n",
       "  (1014.939868914191, True, 'TRI_force_on_the'),\n",
       "  (1016.3812863048815, True, 'BI_member_states'),\n",
       "  (1034.7074869605601, True, 'BI_article_2'),\n",
       "  (1051.8862564225142, True, 'journal'),\n",
       "  (1054.507727826679, True, 'its'),\n",
       "  (1058.4782788466134, True, 'BI_the_official'),\n",
       "  (1073.939038359245, True, 'publication'),\n",
       "  (1081.128230883152, True, 'BI_official_journal'),\n",
       "  (1096.692252707389, True, 'BI_journal_of'),\n",
       "  (1111.6869133630844, True, 'TRI_journal_of_the'),\n",
       "  (1115.1009132584531, True, 'TRI_official_journal_of'),\n",
       "  (1122.9298963960407, True, 'TRI_in_the_official'),\n",
       "  (1131.2260964408774, True, 'TRI_the_official_journal'),\n",
       "  (1139.3269470075516, True, 'TRI_publication_in_the'),\n",
       "  (1140.9775053461017, True, 'BI_publication_in'),\n",
       "  (1152.222707593995, True, 'article'),\n",
       "  (1165.8358850028374, True, 'shall'),\n",
       "  (1174.9684400555088, True, 'TRI_its_publication_in'),\n",
       "  (1183.2240239119344, True, 'BI_its_publication'),\n",
       "  (1269.6226607483302, True, 'applicable'),\n",
       "  (1339.0528477860844, True, 'TRI_2_this_regulation'),\n",
       "  (1494.3054202494618, True, 'force'),\n",
       "  (1568.7921304674908, True, 'BI_this_regulation'),\n",
       "  (1572.7978941418546, True, 'regulation'),\n",
       "  (1585.6299188154212, True, 'BI_2_this'),\n",
       "  (1612.6336358382837, True, 'BI_into_force'),\n",
       "  (1624.8142173392469, True, 'directly'),\n",
       "  (1625.6693801052934, True, 'TRI_all_member_states'),\n",
       "  (1635.4042432259425, True, 'BI_all_member'),\n",
       "  (1638.922112917435, True, 'BI_in_all'),\n",
       "  (1658.4854675997872, True, 'enter'),\n",
       "  (1680.4904933218572, True, 'BI_in_its'),\n",
       "  (1692.5548546228806, True, 'TRI_article_2_this'),\n",
       "  (1703.2555577642463, True, 'BI_applicable_in'),\n",
       "  (1703.5072784620966, True, 'BI_force_on'),\n",
       "  (1703.5369529639247, True, 'TRI_in_all_member'),\n",
       "  (1710.6409908258045, True, 'TRI_into_force_on'),\n",
       "  (1736.914665889863, True, 'TRI_applicable_in_all'),\n",
       "  (1743.8611257582932, True, 'BI_enter_into'),\n",
       "  (1745.5133266133475, True, 'TRI_directly_applicable_in'),\n",
       "  (1768.8475616554488, True, 'BI_directly_applicable'),\n",
       "  (1768.8475616554488, True, 'TRI_and_directly_applicable'),\n",
       "  (1785.545731865243, True, 'TRI_entirety_and_directly'),\n",
       "  (1787.4902487010543, True, 'BI_and_directly'),\n",
       "  (1795.2028140834454, True, 'TRI_enter_into_force'),\n",
       "  (1797.790374100571, True, 'TRI_regulation_shall_be'),\n",
       "  (1805.1611410213914, True, 'BI_entirety_and'),\n",
       "  (1805.1611410213914, True, 'TRI_its_entirety_and'),\n",
       "  (1810.1276949065177, True, 'entirety'),\n",
       "  (1813.6441356273936, True, 'BI_its_entirety'),\n",
       "  (1813.6441356273936, True, 'TRI_in_its_entirety'),\n",
       "  (1836.105096984084, True, 'binding'),\n",
       "  (1836.4963393824205, True, 'TRI_shall_enter_into'),\n",
       "  (1845.128949343793, True, 'BI_shall_enter'),\n",
       "  (1851.3720521771297, True, 'TRI_binding_in_its'),\n",
       "  (1854.443157671895, True, 'BI_be_binding'),\n",
       "  (1859.8635465419434, True, 'TRI_shall_be_binding'),\n",
       "  (1864.1849088825927, True, 'TRI_be_binding_in'),\n",
       "  (1865.156937112878, True, 'BI_binding_in'),\n",
       "  (1962.482156234263, True, 'TRI_regulation_shall_enter'),\n",
       "  (2091.3284061226545, True, 'done'),\n",
       "  (2213.751765375896, True, 'TRI_states_done_at'),\n",
       "  (2235.2776623336904, True, 'BI_states_done'),\n",
       "  (2238.110410204403, True, 'TRI_member_states_done'),\n",
       "  (2384.263460179183, True, 'brussels'),\n",
       "  (2402.7834005257105, True, 'BI_at_brussels'),\n",
       "  (2408.275845177068, True, 'TRI_done_at_brussels'),\n",
       "  (2561.674038632231, True, 'BI_done_at'),\n",
       "  (3370.107340991348, True, 'TRI_this_regulation_shall'),\n",
       "  (3375.4678233879667, True, 'BI_regulation_shall')])"
      ]
     },
     "execution_count": 32,
     "metadata": {},
     "output_type": "execute_result"
    }
   ],
   "source": [
    "feats_w_score[:100],feats_w_score[-100:]"
   ]
  },
  {
   "cell_type": "code",
   "execution_count": 50,
   "metadata": {
    "colab": {
     "base_uri": "https://localhost:8080/"
    },
    "id": "_lZKkKX1LRsR",
    "outputId": "2fedec51-d3af-4d81-c1db-9cc3caa482d3"
   },
   "outputs": [
    {
     "data": {
      "text/plain": [
       "12000"
      ]
     },
     "execution_count": 50,
     "metadata": {},
     "output_type": "execute_result"
    }
   ],
   "source": [
    "#queste sono le features usate nella classificazione\n",
    "\n",
    "feats_w_classifier_weight = list()\n",
    "for index,weight in enumerate(selector.inverse_transform(classifier.coef_)[0]):\n",
    "    if weight!=0:\n",
    "        feats_w_classifier_weight.append((weight,feature_names[index]))\n",
    "feats_w_classifier_weight = sorted(feats_w_classifier_weight)\n",
    "len(feats_w_classifier_weight)"
   ]
  },
  {
   "cell_type": "code",
   "execution_count": null,
   "metadata": {
    "colab": {
     "base_uri": "https://localhost:8080/"
    },
    "id": "CSRwLufSM_Nj",
    "outputId": "c0a98963-c221-40fe-cd12-91777b546846"
   },
   "outputs": [],
   "source": []
  },
  {
   "cell_type": "code",
   "execution_count": 51,
   "metadata": {
    "colab": {
     "base_uri": "https://localhost:8080/"
    },
    "id": "IzF9UStLNJHw",
    "outputId": "2ec28271-aa4f-4b0e-bf42-f52d36c58118"
   },
   "outputs": [
    {
     "data": {
      "text/plain": [
       "[(-2.57151643594633, 'paragraph'),\n",
       " (-2.500703489305884, 'BI_the_following'),\n",
       " (-2.3753008207803012, 'additionally'),\n",
       " (-2.2411667081693643, 'BI_2_the'),\n",
       " (-2.1239990912445834, 'BI_european_union'),\n",
       " (-2.1180930850120423, 'BI_3_the'),\n",
       " (-2.1040733895318424, 'TRI_for_the_council'),\n",
       " (-2.078102594355812, 'TRI_for_the_european'),\n",
       " (-2.0527613413743433, 'BI_are_not'),\n",
       " (-2.026392585855323, 'pi')]"
      ]
     },
     "execution_count": 51,
     "metadata": {},
     "output_type": "execute_result"
    }
   ],
   "source": [
    "feats_w_classifier_weight[:10]"
   ]
  },
  {
   "cell_type": "code",
   "execution_count": 52,
   "metadata": {
    "id": "CNCTpmNwpX89"
   },
   "outputs": [
    {
     "data": {
      "text/plain": [
       "[(2.770623107649165, 'in'),\n",
       " (2.839285729875487, 'sad'),\n",
       " (2.9050440227926018, 'BI_this_decision'),\n",
       " (2.9402607404150194, 'though'),\n",
       " (2.9982468580188377, 'your'),\n",
       " (3.007231692553673, 'brussels'),\n",
       " (3.1132239081676083, 'BI_at_brussels'),\n",
       " (3.1311884150904725, 'TRI_done_at_brussels'),\n",
       " (3.269741707247101, 'BI_done_at'),\n",
       " (3.387542405630033, 'amp')]"
      ]
     },
     "execution_count": 52,
     "metadata": {},
     "output_type": "execute_result"
    }
   ],
   "source": [
    "feats_w_classifier_weight[-10:]"
   ]
  },
  {
   "cell_type": "code",
   "execution_count": null,
   "metadata": {},
   "outputs": [],
   "source": []
  }
 ],
 "metadata": {
  "accelerator": "GPU",
  "colab": {
   "provenance": []
  },
  "gpuClass": "standard",
  "kernelspec": {
   "display_name": "Python 3 (ipykernel)",
   "language": "python",
   "name": "python3"
  },
  "language_info": {
   "codemirror_mode": {
    "name": "ipython",
    "version": 3
   },
   "file_extension": ".py",
   "mimetype": "text/x-python",
   "name": "python",
   "nbconvert_exporter": "python",
   "pygments_lexer": "ipython3",
   "version": "3.10.6"
  }
 },
 "nbformat": 4,
 "nbformat_minor": 1
}
