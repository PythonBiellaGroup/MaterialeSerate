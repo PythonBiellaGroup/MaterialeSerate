{
 "cells": [
  {
   "cell_type": "markdown",
   "id": "e8cec027-118d-4397-9bd1-398c69948102",
   "metadata": {},
   "source": [
    "# Strumenti per la gestione del dato\n",
    "In questo notebook vedremo le informazioni indispensabili per trattare il dato utilizzando:\n",
    "- numpy\n",
    "- pandas"
   ]
  },
  {
   "cell_type": "code",
   "execution_count": 1,
   "id": "007e1311-43ac-4544-84d8-54b229051156",
   "metadata": {},
   "outputs": [],
   "source": [
    "import numpy as np\n",
    "import pandas as pd"
   ]
  },
  {
   "cell_type": "code",
   "execution_count": 2,
   "id": "716805fb-4d63-4c3e-8cc1-c3fdf2d40b4d",
   "metadata": {},
   "outputs": [],
   "source": [
    "from datetime import datetime"
   ]
  },
  {
   "cell_type": "markdown",
   "id": "a1d0c9aa-a323-44cc-a0ed-50d856d54b1a",
   "metadata": {},
   "source": [
    "## Numpy\n",
    "L'oggetto fondamentale di numpy sono gli array multidimensionali.\n",
    "Gli array hanno gli elementi di tipo omogeneo e sono indicizzati da numeri interi (come le liste python)."
   ]
  },
  {
   "cell_type": "markdown",
   "id": "d170086d-5fd6-409d-863d-e1097aa631a8",
   "metadata": {},
   "source": [
    "### crezione array"
   ]
  },
  {
   "cell_type": "code",
   "execution_count": 3,
   "id": "956b1711-b259-4ec0-b3ab-d3783ca80988",
   "metadata": {},
   "outputs": [
    {
     "data": {
      "text/plain": [
       "array([ 0,  1,  2,  3,  4,  5,  6,  7,  8,  9, 10, 11, 12, 13, 14])"
      ]
     },
     "execution_count": 3,
     "metadata": {},
     "output_type": "execute_result"
    }
   ],
   "source": [
    "a = np.array(range(15))\n",
    "a"
   ]
  },
  {
   "cell_type": "code",
   "execution_count": 4,
   "id": "9f6c0ffc-78ca-4d09-8798-f485fe721058",
   "metadata": {},
   "outputs": [
    {
     "data": {
      "text/plain": [
       "array([[0., 0., 0., 0.],\n",
       "       [0., 0., 0., 0.],\n",
       "       [0., 0., 0., 0.]])"
      ]
     },
     "execution_count": 4,
     "metadata": {},
     "output_type": "execute_result"
    }
   ],
   "source": [
    "np.zeros((3, 4))"
   ]
  },
  {
   "cell_type": "code",
   "execution_count": 5,
   "id": "d40065d2-3415-41cd-8c4e-d020d8b761c4",
   "metadata": {},
   "outputs": [
    {
     "data": {
      "text/plain": [
       "array([[[1, 1, 1, 1],\n",
       "        [1, 1, 1, 1],\n",
       "        [1, 1, 1, 1]],\n",
       "\n",
       "       [[1, 1, 1, 1],\n",
       "        [1, 1, 1, 1],\n",
       "        [1, 1, 1, 1]]], dtype=int16)"
      ]
     },
     "execution_count": 5,
     "metadata": {},
     "output_type": "execute_result"
    }
   ],
   "source": [
    "np.ones((2, 3, 4), dtype=np.int16)"
   ]
  },
  {
   "cell_type": "markdown",
   "id": "e353cf41-fcd3-42a5-abd6-f8b16f1d05c6",
   "metadata": {},
   "source": [
    "### shape"
   ]
  },
  {
   "cell_type": "code",
   "execution_count": 6,
   "id": "b6f5348a-9428-45a7-8fb4-1b51ac1b70fa",
   "metadata": {},
   "outputs": [
    {
     "data": {
      "text/plain": [
       "(15,)"
      ]
     },
     "execution_count": 6,
     "metadata": {},
     "output_type": "execute_result"
    }
   ],
   "source": [
    "a.shape"
   ]
  },
  {
   "cell_type": "code",
   "execution_count": 7,
   "id": "6f2de13f-5537-4518-9e34-96c4ae55323b",
   "metadata": {},
   "outputs": [
    {
     "data": {
      "text/plain": [
       "array([[ 0,  1,  2,  3,  4],\n",
       "       [ 5,  6,  7,  8,  9],\n",
       "       [10, 11, 12, 13, 14]])"
      ]
     },
     "execution_count": 7,
     "metadata": {},
     "output_type": "execute_result"
    }
   ],
   "source": [
    "a = a.reshape(3, 5)\n",
    "a"
   ]
  },
  {
   "cell_type": "code",
   "execution_count": 8,
   "id": "8e3be887-7b8b-44ba-954c-83c0a5d4c1bc",
   "metadata": {},
   "outputs": [
    {
     "data": {
      "text/plain": [
       "(3, 5)"
      ]
     },
     "execution_count": 8,
     "metadata": {},
     "output_type": "execute_result"
    }
   ],
   "source": [
    "a.shape"
   ]
  },
  {
   "cell_type": "markdown",
   "id": "3893a64f-0037-4e05-a79d-cf40ee34d07c",
   "metadata": {},
   "source": [
    "### dtype"
   ]
  },
  {
   "cell_type": "code",
   "execution_count": 9,
   "id": "5a4f1921-1f70-4dc5-bc15-a9fd97b5bd94",
   "metadata": {},
   "outputs": [
    {
     "data": {
      "text/plain": [
       "dtype('int32')"
      ]
     },
     "execution_count": 9,
     "metadata": {},
     "output_type": "execute_result"
    }
   ],
   "source": [
    "a.dtype"
   ]
  },
  {
   "cell_type": "markdown",
   "id": "842e97fe-8b53-4526-adf6-62e664148a84",
   "metadata": {},
   "source": [
    "### basic operations\n",
    "Le operazioni base sono **elementwise**"
   ]
  },
  {
   "cell_type": "code",
   "execution_count": 10,
   "id": "40e7b25b-c325-4680-8408-35d6a58801ef",
   "metadata": {},
   "outputs": [],
   "source": [
    "A = np.array([[1, 1],\n",
    "              [0, 1]])\n",
    "B = np.array([[2, 0],\n",
    "              [3, 4]])"
   ]
  },
  {
   "cell_type": "code",
   "execution_count": 11,
   "id": "0a67aab3-75db-466e-897e-7fa714533893",
   "metadata": {},
   "outputs": [
    {
     "data": {
      "text/plain": [
       "array([[2, 0],\n",
       "       [0, 4]])"
      ]
     },
     "execution_count": 11,
     "metadata": {},
     "output_type": "execute_result"
    }
   ],
   "source": [
    "A * B     # elementwise product"
   ]
  },
  {
   "cell_type": "code",
   "execution_count": 12,
   "id": "b040e669-3a2e-4547-b260-f7ceee706ef4",
   "metadata": {},
   "outputs": [
    {
     "data": {
      "text/plain": [
       "array([[3, 1],\n",
       "       [3, 5]])"
      ]
     },
     "execution_count": 12,
     "metadata": {},
     "output_type": "execute_result"
    }
   ],
   "source": [
    "A + B     # elementwise sum"
   ]
  },
  {
   "cell_type": "code",
   "execution_count": 13,
   "id": "396d2998-820f-4b34-9e3e-b7c46a73247e",
   "metadata": {},
   "outputs": [
    {
     "data": {
      "text/plain": [
       "array([[5, 4],\n",
       "       [3, 4]])"
      ]
     },
     "execution_count": 13,
     "metadata": {},
     "output_type": "execute_result"
    }
   ],
   "source": [
    "A.dot(B)  # matrix product"
   ]
  },
  {
   "cell_type": "code",
   "execution_count": 14,
   "id": "b4c3766e-07d0-4fb0-a1f3-65c9d18d1394",
   "metadata": {},
   "outputs": [
    {
     "data": {
      "text/plain": [
       "array([[5, 4],\n",
       "       [3, 4]])"
      ]
     },
     "execution_count": 14,
     "metadata": {},
     "output_type": "execute_result"
    }
   ],
   "source": [
    "A @ B     # matrix product"
   ]
  },
  {
   "cell_type": "markdown",
   "id": "2346f6eb-7f86-4eec-b15c-dbc9263c7b5a",
   "metadata": {},
   "source": [
    "### indexing mono-dimensionale \n",
    "Fuziona come l'indicizzazione delle liste python"
   ]
  },
  {
   "cell_type": "code",
   "execution_count": 15,
   "id": "7c6d8e3e-f6fb-4957-bf5e-dd08e2409721",
   "metadata": {},
   "outputs": [
    {
     "data": {
      "text/plain": [
       "array([  0,   1,   8,  27,  64, 125, 216, 343, 512, 729], dtype=int32)"
      ]
     },
     "execution_count": 15,
     "metadata": {},
     "output_type": "execute_result"
    }
   ],
   "source": [
    "a = np.arange(10)**3\n",
    "a"
   ]
  },
  {
   "cell_type": "code",
   "execution_count": 16,
   "id": "adae75c2-54fc-4924-923f-cb10e491c087",
   "metadata": {},
   "outputs": [
    {
     "data": {
      "text/plain": [
       "8"
      ]
     },
     "execution_count": 16,
     "metadata": {},
     "output_type": "execute_result"
    }
   ],
   "source": [
    "a[2]"
   ]
  },
  {
   "cell_type": "code",
   "execution_count": 17,
   "id": "69ab1cfb-5a1d-476d-85a3-192e70b36dc3",
   "metadata": {},
   "outputs": [
    {
     "data": {
      "text/plain": [
       "array([ 8, 27, 64], dtype=int32)"
      ]
     },
     "execution_count": 17,
     "metadata": {},
     "output_type": "execute_result"
    }
   ],
   "source": [
    "a[2:5]"
   ]
  },
  {
   "cell_type": "code",
   "execution_count": 18,
   "id": "05e94d09-7aff-4dad-8475-93bfffb51206",
   "metadata": {},
   "outputs": [
    {
     "data": {
      "text/plain": [
       "array([ 0,  8, 64], dtype=int32)"
      ]
     },
     "execution_count": 18,
     "metadata": {},
     "output_type": "execute_result"
    }
   ],
   "source": [
    "# from start to position 6, exclusive, set every 2nd element to 1000\n",
    "a[:6:2]"
   ]
  },
  {
   "cell_type": "code",
   "execution_count": 19,
   "id": "1bab373b-4638-486c-abc5-ad52a86a419e",
   "metadata": {},
   "outputs": [
    {
     "data": {
      "text/plain": [
       "array([729, 512, 343, 216, 125,  64,  27,   8,   1,   0], dtype=int32)"
      ]
     },
     "execution_count": 19,
     "metadata": {},
     "output_type": "execute_result"
    }
   ],
   "source": [
    "a[::-1]  # reversed a"
   ]
  },
  {
   "cell_type": "code",
   "execution_count": null,
   "id": "a99796e8-d46b-416f-b513-c232a5423449",
   "metadata": {},
   "outputs": [],
   "source": []
  },
  {
   "cell_type": "markdown",
   "id": "b0c67a3a-83e2-4460-bc43-bcf035321220",
   "metadata": {},
   "source": [
    "### indexing multi-dimensionale \n",
    "Fuziona come l'indicizzazione delle liste python"
   ]
  },
  {
   "cell_type": "code",
   "execution_count": 20,
   "id": "5f2d665d-b31d-48b4-a3d4-222386b184c0",
   "metadata": {},
   "outputs": [
    {
     "data": {
      "text/plain": [
       "array([[ 0,  1,  2,  3],\n",
       "       [10, 11, 12, 13],\n",
       "       [20, 21, 22, 23],\n",
       "       [30, 31, 32, 33],\n",
       "       [40, 41, 42, 43]])"
      ]
     },
     "execution_count": 20,
     "metadata": {},
     "output_type": "execute_result"
    }
   ],
   "source": [
    "def f(x, y):\n",
    "    return 10 * x + y\n",
    "\n",
    "b = np.fromfunction(f, (5, 4), dtype=int)\n",
    "b"
   ]
  },
  {
   "cell_type": "code",
   "execution_count": 21,
   "id": "27425afd-bbf1-45a7-bb7d-6b71c602bf41",
   "metadata": {},
   "outputs": [
    {
     "data": {
      "text/plain": [
       "23"
      ]
     },
     "execution_count": 21,
     "metadata": {},
     "output_type": "execute_result"
    }
   ],
   "source": [
    "b[2, 3] # element where row = 2, column = 3"
   ]
  },
  {
   "cell_type": "code",
   "execution_count": 22,
   "id": "b9e25551-fe9f-41db-b748-03cfa20e662f",
   "metadata": {},
   "outputs": [
    {
     "data": {
      "text/plain": [
       "array([ 1, 11, 21, 31, 41])"
      ]
     },
     "execution_count": 22,
     "metadata": {},
     "output_type": "execute_result"
    }
   ],
   "source": [
    "b[:, 1]  # each row in the second column of b"
   ]
  },
  {
   "cell_type": "code",
   "execution_count": 23,
   "id": "2f746983-0362-4dff-86bc-df6513c85cf4",
   "metadata": {},
   "outputs": [
    {
     "data": {
      "text/plain": [
       "array([[10, 11, 12, 13],\n",
       "       [20, 21, 22, 23]])"
      ]
     },
     "execution_count": 23,
     "metadata": {},
     "output_type": "execute_result"
    }
   ],
   "source": [
    "b[1:3, :]  # each column in the second and third row of b"
   ]
  },
  {
   "cell_type": "code",
   "execution_count": null,
   "id": "3a628ce5-1463-405e-9fe9-6afbca35d665",
   "metadata": {},
   "outputs": [],
   "source": []
  },
  {
   "cell_type": "markdown",
   "id": "d105eb19-a2fa-4283-a3ed-5385bd38e42f",
   "metadata": {},
   "source": [
    "### Copies vs Views"
   ]
  },
  {
   "cell_type": "markdown",
   "id": "f7d5cf47-afeb-4953-a86e-885bce5dedfc",
   "metadata": {},
   "source": [
    "#### No copy for assignments and function calls"
   ]
  },
  {
   "cell_type": "code",
   "execution_count": 24,
   "id": "e25025b6-38f5-4eac-bd92-de2fb8efb762",
   "metadata": {},
   "outputs": [
    {
     "data": {
      "text/plain": [
       "True"
      ]
     },
     "execution_count": 24,
     "metadata": {},
     "output_type": "execute_result"
    }
   ],
   "source": [
    "a = np.array([[ 0,  1,  2,  3],\n",
    "              [ 4,  5,  6,  7],\n",
    "              [ 8,  9, 10, 11]])\n",
    "b = a            # no new object is created\n",
    "b is a           # a and b are two names for the same ndarray object"
   ]
  },
  {
   "cell_type": "markdown",
   "id": "ea60cff9-9383-4ac3-bdc0-b9b49566da21",
   "metadata": {},
   "source": [
    "#### Views and Shallow Copy"
   ]
  },
  {
   "cell_type": "code",
   "execution_count": 25,
   "id": "2e00cf93-025e-4b48-8653-8e612b26ca2d",
   "metadata": {},
   "outputs": [
    {
     "data": {
      "text/plain": [
       "array([[ 0,  1,  2,  3],\n",
       "       [ 4,  5,  6,  7],\n",
       "       [ 8,  9, 10, 11]])"
      ]
     },
     "execution_count": 25,
     "metadata": {},
     "output_type": "execute_result"
    }
   ],
   "source": [
    "c = a.view()\n",
    "c"
   ]
  },
  {
   "cell_type": "code",
   "execution_count": 26,
   "id": "7c666eb4-15c0-4ecf-9aa4-6f5184c999bf",
   "metadata": {},
   "outputs": [
    {
     "data": {
      "text/plain": [
       "False"
      ]
     },
     "execution_count": 26,
     "metadata": {},
     "output_type": "execute_result"
    }
   ],
   "source": [
    "c is a"
   ]
  },
  {
   "cell_type": "code",
   "execution_count": 27,
   "id": "d8f4520a-22db-4e10-bfa9-977ecd1e0720",
   "metadata": {},
   "outputs": [
    {
     "data": {
      "text/plain": [
       "False"
      ]
     },
     "execution_count": 27,
     "metadata": {},
     "output_type": "execute_result"
    }
   ],
   "source": [
    "c.flags.owndata"
   ]
  },
  {
   "cell_type": "code",
   "execution_count": 28,
   "id": "6725c00e-8442-43bd-8f6a-e7afb4f5ce0f",
   "metadata": {},
   "outputs": [
    {
     "data": {
      "text/plain": [
       "True"
      ]
     },
     "execution_count": 28,
     "metadata": {},
     "output_type": "execute_result"
    }
   ],
   "source": [
    "c.base is a            # c is a view of the data owned by a"
   ]
  },
  {
   "cell_type": "code",
   "execution_count": 29,
   "id": "7e651069-5fa6-47a9-ab52-9a6348fc3dcb",
   "metadata": {},
   "outputs": [
    {
     "data": {
      "text/plain": [
       "(3, 4)"
      ]
     },
     "execution_count": 29,
     "metadata": {},
     "output_type": "execute_result"
    }
   ],
   "source": [
    "c = c.reshape((2, 6))  # a's shape doesn't change\n",
    "a.shape"
   ]
  },
  {
   "cell_type": "code",
   "execution_count": 30,
   "id": "77588631-ac94-46f5-aa81-74732bc5f7fc",
   "metadata": {},
   "outputs": [
    {
     "data": {
      "text/plain": [
       "array([[   0,    1,    2,    3],\n",
       "       [1234,    5,    6,    7],\n",
       "       [   8,    9,   10,   11]])"
      ]
     },
     "execution_count": 30,
     "metadata": {},
     "output_type": "execute_result"
    }
   ],
   "source": [
    "c[0, 4] = 1234         # a's data changes\n",
    "a"
   ]
  },
  {
   "cell_type": "markdown",
   "id": "ae74434f-cf4b-44fe-9386-06952c882a88",
   "metadata": {},
   "source": [
    "**Attenzione: lo Slicing di un restituisce una sua vista!!!**"
   ]
  },
  {
   "cell_type": "code",
   "execution_count": 31,
   "id": "0e4fd637-b343-42d5-99ba-c861f08cf5a3",
   "metadata": {},
   "outputs": [
    {
     "data": {
      "text/plain": [
       "False"
      ]
     },
     "execution_count": 31,
     "metadata": {},
     "output_type": "execute_result"
    }
   ],
   "source": [
    "s = a[:, 1:3]\n",
    "s.flags.owndata"
   ]
  },
  {
   "cell_type": "markdown",
   "id": "8e7103b8-ea36-489c-ab58-c271a4966642",
   "metadata": {},
   "source": [
    "#### Deep Copy"
   ]
  },
  {
   "cell_type": "code",
   "execution_count": 32,
   "id": "08451a13-f440-42a5-b0aa-9c8aaa7d32ce",
   "metadata": {},
   "outputs": [
    {
     "data": {
      "text/plain": [
       "False"
      ]
     },
     "execution_count": 32,
     "metadata": {},
     "output_type": "execute_result"
    }
   ],
   "source": [
    "d = a.copy()  # a new array object with new data is created\n",
    "d is a"
   ]
  },
  {
   "cell_type": "code",
   "execution_count": 33,
   "id": "1323e56c-15a7-4785-bc4f-464013e10692",
   "metadata": {},
   "outputs": [
    {
     "data": {
      "text/plain": [
       "False"
      ]
     },
     "execution_count": 33,
     "metadata": {},
     "output_type": "execute_result"
    }
   ],
   "source": [
    "d.base is a  # d doesn't share anything with a"
   ]
  },
  {
   "cell_type": "code",
   "execution_count": 34,
   "id": "55075b75-5d5b-4e1e-8748-d6e0708b4b2e",
   "metadata": {},
   "outputs": [
    {
     "data": {
      "text/plain": [
       "array([[   0,    1,    2,    3],\n",
       "       [1234,    5,    6,    7],\n",
       "       [   8,    9,   10,   11]])"
      ]
     },
     "execution_count": 34,
     "metadata": {},
     "output_type": "execute_result"
    }
   ],
   "source": [
    "d[0, 0] = 9999\n",
    "a"
   ]
  },
  {
   "cell_type": "code",
   "execution_count": null,
   "id": "b2d5be3c-45a4-44d9-b958-b356ee01542b",
   "metadata": {},
   "outputs": [],
   "source": []
  },
  {
   "cell_type": "code",
   "execution_count": null,
   "id": "741a414e-8ea7-4b66-a880-a9ea9b619582",
   "metadata": {},
   "outputs": [],
   "source": []
  },
  {
   "attachments": {
    "f4f58c91-f829-4931-a295-53d93ee8929f.png": {
     "image/png": "[encoded data removed]"
    }
   },
   "cell_type": "markdown",
   "id": "cf04f27e-2310-4759-a6df-f485b7853aa0",
   "metadata": {},
   "source": [
    "## Pandas\n",
    "Pandas è un modulo molto flessibile per analisi e manipolazione dei dati, costruito al di sopra di numpy, del quale eredita buona parte delle caratteristiche.\n",
    "\n",
    "Tutte le considerazioni fatte sopra per numpy, si applicano anche alle strutture dati di pandas.\n",
    "\n",
    "### Strutture dati\n",
    "Le strutture dati principali sono:\n",
    "- Series: array monodimensionali, etichettati e indicizzati. Gli elementi sono tutti dello stesso tipo (si può generalizzate con *object*)\n",
    "- Dataframe: matrici bidimensionali, con colonne potenzialmente di tipo diverso. Sia le righe che le colonne sono etichettate e indicizzate.\n",
    "\n",
    "![image.png](attachment:f4f58c91-f829-4931-a295-53d93ee8929f.png)"
   ]
  },
  {
   "cell_type": "code",
   "execution_count": 35,
   "id": "42b15050-7f35-48c3-a6c4-44afbf47d9cd",
   "metadata": {},
   "outputs": [
    {
     "data": {
      "text/plain": [
       "a    1.635483\n",
       "b    0.238647\n",
       "c   -1.278675\n",
       "d   -0.874882\n",
       "e    0.107569\n",
       "dtype: float64"
      ]
     },
     "execution_count": 35,
     "metadata": {},
     "output_type": "execute_result"
    }
   ],
   "source": [
    "# Series \n",
    "s = pd.Series(np.random.randn(5), index=[\"a\", \"b\", \"c\", \"d\", \"e\"])\n",
    "s"
   ]
  },
  {
   "cell_type": "code",
   "execution_count": 36,
   "id": "c9a05144-1ac7-413f-b63f-13d960614509",
   "metadata": {},
   "outputs": [
    {
     "data": {
      "text/html": [
       "<div>\n",
       "<style scoped>\n",
       "    .dataframe tbody tr th:only-of-type {\n",
       "        vertical-align: middle;\n",
       "    }\n",
       "\n",
       "    .dataframe tbody tr th {\n",
       "        vertical-align: top;\n",
       "    }\n",
       "\n",
       "    .dataframe thead th {\n",
       "        text-align: right;\n",
       "    }\n",
       "</style>\n",
       "<table border=\"1\" class=\"dataframe\">\n",
       "  <thead>\n",
       "    <tr style=\"text-align: right;\">\n",
       "      <th></th>\n",
       "      <th>A</th>\n",
       "      <th>B</th>\n",
       "      <th>C</th>\n",
       "    </tr>\n",
       "  </thead>\n",
       "  <tbody>\n",
       "    <tr>\n",
       "      <th>2000-01-01</th>\n",
       "      <td>0.979042</td>\n",
       "      <td>-0.033734</td>\n",
       "      <td>1.515242</td>\n",
       "    </tr>\n",
       "    <tr>\n",
       "      <th>2000-01-02</th>\n",
       "      <td>-0.943729</td>\n",
       "      <td>-1.450667</td>\n",
       "      <td>0.468487</td>\n",
       "    </tr>\n",
       "    <tr>\n",
       "      <th>2000-01-03</th>\n",
       "      <td>0.254668</td>\n",
       "      <td>0.240142</td>\n",
       "      <td>-1.081223</td>\n",
       "    </tr>\n",
       "    <tr>\n",
       "      <th>2000-01-04</th>\n",
       "      <td>-0.802006</td>\n",
       "      <td>0.246257</td>\n",
       "      <td>-0.182341</td>\n",
       "    </tr>\n",
       "    <tr>\n",
       "      <th>2000-01-05</th>\n",
       "      <td>-1.436406</td>\n",
       "      <td>-2.498902</td>\n",
       "      <td>-0.922265</td>\n",
       "    </tr>\n",
       "    <tr>\n",
       "      <th>2000-01-06</th>\n",
       "      <td>0.258133</td>\n",
       "      <td>0.191648</td>\n",
       "      <td>1.552846</td>\n",
       "    </tr>\n",
       "    <tr>\n",
       "      <th>2000-01-07</th>\n",
       "      <td>-1.055964</td>\n",
       "      <td>0.565125</td>\n",
       "      <td>-1.889738</td>\n",
       "    </tr>\n",
       "    <tr>\n",
       "      <th>2000-01-08</th>\n",
       "      <td>0.931920</td>\n",
       "      <td>-0.317318</td>\n",
       "      <td>0.041580</td>\n",
       "    </tr>\n",
       "  </tbody>\n",
       "</table>\n",
       "</div>"
      ],
      "text/plain": [
       "                   A         B         C\n",
       "2000-01-01  0.979042 -0.033734  1.515242\n",
       "2000-01-02 -0.943729 -1.450667  0.468487\n",
       "2000-01-03  0.254668  0.240142 -1.081223\n",
       "2000-01-04 -0.802006  0.246257 -0.182341\n",
       "2000-01-05 -1.436406 -2.498902 -0.922265\n",
       "2000-01-06  0.258133  0.191648  1.552846\n",
       "2000-01-07 -1.055964  0.565125 -1.889738\n",
       "2000-01-08  0.931920 -0.317318  0.041580"
      ]
     },
     "execution_count": 36,
     "metadata": {},
     "output_type": "execute_result"
    }
   ],
   "source": [
    "# DataFrame\n",
    "index = pd.date_range(\"1/1/2000\", periods=8)\n",
    "df = pd.DataFrame(np.random.randn(8, 3), index=index, columns=[\"A\", \"B\", \"C\"])\n",
    "df"
   ]
  },
  {
   "cell_type": "markdown",
   "id": "88d10c74-0785-47b6-b2b4-bb460ff36b8f",
   "metadata": {},
   "source": [
    "### Basic Functionality\n",
    "Verranno mostrate sui DataFrame ma in buona parte sono utilizzabili anche sulle Series.\n",
    "\n",
    "- shape\n",
    "- head\n",
    "- tail\n",
    "- describe\n",
    "- info (solo DF)\n",
    "- value_counts\n",
    "- select_dtypes"
   ]
  },
  {
   "cell_type": "code",
   "execution_count": 37,
   "id": "a4432992-fda7-46f1-a80d-f1b0b9bd5ec3",
   "metadata": {},
   "outputs": [
    {
     "data": {
      "text/plain": [
       "(8, 3)"
      ]
     },
     "execution_count": 37,
     "metadata": {},
     "output_type": "execute_result"
    }
   ],
   "source": [
    "# shape\n",
    "df.shape"
   ]
  },
  {
   "cell_type": "code",
   "execution_count": 38,
   "id": "65df150d-521d-4958-bdc0-35f15e6d7a4b",
   "metadata": {},
   "outputs": [
    {
     "data": {
      "text/html": [
       "<div>\n",
       "<style scoped>\n",
       "    .dataframe tbody tr th:only-of-type {\n",
       "        vertical-align: middle;\n",
       "    }\n",
       "\n",
       "    .dataframe tbody tr th {\n",
       "        vertical-align: top;\n",
       "    }\n",
       "\n",
       "    .dataframe thead th {\n",
       "        text-align: right;\n",
       "    }\n",
       "</style>\n",
       "<table border=\"1\" class=\"dataframe\">\n",
       "  <thead>\n",
       "    <tr style=\"text-align: right;\">\n",
       "      <th></th>\n",
       "      <th>A</th>\n",
       "      <th>B</th>\n",
       "      <th>C</th>\n",
       "    </tr>\n",
       "  </thead>\n",
       "  <tbody>\n",
       "    <tr>\n",
       "      <th>2000-01-01</th>\n",
       "      <td>0.979042</td>\n",
       "      <td>-0.033734</td>\n",
       "      <td>1.515242</td>\n",
       "    </tr>\n",
       "    <tr>\n",
       "      <th>2000-01-02</th>\n",
       "      <td>-0.943729</td>\n",
       "      <td>-1.450667</td>\n",
       "      <td>0.468487</td>\n",
       "    </tr>\n",
       "  </tbody>\n",
       "</table>\n",
       "</div>"
      ],
      "text/plain": [
       "                   A         B         C\n",
       "2000-01-01  0.979042 -0.033734  1.515242\n",
       "2000-01-02 -0.943729 -1.450667  0.468487"
      ]
     },
     "execution_count": 38,
     "metadata": {},
     "output_type": "execute_result"
    }
   ],
   "source": [
    "# head\n",
    "df.head(2)"
   ]
  },
  {
   "cell_type": "code",
   "execution_count": 39,
   "id": "7b5237b8-d739-4154-9cd6-e225a65deb99",
   "metadata": {},
   "outputs": [
    {
     "data": {
      "text/html": [
       "<div>\n",
       "<style scoped>\n",
       "    .dataframe tbody tr th:only-of-type {\n",
       "        vertical-align: middle;\n",
       "    }\n",
       "\n",
       "    .dataframe tbody tr th {\n",
       "        vertical-align: top;\n",
       "    }\n",
       "\n",
       "    .dataframe thead th {\n",
       "        text-align: right;\n",
       "    }\n",
       "</style>\n",
       "<table border=\"1\" class=\"dataframe\">\n",
       "  <thead>\n",
       "    <tr style=\"text-align: right;\">\n",
       "      <th></th>\n",
       "      <th>A</th>\n",
       "      <th>B</th>\n",
       "      <th>C</th>\n",
       "    </tr>\n",
       "  </thead>\n",
       "  <tbody>\n",
       "    <tr>\n",
       "      <th>2000-01-07</th>\n",
       "      <td>-1.055964</td>\n",
       "      <td>0.565125</td>\n",
       "      <td>-1.889738</td>\n",
       "    </tr>\n",
       "    <tr>\n",
       "      <th>2000-01-08</th>\n",
       "      <td>0.931920</td>\n",
       "      <td>-0.317318</td>\n",
       "      <td>0.041580</td>\n",
       "    </tr>\n",
       "  </tbody>\n",
       "</table>\n",
       "</div>"
      ],
      "text/plain": [
       "                   A         B         C\n",
       "2000-01-07 -1.055964  0.565125 -1.889738\n",
       "2000-01-08  0.931920 -0.317318  0.041580"
      ]
     },
     "execution_count": 39,
     "metadata": {},
     "output_type": "execute_result"
    }
   ],
   "source": [
    "# tail\n",
    "df.tail(2)"
   ]
  },
  {
   "cell_type": "code",
   "execution_count": 40,
   "id": "10f3e88c-cd59-40f6-882f-e2b03deee4e1",
   "metadata": {},
   "outputs": [
    {
     "data": {
      "text/html": [
       "<div>\n",
       "<style scoped>\n",
       "    .dataframe tbody tr th:only-of-type {\n",
       "        vertical-align: middle;\n",
       "    }\n",
       "\n",
       "    .dataframe tbody tr th {\n",
       "        vertical-align: top;\n",
       "    }\n",
       "\n",
       "    .dataframe thead th {\n",
       "        text-align: right;\n",
       "    }\n",
       "</style>\n",
       "<table border=\"1\" class=\"dataframe\">\n",
       "  <thead>\n",
       "    <tr style=\"text-align: right;\">\n",
       "      <th></th>\n",
       "      <th>A</th>\n",
       "      <th>B</th>\n",
       "      <th>C</th>\n",
       "    </tr>\n",
       "  </thead>\n",
       "  <tbody>\n",
       "    <tr>\n",
       "      <th>count</th>\n",
       "      <td>8.000000</td>\n",
       "      <td>8.000000</td>\n",
       "      <td>8.000000</td>\n",
       "    </tr>\n",
       "    <tr>\n",
       "      <th>mean</th>\n",
       "      <td>-0.226793</td>\n",
       "      <td>-0.382181</td>\n",
       "      <td>-0.062177</td>\n",
       "    </tr>\n",
       "    <tr>\n",
       "      <th>std</th>\n",
       "      <td>0.945604</td>\n",
       "      <td>1.052662</td>\n",
       "      <td>1.226001</td>\n",
       "    </tr>\n",
       "    <tr>\n",
       "      <th>min</th>\n",
       "      <td>-1.436406</td>\n",
       "      <td>-2.498902</td>\n",
       "      <td>-1.889738</td>\n",
       "    </tr>\n",
       "    <tr>\n",
       "      <th>25%</th>\n",
       "      <td>-0.971788</td>\n",
       "      <td>-0.600656</td>\n",
       "      <td>-0.962005</td>\n",
       "    </tr>\n",
       "    <tr>\n",
       "      <th>50%</th>\n",
       "      <td>-0.273669</td>\n",
       "      <td>0.078957</td>\n",
       "      <td>-0.070381</td>\n",
       "    </tr>\n",
       "    <tr>\n",
       "      <th>75%</th>\n",
       "      <td>0.426580</td>\n",
       "      <td>0.241670</td>\n",
       "      <td>0.730176</td>\n",
       "    </tr>\n",
       "    <tr>\n",
       "      <th>max</th>\n",
       "      <td>0.979042</td>\n",
       "      <td>0.565125</td>\n",
       "      <td>1.552846</td>\n",
       "    </tr>\n",
       "  </tbody>\n",
       "</table>\n",
       "</div>"
      ],
      "text/plain": [
       "              A         B         C\n",
       "count  8.000000  8.000000  8.000000\n",
       "mean  -0.226793 -0.382181 -0.062177\n",
       "std    0.945604  1.052662  1.226001\n",
       "min   -1.436406 -2.498902 -1.889738\n",
       "25%   -0.971788 -0.600656 -0.962005\n",
       "50%   -0.273669  0.078957 -0.070381\n",
       "75%    0.426580  0.241670  0.730176\n",
       "max    0.979042  0.565125  1.552846"
      ]
     },
     "execution_count": 40,
     "metadata": {},
     "output_type": "execute_result"
    }
   ],
   "source": [
    "# describe\n",
    "df.describe()"
   ]
  },
  {
   "cell_type": "code",
   "execution_count": 41,
   "id": "3a01b18b-2b74-4978-9cb1-657bbe04d84d",
   "metadata": {},
   "outputs": [
    {
     "name": "stdout",
     "output_type": "stream",
     "text": [
      "<class 'pandas.core.frame.DataFrame'>\n",
      "DatetimeIndex: 8 entries, 2000-01-01 to 2000-01-08\n",
      "Freq: D\n",
      "Data columns (total 3 columns):\n",
      " #   Column  Non-Null Count  Dtype  \n",
      "---  ------  --------------  -----  \n",
      " 0   A       8 non-null      float64\n",
      " 1   B       8 non-null      float64\n",
      " 2   C       8 non-null      float64\n",
      "dtypes: float64(3)\n",
      "memory usage: 256.0 bytes\n"
     ]
    }
   ],
   "source": [
    "# info\n",
    "df.info()"
   ]
  },
  {
   "cell_type": "code",
   "execution_count": 42,
   "id": "11932afe-f5b7-402b-b49a-c1c958104834",
   "metadata": {},
   "outputs": [
    {
     "data": {
      "text/plain": [
       "A          B          C        \n",
       "-1.436406  -2.498902  -0.922265    1\n",
       "-1.055964   0.565125  -1.889738    1\n",
       "-0.943729  -1.450667   0.468487    1\n",
       "-0.802006   0.246257  -0.182341    1\n",
       " 0.254668   0.240142  -1.081223    1\n",
       " 0.258133   0.191648   1.552846    1\n",
       " 0.931920  -0.317318   0.041580    1\n",
       " 0.979042  -0.033734   1.515242    1\n",
       "dtype: int64"
      ]
     },
     "execution_count": 42,
     "metadata": {},
     "output_type": "execute_result"
    }
   ],
   "source": [
    "# value_counts on a DataFrame\n",
    "df.value_counts()"
   ]
  },
  {
   "cell_type": "code",
   "execution_count": 43,
   "id": "46ad0341-f8b5-43b2-a0ae-322f659da1a0",
   "metadata": {},
   "outputs": [
    {
     "data": {
      "text/plain": [
       " 0.979042    1\n",
       "-0.943729    1\n",
       " 0.254668    1\n",
       "-0.802006    1\n",
       "-1.436406    1\n",
       " 0.258133    1\n",
       "-1.055964    1\n",
       " 0.931920    1\n",
       "Name: A, dtype: int64"
      ]
     },
     "execution_count": 43,
     "metadata": {},
     "output_type": "execute_result"
    }
   ],
   "source": [
    "# value_counts on a Series\n",
    "df[\"A\"].value_counts()"
   ]
  },
  {
   "cell_type": "code",
   "execution_count": 44,
   "id": "a347f184-040f-44eb-b386-27fe037ea00b",
   "metadata": {},
   "outputs": [
    {
     "data": {
      "text/html": [
       "<div>\n",
       "<style scoped>\n",
       "    .dataframe tbody tr th:only-of-type {\n",
       "        vertical-align: middle;\n",
       "    }\n",
       "\n",
       "    .dataframe tbody tr th {\n",
       "        vertical-align: top;\n",
       "    }\n",
       "\n",
       "    .dataframe thead th {\n",
       "        text-align: right;\n",
       "    }\n",
       "</style>\n",
       "<table border=\"1\" class=\"dataframe\">\n",
       "  <thead>\n",
       "    <tr style=\"text-align: right;\">\n",
       "      <th></th>\n",
       "    </tr>\n",
       "  </thead>\n",
       "  <tbody>\n",
       "    <tr>\n",
       "      <th>2000-01-01</th>\n",
       "    </tr>\n",
       "    <tr>\n",
       "      <th>2000-01-02</th>\n",
       "    </tr>\n",
       "    <tr>\n",
       "      <th>2000-01-03</th>\n",
       "    </tr>\n",
       "    <tr>\n",
       "      <th>2000-01-04</th>\n",
       "    </tr>\n",
       "    <tr>\n",
       "      <th>2000-01-05</th>\n",
       "    </tr>\n",
       "    <tr>\n",
       "      <th>2000-01-06</th>\n",
       "    </tr>\n",
       "    <tr>\n",
       "      <th>2000-01-07</th>\n",
       "    </tr>\n",
       "    <tr>\n",
       "      <th>2000-01-08</th>\n",
       "    </tr>\n",
       "  </tbody>\n",
       "</table>\n",
       "</div>"
      ],
      "text/plain": [
       "Empty DataFrame\n",
       "Columns: []\n",
       "Index: [2000-01-01 00:00:00, 2000-01-02 00:00:00, 2000-01-03 00:00:00, 2000-01-04 00:00:00, 2000-01-05 00:00:00, 2000-01-06 00:00:00, 2000-01-07 00:00:00, 2000-01-08 00:00:00]"
      ]
     },
     "execution_count": 44,
     "metadata": {},
     "output_type": "execute_result"
    }
   ],
   "source": [
    "# select_dtypes -> per ottenere solo le colonne object (che solitamente sono le features categoriche)\n",
    "df.select_dtypes(include=[object])"
   ]
  },
  {
   "cell_type": "code",
   "execution_count": 45,
   "id": "74d3c701-0b04-40f3-b1e2-b4d18e2ffef8",
   "metadata": {},
   "outputs": [
    {
     "data": {
      "text/html": [
       "<div>\n",
       "<style scoped>\n",
       "    .dataframe tbody tr th:only-of-type {\n",
       "        vertical-align: middle;\n",
       "    }\n",
       "\n",
       "    .dataframe tbody tr th {\n",
       "        vertical-align: top;\n",
       "    }\n",
       "\n",
       "    .dataframe thead th {\n",
       "        text-align: right;\n",
       "    }\n",
       "</style>\n",
       "<table border=\"1\" class=\"dataframe\">\n",
       "  <thead>\n",
       "    <tr style=\"text-align: right;\">\n",
       "      <th></th>\n",
       "      <th>A</th>\n",
       "      <th>B</th>\n",
       "      <th>C</th>\n",
       "    </tr>\n",
       "  </thead>\n",
       "  <tbody>\n",
       "    <tr>\n",
       "      <th>2000-01-01</th>\n",
       "      <td>0.979042</td>\n",
       "      <td>-0.033734</td>\n",
       "      <td>1.515242</td>\n",
       "    </tr>\n",
       "    <tr>\n",
       "      <th>2000-01-02</th>\n",
       "      <td>-0.943729</td>\n",
       "      <td>-1.450667</td>\n",
       "      <td>0.468487</td>\n",
       "    </tr>\n",
       "    <tr>\n",
       "      <th>2000-01-03</th>\n",
       "      <td>0.254668</td>\n",
       "      <td>0.240142</td>\n",
       "      <td>-1.081223</td>\n",
       "    </tr>\n",
       "    <tr>\n",
       "      <th>2000-01-04</th>\n",
       "      <td>-0.802006</td>\n",
       "      <td>0.246257</td>\n",
       "      <td>-0.182341</td>\n",
       "    </tr>\n",
       "    <tr>\n",
       "      <th>2000-01-05</th>\n",
       "      <td>-1.436406</td>\n",
       "      <td>-2.498902</td>\n",
       "      <td>-0.922265</td>\n",
       "    </tr>\n",
       "    <tr>\n",
       "      <th>2000-01-06</th>\n",
       "      <td>0.258133</td>\n",
       "      <td>0.191648</td>\n",
       "      <td>1.552846</td>\n",
       "    </tr>\n",
       "    <tr>\n",
       "      <th>2000-01-07</th>\n",
       "      <td>-1.055964</td>\n",
       "      <td>0.565125</td>\n",
       "      <td>-1.889738</td>\n",
       "    </tr>\n",
       "    <tr>\n",
       "      <th>2000-01-08</th>\n",
       "      <td>0.931920</td>\n",
       "      <td>-0.317318</td>\n",
       "      <td>0.041580</td>\n",
       "    </tr>\n",
       "  </tbody>\n",
       "</table>\n",
       "</div>"
      ],
      "text/plain": [
       "                   A         B         C\n",
       "2000-01-01  0.979042 -0.033734  1.515242\n",
       "2000-01-02 -0.943729 -1.450667  0.468487\n",
       "2000-01-03  0.254668  0.240142 -1.081223\n",
       "2000-01-04 -0.802006  0.246257 -0.182341\n",
       "2000-01-05 -1.436406 -2.498902 -0.922265\n",
       "2000-01-06  0.258133  0.191648  1.552846\n",
       "2000-01-07 -1.055964  0.565125 -1.889738\n",
       "2000-01-08  0.931920 -0.317318  0.041580"
      ]
     },
     "execution_count": 45,
     "metadata": {},
     "output_type": "execute_result"
    }
   ],
   "source": [
    "# select_dtypes -> per escludere le colonne object (e ottenere quindi solo le colonne numeriche)\n",
    "df.select_dtypes(exclude=[object])"
   ]
  },
  {
   "cell_type": "markdown",
   "id": "4ec5d779-0f4a-4d7e-94d1-f9c9836e95b6",
   "metadata": {},
   "source": [
    "### Indexing\n",
    "Questa è una delle funzionalità più importanti di pandas.\n",
    "Esistono moltissimi modi per selezionare le porzioni dei DataFrame che ci interessano, eccone riportate alcune:\n",
    "\n",
    "| Operation                                   | Syntax                         | Result    |\n",
    "|---------------------------------------------|--------------------------------|-----------|\n",
    "| Select column                               | df[col]                        | Series    |\n",
    "| Select multiple columns                     | df[[c_list]]                   | DataFrame |\n",
    "| Select row by label                         | df.loc[label]                  | Series    |\n",
    "| Select row by integer location              | df.iloc[loc]                   | Series    |\n",
    "| Slice rows                                  | df[5:10]                       | DataFrame |\n",
    "| Select rows by boolean vector               | df[bool_vec]                   | DataFrame |\n",
    "| Select rows and columns by label            | df.loc[[r_labels], [c_labels]] | DataFrame |\n",
    "|                                             | df.loc[[r_bool_vec], [c_bool_vec]] |           |\n",
    "| Select rows and columns by integer location | df.iloc[[r_loc], [c_loc]]      | DataFrame |\n",
    "\n",
    "Inoltre tutte le combinazioni, su righe e colonne, delle sintassi precedenti risultano valide.\n",
    "\n",
    "\n",
    "**Attenzione: siccome dietro le quinte viene usato Numpy occorre prestare attenzione al discorso `view vs copy`.\n",
    "In particolare è noto il fenomeno del `chained assignment` (maggiori dettagli [qui](https://towardsdatascience.com/explaining-the-settingwithcopywarning-in-pandas-ebc19d799d25))**"
   ]
  },
  {
   "cell_type": "code",
   "execution_count": 46,
   "id": "4ae9ed22-ff8d-446d-b7f4-68b1d7378535",
   "metadata": {},
   "outputs": [
    {
     "data": {
      "text/html": [
       "<div>\n",
       "<style scoped>\n",
       "    .dataframe tbody tr th:only-of-type {\n",
       "        vertical-align: middle;\n",
       "    }\n",
       "\n",
       "    .dataframe tbody tr th {\n",
       "        vertical-align: top;\n",
       "    }\n",
       "\n",
       "    .dataframe thead th {\n",
       "        text-align: right;\n",
       "    }\n",
       "</style>\n",
       "<table border=\"1\" class=\"dataframe\">\n",
       "  <thead>\n",
       "    <tr style=\"text-align: right;\">\n",
       "      <th></th>\n",
       "      <th>A</th>\n",
       "      <th>B</th>\n",
       "      <th>C</th>\n",
       "    </tr>\n",
       "  </thead>\n",
       "  <tbody>\n",
       "    <tr>\n",
       "      <th>2000-01-01</th>\n",
       "      <td>0.979042</td>\n",
       "      <td>-0.033734</td>\n",
       "      <td>1.515242</td>\n",
       "    </tr>\n",
       "    <tr>\n",
       "      <th>2000-01-02</th>\n",
       "      <td>-0.943729</td>\n",
       "      <td>-1.450667</td>\n",
       "      <td>0.468487</td>\n",
       "    </tr>\n",
       "    <tr>\n",
       "      <th>2000-01-03</th>\n",
       "      <td>0.254668</td>\n",
       "      <td>0.240142</td>\n",
       "      <td>-1.081223</td>\n",
       "    </tr>\n",
       "    <tr>\n",
       "      <th>2000-01-04</th>\n",
       "      <td>-0.802006</td>\n",
       "      <td>0.246257</td>\n",
       "      <td>-0.182341</td>\n",
       "    </tr>\n",
       "    <tr>\n",
       "      <th>2000-01-05</th>\n",
       "      <td>-1.436406</td>\n",
       "      <td>-2.498902</td>\n",
       "      <td>-0.922265</td>\n",
       "    </tr>\n",
       "    <tr>\n",
       "      <th>2000-01-06</th>\n",
       "      <td>0.258133</td>\n",
       "      <td>0.191648</td>\n",
       "      <td>1.552846</td>\n",
       "    </tr>\n",
       "    <tr>\n",
       "      <th>2000-01-07</th>\n",
       "      <td>-1.055964</td>\n",
       "      <td>0.565125</td>\n",
       "      <td>-1.889738</td>\n",
       "    </tr>\n",
       "    <tr>\n",
       "      <th>2000-01-08</th>\n",
       "      <td>0.931920</td>\n",
       "      <td>-0.317318</td>\n",
       "      <td>0.041580</td>\n",
       "    </tr>\n",
       "  </tbody>\n",
       "</table>\n",
       "</div>"
      ],
      "text/plain": [
       "                   A         B         C\n",
       "2000-01-01  0.979042 -0.033734  1.515242\n",
       "2000-01-02 -0.943729 -1.450667  0.468487\n",
       "2000-01-03  0.254668  0.240142 -1.081223\n",
       "2000-01-04 -0.802006  0.246257 -0.182341\n",
       "2000-01-05 -1.436406 -2.498902 -0.922265\n",
       "2000-01-06  0.258133  0.191648  1.552846\n",
       "2000-01-07 -1.055964  0.565125 -1.889738\n",
       "2000-01-08  0.931920 -0.317318  0.041580"
      ]
     },
     "execution_count": 46,
     "metadata": {},
     "output_type": "execute_result"
    }
   ],
   "source": [
    "df"
   ]
  },
  {
   "cell_type": "code",
   "execution_count": 47,
   "id": "14eae19f-74e2-41c9-81fe-15039c1875d4",
   "metadata": {},
   "outputs": [
    {
     "data": {
      "text/plain": [
       "2000-01-01   -0.033734\n",
       "2000-01-02   -1.450667\n",
       "2000-01-03    0.240142\n",
       "2000-01-04    0.246257\n",
       "2000-01-05   -2.498902\n",
       "2000-01-06    0.191648\n",
       "2000-01-07    0.565125\n",
       "2000-01-08   -0.317318\n",
       "Freq: D, Name: B, dtype: float64"
      ]
     },
     "execution_count": 47,
     "metadata": {},
     "output_type": "execute_result"
    }
   ],
   "source": [
    "df[\"B\"]"
   ]
  },
  {
   "cell_type": "code",
   "execution_count": 48,
   "id": "eb87adb5-8acc-40e0-93c9-eef6d02f5ab8",
   "metadata": {},
   "outputs": [
    {
     "data": {
      "text/plain": [
       "A   -0.802006\n",
       "B    0.246257\n",
       "C   -0.182341\n",
       "Name: 2000-01-04 00:00:00, dtype: float64"
      ]
     },
     "execution_count": 48,
     "metadata": {},
     "output_type": "execute_result"
    }
   ],
   "source": [
    "df.loc[\"2000-01-04\"]"
   ]
  },
  {
   "cell_type": "code",
   "execution_count": 49,
   "id": "146c1e2c-1911-4080-9c48-cedb77409afe",
   "metadata": {},
   "outputs": [
    {
     "data": {
      "text/plain": [
       "A   -0.802006\n",
       "B    0.246257\n",
       "C   -0.182341\n",
       "Name: 2000-01-04 00:00:00, dtype: float64"
      ]
     },
     "execution_count": 49,
     "metadata": {},
     "output_type": "execute_result"
    }
   ],
   "source": [
    "df.loc[datetime(2000,1,4)]"
   ]
  },
  {
   "cell_type": "code",
   "execution_count": 50,
   "id": "e03979a0-0518-45bc-974d-75f4a15081e8",
   "metadata": {},
   "outputs": [
    {
     "data": {
      "text/plain": [
       "2000-01-01   -0.033734\n",
       "2000-01-02   -1.450667\n",
       "2000-01-03    0.240142\n",
       "2000-01-04    0.246257\n",
       "2000-01-05   -2.498902\n",
       "2000-01-06    0.191648\n",
       "2000-01-07    0.565125\n",
       "2000-01-08   -0.317318\n",
       "Freq: D, Name: B, dtype: float64"
      ]
     },
     "execution_count": 50,
     "metadata": {},
     "output_type": "execute_result"
    }
   ],
   "source": [
    "df.loc[:, \"B\"]"
   ]
  },
  {
   "cell_type": "code",
   "execution_count": 51,
   "id": "af1f9ca2-10ec-45d1-bbea-ffcb99911d67",
   "metadata": {},
   "outputs": [
    {
     "data": {
      "text/html": [
       "<div>\n",
       "<style scoped>\n",
       "    .dataframe tbody tr th:only-of-type {\n",
       "        vertical-align: middle;\n",
       "    }\n",
       "\n",
       "    .dataframe tbody tr th {\n",
       "        vertical-align: top;\n",
       "    }\n",
       "\n",
       "    .dataframe thead th {\n",
       "        text-align: right;\n",
       "    }\n",
       "</style>\n",
       "<table border=\"1\" class=\"dataframe\">\n",
       "  <thead>\n",
       "    <tr style=\"text-align: right;\">\n",
       "      <th></th>\n",
       "      <th>A</th>\n",
       "      <th>B</th>\n",
       "    </tr>\n",
       "  </thead>\n",
       "  <tbody>\n",
       "    <tr>\n",
       "      <th>2000-01-04</th>\n",
       "      <td>-0.802006</td>\n",
       "      <td>0.246257</td>\n",
       "    </tr>\n",
       "    <tr>\n",
       "      <th>2000-01-08</th>\n",
       "      <td>0.931920</td>\n",
       "      <td>-0.317318</td>\n",
       "    </tr>\n",
       "  </tbody>\n",
       "</table>\n",
       "</div>"
      ],
      "text/plain": [
       "                   A         B\n",
       "2000-01-04 -0.802006  0.246257\n",
       "2000-01-08  0.931920 -0.317318"
      ]
     },
     "execution_count": 51,
     "metadata": {},
     "output_type": "execute_result"
    }
   ],
   "source": [
    "# Select rows and columns by label \n",
    "df.loc[[\"2000-01-04\", \"2000-01-08\"], [\"A\", \"B\"]]"
   ]
  },
  {
   "cell_type": "code",
   "execution_count": 52,
   "id": "0c951eb8-3b7b-4cc4-bd12-c16451c3a976",
   "metadata": {},
   "outputs": [
    {
     "data": {
      "text/plain": [
       "array([ True, False, False, False, False, False, False,  True])"
      ]
     },
     "execution_count": 52,
     "metadata": {},
     "output_type": "execute_result"
    }
   ],
   "source": [
    "# Select rows by boolean vector\n",
    "r_bool_vec = df.index.weekday == 5 # sabato\n",
    "r_bool_vec"
   ]
  },
  {
   "cell_type": "code",
   "execution_count": 53,
   "id": "ce5eaafb-28a2-4bb5-9499-abd04b828c00",
   "metadata": {},
   "outputs": [
    {
     "data": {
      "text/plain": [
       "array([ True, False, False])"
      ]
     },
     "execution_count": 53,
     "metadata": {},
     "output_type": "execute_result"
    }
   ],
   "source": [
    "c_bool_vec = df.columns == \"A\"\n",
    "c_bool_vec"
   ]
  },
  {
   "cell_type": "code",
   "execution_count": 54,
   "id": "34534ca8-6a58-4bd3-b9e3-ae523a6f01d2",
   "metadata": {},
   "outputs": [
    {
     "data": {
      "text/html": [
       "<div>\n",
       "<style scoped>\n",
       "    .dataframe tbody tr th:only-of-type {\n",
       "        vertical-align: middle;\n",
       "    }\n",
       "\n",
       "    .dataframe tbody tr th {\n",
       "        vertical-align: top;\n",
       "    }\n",
       "\n",
       "    .dataframe thead th {\n",
       "        text-align: right;\n",
       "    }\n",
       "</style>\n",
       "<table border=\"1\" class=\"dataframe\">\n",
       "  <thead>\n",
       "    <tr style=\"text-align: right;\">\n",
       "      <th></th>\n",
       "      <th>A</th>\n",
       "    </tr>\n",
       "  </thead>\n",
       "  <tbody>\n",
       "    <tr>\n",
       "      <th>2000-01-01</th>\n",
       "      <td>0.979042</td>\n",
       "    </tr>\n",
       "    <tr>\n",
       "      <th>2000-01-08</th>\n",
       "      <td>0.931920</td>\n",
       "    </tr>\n",
       "  </tbody>\n",
       "</table>\n",
       "</div>"
      ],
      "text/plain": [
       "                   A\n",
       "2000-01-01  0.979042\n",
       "2000-01-08  0.931920"
      ]
     },
     "execution_count": 54,
     "metadata": {},
     "output_type": "execute_result"
    }
   ],
   "source": [
    "df.loc[r_bool_vec, c_bool_vec]"
   ]
  },
  {
   "cell_type": "code",
   "execution_count": 55,
   "id": "2e5fc396-eeac-4176-bea5-8f004ff07f79",
   "metadata": {},
   "outputs": [
    {
     "data": {
      "text/html": [
       "<div>\n",
       "<style scoped>\n",
       "    .dataframe tbody tr th:only-of-type {\n",
       "        vertical-align: middle;\n",
       "    }\n",
       "\n",
       "    .dataframe tbody tr th {\n",
       "        vertical-align: top;\n",
       "    }\n",
       "\n",
       "    .dataframe thead th {\n",
       "        text-align: right;\n",
       "    }\n",
       "</style>\n",
       "<table border=\"1\" class=\"dataframe\">\n",
       "  <thead>\n",
       "    <tr style=\"text-align: right;\">\n",
       "      <th></th>\n",
       "      <th>B</th>\n",
       "      <th>C</th>\n",
       "    </tr>\n",
       "  </thead>\n",
       "  <tbody>\n",
       "    <tr>\n",
       "      <th>2000-01-02</th>\n",
       "      <td>-1.450667</td>\n",
       "      <td>0.468487</td>\n",
       "    </tr>\n",
       "    <tr>\n",
       "      <th>2000-01-04</th>\n",
       "      <td>0.246257</td>\n",
       "      <td>-0.182341</td>\n",
       "    </tr>\n",
       "    <tr>\n",
       "      <th>2000-01-06</th>\n",
       "      <td>0.191648</td>\n",
       "      <td>1.552846</td>\n",
       "    </tr>\n",
       "    <tr>\n",
       "      <th>2000-01-08</th>\n",
       "      <td>-0.317318</td>\n",
       "      <td>0.041580</td>\n",
       "    </tr>\n",
       "  </tbody>\n",
       "</table>\n",
       "</div>"
      ],
      "text/plain": [
       "                   B         C\n",
       "2000-01-02 -1.450667  0.468487\n",
       "2000-01-04  0.246257 -0.182341\n",
       "2000-01-06  0.191648  1.552846\n",
       "2000-01-08 -0.317318  0.041580"
      ]
     },
     "execution_count": 55,
     "metadata": {},
     "output_type": "execute_result"
    }
   ],
   "source": [
    "# Select rows and columns by integer location\n",
    "df.iloc[range(1,8,2), [1,2]]  "
   ]
  },
  {
   "cell_type": "code",
   "execution_count": null,
   "id": "5ad03f3b-0f6d-47f7-85f7-863f9bc8f800",
   "metadata": {},
   "outputs": [],
   "source": []
  },
  {
   "cell_type": "markdown",
   "id": "7a65167a-c86b-4dba-b3c5-fe3aa4447ed9",
   "metadata": {},
   "source": [
    "#### Selezione\n",
    "Usare l'indicizzazione per eseguire delle query (o degli assegnamenti)!"
   ]
  },
  {
   "cell_type": "code",
   "execution_count": 56,
   "id": "5011a978-53ac-43ce-ad10-b61d2c4d9123",
   "metadata": {},
   "outputs": [
    {
     "data": {
      "text/html": [
       "<div>\n",
       "<style scoped>\n",
       "    .dataframe tbody tr th:only-of-type {\n",
       "        vertical-align: middle;\n",
       "    }\n",
       "\n",
       "    .dataframe tbody tr th {\n",
       "        vertical-align: top;\n",
       "    }\n",
       "\n",
       "    .dataframe thead th {\n",
       "        text-align: right;\n",
       "    }\n",
       "</style>\n",
       "<table border=\"1\" class=\"dataframe\">\n",
       "  <thead>\n",
       "    <tr style=\"text-align: right;\">\n",
       "      <th></th>\n",
       "      <th>A</th>\n",
       "      <th>B</th>\n",
       "      <th>C</th>\n",
       "    </tr>\n",
       "  </thead>\n",
       "  <tbody>\n",
       "    <tr>\n",
       "      <th>2000-01-01</th>\n",
       "      <td>0.979042</td>\n",
       "      <td>-0.033734</td>\n",
       "      <td>1.515242</td>\n",
       "    </tr>\n",
       "    <tr>\n",
       "      <th>2000-01-03</th>\n",
       "      <td>0.254668</td>\n",
       "      <td>0.240142</td>\n",
       "      <td>-1.081223</td>\n",
       "    </tr>\n",
       "    <tr>\n",
       "      <th>2000-01-06</th>\n",
       "      <td>0.258133</td>\n",
       "      <td>0.191648</td>\n",
       "      <td>1.552846</td>\n",
       "    </tr>\n",
       "    <tr>\n",
       "      <th>2000-01-08</th>\n",
       "      <td>0.931920</td>\n",
       "      <td>-0.317318</td>\n",
       "      <td>0.041580</td>\n",
       "    </tr>\n",
       "  </tbody>\n",
       "</table>\n",
       "</div>"
      ],
      "text/plain": [
       "                   A         B         C\n",
       "2000-01-01  0.979042 -0.033734  1.515242\n",
       "2000-01-03  0.254668  0.240142 -1.081223\n",
       "2000-01-06  0.258133  0.191648  1.552846\n",
       "2000-01-08  0.931920 -0.317318  0.041580"
      ]
     },
     "execution_count": 56,
     "metadata": {},
     "output_type": "execute_result"
    }
   ],
   "source": [
    "df[\n",
    "    df[\"A\"] > 0\n",
    "]"
   ]
  },
  {
   "cell_type": "code",
   "execution_count": 57,
   "id": "1ea8f7b6-d65b-4956-85aa-f78d9a59672c",
   "metadata": {},
   "outputs": [
    {
     "data": {
      "text/html": [
       "<div>\n",
       "<style scoped>\n",
       "    .dataframe tbody tr th:only-of-type {\n",
       "        vertical-align: middle;\n",
       "    }\n",
       "\n",
       "    .dataframe tbody tr th {\n",
       "        vertical-align: top;\n",
       "    }\n",
       "\n",
       "    .dataframe thead th {\n",
       "        text-align: right;\n",
       "    }\n",
       "</style>\n",
       "<table border=\"1\" class=\"dataframe\">\n",
       "  <thead>\n",
       "    <tr style=\"text-align: right;\">\n",
       "      <th></th>\n",
       "      <th>A</th>\n",
       "      <th>B</th>\n",
       "      <th>C</th>\n",
       "    </tr>\n",
       "  </thead>\n",
       "  <tbody>\n",
       "    <tr>\n",
       "      <th>2000-01-02</th>\n",
       "      <td>-0.943729</td>\n",
       "      <td>-1.450667</td>\n",
       "      <td>0.468487</td>\n",
       "    </tr>\n",
       "    <tr>\n",
       "      <th>2000-01-04</th>\n",
       "      <td>-0.802006</td>\n",
       "      <td>0.246257</td>\n",
       "      <td>-0.182341</td>\n",
       "    </tr>\n",
       "    <tr>\n",
       "      <th>2000-01-05</th>\n",
       "      <td>-1.436406</td>\n",
       "      <td>-2.498902</td>\n",
       "      <td>-0.922265</td>\n",
       "    </tr>\n",
       "    <tr>\n",
       "      <th>2000-01-07</th>\n",
       "      <td>-1.055964</td>\n",
       "      <td>0.565125</td>\n",
       "      <td>-1.889738</td>\n",
       "    </tr>\n",
       "  </tbody>\n",
       "</table>\n",
       "</div>"
      ],
      "text/plain": [
       "                   A         B         C\n",
       "2000-01-02 -0.943729 -1.450667  0.468487\n",
       "2000-01-04 -0.802006  0.246257 -0.182341\n",
       "2000-01-05 -1.436406 -2.498902 -0.922265\n",
       "2000-01-07 -1.055964  0.565125 -1.889738"
      ]
     },
     "execution_count": 57,
     "metadata": {},
     "output_type": "execute_result"
    }
   ],
   "source": [
    "df[\n",
    "    df[\"A\"] <= 0\n",
    "]"
   ]
  },
  {
   "cell_type": "markdown",
   "id": "2a879d1f-d459-44f0-83fd-941f6b3448c6",
   "metadata": {},
   "source": [
    "### Assegnamento\n",
    "La modifica dei valori all'interno di un dataframe si può effettuare esattamente allo stesso modo in cui viene fatto l'indexing / selezione. "
   ]
  },
  {
   "cell_type": "code",
   "execution_count": 58,
   "id": "ebc287d5-aaec-42da-b2e2-0097ff8045a6",
   "metadata": {},
   "outputs": [
    {
     "data": {
      "text/html": [
       "<div>\n",
       "<style scoped>\n",
       "    .dataframe tbody tr th:only-of-type {\n",
       "        vertical-align: middle;\n",
       "    }\n",
       "\n",
       "    .dataframe tbody tr th {\n",
       "        vertical-align: top;\n",
       "    }\n",
       "\n",
       "    .dataframe thead th {\n",
       "        text-align: right;\n",
       "    }\n",
       "</style>\n",
       "<table border=\"1\" class=\"dataframe\">\n",
       "  <thead>\n",
       "    <tr style=\"text-align: right;\">\n",
       "      <th></th>\n",
       "      <th>A</th>\n",
       "      <th>B</th>\n",
       "      <th>C</th>\n",
       "    </tr>\n",
       "  </thead>\n",
       "  <tbody>\n",
       "    <tr>\n",
       "      <th>2000-01-01</th>\n",
       "      <td>0.979042</td>\n",
       "      <td>99</td>\n",
       "      <td>1.515242</td>\n",
       "    </tr>\n",
       "    <tr>\n",
       "      <th>2000-01-02</th>\n",
       "      <td>-0.943729</td>\n",
       "      <td>99</td>\n",
       "      <td>0.468487</td>\n",
       "    </tr>\n",
       "    <tr>\n",
       "      <th>2000-01-03</th>\n",
       "      <td>0.254668</td>\n",
       "      <td>99</td>\n",
       "      <td>-1.081223</td>\n",
       "    </tr>\n",
       "    <tr>\n",
       "      <th>2000-01-04</th>\n",
       "      <td>-0.802006</td>\n",
       "      <td>99</td>\n",
       "      <td>-0.182341</td>\n",
       "    </tr>\n",
       "    <tr>\n",
       "      <th>2000-01-05</th>\n",
       "      <td>-1.436406</td>\n",
       "      <td>99</td>\n",
       "      <td>-0.922265</td>\n",
       "    </tr>\n",
       "    <tr>\n",
       "      <th>2000-01-06</th>\n",
       "      <td>0.258133</td>\n",
       "      <td>99</td>\n",
       "      <td>1.552846</td>\n",
       "    </tr>\n",
       "    <tr>\n",
       "      <th>2000-01-07</th>\n",
       "      <td>-1.055964</td>\n",
       "      <td>99</td>\n",
       "      <td>-1.889738</td>\n",
       "    </tr>\n",
       "    <tr>\n",
       "      <th>2000-01-08</th>\n",
       "      <td>0.931920</td>\n",
       "      <td>99</td>\n",
       "      <td>0.041580</td>\n",
       "    </tr>\n",
       "  </tbody>\n",
       "</table>\n",
       "</div>"
      ],
      "text/plain": [
       "                   A   B         C\n",
       "2000-01-01  0.979042  99  1.515242\n",
       "2000-01-02 -0.943729  99  0.468487\n",
       "2000-01-03  0.254668  99 -1.081223\n",
       "2000-01-04 -0.802006  99 -0.182341\n",
       "2000-01-05 -1.436406  99 -0.922265\n",
       "2000-01-06  0.258133  99  1.552846\n",
       "2000-01-07 -1.055964  99 -1.889738\n",
       "2000-01-08  0.931920  99  0.041580"
      ]
     },
     "execution_count": 58,
     "metadata": {},
     "output_type": "execute_result"
    }
   ],
   "source": [
    "df[\"B\"] = 99\n",
    "df"
   ]
  },
  {
   "cell_type": "markdown",
   "id": "d5b2aff9-9167-4369-8c2f-185001d0d9ab",
   "metadata": {
    "tags": []
   },
   "source": [
    "##### attenzione al chained assignment \n",
    "Se si vuole modificare il DataFrame originale -> usare `.loc`\n",
    "\n",
    "Se si vuole lavorare su un sottoinsieme dei dati (senza modificare i dati originali) -> esplicitare il metodo `copy()`\n",
    "\n",
    "Maggiori dettagli [qui](https://towardsdatascience.com/explaining-the-settingwithcopywarning-in-pandas-ebc19d799d25)."
   ]
  },
  {
   "cell_type": "code",
   "execution_count": 59,
   "id": "81cd6fcc-b55a-4928-a497-02dcc89c8664",
   "metadata": {},
   "outputs": [
    {
     "name": "stderr",
     "output_type": "stream",
     "text": [
      "D:\\Users\\feder\\AppData\\Local\\Temp/ipykernel_25820/1222363819.py:3: SettingWithCopyWarning: \n",
      "A value is trying to be set on a copy of a slice from a DataFrame.\n",
      "Try using .loc[row_indexer,col_indexer] = value instead\n",
      "\n",
      "See the caveats in the documentation: https://pandas.pydata.org/pandas-docs/stable/user_guide/indexing.html#returning-a-view-versus-a-copy\n",
      "  df[\n"
     ]
    },
    {
     "data": {
      "text/html": [
       "<div>\n",
       "<style scoped>\n",
       "    .dataframe tbody tr th:only-of-type {\n",
       "        vertical-align: middle;\n",
       "    }\n",
       "\n",
       "    .dataframe tbody tr th {\n",
       "        vertical-align: top;\n",
       "    }\n",
       "\n",
       "    .dataframe thead th {\n",
       "        text-align: right;\n",
       "    }\n",
       "</style>\n",
       "<table border=\"1\" class=\"dataframe\">\n",
       "  <thead>\n",
       "    <tr style=\"text-align: right;\">\n",
       "      <th></th>\n",
       "      <th>A</th>\n",
       "      <th>B</th>\n",
       "      <th>C</th>\n",
       "    </tr>\n",
       "  </thead>\n",
       "  <tbody>\n",
       "    <tr>\n",
       "      <th>2000-01-01</th>\n",
       "      <td>0.979042</td>\n",
       "      <td>99</td>\n",
       "      <td>1.515242</td>\n",
       "    </tr>\n",
       "    <tr>\n",
       "      <th>2000-01-02</th>\n",
       "      <td>-0.943729</td>\n",
       "      <td>99</td>\n",
       "      <td>0.468487</td>\n",
       "    </tr>\n",
       "    <tr>\n",
       "      <th>2000-01-03</th>\n",
       "      <td>0.254668</td>\n",
       "      <td>99</td>\n",
       "      <td>-1.081223</td>\n",
       "    </tr>\n",
       "    <tr>\n",
       "      <th>2000-01-04</th>\n",
       "      <td>-0.802006</td>\n",
       "      <td>99</td>\n",
       "      <td>-0.182341</td>\n",
       "    </tr>\n",
       "    <tr>\n",
       "      <th>2000-01-05</th>\n",
       "      <td>-1.436406</td>\n",
       "      <td>99</td>\n",
       "      <td>-0.922265</td>\n",
       "    </tr>\n",
       "    <tr>\n",
       "      <th>2000-01-06</th>\n",
       "      <td>0.258133</td>\n",
       "      <td>99</td>\n",
       "      <td>1.552846</td>\n",
       "    </tr>\n",
       "    <tr>\n",
       "      <th>2000-01-07</th>\n",
       "      <td>-1.055964</td>\n",
       "      <td>99</td>\n",
       "      <td>-1.889738</td>\n",
       "    </tr>\n",
       "    <tr>\n",
       "      <th>2000-01-08</th>\n",
       "      <td>0.931920</td>\n",
       "      <td>99</td>\n",
       "      <td>0.041580</td>\n",
       "    </tr>\n",
       "  </tbody>\n",
       "</table>\n",
       "</div>"
      ],
      "text/plain": [
       "                   A   B         C\n",
       "2000-01-01  0.979042  99  1.515242\n",
       "2000-01-02 -0.943729  99  0.468487\n",
       "2000-01-03  0.254668  99 -1.081223\n",
       "2000-01-04 -0.802006  99 -0.182341\n",
       "2000-01-05 -1.436406  99 -0.922265\n",
       "2000-01-06  0.258133  99  1.552846\n",
       "2000-01-07 -1.055964  99 -1.889738\n",
       "2000-01-08  0.931920  99  0.041580"
      ]
     },
     "execution_count": 59,
     "metadata": {},
     "output_type": "execute_result"
    }
   ],
   "source": [
    "## Attenzione questo potrebbe non essere il comportamento atteso!!\n",
    "\n",
    "df[\n",
    "    df[\"A\"] <= 0\n",
    "][\"B\"] = 5\n",
    "\n",
    "df"
   ]
  },
  {
   "cell_type": "code",
   "execution_count": 60,
   "id": "10b7a174-885e-4463-9b15-797f4ab845bb",
   "metadata": {},
   "outputs": [
    {
     "data": {
      "text/html": [
       "<div>\n",
       "<style scoped>\n",
       "    .dataframe tbody tr th:only-of-type {\n",
       "        vertical-align: middle;\n",
       "    }\n",
       "\n",
       "    .dataframe tbody tr th {\n",
       "        vertical-align: top;\n",
       "    }\n",
       "\n",
       "    .dataframe thead th {\n",
       "        text-align: right;\n",
       "    }\n",
       "</style>\n",
       "<table border=\"1\" class=\"dataframe\">\n",
       "  <thead>\n",
       "    <tr style=\"text-align: right;\">\n",
       "      <th></th>\n",
       "      <th>A</th>\n",
       "      <th>B</th>\n",
       "      <th>C</th>\n",
       "    </tr>\n",
       "  </thead>\n",
       "  <tbody>\n",
       "    <tr>\n",
       "      <th>2000-01-01</th>\n",
       "      <td>0.979042</td>\n",
       "      <td>5</td>\n",
       "      <td>1.515242</td>\n",
       "    </tr>\n",
       "    <tr>\n",
       "      <th>2000-01-03</th>\n",
       "      <td>0.254668</td>\n",
       "      <td>5</td>\n",
       "      <td>-1.081223</td>\n",
       "    </tr>\n",
       "    <tr>\n",
       "      <th>2000-01-06</th>\n",
       "      <td>0.258133</td>\n",
       "      <td>5</td>\n",
       "      <td>1.552846</td>\n",
       "    </tr>\n",
       "    <tr>\n",
       "      <th>2000-01-08</th>\n",
       "      <td>0.931920</td>\n",
       "      <td>5</td>\n",
       "      <td>0.041580</td>\n",
       "    </tr>\n",
       "  </tbody>\n",
       "</table>\n",
       "</div>"
      ],
      "text/plain": [
       "                   A  B         C\n",
       "2000-01-01  0.979042  5  1.515242\n",
       "2000-01-03  0.254668  5 -1.081223\n",
       "2000-01-06  0.258133  5  1.552846\n",
       "2000-01-08  0.931920  5  0.041580"
      ]
     },
     "execution_count": 60,
     "metadata": {},
     "output_type": "execute_result"
    }
   ],
   "source": [
    "# fare una copia se occorre lavorare su un sottoinsieme dei dati senza modificare il dataframe originale\n",
    "dfx = df[\n",
    "    df[\"A\"] > 0\n",
    "].copy()\n",
    "\n",
    "dfx[\"B\"] = 5\n",
    "\n",
    "dfx"
   ]
  },
  {
   "cell_type": "code",
   "execution_count": 61,
   "id": "070c43ae-b85b-4182-87c6-1cb32dfa096d",
   "metadata": {},
   "outputs": [
    {
     "data": {
      "text/html": [
       "<div>\n",
       "<style scoped>\n",
       "    .dataframe tbody tr th:only-of-type {\n",
       "        vertical-align: middle;\n",
       "    }\n",
       "\n",
       "    .dataframe tbody tr th {\n",
       "        vertical-align: top;\n",
       "    }\n",
       "\n",
       "    .dataframe thead th {\n",
       "        text-align: right;\n",
       "    }\n",
       "</style>\n",
       "<table border=\"1\" class=\"dataframe\">\n",
       "  <thead>\n",
       "    <tr style=\"text-align: right;\">\n",
       "      <th></th>\n",
       "      <th>A</th>\n",
       "      <th>B</th>\n",
       "      <th>C</th>\n",
       "    </tr>\n",
       "  </thead>\n",
       "  <tbody>\n",
       "    <tr>\n",
       "      <th>2000-01-01</th>\n",
       "      <td>0.979042</td>\n",
       "      <td>99</td>\n",
       "      <td>1.515242</td>\n",
       "    </tr>\n",
       "    <tr>\n",
       "      <th>2000-01-02</th>\n",
       "      <td>-0.943729</td>\n",
       "      <td>99</td>\n",
       "      <td>0.468487</td>\n",
       "    </tr>\n",
       "    <tr>\n",
       "      <th>2000-01-03</th>\n",
       "      <td>0.254668</td>\n",
       "      <td>99</td>\n",
       "      <td>-1.081223</td>\n",
       "    </tr>\n",
       "    <tr>\n",
       "      <th>2000-01-04</th>\n",
       "      <td>-0.802006</td>\n",
       "      <td>99</td>\n",
       "      <td>-0.182341</td>\n",
       "    </tr>\n",
       "    <tr>\n",
       "      <th>2000-01-05</th>\n",
       "      <td>-1.436406</td>\n",
       "      <td>99</td>\n",
       "      <td>-0.922265</td>\n",
       "    </tr>\n",
       "    <tr>\n",
       "      <th>2000-01-06</th>\n",
       "      <td>0.258133</td>\n",
       "      <td>99</td>\n",
       "      <td>1.552846</td>\n",
       "    </tr>\n",
       "    <tr>\n",
       "      <th>2000-01-07</th>\n",
       "      <td>-1.055964</td>\n",
       "      <td>99</td>\n",
       "      <td>-1.889738</td>\n",
       "    </tr>\n",
       "    <tr>\n",
       "      <th>2000-01-08</th>\n",
       "      <td>0.931920</td>\n",
       "      <td>99</td>\n",
       "      <td>0.041580</td>\n",
       "    </tr>\n",
       "  </tbody>\n",
       "</table>\n",
       "</div>"
      ],
      "text/plain": [
       "                   A   B         C\n",
       "2000-01-01  0.979042  99  1.515242\n",
       "2000-01-02 -0.943729  99  0.468487\n",
       "2000-01-03  0.254668  99 -1.081223\n",
       "2000-01-04 -0.802006  99 -0.182341\n",
       "2000-01-05 -1.436406  99 -0.922265\n",
       "2000-01-06  0.258133  99  1.552846\n",
       "2000-01-07 -1.055964  99 -1.889738\n",
       "2000-01-08  0.931920  99  0.041580"
      ]
     },
     "execution_count": 61,
     "metadata": {},
     "output_type": "execute_result"
    }
   ],
   "source": [
    "df"
   ]
  },
  {
   "cell_type": "code",
   "execution_count": 62,
   "id": "43dcedca-c8d4-44ff-93bb-8e53a34dc65d",
   "metadata": {},
   "outputs": [
    {
     "data": {
      "text/html": [
       "<div>\n",
       "<style scoped>\n",
       "    .dataframe tbody tr th:only-of-type {\n",
       "        vertical-align: middle;\n",
       "    }\n",
       "\n",
       "    .dataframe tbody tr th {\n",
       "        vertical-align: top;\n",
       "    }\n",
       "\n",
       "    .dataframe thead th {\n",
       "        text-align: right;\n",
       "    }\n",
       "</style>\n",
       "<table border=\"1\" class=\"dataframe\">\n",
       "  <thead>\n",
       "    <tr style=\"text-align: right;\">\n",
       "      <th></th>\n",
       "      <th>A</th>\n",
       "      <th>B</th>\n",
       "      <th>C</th>\n",
       "    </tr>\n",
       "  </thead>\n",
       "  <tbody>\n",
       "    <tr>\n",
       "      <th>2000-01-01</th>\n",
       "      <td>0.979042</td>\n",
       "      <td>5</td>\n",
       "      <td>1.515242</td>\n",
       "    </tr>\n",
       "    <tr>\n",
       "      <th>2000-01-02</th>\n",
       "      <td>-0.943729</td>\n",
       "      <td>99</td>\n",
       "      <td>0.468487</td>\n",
       "    </tr>\n",
       "    <tr>\n",
       "      <th>2000-01-03</th>\n",
       "      <td>0.254668</td>\n",
       "      <td>5</td>\n",
       "      <td>-1.081223</td>\n",
       "    </tr>\n",
       "    <tr>\n",
       "      <th>2000-01-04</th>\n",
       "      <td>-0.802006</td>\n",
       "      <td>99</td>\n",
       "      <td>-0.182341</td>\n",
       "    </tr>\n",
       "    <tr>\n",
       "      <th>2000-01-05</th>\n",
       "      <td>-1.436406</td>\n",
       "      <td>99</td>\n",
       "      <td>-0.922265</td>\n",
       "    </tr>\n",
       "    <tr>\n",
       "      <th>2000-01-06</th>\n",
       "      <td>0.258133</td>\n",
       "      <td>5</td>\n",
       "      <td>1.552846</td>\n",
       "    </tr>\n",
       "    <tr>\n",
       "      <th>2000-01-07</th>\n",
       "      <td>-1.055964</td>\n",
       "      <td>99</td>\n",
       "      <td>-1.889738</td>\n",
       "    </tr>\n",
       "    <tr>\n",
       "      <th>2000-01-08</th>\n",
       "      <td>0.931920</td>\n",
       "      <td>5</td>\n",
       "      <td>0.041580</td>\n",
       "    </tr>\n",
       "  </tbody>\n",
       "</table>\n",
       "</div>"
      ],
      "text/plain": [
       "                   A   B         C\n",
       "2000-01-01  0.979042   5  1.515242\n",
       "2000-01-02 -0.943729  99  0.468487\n",
       "2000-01-03  0.254668   5 -1.081223\n",
       "2000-01-04 -0.802006  99 -0.182341\n",
       "2000-01-05 -1.436406  99 -0.922265\n",
       "2000-01-06  0.258133   5  1.552846\n",
       "2000-01-07 -1.055964  99 -1.889738\n",
       "2000-01-08  0.931920   5  0.041580"
      ]
     },
     "execution_count": 62,
     "metadata": {},
     "output_type": "execute_result"
    }
   ],
   "source": [
    "# usare .loc per modificare il dataframe originale\n",
    "df.loc[df[\"A\"] > 0, \"B\"] = 5\n",
    "df"
   ]
  },
  {
   "cell_type": "code",
   "execution_count": null,
   "id": "3c839dbc-cd7f-49dd-86dd-f25f2b43fd00",
   "metadata": {},
   "outputs": [],
   "source": []
  },
  {
   "cell_type": "markdown",
   "id": "c797feb0-c2f5-4810-9062-785fae625022",
   "metadata": {},
   "source": [
    "### IO\n",
    "Un altro insieme di funzionalità molto utili di pandas riguardano l'IO. Infatti ha la possibilità di leggere e scrivere moltissimi formati di dati per archiviare i DataFrame.\n",
    "\n",
    "Rimando alla [documentazione ufficiale](https://pandas.pydata.org/pandas-docs/stable/user_guide/io.html) per tutti i dettagli e riporto qui solo alcuni esempi"
   ]
  },
  {
   "cell_type": "markdown",
   "id": "58d4436a-6d5a-45ec-a9ea-a6391a1f42b7",
   "metadata": {},
   "source": [
    "#### CSV"
   ]
  },
  {
   "cell_type": "code",
   "execution_count": 63,
   "id": "558613a8-28ae-40ac-8b73-ee5fe98d2fd5",
   "metadata": {},
   "outputs": [],
   "source": [
    "df.to_csv(\"../data/sample.csv\")"
   ]
  },
  {
   "cell_type": "code",
   "execution_count": 64,
   "id": "b0ac2dca-3f4b-49c2-9d83-6cc4abf42077",
   "metadata": {},
   "outputs": [
    {
     "data": {
      "text/html": [
       "<div>\n",
       "<style scoped>\n",
       "    .dataframe tbody tr th:only-of-type {\n",
       "        vertical-align: middle;\n",
       "    }\n",
       "\n",
       "    .dataframe tbody tr th {\n",
       "        vertical-align: top;\n",
       "    }\n",
       "\n",
       "    .dataframe thead th {\n",
       "        text-align: right;\n",
       "    }\n",
       "</style>\n",
       "<table border=\"1\" class=\"dataframe\">\n",
       "  <thead>\n",
       "    <tr style=\"text-align: right;\">\n",
       "      <th></th>\n",
       "      <th>A</th>\n",
       "      <th>B</th>\n",
       "      <th>C</th>\n",
       "    </tr>\n",
       "  </thead>\n",
       "  <tbody>\n",
       "    <tr>\n",
       "      <th>2000-01-01</th>\n",
       "      <td>0.979042</td>\n",
       "      <td>5</td>\n",
       "      <td>1.515242</td>\n",
       "    </tr>\n",
       "    <tr>\n",
       "      <th>2000-01-02</th>\n",
       "      <td>-0.943729</td>\n",
       "      <td>99</td>\n",
       "      <td>0.468487</td>\n",
       "    </tr>\n",
       "    <tr>\n",
       "      <th>2000-01-03</th>\n",
       "      <td>0.254668</td>\n",
       "      <td>5</td>\n",
       "      <td>-1.081223</td>\n",
       "    </tr>\n",
       "    <tr>\n",
       "      <th>2000-01-04</th>\n",
       "      <td>-0.802006</td>\n",
       "      <td>99</td>\n",
       "      <td>-0.182341</td>\n",
       "    </tr>\n",
       "    <tr>\n",
       "      <th>2000-01-05</th>\n",
       "      <td>-1.436406</td>\n",
       "      <td>99</td>\n",
       "      <td>-0.922265</td>\n",
       "    </tr>\n",
       "    <tr>\n",
       "      <th>2000-01-06</th>\n",
       "      <td>0.258133</td>\n",
       "      <td>5</td>\n",
       "      <td>1.552846</td>\n",
       "    </tr>\n",
       "    <tr>\n",
       "      <th>2000-01-07</th>\n",
       "      <td>-1.055964</td>\n",
       "      <td>99</td>\n",
       "      <td>-1.889738</td>\n",
       "    </tr>\n",
       "    <tr>\n",
       "      <th>2000-01-08</th>\n",
       "      <td>0.931920</td>\n",
       "      <td>5</td>\n",
       "      <td>0.041580</td>\n",
       "    </tr>\n",
       "  </tbody>\n",
       "</table>\n",
       "</div>"
      ],
      "text/plain": [
       "                   A   B         C\n",
       "2000-01-01  0.979042   5  1.515242\n",
       "2000-01-02 -0.943729  99  0.468487\n",
       "2000-01-03  0.254668   5 -1.081223\n",
       "2000-01-04 -0.802006  99 -0.182341\n",
       "2000-01-05 -1.436406  99 -0.922265\n",
       "2000-01-06  0.258133   5  1.552846\n",
       "2000-01-07 -1.055964  99 -1.889738\n",
       "2000-01-08  0.931920   5  0.041580"
      ]
     },
     "execution_count": 64,
     "metadata": {},
     "output_type": "execute_result"
    }
   ],
   "source": [
    "df2 = pd.read_csv(\"../data/sample.csv\", index_col=0)\n",
    "df2"
   ]
  },
  {
   "cell_type": "markdown",
   "id": "d87384b4-5356-4e4a-a0b0-dc5c09514ccb",
   "metadata": {},
   "source": [
    "#### EXCEL"
   ]
  },
  {
   "cell_type": "code",
   "execution_count": 65,
   "id": "cb5e3a51-9534-4e11-8639-e369ad7f1490",
   "metadata": {},
   "outputs": [],
   "source": [
    "df.to_excel(\"../data/sample.xlsx\")"
   ]
  },
  {
   "cell_type": "code",
   "execution_count": 66,
   "id": "b627857b-62f8-4eed-ae96-de1a93a04eea",
   "metadata": {},
   "outputs": [
    {
     "data": {
      "text/html": [
       "<div>\n",
       "<style scoped>\n",
       "    .dataframe tbody tr th:only-of-type {\n",
       "        vertical-align: middle;\n",
       "    }\n",
       "\n",
       "    .dataframe tbody tr th {\n",
       "        vertical-align: top;\n",
       "    }\n",
       "\n",
       "    .dataframe thead th {\n",
       "        text-align: right;\n",
       "    }\n",
       "</style>\n",
       "<table border=\"1\" class=\"dataframe\">\n",
       "  <thead>\n",
       "    <tr style=\"text-align: right;\">\n",
       "      <th></th>\n",
       "      <th>A</th>\n",
       "      <th>B</th>\n",
       "      <th>C</th>\n",
       "    </tr>\n",
       "  </thead>\n",
       "  <tbody>\n",
       "    <tr>\n",
       "      <th>2000-01-01</th>\n",
       "      <td>0.979042</td>\n",
       "      <td>5</td>\n",
       "      <td>1.515242</td>\n",
       "    </tr>\n",
       "    <tr>\n",
       "      <th>2000-01-02</th>\n",
       "      <td>-0.943729</td>\n",
       "      <td>99</td>\n",
       "      <td>0.468487</td>\n",
       "    </tr>\n",
       "    <tr>\n",
       "      <th>2000-01-03</th>\n",
       "      <td>0.254668</td>\n",
       "      <td>5</td>\n",
       "      <td>-1.081223</td>\n",
       "    </tr>\n",
       "    <tr>\n",
       "      <th>2000-01-04</th>\n",
       "      <td>-0.802006</td>\n",
       "      <td>99</td>\n",
       "      <td>-0.182341</td>\n",
       "    </tr>\n",
       "    <tr>\n",
       "      <th>2000-01-05</th>\n",
       "      <td>-1.436406</td>\n",
       "      <td>99</td>\n",
       "      <td>-0.922265</td>\n",
       "    </tr>\n",
       "    <tr>\n",
       "      <th>2000-01-06</th>\n",
       "      <td>0.258133</td>\n",
       "      <td>5</td>\n",
       "      <td>1.552846</td>\n",
       "    </tr>\n",
       "    <tr>\n",
       "      <th>2000-01-07</th>\n",
       "      <td>-1.055964</td>\n",
       "      <td>99</td>\n",
       "      <td>-1.889738</td>\n",
       "    </tr>\n",
       "    <tr>\n",
       "      <th>2000-01-08</th>\n",
       "      <td>0.931920</td>\n",
       "      <td>5</td>\n",
       "      <td>0.041580</td>\n",
       "    </tr>\n",
       "  </tbody>\n",
       "</table>\n",
       "</div>"
      ],
      "text/plain": [
       "                   A   B         C\n",
       "2000-01-01  0.979042   5  1.515242\n",
       "2000-01-02 -0.943729  99  0.468487\n",
       "2000-01-03  0.254668   5 -1.081223\n",
       "2000-01-04 -0.802006  99 -0.182341\n",
       "2000-01-05 -1.436406  99 -0.922265\n",
       "2000-01-06  0.258133   5  1.552846\n",
       "2000-01-07 -1.055964  99 -1.889738\n",
       "2000-01-08  0.931920   5  0.041580"
      ]
     },
     "execution_count": 66,
     "metadata": {},
     "output_type": "execute_result"
    }
   ],
   "source": [
    "df2 = pd.read_excel(\"../data/sample.xlsx\", index_col=0)\n",
    "df2"
   ]
  },
  {
   "cell_type": "code",
   "execution_count": null,
   "id": "02c1c115-0caf-4b2d-b09b-a262c6629170",
   "metadata": {},
   "outputs": [],
   "source": []
  }
 ],
 "metadata": {
  "kernelspec": {
   "display_name": "Python [conda env:py39_pbg]",
   "language": "python",
   "name": "conda-env-py39_pbg-py"
  },
  "language_info": {
   "codemirror_mode": {
    "name": "ipython",
    "version": 3
   },
   "file_extension": ".py",
   "mimetype": "text/x-python",
   "name": "python",
   "nbconvert_exporter": "python",
   "pygments_lexer": "ipython3",
   "version": "3.9.7"
  }
 },
 "nbformat": 4,
 "nbformat_minor": 5
}
