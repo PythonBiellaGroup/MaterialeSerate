{
 "cells": [
  {
   "cell_type": "markdown",
   "id": "f46a8771-f261-488e-a434-8c2dd86c61fe",
   "metadata": {},
   "source": [
    "# INTRO"
   ]
  },
  {
   "cell_type": "code",
   "execution_count": 1,
   "id": "71b306b2-1584-4e87-812e-84f908508d5f",
   "metadata": {},
   "outputs": [],
   "source": [
    "%matplotlib inline"
   ]
  },
  {
   "cell_type": "markdown",
   "id": "a88edc41-64fd-4f39-a00b-fea124a4e923",
   "metadata": {},
   "source": [
    "# ML TASKS\n",
    "\n",
    "![](./img/ai_ml_dl_rl.png)"
   ]
  },
  {
   "cell_type": "markdown",
   "id": "d40643de-5b66-4d38-a4a6-de7593abd0b5",
   "metadata": {},
   "source": [
    "## ML PROJECT WORKFLOW\n",
    "With Scikit Learn"
   ]
  },
  {
   "cell_type": "markdown",
   "id": "7954b7bb-5e9e-4d56-8429-e608fec0d61d",
   "metadata": {},
   "source": [
    "![](./img/proj_workflow_sklearn_mapping.png)"
   ]
  },
  {
   "cell_type": "markdown",
   "id": "b9a90535-1db2-4599-a371-35f14c175594",
   "metadata": {},
   "source": [
    "---"
   ]
  },
  {
   "cell_type": "code",
   "execution_count": null,
   "id": "8ba91319-ba06-4e7d-8825-4ca7afff22c7",
   "metadata": {},
   "outputs": [],
   "source": []
  },
  {
   "cell_type": "markdown",
   "id": "849fd942-1ea0-4b59-8119-4048b7e55815",
   "metadata": {},
   "source": [
    "## Datasets\n",
    "scikit-learn comes with a few standard datasets, for instance the iris and digits datasets for classification and the diabetes dataset for regression."
   ]
  },
  {
   "cell_type": "code",
   "execution_count": 2,
   "id": "bba63701-a57f-4f0e-a831-8480bc329589",
   "metadata": {},
   "outputs": [],
   "source": [
    "import pandas as pd\n",
    "import numpy as np"
   ]
  },
  {
   "cell_type": "code",
   "execution_count": 3,
   "id": "c385f248-22c4-4e55-ac96-2b5c5c4ba1c7",
   "metadata": {},
   "outputs": [],
   "source": [
    "from sklearn import datasets\n",
    "iris = datasets.load_iris() # https://scikit-learn.org/stable/datasets/toy_dataset.html#iris-plants-dataset\n",
    "# diabetes = datasets.load_diabetes()"
   ]
  },
  {
   "cell_type": "markdown",
   "id": "a7b43e22-a900-43a9-9e0b-bea82a3e1a54",
   "metadata": {},
   "source": [
    "### Utilizziamo IRIS Dataset [wiki](https://it.wikipedia.org/wiki/Dataset_Iris)\n",
    "Il dataset Iris è un dataset multivariato introdotto da Ronald Fisher nel 1936. \n",
    "Consiste in 150 istanze di Iris misurate da Edgar Anderson e classificate secondo tre specie: \n",
    "- Iris setosa\n",
    "- Iris virginica\n",
    "- Iris versicolor\n",
    "\n",
    "Le quattro variabili considerate sono:\n",
    "- la lunghezza del sepalo\n",
    "- la larghezza del sepalo\n",
    "- la lunghezza del petalo\n",
    "- la larghezza del petalo\n",
    "\n"
   ]
  },
  {
   "cell_type": "markdown",
   "id": "78d70b56-3bd9-4c58-adc8-8df9653eaed0",
   "metadata": {},
   "source": [
    "creo DataFrame con il mio dataset IRIS"
   ]
  },
  {
   "cell_type": "code",
   "execution_count": 4,
   "id": "fb8b60a7-adaa-4e85-8fc7-1b296f1c1825",
   "metadata": {
    "tags": []
   },
   "outputs": [
    {
     "data": {
      "text/html": [
       "<div>\n",
       "<style scoped>\n",
       "    .dataframe tbody tr th:only-of-type {\n",
       "        vertical-align: middle;\n",
       "    }\n",
       "\n",
       "    .dataframe tbody tr th {\n",
       "        vertical-align: top;\n",
       "    }\n",
       "\n",
       "    .dataframe thead th {\n",
       "        text-align: right;\n",
       "    }\n",
       "</style>\n",
       "<table border=\"1\" class=\"dataframe\">\n",
       "  <thead>\n",
       "    <tr style=\"text-align: right;\">\n",
       "      <th></th>\n",
       "      <th>sepal length (cm)</th>\n",
       "      <th>sepal width (cm)</th>\n",
       "      <th>petal length (cm)</th>\n",
       "      <th>petal width (cm)</th>\n",
       "    </tr>\n",
       "  </thead>\n",
       "  <tbody>\n",
       "    <tr>\n",
       "      <th>0</th>\n",
       "      <td>5.1</td>\n",
       "      <td>3.5</td>\n",
       "      <td>1.4</td>\n",
       "      <td>0.2</td>\n",
       "    </tr>\n",
       "    <tr>\n",
       "      <th>1</th>\n",
       "      <td>4.9</td>\n",
       "      <td>3.0</td>\n",
       "      <td>1.4</td>\n",
       "      <td>0.2</td>\n",
       "    </tr>\n",
       "    <tr>\n",
       "      <th>2</th>\n",
       "      <td>4.7</td>\n",
       "      <td>3.2</td>\n",
       "      <td>1.3</td>\n",
       "      <td>0.2</td>\n",
       "    </tr>\n",
       "    <tr>\n",
       "      <th>3</th>\n",
       "      <td>4.6</td>\n",
       "      <td>3.1</td>\n",
       "      <td>1.5</td>\n",
       "      <td>0.2</td>\n",
       "    </tr>\n",
       "    <tr>\n",
       "      <th>4</th>\n",
       "      <td>5.0</td>\n",
       "      <td>3.6</td>\n",
       "      <td>1.4</td>\n",
       "      <td>0.2</td>\n",
       "    </tr>\n",
       "  </tbody>\n",
       "</table>\n",
       "</div>"
      ],
      "text/plain": [
       "   sepal length (cm)  sepal width (cm)  petal length (cm)  petal width (cm)\n",
       "0                5.1               3.5                1.4               0.2\n",
       "1                4.9               3.0                1.4               0.2\n",
       "2                4.7               3.2                1.3               0.2\n",
       "3                4.6               3.1                1.5               0.2\n",
       "4                5.0               3.6                1.4               0.2"
      ]
     },
     "execution_count": 4,
     "metadata": {},
     "output_type": "execute_result"
    }
   ],
   "source": [
    "iris_df = pd.DataFrame(iris.data, columns=iris.feature_names)\n",
    "iris_df.head()"
   ]
  },
  {
   "cell_type": "markdown",
   "id": "3aeeb55e-f662-45db-8366-cf5a98f7b2bf",
   "metadata": {},
   "source": [
    "aggiungo la variabile target (numerica) al DataFrame"
   ]
  },
  {
   "cell_type": "code",
   "execution_count": 5,
   "id": "628fa9aa-de6f-449b-b39e-ca7d04aae421",
   "metadata": {},
   "outputs": [
    {
     "data": {
      "text/html": [
       "<div>\n",
       "<style scoped>\n",
       "    .dataframe tbody tr th:only-of-type {\n",
       "        vertical-align: middle;\n",
       "    }\n",
       "\n",
       "    .dataframe tbody tr th {\n",
       "        vertical-align: top;\n",
       "    }\n",
       "\n",
       "    .dataframe thead th {\n",
       "        text-align: right;\n",
       "    }\n",
       "</style>\n",
       "<table border=\"1\" class=\"dataframe\">\n",
       "  <thead>\n",
       "    <tr style=\"text-align: right;\">\n",
       "      <th></th>\n",
       "      <th>sepal length (cm)</th>\n",
       "      <th>sepal width (cm)</th>\n",
       "      <th>petal length (cm)</th>\n",
       "      <th>petal width (cm)</th>\n",
       "      <th>target_num</th>\n",
       "    </tr>\n",
       "  </thead>\n",
       "  <tbody>\n",
       "    <tr>\n",
       "      <th>0</th>\n",
       "      <td>5.1</td>\n",
       "      <td>3.5</td>\n",
       "      <td>1.4</td>\n",
       "      <td>0.2</td>\n",
       "      <td>0</td>\n",
       "    </tr>\n",
       "    <tr>\n",
       "      <th>1</th>\n",
       "      <td>4.9</td>\n",
       "      <td>3.0</td>\n",
       "      <td>1.4</td>\n",
       "      <td>0.2</td>\n",
       "      <td>0</td>\n",
       "    </tr>\n",
       "    <tr>\n",
       "      <th>2</th>\n",
       "      <td>4.7</td>\n",
       "      <td>3.2</td>\n",
       "      <td>1.3</td>\n",
       "      <td>0.2</td>\n",
       "      <td>0</td>\n",
       "    </tr>\n",
       "    <tr>\n",
       "      <th>3</th>\n",
       "      <td>4.6</td>\n",
       "      <td>3.1</td>\n",
       "      <td>1.5</td>\n",
       "      <td>0.2</td>\n",
       "      <td>0</td>\n",
       "    </tr>\n",
       "    <tr>\n",
       "      <th>4</th>\n",
       "      <td>5.0</td>\n",
       "      <td>3.6</td>\n",
       "      <td>1.4</td>\n",
       "      <td>0.2</td>\n",
       "      <td>0</td>\n",
       "    </tr>\n",
       "  </tbody>\n",
       "</table>\n",
       "</div>"
      ],
      "text/plain": [
       "   sepal length (cm)  sepal width (cm)  petal length (cm)  petal width (cm)  \\\n",
       "0                5.1               3.5                1.4               0.2   \n",
       "1                4.9               3.0                1.4               0.2   \n",
       "2                4.7               3.2                1.3               0.2   \n",
       "3                4.6               3.1                1.5               0.2   \n",
       "4                5.0               3.6                1.4               0.2   \n",
       "\n",
       "   target_num  \n",
       "0           0  \n",
       "1           0  \n",
       "2           0  \n",
       "3           0  \n",
       "4           0  "
      ]
     },
     "execution_count": 5,
     "metadata": {},
     "output_type": "execute_result"
    }
   ],
   "source": [
    "iris_df[\"target_num\"] = iris.target\n",
    "iris_df.head()"
   ]
  },
  {
   "cell_type": "markdown",
   "id": "0c1be226-1f59-454b-a56c-a55a855a12d7",
   "metadata": {},
   "source": [
    "aggiungo la variabile target (categorica) al DataFrame"
   ]
  },
  {
   "cell_type": "code",
   "execution_count": 6,
   "id": "f56ea4c1-aec6-41ee-9b0c-caa0dd1eee1f",
   "metadata": {},
   "outputs": [
    {
     "data": {
      "text/html": [
       "<div>\n",
       "<style scoped>\n",
       "    .dataframe tbody tr th:only-of-type {\n",
       "        vertical-align: middle;\n",
       "    }\n",
       "\n",
       "    .dataframe tbody tr th {\n",
       "        vertical-align: top;\n",
       "    }\n",
       "\n",
       "    .dataframe thead th {\n",
       "        text-align: right;\n",
       "    }\n",
       "</style>\n",
       "<table border=\"1\" class=\"dataframe\">\n",
       "  <thead>\n",
       "    <tr style=\"text-align: right;\">\n",
       "      <th></th>\n",
       "      <th>sepal length (cm)</th>\n",
       "      <th>sepal width (cm)</th>\n",
       "      <th>petal length (cm)</th>\n",
       "      <th>petal width (cm)</th>\n",
       "      <th>target_num</th>\n",
       "      <th>target_class</th>\n",
       "    </tr>\n",
       "  </thead>\n",
       "  <tbody>\n",
       "    <tr>\n",
       "      <th>0</th>\n",
       "      <td>5.1</td>\n",
       "      <td>3.5</td>\n",
       "      <td>1.4</td>\n",
       "      <td>0.2</td>\n",
       "      <td>0</td>\n",
       "      <td>setosa</td>\n",
       "    </tr>\n",
       "    <tr>\n",
       "      <th>1</th>\n",
       "      <td>4.9</td>\n",
       "      <td>3.0</td>\n",
       "      <td>1.4</td>\n",
       "      <td>0.2</td>\n",
       "      <td>0</td>\n",
       "      <td>setosa</td>\n",
       "    </tr>\n",
       "    <tr>\n",
       "      <th>2</th>\n",
       "      <td>4.7</td>\n",
       "      <td>3.2</td>\n",
       "      <td>1.3</td>\n",
       "      <td>0.2</td>\n",
       "      <td>0</td>\n",
       "      <td>setosa</td>\n",
       "    </tr>\n",
       "    <tr>\n",
       "      <th>3</th>\n",
       "      <td>4.6</td>\n",
       "      <td>3.1</td>\n",
       "      <td>1.5</td>\n",
       "      <td>0.2</td>\n",
       "      <td>0</td>\n",
       "      <td>setosa</td>\n",
       "    </tr>\n",
       "    <tr>\n",
       "      <th>4</th>\n",
       "      <td>5.0</td>\n",
       "      <td>3.6</td>\n",
       "      <td>1.4</td>\n",
       "      <td>0.2</td>\n",
       "      <td>0</td>\n",
       "      <td>setosa</td>\n",
       "    </tr>\n",
       "  </tbody>\n",
       "</table>\n",
       "</div>"
      ],
      "text/plain": [
       "   sepal length (cm)  sepal width (cm)  petal length (cm)  petal width (cm)  \\\n",
       "0                5.1               3.5                1.4               0.2   \n",
       "1                4.9               3.0                1.4               0.2   \n",
       "2                4.7               3.2                1.3               0.2   \n",
       "3                4.6               3.1                1.5               0.2   \n",
       "4                5.0               3.6                1.4               0.2   \n",
       "\n",
       "   target_num target_class  \n",
       "0           0       setosa  \n",
       "1           0       setosa  \n",
       "2           0       setosa  \n",
       "3           0       setosa  \n",
       "4           0       setosa  "
      ]
     },
     "execution_count": 6,
     "metadata": {},
     "output_type": "execute_result"
    }
   ],
   "source": [
    "iris_df[\"target_class\"] = iris_df[\"target_num\"].apply(lambda x: iris.target_names[x])\n",
    "iris_df.head()"
   ]
  },
  {
   "cell_type": "markdown",
   "id": "681c6766-47ee-4d75-9f42-d22f8c46d852",
   "metadata": {},
   "source": [
    "aggiungo una ulteriore variabile target binaria (per distinguere fra class = setosa o altro)"
   ]
  },
  {
   "cell_type": "code",
   "execution_count": 7,
   "id": "3009746c-9743-4c9f-bd77-ba6e81dbe722",
   "metadata": {},
   "outputs": [
    {
     "data": {
      "text/html": [
       "<div>\n",
       "<style scoped>\n",
       "    .dataframe tbody tr th:only-of-type {\n",
       "        vertical-align: middle;\n",
       "    }\n",
       "\n",
       "    .dataframe tbody tr th {\n",
       "        vertical-align: top;\n",
       "    }\n",
       "\n",
       "    .dataframe thead th {\n",
       "        text-align: right;\n",
       "    }\n",
       "</style>\n",
       "<table border=\"1\" class=\"dataframe\">\n",
       "  <thead>\n",
       "    <tr style=\"text-align: right;\">\n",
       "      <th></th>\n",
       "      <th>sepal length (cm)</th>\n",
       "      <th>sepal width (cm)</th>\n",
       "      <th>petal length (cm)</th>\n",
       "      <th>petal width (cm)</th>\n",
       "      <th>target_num</th>\n",
       "      <th>target_class</th>\n",
       "      <th>target_is_setosa</th>\n",
       "    </tr>\n",
       "  </thead>\n",
       "  <tbody>\n",
       "    <tr>\n",
       "      <th>0</th>\n",
       "      <td>5.1</td>\n",
       "      <td>3.5</td>\n",
       "      <td>1.4</td>\n",
       "      <td>0.2</td>\n",
       "      <td>0</td>\n",
       "      <td>setosa</td>\n",
       "      <td>1</td>\n",
       "    </tr>\n",
       "    <tr>\n",
       "      <th>1</th>\n",
       "      <td>4.9</td>\n",
       "      <td>3.0</td>\n",
       "      <td>1.4</td>\n",
       "      <td>0.2</td>\n",
       "      <td>0</td>\n",
       "      <td>setosa</td>\n",
       "      <td>1</td>\n",
       "    </tr>\n",
       "    <tr>\n",
       "      <th>2</th>\n",
       "      <td>4.7</td>\n",
       "      <td>3.2</td>\n",
       "      <td>1.3</td>\n",
       "      <td>0.2</td>\n",
       "      <td>0</td>\n",
       "      <td>setosa</td>\n",
       "      <td>1</td>\n",
       "    </tr>\n",
       "    <tr>\n",
       "      <th>3</th>\n",
       "      <td>4.6</td>\n",
       "      <td>3.1</td>\n",
       "      <td>1.5</td>\n",
       "      <td>0.2</td>\n",
       "      <td>0</td>\n",
       "      <td>setosa</td>\n",
       "      <td>1</td>\n",
       "    </tr>\n",
       "    <tr>\n",
       "      <th>4</th>\n",
       "      <td>5.0</td>\n",
       "      <td>3.6</td>\n",
       "      <td>1.4</td>\n",
       "      <td>0.2</td>\n",
       "      <td>0</td>\n",
       "      <td>setosa</td>\n",
       "      <td>1</td>\n",
       "    </tr>\n",
       "  </tbody>\n",
       "</table>\n",
       "</div>"
      ],
      "text/plain": [
       "   sepal length (cm)  sepal width (cm)  petal length (cm)  petal width (cm)  \\\n",
       "0                5.1               3.5                1.4               0.2   \n",
       "1                4.9               3.0                1.4               0.2   \n",
       "2                4.7               3.2                1.3               0.2   \n",
       "3                4.6               3.1                1.5               0.2   \n",
       "4                5.0               3.6                1.4               0.2   \n",
       "\n",
       "   target_num target_class  target_is_setosa  \n",
       "0           0       setosa                 1  \n",
       "1           0       setosa                 1  \n",
       "2           0       setosa                 1  \n",
       "3           0       setosa                 1  \n",
       "4           0       setosa                 1  "
      ]
     },
     "execution_count": 7,
     "metadata": {},
     "output_type": "execute_result"
    }
   ],
   "source": [
    "iris_df[\"target_is_setosa\"] = (iris_df[\"target_class\"] == \"setosa\").astype(int)\n",
    "iris_df.head()"
   ]
  },
  {
   "cell_type": "code",
   "execution_count": 8,
   "id": "f3d71cc4-5fba-48fd-9c9c-cca30cda9d7e",
   "metadata": {},
   "outputs": [],
   "source": [
    "import seaborn as sns"
   ]
  },
  {
   "cell_type": "code",
   "execution_count": 9,
   "id": "a2d69229-7d8e-4e67-85b3-3ab30dbbc7e6",
   "metadata": {},
   "outputs": [
    {
     "data": {
      "text/plain": [
       "<seaborn.axisgrid.PairGrid at 0x1a4fa8f1f70>"
      ]
     },
     "execution_count": 9,
     "metadata": {},
     "output_type": "execute_result"
    },
    {
     "data": {
      "image/png": "[encoded data removed]",
      "text/plain": [
       "<Figure size 1164.75x1080 with 42 Axes>"
      ]
     },
     "metadata": {
      "needs_background": "light"
     },
     "output_type": "display_data"
    }
   ],
   "source": [
    "sns.pairplot(iris_df, hue=\"target_class\")"
   ]
  },
  {
   "cell_type": "markdown",
   "id": "392f37a2-332a-40a6-9ae0-75882f3cdc27",
   "metadata": {},
   "source": [
    "## Model selection\n",
    "Model selection methods: Train test split / Cross Validation / hyper-parameters tuning / etc\n",
    "\n",
    "\n",
    "Vediamo ora la prima fase: split dei dati fra train e test set."
   ]
  },
  {
   "cell_type": "code",
   "execution_count": 10,
   "id": "32236a5f-7ad9-444d-a212-190e9689e397",
   "metadata": {},
   "outputs": [],
   "source": [
    "from sklearn.model_selection import train_test_split"
   ]
  },
  {
   "cell_type": "markdown",
   "id": "64ede1fa-e8dd-4d9a-ae2f-74affbdd915f",
   "metadata": {},
   "source": [
    "Creazione di:\n",
    "- X (features: input per il modello)\n",
    "- y (variabile target per classificazione multi-classe) \n",
    "- y_binary (variabile target per classificazione binaria)"
   ]
  },
  {
   "cell_type": "code",
   "execution_count": 11,
   "id": "6e33c76d-d0f8-4215-9eb2-0cc98cf8af68",
   "metadata": {},
   "outputs": [],
   "source": [
    "X = iris_df[iris.feature_names]\n",
    "y = iris_df[\"target_class\"]\n",
    "y_binary = iris_df[\"target_is_setosa\"]"
   ]
  },
  {
   "cell_type": "code",
   "execution_count": 12,
   "id": "d6034363-ee90-4ae6-9933-72a8a8b9fa99",
   "metadata": {},
   "outputs": [
    {
     "data": {
      "text/html": [
       "<div>\n",
       "<style scoped>\n",
       "    .dataframe tbody tr th:only-of-type {\n",
       "        vertical-align: middle;\n",
       "    }\n",
       "\n",
       "    .dataframe tbody tr th {\n",
       "        vertical-align: top;\n",
       "    }\n",
       "\n",
       "    .dataframe thead th {\n",
       "        text-align: right;\n",
       "    }\n",
       "</style>\n",
       "<table border=\"1\" class=\"dataframe\">\n",
       "  <thead>\n",
       "    <tr style=\"text-align: right;\">\n",
       "      <th></th>\n",
       "      <th>sepal length (cm)</th>\n",
       "      <th>sepal width (cm)</th>\n",
       "      <th>petal length (cm)</th>\n",
       "      <th>petal width (cm)</th>\n",
       "    </tr>\n",
       "  </thead>\n",
       "  <tbody>\n",
       "    <tr>\n",
       "      <th>0</th>\n",
       "      <td>5.1</td>\n",
       "      <td>3.5</td>\n",
       "      <td>1.4</td>\n",
       "      <td>0.2</td>\n",
       "    </tr>\n",
       "    <tr>\n",
       "      <th>1</th>\n",
       "      <td>4.9</td>\n",
       "      <td>3.0</td>\n",
       "      <td>1.4</td>\n",
       "      <td>0.2</td>\n",
       "    </tr>\n",
       "    <tr>\n",
       "      <th>2</th>\n",
       "      <td>4.7</td>\n",
       "      <td>3.2</td>\n",
       "      <td>1.3</td>\n",
       "      <td>0.2</td>\n",
       "    </tr>\n",
       "    <tr>\n",
       "      <th>3</th>\n",
       "      <td>4.6</td>\n",
       "      <td>3.1</td>\n",
       "      <td>1.5</td>\n",
       "      <td>0.2</td>\n",
       "    </tr>\n",
       "    <tr>\n",
       "      <th>4</th>\n",
       "      <td>5.0</td>\n",
       "      <td>3.6</td>\n",
       "      <td>1.4</td>\n",
       "      <td>0.2</td>\n",
       "    </tr>\n",
       "  </tbody>\n",
       "</table>\n",
       "</div>"
      ],
      "text/plain": [
       "   sepal length (cm)  sepal width (cm)  petal length (cm)  petal width (cm)\n",
       "0                5.1               3.5                1.4               0.2\n",
       "1                4.9               3.0                1.4               0.2\n",
       "2                4.7               3.2                1.3               0.2\n",
       "3                4.6               3.1                1.5               0.2\n",
       "4                5.0               3.6                1.4               0.2"
      ]
     },
     "execution_count": 12,
     "metadata": {},
     "output_type": "execute_result"
    }
   ],
   "source": [
    "X.head()"
   ]
  },
  {
   "cell_type": "code",
   "execution_count": 13,
   "id": "cd77a93c-1bad-4be1-a0ad-6f7f0a220cc8",
   "metadata": {},
   "outputs": [
    {
     "data": {
      "text/plain": [
       "0    setosa\n",
       "1    setosa\n",
       "2    setosa\n",
       "3    setosa\n",
       "4    setosa\n",
       "Name: target_class, dtype: object"
      ]
     },
     "execution_count": 13,
     "metadata": {},
     "output_type": "execute_result"
    }
   ],
   "source": [
    "y.head()"
   ]
  },
  {
   "cell_type": "code",
   "execution_count": 14,
   "id": "363b9d8e-22aa-4b47-9e25-4f8104692ccc",
   "metadata": {},
   "outputs": [
    {
     "data": {
      "text/plain": [
       "setosa        50\n",
       "versicolor    50\n",
       "virginica     50\n",
       "Name: target_class, dtype: int64"
      ]
     },
     "execution_count": 14,
     "metadata": {},
     "output_type": "execute_result"
    }
   ],
   "source": [
    "y.value_counts()"
   ]
  },
  {
   "cell_type": "code",
   "execution_count": 15,
   "id": "39e57f88-efd7-4e54-9b43-0de96f215692",
   "metadata": {},
   "outputs": [
    {
     "data": {
      "text/plain": [
       "0    100\n",
       "1     50\n",
       "Name: target_is_setosa, dtype: int64"
      ]
     },
     "execution_count": 15,
     "metadata": {},
     "output_type": "execute_result"
    }
   ],
   "source": [
    "y_binary.value_counts() # classi sbilanciate!!"
   ]
  },
  {
   "cell_type": "markdown",
   "id": "067a8836-6f16-4202-857e-768ec186fd7b",
   "metadata": {},
   "source": [
    "#### suddivisione in train dataset e test dataset per classificazione binaria\n",
    "Attenzione: le nostre classi sono sbilanciate"
   ]
  },
  {
   "cell_type": "code",
   "execution_count": 16,
   "id": "1b677425-6db0-4ffb-b883-0e7f124aad4a",
   "metadata": {},
   "outputs": [],
   "source": [
    "X_train_binary, X_test_binary, y_train_binary, y_test_binary, = train_test_split(X, y_binary, test_size=0.3, shuffle=True, random_state=42) "
   ]
  },
  {
   "cell_type": "code",
   "execution_count": 17,
   "id": "fdae1e9e-4ef4-49c0-bd26-a1c252c4f15c",
   "metadata": {},
   "outputs": [
    {
     "data": {
      "text/plain": [
       "((105, 4), (45, 4), (105,), (45,))"
      ]
     },
     "execution_count": 17,
     "metadata": {},
     "output_type": "execute_result"
    }
   ],
   "source": [
    "X_train_binary.shape, X_test_binary.shape, y_train_binary.shape, y_test_binary.shape"
   ]
  },
  {
   "cell_type": "code",
   "execution_count": 18,
   "id": "91d3ae23-592d-4c13-b260-ef464adbcd82",
   "metadata": {},
   "outputs": [
    {
     "data": {
      "text/plain": [
       "0    0.666667\n",
       "1    0.333333\n",
       "Name: target_is_setosa, dtype: float64"
      ]
     },
     "execution_count": 18,
     "metadata": {},
     "output_type": "execute_result"
    }
   ],
   "source": [
    "y_binary.value_counts() / len(y_binary)"
   ]
  },
  {
   "cell_type": "code",
   "execution_count": 19,
   "id": "becf4d9c-bd72-4938-91cb-e46a3a9a97d0",
   "metadata": {},
   "outputs": [
    {
     "data": {
      "text/plain": [
       "0    0.704762\n",
       "1    0.295238\n",
       "Name: target_is_setosa, dtype: float64"
      ]
     },
     "execution_count": 19,
     "metadata": {},
     "output_type": "execute_result"
    }
   ],
   "source": [
    "y_train_binary.value_counts() / len(y_train_binary)"
   ]
  },
  {
   "cell_type": "code",
   "execution_count": 20,
   "id": "a478a514-623c-408f-ab5f-0f214e5f8041",
   "metadata": {},
   "outputs": [
    {
     "data": {
      "text/plain": [
       "0    0.577778\n",
       "1    0.422222\n",
       "Name: target_is_setosa, dtype: float64"
      ]
     },
     "execution_count": 20,
     "metadata": {},
     "output_type": "execute_result"
    }
   ],
   "source": [
    "y_test_binary.value_counts() / len(y_test_binary)"
   ]
  },
  {
   "cell_type": "markdown",
   "id": "0bf42e8f-7ff9-4076-b813-ef62173f0c3a",
   "metadata": {},
   "source": [
    "La percentuale di positivi nel train e test non viene mantenuta.\n",
    "\n",
    "Sia il Train che il Test dataset devono essere il più rappresentativi possibile dei dati completi originali, quindi utilizziamo una suddivisione *stratified*.\n",
    "Soprattuto quando il dataset è sbilanciato e non troppo grande (come in questo caso), è consigliato usare il parametro **stratify**."
   ]
  },
  {
   "cell_type": "code",
   "execution_count": 21,
   "id": "359bbea8-6cb1-4380-946d-b01816a2c8b3",
   "metadata": {},
   "outputs": [],
   "source": [
    "X_train_binary, X_test_binary, y_train_binary, y_test_binary, = train_test_split(X, y_binary, test_size=0.3, shuffle=True, stratify=y_binary, random_state=42) "
   ]
  },
  {
   "cell_type": "code",
   "execution_count": 22,
   "id": "1e830831-3bce-43d5-904e-756e87de4440",
   "metadata": {},
   "outputs": [
    {
     "data": {
      "text/plain": [
       "((105, 4), (45, 4), (105,), (45,))"
      ]
     },
     "execution_count": 22,
     "metadata": {},
     "output_type": "execute_result"
    }
   ],
   "source": [
    "X_train_binary.shape, X_test_binary.shape, y_train_binary.shape, y_test_binary.shape"
   ]
  },
  {
   "cell_type": "code",
   "execution_count": 23,
   "id": "17742d50-1aaa-467c-8a0a-0372b12326c4",
   "metadata": {},
   "outputs": [
    {
     "data": {
      "text/plain": [
       "0    0.666667\n",
       "1    0.333333\n",
       "Name: target_is_setosa, dtype: float64"
      ]
     },
     "execution_count": 23,
     "metadata": {},
     "output_type": "execute_result"
    }
   ],
   "source": [
    "y_train_binary.value_counts() / len(y_train_binary)"
   ]
  },
  {
   "cell_type": "code",
   "execution_count": 24,
   "id": "b4dc07d7-d50a-4ba5-b76c-5f99268a911a",
   "metadata": {},
   "outputs": [
    {
     "data": {
      "text/plain": [
       "0    0.666667\n",
       "1    0.333333\n",
       "Name: target_is_setosa, dtype: float64"
      ]
     },
     "execution_count": 24,
     "metadata": {},
     "output_type": "execute_result"
    }
   ],
   "source": [
    "y_test_binary.value_counts() / len(y_test_binary)"
   ]
  },
  {
   "cell_type": "markdown",
   "id": "817dfb9a-64ff-4e2b-af90-6fc682253d4b",
   "metadata": {
    "tags": []
   },
   "source": [
    "#### suddivisione in train dataset e test dataset per classificazione multiclasse"
   ]
  },
  {
   "cell_type": "code",
   "execution_count": 25,
   "id": "48194506-9d9a-4bc4-9d2b-d497081f5389",
   "metadata": {},
   "outputs": [],
   "source": [
    "X_train, X_test, y_train, y_test, = train_test_split(X, y, test_size=0.3, shuffle=True, stratify=y, random_state=42) "
   ]
  },
  {
   "cell_type": "code",
   "execution_count": 26,
   "id": "390a4c4b-0d70-4a84-bdd0-9d119be5f916",
   "metadata": {},
   "outputs": [
    {
     "data": {
      "text/plain": [
       "((150, 4), (150,))"
      ]
     },
     "execution_count": 26,
     "metadata": {},
     "output_type": "execute_result"
    }
   ],
   "source": [
    "X.shape, y.shape"
   ]
  },
  {
   "cell_type": "code",
   "execution_count": 27,
   "id": "dbd1c422-18d6-4652-8fb2-d9160adac929",
   "metadata": {},
   "outputs": [
    {
     "data": {
      "text/plain": [
       "((105, 4), (45, 4), (105,), (45,))"
      ]
     },
     "execution_count": 27,
     "metadata": {},
     "output_type": "execute_result"
    }
   ],
   "source": [
    "X_train.shape, X_test.shape, y_train.shape, y_test.shape"
   ]
  },
  {
   "cell_type": "code",
   "execution_count": 28,
   "id": "5b5dbdf6-f462-4b9c-b3d4-fdcbe0865192",
   "metadata": {},
   "outputs": [
    {
     "data": {
      "text/plain": [
       "versicolor    35\n",
       "setosa        35\n",
       "virginica     35\n",
       "Name: target_class, dtype: int64"
      ]
     },
     "execution_count": 28,
     "metadata": {},
     "output_type": "execute_result"
    }
   ],
   "source": [
    "y_train.value_counts()"
   ]
  },
  {
   "cell_type": "code",
   "execution_count": 29,
   "id": "f6e03c83-ec3f-4acc-87c1-10721c0b67f2",
   "metadata": {},
   "outputs": [
    {
     "data": {
      "text/plain": [
       "virginica     15\n",
       "versicolor    15\n",
       "setosa        15\n",
       "Name: target_class, dtype: int64"
      ]
     },
     "execution_count": 29,
     "metadata": {},
     "output_type": "execute_result"
    }
   ],
   "source": [
    "y_test.value_counts()"
   ]
  },
  {
   "cell_type": "markdown",
   "id": "7e525b0e-ff8f-496a-840a-58a2d42640ca",
   "metadata": {},
   "source": [
    "## Preprocessing (Transformers)\n",
    "Includes scaling, centering, normalization, binarization methods.\n",
    "\n",
    "Durante la fase di preprocessing è possibile trasformare sia le features in input (X) che la variabile target. Vediamo qualche esempio."
   ]
  },
  {
   "cell_type": "code",
   "execution_count": 30,
   "id": "5e312f53-dcbf-4d13-938c-7b1b51fc6096",
   "metadata": {},
   "outputs": [],
   "source": [
    "from sklearn.preprocessing import LabelBinarizer, LabelEncoder # transformers for labels (y)\n",
    "from sklearn.preprocessing import StandardScaler, MinMaxScaler, OneHotEncoder # transformers for features (X)"
   ]
  },
  {
   "cell_type": "markdown",
   "id": "52938ec4-f1b8-46c9-8e4b-b6703fb4f8a6",
   "metadata": {},
   "source": [
    "Trasformiamo la label multiclasse in numerica"
   ]
  },
  {
   "cell_type": "code",
   "execution_count": 31,
   "id": "d1fe0a24-6f69-4809-b9ab-c78ba43a4c2e",
   "metadata": {},
   "outputs": [
    {
     "data": {
      "text/plain": [
       "((105,), (45,))"
      ]
     },
     "execution_count": 31,
     "metadata": {},
     "output_type": "execute_result"
    }
   ],
   "source": [
    "le = LabelEncoder()\n",
    "\n",
    "y_train_le = pd.Series(le.fit_transform(y_train), index=y_train.index)\n",
    "\n",
    "y_test_le = pd.Series(le.transform(y_test), index=y_test.index)\n",
    "y_train_le.shape, y_test_le.shape"
   ]
  },
  {
   "cell_type": "code",
   "execution_count": 32,
   "id": "8a5bcd0b-adc1-43dd-8183-c675ae70802d",
   "metadata": {},
   "outputs": [
    {
     "data": {
      "text/plain": [
       "98     versicolor\n",
       "68     versicolor\n",
       "19         setosa\n",
       "143     virginica\n",
       "99     versicolor\n",
       "145     virginica\n",
       "9          setosa\n",
       "46         setosa\n",
       "8          setosa\n",
       "102     virginica\n",
       "Name: target_class, dtype: object"
      ]
     },
     "execution_count": 32,
     "metadata": {},
     "output_type": "execute_result"
    }
   ],
   "source": [
    "y_train[:10]"
   ]
  },
  {
   "cell_type": "code",
   "execution_count": 33,
   "id": "86b03ad1-d833-43ba-a55d-de813483d5e7",
   "metadata": {},
   "outputs": [
    {
     "data": {
      "text/plain": [
       "98     1\n",
       "68     1\n",
       "19     0\n",
       "143    2\n",
       "99     1\n",
       "145    2\n",
       "9      0\n",
       "46     0\n",
       "8      0\n",
       "102    2\n",
       "dtype: int32"
      ]
     },
     "execution_count": 33,
     "metadata": {},
     "output_type": "execute_result"
    }
   ],
   "source": [
    "y_train_le[:10]"
   ]
  },
  {
   "cell_type": "code",
   "execution_count": null,
   "id": "289fe3a8-4f1e-4aff-9aae-d25a85c82038",
   "metadata": {},
   "outputs": [],
   "source": []
  },
  {
   "cell_type": "code",
   "execution_count": 34,
   "id": "fee047d3-89a8-40db-9a42-f193ad720753",
   "metadata": {},
   "outputs": [
    {
     "data": {
      "text/plain": [
       "array(['setosa', 'versicolor', 'virginica'], dtype=object)"
      ]
     },
     "execution_count": 34,
     "metadata": {},
     "output_type": "execute_result"
    }
   ],
   "source": [
    "le.classes_"
   ]
  },
  {
   "cell_type": "code",
   "execution_count": 35,
   "id": "78d6d095-9dcf-4f15-aea9-cdead4d00dc3",
   "metadata": {},
   "outputs": [
    {
     "data": {
      "text/plain": [
       "array(['setosa', 'versicolor', 'virginica'], dtype=object)"
      ]
     },
     "execution_count": 35,
     "metadata": {},
     "output_type": "execute_result"
    }
   ],
   "source": [
    "le.inverse_transform([0,1,2])"
   ]
  },
  {
   "cell_type": "code",
   "execution_count": null,
   "id": "a0347951-e1e3-4866-9785-4bdcc81abbbd",
   "metadata": {},
   "outputs": [],
   "source": []
  },
  {
   "cell_type": "markdown",
   "id": "37dd8650-dbec-44ec-8b44-50d4fc4e2cce",
   "metadata": {},
   "source": [
    "Trasformiamo le features in input (X) standardizzandole: \n",
    "- rimuovendo la media\n",
    "- scalandole su 1 unità di varianza\n",
    "\n",
    "La standardizzazione applicata è quello dello z-score.\n",
    "\n",
    "```\n",
    "z = (x - u) / s\n",
    "```\n",
    "dove:\n",
    "- *u* è la madia degli esempi di training\n",
    "- *s* è la deviazione standard degli esempi di training\n",
    "\n",
    "\n",
    "Questa è una trasformazione richeista da molti algoritmi di Machine Learning (*estimators*) che altrimenti funzionerebbero in modo non ottimale. \n",
    "Per es. le SVM o alcuni modelli lineari potrebbero dare importanza maggiore a features con magnitudo maggiore, trascurando il potere predittivo delle altre."
   ]
  },
  {
   "cell_type": "code",
   "execution_count": 36,
   "id": "d011b124-8a14-49ee-979f-7e13ff7f9d9f",
   "metadata": {
    "tags": []
   },
   "outputs": [
    {
     "data": {
      "text/plain": [
       "((105, 4), (105, 4), (45, 4), (45, 4))"
      ]
     },
     "execution_count": 36,
     "metadata": {},
     "output_type": "execute_result"
    }
   ],
   "source": [
    "ss = StandardScaler()\n",
    "ss.fit(X_train)\n",
    "X_train_ss = pd.DataFrame(ss.transform(X_train), columns=X_train.columns, index=X_train.index)\n",
    "X_test_ss = pd.DataFrame(ss.transform(X_test), columns=X_test.columns, index=X_test.index)\n",
    "\n",
    "X_train.shape, X_train_ss.shape, X_test.shape, X_test_ss.shape"
   ]
  },
  {
   "cell_type": "code",
   "execution_count": 37,
   "id": "466c0b4e-de05-4b00-94aa-948adbea77f6",
   "metadata": {},
   "outputs": [
    {
     "data": {
      "text/html": [
       "<div>\n",
       "<style scoped>\n",
       "    .dataframe tbody tr th:only-of-type {\n",
       "        vertical-align: middle;\n",
       "    }\n",
       "\n",
       "    .dataframe tbody tr th {\n",
       "        vertical-align: top;\n",
       "    }\n",
       "\n",
       "    .dataframe thead th {\n",
       "        text-align: right;\n",
       "    }\n",
       "</style>\n",
       "<table border=\"1\" class=\"dataframe\">\n",
       "  <thead>\n",
       "    <tr style=\"text-align: right;\">\n",
       "      <th></th>\n",
       "      <th>sepal length (cm)</th>\n",
       "      <th>sepal width (cm)</th>\n",
       "      <th>petal length (cm)</th>\n",
       "      <th>petal width (cm)</th>\n",
       "    </tr>\n",
       "  </thead>\n",
       "  <tbody>\n",
       "    <tr>\n",
       "      <th>98</th>\n",
       "      <td>5.1</td>\n",
       "      <td>2.5</td>\n",
       "      <td>3.0</td>\n",
       "      <td>1.1</td>\n",
       "    </tr>\n",
       "    <tr>\n",
       "      <th>68</th>\n",
       "      <td>6.2</td>\n",
       "      <td>2.2</td>\n",
       "      <td>4.5</td>\n",
       "      <td>1.5</td>\n",
       "    </tr>\n",
       "    <tr>\n",
       "      <th>19</th>\n",
       "      <td>5.1</td>\n",
       "      <td>3.8</td>\n",
       "      <td>1.5</td>\n",
       "      <td>0.3</td>\n",
       "    </tr>\n",
       "    <tr>\n",
       "      <th>143</th>\n",
       "      <td>6.8</td>\n",
       "      <td>3.2</td>\n",
       "      <td>5.9</td>\n",
       "      <td>2.3</td>\n",
       "    </tr>\n",
       "    <tr>\n",
       "      <th>99</th>\n",
       "      <td>5.7</td>\n",
       "      <td>2.8</td>\n",
       "      <td>4.1</td>\n",
       "      <td>1.3</td>\n",
       "    </tr>\n",
       "    <tr>\n",
       "      <th>145</th>\n",
       "      <td>6.7</td>\n",
       "      <td>3.0</td>\n",
       "      <td>5.2</td>\n",
       "      <td>2.3</td>\n",
       "    </tr>\n",
       "    <tr>\n",
       "      <th>9</th>\n",
       "      <td>4.9</td>\n",
       "      <td>3.1</td>\n",
       "      <td>1.5</td>\n",
       "      <td>0.1</td>\n",
       "    </tr>\n",
       "    <tr>\n",
       "      <th>46</th>\n",
       "      <td>5.1</td>\n",
       "      <td>3.8</td>\n",
       "      <td>1.6</td>\n",
       "      <td>0.2</td>\n",
       "    </tr>\n",
       "    <tr>\n",
       "      <th>8</th>\n",
       "      <td>4.4</td>\n",
       "      <td>2.9</td>\n",
       "      <td>1.4</td>\n",
       "      <td>0.2</td>\n",
       "    </tr>\n",
       "    <tr>\n",
       "      <th>102</th>\n",
       "      <td>7.1</td>\n",
       "      <td>3.0</td>\n",
       "      <td>5.9</td>\n",
       "      <td>2.1</td>\n",
       "    </tr>\n",
       "  </tbody>\n",
       "</table>\n",
       "</div>"
      ],
      "text/plain": [
       "     sepal length (cm)  sepal width (cm)  petal length (cm)  petal width (cm)\n",
       "98                 5.1               2.5                3.0               1.1\n",
       "68                 6.2               2.2                4.5               1.5\n",
       "19                 5.1               3.8                1.5               0.3\n",
       "143                6.8               3.2                5.9               2.3\n",
       "99                 5.7               2.8                4.1               1.3\n",
       "145                6.7               3.0                5.2               2.3\n",
       "9                  4.9               3.1                1.5               0.1\n",
       "46                 5.1               3.8                1.6               0.2\n",
       "8                  4.4               2.9                1.4               0.2\n",
       "102                7.1               3.0                5.9               2.1"
      ]
     },
     "execution_count": 37,
     "metadata": {},
     "output_type": "execute_result"
    }
   ],
   "source": [
    "X_train[:10]"
   ]
  },
  {
   "cell_type": "code",
   "execution_count": 38,
   "id": "430f0134-aa63-4e21-8606-b4d2b27068db",
   "metadata": {},
   "outputs": [
    {
     "data": {
      "text/html": [
       "<div>\n",
       "<style scoped>\n",
       "    .dataframe tbody tr th:only-of-type {\n",
       "        vertical-align: middle;\n",
       "    }\n",
       "\n",
       "    .dataframe tbody tr th {\n",
       "        vertical-align: top;\n",
       "    }\n",
       "\n",
       "    .dataframe thead th {\n",
       "        text-align: right;\n",
       "    }\n",
       "</style>\n",
       "<table border=\"1\" class=\"dataframe\">\n",
       "  <thead>\n",
       "    <tr style=\"text-align: right;\">\n",
       "      <th></th>\n",
       "      <th>sepal length (cm)</th>\n",
       "      <th>sepal width (cm)</th>\n",
       "      <th>petal length (cm)</th>\n",
       "      <th>petal width (cm)</th>\n",
       "    </tr>\n",
       "  </thead>\n",
       "  <tbody>\n",
       "    <tr>\n",
       "      <th>98</th>\n",
       "      <td>-0.900459</td>\n",
       "      <td>-1.220248</td>\n",
       "      <td>-0.441986</td>\n",
       "      <td>-0.136610</td>\n",
       "    </tr>\n",
       "    <tr>\n",
       "      <th>68</th>\n",
       "      <td>0.380366</td>\n",
       "      <td>-1.879558</td>\n",
       "      <td>0.402829</td>\n",
       "      <td>0.380294</td>\n",
       "    </tr>\n",
       "    <tr>\n",
       "      <th>19</th>\n",
       "      <td>-0.900459</td>\n",
       "      <td>1.636764</td>\n",
       "      <td>-1.286801</td>\n",
       "      <td>-1.170419</td>\n",
       "    </tr>\n",
       "    <tr>\n",
       "      <th>143</th>\n",
       "      <td>1.078998</td>\n",
       "      <td>0.318143</td>\n",
       "      <td>1.191323</td>\n",
       "      <td>1.414103</td>\n",
       "    </tr>\n",
       "    <tr>\n",
       "      <th>99</th>\n",
       "      <td>-0.201827</td>\n",
       "      <td>-0.560937</td>\n",
       "      <td>0.177545</td>\n",
       "      <td>0.121842</td>\n",
       "    </tr>\n",
       "    <tr>\n",
       "      <th>145</th>\n",
       "      <td>0.962559</td>\n",
       "      <td>-0.121397</td>\n",
       "      <td>0.797076</td>\n",
       "      <td>1.414103</td>\n",
       "    </tr>\n",
       "    <tr>\n",
       "      <th>9</th>\n",
       "      <td>-1.133336</td>\n",
       "      <td>0.098373</td>\n",
       "      <td>-1.286801</td>\n",
       "      <td>-1.428871</td>\n",
       "    </tr>\n",
       "    <tr>\n",
       "      <th>46</th>\n",
       "      <td>-0.900459</td>\n",
       "      <td>1.636764</td>\n",
       "      <td>-1.230480</td>\n",
       "      <td>-1.299645</td>\n",
       "    </tr>\n",
       "    <tr>\n",
       "      <th>8</th>\n",
       "      <td>-1.715529</td>\n",
       "      <td>-0.341167</td>\n",
       "      <td>-1.343122</td>\n",
       "      <td>-1.299645</td>\n",
       "    </tr>\n",
       "    <tr>\n",
       "      <th>102</th>\n",
       "      <td>1.428314</td>\n",
       "      <td>-0.121397</td>\n",
       "      <td>1.191323</td>\n",
       "      <td>1.155651</td>\n",
       "    </tr>\n",
       "  </tbody>\n",
       "</table>\n",
       "</div>"
      ],
      "text/plain": [
       "     sepal length (cm)  sepal width (cm)  petal length (cm)  petal width (cm)\n",
       "98           -0.900459         -1.220248          -0.441986         -0.136610\n",
       "68            0.380366         -1.879558           0.402829          0.380294\n",
       "19           -0.900459          1.636764          -1.286801         -1.170419\n",
       "143           1.078998          0.318143           1.191323          1.414103\n",
       "99           -0.201827         -0.560937           0.177545          0.121842\n",
       "145           0.962559         -0.121397           0.797076          1.414103\n",
       "9            -1.133336          0.098373          -1.286801         -1.428871\n",
       "46           -0.900459          1.636764          -1.230480         -1.299645\n",
       "8            -1.715529         -0.341167          -1.343122         -1.299645\n",
       "102           1.428314         -0.121397           1.191323          1.155651"
      ]
     },
     "execution_count": 38,
     "metadata": {},
     "output_type": "execute_result"
    }
   ],
   "source": [
    "X_train_ss[:10]"
   ]
  },
  {
   "cell_type": "markdown",
   "id": "bd3f8eae-610c-4ed3-b641-a47c7a87aa32",
   "metadata": {},
   "source": [
    "Gli z-scores vengono calcolati indipendentemente per ogni feature, possiamo verificarlo osservando le *u* e le *s* di ogni feature nel nostro transformer."
   ]
  },
  {
   "cell_type": "code",
   "execution_count": 39,
   "id": "e84e9f3e-1759-416b-84f8-cc787cdc674a",
   "metadata": {},
   "outputs": [
    {
     "data": {
      "text/plain": [
       "array(['sepal length (cm)', 'sepal width (cm)', 'petal length (cm)',\n",
       "       'petal width (cm)'], dtype=object)"
      ]
     },
     "execution_count": 39,
     "metadata": {},
     "output_type": "execute_result"
    }
   ],
   "source": [
    "ss.feature_names_in_"
   ]
  },
  {
   "cell_type": "code",
   "execution_count": 40,
   "id": "8eeac9a6-1f2a-4e48-b5d1-bb5ebfc9ff6a",
   "metadata": {},
   "outputs": [
    {
     "data": {
      "text/plain": [
       "array([5.87333333, 3.0552381 , 3.7847619 , 1.20571429])"
      ]
     },
     "execution_count": 40,
     "metadata": {},
     "output_type": "execute_result"
    }
   ],
   "source": [
    "ss.mean_"
   ]
  },
  {
   "cell_type": "code",
   "execution_count": 41,
   "id": "6b10432a-4503-48b6-9d45-5655a9f30915",
   "metadata": {},
   "outputs": [
    {
     "data": {
      "text/plain": [
       "array([0.85882164, 0.45502087, 1.77553646, 0.77383751])"
      ]
     },
     "execution_count": 41,
     "metadata": {},
     "output_type": "execute_result"
    }
   ],
   "source": [
    "ss.scale_"
   ]
  },
  {
   "cell_type": "markdown",
   "id": "8ff187f4-2ef5-4bd1-a110-70d465b7871a",
   "metadata": {},
   "source": [
    "Non lo vedremo negli esempi, ma un'altra tecnica molto usata è quella del [MinMaxScaler](https://scikit-learn.org/stable/modules/generated/sklearn.preprocessing.MinMaxScaler.html).\n",
    "\n",
    "Non esiste una regola a priori che ci dica quando è meglio usare una tecnica oppure un'altra.\n",
    "In linea di massima possiamo dire che se la distribuzione è \"a campana\" è meglio usare StandardScaler, altrimenti MinMaxScaler."
   ]
  },
  {
   "cell_type": "markdown",
   "id": "83ae55ab-0285-4ddb-b9c4-a0be43957959",
   "metadata": {},
   "source": [
    "## Estimators\n",
    "\n",
    "Vediamo ora alcuni esempi di classificatori per capire come funzionano gli estimators."
   ]
  },
  {
   "cell_type": "code",
   "execution_count": 42,
   "id": "a403c7f6-98fb-4b56-9c9d-f87b04789bbf",
   "metadata": {},
   "outputs": [],
   "source": [
    "from sklearn.tree import DecisionTreeClassifier, plot_tree"
   ]
  },
  {
   "cell_type": "markdown",
   "id": "d8f2d96a-35c3-473e-914d-ca5bc142384e",
   "metadata": {},
   "source": [
    "definiamo un Decision Tree per una classificazione binaria"
   ]
  },
  {
   "cell_type": "code",
   "execution_count": 43,
   "id": "62c6a5c1-4847-4d3d-9595-34316317895e",
   "metadata": {},
   "outputs": [
    {
     "data": {
      "text/plain": [
       "DecisionTreeClassifier(max_depth=2, random_state=42)"
      ]
     },
     "execution_count": 43,
     "metadata": {},
     "output_type": "execute_result"
    }
   ],
   "source": [
    "clf = DecisionTreeClassifier(max_depth=2, random_state=42)\n",
    "clf"
   ]
  },
  {
   "cell_type": "markdown",
   "id": "99c5547f-951d-479f-b3ac-27124dfbd959",
   "metadata": {},
   "source": [
    "addestramento"
   ]
  },
  {
   "cell_type": "code",
   "execution_count": 44,
   "id": "fe3a9ef6-8ff9-43d6-9d73-b3cacf6ea5d5",
   "metadata": {},
   "outputs": [
    {
     "name": "stdout",
     "output_type": "stream",
     "text": [
      "Wall time: 5 ms\n"
     ]
    },
    {
     "data": {
      "text/plain": [
       "DecisionTreeClassifier(max_depth=2, random_state=42)"
      ]
     },
     "execution_count": 44,
     "metadata": {},
     "output_type": "execute_result"
    }
   ],
   "source": [
    "%%time\n",
    "clf.fit(X_train_binary, y_train_binary)"
   ]
  },
  {
   "cell_type": "code",
   "execution_count": 45,
   "id": "f4345bc6-73ab-4110-a350-2c8e13e4bb20",
   "metadata": {},
   "outputs": [
    {
     "data": {
      "text/plain": [
       "((45, 4), (45,))"
      ]
     },
     "execution_count": 45,
     "metadata": {},
     "output_type": "execute_result"
    }
   ],
   "source": [
    "# previsione sul test dataset\n",
    "y_pred_binary = clf.predict(X_test_binary)\n",
    "X_test_binary.shape, y_pred_binary.shape"
   ]
  },
  {
   "cell_type": "code",
   "execution_count": 46,
   "id": "93e9cebe-dfc0-4532-b1eb-051477b32a70",
   "metadata": {},
   "outputs": [
    {
     "data": {
      "text/plain": [
       "array([1, 0, 1, 0, 1, 1, 0, 0, 0, 1])"
      ]
     },
     "execution_count": 46,
     "metadata": {},
     "output_type": "execute_result"
    }
   ],
   "source": [
    "y_pred_binary[:10]"
   ]
  },
  {
   "cell_type": "code",
   "execution_count": 47,
   "id": "fdc465b7-850f-4b8e-aaea-d89f65db0247",
   "metadata": {},
   "outputs": [
    {
     "data": {
      "text/plain": [
       "array([1, 0, 1, 0, 1, 1, 0, 0, 0, 1])"
      ]
     },
     "execution_count": 47,
     "metadata": {},
     "output_type": "execute_result"
    }
   ],
   "source": [
    "y_test_binary[:10].values"
   ]
  },
  {
   "cell_type": "markdown",
   "id": "6df35b0a-1e62-4d76-9dc4-eb52ea3cd138",
   "metadata": {},
   "source": [
    "visualizzazione del modello addestrato"
   ]
  },
  {
   "cell_type": "code",
   "execution_count": 48,
   "id": "7d969aa2-3a4f-4f07-ba3e-d47e4eb50caa",
   "metadata": {},
   "outputs": [
    {
     "data": {
      "image/png": "[encoded data removed]",
      "text/plain": [
       "<Figure size 432x288 with 1 Axes>"
      ]
     },
     "metadata": {
      "needs_background": "light"
     },
     "output_type": "display_data"
    }
   ],
   "source": [
    "from matplotlib import pyplot as plt\n",
    "plot_tree(clf)\n",
    "plt.show()"
   ]
  },
  {
   "cell_type": "code",
   "execution_count": 49,
   "id": "eb021072-ccca-487d-ab86-126fc4f00b76",
   "metadata": {},
   "outputs": [
    {
     "data": {
      "text/plain": [
       "'petal length (cm)'"
      ]
     },
     "execution_count": 49,
     "metadata": {},
     "output_type": "execute_result"
    }
   ],
   "source": [
    "X.columns[2]"
   ]
  },
  {
   "cell_type": "markdown",
   "id": "f793c651-1dba-4378-a3ba-b6befb598762",
   "metadata": {},
   "source": [
    "osserviamo che viene creato un albero binario che possiamo convertire nella regola:\n",
    "- se *lunghezza petalo = 2.6* allora è *iris-setosa* altrimenti *no*"
   ]
  },
  {
   "cell_type": "code",
   "execution_count": null,
   "id": "585f7160-d389-4ded-af53-9fdaed2d3a9d",
   "metadata": {},
   "outputs": [],
   "source": []
  },
  {
   "cell_type": "code",
   "execution_count": null,
   "id": "54a54d1b-9430-47af-8667-5d9c12bfc860",
   "metadata": {},
   "outputs": [],
   "source": []
  },
  {
   "cell_type": "markdown",
   "id": "b4be1092-a75a-4036-b762-17a689332d7f",
   "metadata": {},
   "source": [
    "#### vediamo ora un classificatore multiclasse\n",
    "Utilizzando un meta-classificatore che ci permetta di fare un apprendimento multi-classe (con classi esclusive: ogni elemento può appartenere ad una sola classe).\n",
    "\n",
    "Questo approccio, chiamato One-vs-Rest (o One-vs-All) consiste nel fare training di 1 classificatore binario per ogni classe usando come variabile target una classe contro tutte le altre - o, in altro modo, la presenza o assenza di tale classe.\n",
    "\n",
    "Esattamente quello che abbiamo fatto con il DecisionTree sulla classe *iris-setosa* replicato per tutte le classi del dataset."
   ]
  },
  {
   "cell_type": "code",
   "execution_count": 50,
   "id": "08910349-e131-4688-9770-cbd4645a40a0",
   "metadata": {},
   "outputs": [],
   "source": [
    "from sklearn.svm import SVC\n",
    "from sklearn.multiclass import OneVsRestClassifier # estimator"
   ]
  },
  {
   "cell_type": "markdown",
   "id": "d4441309-283d-441f-b377-bbdb4e962bb0",
   "metadata": {},
   "source": [
    "In questo caso useremo una SVM.\n",
    "Come anticipato prima questo algoritmo è sensibile ai dati di grande magnitudo, quindi andremo ad utilizzare le variabili precedentemente standardizzate."
   ]
  },
  {
   "cell_type": "code",
   "execution_count": 51,
   "id": "22773228-107f-45df-a12a-67e271909798",
   "metadata": {},
   "outputs": [],
   "source": [
    "ovr_clf = OneVsRestClassifier(estimator=SVC(random_state=42))"
   ]
  },
  {
   "cell_type": "code",
   "execution_count": 52,
   "id": "7a6290a6-e5c0-4674-b1c2-591a9b074dce",
   "metadata": {},
   "outputs": [
    {
     "data": {
      "text/html": [
       "<div>\n",
       "<style scoped>\n",
       "    .dataframe tbody tr th:only-of-type {\n",
       "        vertical-align: middle;\n",
       "    }\n",
       "\n",
       "    .dataframe tbody tr th {\n",
       "        vertical-align: top;\n",
       "    }\n",
       "\n",
       "    .dataframe thead th {\n",
       "        text-align: right;\n",
       "    }\n",
       "</style>\n",
       "<table border=\"1\" class=\"dataframe\">\n",
       "  <thead>\n",
       "    <tr style=\"text-align: right;\">\n",
       "      <th></th>\n",
       "      <th>sepal length (cm)</th>\n",
       "      <th>sepal width (cm)</th>\n",
       "      <th>petal length (cm)</th>\n",
       "      <th>petal width (cm)</th>\n",
       "    </tr>\n",
       "  </thead>\n",
       "  <tbody>\n",
       "    <tr>\n",
       "      <th>98</th>\n",
       "      <td>-0.900459</td>\n",
       "      <td>-1.220248</td>\n",
       "      <td>-0.441986</td>\n",
       "      <td>-0.136610</td>\n",
       "    </tr>\n",
       "    <tr>\n",
       "      <th>68</th>\n",
       "      <td>0.380366</td>\n",
       "      <td>-1.879558</td>\n",
       "      <td>0.402829</td>\n",
       "      <td>0.380294</td>\n",
       "    </tr>\n",
       "    <tr>\n",
       "      <th>19</th>\n",
       "      <td>-0.900459</td>\n",
       "      <td>1.636764</td>\n",
       "      <td>-1.286801</td>\n",
       "      <td>-1.170419</td>\n",
       "    </tr>\n",
       "    <tr>\n",
       "      <th>143</th>\n",
       "      <td>1.078998</td>\n",
       "      <td>0.318143</td>\n",
       "      <td>1.191323</td>\n",
       "      <td>1.414103</td>\n",
       "    </tr>\n",
       "    <tr>\n",
       "      <th>99</th>\n",
       "      <td>-0.201827</td>\n",
       "      <td>-0.560937</td>\n",
       "      <td>0.177545</td>\n",
       "      <td>0.121842</td>\n",
       "    </tr>\n",
       "  </tbody>\n",
       "</table>\n",
       "</div>"
      ],
      "text/plain": [
       "     sepal length (cm)  sepal width (cm)  petal length (cm)  petal width (cm)\n",
       "98           -0.900459         -1.220248          -0.441986         -0.136610\n",
       "68            0.380366         -1.879558           0.402829          0.380294\n",
       "19           -0.900459          1.636764          -1.286801         -1.170419\n",
       "143           1.078998          0.318143           1.191323          1.414103\n",
       "99           -0.201827         -0.560937           0.177545          0.121842"
      ]
     },
     "metadata": {},
     "output_type": "display_data"
    },
    {
     "data": {
      "text/plain": [
       "98     1\n",
       "68     1\n",
       "19     0\n",
       "143    2\n",
       "99     1\n",
       "dtype: int32"
      ]
     },
     "metadata": {},
     "output_type": "display_data"
    }
   ],
   "source": [
    "display(X_train_ss.head())\n",
    "display(y_train_le.head())"
   ]
  },
  {
   "cell_type": "markdown",
   "id": "0a67af0c-b642-4672-908e-56655756ebdd",
   "metadata": {},
   "source": [
    "addestramento"
   ]
  },
  {
   "cell_type": "code",
   "execution_count": 53,
   "id": "76cdd6ce-30ef-4957-929a-1125a09497c3",
   "metadata": {},
   "outputs": [
    {
     "name": "stdout",
     "output_type": "stream",
     "text": [
      "Wall time: 11 ms\n"
     ]
    },
    {
     "data": {
      "text/plain": [
       "OneVsRestClassifier(estimator=SVC(random_state=42))"
      ]
     },
     "execution_count": 53,
     "metadata": {},
     "output_type": "execute_result"
    }
   ],
   "source": [
    "%%time\n",
    "ovr_clf.fit(X_train_ss, y_train_le)"
   ]
  },
  {
   "cell_type": "markdown",
   "id": "e3949c9e-1cdf-47dc-900f-e671adca9216",
   "metadata": {},
   "source": [
    "previsione sul test dataset"
   ]
  },
  {
   "cell_type": "code",
   "execution_count": 54,
   "id": "af778f91-88e8-42e5-a06f-e53ef4302c42",
   "metadata": {},
   "outputs": [
    {
     "data": {
      "text/plain": [
       "((45,), (45,))"
      ]
     },
     "execution_count": 54,
     "metadata": {},
     "output_type": "execute_result"
    }
   ],
   "source": [
    "y_pred_ovr = ovr_clf.predict(X_test_ss)\n",
    "y_test_le.shape, y_pred_ovr.shape"
   ]
  },
  {
   "cell_type": "code",
   "execution_count": 55,
   "id": "8af489cf-63b7-4be9-9625-8262af0554e7",
   "metadata": {},
   "outputs": [
    {
     "data": {
      "text/plain": [
       "array([2, 1, 2, 1, 2, 2, 1, 1, 0, 2])"
      ]
     },
     "execution_count": 55,
     "metadata": {},
     "output_type": "execute_result"
    }
   ],
   "source": [
    "y_test_le[:10].values"
   ]
  },
  {
   "cell_type": "code",
   "execution_count": 56,
   "id": "928a89c9-b76b-4727-bfa4-ec6665b8920c",
   "metadata": {},
   "outputs": [
    {
     "data": {
      "text/plain": [
       "array([2, 1, 1, 1, 2, 2, 1, 1, 0, 2])"
      ]
     },
     "execution_count": 56,
     "metadata": {},
     "output_type": "execute_result"
    }
   ],
   "source": [
    "y_pred_ovr[:10]"
   ]
  },
  {
   "cell_type": "code",
   "execution_count": null,
   "id": "f87a7ec1-7127-40e0-80e3-604202926059",
   "metadata": {},
   "outputs": [],
   "source": []
  },
  {
   "cell_type": "code",
   "execution_count": null,
   "id": "bb782f0d-a493-4c19-9ef0-6763209d1923",
   "metadata": {},
   "outputs": [],
   "source": []
  }
 ],
 "metadata": {
  "kernelspec": {
   "display_name": "Python [conda env:py39_pbg]",
   "language": "python",
   "name": "conda-env-py39_pbg-py"
  },
  "language_info": {
   "codemirror_mode": {
    "name": "ipython",
    "version": 3
   },
   "file_extension": ".py",
   "mimetype": "text/x-python",
   "name": "python",
   "nbconvert_exporter": "python",
   "pygments_lexer": "ipython3",
   "version": "3.9.7"
  }
 },
 "nbformat": 4,
 "nbformat_minor": 5
}
