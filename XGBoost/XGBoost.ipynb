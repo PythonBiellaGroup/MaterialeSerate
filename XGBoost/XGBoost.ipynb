{
 "cells": [
  {
   "cell_type": "code",
   "execution_count": null,
   "id": "b1324e85-8e9d-4d96-8208-73b08dce92b0",
   "metadata": {},
   "outputs": [],
   "source": [
    "import numpy as np\n",
    "import pandas as pd\n",
    "from sklearn.model_selection import cross_val_score"
   ]
  },
  {
   "cell_type": "code",
   "execution_count": null,
   "id": "8af46001-8217-48e6-8176-b390abb6ac6f",
   "metadata": {},
   "outputs": [],
   "source": [
    "import warnings\n",
    "warnings.filterwarnings('ignore')"
   ]
  },
  {
   "cell_type": "markdown",
   "id": "bed20160-9298-480c-a0a4-da5628dd1b16",
   "metadata": {},
   "source": [
    "## Dataset"
   ]
  },
  {
   "cell_type": "code",
   "execution_count": null,
   "id": "0bc4e460-3ea0-46b7-831e-5a35f22bd0b2",
   "metadata": {},
   "outputs": [],
   "source": [
    "from sklearn.datasets import load_digits, load_wine, load_breast_cancer\n",
    "data = load_digits(as_frame=True)"
   ]
  },
  {
   "cell_type": "markdown",
   "id": "74cb450f-f14b-42a2-a86c-d59a45d6cc61",
   "metadata": {
    "jp-MarkdownHeadingCollapsed": true,
    "tags": []
   },
   "source": [
    "## Dataset 2"
   ]
  },
  {
   "cell_type": "code",
   "execution_count": null,
   "id": "1dae0095-868a-4b15-a305-40d895643eab",
   "metadata": {},
   "outputs": [],
   "source": [
    "!curl -o ionosphere_data.csv https://archive.ics.uci.edu/ml/machine-learning-databases/ionosphere/ionosphere.data"
   ]
  },
  {
   "cell_type": "code",
   "execution_count": null,
   "id": "195f5e6a-c6e8-4cb7-9796-6388f0b7e8a7",
   "metadata": {},
   "outputs": [],
   "source": [
    "!curl -o ionosphere_data.csv https://archive.ics.uci.edu/ml/machine-learning-databases/00267/data_banknote_authentication.txt"
   ]
  },
  {
   "cell_type": "code",
   "execution_count": null,
   "id": "c4e33cdc-0274-4994-97b9-cf9a9bc9b0f5",
   "metadata": {},
   "outputs": [],
   "source": [
    "ionosphere_dataset = pd.read_csv(\"ionosphere_data.csv\", header=None)\n",
    "data = {\n",
    "    \"data\": ionosphere_dataset.loc[:,:33],\n",
    "    \"target\": ionosphere_dataset.loc[:,34]\n",
    "}"
   ]
  },
  {
   "cell_type": "markdown",
   "id": "349c15c3-5f7c-4735-8bc6-6a56544a5cc9",
   "metadata": {},
   "source": [
    "## Preprocessing"
   ]
  },
  {
   "cell_type": "code",
   "execution_count": null,
   "id": "feb601da-65cd-4d28-9084-4ef979765b38",
   "metadata": {},
   "outputs": [],
   "source": [
    "data[\"data\"]"
   ]
  },
  {
   "cell_type": "code",
   "execution_count": null,
   "id": "c95561c0-6ec9-4350-b581-fa58d00b2aeb",
   "metadata": {},
   "outputs": [],
   "source": [
    "from sklearn.preprocessing import StandardScaler\n",
    "data[\"data\"] = StandardScaler().fit_transform(data[\"data\"])"
   ]
  },
  {
   "cell_type": "code",
   "execution_count": null,
   "id": "4bbc7290-5ef1-4626-813e-9bf1c3adfbc0",
   "metadata": {},
   "outputs": [],
   "source": [
    "from collections import Counter\n",
    "data[\"target\"], Counter(data[\"target\"])"
   ]
  },
  {
   "cell_type": "markdown",
   "id": "bbc4cc94-93b6-4257-853e-abaef6e2becd",
   "metadata": {},
   "source": [
    "## Trees"
   ]
  },
  {
   "cell_type": "code",
   "execution_count": null,
   "id": "67599e75-b262-4440-8b6f-792b8e41175a",
   "metadata": {},
   "outputs": [],
   "source": [
    "from sklearn.tree import DecisionTreeClassifier"
   ]
  },
  {
   "cell_type": "code",
   "execution_count": null,
   "id": "acff7cfd-de5d-475d-b4ac-879d5e36fbab",
   "metadata": {},
   "outputs": [],
   "source": [
    "# https://scikit-learn.org/stable/modules/generated/sklearn.tree.DecisionTreeClassifier.html\n",
    "help(DecisionTreeClassifier)"
   ]
  },
  {
   "cell_type": "code",
   "execution_count": null,
   "id": "eba97648-ecb7-4da1-873f-fdc83d34d62e",
   "metadata": {},
   "outputs": [],
   "source": [
    "model = DecisionTreeClassifier(random_state=0)"
   ]
  },
  {
   "cell_type": "code",
   "execution_count": null,
   "id": "710873e0-178c-4979-9e87-28a0dfb6a580",
   "metadata": {},
   "outputs": [],
   "source": [
    "cv_score = cross_val_score(model, data[\"data\"], data[\"target\"], cv=10)\n",
    "cv_score, np.mean(cv_score)"
   ]
  },
  {
   "cell_type": "markdown",
   "id": "d5228f6d-b1d4-4bcc-b939-d7c873fdf1a0",
   "metadata": {},
   "source": [
    "## Bagging"
   ]
  },
  {
   "cell_type": "code",
   "execution_count": null,
   "id": "c8f3e437-38be-40ec-972e-cfc1b713b915",
   "metadata": {},
   "outputs": [],
   "source": [
    "from sklearn.ensemble import BaggingClassifier"
   ]
  },
  {
   "cell_type": "code",
   "execution_count": null,
   "id": "f25cea9e-2ae4-4e2c-9960-2b88f3e0bf5e",
   "metadata": {},
   "outputs": [],
   "source": [
    "# https://scikit-learn.org/stable/modules/generated/sklearn.ensemble.BaggingClassifier.html\n",
    "help(BaggingClassifier)"
   ]
  },
  {
   "cell_type": "code",
   "execution_count": null,
   "id": "2439ae24-ad0b-4eb3-98a9-c517b7c6a6af",
   "metadata": {},
   "outputs": [],
   "source": [
    "model = BaggingClassifier(random_state=0)"
   ]
  },
  {
   "cell_type": "code",
   "execution_count": null,
   "id": "94e26130-6b72-4799-b391-09b860f08a86",
   "metadata": {},
   "outputs": [],
   "source": [
    "cv_score = cross_val_score(model, data[\"data\"], data[\"target\"], cv=10)\n",
    "cv_score, np.mean(cv_score)"
   ]
  },
  {
   "cell_type": "markdown",
   "id": "8b747261-bbb5-4b53-a957-f326f34d6392",
   "metadata": {},
   "source": [
    "## XGBoost"
   ]
  },
  {
   "cell_type": "code",
   "execution_count": null,
   "id": "48e1e27e-71eb-401f-9af8-179007ff98f7",
   "metadata": {},
   "outputs": [],
   "source": [
    "from xgboost import XGBClassifier"
   ]
  },
  {
   "cell_type": "code",
   "execution_count": null,
   "id": "23e33030-d070-4f26-8636-e64851c9c8bf",
   "metadata": {},
   "outputs": [],
   "source": [
    "# https://xgboost.readthedocs.io/en/stable/python/python_api.html#xgboost.XGBClassifier\n",
    "help(XGBClassifier)"
   ]
  },
  {
   "cell_type": "code",
   "execution_count": null,
   "id": "e95347ba-15d5-44da-80c6-157bdf4950f5",
   "metadata": {},
   "outputs": [],
   "source": [
    "model = XGBClassifier(random_state=0, verbosity = 0, n_estimators=100)\n",
    "model"
   ]
  },
  {
   "cell_type": "code",
   "execution_count": null,
   "id": "8b13a0d1-f6f2-4577-974c-2765df3a8338",
   "metadata": {},
   "outputs": [],
   "source": [
    "cv_score = cross_val_score(model, data[\"data\"], data[\"target\"], cv=10)\n",
    "cv_score, np.mean(cv_score)"
   ]
  },
  {
   "cell_type": "markdown",
   "id": "616097f1-5918-4805-b8ac-2b76933ffec6",
   "metadata": {},
   "source": [
    "## Neural networks"
   ]
  },
  {
   "cell_type": "code",
   "execution_count": null,
   "id": "7910b8f6-ad92-46fc-a469-17954b667d58",
   "metadata": {},
   "outputs": [],
   "source": [
    "from sklearn.neural_network import MLPClassifier"
   ]
  },
  {
   "cell_type": "code",
   "execution_count": null,
   "id": "b6f3e655-f5c8-4bbd-b635-5ce17039e6d2",
   "metadata": {},
   "outputs": [],
   "source": [
    "model = MLPClassifier(random_state=0)"
   ]
  },
  {
   "cell_type": "code",
   "execution_count": null,
   "id": "57232f3f-db73-4a0d-9d45-c93967015cae",
   "metadata": {},
   "outputs": [],
   "source": [
    "cv_score = cross_val_score(model, data[\"data\"], data[\"target\"], cv=10)\n",
    "cv_score, np.mean(cv_score)"
   ]
  },
  {
   "cell_type": "code",
   "execution_count": null,
   "id": "3a507478-2493-4fd2-9c45-8b9ed2bda602",
   "metadata": {},
   "outputs": [],
   "source": []
  },
  {
   "cell_type": "markdown",
   "id": "7211e3c4-1695-45eb-a237-6af4fac7d89f",
   "metadata": {},
   "source": [
    "## Dataset 3\n",
    "\n",
    "https://www.kaggle.com/datasets/kamilpytlak/personal-key-indicators-of-heart-disease"
   ]
  },
  {
   "cell_type": "code",
   "execution_count": null,
   "id": "513715f4-7062-419f-bd1a-c7645266f4c9",
   "metadata": {},
   "outputs": [],
   "source": []
  }
 ],
 "metadata": {
  "kernelspec": {
   "display_name": "Python 3 (ipykernel)",
   "language": "python",
   "name": "python3"
  },
  "language_info": {
   "codemirror_mode": {
    "name": "ipython",
    "version": 3
   },
   "file_extension": ".py",
   "mimetype": "text/x-python",
   "name": "python",
   "nbconvert_exporter": "python",
   "pygments_lexer": "ipython3",
   "version": "3.10.4"
  }
 },
 "nbformat": 4,
 "nbformat_minor": 5
}
