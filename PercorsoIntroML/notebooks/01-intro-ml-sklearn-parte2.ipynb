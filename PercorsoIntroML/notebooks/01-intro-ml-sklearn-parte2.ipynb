{
 "cells": [
  {
   "cell_type": "markdown",
   "id": "f46a8771-f261-488e-a434-8c2dd86c61fe",
   "metadata": {},
   "source": [
    "# INTRO"
   ]
  },
  {
   "cell_type": "code",
   "execution_count": 1,
   "id": "71b306b2-1584-4e87-812e-84f908508d5f",
   "metadata": {},
   "outputs": [],
   "source": [
    "%matplotlib inline"
   ]
  },
  {
   "cell_type": "markdown",
   "id": "d40643de-5b66-4d38-a4a6-de7593abd0b5",
   "metadata": {},
   "source": [
    "## ML PROJECT WORKFLOW\n",
    "With Scikit Learn"
   ]
  },
  {
   "cell_type": "markdown",
   "id": "7954b7bb-5e9e-4d56-8429-e608fec0d61d",
   "metadata": {},
   "source": [
    "![](./img/proj_workflow_sklearn_mapping.png)"
   ]
  },
  {
   "cell_type": "markdown",
   "id": "b9a90535-1db2-4599-a371-35f14c175594",
   "metadata": {},
   "source": [
    "---"
   ]
  },
  {
   "cell_type": "code",
   "execution_count": null,
   "id": "8ba91319-ba06-4e7d-8825-4ca7afff22c7",
   "metadata": {},
   "outputs": [],
   "source": []
  },
  {
   "cell_type": "markdown",
   "id": "849fd942-1ea0-4b59-8119-4048b7e55815",
   "metadata": {},
   "source": [
    "## Riprendiamo\n",
    "\n",
    "1. Carichiamo il dataset IRIS\n",
    "2. Suddividiamo in Train e Test dataset\n",
    "3. Applichiamo il preprocessing necessario alle labels"
   ]
  },
  {
   "cell_type": "code",
   "execution_count": 2,
   "id": "bba63701-a57f-4f0e-a831-8480bc329589",
   "metadata": {},
   "outputs": [],
   "source": [
    "import pandas as pd\n",
    "import numpy as np"
   ]
  },
  {
   "cell_type": "markdown",
   "id": "8525ba3a-fc77-49a6-af3a-aab1e7aa1c2d",
   "metadata": {},
   "source": [
    "#### 1. Carichiamo il dataset IRIS"
   ]
  },
  {
   "cell_type": "code",
   "execution_count": 3,
   "id": "cdf0d9ed-e508-4fe0-9fb7-3d959c6d3af8",
   "metadata": {},
   "outputs": [
    {
     "data": {
      "text/html": [
       "<div>\n",
       "<style scoped>\n",
       "    .dataframe tbody tr th:only-of-type {\n",
       "        vertical-align: middle;\n",
       "    }\n",
       "\n",
       "    .dataframe tbody tr th {\n",
       "        vertical-align: top;\n",
       "    }\n",
       "\n",
       "    .dataframe thead th {\n",
       "        text-align: right;\n",
       "    }\n",
       "</style>\n",
       "<table border=\"1\" class=\"dataframe\">\n",
       "  <thead>\n",
       "    <tr style=\"text-align: right;\">\n",
       "      <th></th>\n",
       "      <th>sepal length (cm)</th>\n",
       "      <th>sepal width (cm)</th>\n",
       "      <th>petal length (cm)</th>\n",
       "      <th>petal width (cm)</th>\n",
       "      <th>target_num</th>\n",
       "      <th>target_class</th>\n",
       "    </tr>\n",
       "  </thead>\n",
       "  <tbody>\n",
       "    <tr>\n",
       "      <th>0</th>\n",
       "      <td>5.1</td>\n",
       "      <td>3.5</td>\n",
       "      <td>1.4</td>\n",
       "      <td>0.2</td>\n",
       "      <td>0</td>\n",
       "      <td>setosa</td>\n",
       "    </tr>\n",
       "    <tr>\n",
       "      <th>1</th>\n",
       "      <td>4.9</td>\n",
       "      <td>3.0</td>\n",
       "      <td>1.4</td>\n",
       "      <td>0.2</td>\n",
       "      <td>0</td>\n",
       "      <td>setosa</td>\n",
       "    </tr>\n",
       "    <tr>\n",
       "      <th>2</th>\n",
       "      <td>4.7</td>\n",
       "      <td>3.2</td>\n",
       "      <td>1.3</td>\n",
       "      <td>0.2</td>\n",
       "      <td>0</td>\n",
       "      <td>setosa</td>\n",
       "    </tr>\n",
       "    <tr>\n",
       "      <th>3</th>\n",
       "      <td>4.6</td>\n",
       "      <td>3.1</td>\n",
       "      <td>1.5</td>\n",
       "      <td>0.2</td>\n",
       "      <td>0</td>\n",
       "      <td>setosa</td>\n",
       "    </tr>\n",
       "    <tr>\n",
       "      <th>4</th>\n",
       "      <td>5.0</td>\n",
       "      <td>3.6</td>\n",
       "      <td>1.4</td>\n",
       "      <td>0.2</td>\n",
       "      <td>0</td>\n",
       "      <td>setosa</td>\n",
       "    </tr>\n",
       "  </tbody>\n",
       "</table>\n",
       "</div>"
      ],
      "text/plain": [
       "   sepal length (cm)  sepal width (cm)  petal length (cm)  petal width (cm)  \\\n",
       "0                5.1               3.5                1.4               0.2   \n",
       "1                4.9               3.0                1.4               0.2   \n",
       "2                4.7               3.2                1.3               0.2   \n",
       "3                4.6               3.1                1.5               0.2   \n",
       "4                5.0               3.6                1.4               0.2   \n",
       "\n",
       "   target_num target_class  \n",
       "0           0       setosa  \n",
       "1           0       setosa  \n",
       "2           0       setosa  \n",
       "3           0       setosa  \n",
       "4           0       setosa  "
      ]
     },
     "execution_count": 3,
     "metadata": {},
     "output_type": "execute_result"
    }
   ],
   "source": [
    "from sklearn import datasets\n",
    "iris = datasets.load_iris() # https://scikit-learn.org/stable/datasets/toy_dataset.html#iris-plants-dataset\n",
    "\n",
    "iris_df = pd.DataFrame(iris.data, columns=iris.feature_names)\n",
    "iris_df[\"target_num\"] = iris.target\n",
    "iris_df[\"target_class\"] = iris_df[\"target_num\"].apply(lambda x: iris.target_names[x])\n",
    "iris_df.head()"
   ]
  },
  {
   "cell_type": "markdown",
   "id": "f12dbef0-83b1-4f45-b2d4-adf270b01581",
   "metadata": {},
   "source": [
    "#### 2. Suddividiamo in Train e Test dataset"
   ]
  },
  {
   "cell_type": "code",
   "execution_count": 4,
   "id": "dd33fe52-4feb-47a5-9658-c968941b3675",
   "metadata": {},
   "outputs": [
    {
     "data": {
      "text/plain": [
       "((105, 4), (45, 4), (105,), (45,))"
      ]
     },
     "execution_count": 4,
     "metadata": {},
     "output_type": "execute_result"
    }
   ],
   "source": [
    "from sklearn.model_selection import train_test_split\n",
    "\n",
    "X = iris_df[iris.feature_names]\n",
    "y = iris_df[\"target_class\"]\n",
    "\n",
    "#### suddivisione in train dataset e test dataset per classificazione multiclasse\n",
    "X_train, X_test, y_train, y_test, = train_test_split(X, y, test_size=0.3, shuffle=True, stratify=y, random_state=42) \n",
    "\n",
    "X_train.shape, X_test.shape, y_train.shape, y_test.shape"
   ]
  },
  {
   "cell_type": "code",
   "execution_count": 5,
   "id": "7ba19489-b3c7-4f2d-acff-861f8e2c385c",
   "metadata": {},
   "outputs": [
    {
     "data": {
      "text/plain": [
       "versicolor    35\n",
       "setosa        35\n",
       "virginica     35\n",
       "Name: target_class, dtype: int64"
      ]
     },
     "execution_count": 5,
     "metadata": {},
     "output_type": "execute_result"
    }
   ],
   "source": [
    "y_train.value_counts()"
   ]
  },
  {
   "cell_type": "code",
   "execution_count": 6,
   "id": "c3c8b1dd-6aba-404f-8619-bb807bcdbb1e",
   "metadata": {},
   "outputs": [
    {
     "data": {
      "text/plain": [
       "virginica     15\n",
       "versicolor    15\n",
       "setosa        15\n",
       "Name: target_class, dtype: int64"
      ]
     },
     "execution_count": 6,
     "metadata": {},
     "output_type": "execute_result"
    }
   ],
   "source": [
    "y_test.value_counts()"
   ]
  },
  {
   "cell_type": "markdown",
   "id": "e72eff82-1fe2-4d9f-8a7a-a2575c80c9a6",
   "metadata": {},
   "source": []
  },
  {
   "cell_type": "markdown",
   "id": "abdb0d22-5a4a-4391-a599-03d7e34f32bc",
   "metadata": {},
   "source": [
    "#### 3. Applichiamo il preprocessing necessario alle labels"
   ]
  },
  {
   "cell_type": "code",
   "execution_count": 7,
   "id": "239e1157-c193-44e9-9f8d-4a97f9fcb159",
   "metadata": {},
   "outputs": [
    {
     "data": {
      "text/plain": [
       "((105,), (45,))"
      ]
     },
     "execution_count": 7,
     "metadata": {},
     "output_type": "execute_result"
    }
   ],
   "source": [
    "from sklearn.preprocessing import LabelBinarizer, LabelEncoder # transformers for labels (y)\n",
    "\n",
    "le = LabelEncoder()\n",
    "\n",
    "y_train_le = pd.Series(le.fit_transform(y_train), index=y_train.index)\n",
    "y_test_le = pd.Series(le.transform(y_test), index=y_test.index)\n",
    "\n",
    "y_train_le.shape, y_test_le.shape"
   ]
  },
  {
   "cell_type": "code",
   "execution_count": 8,
   "id": "50f31163-602b-4957-b5f5-e45887b36dee",
   "metadata": {},
   "outputs": [
    {
     "data": {
      "text/plain": [
       "98     versicolor\n",
       "68     versicolor\n",
       "19         setosa\n",
       "143     virginica\n",
       "99     versicolor\n",
       "145     virginica\n",
       "9          setosa\n",
       "46         setosa\n",
       "8          setosa\n",
       "102     virginica\n",
       "Name: target_class, dtype: object"
      ]
     },
     "execution_count": 8,
     "metadata": {},
     "output_type": "execute_result"
    }
   ],
   "source": [
    "y_train[:10]"
   ]
  },
  {
   "cell_type": "code",
   "execution_count": 9,
   "id": "0edbb2da-06f4-4055-bdae-a90b4f295267",
   "metadata": {},
   "outputs": [
    {
     "data": {
      "text/plain": [
       "98     1\n",
       "68     1\n",
       "19     0\n",
       "143    2\n",
       "99     1\n",
       "145    2\n",
       "9      0\n",
       "46     0\n",
       "8      0\n",
       "102    2\n",
       "dtype: int32"
      ]
     },
     "execution_count": 9,
     "metadata": {},
     "output_type": "execute_result"
    }
   ],
   "source": [
    "y_train_le[:10]"
   ]
  },
  {
   "cell_type": "code",
   "execution_count": null,
   "id": "e02e09c5-43d0-448c-8413-dc9f43c31ee3",
   "metadata": {},
   "outputs": [],
   "source": []
  },
  {
   "cell_type": "markdown",
   "id": "1b276a59-e550-4745-816d-4500cdb34724",
   "metadata": {
    "tags": []
   },
   "source": [
    "## Pipeline\n",
    "Utilities to build a composite estimator, as a chain of transforms and estimators.\n",
    "\n",
    "Vediamo ora le Pipeline che ci permettono di astrarre i vari step del training.\n",
    "\n",
    "Come accennato le volte precedenti: il training non è solo l'addestramento del modello ma è anche la trasformazione delle features (oppure le definizione di nuove).\n",
    "\n",
    "Le Pipeline ci permettono di applicare *sequenzialmente* una lista di operazioni (*transformers*) seguete da un *estimator*.\n",
    "Quindi:\n",
    "- Gli step iniziali devono implementare i metodi *fit* e *transform*\n",
    "- Lo step finale deve implementare solo il metodo *fit* (ed eventualmente *predict*)\n",
    "\n",
    "I vantaggi sono:\n",
    "- utilizzo di un solo oggetto\n",
    "- è passare un blocco unico di parametri ma che afferiscono a step diversi della pipeline (utile per tuning dei parametri)"
   ]
  },
  {
   "cell_type": "code",
   "execution_count": 10,
   "id": "83a14b7c-e4c1-485d-88d2-59536f28ea69",
   "metadata": {},
   "outputs": [],
   "source": [
    "from sklearn.pipeline import Pipeline\n",
    "from sklearn.preprocessing import StandardScaler\n",
    "from sklearn.svm import SVC\n",
    "from sklearn.multiclass import OneVsRestClassifier\n",
    "\n",
    "\n",
    "# definizione del transformer (scaler)\n",
    "scaler = StandardScaler()\n",
    "\n",
    "# definizione del estimator (classficatore multiclasse)\n",
    "clf = OneVsRestClassifier(estimator=SVC(random_state=42))\n",
    "\n",
    "# creazione della pipeline\n",
    "pipe = Pipeline(steps=[\n",
    "    (\"scaler\", scaler), \n",
    "    (\"ovr_classifier\", clf)\n",
    "])"
   ]
  },
  {
   "cell_type": "markdown",
   "id": "4153df78-1493-41e3-8d87-0782e4b9fae1",
   "metadata": {},
   "source": [
    "*fit* della pipeline"
   ]
  },
  {
   "cell_type": "code",
   "execution_count": 11,
   "id": "7d43e900-23b9-4bc5-a77f-844924577f66",
   "metadata": {},
   "outputs": [
    {
     "name": "stdout",
     "output_type": "stream",
     "text": [
      "Wall time: 14 ms\n"
     ]
    },
    {
     "data": {
      "text/plain": [
       "Pipeline(steps=[('scaler', StandardScaler()),\n",
       "                ('ovr_classifier',\n",
       "                 OneVsRestClassifier(estimator=SVC(random_state=42)))])"
      ]
     },
     "execution_count": 11,
     "metadata": {},
     "output_type": "execute_result"
    }
   ],
   "source": [
    "%%time\n",
    "pipe.fit(X_train, y_train_le)"
   ]
  },
  {
   "cell_type": "markdown",
   "id": "b49402e6-9354-47d7-bc81-2be94d01c091",
   "metadata": {},
   "source": [
    "*predict*"
   ]
  },
  {
   "cell_type": "code",
   "execution_count": 12,
   "id": "56981bd5-5dc1-43b6-938b-534530c96f18",
   "metadata": {},
   "outputs": [
    {
     "data": {
      "text/plain": [
       "array([2, 1, 1, 1, 2, 2, 1, 1, 0, 2])"
      ]
     },
     "execution_count": 12,
     "metadata": {},
     "output_type": "execute_result"
    }
   ],
   "source": [
    "y_pred_pipe = pipe.predict(X_test)\n",
    "y_pred_pipe[:10]"
   ]
  },
  {
   "cell_type": "code",
   "execution_count": 13,
   "id": "c9e0d7ca-f993-496c-a002-9cf6c9a00c4e",
   "metadata": {},
   "outputs": [
    {
     "data": {
      "text/plain": [
       "array([2, 1, 2, 1, 2, 2, 1, 1, 0, 2])"
      ]
     },
     "execution_count": 13,
     "metadata": {},
     "output_type": "execute_result"
    }
   ],
   "source": [
    "y_test_le[:10].values"
   ]
  },
  {
   "cell_type": "code",
   "execution_count": null,
   "id": "3a6b9def-b420-4901-abb3-929103a5ebfc",
   "metadata": {},
   "outputs": [],
   "source": []
  },
  {
   "cell_type": "markdown",
   "id": "ee2fd219-8f52-4cc1-8ceb-ad9196e3f477",
   "metadata": {},
   "source": [
    "## Metrics\n",
    "Metrics and scoring to quantify the quality of predictions.\n",
    "It includes score functions, performance metrics and pairwise metrics and distance computations."
   ]
  },
  {
   "cell_type": "code",
   "execution_count": 14,
   "id": "f519c9c0-4949-4829-928b-68d415647c58",
   "metadata": {},
   "outputs": [],
   "source": [
    "from sklearn.metrics import classification_report, confusion_matrix, ConfusionMatrixDisplay"
   ]
  },
  {
   "cell_type": "code",
   "execution_count": 15,
   "id": "ee01947e-5d79-4034-b82a-d224e743098b",
   "metadata": {},
   "outputs": [
    {
     "data": {
      "text/plain": [
       "array([[15,  0,  0],\n",
       "       [ 0, 14,  1],\n",
       "       [ 0,  3, 12]], dtype=int64)"
      ]
     },
     "execution_count": 15,
     "metadata": {},
     "output_type": "execute_result"
    }
   ],
   "source": [
    "cm = confusion_matrix(y_test_le.values, y_pred_pipe)\n",
    "cm"
   ]
  },
  {
   "cell_type": "code",
   "execution_count": 16,
   "id": "baa51570-86db-430f-9c68-99ec93ae7e21",
   "metadata": {},
   "outputs": [
    {
     "data": {
      "text/plain": [
       "<sklearn.metrics._plot.confusion_matrix.ConfusionMatrixDisplay at 0x20db33aa9a0>"
      ]
     },
     "execution_count": 16,
     "metadata": {},
     "output_type": "execute_result"
    },
    {
     "data": {
      "image/png": "[encoded data removed]",
      "text/plain": [
       "<Figure size 432x288 with 2 Axes>"
      ]
     },
     "metadata": {
      "needs_background": "light"
     },
     "output_type": "display_data"
    }
   ],
   "source": [
    "ConfusionMatrixDisplay(cm, display_labels=le.classes_).plot()"
   ]
  },
  {
   "cell_type": "code",
   "execution_count": 17,
   "id": "fcc43aed-71c0-4e33-bb39-e35f7c7fed3f",
   "metadata": {},
   "outputs": [
    {
     "name": "stdout",
     "output_type": "stream",
     "text": [
      "              precision    recall  f1-score   support\n",
      "\n",
      "           0       1.00      1.00      1.00        15\n",
      "           1       0.82      0.93      0.87        15\n",
      "           2       0.92      0.80      0.86        15\n",
      "\n",
      "    accuracy                           0.91        45\n",
      "   macro avg       0.92      0.91      0.91        45\n",
      "weighted avg       0.92      0.91      0.91        45\n",
      "\n"
     ]
    }
   ],
   "source": [
    "print(classification_report(y_test_le.values, y_pred_pipe))"
   ]
  },
  {
   "cell_type": "code",
   "execution_count": null,
   "id": "e427001b-aa16-4fb7-8376-d0c1ffb8c30c",
   "metadata": {},
   "outputs": [],
   "source": []
  },
  {
   "cell_type": "code",
   "execution_count": null,
   "id": "6e4d7549-b4e5-4f5e-a973-660a7b4dce11",
   "metadata": {},
   "outputs": [],
   "source": []
  },
  {
   "cell_type": "code",
   "execution_count": null,
   "id": "658e4144-6e10-4156-b1d4-d0abbafee05c",
   "metadata": {},
   "outputs": [],
   "source": []
  }
 ],
 "metadata": {
  "kernelspec": {
   "display_name": "Python [conda env:py39_pbg]",
   "language": "python",
   "name": "conda-env-py39_pbg-py"
  },
  "language_info": {
   "codemirror_mode": {
    "name": "ipython",
    "version": 3
   },
   "file_extension": ".py",
   "mimetype": "text/x-python",
   "name": "python",
   "nbconvert_exporter": "python",
   "pygments_lexer": "ipython3",
   "version": "3.9.7"
  }
 },
 "nbformat": 4,
 "nbformat_minor": 5
}
