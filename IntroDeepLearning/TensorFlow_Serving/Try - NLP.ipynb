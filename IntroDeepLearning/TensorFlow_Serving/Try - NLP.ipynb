{
 "cells": [
  {
   "cell_type": "code",
   "execution_count": 1,
   "id": "8d8002df",
   "metadata": {},
   "outputs": [],
   "source": [
    "import requests"
   ]
  },
  {
   "cell_type": "code",
   "execution_count": 2,
   "id": "6ddb7790",
   "metadata": {},
   "outputs": [],
   "source": [
    "import glob\n",
    "import numpy as np\n",
    "import pandas as pd\n",
    "import re\n",
    "import time"
   ]
  },
  {
   "cell_type": "markdown",
   "id": "a1c25788",
   "metadata": {},
   "source": [
    "saved_model_cli show --dir classifier/saved_models/1677494413 --tag_set serve --signature_def serving_default"
   ]
  },
  {
   "cell_type": "markdown",
   "id": "f5e1b204",
   "metadata": {},
   "source": [
    "**MODEL_DIR=\"$(pwd)/classifier/saved_models\"**"
   ]
  },
  {
   "cell_type": "markdown",
   "id": "88931281",
   "metadata": {},
   "source": [
    "<!-- **sudo docker run -t --rm -p 8501:8501 -v \"$MODEL_DIR/:/models/example\" -e MODEL_NAME=example tensorflow/serving &** -->"
   ]
  },
  {
   "cell_type": "markdown",
   "id": "0cda16c9",
   "metadata": {},
   "source": [
    "sudo docker run -t --rm -p 8501:8501 -v \"$MODEL_DIR/:/models/nlp\" -e MODEL_NAME=nlp tensorflow/serving &"
   ]
  },
  {
   "cell_type": "code",
   "execution_count": 3,
   "id": "b68afa38",
   "metadata": {},
   "outputs": [],
   "source": [
    "files = glob.glob(\"../../Research/Wiki_Dataset/input_dir/*/*.txt\", recursive=True)\n",
    "\n",
    "files = [file for file in files]"
   ]
  },
  {
   "cell_type": "code",
   "execution_count": 4,
   "id": "d8de13c6",
   "metadata": {},
   "outputs": [],
   "source": [
    "def read_text_data(txt_file:str) -> str:\n",
    "\n",
    "    with open(txt_file, 'r', encoding='utf-8') as f:\n",
    "        txt = f.readlines()\n",
    "        txt = \" \".join(\" \".join(txt).split(\"\\n\"))\n",
    "        txt = re.findall(r\"<body>(.*)</body>\", txt)[0]\n",
    "        \n",
    "    return txt"
   ]
  },
  {
   "cell_type": "code",
   "execution_count": 5,
   "id": "2f0f10cc",
   "metadata": {},
   "outputs": [],
   "source": [
    "# read_text_data(files[1000])"
   ]
  },
  {
   "cell_type": "code",
   "execution_count": 5,
   "id": "022fdb1c",
   "metadata": {},
   "outputs": [],
   "source": [
    "data = dict()"
   ]
  },
  {
   "cell_type": "code",
   "execution_count": 6,
   "id": "04ae5dd6",
   "metadata": {},
   "outputs": [],
   "source": [
    "data['instances'] = [read_text_data(files[1000])]\n",
    "# data"
   ]
  },
  {
   "cell_type": "code",
   "execution_count": 7,
   "id": "7c42f9ae",
   "metadata": {},
   "outputs": [
    {
     "data": {
      "text/plain": [
       "'../../Research/Wiki_Dataset/input_dir/tecnologia/articolo_tecnologia_165.txt'"
      ]
     },
     "execution_count": 7,
     "metadata": {},
     "output_type": "execute_result"
    }
   ],
   "source": [
    "files[1000]"
   ]
  },
  {
   "cell_type": "code",
   "execution_count": 8,
   "id": "320b3889",
   "metadata": {},
   "outputs": [
    {
     "data": {
      "text/plain": [
       "{'instances': [\"L'Università di Tecnologia e di Economia di Budapest (in ungherese Budapesti Műszaki és Gazdaságtudományi Egyetem, sigla BME) è un'università pubblica che si trova a Budapest, capitale dell'Ungheria. Oltre ad essere l'università tecnica più rinomata in Ungheria, è una delle più antiche università di questo tipo al mondo, essendo stata fondata nel 1782.      == Facolta ==  L'ateneo è strutturalmente suddiviso nelle seguenti facoltà:    Facoltà di Ingegneria Civile  Facoltà di Ingegneria Meccanica,  Facoltà di Architettura  Facoltà di Tecnologia Chimica e Biotecnologie  Facoltà di Ingegneria Elettrica e Informatica  Facoltà di Ingegneria dei Trasporti presso la Facoltà di Scienze Naturali  Facoltà di Economia e Scienze SocialiCi sono anche una serie di centri che operano all'interno di diverse facoltà. Il Centro Ricerche biomeccaniche fa parte della Facoltà di Ingegneria Meccanica.      == Altri progetti ==     Wikimedia Commons contiene immagini o altri file sull'Università di Tecnologia e di Economia di Budapest      == Collegamenti esterni ==    (EN, HU) Sito ufficiale, su bme.hu.    Sito ufficiale, su uni-bme.ir.\"]}"
      ]
     },
     "execution_count": 8,
     "metadata": {},
     "output_type": "execute_result"
    }
   ],
   "source": [
    "data"
   ]
  },
  {
   "cell_type": "code",
   "execution_count": 13,
   "id": "a1077c80",
   "metadata": {},
   "outputs": [],
   "source": [
    "url = \"http://localhost:8501/v1/models/example:predict\""
   ]
  },
  {
   "cell_type": "code",
   "execution_count": 14,
   "id": "552c88c4",
   "metadata": {},
   "outputs": [],
   "source": [
    "response = requests.post(url, json=data)"
   ]
  },
  {
   "cell_type": "code",
   "execution_count": 16,
   "id": "cb2039ef",
   "metadata": {},
   "outputs": [
    {
     "data": {
      "text/plain": [
       "{'predictions': [[0.000569094787, 0.00151093455, 0.99792]]}"
      ]
     },
     "execution_count": 16,
     "metadata": {},
     "output_type": "execute_result"
    }
   ],
   "source": [
    "response.json()"
   ]
  },
  {
   "cell_type": "code",
   "execution_count": 17,
   "id": "12c280c8",
   "metadata": {},
   "outputs": [
    {
     "data": {
      "text/plain": [
       "2"
      ]
     },
     "execution_count": 17,
     "metadata": {},
     "output_type": "execute_result"
    }
   ],
   "source": [
    "index = np.argmax(response.json()['predictions'][0])\n",
    "index"
   ]
  },
  {
   "cell_type": "code",
   "execution_count": 18,
   "id": "23292067",
   "metadata": {},
   "outputs": [],
   "source": [
    "class2id = {'sport':0, 'salute':1, 'tecnologia':2}\n",
    "id2class = {v:k for k,v in class2id.items()}"
   ]
  },
  {
   "cell_type": "code",
   "execution_count": 19,
   "id": "676e0bf4",
   "metadata": {},
   "outputs": [
    {
     "data": {
      "text/plain": [
       "'tecnologia'"
      ]
     },
     "execution_count": 19,
     "metadata": {},
     "output_type": "execute_result"
    }
   ],
   "source": [
    "id2class[index]"
   ]
  }
 ],
 "metadata": {
  "kernelspec": {
   "display_name": "Python 3 (ipykernel)",
   "language": "python",
   "name": "python3"
  },
  "language_info": {
   "codemirror_mode": {
    "name": "ipython",
    "version": 3
   },
   "file_extension": ".py",
   "mimetype": "text/x-python",
   "name": "python",
   "nbconvert_exporter": "python",
   "pygments_lexer": "ipython3",
   "version": "3.9.13"
  }
 },
 "nbformat": 4,
 "nbformat_minor": 5
}
