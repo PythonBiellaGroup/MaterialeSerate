{
 "cells": [
  {
   "cell_type": "markdown",
   "id": "f46a8771-f261-488e-a434-8c2dd86c61fe",
   "metadata": {},
   "source": [
    "# INTRO"
   ]
  },
  {
   "cell_type": "code",
   "execution_count": 1,
   "id": "71b306b2-1584-4e87-812e-84f908508d5f",
   "metadata": {},
   "outputs": [],
   "source": [
    "%matplotlib inline"
   ]
  },
  {
   "cell_type": "markdown",
   "id": "d40643de-5b66-4d38-a4a6-de7593abd0b5",
   "metadata": {},
   "source": [
    "## ML PROJECT WORKFLOW\n",
    "With Scikit Learn"
   ]
  },
  {
   "cell_type": "markdown",
   "id": "7954b7bb-5e9e-4d56-8429-e608fec0d61d",
   "metadata": {},
   "source": [
    "![](./img/proj_workflow_sklearn_mapping.png)"
   ]
  },
  {
   "cell_type": "markdown",
   "id": "b9a90535-1db2-4599-a371-35f14c175594",
   "metadata": {},
   "source": [
    "---"
   ]
  },
  {
   "cell_type": "code",
   "execution_count": null,
   "id": "8ba91319-ba06-4e7d-8825-4ca7afff22c7",
   "metadata": {},
   "outputs": [],
   "source": []
  },
  {
   "cell_type": "markdown",
   "id": "849fd942-1ea0-4b59-8119-4048b7e55815",
   "metadata": {},
   "source": [
    "## Riprendiamo\n",
    "\n",
    "1. Carichiamo il dataset IRIS\n",
    "2. Suddividiamo in Train e Test dataset\n",
    "3. Applichiamo il preprocessing necessario alle labels"
   ]
  },
  {
   "cell_type": "code",
   "execution_count": 2,
   "id": "bba63701-a57f-4f0e-a831-8480bc329589",
   "metadata": {},
   "outputs": [],
   "source": [
    "import pandas as pd\n",
    "import numpy as np"
   ]
  },
  {
   "cell_type": "markdown",
   "id": "8525ba3a-fc77-49a6-af3a-aab1e7aa1c2d",
   "metadata": {},
   "source": [
    "#### 1. Carichiamo il dataset IRIS"
   ]
  },
  {
   "cell_type": "code",
   "execution_count": 3,
   "id": "cdf0d9ed-e508-4fe0-9fb7-3d959c6d3af8",
   "metadata": {},
   "outputs": [
    {
     "data": {
      "text/html": [
       "<div>\n",
       "<style scoped>\n",
       "    .dataframe tbody tr th:only-of-type {\n",
       "        vertical-align: middle;\n",
       "    }\n",
       "\n",
       "    .dataframe tbody tr th {\n",
       "        vertical-align: top;\n",
       "    }\n",
       "\n",
       "    .dataframe thead th {\n",
       "        text-align: right;\n",
       "    }\n",
       "</style>\n",
       "<table border=\"1\" class=\"dataframe\">\n",
       "  <thead>\n",
       "    <tr style=\"text-align: right;\">\n",
       "      <th></th>\n",
       "      <th>sepal length (cm)</th>\n",
       "      <th>sepal width (cm)</th>\n",
       "      <th>petal length (cm)</th>\n",
       "      <th>petal width (cm)</th>\n",
       "      <th>target_num</th>\n",
       "      <th>target_class</th>\n",
       "    </tr>\n",
       "  </thead>\n",
       "  <tbody>\n",
       "    <tr>\n",
       "      <th>0</th>\n",
       "      <td>5.1</td>\n",
       "      <td>3.5</td>\n",
       "      <td>1.4</td>\n",
       "      <td>0.2</td>\n",
       "      <td>0</td>\n",
       "      <td>setosa</td>\n",
       "    </tr>\n",
       "    <tr>\n",
       "      <th>1</th>\n",
       "      <td>4.9</td>\n",
       "      <td>3.0</td>\n",
       "      <td>1.4</td>\n",
       "      <td>0.2</td>\n",
       "      <td>0</td>\n",
       "      <td>setosa</td>\n",
       "    </tr>\n",
       "    <tr>\n",
       "      <th>2</th>\n",
       "      <td>4.7</td>\n",
       "      <td>3.2</td>\n",
       "      <td>1.3</td>\n",
       "      <td>0.2</td>\n",
       "      <td>0</td>\n",
       "      <td>setosa</td>\n",
       "    </tr>\n",
       "    <tr>\n",
       "      <th>3</th>\n",
       "      <td>4.6</td>\n",
       "      <td>3.1</td>\n",
       "      <td>1.5</td>\n",
       "      <td>0.2</td>\n",
       "      <td>0</td>\n",
       "      <td>setosa</td>\n",
       "    </tr>\n",
       "    <tr>\n",
       "      <th>4</th>\n",
       "      <td>5.0</td>\n",
       "      <td>3.6</td>\n",
       "      <td>1.4</td>\n",
       "      <td>0.2</td>\n",
       "      <td>0</td>\n",
       "      <td>setosa</td>\n",
       "    </tr>\n",
       "  </tbody>\n",
       "</table>\n",
       "</div>"
      ],
      "text/plain": [
       "   sepal length (cm)  sepal width (cm)  petal length (cm)  petal width (cm)  \\\n",
       "0                5.1               3.5                1.4               0.2   \n",
       "1                4.9               3.0                1.4               0.2   \n",
       "2                4.7               3.2                1.3               0.2   \n",
       "3                4.6               3.1                1.5               0.2   \n",
       "4                5.0               3.6                1.4               0.2   \n",
       "\n",
       "   target_num target_class  \n",
       "0           0       setosa  \n",
       "1           0       setosa  \n",
       "2           0       setosa  \n",
       "3           0       setosa  \n",
       "4           0       setosa  "
      ]
     },
     "execution_count": 3,
     "metadata": {},
     "output_type": "execute_result"
    }
   ],
   "source": [
    "from sklearn import datasets\n",
    "iris = datasets.load_iris() # https://scikit-learn.org/stable/datasets/toy_dataset.html#iris-plants-dataset\n",
    "\n",
    "iris_df = pd.DataFrame(iris.data, columns=iris.feature_names)\n",
    "iris_df[\"target_num\"] = iris.target\n",
    "iris_df[\"target_class\"] = iris_df[\"target_num\"].apply(lambda x: iris.target_names[x])\n",
    "iris_df.head()"
   ]
  },
  {
   "cell_type": "markdown",
   "id": "f12dbef0-83b1-4f45-b2d4-adf270b01581",
   "metadata": {},
   "source": [
    "#### 2. Suddividiamo in Train e Test dataset"
   ]
  },
  {
   "cell_type": "code",
   "execution_count": 4,
   "id": "dd33fe52-4feb-47a5-9658-c968941b3675",
   "metadata": {},
   "outputs": [
    {
     "data": {
      "text/plain": [
       "((105, 4), (45, 4), (105,), (45,))"
      ]
     },
     "execution_count": 4,
     "metadata": {},
     "output_type": "execute_result"
    }
   ],
   "source": [
    "from sklearn.model_selection import train_test_split\n",
    "\n",
    "X = iris_df[iris.feature_names]\n",
    "y = iris_df[\"target_class\"]\n",
    "\n",
    "#### suddivisione in train dataset e test dataset per classificazione multiclasse\n",
    "X_train, X_test, y_train, y_test, = train_test_split(X, y, test_size=0.3, shuffle=True, stratify=y, random_state=42) \n",
    "\n",
    "X_train.shape, X_test.shape, y_train.shape, y_test.shape"
   ]
  },
  {
   "cell_type": "code",
   "execution_count": 5,
   "id": "7ba19489-b3c7-4f2d-acff-861f8e2c385c",
   "metadata": {},
   "outputs": [
    {
     "data": {
      "text/plain": [
       "versicolor    35\n",
       "setosa        35\n",
       "virginica     35\n",
       "Name: target_class, dtype: int64"
      ]
     },
     "execution_count": 5,
     "metadata": {},
     "output_type": "execute_result"
    }
   ],
   "source": [
    "y_train.value_counts()"
   ]
  },
  {
   "cell_type": "code",
   "execution_count": 6,
   "id": "c3c8b1dd-6aba-404f-8619-bb807bcdbb1e",
   "metadata": {},
   "outputs": [
    {
     "data": {
      "text/plain": [
       "virginica     15\n",
       "versicolor    15\n",
       "setosa        15\n",
       "Name: target_class, dtype: int64"
      ]
     },
     "execution_count": 6,
     "metadata": {},
     "output_type": "execute_result"
    }
   ],
   "source": [
    "y_test.value_counts()"
   ]
  },
  {
   "cell_type": "markdown",
   "id": "abdb0d22-5a4a-4391-a599-03d7e34f32bc",
   "metadata": {},
   "source": [
    "#### 3. Applichiamo il preprocessing necessario alle labels"
   ]
  },
  {
   "cell_type": "code",
   "execution_count": 7,
   "id": "239e1157-c193-44e9-9f8d-4a97f9fcb159",
   "metadata": {},
   "outputs": [
    {
     "data": {
      "text/plain": [
       "((105,), (45,))"
      ]
     },
     "execution_count": 7,
     "metadata": {},
     "output_type": "execute_result"
    }
   ],
   "source": [
    "from sklearn.preprocessing import LabelBinarizer, LabelEncoder # transformers for labels (y)\n",
    "\n",
    "le = LabelEncoder()\n",
    "\n",
    "y_train_le = pd.Series(le.fit_transform(y_train), index=y_train.index)\n",
    "y_test_le = pd.Series(le.transform(y_test), index=y_test.index)\n",
    "\n",
    "y_train_le.shape, y_test_le.shape"
   ]
  },
  {
   "cell_type": "code",
   "execution_count": 8,
   "id": "50f31163-602b-4957-b5f5-e45887b36dee",
   "metadata": {},
   "outputs": [
    {
     "data": {
      "text/plain": [
       "98     versicolor\n",
       "68     versicolor\n",
       "19         setosa\n",
       "143     virginica\n",
       "99     versicolor\n",
       "145     virginica\n",
       "9          setosa\n",
       "46         setosa\n",
       "8          setosa\n",
       "102     virginica\n",
       "Name: target_class, dtype: object"
      ]
     },
     "execution_count": 8,
     "metadata": {},
     "output_type": "execute_result"
    }
   ],
   "source": [
    "y_train[:10]"
   ]
  },
  {
   "cell_type": "code",
   "execution_count": 9,
   "id": "0edbb2da-06f4-4055-bdae-a90b4f295267",
   "metadata": {},
   "outputs": [
    {
     "data": {
      "text/plain": [
       "98     1\n",
       "68     1\n",
       "19     0\n",
       "143    2\n",
       "99     1\n",
       "145    2\n",
       "9      0\n",
       "46     0\n",
       "8      0\n",
       "102    2\n",
       "dtype: int32"
      ]
     },
     "execution_count": 9,
     "metadata": {},
     "output_type": "execute_result"
    }
   ],
   "source": [
    "y_train_le[:10]"
   ]
  },
  {
   "cell_type": "code",
   "execution_count": null,
   "id": "e02e09c5-43d0-448c-8413-dc9f43c31ee3",
   "metadata": {},
   "outputs": [],
   "source": []
  },
  {
   "cell_type": "markdown",
   "id": "1b276a59-e550-4745-816d-4500cdb34724",
   "metadata": {
    "tags": []
   },
   "source": [
    "## Pipeline\n",
    "Utilities to build a composite estimator, as a chain of transforms and estimators.\n",
    "\n",
    "Vediamo ora le Pipeline che ci permettono di astrarre i vari step del training.\n",
    "\n",
    "Come accennato le volte precedenti: il training non è solo l'addestramento del modello ma è anche la trasformazione delle features (oppure le definizione di nuove).\n",
    "\n",
    "Le Pipeline ci permettono di applicare *sequenzialmente* una lista di operazioni (*transformers*) seguete da un *estimator*.\n",
    "Quindi:\n",
    "- Gli step iniziali devono implementare i metodi *fit* e *transform*\n",
    "- Lo step finale deve implementare solo il metodo *fit* (ed eventualmente *predict*)\n",
    "\n",
    "I vantaggi sono:\n",
    "- utilizzo di un solo oggetto\n",
    "- è passare un blocco unico di parametri ma che afferiscono a step diversi della pipeline (utile per tuning dei parametri)"
   ]
  },
  {
   "cell_type": "code",
   "execution_count": 10,
   "id": "83a14b7c-e4c1-485d-88d2-59536f28ea69",
   "metadata": {},
   "outputs": [],
   "source": [
    "from sklearn.pipeline import Pipeline\n",
    "from sklearn.preprocessing import StandardScaler\n",
    "from sklearn.svm import SVC\n",
    "from sklearn.multiclass import OneVsRestClassifier\n",
    "\n",
    "\n",
    "# definizione del transformer (scaler)\n",
    "scaler = StandardScaler()\n",
    "\n",
    "# definizione del estimator (classficatore multiclasse)\n",
    "clf = OneVsRestClassifier(estimator=SVC(random_state=42))\n",
    "\n",
    "# creazione della pipeline\n",
    "pipe = Pipeline(steps=[\n",
    "    (\"scaler\", scaler), \n",
    "    (\"ovr_classifier\", clf)\n",
    "])"
   ]
  },
  {
   "cell_type": "code",
   "execution_count": 11,
   "id": "57ec1fee-5620-459c-9d02-efce254ef7e0",
   "metadata": {},
   "outputs": [
    {
     "data": {
      "text/plain": [
       "StandardScaler()"
      ]
     },
     "execution_count": 11,
     "metadata": {},
     "output_type": "execute_result"
    }
   ],
   "source": [
    "pipe[0]"
   ]
  },
  {
   "cell_type": "code",
   "execution_count": 12,
   "id": "5c436091-6204-4db7-86fc-a66d5f13ff8d",
   "metadata": {},
   "outputs": [
    {
     "data": {
      "text/plain": [
       "StandardScaler()"
      ]
     },
     "execution_count": 12,
     "metadata": {},
     "output_type": "execute_result"
    }
   ],
   "source": [
    "pipe[\"scaler\"]"
   ]
  },
  {
   "cell_type": "code",
   "execution_count": null,
   "id": "301f43be-8021-41bb-84d9-1e437d429f24",
   "metadata": {},
   "outputs": [],
   "source": []
  },
  {
   "cell_type": "code",
   "execution_count": null,
   "id": "16b16143-3946-4a3d-988c-cb2c396a144a",
   "metadata": {},
   "outputs": [],
   "source": []
  },
  {
   "cell_type": "markdown",
   "id": "4153df78-1493-41e3-8d87-0782e4b9fae1",
   "metadata": {},
   "source": [
    "*fit* della pipeline"
   ]
  },
  {
   "cell_type": "code",
   "execution_count": 13,
   "id": "7d43e900-23b9-4bc5-a77f-844924577f66",
   "metadata": {},
   "outputs": [
    {
     "name": "stdout",
     "output_type": "stream",
     "text": [
      "Wall time: 21.5 ms\n"
     ]
    },
    {
     "data": {
      "text/plain": [
       "Pipeline(steps=[('scaler', StandardScaler()),\n",
       "                ('ovr_classifier',\n",
       "                 OneVsRestClassifier(estimator=SVC(random_state=42)))])"
      ]
     },
     "execution_count": 13,
     "metadata": {},
     "output_type": "execute_result"
    }
   ],
   "source": [
    "%%time\n",
    "pipe.fit(X_train, y_train_le)"
   ]
  },
  {
   "cell_type": "markdown",
   "id": "b49402e6-9354-47d7-bc81-2be94d01c091",
   "metadata": {},
   "source": [
    "*predict*"
   ]
  },
  {
   "cell_type": "code",
   "execution_count": 14,
   "id": "56981bd5-5dc1-43b6-938b-534530c96f18",
   "metadata": {},
   "outputs": [
    {
     "data": {
      "text/plain": [
       "array([2, 1, 1, 1, 2, 2, 1, 1, 0, 2])"
      ]
     },
     "execution_count": 14,
     "metadata": {},
     "output_type": "execute_result"
    }
   ],
   "source": [
    "y_pred_pipe = pipe.predict(X_test)\n",
    "y_pred_pipe[:10]"
   ]
  },
  {
   "cell_type": "code",
   "execution_count": 15,
   "id": "c9e0d7ca-f993-496c-a002-9cf6c9a00c4e",
   "metadata": {},
   "outputs": [
    {
     "data": {
      "text/plain": [
       "array([2, 1, 2, 1, 2, 2, 1, 1, 0, 2])"
      ]
     },
     "execution_count": 15,
     "metadata": {},
     "output_type": "execute_result"
    }
   ],
   "source": [
    "y_test_le[:10].values"
   ]
  },
  {
   "cell_type": "code",
   "execution_count": null,
   "id": "6f938f8a-0a92-4f1a-ab93-8513939bf2dd",
   "metadata": {},
   "outputs": [],
   "source": []
  },
  {
   "cell_type": "markdown",
   "id": "17fec671-c780-4f05-9941-1e78bd892c61",
   "metadata": {},
   "source": [
    "#### Pipeline parameters\n",
    "I parametri dei singoli transformers / estimators all'interno di una pipeline si possono leggere / modificare con la sintassi `<estimator>__<parameter>`.\n",
    "\n",
    "Alcuni passaggi possono anche essere esclusi usando la parola chiave `'passthrough'`.\n",
    "\n",
    "Questo è molto utile in fase di HyperParameter Tuning, ovvero: una volta selezionato i migliori modelli li si ottimizza cercando di migliorare ulteriormente le loro performance.  "
   ]
  },
  {
   "cell_type": "code",
   "execution_count": 16,
   "id": "2b52ce2f-7a41-4a50-b289-3a089d2ceab9",
   "metadata": {},
   "outputs": [
    {
     "data": {
      "text/plain": [
       "{'memory': None,\n",
       " 'steps': [('scaler', StandardScaler()),\n",
       "  ('ovr_classifier', OneVsRestClassifier(estimator=SVC(random_state=42)))],\n",
       " 'verbose': False,\n",
       " 'scaler': StandardScaler(),\n",
       " 'ovr_classifier': OneVsRestClassifier(estimator=SVC(random_state=42)),\n",
       " 'scaler__copy': True,\n",
       " 'scaler__with_mean': True,\n",
       " 'scaler__with_std': True,\n",
       " 'ovr_classifier__estimator__C': 1.0,\n",
       " 'ovr_classifier__estimator__break_ties': False,\n",
       " 'ovr_classifier__estimator__cache_size': 200,\n",
       " 'ovr_classifier__estimator__class_weight': None,\n",
       " 'ovr_classifier__estimator__coef0': 0.0,\n",
       " 'ovr_classifier__estimator__decision_function_shape': 'ovr',\n",
       " 'ovr_classifier__estimator__degree': 3,\n",
       " 'ovr_classifier__estimator__gamma': 'scale',\n",
       " 'ovr_classifier__estimator__kernel': 'rbf',\n",
       " 'ovr_classifier__estimator__max_iter': -1,\n",
       " 'ovr_classifier__estimator__probability': False,\n",
       " 'ovr_classifier__estimator__random_state': 42,\n",
       " 'ovr_classifier__estimator__shrinking': True,\n",
       " 'ovr_classifier__estimator__tol': 0.001,\n",
       " 'ovr_classifier__estimator__verbose': False,\n",
       " 'ovr_classifier__estimator': SVC(random_state=42),\n",
       " 'ovr_classifier__n_jobs': None}"
      ]
     },
     "execution_count": 16,
     "metadata": {},
     "output_type": "execute_result"
    }
   ],
   "source": [
    "pipe.get_params()"
   ]
  },
  {
   "cell_type": "code",
   "execution_count": 17,
   "id": "f6205bf2-0398-45cf-8ac5-5ed241dc2227",
   "metadata": {},
   "outputs": [
    {
     "data": {
      "text/plain": [
       "Pipeline(steps=[('scaler', StandardScaler()),\n",
       "                ('ovr_classifier',\n",
       "                 OneVsRestClassifier(estimator=SVC(kernel='linear',\n",
       "                                                   random_state=42)))])"
      ]
     },
     "execution_count": 17,
     "metadata": {},
     "output_type": "execute_result"
    }
   ],
   "source": [
    "pipe.set_params(ovr_classifier__estimator__kernel='linear')"
   ]
  },
  {
   "cell_type": "code",
   "execution_count": 18,
   "id": "9881c789-5f93-4efe-bf9d-6c6df49f7d2d",
   "metadata": {},
   "outputs": [
    {
     "data": {
      "text/plain": [
       "Pipeline(steps=[('scaler', 'passthrough'),\n",
       "                ('ovr_classifier',\n",
       "                 OneVsRestClassifier(estimator=SVC(kernel='linear',\n",
       "                                                   random_state=42)))])"
      ]
     },
     "execution_count": 18,
     "metadata": {},
     "output_type": "execute_result"
    }
   ],
   "source": [
    "pipe.set_params(scaler='passthrough')"
   ]
  },
  {
   "cell_type": "markdown",
   "id": "bc97885f-10af-4b57-8221-ed68b9100194",
   "metadata": {},
   "source": [
    "*fit* della pipeline"
   ]
  },
  {
   "cell_type": "code",
   "execution_count": 19,
   "id": "58574329-9d93-41e2-ae3b-c0b66f088592",
   "metadata": {},
   "outputs": [
    {
     "name": "stdout",
     "output_type": "stream",
     "text": [
      "Wall time: 28.1 ms\n"
     ]
    },
    {
     "data": {
      "text/plain": [
       "Pipeline(steps=[('scaler', 'passthrough'),\n",
       "                ('ovr_classifier',\n",
       "                 OneVsRestClassifier(estimator=SVC(kernel='linear',\n",
       "                                                   random_state=42)))])"
      ]
     },
     "execution_count": 19,
     "metadata": {},
     "output_type": "execute_result"
    }
   ],
   "source": [
    "%%time\n",
    "pipe.fit(X_train, y_train_le)"
   ]
  },
  {
   "cell_type": "markdown",
   "id": "81bd295a-9fa1-4104-bb74-86ba7180e41f",
   "metadata": {},
   "source": [
    "*predict*"
   ]
  },
  {
   "cell_type": "code",
   "execution_count": 20,
   "id": "9281eb24-f1a8-42ca-aa5c-5a488753bb4b",
   "metadata": {},
   "outputs": [
    {
     "data": {
      "text/plain": [
       "array([2, 1, 1, 2, 2, 2, 1, 1, 0, 2])"
      ]
     },
     "execution_count": 20,
     "metadata": {},
     "output_type": "execute_result"
    }
   ],
   "source": [
    "y_pred_pipe_2 = pipe.predict(X_test)\n",
    "y_pred_pipe_2[:10]"
   ]
  },
  {
   "cell_type": "code",
   "execution_count": 21,
   "id": "7b272a9a-760a-4413-962b-5e2f7049fcee",
   "metadata": {},
   "outputs": [
    {
     "data": {
      "text/plain": [
       "array([2, 1, 2, 1, 2, 2, 1, 1, 0, 2])"
      ]
     },
     "execution_count": 21,
     "metadata": {},
     "output_type": "execute_result"
    }
   ],
   "source": [
    "y_test_le[:10].values"
   ]
  },
  {
   "cell_type": "code",
   "execution_count": null,
   "id": "38ba74de-3df0-45f5-8480-e13140510271",
   "metadata": {},
   "outputs": [],
   "source": []
  },
  {
   "attachments": {
    "2d89f1b8-88b6-475a-b75d-cdac2045d7f3.png": {
     "image/png": "[encoded data removed]"
    },
    "5fce116a-e1f0-4fa8-84c0-6794e75791bb.png": {
     "image/png": "[encoded data removed]"
    },
    "ac73e63f-4241-4962-9558-4071d91b7d24.png": {
     "image/png": "[encoded data removed]"
    },
    "d2773c4f-76a3-4c83-bb1b-2cc0b5aa355b.png": {
     "image/png": "[encoded data removed]"
    }
   },
   "cell_type": "markdown",
   "id": "ee2fd219-8f52-4cc1-8ceb-ad9196e3f477",
   "metadata": {},
   "source": [
    "## Metrics\n",
    "Metrics and scoring to quantify the quality of predictions.\n",
    "It includes score functions, performance metrics and pairwise metrics and distance computations.\n",
    "\n",
    "\n",
    "### Confusion Matrix\n",
    "![image.png](attachment:5fce116a-e1f0-4fa8-84c0-6794e75791bb.png)\n",
    "\n",
    "### Accuracy\n",
    "![image.png](attachment:d2773c4f-76a3-4c83-bb1b-2cc0b5aa355b.png)\n",
    "\n",
    "### Precision\n",
    "![image.png](attachment:ac73e63f-4241-4962-9558-4071d91b7d24.png)\n",
    "\n",
    "### Recall\n",
    "![image.png](attachment:2d89f1b8-88b6-475a-b75d-cdac2045d7f3.png)"
   ]
  },
  {
   "cell_type": "code",
   "execution_count": 22,
   "id": "f519c9c0-4949-4829-928b-68d415647c58",
   "metadata": {},
   "outputs": [],
   "source": [
    "from sklearn.metrics import classification_report, confusion_matrix, ConfusionMatrixDisplay, accuracy_score, precision_score, recall_score"
   ]
  },
  {
   "cell_type": "markdown",
   "id": "c2cabd97-5d8c-4730-b279-90c2892a5f5b",
   "metadata": {},
   "source": [
    "##### metriche per prima pipeline"
   ]
  },
  {
   "cell_type": "code",
   "execution_count": 23,
   "id": "ee01947e-5d79-4034-b82a-d224e743098b",
   "metadata": {},
   "outputs": [
    {
     "data": {
      "text/plain": [
       "array([[15,  0,  0],\n",
       "       [ 0, 14,  1],\n",
       "       [ 0,  3, 12]], dtype=int64)"
      ]
     },
     "execution_count": 23,
     "metadata": {},
     "output_type": "execute_result"
    }
   ],
   "source": [
    "cm = confusion_matrix(y_test_le.values, y_pred_pipe)\n",
    "cm"
   ]
  },
  {
   "cell_type": "code",
   "execution_count": 24,
   "id": "baa51570-86db-430f-9c68-99ec93ae7e21",
   "metadata": {},
   "outputs": [
    {
     "data": {
      "text/plain": [
       "<sklearn.metrics._plot.confusion_matrix.ConfusionMatrixDisplay at 0x1a25391d970>"
      ]
     },
     "execution_count": 24,
     "metadata": {},
     "output_type": "execute_result"
    },
    {
     "data": {
      "image/png": "[encoded data removed]",
      "text/plain": [
       "<Figure size 432x288 with 2 Axes>"
      ]
     },
     "metadata": {
      "needs_background": "light"
     },
     "output_type": "display_data"
    }
   ],
   "source": [
    "ConfusionMatrixDisplay(cm, display_labels=le.classes_).plot()"
   ]
  },
  {
   "cell_type": "code",
   "execution_count": 25,
   "id": "fcc43aed-71c0-4e33-bb39-e35f7c7fed3f",
   "metadata": {},
   "outputs": [
    {
     "name": "stdout",
     "output_type": "stream",
     "text": [
      "              precision    recall  f1-score   support\n",
      "\n",
      "           0       1.00      1.00      1.00        15\n",
      "           1       0.82      0.93      0.87        15\n",
      "           2       0.92      0.80      0.86        15\n",
      "\n",
      "    accuracy                           0.91        45\n",
      "   macro avg       0.92      0.91      0.91        45\n",
      "weighted avg       0.92      0.91      0.91        45\n",
      "\n"
     ]
    }
   ],
   "source": [
    "print(classification_report(y_test_le.values, y_pred_pipe))"
   ]
  },
  {
   "cell_type": "code",
   "execution_count": 26,
   "id": "e427001b-aa16-4fb7-8376-d0c1ffb8c30c",
   "metadata": {},
   "outputs": [
    {
     "data": {
      "text/plain": [
       "0.9111111111111111"
      ]
     },
     "execution_count": 26,
     "metadata": {},
     "output_type": "execute_result"
    }
   ],
   "source": [
    "accuracy_score(y_test_le.values, y_pred_pipe)"
   ]
  },
  {
   "cell_type": "code",
   "execution_count": 27,
   "id": "6e4d7549-b4e5-4f5e-a973-660a7b4dce11",
   "metadata": {},
   "outputs": [
    {
     "data": {
      "text/plain": [
       "0.9155354449472096"
      ]
     },
     "execution_count": 27,
     "metadata": {},
     "output_type": "execute_result"
    }
   ],
   "source": [
    "precision_score(y_test_le.values, y_pred_pipe, average=\"weighted\")"
   ]
  },
  {
   "cell_type": "code",
   "execution_count": 28,
   "id": "658e4144-6e10-4156-b1d4-d0abbafee05c",
   "metadata": {},
   "outputs": [
    {
     "data": {
      "text/plain": [
       "0.9111111111111111"
      ]
     },
     "execution_count": 28,
     "metadata": {},
     "output_type": "execute_result"
    }
   ],
   "source": [
    "recall_score(y_test_le.values, y_pred_pipe, average=\"weighted\")"
   ]
  },
  {
   "cell_type": "code",
   "execution_count": null,
   "id": "a05f0ec6-0ad6-47c9-8f6a-5815e5d4db8f",
   "metadata": {},
   "outputs": [],
   "source": []
  },
  {
   "cell_type": "markdown",
   "id": "6682a49f-730c-49bc-a75c-1465203afe32",
   "metadata": {},
   "source": [
    "##### metriche per seconda pipeline"
   ]
  },
  {
   "cell_type": "code",
   "execution_count": 29,
   "id": "5d4dc447-54ef-4c7f-be4a-bab670ca676a",
   "metadata": {},
   "outputs": [
    {
     "data": {
      "text/plain": [
       "array([[15,  0,  0],\n",
       "       [ 0, 12,  3],\n",
       "       [ 0,  3, 12]], dtype=int64)"
      ]
     },
     "execution_count": 29,
     "metadata": {},
     "output_type": "execute_result"
    }
   ],
   "source": [
    "cm = confusion_matrix(y_test_le.values, y_pred_pipe_2)\n",
    "cm"
   ]
  },
  {
   "cell_type": "code",
   "execution_count": 30,
   "id": "83e0690c-180a-40bc-82a8-2a626c20dd3f",
   "metadata": {},
   "outputs": [
    {
     "data": {
      "text/plain": [
       "<sklearn.metrics._plot.confusion_matrix.ConfusionMatrixDisplay at 0x1a254144b20>"
      ]
     },
     "execution_count": 30,
     "metadata": {},
     "output_type": "execute_result"
    },
    {
     "data": {
      "image/png": "[encoded data removed]",
      "text/plain": [
       "<Figure size 432x288 with 2 Axes>"
      ]
     },
     "metadata": {
      "needs_background": "light"
     },
     "output_type": "display_data"
    }
   ],
   "source": [
    "ConfusionMatrixDisplay(cm, display_labels=le.classes_).plot()"
   ]
  },
  {
   "cell_type": "code",
   "execution_count": 31,
   "id": "c17b1799-19ee-438c-955d-fa122b773f2e",
   "metadata": {},
   "outputs": [
    {
     "name": "stdout",
     "output_type": "stream",
     "text": [
      "              precision    recall  f1-score   support\n",
      "\n",
      "           0       1.00      1.00      1.00        15\n",
      "           1       0.80      0.80      0.80        15\n",
      "           2       0.80      0.80      0.80        15\n",
      "\n",
      "    accuracy                           0.87        45\n",
      "   macro avg       0.87      0.87      0.87        45\n",
      "weighted avg       0.87      0.87      0.87        45\n",
      "\n"
     ]
    }
   ],
   "source": [
    "print(classification_report(y_test_le.values, y_pred_pipe_2))"
   ]
  },
  {
   "cell_type": "code",
   "execution_count": 32,
   "id": "5ba9253f-4987-40a6-b26a-21a7139e9699",
   "metadata": {},
   "outputs": [
    {
     "data": {
      "text/plain": [
       "0.8666666666666667"
      ]
     },
     "execution_count": 32,
     "metadata": {},
     "output_type": "execute_result"
    }
   ],
   "source": [
    "accuracy_score(y_test_le.values, y_pred_pipe_2)"
   ]
  },
  {
   "cell_type": "code",
   "execution_count": 33,
   "id": "c532cf49-5ff1-4089-863e-8f6c234e7a25",
   "metadata": {},
   "outputs": [
    {
     "data": {
      "text/plain": [
       "0.8666666666666667"
      ]
     },
     "execution_count": 33,
     "metadata": {},
     "output_type": "execute_result"
    }
   ],
   "source": [
    "precision_score(y_test_le.values, y_pred_pipe_2, average=\"weighted\")"
   ]
  },
  {
   "cell_type": "code",
   "execution_count": 34,
   "id": "c8dc3bf8-53ba-4068-81c7-bf5f6fd86eba",
   "metadata": {},
   "outputs": [
    {
     "data": {
      "text/plain": [
       "0.8666666666666667"
      ]
     },
     "execution_count": 34,
     "metadata": {},
     "output_type": "execute_result"
    }
   ],
   "source": [
    "recall_score(y_test_le.values, y_pred_pipe_2, average=\"weighted\")"
   ]
  },
  {
   "cell_type": "code",
   "execution_count": null,
   "id": "d6286775-90ca-4209-8c8b-f07fe5afe3ef",
   "metadata": {},
   "outputs": [],
   "source": []
  }
 ],
 "metadata": {
  "kernelspec": {
   "display_name": "Python [conda env:py39_pbg]",
   "language": "python",
   "name": "conda-env-py39_pbg-py"
  },
  "language_info": {
   "codemirror_mode": {
    "name": "ipython",
    "version": 3
   },
   "file_extension": ".py",
   "mimetype": "text/x-python",
   "name": "python",
   "nbconvert_exporter": "python",
   "pygments_lexer": "ipython3",
   "version": "3.9.7"
  }
 },
 "nbformat": 4,
 "nbformat_minor": 5
}
