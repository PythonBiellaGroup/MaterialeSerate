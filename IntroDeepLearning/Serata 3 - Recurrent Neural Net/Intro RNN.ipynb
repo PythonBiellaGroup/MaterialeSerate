{
 "cells": [
  {
   "cell_type": "markdown",
   "id": "83a0a55d",
   "metadata": {},
   "source": [
    "# Recurrent Neural Net"
   ]
  },
  {
   "cell_type": "markdown",
   "id": "0760f2e7",
   "metadata": {},
   "source": [
    "### Quando alle reti neurali si aggiunge la memoria..."
   ]
  },
  {
   "cell_type": "markdown",
   "id": "90bb72cb",
   "metadata": {},
   "source": [
    "Nelle reti mostrate nelle serate precedenti ogni input è elaborato in modo indipendente dall'altro.\n",
    "Questa mancanza di correlazione è addirittura un obbligo se si parla di regressione (multicollinearità)."
   ]
  },
  {
   "cell_type": "markdown",
   "id": "7f69c71c",
   "metadata": {},
   "source": [
    "Purtroppo accede nella realtà che i dati rappresentativi di un fenomeno siano correlati tra loro e quindi... perchè perdere questa informazione?"
   ]
  },
  {
   "cell_type": "markdown",
   "id": "0140c783",
   "metadata": {},
   "source": [
    "Un esempio pratico è il linguaggio naturale: per comprendere il significato di una frase dobbiamo leggere parola per parola, in sequenza, collegando il loro significato attraverso la loro memorizzazione."
   ]
  },
  {
   "cell_type": "markdown",
   "id": "96efdce6",
   "metadata": {},
   "source": [
    "Un esempio, di più facile comprensione, riguarda invece le serie temporali. In questi casi è ancora più immediata la comprensione della stretta correlazione che esiste tra i dati."
   ]
  },
  {
   "cell_type": "markdown",
   "id": "2301320b",
   "metadata": {},
   "source": [
    "## Un esempio pratico"
   ]
  },
  {
   "cell_type": "code",
   "execution_count": 1,
   "id": "3d7543d9",
   "metadata": {},
   "outputs": [],
   "source": [
    "from IPython.display import Image"
   ]
  },
  {
   "cell_type": "code",
   "execution_count": 3,
   "id": "aaf7cea0",
   "metadata": {},
   "outputs": [
    {
     "data": {
      "application/javascript": [
       "\n",
       "            setTimeout(function() {\n",
       "                var nbb_cell_id = 3;\n",
       "                var nbb_unformatted_code = \"%load_ext nb_black\";\n",
       "                var nbb_formatted_code = \"%load_ext nb_black\";\n",
       "                var nbb_cells = Jupyter.notebook.get_cells();\n",
       "                for (var i = 0; i < nbb_cells.length; ++i) {\n",
       "                    if (nbb_cells[i].input_prompt_number == nbb_cell_id) {\n",
       "                        if (nbb_cells[i].get_text() == nbb_unformatted_code) {\n",
       "                             nbb_cells[i].set_text(nbb_formatted_code);\n",
       "                        }\n",
       "                        break;\n",
       "                    }\n",
       "                }\n",
       "            }, 500);\n",
       "            "
      ],
      "text/plain": [
       "<IPython.core.display.Javascript object>"
      ]
     },
     "metadata": {},
     "output_type": "display_data"
    }
   ],
   "source": [
    "%load_ext nb_black"
   ]
  },
  {
   "cell_type": "code",
   "execution_count": 3,
   "id": "59affafc",
   "metadata": {},
   "outputs": [
    {
     "data": {
      "application/javascript": [
       "\n",
       "            setTimeout(function() {\n",
       "                var nbb_cell_id = 3;\n",
       "                var nbb_unformatted_code = \"import numpy as np\\nimport pandas as pd\\nimport matplotlib.pyplot as plt\\n\\n%matplotlib inline\";\n",
       "                var nbb_formatted_code = \"import numpy as np\\nimport pandas as pd\\nimport matplotlib.pyplot as plt\\n\\n%matplotlib inline\";\n",
       "                var nbb_cells = Jupyter.notebook.get_cells();\n",
       "                for (var i = 0; i < nbb_cells.length; ++i) {\n",
       "                    if (nbb_cells[i].input_prompt_number == nbb_cell_id) {\n",
       "                        if (nbb_cells[i].get_text() == nbb_unformatted_code) {\n",
       "                             nbb_cells[i].set_text(nbb_formatted_code);\n",
       "                        }\n",
       "                        break;\n",
       "                    }\n",
       "                }\n",
       "            }, 500);\n",
       "            "
      ],
      "text/plain": [
       "<IPython.core.display.Javascript object>"
      ]
     },
     "metadata": {},
     "output_type": "display_data"
    }
   ],
   "source": [
    "import numpy as np\n",
    "import pandas as pd\n",
    "import matplotlib.pyplot as plt\n",
    "\n",
    "%matplotlib inline"
   ]
  },
  {
   "cell_type": "code",
   "execution_count": 4,
   "id": "5b933a9b",
   "metadata": {},
   "outputs": [
    {
     "data": {
      "application/javascript": [
       "\n",
       "            setTimeout(function() {\n",
       "                var nbb_cell_id = 4;\n",
       "                var nbb_unformatted_code = \"from sklearn.preprocessing import StandardScaler\";\n",
       "                var nbb_formatted_code = \"from sklearn.preprocessing import StandardScaler\";\n",
       "                var nbb_cells = Jupyter.notebook.get_cells();\n",
       "                for (var i = 0; i < nbb_cells.length; ++i) {\n",
       "                    if (nbb_cells[i].input_prompt_number == nbb_cell_id) {\n",
       "                        if (nbb_cells[i].get_text() == nbb_unformatted_code) {\n",
       "                             nbb_cells[i].set_text(nbb_formatted_code);\n",
       "                        }\n",
       "                        break;\n",
       "                    }\n",
       "                }\n",
       "            }, 500);\n",
       "            "
      ],
      "text/plain": [
       "<IPython.core.display.Javascript object>"
      ]
     },
     "metadata": {},
     "output_type": "display_data"
    }
   ],
   "source": [
    "from sklearn.preprocessing import StandardScaler"
   ]
  },
  {
   "cell_type": "code",
   "execution_count": 5,
   "id": "cdfc4bff",
   "metadata": {},
   "outputs": [
    {
     "data": {
      "application/javascript": [
       "\n",
       "            setTimeout(function() {\n",
       "                var nbb_cell_id = 5;\n",
       "                var nbb_unformatted_code = \"scaler = StandardScaler()\";\n",
       "                var nbb_formatted_code = \"scaler = StandardScaler()\";\n",
       "                var nbb_cells = Jupyter.notebook.get_cells();\n",
       "                for (var i = 0; i < nbb_cells.length; ++i) {\n",
       "                    if (nbb_cells[i].input_prompt_number == nbb_cell_id) {\n",
       "                        if (nbb_cells[i].get_text() == nbb_unformatted_code) {\n",
       "                             nbb_cells[i].set_text(nbb_formatted_code);\n",
       "                        }\n",
       "                        break;\n",
       "                    }\n",
       "                }\n",
       "            }, 500);\n",
       "            "
      ],
      "text/plain": [
       "<IPython.core.display.Javascript object>"
      ]
     },
     "metadata": {},
     "output_type": "display_data"
    }
   ],
   "source": [
    "scaler = StandardScaler()"
   ]
  },
  {
   "cell_type": "markdown",
   "id": "4ea25a27",
   "metadata": {},
   "source": [
    "### Generazione fake data"
   ]
  },
  {
   "cell_type": "code",
   "execution_count": 6,
   "id": "553a2c45",
   "metadata": {},
   "outputs": [
    {
     "data": {
      "text/plain": [
       "array([ 1.,  2.,  3.,  4.,  5.,  6.,  7.,  8.,  9., 10., 11., 12., 13.,\n",
       "       14., 15., 16., 17., 18., 19., 20., 21., 22., 23., 24., 25., 26.,\n",
       "       27., 28., 29., 30., 31., 32., 33., 34., 35., 36., 37., 38., 39.,\n",
       "       40., 41., 42., 43., 44., 45., 46., 47., 48.])"
      ]
     },
     "execution_count": 6,
     "metadata": {},
     "output_type": "execute_result"
    },
    {
     "data": {
      "application/javascript": [
       "\n",
       "            setTimeout(function() {\n",
       "                var nbb_cell_id = 6;\n",
       "                var nbb_unformatted_code = \"x_data = np.linspace(start=1, num=48, stop=48)\\nx_data\";\n",
       "                var nbb_formatted_code = \"x_data = np.linspace(start=1, num=48, stop=48)\\nx_data\";\n",
       "                var nbb_cells = Jupyter.notebook.get_cells();\n",
       "                for (var i = 0; i < nbb_cells.length; ++i) {\n",
       "                    if (nbb_cells[i].input_prompt_number == nbb_cell_id) {\n",
       "                        if (nbb_cells[i].get_text() == nbb_unformatted_code) {\n",
       "                             nbb_cells[i].set_text(nbb_formatted_code);\n",
       "                        }\n",
       "                        break;\n",
       "                    }\n",
       "                }\n",
       "            }, 500);\n",
       "            "
      ],
      "text/plain": [
       "<IPython.core.display.Javascript object>"
      ]
     },
     "metadata": {},
     "output_type": "display_data"
    }
   ],
   "source": [
    "x_data = np.linspace(start=1, num=48, stop=48)\n",
    "x_data"
   ]
  },
  {
   "cell_type": "code",
   "execution_count": 7,
   "id": "a8668bec",
   "metadata": {},
   "outputs": [
    {
     "data": {
      "text/plain": [
       "array([0.1, 0.2, 0.3, 0.4, 0.5, 0.6, 0.7, 0.8, 0.9, 1. , 1.1, 1.2, 1.3,\n",
       "       1.4, 1.5, 1.6, 1.7, 1.8, 1.9, 2. , 2.1, 2.2, 2.3, 2.4, 2.5, 2.6,\n",
       "       2.7, 2.8, 2.9, 3. , 3.1, 3.2, 3.3, 3.4, 3.5, 3.6, 3.7, 3.8, 3.9,\n",
       "       4. , 4.1, 4.2, 4.3, 4.4, 4.5, 4.6, 4.7, 4.8])"
      ]
     },
     "execution_count": 7,
     "metadata": {},
     "output_type": "execute_result"
    },
    {
     "data": {
      "application/javascript": [
       "\n",
       "            setTimeout(function() {\n",
       "                var nbb_cell_id = 7;\n",
       "                var nbb_unformatted_code = \"trend = np.linspace(start=0.1, num=48, stop=4.8)\\ntrend\";\n",
       "                var nbb_formatted_code = \"trend = np.linspace(start=0.1, num=48, stop=4.8)\\ntrend\";\n",
       "                var nbb_cells = Jupyter.notebook.get_cells();\n",
       "                for (var i = 0; i < nbb_cells.length; ++i) {\n",
       "                    if (nbb_cells[i].input_prompt_number == nbb_cell_id) {\n",
       "                        if (nbb_cells[i].get_text() == nbb_unformatted_code) {\n",
       "                             nbb_cells[i].set_text(nbb_formatted_code);\n",
       "                        }\n",
       "                        break;\n",
       "                    }\n",
       "                }\n",
       "            }, 500);\n",
       "            "
      ],
      "text/plain": [
       "<IPython.core.display.Javascript object>"
      ]
     },
     "metadata": {},
     "output_type": "display_data"
    }
   ],
   "source": [
    "trend = np.linspace(start=0.1, num=48, stop=4.8)\n",
    "trend"
   ]
  },
  {
   "cell_type": "code",
   "execution_count": 8,
   "id": "5c605145",
   "metadata": {},
   "outputs": [
    {
     "data": {
      "text/plain": [
       "array([ 0.94147098,  1.10929743,  0.44112001, -0.3568025 , -0.45892427,\n",
       "        0.3205845 ,  1.3569866 ,  1.78935825,  1.31211849,  0.45597889,\n",
       "        0.10000979,  0.66342708,  1.72016704,  2.39060736,  2.15028784,\n",
       "        1.31209668,  0.73860251,  1.04901275,  2.04987721,  2.91294525,\n",
       "        2.93665564,  2.19114869,  1.4537796 ,  1.49442164,  2.36764825,\n",
       "        3.36255845,  3.65637593,  3.07090579,  2.23636612,  2.01196838,\n",
       "        2.69596235,  3.75142668,  4.29991186,  3.92908269,  3.07181733,\n",
       "        2.60822115,  3.05646187,  4.09636858,  4.86379539,  4.74511316,\n",
       "        3.94137733,  3.28347845,  3.46822526,  4.41770193,  5.35090352,\n",
       "        5.50178835,  4.82357312,  4.03174534])"
      ]
     },
     "execution_count": 8,
     "metadata": {},
     "output_type": "execute_result"
    },
    {
     "data": {
      "application/javascript": [
       "\n",
       "            setTimeout(function() {\n",
       "                var nbb_cell_id = 8;\n",
       "                var nbb_unformatted_code = \"y_data = np.sin(x_data) + trend\\ny_data\";\n",
       "                var nbb_formatted_code = \"y_data = np.sin(x_data) + trend\\ny_data\";\n",
       "                var nbb_cells = Jupyter.notebook.get_cells();\n",
       "                for (var i = 0; i < nbb_cells.length; ++i) {\n",
       "                    if (nbb_cells[i].input_prompt_number == nbb_cell_id) {\n",
       "                        if (nbb_cells[i].get_text() == nbb_unformatted_code) {\n",
       "                             nbb_cells[i].set_text(nbb_formatted_code);\n",
       "                        }\n",
       "                        break;\n",
       "                    }\n",
       "                }\n",
       "            }, 500);\n",
       "            "
      ],
      "text/plain": [
       "<IPython.core.display.Javascript object>"
      ]
     },
     "metadata": {},
     "output_type": "display_data"
    }
   ],
   "source": [
    "y_data = np.sin(x_data) + trend\n",
    "y_data"
   ]
  },
  {
   "cell_type": "code",
   "execution_count": 9,
   "id": "d25762a4",
   "metadata": {},
   "outputs": [
    {
     "data": {
      "text/plain": [
       "[<matplotlib.lines.Line2D at 0x7faae9025e50>]"
      ]
     },
     "execution_count": 9,
     "metadata": {},
     "output_type": "execute_result"
    },
    {
     "data": {
      "image/png": "[encoded data removed]",
      "text/plain": [
       "<Figure size 432x288 with 1 Axes>"
      ]
     },
     "metadata": {
      "needs_background": "light"
     },
     "output_type": "display_data"
    },
    {
     "data": {
      "application/javascript": [
       "\n",
       "            setTimeout(function() {\n",
       "                var nbb_cell_id = 9;\n",
       "                var nbb_unformatted_code = \"plt.plot(x_data, y_data)\";\n",
       "                var nbb_formatted_code = \"plt.plot(x_data, y_data)\";\n",
       "                var nbb_cells = Jupyter.notebook.get_cells();\n",
       "                for (var i = 0; i < nbb_cells.length; ++i) {\n",
       "                    if (nbb_cells[i].input_prompt_number == nbb_cell_id) {\n",
       "                        if (nbb_cells[i].get_text() == nbb_unformatted_code) {\n",
       "                             nbb_cells[i].set_text(nbb_formatted_code);\n",
       "                        }\n",
       "                        break;\n",
       "                    }\n",
       "                }\n",
       "            }, 500);\n",
       "            "
      ],
      "text/plain": [
       "<IPython.core.display.Javascript object>"
      ]
     },
     "metadata": {},
     "output_type": "display_data"
    }
   ],
   "source": [
    "plt.plot(x_data, y_data)"
   ]
  },
  {
   "cell_type": "code",
   "execution_count": 10,
   "id": "8d9ddfe8",
   "metadata": {},
   "outputs": [
    {
     "data": {
      "application/javascript": [
       "\n",
       "            setTimeout(function() {\n",
       "                var nbb_cell_id = 10;\n",
       "                var nbb_unformatted_code = \"y_data = scaler.fit_transform(y_data.reshape(-1, 1))\";\n",
       "                var nbb_formatted_code = \"y_data = scaler.fit_transform(y_data.reshape(-1, 1))\";\n",
       "                var nbb_cells = Jupyter.notebook.get_cells();\n",
       "                for (var i = 0; i < nbb_cells.length; ++i) {\n",
       "                    if (nbb_cells[i].input_prompt_number == nbb_cell_id) {\n",
       "                        if (nbb_cells[i].get_text() == nbb_unformatted_code) {\n",
       "                             nbb_cells[i].set_text(nbb_formatted_code);\n",
       "                        }\n",
       "                        break;\n",
       "                    }\n",
       "                }\n",
       "            }, 500);\n",
       "            "
      ],
      "text/plain": [
       "<IPython.core.display.Javascript object>"
      ]
     },
     "metadata": {},
     "output_type": "display_data"
    }
   ],
   "source": [
    "y_data = scaler.fit_transform(y_data.reshape(-1, 1))"
   ]
  },
  {
   "cell_type": "code",
   "execution_count": 11,
   "id": "8da4639d",
   "metadata": {},
   "outputs": [
    {
     "data": {
      "application/javascript": [
       "\n",
       "            setTimeout(function() {\n",
       "                var nbb_cell_id = 11;\n",
       "                var nbb_unformatted_code = \"inputs = y_data\";\n",
       "                var nbb_formatted_code = \"inputs = y_data\";\n",
       "                var nbb_cells = Jupyter.notebook.get_cells();\n",
       "                for (var i = 0; i < nbb_cells.length; ++i) {\n",
       "                    if (nbb_cells[i].input_prompt_number == nbb_cell_id) {\n",
       "                        if (nbb_cells[i].get_text() == nbb_unformatted_code) {\n",
       "                             nbb_cells[i].set_text(nbb_formatted_code);\n",
       "                        }\n",
       "                        break;\n",
       "                    }\n",
       "                }\n",
       "            }, 500);\n",
       "            "
      ],
      "text/plain": [
       "<IPython.core.display.Javascript object>"
      ]
     },
     "metadata": {},
     "output_type": "display_data"
    }
   ],
   "source": [
    "inputs = y_data"
   ]
  },
  {
   "cell_type": "code",
   "execution_count": 12,
   "id": "ca0e5252",
   "metadata": {},
   "outputs": [
    {
     "data": {
      "text/plain": [
       "array([[-1.00044445],\n",
       "       [-0.89083416],\n",
       "       [-1.32723213],\n",
       "       [-1.84836881],\n",
       "       [-1.91506627],\n",
       "       [-1.40595591],\n",
       "       [-0.72906417],\n",
       "       [-0.44667494],\n",
       "       [-0.7583683 ],\n",
       "       [-1.31752754]])"
      ]
     },
     "execution_count": 12,
     "metadata": {},
     "output_type": "execute_result"
    },
    {
     "data": {
      "application/javascript": [
       "\n",
       "            setTimeout(function() {\n",
       "                var nbb_cell_id = 12;\n",
       "                var nbb_unformatted_code = \"inputs[:10]\";\n",
       "                var nbb_formatted_code = \"inputs[:10]\";\n",
       "                var nbb_cells = Jupyter.notebook.get_cells();\n",
       "                for (var i = 0; i < nbb_cells.length; ++i) {\n",
       "                    if (nbb_cells[i].input_prompt_number == nbb_cell_id) {\n",
       "                        if (nbb_cells[i].get_text() == nbb_unformatted_code) {\n",
       "                             nbb_cells[i].set_text(nbb_formatted_code);\n",
       "                        }\n",
       "                        break;\n",
       "                    }\n",
       "                }\n",
       "            }, 500);\n",
       "            "
      ],
      "text/plain": [
       "<IPython.core.display.Javascript object>"
      ]
     },
     "metadata": {},
     "output_type": "display_data"
    }
   ],
   "source": [
    "inputs[:10]"
   ]
  },
  {
   "cell_type": "code",
   "execution_count": 13,
   "id": "ef07c211",
   "metadata": {},
   "outputs": [
    {
     "data": {
      "application/javascript": [
       "\n",
       "            setTimeout(function() {\n",
       "                var nbb_cell_id = 13;\n",
       "                var nbb_unformatted_code = \"from tensorflow.keras.preprocessing.sequence import TimeseriesGenerator\";\n",
       "                var nbb_formatted_code = \"from tensorflow.keras.preprocessing.sequence import TimeseriesGenerator\";\n",
       "                var nbb_cells = Jupyter.notebook.get_cells();\n",
       "                for (var i = 0; i < nbb_cells.length; ++i) {\n",
       "                    if (nbb_cells[i].input_prompt_number == nbb_cell_id) {\n",
       "                        if (nbb_cells[i].get_text() == nbb_unformatted_code) {\n",
       "                             nbb_cells[i].set_text(nbb_formatted_code);\n",
       "                        }\n",
       "                        break;\n",
       "                    }\n",
       "                }\n",
       "            }, 500);\n",
       "            "
      ],
      "text/plain": [
       "<IPython.core.display.Javascript object>"
      ]
     },
     "metadata": {},
     "output_type": "display_data"
    }
   ],
   "source": [
    "from tensorflow.keras.preprocessing.sequence import TimeseriesGenerator"
   ]
  },
  {
   "cell_type": "code",
   "execution_count": 14,
   "id": "d63b7dc9",
   "metadata": {},
   "outputs": [
    {
     "data": {
      "application/javascript": [
       "\n",
       "            setTimeout(function() {\n",
       "                var nbb_cell_id = 14;\n",
       "                var nbb_unformatted_code = \"generator = TimeseriesGenerator(\\n    data=inputs,\\n    targets=inputs,\\n    length=12,  # lunghezza dati input\\n    batch_size=1,\\n    sampling_rate=1,  # step\\n    stride=1,\\n)\";\n",
       "                var nbb_formatted_code = \"generator = TimeseriesGenerator(\\n    data=inputs,\\n    targets=inputs,\\n    length=12,  # lunghezza dati input\\n    batch_size=1,\\n    sampling_rate=1,  # step\\n    stride=1,\\n)\";\n",
       "                var nbb_cells = Jupyter.notebook.get_cells();\n",
       "                for (var i = 0; i < nbb_cells.length; ++i) {\n",
       "                    if (nbb_cells[i].input_prompt_number == nbb_cell_id) {\n",
       "                        if (nbb_cells[i].get_text() == nbb_unformatted_code) {\n",
       "                             nbb_cells[i].set_text(nbb_formatted_code);\n",
       "                        }\n",
       "                        break;\n",
       "                    }\n",
       "                }\n",
       "            }, 500);\n",
       "            "
      ],
      "text/plain": [
       "<IPython.core.display.Javascript object>"
      ]
     },
     "metadata": {},
     "output_type": "display_data"
    }
   ],
   "source": [
    "generator = TimeseriesGenerator(\n",
    "    data=inputs,\n",
    "    targets=inputs,\n",
    "    length=12,  # lunghezza dati input\n",
    "    batch_size=1,\n",
    "    sampling_rate=1,  # step\n",
    "    stride=1,\n",
    ")"
   ]
  },
  {
   "cell_type": "code",
   "execution_count": 15,
   "id": "ad6ecd51",
   "metadata": {},
   "outputs": [
    {
     "name": "stdout",
     "output_type": "stream",
     "text": [
      "Samples: 36\n"
     ]
    },
    {
     "data": {
      "application/javascript": [
       "\n",
       "            setTimeout(function() {\n",
       "                var nbb_cell_id = 15;\n",
       "                var nbb_unformatted_code = \"print(\\\"Samples: %d\\\" % len(generator))\";\n",
       "                var nbb_formatted_code = \"print(\\\"Samples: %d\\\" % len(generator))\";\n",
       "                var nbb_cells = Jupyter.notebook.get_cells();\n",
       "                for (var i = 0; i < nbb_cells.length; ++i) {\n",
       "                    if (nbb_cells[i].input_prompt_number == nbb_cell_id) {\n",
       "                        if (nbb_cells[i].get_text() == nbb_unformatted_code) {\n",
       "                             nbb_cells[i].set_text(nbb_formatted_code);\n",
       "                        }\n",
       "                        break;\n",
       "                    }\n",
       "                }\n",
       "            }, 500);\n",
       "            "
      ],
      "text/plain": [
       "<IPython.core.display.Javascript object>"
      ]
     },
     "metadata": {},
     "output_type": "display_data"
    }
   ],
   "source": [
    "print(\"Samples: %d\" % len(generator))"
   ]
  },
  {
   "cell_type": "code",
   "execution_count": 16,
   "id": "120d8f27",
   "metadata": {},
   "outputs": [
    {
     "name": "stdout",
     "output_type": "stream",
     "text": [
      "[[[-1.00044445]\n",
      "  [-0.89083416]\n",
      "  [-1.32723213]\n",
      "  [-1.84836881]\n",
      "  [-1.91506627]\n",
      "  [-1.40595591]\n",
      "  [-0.72906417]\n",
      "  [-0.44667494]\n",
      "  [-0.7583683 ]\n",
      "  [-1.31752754]\n",
      "  [-1.55001698]\n",
      "  [-1.18203962]]] => [[-0.49186489]]\n",
      "[[[-0.89083416]\n",
      "  [-1.32723213]\n",
      "  [-1.84836881]\n",
      "  [-1.91506627]\n",
      "  [-1.40595591]\n",
      "  [-0.72906417]\n",
      "  [-0.44667494]\n",
      "  [-0.7583683 ]\n",
      "  [-1.31752754]\n",
      "  [-1.55001698]\n",
      "  [-1.18203962]\n",
      "  [-0.49186489]]] => [[-0.05398898]]\n",
      "[[[-1.32723213]\n",
      "  [-1.84836881]\n",
      "  [-1.91506627]\n",
      "  [-1.40595591]\n",
      "  [-0.72906417]\n",
      "  [-0.44667494]\n",
      "  [-0.7583683 ]\n",
      "  [-1.31752754]\n",
      "  [-1.55001698]\n",
      "  [-1.18203962]\n",
      "  [-0.49186489]\n",
      "  [-0.05398898]]] => [[-0.21094572]]\n",
      "[[[-1.84836881]\n",
      "  [-1.91506627]\n",
      "  [-1.40595591]\n",
      "  [-0.72906417]\n",
      "  [-0.44667494]\n",
      "  [-0.7583683 ]\n",
      "  [-1.31752754]\n",
      "  [-1.55001698]\n",
      "  [-1.18203962]\n",
      "  [-0.49186489]\n",
      "  [-0.05398898]\n",
      "  [-0.21094572]]] => [[-0.75838254]]\n",
      "[[[-1.91506627]\n",
      "  [-1.40595591]\n",
      "  [-0.72906417]\n",
      "  [-0.44667494]\n",
      "  [-0.7583683 ]\n",
      "  [-1.31752754]\n",
      "  [-1.55001698]\n",
      "  [-1.18203962]\n",
      "  [-0.49186489]\n",
      "  [-0.05398898]\n",
      "  [-0.21094572]\n",
      "  [-0.75838254]]] => [[-1.13294128]]\n",
      "[[[-1.40595591]\n",
      "  [-0.72906417]\n",
      "  [-0.44667494]\n",
      "  [-0.7583683 ]\n",
      "  [-1.31752754]\n",
      "  [-1.55001698]\n",
      "  [-1.18203962]\n",
      "  [-0.49186489]\n",
      "  [-0.05398898]\n",
      "  [-0.21094572]\n",
      "  [-0.75838254]\n",
      "  [-1.13294128]]] => [[-0.9302071]]\n",
      "[[[-0.72906417]\n",
      "  [-0.44667494]\n",
      "  [-0.7583683 ]\n",
      "  [-1.31752754]\n",
      "  [-1.55001698]\n",
      "  [-1.18203962]\n",
      "  [-0.49186489]\n",
      "  [-0.05398898]\n",
      "  [-0.21094572]\n",
      "  [-0.75838254]\n",
      "  [-1.13294128]\n",
      "  [-0.9302071 ]]] => [[-0.2765256]]\n",
      "[[[-0.44667494]\n",
      "  [-0.7583683 ]\n",
      "  [-1.31752754]\n",
      "  [-1.55001698]\n",
      "  [-1.18203962]\n",
      "  [-0.49186489]\n",
      "  [-0.05398898]\n",
      "  [-0.21094572]\n",
      "  [-0.75838254]\n",
      "  [-1.13294128]\n",
      "  [-0.9302071 ]\n",
      "  [-0.2765256 ]]] => [[0.28715873]]\n",
      "[[[-0.7583683 ]\n",
      "  [-1.31752754]\n",
      "  [-1.55001698]\n",
      "  [-1.18203962]\n",
      "  [-0.49186489]\n",
      "  [-0.05398898]\n",
      "  [-0.21094572]\n",
      "  [-0.75838254]\n",
      "  [-1.13294128]\n",
      "  [-0.9302071 ]\n",
      "  [-0.2765256 ]\n",
      "  [ 0.28715873]]] => [[0.30264439]]\n",
      "[[[-1.31752754]\n",
      "  [-1.55001698]\n",
      "  [-1.18203962]\n",
      "  [-0.49186489]\n",
      "  [-0.05398898]\n",
      "  [-0.21094572]\n",
      "  [-0.75838254]\n",
      "  [-1.13294128]\n",
      "  [-0.9302071 ]\n",
      "  [-0.2765256 ]\n",
      "  [ 0.28715873]\n",
      "  [ 0.30264439]]] => [[-0.18425881]]\n",
      "[[[-1.55001698]\n",
      "  [-1.18203962]\n",
      "  [-0.49186489]\n",
      "  [-0.05398898]\n",
      "  [-0.21094572]\n",
      "  [-0.75838254]\n",
      "  [-1.13294128]\n",
      "  [-0.9302071 ]\n",
      "  [-0.2765256 ]\n",
      "  [ 0.28715873]\n",
      "  [ 0.30264439]\n",
      "  [-0.18425881]]] => [[-0.66584703]]\n",
      "[[[-1.18203962]\n",
      "  [-0.49186489]\n",
      "  [-0.05398898]\n",
      "  [-0.21094572]\n",
      "  [-0.75838254]\n",
      "  [-1.13294128]\n",
      "  [-0.9302071 ]\n",
      "  [-0.2765256 ]\n",
      "  [ 0.28715873]\n",
      "  [ 0.30264439]\n",
      "  [-0.18425881]\n",
      "  [-0.66584703]]] => [[-0.63930302]]\n",
      "[[[-0.49186489]\n",
      "  [-0.05398898]\n",
      "  [-0.21094572]\n",
      "  [-0.75838254]\n",
      "  [-1.13294128]\n",
      "  [-0.9302071 ]\n",
      "  [-0.2765256 ]\n",
      "  [ 0.28715873]\n",
      "  [ 0.30264439]\n",
      "  [-0.18425881]\n",
      "  [-0.66584703]\n",
      "  [-0.63930302]]] => [[-0.06898396]]\n",
      "[[[-0.05398898]\n",
      "  [-0.21094572]\n",
      "  [-0.75838254]\n",
      "  [-1.13294128]\n",
      "  [-0.9302071 ]\n",
      "  [-0.2765256 ]\n",
      "  [ 0.28715873]\n",
      "  [ 0.30264439]\n",
      "  [-0.18425881]\n",
      "  [-0.66584703]\n",
      "  [-0.63930302]\n",
      "  [-0.06898396]]] => [[0.58080872]]\n",
      "[[[-0.21094572]\n",
      "  [-0.75838254]\n",
      "  [-1.13294128]\n",
      "  [-0.9302071 ]\n",
      "  [-0.2765256 ]\n",
      "  [ 0.28715873]\n",
      "  [ 0.30264439]\n",
      "  [-0.18425881]\n",
      "  [-0.66584703]\n",
      "  [-0.63930302]\n",
      "  [-0.06898396]\n",
      "  [ 0.58080872]]] => [[0.77270588]]\n",
      "[[[-0.75838254]\n",
      "  [-1.13294128]\n",
      "  [-0.9302071 ]\n",
      "  [-0.2765256 ]\n",
      "  [ 0.28715873]\n",
      "  [ 0.30264439]\n",
      "  [-0.18425881]\n",
      "  [-0.66584703]\n",
      "  [-0.63930302]\n",
      "  [-0.06898396]\n",
      "  [ 0.58080872]\n",
      "  [ 0.77270588]]] => [[0.39032543]]\n",
      "[[[-1.13294128]\n",
      "  [-0.9302071 ]\n",
      "  [-0.2765256 ]\n",
      "  [ 0.28715873]\n",
      "  [ 0.30264439]\n",
      "  [-0.18425881]\n",
      "  [-0.66584703]\n",
      "  [-0.63930302]\n",
      "  [-0.06898396]\n",
      "  [ 0.58080872]\n",
      "  [ 0.77270588]\n",
      "  [ 0.39032543]]] => [[-0.15472654]]\n",
      "[[[-0.9302071 ]\n",
      "  [-0.2765256 ]\n",
      "  [ 0.28715873]\n",
      "  [ 0.30264439]\n",
      "  [-0.18425881]\n",
      "  [-0.66584703]\n",
      "  [-0.63930302]\n",
      "  [-0.06898396]\n",
      "  [ 0.58080872]\n",
      "  [ 0.77270588]\n",
      "  [ 0.39032543]\n",
      "  [-0.15472654]]] => [[-0.3012845]]\n",
      "[[[-0.2765256 ]\n",
      "  [ 0.28715873]\n",
      "  [ 0.30264439]\n",
      "  [-0.18425881]\n",
      "  [-0.66584703]\n",
      "  [-0.63930302]\n",
      "  [-0.06898396]\n",
      "  [ 0.58080872]\n",
      "  [ 0.77270588]\n",
      "  [ 0.39032543]\n",
      "  [-0.15472654]\n",
      "  [-0.3012845 ]]] => [[0.14544353]]\n",
      "[[[ 0.28715873]\n",
      "  [ 0.30264439]\n",
      "  [-0.18425881]\n",
      "  [-0.66584703]\n",
      "  [-0.63930302]\n",
      "  [-0.06898396]\n",
      "  [ 0.58080872]\n",
      "  [ 0.77270588]\n",
      "  [ 0.39032543]\n",
      "  [-0.15472654]\n",
      "  [-0.3012845 ]\n",
      "  [ 0.14544353]]] => [[0.83478513]]\n",
      "[[[ 0.30264439]\n",
      "  [-0.18425881]\n",
      "  [-0.66584703]\n",
      "  [-0.63930302]\n",
      "  [-0.06898396]\n",
      "  [ 0.58080872]\n",
      "  [ 0.77270588]\n",
      "  [ 0.39032543]\n",
      "  [-0.15472654]\n",
      "  [-0.3012845 ]\n",
      "  [ 0.14544353]\n",
      "  [ 0.83478513]]] => [[1.19301008]]\n",
      "[[[-0.18425881]\n",
      "  [-0.66584703]\n",
      "  [-0.63930302]\n",
      "  [-0.06898396]\n",
      "  [ 0.58080872]\n",
      "  [ 0.77270588]\n",
      "  [ 0.39032543]\n",
      "  [-0.15472654]\n",
      "  [-0.3012845 ]\n",
      "  [ 0.14544353]\n",
      "  [ 0.83478513]\n",
      "  [ 1.19301008]]] => [[0.95081527]]\n",
      "[[[-0.66584703]\n",
      "  [-0.63930302]\n",
      "  [-0.06898396]\n",
      "  [ 0.58080872]\n",
      "  [ 0.77270588]\n",
      "  [ 0.39032543]\n",
      "  [-0.15472654]\n",
      "  [-0.3012845 ]\n",
      "  [ 0.14544353]\n",
      "  [ 0.83478513]\n",
      "  [ 1.19301008]\n",
      "  [ 0.95081527]]] => [[0.39092077]]\n",
      "[[[-0.63930302]\n",
      "  [-0.06898396]\n",
      "  [ 0.58080872]\n",
      "  [ 0.77270588]\n",
      "  [ 0.39032543]\n",
      "  [-0.15472654]\n",
      "  [-0.3012845 ]\n",
      "  [ 0.14544353]\n",
      "  [ 0.83478513]\n",
      "  [ 1.19301008]\n",
      "  [ 0.95081527]\n",
      "  [ 0.39092077]]] => [[0.08813827]]\n",
      "[[[-0.06898396]\n",
      "  [ 0.58080872]\n",
      "  [ 0.77270588]\n",
      "  [ 0.39032543]\n",
      "  [-0.15472654]\n",
      "  [-0.3012845 ]\n",
      "  [ 0.14544353]\n",
      "  [ 0.83478513]\n",
      "  [ 1.19301008]\n",
      "  [ 0.95081527]\n",
      "  [ 0.39092077]\n",
      "  [ 0.08813827]]] => [[0.38089186]]\n",
      "[[[ 0.58080872]\n",
      "  [ 0.77270588]\n",
      "  [ 0.39032543]\n",
      "  [-0.15472654]\n",
      "  [-0.3012845 ]\n",
      "  [ 0.14544353]\n",
      "  [ 0.83478513]\n",
      "  [ 1.19301008]\n",
      "  [ 0.95081527]\n",
      "  [ 0.39092077]\n",
      "  [ 0.08813827]\n",
      "  [ 0.38089186]]] => [[1.06007252]]\n",
      "[[[ 0.77270588]\n",
      "  [ 0.39032543]\n",
      "  [-0.15472654]\n",
      "  [-0.3012845 ]\n",
      "  [ 0.14544353]\n",
      "  [ 0.83478513]\n",
      "  [ 1.19301008]\n",
      "  [ 0.95081527]\n",
      "  [ 0.39092077]\n",
      "  [ 0.08813827]\n",
      "  [ 0.38089186]\n",
      "  [ 1.06007252]]] => [[1.56129194]]\n",
      "[[[ 0.39032543]\n",
      "  [-0.15472654]\n",
      "  [-0.3012845 ]\n",
      "  [ 0.14544353]\n",
      "  [ 0.83478513]\n",
      "  [ 1.19301008]\n",
      "  [ 0.95081527]\n",
      "  [ 0.39092077]\n",
      "  [ 0.08813827]\n",
      "  [ 0.38089186]\n",
      "  [ 1.06007252]\n",
      "  [ 1.56129194]]] => [[1.48377857]]\n",
      "[[[-0.15472654]\n",
      "  [-0.3012845 ]\n",
      "  [ 0.14544353]\n",
      "  [ 0.83478513]\n",
      "  [ 1.19301008]\n",
      "  [ 0.95081527]\n",
      "  [ 0.39092077]\n",
      "  [ 0.08813827]\n",
      "  [ 0.38089186]\n",
      "  [ 1.06007252]\n",
      "  [ 1.56129194]\n",
      "  [ 1.48377857]]] => [[0.95884511]]\n",
      "[[[-0.3012845 ]\n",
      "  [ 0.14544353]\n",
      "  [ 0.83478513]\n",
      "  [ 1.19301008]\n",
      "  [ 0.95081527]\n",
      "  [ 0.39092077]\n",
      "  [ 0.08813827]\n",
      "  [ 0.38089186]\n",
      "  [ 1.06007252]\n",
      "  [ 1.56129194]\n",
      "  [ 1.48377857]\n",
      "  [ 0.95884511]]] => [[0.52916023]]\n",
      "[[[0.14544353]\n",
      "  [0.83478513]\n",
      "  [1.19301008]\n",
      "  [0.95081527]\n",
      "  [0.39092077]\n",
      "  [0.08813827]\n",
      "  [0.38089186]\n",
      "  [1.06007252]\n",
      "  [1.56129194]\n",
      "  [1.48377857]\n",
      "  [0.95884511]\n",
      "  [0.52916023]]] => [[0.64982149]]\n",
      "[[[0.83478513]\n",
      "  [1.19301008]\n",
      "  [0.95081527]\n",
      "  [0.39092077]\n",
      "  [0.08813827]\n",
      "  [0.38089186]\n",
      "  [1.06007252]\n",
      "  [1.56129194]\n",
      "  [1.48377857]\n",
      "  [0.95884511]\n",
      "  [0.52916023]\n",
      "  [0.64982149]]] => [[1.26994076]]\n",
      "[[[1.19301008]\n",
      "  [0.95081527]\n",
      "  [0.39092077]\n",
      "  [0.08813827]\n",
      "  [0.38089186]\n",
      "  [1.06007252]\n",
      "  [1.56129194]\n",
      "  [1.48377857]\n",
      "  [0.95884511]\n",
      "  [0.52916023]\n",
      "  [0.64982149]\n",
      "  [1.26994076]]] => [[1.8794305]]\n",
      "[[[0.95081527]\n",
      "  [0.39092077]\n",
      "  [0.08813827]\n",
      "  [0.38089186]\n",
      "  [1.06007252]\n",
      "  [1.56129194]\n",
      "  [1.48377857]\n",
      "  [0.95884511]\n",
      "  [0.52916023]\n",
      "  [0.64982149]\n",
      "  [1.26994076]\n",
      "  [1.8794305 ]]] => [[1.97797593]]\n",
      "[[[0.39092077]\n",
      "  [0.08813827]\n",
      "  [0.38089186]\n",
      "  [1.06007252]\n",
      "  [1.56129194]\n",
      "  [1.48377857]\n",
      "  [0.95884511]\n",
      "  [0.52916023]\n",
      "  [0.64982149]\n",
      "  [1.26994076]\n",
      "  [1.8794305 ]\n",
      "  [1.97797593]]] => [[1.5350221]]\n",
      "[[[0.08813827]\n",
      "  [0.38089186]\n",
      "  [1.06007252]\n",
      "  [1.56129194]\n",
      "  [1.48377857]\n",
      "  [0.95884511]\n",
      "  [0.52916023]\n",
      "  [0.64982149]\n",
      "  [1.26994076]\n",
      "  [1.8794305 ]\n",
      "  [1.97797593]\n",
      "  [1.5350221 ]]] => [[1.01786599]]\n"
     ]
    },
    {
     "data": {
      "application/javascript": [
       "\n",
       "            setTimeout(function() {\n",
       "                var nbb_cell_id = 16;\n",
       "                var nbb_unformatted_code = \"for i in range(len(generator)):\\n    x, y = generator[i]\\n    print(\\\"%s => %s\\\" % (x, y))\";\n",
       "                var nbb_formatted_code = \"for i in range(len(generator)):\\n    x, y = generator[i]\\n    print(\\\"%s => %s\\\" % (x, y))\";\n",
       "                var nbb_cells = Jupyter.notebook.get_cells();\n",
       "                for (var i = 0; i < nbb_cells.length; ++i) {\n",
       "                    if (nbb_cells[i].input_prompt_number == nbb_cell_id) {\n",
       "                        if (nbb_cells[i].get_text() == nbb_unformatted_code) {\n",
       "                             nbb_cells[i].set_text(nbb_formatted_code);\n",
       "                        }\n",
       "                        break;\n",
       "                    }\n",
       "                }\n",
       "            }, 500);\n",
       "            "
      ],
      "text/plain": [
       "<IPython.core.display.Javascript object>"
      ]
     },
     "metadata": {},
     "output_type": "display_data"
    }
   ],
   "source": [
    "for i in range(len(generator)):\n",
    "    x, y = generator[i]\n",
    "    print(\"%s => %s\" % (x, y))"
   ]
  },
  {
   "cell_type": "code",
   "execution_count": 1,
   "id": "7ca6a35a",
   "metadata": {},
   "outputs": [
    {
     "name": "stderr",
     "output_type": "stream",
     "text": [
      "Using TensorFlow backend.\n"
     ]
    }
   ],
   "source": [
    "from keras.models import Sequential\n",
    "from keras.layers import Dense, LSTM, Input\n",
    "from keras import optimizers"
   ]
  },
  {
   "cell_type": "code",
   "execution_count": 18,
   "id": "b7ab3eb2",
   "metadata": {},
   "outputs": [
    {
     "data": {
      "application/javascript": [
       "\n",
       "            setTimeout(function() {\n",
       "                var nbb_cell_id = 18;\n",
       "                var nbb_unformatted_code = \"gen = iter(generator)\";\n",
       "                var nbb_formatted_code = \"gen = iter(generator)\";\n",
       "                var nbb_cells = Jupyter.notebook.get_cells();\n",
       "                for (var i = 0; i < nbb_cells.length; ++i) {\n",
       "                    if (nbb_cells[i].input_prompt_number == nbb_cell_id) {\n",
       "                        if (nbb_cells[i].get_text() == nbb_unformatted_code) {\n",
       "                             nbb_cells[i].set_text(nbb_formatted_code);\n",
       "                        }\n",
       "                        break;\n",
       "                    }\n",
       "                }\n",
       "            }, 500);\n",
       "            "
      ],
      "text/plain": [
       "<IPython.core.display.Javascript object>"
      ]
     },
     "metadata": {},
     "output_type": "display_data"
    }
   ],
   "source": [
    "gen = iter(generator)"
   ]
  },
  {
   "cell_type": "code",
   "execution_count": 19,
   "id": "952a391f",
   "metadata": {},
   "outputs": [
    {
     "data": {
      "application/javascript": [
       "\n",
       "            setTimeout(function() {\n",
       "                var nbb_cell_id = 19;\n",
       "                var nbb_unformatted_code = \"X, y = next(gen)\";\n",
       "                var nbb_formatted_code = \"X, y = next(gen)\";\n",
       "                var nbb_cells = Jupyter.notebook.get_cells();\n",
       "                for (var i = 0; i < nbb_cells.length; ++i) {\n",
       "                    if (nbb_cells[i].input_prompt_number == nbb_cell_id) {\n",
       "                        if (nbb_cells[i].get_text() == nbb_unformatted_code) {\n",
       "                             nbb_cells[i].set_text(nbb_formatted_code);\n",
       "                        }\n",
       "                        break;\n",
       "                    }\n",
       "                }\n",
       "            }, 500);\n",
       "            "
      ],
      "text/plain": [
       "<IPython.core.display.Javascript object>"
      ]
     },
     "metadata": {},
     "output_type": "display_data"
    }
   ],
   "source": [
    "X, y = next(gen)"
   ]
  },
  {
   "cell_type": "code",
   "execution_count": 20,
   "id": "22c9c7ca",
   "metadata": {},
   "outputs": [
    {
     "data": {
      "text/plain": [
       "(1, 12, 1)"
      ]
     },
     "execution_count": 20,
     "metadata": {},
     "output_type": "execute_result"
    },
    {
     "data": {
      "application/javascript": [
       "\n",
       "            setTimeout(function() {\n",
       "                var nbb_cell_id = 20;\n",
       "                var nbb_unformatted_code = \"X.shape\";\n",
       "                var nbb_formatted_code = \"X.shape\";\n",
       "                var nbb_cells = Jupyter.notebook.get_cells();\n",
       "                for (var i = 0; i < nbb_cells.length; ++i) {\n",
       "                    if (nbb_cells[i].input_prompt_number == nbb_cell_id) {\n",
       "                        if (nbb_cells[i].get_text() == nbb_unformatted_code) {\n",
       "                             nbb_cells[i].set_text(nbb_formatted_code);\n",
       "                        }\n",
       "                        break;\n",
       "                    }\n",
       "                }\n",
       "            }, 500);\n",
       "            "
      ],
      "text/plain": [
       "<IPython.core.display.Javascript object>"
      ]
     },
     "metadata": {},
     "output_type": "display_data"
    }
   ],
   "source": [
    "X.shape"
   ]
  },
  {
   "cell_type": "code",
   "execution_count": 21,
   "id": "4d79a33a",
   "metadata": {},
   "outputs": [
    {
     "data": {
      "text/plain": [
       "(array([[[-0.89083416],\n",
       "         [-1.32723213],\n",
       "         [-1.84836881],\n",
       "         [-1.91506627],\n",
       "         [-1.40595591],\n",
       "         [-0.72906417],\n",
       "         [-0.44667494],\n",
       "         [-0.7583683 ],\n",
       "         [-1.31752754],\n",
       "         [-1.55001698],\n",
       "         [-1.18203962],\n",
       "         [-0.49186489]]]),\n",
       " array([[-0.05398898]]))"
      ]
     },
     "execution_count": 21,
     "metadata": {},
     "output_type": "execute_result"
    },
    {
     "data": {
      "application/javascript": [
       "\n",
       "            setTimeout(function() {\n",
       "                var nbb_cell_id = 21;\n",
       "                var nbb_unformatted_code = \"next(gen)\";\n",
       "                var nbb_formatted_code = \"next(gen)\";\n",
       "                var nbb_cells = Jupyter.notebook.get_cells();\n",
       "                for (var i = 0; i < nbb_cells.length; ++i) {\n",
       "                    if (nbb_cells[i].input_prompt_number == nbb_cell_id) {\n",
       "                        if (nbb_cells[i].get_text() == nbb_unformatted_code) {\n",
       "                             nbb_cells[i].set_text(nbb_formatted_code);\n",
       "                        }\n",
       "                        break;\n",
       "                    }\n",
       "                }\n",
       "            }, 500);\n",
       "            "
      ],
      "text/plain": [
       "<IPython.core.display.Javascript object>"
      ]
     },
     "metadata": {},
     "output_type": "display_data"
    }
   ],
   "source": [
    "next(gen)"
   ]
  },
  {
   "cell_type": "markdown",
   "id": "1f1a8e62",
   "metadata": {},
   "source": [
    "### La funzione di attivazione: Tanh"
   ]
  },
  {
   "cell_type": "code",
   "execution_count": 3,
   "id": "536efcab",
   "metadata": {},
   "outputs": [
    {
     "data": {
      "image/jpeg": "[encoded data removed]",
      "text/plain": [
       "<IPython.core.display.Image object>"
      ]
     },
     "execution_count": 3,
     "metadata": {},
     "output_type": "execute_result"
    }
   ],
   "source": [
    "Image('Tanh_function.jpg')"
   ]
  },
  {
   "cell_type": "markdown",
   "id": "def9f24c",
   "metadata": {},
   "source": [
    "### Costruzione della rete"
   ]
  },
  {
   "cell_type": "code",
   "execution_count": 6,
   "id": "c0a835d3",
   "metadata": {},
   "outputs": [
    {
     "data": {
      "application/javascript": [
       "\n",
       "            setTimeout(function() {\n",
       "                var nbb_cell_id = 6;\n",
       "                var nbb_unformatted_code = \"model = Sequential()\\n\\nmodel.add(\\n    LSTM(\\n        64,\\n        activation=\\\"tanh\\\", \\n        dropout=0.1,\\n        recurrent_dropout=0.1,\\n        return_sequences=True,\\n        input_shape=(12, 1),\\n    )\\n)\\n\\nmodel.add(\\n    LSTM(\\n        32, \\n        activation=\\\"tanh\\\", \\n        dropout=0.1, \\n        recurrent_dropout=0.1\\n    )\\n)\\n\\nmodel.add(Dense(1))\";\n",
       "                var nbb_formatted_code = \"model = Sequential()\\n\\nmodel.add(\\n    LSTM(\\n        64,\\n        activation=\\\"tanh\\\",\\n        dropout=0.1,\\n        recurrent_dropout=0.1,\\n        return_sequences=True,\\n        input_shape=(12, 1),\\n    )\\n)\\n\\nmodel.add(LSTM(32, activation=\\\"tanh\\\", dropout=0.1, recurrent_dropout=0.1))\\n\\nmodel.add(Dense(1))\";\n",
       "                var nbb_cells = Jupyter.notebook.get_cells();\n",
       "                for (var i = 0; i < nbb_cells.length; ++i) {\n",
       "                    if (nbb_cells[i].input_prompt_number == nbb_cell_id) {\n",
       "                        if (nbb_cells[i].get_text() == nbb_unformatted_code) {\n",
       "                             nbb_cells[i].set_text(nbb_formatted_code);\n",
       "                        }\n",
       "                        break;\n",
       "                    }\n",
       "                }\n",
       "            }, 500);\n",
       "            "
      ],
      "text/plain": [
       "<IPython.core.display.Javascript object>"
      ]
     },
     "metadata": {},
     "output_type": "display_data"
    }
   ],
   "source": [
    "model = Sequential()\n",
    "\n",
    "model.add(\n",
    "    LSTM(\n",
    "        64,\n",
    "        activation=\"tanh\", \n",
    "        dropout=0.1,\n",
    "        recurrent_dropout=0.1,\n",
    "        return_sequences=True,\n",
    "        input_shape=(12, 1),\n",
    "    )\n",
    ")\n",
    "\n",
    "model.add(\n",
    "    LSTM(\n",
    "        32, \n",
    "        activation=\"tanh\", \n",
    "        dropout=0.1, \n",
    "        recurrent_dropout=0.1\n",
    "    )\n",
    ")\n",
    "\n",
    "model.add(Dense(1))"
   ]
  },
  {
   "cell_type": "code",
   "execution_count": 23,
   "id": "f67050ba",
   "metadata": {},
   "outputs": [
    {
     "name": "stdout",
     "output_type": "stream",
     "text": [
      "Model: \"sequential_1\"\n",
      "_________________________________________________________________\n",
      "Layer (type)                 Output Shape              Param #   \n",
      "=================================================================\n",
      "lstm_1 (LSTM)                (None, 12, 64)            16896     \n",
      "_________________________________________________________________\n",
      "lstm_2 (LSTM)                (None, 32)                12416     \n",
      "_________________________________________________________________\n",
      "dense_1 (Dense)              (None, 1)                 33        \n",
      "=================================================================\n",
      "Total params: 29,345\n",
      "Trainable params: 29,345\n",
      "Non-trainable params: 0\n",
      "_________________________________________________________________\n"
     ]
    },
    {
     "data": {
      "application/javascript": [
       "\n",
       "            setTimeout(function() {\n",
       "                var nbb_cell_id = 23;\n",
       "                var nbb_unformatted_code = \"model.summary()\";\n",
       "                var nbb_formatted_code = \"model.summary()\";\n",
       "                var nbb_cells = Jupyter.notebook.get_cells();\n",
       "                for (var i = 0; i < nbb_cells.length; ++i) {\n",
       "                    if (nbb_cells[i].input_prompt_number == nbb_cell_id) {\n",
       "                        if (nbb_cells[i].get_text() == nbb_unformatted_code) {\n",
       "                             nbb_cells[i].set_text(nbb_formatted_code);\n",
       "                        }\n",
       "                        break;\n",
       "                    }\n",
       "                }\n",
       "            }, 500);\n",
       "            "
      ],
      "text/plain": [
       "<IPython.core.display.Javascript object>"
      ]
     },
     "metadata": {},
     "output_type": "display_data"
    }
   ],
   "source": [
    "model.summary()"
   ]
  },
  {
   "cell_type": "code",
   "execution_count": 24,
   "id": "45666281",
   "metadata": {},
   "outputs": [
    {
     "data": {
      "application/javascript": [
       "\n",
       "            setTimeout(function() {\n",
       "                var nbb_cell_id = 24;\n",
       "                var nbb_unformatted_code = \"model.compile(optimizer=optimizers.RMSprop(learning_rate=0.0001), loss=\\\"mse\\\")\";\n",
       "                var nbb_formatted_code = \"model.compile(optimizer=optimizers.RMSprop(learning_rate=0.0001), loss=\\\"mse\\\")\";\n",
       "                var nbb_cells = Jupyter.notebook.get_cells();\n",
       "                for (var i = 0; i < nbb_cells.length; ++i) {\n",
       "                    if (nbb_cells[i].input_prompt_number == nbb_cell_id) {\n",
       "                        if (nbb_cells[i].get_text() == nbb_unformatted_code) {\n",
       "                             nbb_cells[i].set_text(nbb_formatted_code);\n",
       "                        }\n",
       "                        break;\n",
       "                    }\n",
       "                }\n",
       "            }, 500);\n",
       "            "
      ],
      "text/plain": [
       "<IPython.core.display.Javascript object>"
      ]
     },
     "metadata": {},
     "output_type": "display_data"
    }
   ],
   "source": [
    "model.compile(optimizer=optimizers.RMSprop(learning_rate=0.0001), loss=\"mse\")"
   ]
  },
  {
   "cell_type": "markdown",
   "id": "26cb2b0d",
   "metadata": {},
   "source": [
    "### Addestramento"
   ]
  },
  {
   "cell_type": "code",
   "execution_count": 25,
   "id": "3675a5b3",
   "metadata": {},
   "outputs": [
    {
     "name": "stdout",
     "output_type": "stream",
     "text": [
      "Epoch 1/10\n",
      "100/100 [==============================] - 11s 110ms/step - loss: 0.5390\n",
      "Epoch 2/10\n",
      "100/100 [==============================] - 9s 94ms/step - loss: 0.3579\n",
      "Epoch 3/10\n",
      "100/100 [==============================] - 8s 79ms/step - loss: 0.2727\n",
      "Epoch 4/10\n",
      "100/100 [==============================] - 11s 107ms/step - loss: 0.2330\n",
      "Epoch 5/10\n",
      "100/100 [==============================] - 10s 105ms/step - loss: 0.2290\n",
      "Epoch 6/10\n",
      "100/100 [==============================] - 13s 126ms/step - loss: 0.2255\n",
      "Epoch 7/10\n",
      "100/100 [==============================] - 13s 132ms/step - loss: 0.2377\n",
      "Epoch 8/10\n",
      "100/100 [==============================] - 8s 76ms/step - loss: 0.2388\n",
      "Epoch 9/10\n",
      "100/100 [==============================] - 11s 108ms/step - loss: 0.2350\n",
      "Epoch 10/10\n",
      "100/100 [==============================] - 11s 110ms/step - loss: 0.2377\n"
     ]
    },
    {
     "data": {
      "text/plain": [
       "<keras.callbacks.callbacks.History at 0x7faa94443f70>"
      ]
     },
     "execution_count": 25,
     "metadata": {},
     "output_type": "execute_result"
    },
    {
     "data": {
      "application/javascript": [
       "\n",
       "            setTimeout(function() {\n",
       "                var nbb_cell_id = 25;\n",
       "                var nbb_unformatted_code = \"model.fit(generator, steps_per_epoch=100, epochs=10)\";\n",
       "                var nbb_formatted_code = \"model.fit(generator, steps_per_epoch=100, epochs=10)\";\n",
       "                var nbb_cells = Jupyter.notebook.get_cells();\n",
       "                for (var i = 0; i < nbb_cells.length; ++i) {\n",
       "                    if (nbb_cells[i].input_prompt_number == nbb_cell_id) {\n",
       "                        if (nbb_cells[i].get_text() == nbb_unformatted_code) {\n",
       "                             nbb_cells[i].set_text(nbb_formatted_code);\n",
       "                        }\n",
       "                        break;\n",
       "                    }\n",
       "                }\n",
       "            }, 500);\n",
       "            "
      ],
      "text/plain": [
       "<IPython.core.display.Javascript object>"
      ]
     },
     "metadata": {},
     "output_type": "display_data"
    }
   ],
   "source": [
    "model.fit(generator, steps_per_epoch=100, epochs=10)"
   ]
  },
  {
   "cell_type": "markdown",
   "id": "79d923a2",
   "metadata": {},
   "source": [
    "### Previsione"
   ]
  },
  {
   "cell_type": "code",
   "execution_count": 26,
   "id": "bdee0dab",
   "metadata": {},
   "outputs": [
    {
     "data": {
      "text/plain": [
       "array([[-1.00044445, -0.89083416, -1.32723213, -1.84836881, -1.91506627,\n",
       "        -1.40595591, -0.72906417, -0.44667494, -0.7583683 , -1.31752754,\n",
       "        -1.55001698, -1.18203962]])"
      ]
     },
     "execution_count": 26,
     "metadata": {},
     "output_type": "execute_result"
    },
    {
     "data": {
      "application/javascript": [
       "\n",
       "            setTimeout(function() {\n",
       "                var nbb_cell_id = 26;\n",
       "                var nbb_unformatted_code = \"inputs[:12].reshape(1, 12)\";\n",
       "                var nbb_formatted_code = \"inputs[:12].reshape(1, 12)\";\n",
       "                var nbb_cells = Jupyter.notebook.get_cells();\n",
       "                for (var i = 0; i < nbb_cells.length; ++i) {\n",
       "                    if (nbb_cells[i].input_prompt_number == nbb_cell_id) {\n",
       "                        if (nbb_cells[i].get_text() == nbb_unformatted_code) {\n",
       "                             nbb_cells[i].set_text(nbb_formatted_code);\n",
       "                        }\n",
       "                        break;\n",
       "                    }\n",
       "                }\n",
       "            }, 500);\n",
       "            "
      ],
      "text/plain": [
       "<IPython.core.display.Javascript object>"
      ]
     },
     "metadata": {},
     "output_type": "display_data"
    }
   ],
   "source": [
    "inputs[:12].reshape(1, 12)"
   ]
  },
  {
   "cell_type": "code",
   "execution_count": 27,
   "id": "602058d9",
   "metadata": {},
   "outputs": [
    {
     "data": {
      "text/plain": [
       "array([-0.49186489])"
      ]
     },
     "execution_count": 27,
     "metadata": {},
     "output_type": "execute_result"
    },
    {
     "data": {
      "application/javascript": [
       "\n",
       "            setTimeout(function() {\n",
       "                var nbb_cell_id = 27;\n",
       "                var nbb_unformatted_code = \"inputs[12]\";\n",
       "                var nbb_formatted_code = \"inputs[12]\";\n",
       "                var nbb_cells = Jupyter.notebook.get_cells();\n",
       "                for (var i = 0; i < nbb_cells.length; ++i) {\n",
       "                    if (nbb_cells[i].input_prompt_number == nbb_cell_id) {\n",
       "                        if (nbb_cells[i].get_text() == nbb_unformatted_code) {\n",
       "                             nbb_cells[i].set_text(nbb_formatted_code);\n",
       "                        }\n",
       "                        break;\n",
       "                    }\n",
       "                }\n",
       "            }, 500);\n",
       "            "
      ],
      "text/plain": [
       "<IPython.core.display.Javascript object>"
      ]
     },
     "metadata": {},
     "output_type": "display_data"
    }
   ],
   "source": [
    "inputs[12]"
   ]
  },
  {
   "cell_type": "code",
   "execution_count": 28,
   "id": "cdae7901",
   "metadata": {},
   "outputs": [
    {
     "data": {
      "text/plain": [
       "array([[-0.4625245]], dtype=float32)"
      ]
     },
     "execution_count": 28,
     "metadata": {},
     "output_type": "execute_result"
    },
    {
     "data": {
      "application/javascript": [
       "\n",
       "            setTimeout(function() {\n",
       "                var nbb_cell_id = 28;\n",
       "                var nbb_unformatted_code = \"model.predict(inputs[:12].reshape(1, 12, 1))\";\n",
       "                var nbb_formatted_code = \"model.predict(inputs[:12].reshape(1, 12, 1))\";\n",
       "                var nbb_cells = Jupyter.notebook.get_cells();\n",
       "                for (var i = 0; i < nbb_cells.length; ++i) {\n",
       "                    if (nbb_cells[i].input_prompt_number == nbb_cell_id) {\n",
       "                        if (nbb_cells[i].get_text() == nbb_unformatted_code) {\n",
       "                             nbb_cells[i].set_text(nbb_formatted_code);\n",
       "                        }\n",
       "                        break;\n",
       "                    }\n",
       "                }\n",
       "            }, 500);\n",
       "            "
      ],
      "text/plain": [
       "<IPython.core.display.Javascript object>"
      ]
     },
     "metadata": {},
     "output_type": "display_data"
    }
   ],
   "source": [
    "model.predict(inputs[:12].reshape(1, 12, 1))"
   ]
  },
  {
   "cell_type": "code",
   "execution_count": null,
   "id": "26a9c670",
   "metadata": {},
   "outputs": [],
   "source": []
  },
  {
   "cell_type": "code",
   "execution_count": null,
   "id": "80a4666f",
   "metadata": {},
   "outputs": [],
   "source": []
  },
  {
   "cell_type": "code",
   "execution_count": null,
   "id": "2a326cd9",
   "metadata": {},
   "outputs": [],
   "source": []
  },
  {
   "cell_type": "code",
   "execution_count": null,
   "id": "f796b3ab",
   "metadata": {},
   "outputs": [],
   "source": []
  }
 ],
 "metadata": {
  "kernelspec": {
   "display_name": "Python 3",
   "language": "python",
   "name": "python3"
  },
  "language_info": {
   "codemirror_mode": {
    "name": "ipython",
    "version": 3
   },
   "file_extension": ".py",
   "mimetype": "text/x-python",
   "name": "python",
   "nbconvert_exporter": "python",
   "pygments_lexer": "ipython3",
   "version": "3.8.5"
  }
 },
 "nbformat": 4,
 "nbformat_minor": 5
}
