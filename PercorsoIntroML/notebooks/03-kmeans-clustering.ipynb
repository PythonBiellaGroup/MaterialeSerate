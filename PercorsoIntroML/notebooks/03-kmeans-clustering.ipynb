{
 "cells": [
  {
   "cell_type": "markdown",
   "id": "e5569a9e-602f-41fb-9d16-0ec990d08d86",
   "metadata": {},
   "source": [
    "# INFO\n",
    "In this notebook, we will use k-means clustering to identify clusters on top of PCA components.\n",
    "\n",
    "To do this, we will first use these principal components to the k-means algorithm and determine the best number of clusters, then we will analyze the clusters."
   ]
  },
  {
   "cell_type": "markdown",
   "id": "6518d07e-7e3f-4dd4-8702-9992cf346869",
   "metadata": {},
   "source": [
    "#### install plotly\n",
    "for interactive plots"
   ]
  },
  {
   "cell_type": "code",
   "execution_count": 1,
   "id": "d6e9e52d-bc64-40b8-9097-f11b689fa801",
   "metadata": {},
   "outputs": [
    {
     "name": "stdout",
     "output_type": "stream",
     "text": [
      "Collecting package metadata (current_repodata.json): ...working... done\n",
      "Solving environment: ...working... done\n",
      "\n",
      "# All requested packages already installed.\n",
      "\n"
     ]
    },
    {
     "name": "stderr",
     "output_type": "stream",
     "text": [
      "\n",
      "\n",
      "==> WARNING: A newer version of conda exists. <==\n",
      "  current version: 4.10.3\n",
      "  latest version: 4.11.0\n",
      "\n",
      "Please update conda by running\n",
      "\n",
      "    $ conda update -n base -c defaults conda\n",
      "\n",
      "\n"
     ]
    }
   ],
   "source": [
    "!conda install plotly=5.1.0 nbformat=5.1.3 --yes"
   ]
  },
  {
   "cell_type": "markdown",
   "id": "f3e2e34e-988e-4e8e-8152-006c603c59d3",
   "metadata": {},
   "source": [
    "#### import"
   ]
  },
  {
   "cell_type": "code",
   "execution_count": 2,
   "id": "a6d44957-6c85-407f-a91c-77c98601c97a",
   "metadata": {},
   "outputs": [],
   "source": [
    "import pandas as pd"
   ]
  },
  {
   "cell_type": "code",
   "execution_count": 3,
   "id": "e99d2aa9-8ace-43bc-bde6-fd2f6fadd683",
   "metadata": {},
   "outputs": [],
   "source": [
    "import matplotlib.pyplot as plt\n",
    "import plotly.graph_objects as go"
   ]
  },
  {
   "cell_type": "code",
   "execution_count": 4,
   "id": "ffdd9863-a0de-4c30-80a3-f3337d94ed47",
   "metadata": {},
   "outputs": [],
   "source": [
    "from sklearn.cluster import KMeans\n",
    "from sklearn.decomposition import PCA\n",
    "from sklearn.preprocessing import StandardScaler"
   ]
  },
  {
   "cell_type": "markdown",
   "id": "5355eab6-8f91-4e73-80ea-c923b48850c6",
   "metadata": {},
   "source": [
    "#### load data"
   ]
  },
  {
   "cell_type": "code",
   "execution_count": 5,
   "id": "a18e9b21-a260-4cbc-9877-e5cf85f2fbc5",
   "metadata": {},
   "outputs": [],
   "source": [
    "df = pd.read_pickle(\"../data/nutrition_survey/data_with_pca.pkl\")"
   ]
  },
  {
   "cell_type": "code",
   "execution_count": 6,
   "id": "b8afed2b-545b-4005-a9b8-91d178d30b35",
   "metadata": {},
   "outputs": [
    {
     "data": {
      "text/html": [
       "<div>\n",
       "<style scoped>\n",
       "    .dataframe tbody tr th:only-of-type {\n",
       "        vertical-align: middle;\n",
       "    }\n",
       "\n",
       "    .dataframe tbody tr th {\n",
       "        vertical-align: top;\n",
       "    }\n",
       "\n",
       "    .dataframe thead th {\n",
       "        text-align: right;\n",
       "    }\n",
       "</style>\n",
       "<table border=\"1\" class=\"dataframe\">\n",
       "  <thead>\n",
       "    <tr style=\"text-align: right;\">\n",
       "      <th></th>\n",
       "      <th>PCA1</th>\n",
       "      <th>PCA2</th>\n",
       "      <th>PCA3</th>\n",
       "      <th>PCA4</th>\n",
       "      <th>PCA5</th>\n",
       "      <th>PCA6</th>\n",
       "      <th>PCA7</th>\n",
       "      <th>RIDSTATR</th>\n",
       "      <th>RIAGENDR</th>\n",
       "      <th>RIDAGEYR</th>\n",
       "      <th>...</th>\n",
       "      <th>SMDANY</th>\n",
       "      <th>SMAQUEX.y</th>\n",
       "      <th>WHD010</th>\n",
       "      <th>WHD020</th>\n",
       "      <th>WHQ030</th>\n",
       "      <th>WHQ040</th>\n",
       "      <th>WHD050</th>\n",
       "      <th>WHQ070</th>\n",
       "      <th>WHD140</th>\n",
       "      <th>WHQ150</th>\n",
       "    </tr>\n",
       "    <tr>\n",
       "      <th>SEQN</th>\n",
       "      <th></th>\n",
       "      <th></th>\n",
       "      <th></th>\n",
       "      <th></th>\n",
       "      <th></th>\n",
       "      <th></th>\n",
       "      <th></th>\n",
       "      <th></th>\n",
       "      <th></th>\n",
       "      <th></th>\n",
       "      <th></th>\n",
       "      <th></th>\n",
       "      <th></th>\n",
       "      <th></th>\n",
       "      <th></th>\n",
       "      <th></th>\n",
       "      <th></th>\n",
       "      <th></th>\n",
       "      <th></th>\n",
       "      <th></th>\n",
       "      <th></th>\n",
       "    </tr>\n",
       "  </thead>\n",
       "  <tbody>\n",
       "    <tr>\n",
       "      <th>73557</th>\n",
       "      <td>5.897396</td>\n",
       "      <td>-10.253015</td>\n",
       "      <td>8.792921</td>\n",
       "      <td>2.208200</td>\n",
       "      <td>3.479974</td>\n",
       "      <td>-3.879677</td>\n",
       "      <td>-0.521180</td>\n",
       "      <td>2</td>\n",
       "      <td>1</td>\n",
       "      <td>69</td>\n",
       "      <td>...</td>\n",
       "      <td>1.0</td>\n",
       "      <td>2.0</td>\n",
       "      <td>69.0</td>\n",
       "      <td>180.0</td>\n",
       "      <td>3.0</td>\n",
       "      <td>3.0</td>\n",
       "      <td>210.0</td>\n",
       "      <td>NaN</td>\n",
       "      <td>270.0</td>\n",
       "      <td>62.0</td>\n",
       "    </tr>\n",
       "    <tr>\n",
       "      <th>73558</th>\n",
       "      <td>13.830025</td>\n",
       "      <td>12.525351</td>\n",
       "      <td>11.213923</td>\n",
       "      <td>0.702220</td>\n",
       "      <td>-0.903324</td>\n",
       "      <td>2.168469</td>\n",
       "      <td>4.427836</td>\n",
       "      <td>2</td>\n",
       "      <td>1</td>\n",
       "      <td>54</td>\n",
       "      <td>...</td>\n",
       "      <td>1.0</td>\n",
       "      <td>2.0</td>\n",
       "      <td>71.0</td>\n",
       "      <td>200.0</td>\n",
       "      <td>3.0</td>\n",
       "      <td>3.0</td>\n",
       "      <td>160.0</td>\n",
       "      <td>2.0</td>\n",
       "      <td>250.0</td>\n",
       "      <td>25.0</td>\n",
       "    </tr>\n",
       "    <tr>\n",
       "      <th>73559</th>\n",
       "      <td>6.722035</td>\n",
       "      <td>-1.840032</td>\n",
       "      <td>-1.957163</td>\n",
       "      <td>-4.283048</td>\n",
       "      <td>3.023512</td>\n",
       "      <td>0.401800</td>\n",
       "      <td>-2.876164</td>\n",
       "      <td>2</td>\n",
       "      <td>1</td>\n",
       "      <td>72</td>\n",
       "      <td>...</td>\n",
       "      <td>2.0</td>\n",
       "      <td>2.0</td>\n",
       "      <td>70.0</td>\n",
       "      <td>195.0</td>\n",
       "      <td>3.0</td>\n",
       "      <td>2.0</td>\n",
       "      <td>195.0</td>\n",
       "      <td>2.0</td>\n",
       "      <td>228.0</td>\n",
       "      <td>35.0</td>\n",
       "    </tr>\n",
       "    <tr>\n",
       "      <th>73560</th>\n",
       "      <td>-6.496596</td>\n",
       "      <td>2.269491</td>\n",
       "      <td>0.605488</td>\n",
       "      <td>2.677176</td>\n",
       "      <td>3.839537</td>\n",
       "      <td>0.174182</td>\n",
       "      <td>0.102453</td>\n",
       "      <td>2</td>\n",
       "      <td>1</td>\n",
       "      <td>9</td>\n",
       "      <td>...</td>\n",
       "      <td>NaN</td>\n",
       "      <td>NaN</td>\n",
       "      <td>NaN</td>\n",
       "      <td>NaN</td>\n",
       "      <td>NaN</td>\n",
       "      <td>NaN</td>\n",
       "      <td>NaN</td>\n",
       "      <td>NaN</td>\n",
       "      <td>NaN</td>\n",
       "      <td>NaN</td>\n",
       "    </tr>\n",
       "    <tr>\n",
       "      <th>73561</th>\n",
       "      <td>4.973716</td>\n",
       "      <td>-5.726621</td>\n",
       "      <td>3.463663</td>\n",
       "      <td>1.851903</td>\n",
       "      <td>7.050696</td>\n",
       "      <td>0.809858</td>\n",
       "      <td>-0.347530</td>\n",
       "      <td>2</td>\n",
       "      <td>2</td>\n",
       "      <td>73</td>\n",
       "      <td>...</td>\n",
       "      <td>2.0</td>\n",
       "      <td>2.0</td>\n",
       "      <td>67.0</td>\n",
       "      <td>120.0</td>\n",
       "      <td>2.0</td>\n",
       "      <td>1.0</td>\n",
       "      <td>150.0</td>\n",
       "      <td>2.0</td>\n",
       "      <td>170.0</td>\n",
       "      <td>60.0</td>\n",
       "    </tr>\n",
       "  </tbody>\n",
       "</table>\n",
       "<p>5 rows × 554 columns</p>\n",
       "</div>"
      ],
      "text/plain": [
       "            PCA1       PCA2       PCA3      PCA4      PCA5      PCA6  \\\n",
       "SEQN                                                                   \n",
       "73557   5.897396 -10.253015   8.792921  2.208200  3.479974 -3.879677   \n",
       "73558  13.830025  12.525351  11.213923  0.702220 -0.903324  2.168469   \n",
       "73559   6.722035  -1.840032  -1.957163 -4.283048  3.023512  0.401800   \n",
       "73560  -6.496596   2.269491   0.605488  2.677176  3.839537  0.174182   \n",
       "73561   4.973716  -5.726621   3.463663  1.851903  7.050696  0.809858   \n",
       "\n",
       "           PCA7  RIDSTATR  RIAGENDR  RIDAGEYR  ...  SMDANY  SMAQUEX.y  WHD010  \\\n",
       "SEQN                                           ...                              \n",
       "73557 -0.521180         2         1        69  ...     1.0        2.0    69.0   \n",
       "73558  4.427836         2         1        54  ...     1.0        2.0    71.0   \n",
       "73559 -2.876164         2         1        72  ...     2.0        2.0    70.0   \n",
       "73560  0.102453         2         1         9  ...     NaN        NaN     NaN   \n",
       "73561 -0.347530         2         2        73  ...     2.0        2.0    67.0   \n",
       "\n",
       "       WHD020  WHQ030  WHQ040  WHD050  WHQ070  WHD140  WHQ150  \n",
       "SEQN                                                           \n",
       "73557   180.0     3.0     3.0   210.0     NaN   270.0    62.0  \n",
       "73558   200.0     3.0     3.0   160.0     2.0   250.0    25.0  \n",
       "73559   195.0     3.0     2.0   195.0     2.0   228.0    35.0  \n",
       "73560     NaN     NaN     NaN     NaN     NaN     NaN     NaN  \n",
       "73561   120.0     2.0     1.0   150.0     2.0   170.0    60.0  \n",
       "\n",
       "[5 rows x 554 columns]"
      ]
     },
     "execution_count": 6,
     "metadata": {},
     "output_type": "execute_result"
    }
   ],
   "source": [
    "df.head()"
   ]
  },
  {
   "cell_type": "code",
   "execution_count": 7,
   "id": "b0e81c5d-1f11-4b85-b905-e8f6aa4e8a6f",
   "metadata": {},
   "outputs": [
    {
     "data": {
      "text/html": [
       "<div>\n",
       "<style scoped>\n",
       "    .dataframe tbody tr th:only-of-type {\n",
       "        vertical-align: middle;\n",
       "    }\n",
       "\n",
       "    .dataframe tbody tr th {\n",
       "        vertical-align: top;\n",
       "    }\n",
       "\n",
       "    .dataframe thead th {\n",
       "        text-align: right;\n",
       "    }\n",
       "</style>\n",
       "<table border=\"1\" class=\"dataframe\">\n",
       "  <thead>\n",
       "    <tr style=\"text-align: right;\">\n",
       "      <th></th>\n",
       "      <th>PCA1</th>\n",
       "      <th>PCA2</th>\n",
       "      <th>PCA3</th>\n",
       "      <th>PCA4</th>\n",
       "      <th>PCA5</th>\n",
       "      <th>PCA6</th>\n",
       "      <th>PCA7</th>\n",
       "    </tr>\n",
       "    <tr>\n",
       "      <th>SEQN</th>\n",
       "      <th></th>\n",
       "      <th></th>\n",
       "      <th></th>\n",
       "      <th></th>\n",
       "      <th></th>\n",
       "      <th></th>\n",
       "      <th></th>\n",
       "    </tr>\n",
       "  </thead>\n",
       "  <tbody>\n",
       "    <tr>\n",
       "      <th>73557</th>\n",
       "      <td>5.897396</td>\n",
       "      <td>-10.253015</td>\n",
       "      <td>8.792921</td>\n",
       "      <td>2.208200</td>\n",
       "      <td>3.479974</td>\n",
       "      <td>-3.879677</td>\n",
       "      <td>-0.521180</td>\n",
       "    </tr>\n",
       "    <tr>\n",
       "      <th>73558</th>\n",
       "      <td>13.830025</td>\n",
       "      <td>12.525351</td>\n",
       "      <td>11.213923</td>\n",
       "      <td>0.702220</td>\n",
       "      <td>-0.903324</td>\n",
       "      <td>2.168469</td>\n",
       "      <td>4.427836</td>\n",
       "    </tr>\n",
       "    <tr>\n",
       "      <th>73559</th>\n",
       "      <td>6.722035</td>\n",
       "      <td>-1.840032</td>\n",
       "      <td>-1.957163</td>\n",
       "      <td>-4.283048</td>\n",
       "      <td>3.023512</td>\n",
       "      <td>0.401800</td>\n",
       "      <td>-2.876164</td>\n",
       "    </tr>\n",
       "    <tr>\n",
       "      <th>73560</th>\n",
       "      <td>-6.496596</td>\n",
       "      <td>2.269491</td>\n",
       "      <td>0.605488</td>\n",
       "      <td>2.677176</td>\n",
       "      <td>3.839537</td>\n",
       "      <td>0.174182</td>\n",
       "      <td>0.102453</td>\n",
       "    </tr>\n",
       "    <tr>\n",
       "      <th>73561</th>\n",
       "      <td>4.973716</td>\n",
       "      <td>-5.726621</td>\n",
       "      <td>3.463663</td>\n",
       "      <td>1.851903</td>\n",
       "      <td>7.050696</td>\n",
       "      <td>0.809858</td>\n",
       "      <td>-0.347530</td>\n",
       "    </tr>\n",
       "  </tbody>\n",
       "</table>\n",
       "</div>"
      ],
      "text/plain": [
       "            PCA1       PCA2       PCA3      PCA4      PCA5      PCA6      PCA7\n",
       "SEQN                                                                          \n",
       "73557   5.897396 -10.253015   8.792921  2.208200  3.479974 -3.879677 -0.521180\n",
       "73558  13.830025  12.525351  11.213923  0.702220 -0.903324  2.168469  4.427836\n",
       "73559   6.722035  -1.840032  -1.957163 -4.283048  3.023512  0.401800 -2.876164\n",
       "73560  -6.496596   2.269491   0.605488  2.677176  3.839537  0.174182  0.102453\n",
       "73561   4.973716  -5.726621   3.463663  1.851903  7.050696  0.809858 -0.347530"
      ]
     },
     "execution_count": 7,
     "metadata": {},
     "output_type": "execute_result"
    }
   ],
   "source": [
    "pca_columns = [x for x in df.columns if x.startswith(\"PCA\")]\n",
    "df[pca_columns].head()"
   ]
  },
  {
   "cell_type": "code",
   "execution_count": 8,
   "id": "9009d2d2-0d43-4ab3-98ea-da94c92216bb",
   "metadata": {},
   "outputs": [
    {
     "data": {
      "text/html": [
       "<div>\n",
       "<style scoped>\n",
       "    .dataframe tbody tr th:only-of-type {\n",
       "        vertical-align: middle;\n",
       "    }\n",
       "\n",
       "    .dataframe tbody tr th {\n",
       "        vertical-align: top;\n",
       "    }\n",
       "\n",
       "    .dataframe thead th {\n",
       "        text-align: right;\n",
       "    }\n",
       "</style>\n",
       "<table border=\"1\" class=\"dataframe\">\n",
       "  <thead>\n",
       "    <tr style=\"text-align: right;\">\n",
       "      <th></th>\n",
       "      <th>PCA1</th>\n",
       "      <th>PCA2</th>\n",
       "      <th>PCA3</th>\n",
       "      <th>PCA4</th>\n",
       "      <th>PCA5</th>\n",
       "      <th>PCA6</th>\n",
       "      <th>PCA7</th>\n",
       "    </tr>\n",
       "  </thead>\n",
       "  <tbody>\n",
       "    <tr>\n",
       "      <th>count</th>\n",
       "      <td>1.017500e+04</td>\n",
       "      <td>1.017500e+04</td>\n",
       "      <td>1.017500e+04</td>\n",
       "      <td>1.017500e+04</td>\n",
       "      <td>1.017500e+04</td>\n",
       "      <td>1.017500e+04</td>\n",
       "      <td>1.017500e+04</td>\n",
       "    </tr>\n",
       "    <tr>\n",
       "      <th>mean</th>\n",
       "      <td>6.778962e-16</td>\n",
       "      <td>-2.149959e-16</td>\n",
       "      <td>-5.831753e-16</td>\n",
       "      <td>-1.007766e-16</td>\n",
       "      <td>4.950231e-16</td>\n",
       "      <td>7.741773e-16</td>\n",
       "      <td>2.539765e-16</td>\n",
       "    </tr>\n",
       "    <tr>\n",
       "      <th>std</th>\n",
       "      <td>6.589721e+00</td>\n",
       "      <td>4.992682e+00</td>\n",
       "      <td>4.278462e+00</td>\n",
       "      <td>3.277225e+00</td>\n",
       "      <td>3.181067e+00</td>\n",
       "      <td>2.946483e+00</td>\n",
       "      <td>2.656381e+00</td>\n",
       "    </tr>\n",
       "    <tr>\n",
       "      <th>min</th>\n",
       "      <td>-1.503876e+01</td>\n",
       "      <td>-1.813283e+01</td>\n",
       "      <td>-9.073109e+00</td>\n",
       "      <td>-9.813847e+00</td>\n",
       "      <td>-1.325346e+01</td>\n",
       "      <td>-1.270216e+01</td>\n",
       "      <td>-8.637589e+00</td>\n",
       "    </tr>\n",
       "    <tr>\n",
       "      <th>25%</th>\n",
       "      <td>-4.862492e+00</td>\n",
       "      <td>-2.770867e+00</td>\n",
       "      <td>-3.498171e+00</td>\n",
       "      <td>-2.356759e+00</td>\n",
       "      <td>-1.987074e+00</td>\n",
       "      <td>-1.597313e+00</td>\n",
       "      <td>-1.706247e+00</td>\n",
       "    </tr>\n",
       "    <tr>\n",
       "      <th>50%</th>\n",
       "      <td>1.403361e+00</td>\n",
       "      <td>-3.497392e-02</td>\n",
       "      <td>-8.564831e-01</td>\n",
       "      <td>2.508839e-02</td>\n",
       "      <td>1.564430e-01</td>\n",
       "      <td>-9.478822e-02</td>\n",
       "      <td>-3.567236e-01</td>\n",
       "    </tr>\n",
       "    <tr>\n",
       "      <th>75%</th>\n",
       "      <td>4.878300e+00</td>\n",
       "      <td>2.831875e+00</td>\n",
       "      <td>3.107175e+00</td>\n",
       "      <td>2.241357e+00</td>\n",
       "      <td>2.068674e+00</td>\n",
       "      <td>1.685878e+00</td>\n",
       "      <td>1.105737e+00</td>\n",
       "    </tr>\n",
       "    <tr>\n",
       "      <th>max</th>\n",
       "      <td>2.852607e+01</td>\n",
       "      <td>4.393273e+01</td>\n",
       "      <td>2.024711e+01</td>\n",
       "      <td>1.078348e+01</td>\n",
       "      <td>1.874279e+01</td>\n",
       "      <td>1.286913e+01</td>\n",
       "      <td>2.641839e+01</td>\n",
       "    </tr>\n",
       "  </tbody>\n",
       "</table>\n",
       "</div>"
      ],
      "text/plain": [
       "               PCA1          PCA2          PCA3          PCA4          PCA5  \\\n",
       "count  1.017500e+04  1.017500e+04  1.017500e+04  1.017500e+04  1.017500e+04   \n",
       "mean   6.778962e-16 -2.149959e-16 -5.831753e-16 -1.007766e-16  4.950231e-16   \n",
       "std    6.589721e+00  4.992682e+00  4.278462e+00  3.277225e+00  3.181067e+00   \n",
       "min   -1.503876e+01 -1.813283e+01 -9.073109e+00 -9.813847e+00 -1.325346e+01   \n",
       "25%   -4.862492e+00 -2.770867e+00 -3.498171e+00 -2.356759e+00 -1.987074e+00   \n",
       "50%    1.403361e+00 -3.497392e-02 -8.564831e-01  2.508839e-02  1.564430e-01   \n",
       "75%    4.878300e+00  2.831875e+00  3.107175e+00  2.241357e+00  2.068674e+00   \n",
       "max    2.852607e+01  4.393273e+01  2.024711e+01  1.078348e+01  1.874279e+01   \n",
       "\n",
       "               PCA6          PCA7  \n",
       "count  1.017500e+04  1.017500e+04  \n",
       "mean   7.741773e-16  2.539765e-16  \n",
       "std    2.946483e+00  2.656381e+00  \n",
       "min   -1.270216e+01 -8.637589e+00  \n",
       "25%   -1.597313e+00 -1.706247e+00  \n",
       "50%   -9.478822e-02 -3.567236e-01  \n",
       "75%    1.685878e+00  1.105737e+00  \n",
       "max    1.286913e+01  2.641839e+01  "
      ]
     },
     "execution_count": 8,
     "metadata": {},
     "output_type": "execute_result"
    }
   ],
   "source": [
    "df[pca_columns].describe()"
   ]
  },
  {
   "cell_type": "markdown",
   "id": "eb0f37f2-6080-4932-8091-e17da40b30ae",
   "metadata": {},
   "source": [
    "## CLUSTERING\n",
    "**Clustering** is the task of grouping a set of objects in such a way that objects in the same group (called a cluster) are more similar (in some sense) to each other than to those in other groups (clusters).\n",
    "\n",
    "Clustering of unlabeled data can be performed with the module [sklearn.cluster](https://scikit-learn.org/stable/modules/classes.html#module-sklearn.cluster)."
   ]
  },
  {
   "cell_type": "markdown",
   "id": "ea109e34-8222-4acc-a697-0d59a861f4bb",
   "metadata": {},
   "source": [
    "### K-MEANS\n",
    "\n",
    "![](./img/kmeans-steps.png)\n",
    "\n",
    "The difference between the old and the new centroids are computed and the algorithm repeats these last two steps until this value is less than a threshold. In other words, it repeats until the centroids do not move significantly.\n",
    "\n",
    "\n",
    "![](./img/kmeans-animation.gif)\n",
    "\n",
    "*Credits:* [https://towardsdatascience.com/into-to-pca-k-means-clustering-unsupervised-learning-algorithms-5cc5acea274d](https://towardsdatascience.com/into-to-pca-k-means-clustering-unsupervised-learning-algorithms-5cc5acea274d)\n"
   ]
  },
  {
   "cell_type": "markdown",
   "id": "706a3a23-eafb-4bbf-a9cd-5367db2cb613",
   "metadata": {},
   "source": [
    "The K-means algorithm aims to choose centroids that minimise the inertia, or within-cluster sum-of-squares criterion:\n",
    "\n",
    "![](./img/kmeans-inertia.jpg)\n",
    " \n",
    "Inertia can be recognized as a measure of how internally coherent clusters are. \n",
    "\n",
    "It suffers from various drawbacks:\n",
    "- Inertia makes the assumption that clusters are convex and isotropic, which is not always the case. It responds poorly to elongated clusters, or manifolds with irregular shapes.\n",
    "- Inertia is not a normalized metric: we just know that lower values are better and zero is optimal. But in very high-dimensional spaces, Euclidean distances tend to become inflated (this is an instance of the so-called *curse of dimensionality*). \n",
    "Running a dimensionality reduction algorithm such as Principal component analysis (PCA) prior to k-means clustering can alleviate this problem and speed up the computations."
   ]
  },
  {
   "cell_type": "markdown",
   "id": "257a8660-3324-4ee7-ad4a-9b15a496aacd",
   "metadata": {},
   "source": [
    "###### PRO\n",
    "- Fast / efficient\n",
    "- Easy to understand\n",
    "- Good results when the data are well separated from each other\n",
    "\n",
    "###### CONS\n",
    "- Requires apriori specification of the number of clusters (partially solved by inertia/silhouette_score *elbow method*)\n",
    "- If there are two highly overlapping data, then k-means will not be able to resolve that there are two clusters\n",
    "- Unable to handle noisy data and outliers\n",
    "- Randomly choosing the cluster center can lead us to suboptimal results (partially solved by *k-means++* initialization)\n",
    "- Applicable only when mean is defined, i.e., fails for categorical data\n",
    "\n",
    "###### COMPARISON WITH OTHER CLUSTERING ALGORITHMS\n",
    "[https://scikit-learn.org/stable/modules/clustering.html](https://scikit-learn.org/stable/modules/clustering.html)"
   ]
  },
  {
   "cell_type": "code",
   "execution_count": null,
   "id": "8a671aef-1d3d-4cf7-8a39-5c05ec694b2b",
   "metadata": {},
   "outputs": [],
   "source": []
  },
  {
   "cell_type": "markdown",
   "id": "c6b159e9-c132-45a9-8b83-497346fb6201",
   "metadata": {},
   "source": [
    "#### Inertia *Elbow Method*\n",
    "Determining the ideal number of clusters for our k-means model can be done by measuring the sum of the squared distances to the nearest cluster center aka *inertia*, function of the number of clusters."
   ]
  },
  {
   "cell_type": "code",
   "execution_count": 9,
   "id": "91ab84ba-baac-4fab-b990-24e4cabf4a7b",
   "metadata": {},
   "outputs": [
    {
     "data": {
      "image/png": "[encoded data removed]",
      "text/plain": [
       "<Figure size 432x288 with 1 Axes>"
      ]
     },
     "metadata": {
      "needs_background": "light"
     },
     "output_type": "display_data"
    }
   ],
   "source": [
    "ks = range(1, 10)\n",
    "inertias = []\n",
    "for k in ks:\n",
    "    # Create a KMeans instance with k clusters: model\n",
    "    model = KMeans(n_clusters=k, init='k-means++', n_init=10, max_iter=300, tol=0.0001, random_state=42)\n",
    "    \n",
    "    # Fit model to samples\n",
    "    model.fit(df[pca_columns])\n",
    "    \n",
    "    # Append the inertia to the list of inertias\n",
    "    inertias.append(model.inertia_)\n",
    "    \n",
    "plt.plot(ks, inertias, '-o', color='black')\n",
    "plt.xlabel('number of clusters, k')\n",
    "plt.ylabel('inertia')\n",
    "plt.xticks(ks)\n",
    "plt.show()"
   ]
  },
  {
   "cell_type": "code",
   "execution_count": null,
   "id": "bb6265a4-92d0-452f-a16c-841592ee67b0",
   "metadata": {},
   "outputs": [],
   "source": []
  },
  {
   "cell_type": "code",
   "execution_count": null,
   "id": "0b1bc86a-5b1b-46eb-8e97-ec6ec30ef4a4",
   "metadata": {},
   "outputs": [],
   "source": []
  },
  {
   "cell_type": "markdown",
   "id": "2b3b960b-45c2-4dce-a8c8-79e67ba13471",
   "metadata": {},
   "source": [
    "### Final K-Means Pipeline"
   ]
  },
  {
   "cell_type": "code",
   "execution_count": 10,
   "id": "d3c92baf-e8dd-48cf-b456-fac6f98debff",
   "metadata": {},
   "outputs": [],
   "source": [
    "K = 4"
   ]
  },
  {
   "cell_type": "code",
   "execution_count": 11,
   "id": "4bfb49dd-c5b0-4625-b8dd-27d74d56ca62",
   "metadata": {},
   "outputs": [
    {
     "data": {
      "text/plain": [
       "KMeans(n_clusters=4, random_state=42)"
      ]
     },
     "execution_count": 11,
     "metadata": {},
     "output_type": "execute_result"
    }
   ],
   "source": [
    "# Create a KMeans instance with k clusters: model\n",
    "model = KMeans(n_clusters=K, init='k-means++', n_init=10, max_iter=300, tol=0.0001, random_state=42)\n",
    "\n",
    "# Fit model to samples\n",
    "model.fit(df[pca_columns])"
   ]
  },
  {
   "cell_type": "code",
   "execution_count": 12,
   "id": "13077806-f216-426f-8f0a-0713b38ff2f3",
   "metadata": {},
   "outputs": [],
   "source": [
    "labels=model.labels_\n",
    "centers=model.cluster_centers_"
   ]
  },
  {
   "cell_type": "code",
   "execution_count": 13,
   "id": "fdf761e1-3bf2-4493-82db-dc412e6e3710",
   "metadata": {},
   "outputs": [],
   "source": [
    "df[\"cluster\"] = labels"
   ]
  },
  {
   "cell_type": "code",
   "execution_count": 14,
   "id": "b26e89e0-a425-45ed-95f8-a94b959b4737",
   "metadata": {},
   "outputs": [],
   "source": [
    "CLUSTER_COLORS = [\"green\", \"yellow\", \"red\", \"orange\"]"
   ]
  },
  {
   "cell_type": "code",
   "execution_count": 15,
   "id": "bcf9f3cf-fccf-404c-9727-8fb93c09bfb0",
   "metadata": {},
   "outputs": [
    {
     "data": {
      "text/html": [
       "<iframe\n",
       "    scrolling=\"no\"\n",
       "    width=\"100%\"\n",
       "    height=\"545px\"\n",
       "    src=\"iframe_figures/figure_15.html\"\n",
       "    frameborder=\"0\"\n",
       "    allowfullscreen\n",
       "></iframe>\n"
      ]
     },
     "metadata": {},
     "output_type": "display_data"
    }
   ],
   "source": [
    "fig=go.Figure()\n",
    "\n",
    "fig.add_trace(\n",
    "    go.Scatter3d(\n",
    "        x=df[\"PCA1\"],\n",
    "        y=df[\"PCA2\"],\n",
    "        z=df[\"PCA3\"],\n",
    "        mode='markers',\n",
    "        marker=dict(\n",
    "            size=5,\n",
    "            color=df[\"cluster\"].apply(lambda i: CLUSTER_COLORS[i]),\n",
    "            opacity=0.2\n",
    "        ),\n",
    "        name=\"clusters\"\n",
    "    )\n",
    ")\n",
    "fig.add_trace(\n",
    "    go.Scatter3d(\n",
    "        x=centers[:,0], \n",
    "        y=centers[:,1],\n",
    "        z=centers[:,2],\n",
    "        mode='markers',\n",
    "        marker=dict(\n",
    "            size=5,\n",
    "            color=\"red\"\n",
    "        ),\n",
    "        name='centroids'\n",
    "    )\n",
    ")\n",
    "fig.show(renderer='iframe')"
   ]
  },
  {
   "cell_type": "markdown",
   "id": "1841c770-5c9c-4b9a-bb7e-c8968626fa5b",
   "metadata": {},
   "source": [
    "This Figure was made with Plotly and shows some clearly defined clusters in the data. \n",
    "\n",
    "I did not label the dataset, so we do not know the names of the clusters. This does not mean that we couldn’t go back and label these groups."
   ]
  },
  {
   "cell_type": "markdown",
   "id": "5e8de30f-9bac-4f24-bb9c-35da2a004c58",
   "metadata": {},
   "source": [
    "### CLUSTERS EXPLAINABILITY\n",
    "Now that we know how many clusters there are in our data, we have a better sense of how many groups we can label the population with. \n",
    "\n",
    "As an example, it’s possible to come up with a model that grades well-being in this population on four grades.\n",
    "\n",
    "The ability to notice otherwise unseen patterns and to come up with a model to generalize those patterns onto observations is precisely why tools like PCA and k-means are essential in any data scientist’s toolbox. They allow us to see the big picture while we pay attention to the details."
   ]
  },
  {
   "cell_type": "code",
   "execution_count": 16,
   "id": "55a79107-a87d-4ddd-90d7-ed26d3708f4c",
   "metadata": {},
   "outputs": [
    {
     "data": {
      "text/plain": [
       "1    3973\n",
       "3    2641\n",
       "0    2020\n",
       "2    1541\n",
       "Name: cluster, dtype: int64"
      ]
     },
     "execution_count": 16,
     "metadata": {},
     "output_type": "execute_result"
    }
   ],
   "source": [
    "df[\"cluster\"].value_counts()"
   ]
  },
  {
   "cell_type": "code",
   "execution_count": 17,
   "id": "cc34a642-7052-4919-b296-be0b7bd595fc",
   "metadata": {},
   "outputs": [],
   "source": [
    "PCA1_TOP_COLS = [\n",
    "    \"SIAPROXY\", # proxy_respondent\n",
    "    \"BMXWT\", # weight_kg\n",
    "    \"HSAQUEX\", # health_status_source_data\n",
    "    \"BMXARML\", # upper_arm_length\n",
    "    \"BMXARMC\", # arm_circum\n",
    "    \"RIDAGEYR\", # age\n",
    "    \"BMXWAIST\" # waist_circum\n",
    "]"
   ]
  },
  {
   "cell_type": "code",
   "execution_count": 18,
   "id": "bfd86bbc-cb38-4991-a40b-3ea6d9a7f6bd",
   "metadata": {},
   "outputs": [
    {
     "data": {
      "image/png": "[encoded data removed]",
      "text/plain": [
       "<Figure size 1440x360 with 4 Axes>"
      ]
     },
     "metadata": {
      "needs_background": "light"
     },
     "output_type": "display_data"
    },
    {
     "data": {
      "image/png": "[encoded data removed]",
      "text/plain": [
       "<Figure size 1440x360 with 4 Axes>"
      ]
     },
     "metadata": {
      "needs_background": "light"
     },
     "output_type": "display_data"
    },
    {
     "data": {
      "image/png": "[encoded data removed]",
      "text/plain": [
       "<Figure size 1440x360 with 4 Axes>"
      ]
     },
     "metadata": {
      "needs_background": "light"
     },
     "output_type": "display_data"
    },
    {
     "data": {
      "image/png": "[encoded data removed]",
      "text/plain": [
       "<Figure size 1440x360 with 4 Axes>"
      ]
     },
     "metadata": {
      "needs_background": "light"
     },
     "output_type": "display_data"
    },
    {
     "data": {
      "image/png": "[encoded data removed]",
      "text/plain": [
       "<Figure size 1440x360 with 4 Axes>"
      ]
     },
     "metadata": {
      "needs_background": "light"
     },
     "output_type": "display_data"
    },
    {
     "data": {
      "image/png": "[encoded data removed]",
      "text/plain": [
       "<Figure size 1440x360 with 4 Axes>"
      ]
     },
     "metadata": {
      "needs_background": "light"
     },
     "output_type": "display_data"
    },
    {
     "data": {
      "image/png": "[encoded data removed]",
      "text/plain": [
       "<Figure size 1440x360 with 4 Axes>"
      ]
     },
     "metadata": {
      "needs_background": "light"
     },
     "output_type": "display_data"
    }
   ],
   "source": [
    "for c in PCA1_TOP_COLS:\n",
    "    df.hist(c, by=\"cluster\", sharex=True, layout=(1,4), figsize=(20,5), legend=True)\n",
    "    plt.show()"
   ]
  },
  {
   "cell_type": "code",
   "execution_count": null,
   "id": "a20ef241-88cb-4d90-b053-5e66c43aa35f",
   "metadata": {},
   "outputs": [],
   "source": []
  },
  {
   "cell_type": "code",
   "execution_count": null,
   "id": "2b27bda3-f6d4-4239-8be5-a136526af598",
   "metadata": {},
   "outputs": [],
   "source": []
  }
 ],
 "metadata": {
  "kernelspec": {
   "display_name": "Python [conda env:py39_pbg]",
   "language": "python",
   "name": "conda-env-py39_pbg-py"
  },
  "language_info": {
   "codemirror_mode": {
    "name": "ipython",
    "version": 3
   },
   "file_extension": ".py",
   "mimetype": "text/x-python",
   "name": "python",
   "nbconvert_exporter": "python",
   "pygments_lexer": "ipython3",
   "version": "3.9.7"
  }
 },
 "nbformat": 4,
 "nbformat_minor": 5
}
