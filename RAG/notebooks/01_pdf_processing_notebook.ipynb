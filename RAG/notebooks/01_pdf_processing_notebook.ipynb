{
 "cells": [
  {
   "cell_type": "markdown",
   "id": "757f0f5a",
   "metadata": {},
   "source": [
    "# PDF Processing: Load, Chunk, and Prepare for Vector DB\n",
    "\n",
    "This notebook demonstrates a step-by-step approach to loading, enriching,\n",
    "chunking, and storing scientific paper PDFs into a vector database.\n",
    "It compares different outputs at each stage interactively with helpful visualizations."
   ]
  },
  {
   "cell_type": "code",
   "execution_count": 12,
   "id": "33f71e6d",
   "metadata": {},
   "outputs": [],
   "source": [
    "import json\n",
    "from pathlib import Path\n",
    "\n",
    "import ipywidgets as widgets\n",
    "import matplotlib.pyplot as plt\n",
    "import numpy as np\n",
    "import pandas as pd\n",
    "import plotly.express as px\n",
    "from IPython.display import display\n",
    "from langchain_community.document_loaders import UnstructuredPDFLoader\n",
    "from langchain_community.vectorstores import Qdrant\n",
    "from langchain_core.documents import Document\n",
    "from langchain_huggingface import HuggingFaceEmbeddings\n",
    "from langchain_text_splitters import (\n",
    "    RecursiveCharacterTextSplitter,\n",
    ")\n",
    "from sklearn.decomposition import PCA\n",
    "from tqdm import tqdm\n",
    "from transformers import AutoTokenizer\n"
   ]
  },
  {
   "cell_type": "code",
   "execution_count": 13,
   "id": "f3412558",
   "metadata": {},
   "outputs": [],
   "source": [
    "MAX_DOCS = 10"
   ]
  },
  {
   "cell_type": "code",
   "execution_count": 14,
   "id": "06472b3e",
   "metadata": {},
   "outputs": [
    {
     "name": "stdout",
     "output_type": "stream",
     "text": [
      "Found 181 PDF files in ../data/arxiv/pdfs\n"
     ]
    }
   ],
   "source": [
    "# ## Step 1: Load Multiple PDF Documents\n",
    "\n",
    "pdf_path = Path(\"../data/arxiv/pdfs/\")  # change to your path\n",
    "pdf_files = list(pdf_path.glob(\"*.pdf\"))\n",
    "metadata_path = Path(\"../data/arxiv/metadata/\")  # change to your path\n",
    "\n",
    "all_docs = []\n",
    "\n",
    "print(f\"Found {len(pdf_files)} PDF files in {pdf_path}\")"
   ]
  },
  {
   "cell_type": "code",
   "execution_count": 15,
   "id": "6f85bbb7",
   "metadata": {},
   "outputs": [
    {
     "name": "stderr",
     "output_type": "stream",
     "text": [
      "Loading PDFs:   0%|          | 0/10 [00:00<?, ?it/s]CropBox missing from /Page, defaulting to MediaBox\n",
      "CropBox missing from /Page, defaulting to MediaBox\n",
      "CropBox missing from /Page, defaulting to MediaBox\n",
      "CropBox missing from /Page, defaulting to MediaBox\n",
      "CropBox missing from /Page, defaulting to MediaBox\n",
      "CropBox missing from /Page, defaulting to MediaBox\n",
      "CropBox missing from /Page, defaulting to MediaBox\n",
      "CropBox missing from /Page, defaulting to MediaBox\n",
      "CropBox missing from /Page, defaulting to MediaBox\n",
      "CropBox missing from /Page, defaulting to MediaBox\n",
      "CropBox missing from /Page, defaulting to MediaBox\n",
      "CropBox missing from /Page, defaulting to MediaBox\n",
      "CropBox missing from /Page, defaulting to MediaBox\n",
      "CropBox missing from /Page, defaulting to MediaBox\n",
      "CropBox missing from /Page, defaulting to MediaBox\n",
      "CropBox missing from /Page, defaulting to MediaBox\n",
      "CropBox missing from /Page, defaulting to MediaBox\n",
      "CropBox missing from /Page, defaulting to MediaBox\n",
      "CropBox missing from /Page, defaulting to MediaBox\n",
      "CropBox missing from /Page, defaulting to MediaBox\n",
      "CropBox missing from /Page, defaulting to MediaBox\n",
      "CropBox missing from /Page, defaulting to MediaBox\n",
      "CropBox missing from /Page, defaulting to MediaBox\n",
      "CropBox missing from /Page, defaulting to MediaBox\n",
      "CropBox missing from /Page, defaulting to MediaBox\n",
      "CropBox missing from /Page, defaulting to MediaBox\n",
      "Loading PDFs:  10%|█         | 1/10 [00:01<00:17,  1.91s/it]CropBox missing from /Page, defaulting to MediaBox\n",
      "CropBox missing from /Page, defaulting to MediaBox\n",
      "CropBox missing from /Page, defaulting to MediaBox\n",
      "CropBox missing from /Page, defaulting to MediaBox\n",
      "CropBox missing from /Page, defaulting to MediaBox\n",
      "CropBox missing from /Page, defaulting to MediaBox\n",
      "CropBox missing from /Page, defaulting to MediaBox\n",
      "CropBox missing from /Page, defaulting to MediaBox\n",
      "CropBox missing from /Page, defaulting to MediaBox\n",
      "CropBox missing from /Page, defaulting to MediaBox\n",
      "CropBox missing from /Page, defaulting to MediaBox\n",
      "Loading PDFs:  20%|██        | 2/10 [00:02<00:08,  1.06s/it]CropBox missing from /Page, defaulting to MediaBox\n",
      "CropBox missing from /Page, defaulting to MediaBox\n",
      "CropBox missing from /Page, defaulting to MediaBox\n",
      "CropBox missing from /Page, defaulting to MediaBox\n",
      "CropBox missing from /Page, defaulting to MediaBox\n",
      "CropBox missing from /Page, defaulting to MediaBox\n",
      "CropBox missing from /Page, defaulting to MediaBox\n",
      "CropBox missing from /Page, defaulting to MediaBox\n",
      "CropBox missing from /Page, defaulting to MediaBox\n",
      "CropBox missing from /Page, defaulting to MediaBox\n",
      "CropBox missing from /Page, defaulting to MediaBox\n",
      "CropBox missing from /Page, defaulting to MediaBox\n",
      "CropBox missing from /Page, defaulting to MediaBox\n",
      "CropBox missing from /Page, defaulting to MediaBox\n",
      "CropBox missing from /Page, defaulting to MediaBox\n",
      "CropBox missing from /Page, defaulting to MediaBox\n",
      "Loading PDFs:  30%|███       | 3/10 [00:04<00:10,  1.57s/it]CropBox missing from /Page, defaulting to MediaBox\n",
      "CropBox missing from /Page, defaulting to MediaBox\n",
      "CropBox missing from /Page, defaulting to MediaBox\n",
      "CropBox missing from /Page, defaulting to MediaBox\n",
      "CropBox missing from /Page, defaulting to MediaBox\n",
      "CropBox missing from /Page, defaulting to MediaBox\n",
      "CropBox missing from /Page, defaulting to MediaBox\n",
      "CropBox missing from /Page, defaulting to MediaBox\n",
      "CropBox missing from /Page, defaulting to MediaBox\n",
      "CropBox missing from /Page, defaulting to MediaBox\n",
      "CropBox missing from /Page, defaulting to MediaBox\n",
      "CropBox missing from /Page, defaulting to MediaBox\n",
      "Loading PDFs:  40%|████      | 4/10 [00:05<00:07,  1.31s/it]CropBox missing from /Page, defaulting to MediaBox\n",
      "CropBox missing from /Page, defaulting to MediaBox\n",
      "CropBox missing from /Page, defaulting to MediaBox\n",
      "CropBox missing from /Page, defaulting to MediaBox\n",
      "CropBox missing from /Page, defaulting to MediaBox\n",
      "CropBox missing from /Page, defaulting to MediaBox\n",
      "CropBox missing from /Page, defaulting to MediaBox\n",
      "CropBox missing from /Page, defaulting to MediaBox\n",
      "CropBox missing from /Page, defaulting to MediaBox\n",
      "CropBox missing from /Page, defaulting to MediaBox\n",
      "CropBox missing from /Page, defaulting to MediaBox\n",
      "Loading PDFs:  50%|█████     | 5/10 [00:05<00:05,  1.03s/it]CropBox missing from /Page, defaulting to MediaBox\n",
      "CropBox missing from /Page, defaulting to MediaBox\n",
      "CropBox missing from /Page, defaulting to MediaBox\n",
      "CropBox missing from /Page, defaulting to MediaBox\n",
      "CropBox missing from /Page, defaulting to MediaBox\n",
      "CropBox missing from /Page, defaulting to MediaBox\n",
      "CropBox missing from /Page, defaulting to MediaBox\n",
      "CropBox missing from /Page, defaulting to MediaBox\n",
      "CropBox missing from /Page, defaulting to MediaBox\n",
      "CropBox missing from /Page, defaulting to MediaBox\n",
      "CropBox missing from /Page, defaulting to MediaBox\n",
      "Loading PDFs:  60%|██████    | 6/10 [00:07<00:04,  1.08s/it]CropBox missing from /Page, defaulting to MediaBox\n",
      "CropBox missing from /Page, defaulting to MediaBox\n",
      "CropBox missing from /Page, defaulting to MediaBox\n",
      "CropBox missing from /Page, defaulting to MediaBox\n",
      "CropBox missing from /Page, defaulting to MediaBox\n",
      "CropBox missing from /Page, defaulting to MediaBox\n",
      "CropBox missing from /Page, defaulting to MediaBox\n",
      "CropBox missing from /Page, defaulting to MediaBox\n",
      "CropBox missing from /Page, defaulting to MediaBox\n",
      "CropBox missing from /Page, defaulting to MediaBox\n",
      "CropBox missing from /Page, defaulting to MediaBox\n",
      "CropBox missing from /Page, defaulting to MediaBox\n",
      "CropBox missing from /Page, defaulting to MediaBox\n",
      "CropBox missing from /Page, defaulting to MediaBox\n",
      "CropBox missing from /Page, defaulting to MediaBox\n",
      "CropBox missing from /Page, defaulting to MediaBox\n",
      "CropBox missing from /Page, defaulting to MediaBox\n",
      "CropBox missing from /Page, defaulting to MediaBox\n",
      "CropBox missing from /Page, defaulting to MediaBox\n",
      "CropBox missing from /Page, defaulting to MediaBox\n",
      "CropBox missing from /Page, defaulting to MediaBox\n",
      "CropBox missing from /Page, defaulting to MediaBox\n",
      "CropBox missing from /Page, defaulting to MediaBox\n",
      "CropBox missing from /Page, defaulting to MediaBox\n",
      "CropBox missing from /Page, defaulting to MediaBox\n",
      "Loading PDFs:  70%|███████   | 7/10 [00:08<00:03,  1.27s/it]CropBox missing from /Page, defaulting to MediaBox\n",
      "CropBox missing from /Page, defaulting to MediaBox\n",
      "CropBox missing from /Page, defaulting to MediaBox\n",
      "CropBox missing from /Page, defaulting to MediaBox\n",
      "CropBox missing from /Page, defaulting to MediaBox\n",
      "CropBox missing from /Page, defaulting to MediaBox\n",
      "CropBox missing from /Page, defaulting to MediaBox\n",
      "CropBox missing from /Page, defaulting to MediaBox\n",
      "CropBox missing from /Page, defaulting to MediaBox\n",
      "CropBox missing from /Page, defaulting to MediaBox\n",
      "CropBox missing from /Page, defaulting to MediaBox\n",
      "CropBox missing from /Page, defaulting to MediaBox\n",
      "CropBox missing from /Page, defaulting to MediaBox\n",
      "CropBox missing from /Page, defaulting to MediaBox\n",
      "CropBox missing from /Page, defaulting to MediaBox\n",
      "CropBox missing from /Page, defaulting to MediaBox\n",
      "CropBox missing from /Page, defaulting to MediaBox\n",
      "CropBox missing from /Page, defaulting to MediaBox\n",
      "CropBox missing from /Page, defaulting to MediaBox\n",
      "CropBox missing from /Page, defaulting to MediaBox\n",
      "CropBox missing from /Page, defaulting to MediaBox\n",
      "CropBox missing from /Page, defaulting to MediaBox\n",
      "CropBox missing from /Page, defaulting to MediaBox\n",
      "CropBox missing from /Page, defaulting to MediaBox\n",
      "CropBox missing from /Page, defaulting to MediaBox\n",
      "CropBox missing from /Page, defaulting to MediaBox\n",
      "CropBox missing from /Page, defaulting to MediaBox\n",
      "CropBox missing from /Page, defaulting to MediaBox\n",
      "CropBox missing from /Page, defaulting to MediaBox\n",
      "CropBox missing from /Page, defaulting to MediaBox\n",
      "CropBox missing from /Page, defaulting to MediaBox\n",
      "CropBox missing from /Page, defaulting to MediaBox\n",
      "CropBox missing from /Page, defaulting to MediaBox\n",
      "CropBox missing from /Page, defaulting to MediaBox\n",
      "CropBox missing from /Page, defaulting to MediaBox\n",
      "CropBox missing from /Page, defaulting to MediaBox\n",
      "CropBox missing from /Page, defaulting to MediaBox\n",
      "CropBox missing from /Page, defaulting to MediaBox\n",
      "CropBox missing from /Page, defaulting to MediaBox\n",
      "CropBox missing from /Page, defaulting to MediaBox\n",
      "CropBox missing from /Page, defaulting to MediaBox\n",
      "CropBox missing from /Page, defaulting to MediaBox\n",
      "CropBox missing from /Page, defaulting to MediaBox\n",
      "CropBox missing from /Page, defaulting to MediaBox\n",
      "CropBox missing from /Page, defaulting to MediaBox\n",
      "CropBox missing from /Page, defaulting to MediaBox\n",
      "CropBox missing from /Page, defaulting to MediaBox\n",
      "CropBox missing from /Page, defaulting to MediaBox\n",
      "CropBox missing from /Page, defaulting to MediaBox\n",
      "CropBox missing from /Page, defaulting to MediaBox\n",
      "CropBox missing from /Page, defaulting to MediaBox\n",
      "CropBox missing from /Page, defaulting to MediaBox\n",
      "CropBox missing from /Page, defaulting to MediaBox\n",
      "CropBox missing from /Page, defaulting to MediaBox\n",
      "Loading PDFs:  80%|████████  | 8/10 [00:10<00:02,  1.45s/it]CropBox missing from /Page, defaulting to MediaBox\n",
      "CropBox missing from /Page, defaulting to MediaBox\n",
      "CropBox missing from /Page, defaulting to MediaBox\n",
      "CropBox missing from /Page, defaulting to MediaBox\n",
      "CropBox missing from /Page, defaulting to MediaBox\n",
      "CropBox missing from /Page, defaulting to MediaBox\n",
      "CropBox missing from /Page, defaulting to MediaBox\n",
      "CropBox missing from /Page, defaulting to MediaBox\n",
      "CropBox missing from /Page, defaulting to MediaBox\n",
      "CropBox missing from /Page, defaulting to MediaBox\n",
      "CropBox missing from /Page, defaulting to MediaBox\n",
      "CropBox missing from /Page, defaulting to MediaBox\n",
      "CropBox missing from /Page, defaulting to MediaBox\n",
      "CropBox missing from /Page, defaulting to MediaBox\n",
      "CropBox missing from /Page, defaulting to MediaBox\n",
      "CropBox missing from /Page, defaulting to MediaBox\n",
      "CropBox missing from /Page, defaulting to MediaBox\n",
      "CropBox missing from /Page, defaulting to MediaBox\n",
      "CropBox missing from /Page, defaulting to MediaBox\n",
      "CropBox missing from /Page, defaulting to MediaBox\n",
      "CropBox missing from /Page, defaulting to MediaBox\n",
      "Loading PDFs:  90%|█████████ | 9/10 [00:11<00:01,  1.15s/it]CropBox missing from /Page, defaulting to MediaBox\n",
      "CropBox missing from /Page, defaulting to MediaBox\n",
      "CropBox missing from /Page, defaulting to MediaBox\n",
      "CropBox missing from /Page, defaulting to MediaBox\n",
      "CropBox missing from /Page, defaulting to MediaBox\n",
      "CropBox missing from /Page, defaulting to MediaBox\n",
      "CropBox missing from /Page, defaulting to MediaBox\n",
      "CropBox missing from /Page, defaulting to MediaBox\n",
      "CropBox missing from /Page, defaulting to MediaBox\n",
      "CropBox missing from /Page, defaulting to MediaBox\n",
      "CropBox missing from /Page, defaulting to MediaBox\n",
      "CropBox missing from /Page, defaulting to MediaBox\n",
      "CropBox missing from /Page, defaulting to MediaBox\n",
      "Loading PDFs: 100%|██████████| 10/10 [00:12<00:00,  1.25s/it]"
     ]
    },
    {
     "name": "stdout",
     "output_type": "stream",
     "text": [
      "--- Loaded 10 documents ---\n"
     ]
    },
    {
     "name": "stderr",
     "output_type": "stream",
     "text": [
      "\n"
     ]
    }
   ],
   "source": [
    "for pdf_file in tqdm(pdf_files[:MAX_DOCS], desc=\"Loading PDFs\"):\n",
    "    try:\n",
    "        loader = UnstructuredPDFLoader(file_path=pdf_file, mode=\"single\")\n",
    "        doc = loader.load()[0]\n",
    "\n",
    "        metadata_file = pdf_file.with_suffix(\".json\")\n",
    "        if metadata_file.exists():\n",
    "            with open(metadata_file) as f:\n",
    "                metadata = json.load(f)\n",
    "            doc.metadata |= metadata\n",
    "\n",
    "        all_docs.append(doc)\n",
    "    except Exception as e:\n",
    "        print(f\"Failed to process {pdf_file}: {e}\")\n",
    "\n",
    "print(f\"--- Loaded {len(all_docs)} documents ---\")"
   ]
  },
  {
   "cell_type": "code",
   "execution_count": 16,
   "id": "1af2b131",
   "metadata": {},
   "outputs": [
    {
     "name": "stderr",
     "output_type": "stream",
     "text": [
      "Token indices sequence length is longer than the specified maximum sequence length for this model (566 > 512). Running this sequence through the model will result in indexing errors\n"
     ]
    },
    {
     "name": "stdout",
     "output_type": "stream",
     "text": [
      "\n",
      "--- Final Chunk Stats ---\n",
      "Total chunks: 621\n",
      "Avg size: 237.53, Max: 302, Min: 3\n"
     ]
    }
   ],
   "source": [
    "# ## Step 2: Recursive Chunking by Tokens\n",
    "\n",
    "model_id = \"sentence-transformers/all-mpnet-base-v2\"\n",
    "tokenizer = AutoTokenizer.from_pretrained(model_id)\n",
    "splitter = RecursiveCharacterTextSplitter.from_huggingface_tokenizer(\n",
    "    tokenizer,\n",
    "    chunk_size=300,\n",
    "    chunk_overlap=30,\n",
    "    add_start_index=True,\n",
    "    strip_whitespace=True,\n",
    "    separators=[\"\\n\\n\", \"\\n\", \".\", \" \", \"\"],\n",
    ")\n",
    "\n",
    "final_chunks = []\n",
    "chunk_by_doc = {}\n",
    "for doc in all_docs:\n",
    "    doc_chunks = []\n",
    "    for i, chunk in enumerate(splitter.split_text(doc.page_content)):\n",
    "        metadata = doc.metadata.copy()\n",
    "        metadata[\"chunk_index\"] = i\n",
    "        doc_chunks.append(Document(page_content=chunk, metadata=metadata))\n",
    "    chunk_by_doc[doc.metadata.get(\"title\", doc.metadata.get(\"source\", \"Document\"))] = (\n",
    "        doc_chunks\n",
    "    )\n",
    "    final_chunks.extend(doc_chunks)\n",
    "\n",
    "chunk_lengths = [\n",
    "    len(tokenizer.encode(chunk.page_content, truncation=False))\n",
    "    for chunk in final_chunks\n",
    "]\n",
    "\n",
    "print(f\"\\n--- Final Chunk Stats ---\")\n",
    "print(f\"Total chunks: {len(final_chunks)}\")\n",
    "print(\n",
    "    f\"Avg size: {np.mean(chunk_lengths):.2f}, Max: {np.max(chunk_lengths)}, Min: {np.min(chunk_lengths)}\"\n",
    ")"
   ]
  },
  {
   "cell_type": "code",
   "execution_count": 17,
   "id": "e8d673ad",
   "metadata": {},
   "outputs": [
    {
     "data": {
      "image/png": "[encoded data removed]",
      "text/plain": [
       "<Figure size 800x400 with 1 Axes>"
      ]
     },
     "metadata": {},
     "output_type": "display_data"
    }
   ],
   "source": [
    "# Histogram of Chunk Sizes\n",
    "plt.figure(figsize=(8, 4))\n",
    "plt.hist(chunk_lengths, bins=20, color=\"skyblue\")\n",
    "plt.title(\"Token Count Distribution per Chunk\")\n",
    "plt.xlabel(\"Token Length\")\n",
    "plt.ylabel(\"Frequency\")\n",
    "plt.grid(True)\n",
    "plt.tight_layout()\n",
    "plt.show()"
   ]
  },
  {
   "cell_type": "code",
   "execution_count": null,
   "id": "56e0c0e0",
   "metadata": {},
   "outputs": [
    {
     "data": {
      "application/vnd.jupyter.widget-view+json": {
       "model_id": "2ac7788c8ce345548e89279923036489",
       "version_major": 2,
       "version_minor": 0
      },
      "text/plain": [
       "VBox(children=(Dropdown(description='Document:', layout=Layout(width='50%'), options=('../data/arxiv/pdfs/2410…"
      ]
     },
     "metadata": {},
     "output_type": "display_data"
    }
   ],
   "source": [
    "doc_selector = widgets.Dropdown(\n",
    "    options=list(chunk_by_doc.keys()),\n",
    "    description=\"Document:\",\n",
    "    layout=widgets.Layout(width=\"50%\"),\n",
    ")\n",
    "\n",
    "chunk_slider = widgets.IntSlider(min=0, max=1, step=1, description=\"Chunk:\")\n",
    "\n",
    "output_area = widgets.Output()\n",
    "\n",
    "\n",
    "def update_slider(*args):\n",
    "    selected_doc = doc_selector.value\n",
    "    chunk_slider.max = len(chunk_by_doc[selected_doc]) - 1\n",
    "    chunk_slider.value = 0\n",
    "    show_chunk(0)\n",
    "\n",
    "\n",
    "def show_chunk(i):\n",
    "    with output_area:\n",
    "        output_area.clear_output()\n",
    "        selected_doc = doc_selector.value\n",
    "        chunk = chunk_by_doc[selected_doc][i]\n",
    "        print(chunk.metadata)\n",
    "        print(\"\\n\" + chunk.page_content[:1000])\n",
    "\n",
    "\n",
    "chunk_slider.observe(lambda change: show_chunk(change[\"new\"]), names=\"value\")\n",
    "doc_selector.observe(update_slider, names=\"value\")\n",
    "\n",
    "display(widgets.VBox([doc_selector, chunk_slider, output_area]))\n",
    "update_slider()"
   ]
  },
  {
   "cell_type": "code",
   "execution_count": 19,
   "id": "1e1840ce",
   "metadata": {},
   "outputs": [
    {
     "name": "stdout",
     "output_type": "stream",
     "text": [
      "\n",
      "--- Stored in Qdrant Vector DB ---\n",
      "Collection: papers_demo\n"
     ]
    }
   ],
   "source": [
    "# ## Step 3: Store in Qdrant Vector DB\n",
    "\n",
    "embedding = HuggingFaceEmbeddings(model_name=model_id)\n",
    "\n",
    "db = Qdrant.from_documents(\n",
    "    documents=final_chunks,\n",
    "    embedding=embedding,\n",
    "    location=\"localhost:6333\",\n",
    "    collection_name=\"papers_demo\",\n",
    "    prefer_grpc=False,\n",
    ")\n",
    "\n",
    "print(\"\\n--- Stored in Qdrant Vector DB ---\")\n",
    "print(f\"Collection: {db.collection_name}\")"
   ]
  },
  {
   "cell_type": "code",
   "execution_count": 9,
   "id": "fcbfda3e",
   "metadata": {},
   "outputs": [
    {
     "data": {
      "text/plain": [
       "{'source': '../data/arxiv/pdfs/2410.05160v3.pdf', 'chunk_index': 0}"
      ]
     },
     "execution_count": 9,
     "metadata": {},
     "output_type": "execute_result"
    }
   ],
   "source": [
    "final_chunks[0].metadata"
   ]
  },
  {
   "cell_type": "code",
   "execution_count": 10,
   "id": "ee2a9a92",
   "metadata": {},
   "outputs": [],
   "source": [
    "# Run PCA\n",
    "texts = [doc.page_content for doc in final_chunks]\n",
    "embeddings = embedding.embed_documents(texts)\n",
    "pca = PCA(n_components=2)\n",
    "points = pca.fit_transform(embeddings)\n",
    "\n",
    "# Create color group\n",
    "doc_names = [\n",
    "    doc.metadata.get(\"title\", doc.metadata.get(\"source\", \"Doc \" + str(i)))\n",
    "    for i, doc in enumerate(final_chunks)\n",
    "]\n",
    "unique_doc_ids = {name: i for i, name in enumerate(set(doc_names))}\n",
    "colors = [unique_doc_ids[name] for name in doc_names]\n",
    "\n",
    "# DataFrame for plot\n",
    "df = pd.DataFrame({\n",
    "    \"x\": points[:, 0],\n",
    "    \"y\": points[:, 1],\n",
    "    \"document\": doc_names,\n",
    "    \"chunk\": [doc.metadata.get(\"chunk_index\", 0) for doc in final_chunks],\n",
    "    \"preview\": [doc.page_content[:100].replace(\"\\n\", \" \") for doc in final_chunks],\n",
    "    \"color_id\": colors\n",
    "})\n"
   ]
  },
  {
   "cell_type": "code",
   "execution_count": 11,
   "id": "01da3d31",
   "metadata": {},
   "outputs": [
    {
     "data": {
      "application/vnd.plotly.v1+json": {
       "config": {
        "plotlyServerURL": "https://plot.ly"
       },
       "data": [
        {
         "customdata": [
          [
           "../data/arxiv/pdfs/2410.05160v3.pdf",
           0,
           "5 2 0 2  n a J  2  ]  V C . s c [  3 v 0 6 1 5 0 . 0 1 4 2 : v i X r a  Manuscript  VLM2VEC: TRAININ"
          ],
          [
           "../data/arxiv/pdfs/2410.05160v3.pdf",
           1,
           "Embedding models have been crucial in enabling various downstream tasks such as semantic similarity,"
          ],
          [
           "../data/arxiv/pdfs/2410.05160v3.pdf",
           2,
           ". We build a series of VLM2VEC models on SoTA VLMs like Phi-3.5-V, LLaVA-1.6 and evaluate them on MM"
          ],
          [
           "../data/arxiv/pdfs/2410.05160v3.pdf",
           3,
           "1  INTRODUCTION"
          ],
          [
           "../data/arxiv/pdfs/2410.05160v3.pdf",
           4,
           "Embeddings, or distributed representations, text or images) as Since the advent of fixed-dimensional"
          ],
          [
           "../data/arxiv/pdfs/2410.05160v3.pdf",
           5,
           "., 2020; Guu et al., 2020; Izacard & Grave, 2020). A recent shift in research has focused on develop"
          ],
          [
           "../data/arxiv/pdfs/2410.05160v3.pdf",
           6,
           "encode inputs (whether  ∗Work done during an internship at University of Waterloo in collaboration w"
          ],
          [
           "../data/arxiv/pdfs/2410.05160v3.pdf",
           7,
           "in text embeddings, the lack of both benchmarks and methodologies in the multimodal embedding domain"
          ],
          [
           "../data/arxiv/pdfs/2410.05160v3.pdf",
           8,
           "MMEB: We introduce a novel benchmark, MMEB (Massive Multimodal Embedding Benchmark), which includes "
          ],
          [
           "../data/arxiv/pdfs/2410.05160v3.pdf",
           9,
           "., 2021) features, our approach leverages the deep integration of vision and language features withi"
          ],
          [
           "../data/arxiv/pdfs/2410.05160v3.pdf",
           10,
           "Manuscript"
          ],
          [
           "../data/arxiv/pdfs/2410.05160v3.pdf",
           11,
           "Following extensive contrastive training, VLM2VEC can handle any combination of images and text, pro"
          ],
          [
           "../data/arxiv/pdfs/2410.05160v3.pdf",
           12,
           ".0-point increase (from 43.1 to 57.1) on 16 out-of-distribution datasets for zero-shot evaluation. M"
          ],
          [
           "../data/arxiv/pdfs/2410.05160v3.pdf",
           13,
           "2 MMEB: A BENCHMARK FOR MULTIMODAL EMBEDDINGS  2.1 DATASET OVERVIEW  We present MMEB (Massive Multim"
          ],
          [
           "../data/arxiv/pdfs/2410.05160v3.pdf",
           14,
           "The embedding models are supposed to compress the query side into a vector and the target can- didat"
          ],
          [
           "../data/arxiv/pdfs/2410.05160v3.pdf",
           15,
           "MMEB offers a wide range of tasks from various domains, such as common, news, Wikipedia, web, and fa"
          ],
          [
           "../data/arxiv/pdfs/2410.05160v3.pdf",
           16,
           "Information Retrieval Both the query and target sides can involve a combination of text, images, and"
          ],
          [
           "../data/arxiv/pdfs/2410.05160v3.pdf",
           17,
           "I + T I + T I + T I + T I + T I + T I + T I + T I + T I + T  T T T T T T T T T T  ✓ ✓ ✓ ✓  9K 17K 40"
          ],
          [
           "../data/arxiv/pdfs/2410.05160v3.pdf",
           18,
           "I I I I + T  ✓ ✓ ✓  100K - - -  1000 1000 1000 1000  1000 1000 1000 1000  apple”) with the full imag"
          ],
          [
           "../data/arxiv/pdfs/2410.05160v3.pdf",
           19,
           "4  (1)  Manuscript  Classification  A-OKVQA  MSCOCO_t2i  MSCOCO_t2i  Retrieval  VOC2027  ImageNet-R "
          ],
          [
           "../data/arxiv/pdfs/2410.05160v3.pdf",
           20,
           "Given a pretrained VLM, we feed query and target into it to obtain the query and target embeddings ("
          ],
          [
           "../data/arxiv/pdfs/2410.05160v3.pdf",
           21,
           "A bottleneck lies in the GPU memory that limits us from increasing the batch size and the number of "
          ],
          [
           "../data/arxiv/pdfs/2410.05160v3.pdf",
           22,
           "=  (cid:88)  ˆQj∈Q  (cid:88)  qi∈ ˆQj  ui  ∂f(qi) ∂Θ  5  (2)  (3)  Projection  Foods  Image EncoderV"
          ],
          [
           "../data/arxiv/pdfs/2410.05160v3.pdf",
           23,
           "4 EXPERIMENTS  In this section, we adopt Phi-3.5-V and LLaVA-1.6 as the backbone VLMs, with training"
          ],
          [
           "../data/arxiv/pdfs/2410.05160v3.pdf",
           24,
           "4.1 BASELINES  Four groups of baselines are reported in this study.  CLIP-family: We utilize vision/"
          ],
          [
           "../data/arxiv/pdfs/2410.05160v3.pdf",
           25,
           "MagicLens: MagicLens (Zhang et al., 2024) is a self-supervised image retrieval model capable of hand"
          ],
          [
           "../data/arxiv/pdfs/2410.05160v3.pdf",
           26,
           "6  Manuscript  For all our baselines, we first use their original versions. Additionally, we have fi"
          ],
          [
           "../data/arxiv/pdfs/2410.05160v3.pdf",
           27,
           "IND  OOD Overall  # of datasets →  10  10  12  4  20  16  36  Baseline Models (No Fine-tuning on MME"
          ],
          [
           "../data/arxiv/pdfs/2410.05160v3.pdf",
           28,
           "38.7 25.1 38.0 40.2 40.4 41.7 11.5 23.7  37.8 25.2 34.8 39.7 42.8 44.7 13.3 27.8  Baseline Models (F"
          ],
          [
           "../data/arxiv/pdfs/2410.05160v3.pdf",
           29,
           "72.3 79.5 64.0 86.1 +20.8 +22.0  62.8 66.5 61.0 67.5 +20.4 +17.0  47.4 52.0 47.5 57.1 +15.4 +14.0  5"
          ],
          [
           "../data/arxiv/pdfs/2410.05160v3.pdf",
           30,
           "From Table 2, the best variant of VLM2VEC leverages LLaVA-1.6, is trained with LoRA, and pro- cesses"
          ],
          [
           "../data/arxiv/pdfs/2410.05160v3.pdf",
           31,
           "Compared to other baseline models, with or without fine-tuning on MMEB training data, our model demo"
          ],
          [
           "../data/arxiv/pdfs/2410.05160v3.pdf",
           32,
           "7  Manuscript  4.3 RESULT ANALYSIS  To train an effective and generalizable multimodal embedding, va"
          ],
          [
           "../data/arxiv/pdfs/2410.05160v3.pdf",
           33,
           "Meta-Task Average Score  Average Score  Classification VQA Retrieval Grounding  IND OOD Overall  # o"
          ],
          [
           "../data/arxiv/pdfs/2410.05160v3.pdf",
           34,
           "52.0 58.4 58.2 50.8 53.4  4.3.2 TRAINING PARAMETERS  During our experiments, we identified three key"
          ],
          [
           "../data/arxiv/pdfs/2410.05160v3.pdf",
           35,
           "8  Manuscript  4.3.3 META-TASK GENERALIZATION  We have demonstrated that VLM2VEC has the potential t"
          ],
          [
           "../data/arxiv/pdfs/2410.05160v3.pdf",
           36,
           "Figure 5 illustrates the generalizability of these three models on unseen meta-tasks. We could ob- s"
          ],
          [
           "../data/arxiv/pdfs/2410.05160v3.pdf",
           37,
           "Visual Grounding  40  Retrieval  0  14.251.312.635.1VLM2VecRET vs VLM2VecCLS  20  Figure 5: The figu"
          ],
          [
           "../data/arxiv/pdfs/2410.05160v3.pdf",
           38,
           "4.3.4  IMPACT OF INSTRUCTIONS  Previous studies have shown the influence of instructions on addressi"
          ],
          [
           "../data/arxiv/pdfs/2410.05160v3.pdf",
           39,
           "9  Manuscript  Table 4: Comparison of CLIP and our VLM2VEC with and without task-specific instructio"
          ],
          [
           "../data/arxiv/pdfs/2410.05160v3.pdf",
           40,
           "embeddings for specific tasks. With the rise of pretrained language models, efforts have shifted to-"
          ],
          [
           "../data/arxiv/pdfs/2410.05160v3.pdf",
           41,
           "5.2 MULTIMODAL EMBEDDINGS  Multimodal embeddings have long been a significant research challenge. Ea"
          ],
          [
           "../data/arxiv/pdfs/2410.05160v3.pdf",
           42,
           "Most research on universal multimodal embeddings involves fine-tuning models like CLIP or BLIP, typi"
          ],
          [
           "../data/arxiv/pdfs/2410.05160v3.pdf",
           43,
           "For multimodal retrieval, several benchmarks have been introduced to evaluate model performance acro"
          ],
          [
           "../data/arxiv/pdfs/2410.05160v3.pdf",
           44,
           "Eneko Agirre, Daniel Cer, Mona Diab, and Aitor Gonzalez-Agirre. SemEval-2012 task 6: A pilot on sema"
          ],
          [
           "../data/arxiv/pdfs/2410.05160v3.pdf",
           45,
           "Andrei Barbu, David Mayo, Julian Alverio, William Luo, Christopher Wang, Dan Gutfreund, Josh Tenenba"
          ],
          [
           "../data/arxiv/pdfs/2410.05160v3.pdf",
           46,
           "Yingshan Chang, Mridu Narang, Hisami Suzuki, Guihong Cao, Jianfeng Gao, and Yonatan Bisk. Webqa: Mul"
          ],
          [
           "../data/arxiv/pdfs/2410.05160v3.pdf",
           47,
           "Abhishek Das, Satwik Kottur, Khushi Gupta, Avi Singh, Deshraj Yadav, Jos´e MF Moura, Devi Parikh, an"
          ],
          [
           "../data/arxiv/pdfs/2410.05160v3.pdf",
           48,
           "Luyu Gao, Yunyi Zhang, Jiawei Han, and Jamie Callan. Scaling deep contrastive learning batch size  u"
          ],
          [
           "../data/arxiv/pdfs/2410.05160v3.pdf",
           49,
           "Dan Hendrycks, Steven Basart, Norman Mu, Saurav Kadavath, Frank Wang, Evan Dorundo, Rahul Desai, Tyl"
          ],
          [
           "../data/arxiv/pdfs/2410.05160v3.pdf",
           50,
           "Hexiang Hu, Yi Luan, Yang Chen, Urvashi Khandelwal, Mandar Joshi, Kenton Lee, Kristina Toutanova, an"
          ],
          [
           "../data/arxiv/pdfs/2410.05160v3.pdf",
           51,
           "Ting Jiang, Minghui Song, Zihan Zhang, Haizhen Huang, Weiwei Deng, Feng Sun, Qi Zhang, Deqing Wang, "
          ],
          [
           "../data/arxiv/pdfs/2410.05160v3.pdf",
           52,
           "Ryan Kiros, Yukun Zhu, Russ R Salakhutdinov, Richard Zemel, Raquel Urtasun, Antonio Torralba, and Sa"
          ],
          [
           "../data/arxiv/pdfs/2410.05160v3.pdf",
           53,
           "Patrick Lewis, Ethan Perez, Aleksandra Piktus, Fabio Petroni, Vladimir Karpukhin, Naman Goyal, Heinr"
          ],
          [
           "../data/arxiv/pdfs/2410.05160v3.pdf",
           54,
           "Zehan Li, Xin Zhang, Yanzhao Zhang, Dingkun Long, Pengjun Xie, and Meishan Zhang. Towards general te"
          ],
          [
           "../data/arxiv/pdfs/2410.05160v3.pdf",
           55,
           "makes good in-context examples for gpt-3? DeeLIO 2022, pp. 100, 2022.  Siqi Liu, Weixi Feng, Tsu-jui"
          ],
          [
           "../data/arxiv/pdfs/2410.05160v3.pdf",
           56,
           "Xueguang Ma, Sheng-Chieh Lin, Minghan Li, Wenhu Chen, and Jimmy Lin. Unifying multimodal  retrieval "
          ],
          [
           "../data/arxiv/pdfs/2410.05160v3.pdf",
           57,
           "Kenneth Marino, Mohammad Rastegari, Ali Farhadi, and Roozbeh Mottaghi. Ok-vqa: A visual In Proceedin"
          ],
          [
           "../data/arxiv/pdfs/2410.05160v3.pdf",
           58,
           "Rui Meng, Ye Liu, Shafiq Joty, Caiming Xiong, Yingbo Zhou, and Semih Yavuz. Sfr-embedding-2: Advance"
          ],
          [
           "../data/arxiv/pdfs/2410.05160v3.pdf",
           59,
           "bedding benchmark. Association for Computational Linguistics, pp. 2014–2037, 2023.  Tri Nguyen, Mir "
          ],
          [
           "../data/arxiv/pdfs/2410.05160v3.pdf",
           60,
           "Bryan A Plummer, Liwei Wang, Chris M Cervantes, Juan C Caicedo, Julia Hockenmaier, and Svet- lana La"
          ],
          [
           "../data/arxiv/pdfs/2410.05160v3.pdf",
           61,
           "Ohad Rubin, Jonathan Herzig, and Jonathan Berant. Learning to retrieve prompts for in-context learni"
          ],
          [
           "../data/arxiv/pdfs/2410.05160v3.pdf",
           62,
           "Jacob Mitchell Springer, Suhas Kotha, Daniel Fried, Graham Neubig, and Aditi Raghunathan. Rep-  etit"
          ],
          [
           "../data/arxiv/pdfs/2410.05160v3.pdf",
           63,
           "Liang Wang, Nan Yang, Xiaolong Huang, Binxing Jiao, Linjun Yang, Daxin Jiang, Rangan Ma- jumder, and"
          ],
          [
           "../data/arxiv/pdfs/2410.05160v3.pdf",
           64,
           "ple visual language model pretraining with weak supervision. Learning Representations, 2022b.  Cong "
          ],
          [
           "../data/arxiv/pdfs/2410.05160v3.pdf",
           65,
           "Jiahui Yu, Zirui Wang, Vijay Vasudevan, Legg Yeung, Mojtaba Seyedhosseini, and Yonghui Wu. Coca: Con"
          ],
          [
           "../data/arxiv/pdfs/2410.05160v3.pdf",
           66,
           "Yuke Zhu, Oliver Groth, Michael Bernstein, and Li Fei-Fei. Visual7w: Grounded question answer- ing i"
          ],
          [
           "../data/arxiv/pdfs/2410.05160v3.pdf",
           67,
           "ImageNet-R (Hendrycks et al., 2021a) The dataset contains set of images labeled with ImageNet labels"
          ],
          [
           "../data/arxiv/pdfs/2410.05160v3.pdf",
           68,
           "ObjectNet (Barbu et al., 2019) The dataset is a crowd-sourced test set of 50K images featuring objec"
          ],
          [
           "../data/arxiv/pdfs/2410.05160v3.pdf",
           69,
           "InfographicsVQA (Mathew et al., 2022) The dataset comprises a diverse collection of infographics acc"
          ],
          [
           "../data/arxiv/pdfs/2410.05160v3.pdf",
           70,
           "VizWiz (Gurari et al., 2018) The dataset originates from a natural visual question answering sce- na"
          ],
          [
           "../data/arxiv/pdfs/2410.05160v3.pdf",
           71,
           "CIRR (Liu et al., 2021) The dataset is designed for the task of composed image retrieval. It consist"
          ],
          [
           "../data/arxiv/pdfs/2410.05160v3.pdf",
           72,
           "WebQA (Chang et al., 2022) The dataset is a multihop, multimodal QA dataset that requires re- trievi"
          ],
          [
           "../data/arxiv/pdfs/2410.05160v3.pdf",
           73,
           "EDIS (Liu et al., 2023) The dataset is a cross-modal image search in the news domain. This dataset c"
          ],
          [
           "../data/arxiv/pdfs/2410.05160v3.pdf",
           74,
           "A.1.4 VISUAL GROUNDING  There are a total of 4 datasets for visual grounding tasks.  MSCOCO (Lin et "
          ],
          [
           "../data/arxiv/pdfs/2410.05160v3.pdf",
           75,
           "Visual7W-pointing (Zhu et al., 2016) The dataset establishes a semantic link between textual de- scr"
          ],
          [
           "../data/arxiv/pdfs/2410.05160v3.pdf",
           76,
           "20  Manuscript  Table 5: We compare the performance of VLM2VEC using different numbers of candidates"
          ],
          [
           "../data/arxiv/pdfs/2410.05160v3.pdf",
           77,
           "CLIP OpenCLIP SigLIP BLIP2 MagicLens E5-V UniIR VLM2VEC  Classification (10 tasks) ImageNet-1K N24Ne"
          ],
          [
           "../data/arxiv/pdfs/2410.05160v3.pdf",
           78,
           "VQA (10 tasks) OK-VQA A-OKVQA DocVQA InfographicsVQA ChartQA Visual7W ScienceQA VizWiz GQA TextVQA A"
          ],
          [
           "../data/arxiv/pdfs/2410.05160v3.pdf",
           79,
           "Retrieval (12 tasks) VisDial CIRR VisualNews t2i VisualNews i2t MSCOCO t2i MSCOCO i2t NIGHTS WebQA F"
          ],
          [
           "../data/arxiv/pdfs/2410.05160v3.pdf",
           80,
           "42.2 51.3 74.3 76.8 68.5 72.1 66.2 89.6 40.2 12.2 69.4 79.2 61.8  Visual Grounding (4 tasks) MSCOCO "
          ],
          [
           "../data/arxiv/pdfs/2410.05160v3.pdf",
           81,
           "69.0 54.4 52.0 30.7 34.8 49.8 42.1 43.0 61.2 62.0 49.9  80.9 49.9 75.4 80.0 75.7 73.1 65.5 87.6 16.2"
          ],
          [
           "../data/arxiv/pdfs/2410.05160v3.pdf",
           82,
           "Style    Classification  VOC2007 et al., 2014)  (Everingham  Identify the object shown in the image."
          ],
          [
           "../data/arxiv/pdfs/2410.05160v3.pdf",
           83,
           "DocVQA (Mathew et al., 2021)  Represent the given image with the following question. What is name of"
          ],
          [
           "../data/arxiv/pdfs/2410.05160v3.pdf",
           84,
           "Category  Dataset  Query Text  Query Image  Target Text  Target Image  VisDial (Das et al., 2017)  R"
          ],
          [
           "../data/arxiv/pdfs/2410.05160v3.pdf",
           85,
           "Represent the given Wikipedia im- age with related text information. Hays County Courthouse (2018), "
          ],
          [
           "../data/arxiv/pdfs/2410.05160v3.pdf",
           86,
           "Category  Dataset  Query Text  Query Image  Target Text  Target Image  CIRR (Liu et al., 2021)  Give"
          ],
          [
           "../data/arxiv/pdfs/2410.05160v3.pdf",
           87,
           "image- Retrieve provides description evidence for the question of this image. What is the name of th"
          ],
          [
           "../data/arxiv/pdfs/2410.05160v3.pdf",
           88,
           "Represent the given cropped image of the object.  Grounding  RefCOCO (Kazemzadeh et al., 2014)  Sele"
          ],
          [
           "../data/arxiv/pdfs/2410.05160v3.pdf",
           89,
           "Model  image retrieval  text retrieval  R@1 R@5 R@10 R@1 R@5 R@10  OpenAI CLIP-B/16 Open CLIP-B/16 E"
          ],
          [
           "../data/arxiv/pdfs/2503.03987v1.pdf",
           0,
           "5 2 0 2  r a  M 6  ]  V C . s c [  1 v 7 8 9 3 0 . 3 0 5 2 : v i X r a  RetinalGPT: A Retinal Clinic"
          ],
          [
           "../data/arxiv/pdfs/2503.03987v1.pdf",
           1,
           "Abstract. Recently, Multimodal Large Language Models (MLLMs) have gained significant attention for t"
          ],
          [
           "../data/arxiv/pdfs/2503.03987v1.pdf",
           2,
           ". Be- yond disease diagnosis, RetinalGPT features quantitative analyses and lesion localization, rep"
          ],
          [
           "../data/arxiv/pdfs/2503.03987v1.pdf",
           3,
           "Keywords: Foundation Model · Vision Language Model · Multimodal · Conversational AI assistants  Thes"
          ],
          [
           "../data/arxiv/pdfs/2503.03987v1.pdf",
           4,
           "Vision-language models (VLMs) integrate visual and textual data, enabling computers to process and a"
          ],
          [
           "../data/arxiv/pdfs/2503.03987v1.pdf",
           5,
           "However, existing medical-domain VLMs still suffer from certain limitations when it comes to handlin"
          ],
          [
           "../data/arxiv/pdfs/2503.03987v1.pdf",
           6,
           "Title Suppressed Due to Excessive Length  Fig. 1. Top: the process of obtaining data. Bottom: The co"
          ],
          [
           "../data/arxiv/pdfs/2503.03987v1.pdf",
           7,
           "3  4  Zhu. Wenhui et al."
          ],
          [
           "../data/arxiv/pdfs/2503.03987v1.pdf",
           8,
           "vessels, vessel density, branch angle, curvature tortuosity, as well as other mor- phological charac"
          ],
          [
           "../data/arxiv/pdfs/2503.03987v1.pdf",
           9,
           ". Retinal Concepts Alignment Data. For each image, we generate single- round instruction-following d"
          ],
          [
           "../data/arxiv/pdfs/2503.03987v1.pdf",
           10,
           "Human: Xq <STOP> Assistant: XmXd <STOP>"
          ],
          [
           "../data/arxiv/pdfs/2503.03987v1.pdf",
           11,
           "The generated question Xq is designed to provide a concise and generic in- quiry about information o"
          ],
          [
           "../data/arxiv/pdfs/2503.03987v1.pdf",
           12,
           ". Additionally, we designed specific prompts to guide GPT-4 [15] in generating targeted question-ans"
          ],
          [
           "../data/arxiv/pdfs/2503.03987v1.pdf",
           13,
           "Title Suppressed Due to Excessive Length  38K retina fundus images as the Retinal Concepts Tuning (3"
          ],
          [
           "../data/arxiv/pdfs/2503.03987v1.pdf",
           14,
           "2.2 Training Strategies  We adopted the architecture employed by LLaVA and LLaVA-Med for our MLLM wh"
          ],
          [
           "../data/arxiv/pdfs/2503.03987v1.pdf",
           15,
           "5  6  Zhu. Wenhui et al."
          ],
          [
           "../data/arxiv/pdfs/2503.03987v1.pdf",
           16,
           "retinal specific domain knowledge, it is trained with the 38k RCT QA clinical preference instruction"
          ],
          [
           "../data/arxiv/pdfs/2503.03987v1.pdf",
           17,
           "3 Experiment  3.1 Evaluation Datasets  In order to enhance the generalization of our model, we colle"
          ],
          [
           "../data/arxiv/pdfs/2503.03987v1.pdf",
           18,
           "3.2 Multi-Disease Abnormal Detection  To evaluate the effectiveness of abnormality detection, we sel"
          ],
          [
           "../data/arxiv/pdfs/2503.03987v1.pdf",
           19,
           "54.17  56.43  55.38  65.15  LLaVA-med  47.00  55.57  49.01  53.33  57.14  48.92  53.09  GPT-4o  54.3"
          ],
          [
           "../data/arxiv/pdfs/2503.03987v1.pdf",
           20,
           "13.85  55.41  44.16  31.17  7  8  Zhu. Wenhui et al.  lar metrics for specific regions upon further "
          ],
          [
           "../data/arxiv/pdfs/2503.03987v1.pdf",
           21,
           "Title Suppressed Due to Excessive Length  4 Conclusion  In this paper, we introduce RetinalGPT, a ML"
          ],
          [
           "../data/arxiv/pdfs/2503.03987v1.pdf",
           22,
           "2. Askell, A., Bai, Y., Chen, A., Drain, D., Ganguli, D., Henighan, T., Jones, A., Joseph, N., Mann,"
          ],
          [
           "../data/arxiv/pdfs/2503.03987v1.pdf",
           23,
           "3. Cheung, C.Y., Ran, A.R., Wang, S., Chan, V.T.T., Sham, K., Hilal, S., Venke- tasubramanian, N., C"
          ],
          [
           "../data/arxiv/pdfs/2503.03987v1.pdf",
           24,
           ".1016/S2589-7500(22)00169-8, https://doi. org/10.1016/S2589-7500(22)00169-8"
          ],
          [
           "../data/arxiv/pdfs/2503.03987v1.pdf",
           25,
           "4. Dong, X., Vasa, V.K., Zhu, W., Qiu, P., Chen, X., Su, Y., Xiong, Y., Yang, Z., Chen, Y., Wang, Y."
          ],
          [
           "../data/arxiv/pdfs/2503.03987v1.pdf",
           26,
           "6. Dumitrascu, O.M., Li, X., Zhu, W., Woodruff, B.K., Nikolova, S., Sobczak, J., Youssef, A., Saxena"
          ],
          [
           "../data/arxiv/pdfs/2503.03987v1.pdf",
           27,
           "9. Grattafiori, A., Dubey, A., Jauhri, A., ...: The llama 3 herd of models (2024),  https://arxiv.or"
          ],
          [
           "../data/arxiv/pdfs/2503.03987v1.pdf",
           28,
           "12. Li, N., Li, T., Hu, C., Wang, K., Kang, H.: A benchmark of ocular disease intelligent recognitio"
          ],
          [
           "../data/arxiv/pdfs/2503.03987v1.pdf",
           29,
           "16. Pachade, S., Porwal, P., Thulkar, D., Kokare, M., Deshmukh, G., Sahasrabuddhe, V., Giancardo, L."
          ],
          [
           "../data/arxiv/pdfs/2503.03987v1.pdf",
           30,
           "19. Vasa, V.K., Qiu, P., Zhu, W., Xiong, Y., Dumitrascu, O., Wang, Y.: Context- aware optimal transp"
          ],
          [
           "../data/arxiv/pdfs/2503.03987v1.pdf",
           31,
           "22. Zhang, K., Zhou, R., Adhikarla, E., Yan, Z., Liu, Y., Yu, J., Liu, Z., Chen, X., Davison, B.D., "
          ],
          [
           "../data/arxiv/pdfs/2503.03987v1.pdf",
           32,
           "23. Zhang, S., Xu, Y., Usuyama, N., Bagga, J., Tinn, R., Preston, S., Rao, R., Wei, M., Valluri, N.,"
          ],
          [
           "../data/arxiv/pdfs/2503.03987v1.pdf",
           33,
           "25. Zhou, Y., Wagner, S.K., Chia, M.A., Zhao, A., Xu, M., Struyven, R., Alexan- der, D.C., Keane, P."
          ],
          [
           "../data/arxiv/pdfs/2503.24388v1.pdf",
           0,
           "(b) agent with world model (a) VLM-based agent(d) RIG (Ours): synergized agent(c) hybrid-system agen"
          ],
          [
           "../data/arxiv/pdfs/2503.24388v1.pdf",
           1,
           "5 2 0 2  Abstract  r a  Reasoning before action and imagining potential outcomes (i.e., world models"
          ],
          [
           "../data/arxiv/pdfs/2503.24388v1.pdf",
           2,
           "M 1 3  ] I  A . s c [  1 v 8 8 3 4 2 . 3 0 5 2 : v i X r a  Figure 1. Comparison between conventiona"
          ],
          [
           "../data/arxiv/pdfs/2503.24388v1.pdf",
           3,
           "1. Introduction  To navigate the complexities of open-world environments, two quintessential human f"
          ],
          [
           "../data/arxiv/pdfs/2503.24388v1.pdf",
           4,
           "We develop RIG by adopting a progressive data collec- tion strategy because existing datasets typica"
          ],
          [
           "../data/arxiv/pdfs/2503.24388v1.pdf",
           5,
           "To further leverage visual imagination in reasoning to further improve the robustness of the policy,"
          ],
          [
           "../data/arxiv/pdfs/2503.24388v1.pdf",
           6,
           "We extensively evaluate RIG in the diverse, open-world Minecraft environment. Experimental results s"
          ],
          [
           "../data/arxiv/pdfs/2503.24388v1.pdf",
           7,
           "Embodied Agents in Minecraft. Minecraft presents a sig- nificantly open-ended and complex environmen"
          ],
          [
           "../data/arxiv/pdfs/2503.24388v1.pdf",
           8,
           ". Learning robust world models is essential for embodied agents to effec- tively plan and act within"
          ],
          [
           "../data/arxiv/pdfs/2503.24388v1.pdf",
           9,
           ". However, these datasets lack the interleaved action and reasoning trajectories required for traini"
          ],
          [
           "../data/arxiv/pdfs/2503.24388v1.pdf",
           10,
           "to real-world embodied scenarios. Generalist policies like GATO [29] and RT-1 [4] demonstrate multit"
          ],
          [
           "../data/arxiv/pdfs/2503.24388v1.pdf",
           11,
           "(Y,A,P) = F(X), X = {xIMG,xTXT}.  The model is trained in an end-to-end manner using only cross-entr"
          ],
          [
           "../data/arxiv/pdfs/2503.24388v1.pdf",
           12,
           "(1)  (2)  3  add reasoning contents before each action (S2). The details are as below: • S0 (Refined"
          ],
          [
           "../data/arxiv/pdfs/2503.24388v1.pdf",
           13,
           "S2 (Vision-Reasoning, 200K): To integrate reasoning in the original trajectories, we employ GPT-4o a"
          ],
          [
           "../data/arxiv/pdfs/2503.24388v1.pdf",
           14,
           "3.3. Lookahead Reasoning  Although RIG-basic demonstrates strong baseline perfor- mance, the reasoni"
          ],
          [
           "../data/arxiv/pdfs/2503.24388v1.pdf",
           15,
           "1. Crosshair is not aligned2. Turn down the view...3. camera: [10, 0]+ Wait! Let’s re-observe...”  P"
          ],
          [
           "../data/arxiv/pdfs/2503.24388v1.pdf",
           16,
           "Conversation Flow  dec  enc  dec  : left, forward, ...“A birch is in front of you... ”  enc  dataset"
          ],
          [
           "../data/arxiv/pdfs/2503.24388v1.pdf",
           17,
           "i+1) F←− (Xi,Pi+1,Yi+1,...,Pi+n,Yi+n). (5) This lookahead mechanism enables internal review and corr"
          ],
          [
           "../data/arxiv/pdfs/2503.24388v1.pdf",
           18,
           "We conduct comprehensive experiments to validate the ef- fectiveness of RIG across diverse tasks, fo"
          ],
          [
           "../data/arxiv/pdfs/2503.24388v1.pdf",
           19,
           "bodied scenarios.  4.1. Inplementation Details  RIG is initialized from the pretrained Janus-1.4B [8"
          ],
          [
           "../data/arxiv/pdfs/2503.24388v1.pdf",
           20,
           "4.2. Main Results  We first evaluate the data efficiency of RIG against prior ap- proaches (VPT [2],"
          ],
          [
           "../data/arxiv/pdfs/2503.24388v1.pdf",
           21,
           "Dreamer: 2101h (139h + VPT), STEVE-1 and Jarvis-1: nearly 2000h). Performance in Embodied Tasks. As "
          ],
          [
           "../data/arxiv/pdfs/2503.24388v1.pdf",
           22,
           ". 5, RIG-lookahead demonstrates superior reasoning capabilities, achieving a Reasoning score of 7.3,"
          ],
          [
           "../data/arxiv/pdfs/2503.24388v1.pdf",
           23,
           "4.3. Analysis of Scalability  We evaluate the scalability of RIG along three key di- mensions, train"
          ],
          [
           "../data/arxiv/pdfs/2503.24388v1.pdf",
           24,
           "training data volume. Increasing training data from 10% to 100% dramatically improves performance, e"
          ],
          [
           "../data/arxiv/pdfs/2503.24388v1.pdf",
           25,
           "4.4 41.8 37.8 37.9 88.7  8.4 30.3 34.6 44.1 79.6  +0.0 +21.9 +26.2 +35.7 +71.2  Tool (ID 0–4)  0 1 2"
          ],
          [
           "../data/arxiv/pdfs/2503.24388v1.pdf",
           26,
           "+0.0 +22.7 +16.0 +80.8 +81.5  Table 1. Ablation study on embodied tasks under different capability s"
          ],
          [
           "../data/arxiv/pdfs/2503.24388v1.pdf",
           27,
           "6.1 7.3  4  ✓  ✓  ✓  ✓  77.6  18.4  9.6  8.1  8.5  Table 2. Ablation study on Generation, Understand"
          ],
          [
           "../data/arxiv/pdfs/2503.24388v1.pdf",
           28,
           "patterns. However, variance, illustrated by shaded areas, tends to increase with iterations, reflect"
          ],
          [
           "../data/arxiv/pdfs/2503.24388v1.pdf",
           29,
           "7  gesting accumulated prediction errors or hallucinations be- come more prominent. For accuracy met"
          ],
          [
           "../data/arxiv/pdfs/2503.24388v1.pdf",
           30,
           "Effect of Generation. Incorporating visual generation sig- nificantly boosts performance, especially"
          ],
          [
           "../data/arxiv/pdfs/2503.24388v1.pdf",
           31,
           ".7 and accuracy by (1) re- +80.8. These gains arise from two key effects: ducing redundant actions, "
          ],
          [
           "../data/arxiv/pdfs/2503.24388v1.pdf",
           32,
           ". 3, self-reviewing enables the agent to antici- pate and reason over imagined future states, refini"
          ],
          [
           "../data/arxiv/pdfs/2503.24388v1.pdf",
           33,
           "8  Action, Generation, Basic Reasoning and Lookahead Rea- soning leads to the most robust performanc"
          ],
          [
           "../data/arxiv/pdfs/2503.24388v1.pdf",
           34,
           "Effect of Reasoning. Adding reasoning capabilities (ID 2 and ID 3) improves understanding and enviro"
          ],
          [
           "../data/arxiv/pdfs/2503.24388v1.pdf",
           35,
           "Effect of Synergizing Reasoning and Imagination. By jointly optimizing generation, reasoning, and re"
          ],
          [
           "../data/arxiv/pdfs/2503.24388v1.pdf",
           36,
           "5. Conclusion  This paper introduces RIG, an end-to-end Generalist pol- icy that integrates Reasonin"
          ],
          [
           "../data/arxiv/pdfs/2503.24388v1.pdf",
           37,
           "Data Distribution (Appendix A.3) analyzes the diversity of embodied tasks within our datasets, and i"
          ],
          [
           "../data/arxiv/pdfs/2503.24388v1.pdf",
           38,
           "Multi-Modal  9  21K QA benchmark, covering survival, crafting, entity understanding, and more.  Mult"
          ],
          [
           "../data/arxiv/pdfs/2503.24388v1.pdf",
           39,
           "A.1. Inference Pipeline  As illustrated in Fig. A1, RIG follows a multimodal au- toregressive genera"
          ],
          [
           "../data/arxiv/pdfs/2503.24388v1.pdf",
           40,
           "Real FlowX0X1XnA0A1  Dream FlowP0P1Pn  Real FlowX0X1XnA0A1  3  1  You are in a forest biome surround"
          ],
          [
           "../data/arxiv/pdfs/2503.24388v1.pdf",
           41,
           "2  (b) RIG-4s Task Distribution(c) RIG-MineRL Task Distribution  Figure A3. Qualitative example of l"
          ],
          [
           "../data/arxiv/pdfs/2503.24388v1.pdf",
           42,
           "tion decisions. Input: past frame, past action, task. Output: subtask, next action, next frame.  S2."
          ],
          [
           "../data/arxiv/pdfs/2503.24388v1.pdf",
           43,
           "A.3. Data Distribution  Fig. A4 visualizes the task distribution across our training datasets, which"
          ],
          [
           "../data/arxiv/pdfs/2503.24388v1.pdf",
           44,
           "10  Method  Vision Encoder  Parameters  Vision Quality (Gen.) MM Quality (Und.)  Evaluations  Autore"
          ],
          [
           "../data/arxiv/pdfs/2503.24388v1.pdf",
           45,
           "0.68 0.68 0.68  0.15 -0.01 0.02  POPE, VQAv2 (84.5, 74.7) - -  Table A1. Comparison of various unifi"
          ],
          [
           "../data/arxiv/pdfs/2503.24388v1.pdf",
           46,
           "6.649 4.123 6.077 4.564 12.252 -  27.21 28.93 27.06 30.84 29.91 24.16  29.62 30.28 29.81 31.73 30.69"
          ],
          [
           "../data/arxiv/pdfs/2503.24388v1.pdf",
           47,
           "Voyager [33]  STEVE [20]  RIG (Ours)  Demos  Videos  None  Videos  None  None  None  Videos  Videos "
          ],
          [
           "../data/arxiv/pdfs/2503.24388v1.pdf",
           48,
           "A.5. Tokenizer and Base Model Selection  We adopt LlamaGen 16×16 VQ tokenizer and Janus-1.4B as our "
          ],
          [
           "../data/arxiv/pdfs/2503.24388v1.pdf",
           49,
           "Fig. A5 further compares RIG-lookahead with GPT-4o  11  rFID↓  2.865 0.502 1.113 0.261 5.953 -  &  i"
          ],
          [
           "../data/arxiv/pdfs/2503.24388v1.pdf",
           50,
           "Resource Management: Gathering, mining, and inven- tory use.  Crafting and Construction: Recipes and"
          ],
          [
           "../data/arxiv/pdfs/2503.24388v1.pdf",
           51,
           "12  A.9. Environment Details  We use Minecraft as the testbed for embodied agents due to its open-en"
          ],
          [
           "../data/arxiv/pdfs/2503.24388v1.pdf",
           52,
           "For the camera action, which is originally a 2D continuous vector [a,b] representing pitch and yaw i"
          ],
          [
           "../data/arxiv/pdfs/2503.24388v1.pdf",
           53,
           "We adapt  not close enough cannot attack immediately.2 The tree  HUD state is the same (no tools, on"
          ],
          [
           "../data/arxiv/pdfs/2503.24388v1.pdf",
           54,
           "attack (attack the trunk with your hands)Next frame speculation:•  GPT-4o Image Generation Updated V"
          ],
          [
           "../data/arxiv/pdfs/2503.24388v1.pdf",
           55,
           "ronment in perpetual daytime.  /gamerule keepInventory true: Prevents item loss  upon death. These c"
          ],
          [
           "../data/arxiv/pdfs/2503.24388v1.pdf",
           56,
           "RIG Output (Response):  The reasoning: In the current frame, the task is to build a tower, but no su"
          ],
          [
           "../data/arxiv/pdfs/2503.24388v1.pdf",
           57,
           "}  }  ]  14  References  [1] Niket Agarwal, Arslan Ali, Maciej Bala, Yogesh Balaji, Erik Barker, Tif"
          ],
          [
           "../data/arxiv/pdfs/2503.24388v1.pdf",
           58,
           "[4] Anthony Brohan, Noah Brown, Justice Carbajal, Yevgen Chebotar, Joseph Dabis, Chelsea Finn, Keert"
          ],
          [
           "../data/arxiv/pdfs/2503.24388v1.pdf",
           59,
           "[5] Tom Brown, Benjamin Mann, Nick Ryder, Melanie Sub- biah, Jared D Kaplan, Prafulla Dhariwal, Arvi"
          ],
          [
           "../data/arxiv/pdfs/2503.24388v1.pdf",
           60,
           "[8] Xiaokang Chen, Zhiyu Wu, Xingchao Liu, Zizheng Pan, Wen Liu, Zhenda Xie, Xingkai Yu, and Chong R"
          ],
          [
           "../data/arxiv/pdfs/2503.24388v1.pdf",
           61,
           "[12] Lijie Fan, Tianhong Li, Siyang Qin, Yuanzhen Li, Chen Sun, Michael Rubinstein, Deqing Sun, Kaim"
          ],
          [
           "../data/arxiv/pdfs/2503.24388v1.pdf",
           62,
           "[16] Danijar Hafner, Jurgis Pasukonis, Jimmy Ba, and Timothy Lillicrap. Mastering diverse domains th"
          ],
          [
           "../data/arxiv/pdfs/2503.24388v1.pdf",
           63,
           "[21] Jessy Lin, Yuqing Du, Olivia Watkins, Danijar Hafner, Pieter Abbeel, Dan Klein, and Anca Dragan"
          ],
          [
           "../data/arxiv/pdfs/2503.24388v1.pdf",
           64,
           "[26] Kolby Nottingham, Prithviraj Ammanabrolu, Alane Suhr, Yejin Choi, Hannaneh Hajishirzi, Sameer S"
          ],
          [
           "../data/arxiv/pdfs/2503.24388v1.pdf",
           65,
           "[30] Julian Schrittwieser, Ioannis Antonoglou, Thomas Hubert, Karen Simonyan, Laurent Sifre, Simon S"
          ],
          [
           "../data/arxiv/pdfs/2503.24388v1.pdf",
           66,
           "[33] Guanzhi Wang, Yuqi Xie, Yunfan Jiang, Ajay Mandlekar, Chaowei Xiao, Yuke Zhu, Linxi Fan, and An"
          ],
          [
           "../data/arxiv/pdfs/2503.24388v1.pdf",
           67,
           "[36] Zihao Wang, Shaofei Cai, Anji Liu, Xiaojian Ma, and Yitao Liang. Describe, explain, plan and se"
          ],
          [
           "../data/arxiv/pdfs/2503.24388v1.pdf",
           68,
           "[39] Lili Yu, Bowen Shi, Ramakanth Pasunuru, Benjamin Muller, Olga Golovneva, Tianlu Wang, Arun Babu"
          ],
          [
           "../data/arxiv/pdfs/2503.24388v1.pdf",
           69,
           "Zongqing Lu. with imagination for creative tasks. arXiv:2312.02519, 2023. 1  [43] Zhonghan Zhao, Wen"
          ],
          [
           "../data/arxiv/pdfs/2503.24388v1.pdf",
           70,
           "[46] Sipeng Zheng, Jiazheng Liu, Yicheng Feng, and Zongqing Steve-eye: Equipping llm-based embodied "
          ],
          [
           "../data/arxiv/pdfs/2501.16378v1.pdf",
           0,
           "5 2 0 2  n a J  4 2  ]  G L . s c [  1 v 8 7 3 6 1 . 1 0 5 2 : v i X r a  Internal Activation Revisi"
          ],
          [
           "../data/arxiv/pdfs/2501.16378v1.pdf",
           1,
           "Warning: This paper contains offensive content that may disturb some readers. Vision-language models"
          ],
          [
           "../data/arxiv/pdfs/2501.16378v1.pdf",
           2,
           ".94%, 34.34%, 43.92%, and 52.98% on SafeBench, Safe- Unsafe, Unsafe, and MM-SafetyBench, respectivel"
          ],
          [
           "../data/arxiv/pdfs/2501.16378v1.pdf",
           3,
           "Introduction Large language models (LLMs) have been further enhanced by adopting visual instruction "
          ],
          [
           "../data/arxiv/pdfs/2501.16378v1.pdf",
           4,
           "These authors contributed equally. †Corresponding author.  ical standards (Ouyang et al. 2022; Rafai"
          ],
          [
           "../data/arxiv/pdfs/2501.16378v1.pdf",
           5,
           "To investigate this area, we examine the vulnerabilities of VLMs by analyzing the differences in int"
          ],
          [
           "../data/arxiv/pdfs/2501.16378v1.pdf",
           6,
           "Figure 1: Computation flow at the transformer layer l, with head-level revision after head attention"
          ],
          [
           "../data/arxiv/pdfs/2501.16378v1.pdf",
           7,
           "We propose the internal activation revision approach to enhance the safety of VLMs. This method outp"
          ],
          [
           "../data/arxiv/pdfs/2501.16378v1.pdf",
           8,
           "internal states for a deeper understanding of its behav- ior (Zhu et al. 2021, 2024; Song et al. 202"
          ],
          [
           "../data/arxiv/pdfs/2501.16378v1.pdf",
           9,
           ". Activation addition (Turner et al. 2023) involves adding a fixed vector to the activations of spec"
          ],
          [
           "../data/arxiv/pdfs/2501.16378v1.pdf",
           10,
           "Why VLMs Are More Vulnerable?  Preliminary Before explaining the methodology, we briefly introduce t"
          ],
          [
           "../data/arxiv/pdfs/2501.16378v1.pdf",
           11,
           "process continues through all subsequent layers, forming a sequence of vectors x0,...,xn. Finally, t"
          ],
          [
           "../data/arxiv/pdfs/2501.16378v1.pdf",
           12,
           "Dataset To our best knowledge, existing unimodal and multimodal instruction datasets containing both"
          ],
          [
           "../data/arxiv/pdfs/2501.16378v1.pdf",
           13,
           ". SafeBench (Gong et al. 2023) includes 500 harmful instructions across ten topics forbidden by Ope-"
          ],
          [
           "../data/arxiv/pdfs/2501.16378v1.pdf",
           14,
           "(1)  Figure 2: 2D t-SNE visualization of internal activations from the 5th, 15th, and 31st layers. T"
          ],
          [
           "../data/arxiv/pdfs/2501.16378v1.pdf",
           15,
           "Activation Visualization with t-SNE Figure 2 illustrates the distribution of activations of the last"
          ],
          [
           "../data/arxiv/pdfs/2501.16378v1.pdf",
           16,
           "Figure 5: An example of Multi-Response.  our classification dataset denoted as {((x′)l,h,y)i}M i=1. "
          ],
          [
           "../data/arxiv/pdfs/2501.16378v1.pdf",
           17,
           "We randomly divide the dataset TextSetA into training and validation sets with a 4:1 ratio. A binary"
          ],
          [
           "../data/arxiv/pdfs/2501.16378v1.pdf",
           18,
           ". The accuracy differ- ence indicates that the safety alignments of LLMs embedded within VLMs are no"
          ],
          [
           "../data/arxiv/pdfs/2501.16378v1.pdf",
           19,
           "Activation Revision for Safety Enhancement Based on the above observations, we propose an activation"
          ],
          [
           "../data/arxiv/pdfs/2501.16378v1.pdf",
           20,
           "x′ l = xl + O  H (cid:88)  (cid:16)  Atth  l (xl) + αθl,hrhead l,h  (cid:17)  h=1  = xl + O  H (cid:"
          ],
          [
           "../data/arxiv/pdfs/2501.16378v1.pdf",
           21,
           "and rhead  l  ′′  )l,y)i}2×N  (Al)+ = {((x (Al)− = {((x  ′′  ′′  )l,y = 1)i}N )l,y = 0)i}N  i=1,  i="
          ],
          [
           "../data/arxiv/pdfs/2501.16378v1.pdf",
           22,
           "ScienceQA ACC (%) ↑  GQA ACC (%) ↑  B 7 - 5 . 1 V A V a L L    Vanilla Adashield MLLM-Protector Fine"
          ],
          [
           "../data/arxiv/pdfs/2501.16378v1.pdf",
           23,
           "70.78 65.31 63.75 61.28 59.40 61.25 62.49 63.28 62.12 61.74 60.75 63.68  75.22 74.25 74.11 74.97 74."
          ],
          [
           "../data/arxiv/pdfs/2501.16378v1.pdf",
           24,
           "72.83 38.32 35.74 30.56 45.79 43.01 38.32 35.16 32.41 33.27 30.94 27.16  82.33 38.54 30.17 38.41 43."
          ],
          [
           "../data/arxiv/pdfs/2501.16378v1.pdf",
           25,
           "73.19 27.04 22.00 25.16 43.74 40.54 37.16 33.21 32.69 30.97 26.94 23.56  53.92 30.37 25.33 23.51 35."
          ],
          [
           "../data/arxiv/pdfs/2501.16378v1.pdf",
           26,
           "and negative activations. While MMS calculates the average activations of positive and negative samp"
          ],
          [
           "../data/arxiv/pdfs/2501.16378v1.pdf",
           27,
           "Evaluation We evaluate our proposed method from two perspectives. For safety, we measure the attack "
          ],
          [
           "../data/arxiv/pdfs/2501.16378v1.pdf",
           28,
           "− ACCvanilla  j  (cid:17) ,  (cid:124)  (cid:123)(cid:122) Helpfulness Score  (cid:125)  where Dhelp"
          ],
          [
           "../data/arxiv/pdfs/2501.16378v1.pdf",
           29,
           "(7)  l\\α  0.5  1.0  1.5  2.0  4 9 14 19 24 29 31  4.218 3.353 4.470 2.400 3.900 1.275 0.565  8.590 1"
          ],
          [
           "../data/arxiv/pdfs/2501.16378v1.pdf",
           30,
           "Table 3: Composite scores of layer-level and head-level re- vision. l and α represent the layer and "
          ],
          [
           "../data/arxiv/pdfs/2501.16378v1.pdf",
           31,
           "(1) The head-level activation revision method using Multi-Response with MMS achieves the best perfor"
          ],
          [
           "../data/arxiv/pdfs/2501.16378v1.pdf",
           32,
           "(2) Head-level revision achieves a better balance between safety and helpfulness than layer-level re"
          ],
          [
           "../data/arxiv/pdfs/2501.16378v1.pdf",
           33,
           "(4) MMS outperforms PWD. When using Multi- Response, MMS outperforms PWD in both head-level and laye"
          ],
          [
           "../data/arxiv/pdfs/2501.16378v1.pdf",
           34,
           "(1) With the same α, deeper layers lead to a greater im- pact across various tasks. ASR on SafeBench"
          ],
          [
           "../data/arxiv/pdfs/2501.16378v1.pdf",
           35,
           "(3) Determination of optimal parameters. From Fig- ure 6, it is evident that revising activations at"
          ],
          [
           "../data/arxiv/pdfs/2501.16378v1.pdf",
           36,
           "Comparing Tables 3(a) and 3(b), we observe that head- level revision typically yields higher composi"
          ],
          [
           "../data/arxiv/pdfs/2501.16378v1.pdf",
           37,
           "(5) Computational cost. The optimal performance of our method relies on hyperparameter search. Howev"
          ],
          [
           "../data/arxiv/pdfs/2501.16378v1.pdf",
           38,
           "adhere to principles of respect and dignity for all people. The inclusion of offensive materials, in"
          ],
          [
           "../data/arxiv/pdfs/2501.16378v1.pdf",
           39,
           "References Azaria, A.; and Mitchell, T. 2023. The Internal State of an LLM Knows When It’s Lying. In"
          ],
          [
           "../data/arxiv/pdfs/2501.16378v1.pdf",
           40,
           ". arXiv preprint arXiv:2310.09478. Chen, Z.; Wu, J.; Wang, W.; Su, W.; Chen, G.; Xing, S.; In- Zhong"
          ],
          [
           "../data/arxiv/pdfs/2501.16378v1.pdf",
           41,
           ". Computer Vision Foundation / IEEE. Ji, J.; Qiu, T.; Chen, B.; Zhang, B.; Lou, H.; Wang, K.; Duan, "
          ],
          [
           "../data/arxiv/pdfs/2501.16378v1.pdf",
           42,
           "Kim, B.; Wattenberg, M.; Gilmer, J.; Cai, C. J.; Wexler, J.; Vi´egas, F. B.; and Sayres, R. 2018. In"
          ],
          [
           "../data/arxiv/pdfs/2501.16378v1.pdf",
           43,
           ". In Al-Onaizan, Y.; Bansal, M.; and Chen, Y.-N., eds., Findings of the Association for Com- putatio"
          ],
          [
           "../data/arxiv/pdfs/2501.16378v1.pdf",
           44,
           ". In European Confer- ence on Computer Vision, 386–403. Springer. Liu, X.; Zhu, Y.; Lan, Y.; Yang, C"
          ],
          [
           "../data/arxiv/pdfs/2501.16378v1.pdf",
           45,
           ".; Almeida, D.; Wainwright, C.; Mishkin, P.; Zhang, C.; Agarwal, S.; Slama, K.; Ray, A.; Schulman, J"
          ],
          [
           "../data/arxiv/pdfs/2501.16378v1.pdf",
           46,
           "break Attacks. In Dinkar, T.; Attanasio, G.; Curry, A. C.; Konstas, I.; Hovy, D.; and Rieser, V., ed"
          ],
          [
           "../data/arxiv/pdfs/2501.16378v1.pdf",
           47,
           ". In Oh, A.; Naumann, T.; Globerson, A.; Saenko, K.; Hardt, M.; and Levine, S., eds., Advances in Ne"
          ],
          [
           "../data/arxiv/pdfs/2501.16378v1.pdf",
           48,
           ". In Duh, K.; Gomez, H.; and Bethard, S., eds., Proceedings of the 2024 Conference of the North Amer"
          ],
          [
           "../data/arxiv/pdfs/2501.16378v1.pdf",
           49,
           ". Florence, Italy: Association for Com- putational Linguistics. Turner, A.; Thiergart, L.; Udell, D."
          ],
          [
           "../data/arxiv/pdfs/2501.16378v1.pdf",
           50,
           "V. N.; and Garnett, R., eds., Advances in Neural Informa- tion Processing Systems 30: Annual Confere"
          ],
          [
           "../data/arxiv/pdfs/2501.16378v1.pdf",
           51,
           ".12030. Zhu, D.; Chen, D.; Li, Q.; Chen, Z.; Ma, L.; Grossklags, J.; and Fritz, M. 2024. PoLLMgraph:"
          ],
          [
           "../data/arxiv/pdfs/2501.16378v1.pdf",
           52,
           "Appendix  Visulization of layer activations We use t-SNE to visualize the extracted layer activation"
          ],
          [
           "../data/arxiv/pdfs/2501.16378v1.pdf",
           53,
           "Figure 7: 2D layer activations using t-SNE. The blue and red dots represent positive and negative sa"
          ],
          [
           "../data/arxiv/pdfs/2501.16378v1.pdf",
           54,
           "The impact of head utilization ratio on model perfor- mance. Based on the observations in Figure 8, "
          ],
          [
           "../data/arxiv/pdfs/2502.20780v1.pdf",
           0,
           "5 2 0 2  b e F 8 2  ] I  A . s c [  1 v 0 8 7 0 2 . 2 0 5 2 : v i X r a  MedHallTune: An Instruction"
          ],
          [
           "../data/arxiv/pdfs/2502.20780v1.pdf",
           1,
           "Abstract. The increasing use of vision-language models (VLMs) in health- care applications presents "
          ],
          [
           "../data/arxiv/pdfs/2502.20780v1.pdf",
           2,
           "Keywords: Medical hallucination · Hallucination mitigation · Large vision-language models.  1  Intro"
          ],
          [
           "../data/arxiv/pdfs/2502.20780v1.pdf",
           3,
           "and visual data interpretation. While these models demonstrate great potential in various applicatio"
          ],
          [
           "../data/arxiv/pdfs/2502.20780v1.pdf",
           4,
           "Despite growing attention to hallucinations in VLMs, there is a significant gap in research focusing"
          ],
          [
           "../data/arxiv/pdfs/2502.20780v1.pdf",
           5,
           "To address these issues, we formulate a medical hallucination tuning dataset, namely MedHallTune, de"
          ],
          [
           "../data/arxiv/pdfs/2502.20780v1.pdf",
           6,
           "reliability and trustworthiness of VLMs in real-world healthcare applications. To sum up, our contri"
          ],
          [
           "../data/arxiv/pdfs/2502.20780v1.pdf",
           7,
           "2 MedHallTune  In this section, we present MedHallTune, designed to mitigate and evaluate hallucinat"
          ],
          [
           "../data/arxiv/pdfs/2502.20780v1.pdf",
           8,
           "4 https://pubmed.ncbi.nlm.nih.gov/  3  4  Y. Qiao et al.  Table 1. Comparison of datasets in medical"
          ],
          [
           "../data/arxiv/pdfs/2502.20780v1.pdf",
           9,
           "2.1 Data Construction  Hallucination Instruction Generation. Inspired by [16], we classify negative "
          ],
          [
           "../data/arxiv/pdfs/2502.20780v1.pdf",
           10,
           "2.2 Quality Control  To prevent the introduction of contradictory descriptive information that may a"
          ],
          [
           "../data/arxiv/pdfs/2502.20780v1.pdf",
           11,
           "2.3 Data Statistics  We sample over 100,000 annotated images from existing datasets [13,4] sourced f"
          ],
          [
           "../data/arxiv/pdfs/2502.20780v1.pdf",
           12,
           "This evaluation comprises four critical metrics as detailed in Fig. 4: Clinical Ac- curacy, Clinical"
          ],
          [
           "../data/arxiv/pdfs/2502.20780v1.pdf",
           13,
           ". For example, in response to the incorrect answer \"Yes, the mass appears to be smooth and well-defi"
          ],
          [
           "../data/arxiv/pdfs/2502.20780v1.pdf",
           14,
           "3 Experiments  We conduct comprehensive evaluation of state-of-the-art VLVMs, including both those t"
          ],
          [
           "../data/arxiv/pdfs/2502.20780v1.pdf",
           15,
           "P&N ↑  P&N ↑  GPT-4o MiniGPT-4 Janus-Pro mPLUG-Owl2 Qwen-VL-Chat ⊕MedHallTune InternVL-v1.5 ⊕MedHall"
          ],
          [
           "../data/arxiv/pdfs/2502.20780v1.pdf",
           16,
           "0.33&0.27 0.88&0.87 7.56&5.67 0.22&0.22 0.85&0.85 5.90&4.15 0.38&0.21 0.91&0.88 7.42&5.21 0.35&0.24 "
          ],
          [
           "../data/arxiv/pdfs/2502.20780v1.pdf",
           17,
           "3.91&3.23 4.69& 3.00 4.79&3.12 Med-Flamingo 3.69&4.03 4.17&4.91 3.81&4.41 RadFM 7.08&4.88 6.55&4.49 "
          ],
          [
           "../data/arxiv/pdfs/2502.20780v1.pdf",
           18,
           "[21], (9) HuatuoGPT-Vision-7b [4], (10) HealthGPT-M3 [14], and (11) LLaVA- Med-v1.5-7b [13]. Each mo"
          ],
          [
           "../data/arxiv/pdfs/2502.20780v1.pdf",
           19,
           ". Furthermore, the MedHallTune tuned model achieves the highest Bert Score (0.93&0.90) and METEOR Sc"
          ],
          [
           "../data/arxiv/pdfs/2502.20780v1.pdf",
           20,
           "Zero-shot Analysis. We evaluate three selected VLMs on several biomedi- cal VQA datasets without fur"
          ],
          [
           "../data/arxiv/pdfs/2502.20780v1.pdf",
           21,
           "7  8  Y. Qiao et al.  Table 3. Zero-shot performance of different methods on medical VQA datasets.  "
          ],
          [
           "../data/arxiv/pdfs/2502.20780v1.pdf",
           22,
           "49.81 52.31 49.49 56.45 47.66 50.82  Fig. 5. Ablation study comparing model performance across train"
          ],
          [
           "../data/arxiv/pdfs/2502.20780v1.pdf",
           23,
           "Fig. 5(b)(c)(d)(e) illustrate the increasing performance gains achieved by training on 25%, 50%, 75%"
          ],
          [
           "../data/arxiv/pdfs/2502.20780v1.pdf",
           24,
           "References  1. Agarwal, V., Jin, Y., Chandra, M., Choudhury, M.D., Kumar, S., Sastry, N.R.: Medhalu:"
          ],
          [
           "../data/arxiv/pdfs/2502.20780v1.pdf",
           25,
           "4. Chen, J., Gui, C., Ouyang, R., Gao, A., Chen, S., Chen, G., Wang, X., Cai, Z., Ji, K., Wan, X., e"
          ],
          [
           "../data/arxiv/pdfs/2502.20780v1.pdf",
           26,
           "7. Gu, Z., Yin, C., Liu, F., Zhang, P.: Medvh: Towards systematic evalua- tion of hallucination for "
          ],
          [
           "../data/arxiv/pdfs/2502.20780v1.pdf",
           27,
           "10. Hu, Y., Li, T., Lu, Q., Shao, W., He, J., Qiao, Y., Luo, P.: Omnimedvqa: A new large-scale compr"
          ],
          [
           "../data/arxiv/pdfs/2502.20780v1.pdf",
           28,
           "13. Li, C., Wong, C., Zhang, S., Usuyama, N., Liu, H., Yang, J., Naumann, T., Poon, H., Gao, J.: Lla"
          ],
          [
           "../data/arxiv/pdfs/2502.20780v1.pdf",
           29,
           "14. Lin, T., Zhang, W., Li, S., Yuan, Y., Yu, B., Li, H., He, W., Jiang, H., Li, M., Song, X., Tang,"
          ],
          [
           "../data/arxiv/pdfs/2502.20780v1.pdf",
           30,
           "16. Liu, F., Lin, K., Li, L., Wang, J., Yacoob, Y., Wang, L.: Mitigating hallucination in large mult"
          ],
          [
           "../data/arxiv/pdfs/2502.20780v1.pdf",
           31,
           "19. Thirunavukarasu, A.J., Ting, D.S.J., Elangovan, K., Gutierrez, L., Tan, T.F., Ting, D.S.W.: Larg"
          ],
          [
           "../data/arxiv/pdfs/2502.20780v1.pdf",
           32,
           "22. Xia, P., Chen, Z., Tian, J., Gong, Y., Hou, R., Xu, Y., Wu, Z., Fan, Z., Zhou, Y., Zhu, K., et a"
          ],
          [
           "../data/arxiv/pdfs/2502.20780v1.pdf",
           33,
           "25. Zhang, X., Wu, C., Zhao, Z., Lin, W., Zhang, Y., Wang, Y., Xie, W.: Pmc-vqa: Visual instruction "
          ],
          [
           "../data/arxiv/pdfs/2502.18116v2.pdf",
           0,
           "5 2 0 2  b e F 6 2  ]  V C . s c [  2 v 6 1 1 8 1 . 2 0 5 2 : v i X r a  Bayesian Optimization for C"
          ],
          [
           "../data/arxiv/pdfs/2502.18116v2.pdf",
           1,
           "2University of Manchester  4Tsinghua University  5FancyTech  3University of Washington  6University "
          ],
          [
           "../data/arxiv/pdfs/2502.18116v2.pdf",
           2,
           "1  Introduction  In the rapidly evolving field of visual content ma- nipulation, image editing has g"
          ],
          [
           "../data/arxiv/pdfs/2502.18116v2.pdf",
           3,
           "et al., 2023), have introduced methods to fine-tune and guide transformations in existing images rat"
          ],
          [
           "../data/arxiv/pdfs/2502.18116v2.pdf",
           4,
           "However, despite these advancements, existing methods face several critical challenges. First, most "
          ],
          [
           "../data/arxiv/pdfs/2502.18116v2.pdf",
           5,
           "To address these challenges, we propose BayesGenie: a novel framework that achieves precise localize"
          ],
          [
           "../data/arxiv/pdfs/2502.18116v2.pdf",
           6,
           "In summary, our contributions are:  We propose BayesGenie, a novel image edit- ing framework that en"
          ],
          [
           "../data/arxiv/pdfs/2502.18116v2.pdf",
           7,
           "1.1 Related Work  Image-to- Image-to-Image Generation Models image translation models have become in"
          ],
          [
           "../data/arxiv/pdfs/2502.18116v2.pdf",
           8,
           "The Instruct Pix2Pix framework represents a sig- nificant advancement in the field of image edit- in"
          ],
          [
           "../data/arxiv/pdfs/2502.18116v2.pdf",
           9,
           "However, a common limitation persists across most state-of-the-art approaches: they typically rely o"
          ],
          [
           "../data/arxiv/pdfs/2502.18116v2.pdf",
           10,
           "Bayesian learning Black-box functions are fre- quently encountered across various domains, par- ticu"
          ],
          [
           "../data/arxiv/pdfs/2502.18116v2.pdf",
           11,
           "2 Methodology  Our system architecture integrates LLMs and Bayesian optimization for image editing ("
          ],
          [
           "../data/arxiv/pdfs/2502.18116v2.pdf",
           12,
           "2.1 Dynamic Prompt Optimization with  LLMs  In our approach, the prompt is dynamically opti- mized t"
          ],
          [
           "../data/arxiv/pdfs/2502.18116v2.pdf",
           13,
           "such that, the generated image Igen(s∗ T) pro- duced by the score network ˜eθ(zt,cI,cT) satis- fies "
          ],
          [
           "../data/arxiv/pdfs/2502.18116v2.pdf",
           14,
           "˜eθ(zt,cI,cT) = eθ(zt,∅,∅)  + sI · (eθ(zt,cI,∅) − eθ(zt,∅,∅)) + sT · (eθ(zt,cI,cT) − eθ(zt,cI,∅)) (2"
          ],
          [
           "../data/arxiv/pdfs/2502.18116v2.pdf",
           15,
           "Specifically, the objective function of Bayesian  optimization is  f(s) = f([sI,sT]),  This problem "
          ],
          [
           "../data/arxiv/pdfs/2502.18116v2.pdf",
           16,
           "f(s) ∼ GP(µ(s),k(s,s′))  where µ(s) is the mean function and k(s,s′) is the kernel function that def"
          ],
          [
           "../data/arxiv/pdfs/2502.18116v2.pdf",
           17,
           "5. Iterate: Repeat steps 2-4 until reaching the maximum number of iterations or achieving convergenc"
          ],
          [
           "../data/arxiv/pdfs/2502.18116v2.pdf",
           18,
           "ExcessiveModificationInsufficientModification Requirement  Normalization  Input  Figure 3: An illust"
          ],
          [
           "../data/arxiv/pdfs/2502.18116v2.pdf",
           19,
           "Optimized fifteen Times  Original  Optimized Once  Optimized Twenty Times  Optimized Five Times  Opt"
          ],
          [
           "../data/arxiv/pdfs/2502.18116v2.pdf",
           20,
           "Removing objects from images  Modifying existing objects  LLM Scoring: To assess the nuanced visual "
          ],
          [
           "../data/arxiv/pdfs/2502.18116v2.pdf",
           21,
           "3.3 Results  In our experiments, BayesGenie effectively han- dled the three key image editing tasks,"
          ],
          [
           "../data/arxiv/pdfs/2502.18116v2.pdf",
           22,
           "Similarity Detection For similarity detection, we primarily relied on the CLIP model’s capabil- ity "
          ],
          [
           "../data/arxiv/pdfs/2502.18116v2.pdf",
           23,
           "Human Evaluation: We also conducted a hu- man voting phase to gather subjective evaluations. Partici"
          ],
          [
           "../data/arxiv/pdfs/2502.18116v2.pdf",
           24,
           "In terms of iterations, more iterations represent a finer exploration of the solution space, allowin"
          ],
          [
           "../data/arxiv/pdfs/2502.18116v2.pdf",
           25,
           "Figure 7: Comparison of CLIP scores, GPT scores, and Human evaluation results across different model"
          ],
          [
           "../data/arxiv/pdfs/2502.18116v2.pdf",
           26,
           "5 Conclusion  Our work introduces BayesGenie, a novel and model-agnostic framework that combines Bay"
          ],
          [
           "../data/arxiv/pdfs/2502.18116v2.pdf",
           27,
           "Marios Aristodemou, Xiaolan Liu, Yuan Wang, Kon- stantinos G Kyriakopoulos, Sangarapillai Lam- botha"
          ],
          [
           "../data/arxiv/pdfs/2502.18116v2.pdf",
           28,
           "Chengkun Cai, Xu Zhao, Yucheng Du, Haoliang Liu, and Lei Li. 2024a. T2 of thoughts: Temperature tree"
          ],
          [
           "../data/arxiv/pdfs/2502.18116v2.pdf",
           29,
           "Yunchuan Guan, Yu Liu, Ke Zhou, Zhiqi Shen, Serge Belongie, Jenq-Neng Hwang, and Lei Li. 2025. Learn"
          ],
          [
           "../data/arxiv/pdfs/2502.18116v2.pdf",
           30,
           "Zhongyu Jiang, Zhuoran Zhou, Lei Li, Wenhao Chai, Cheng-Yen Yang, and Jenq-Neng Hwang. 2024. Back to"
          ],
          [
           "../data/arxiv/pdfs/2502.18116v2.pdf",
           31,
           "Lei Li, Sen Jia, Wang Jianhao, Zhongyu Jiang, Feng Zhou, Ju Dai, Tianfang Zhang, Wu Zongkai, and Jen"
          ],
          [
           "../data/arxiv/pdfs/2502.18116v2.pdf",
           32,
           "Prasad Narasimha Sarappadi M Shetty K Raghavendra. 2022. Transfer learning with pix2pix gan for gene"
          ],
          [
           "../data/arxiv/pdfs/2502.18116v2.pdf",
           33,
           "Robin Rombach, Andreas Blattmann, Dominik Lorenz, Patrick Esser, and Björn Ommer. 2022. High- resolu"
          ],
          [
           "../data/arxiv/pdfs/2502.18116v2.pdf",
           34,
           "10  Aäron Van Den Oord, Nal Kalchbrenner, and Koray Kavukcuoglu. 2016. Pixel recurrent neural networ"
          ],
          [
           "../data/arxiv/pdfs/2502.18116v2.pdf",
           35,
           "Replacethewoodenbenchwithtwoelegantwoodenchairsfacingthegarden.Maintainthewindingpath,diverseplants,"
          ],
          [
           "../data/arxiv/pdfs/2502.18116v2.pdf",
           36,
           "InputImage  Removethelampnexttothesofainthelivingroom.  A Examples of Prompt Generation  In this sec"
          ],
          [
           "../data/arxiv/pdfs/2502.18116v2.pdf",
           37,
           "The first one is the original Image.  The second one is the generated Image.  Please evaluate whethe"
          ],
          [
           "../data/arxiv/pdfs/2502.18116v2.pdf",
           38,
           "C Ethics and Participant Consent  This study was conducted following the ethical guidelines establis"
          ],
          [
           "../data/arxiv/pdfs/2410.01912v1.pdf",
           0,
           "4 2 0 2  t c O 2  ]  V C . s c [  1 v 2 1 9 1 0 . 0 1 4 2 : v i X r a  DnD-Transformer  A SPARK OF V"
          ],
          [
           "../data/arxiv/pdfs/2410.01912v1.pdf",
           1,
           "1  DnD-Transformer  ABSTRACT  This work tackles the information loss bottleneck of vector-quantizati"
          ],
          [
           "../data/arxiv/pdfs/2410.01912v1.pdf",
           2,
           "1  INTRODUCTION  The field of autoregressive (AR) image generation is experiencing a resurgence of i"
          ],
          [
           "../data/arxiv/pdfs/2410.01912v1.pdf",
           3,
           "A review of the development history of AR image generation approaches reveals significant efforts fo"
          ],
          [
           "../data/arxiv/pdfs/2410.01912v1.pdf",
           4,
           "1) Information loss inherent in the quantization process. Quantization, specifically in VQVAE, intro"
          ],
          [
           "../data/arxiv/pdfs/2410.01912v1.pdf",
           5,
           "…  +  Transformer Block O-2  28-N  Transformer Block O-(N-1)  +  28-(N-1)  8765432116151413121110924"
          ],
          [
           "../data/arxiv/pdfs/2410.01912v1.pdf",
           6,
           "We draw inspiration from the Residual Quantization method (Lee et al., 2022b), which provides a new "
          ],
          [
           "../data/arxiv/pdfs/2410.01912v1.pdf",
           7,
           "The remaining problem is how to predict the d times more tokens effectively. We propose the DnD- Tra"
          ],
          [
           "../data/arxiv/pdfs/2410.01912v1.pdf",
           8,
           "4. A spark of vision-language intelligence for the first time, enabling unconditional rich- text ima"
          ],
          [
           "../data/arxiv/pdfs/2410.01912v1.pdf",
           9,
           "(H/f) × (W/f) × logN H × W × 3 × log256  =  logN 24f2  A typical configuration (N=8192, f=16) result"
          ],
          [
           "../data/arxiv/pdfs/2410.01912v1.pdf",
           10,
           "2.2  IMAGES’ 2D DECOMPOSITION AND QUANTIZATION  As pointed out by Equation 1, the information compre"
          ],
          [
           "../data/arxiv/pdfs/2410.01912v1.pdf",
           11,
           "rd = rd−1 − qd,  r0 = v  Consequently, the sum of the residual codes (cid:80)d i=1 qi is expected to"
          ],
          [
           "../data/arxiv/pdfs/2410.01912v1.pdf",
           12,
           "ICR(N,f,d) = d ×  (H/f) × (W/f) × logN H × W × 3 × log256  = d ×  logN 24f2  4  (1)  (2)  (3)  DnD-T"
          ],
          [
           "../data/arxiv/pdfs/2410.01912v1.pdf",
           13,
           "0.11 0.08 0.05 0.04  100% 100% 100% 100%  1 1† 2 8  0.15 0.00 0.50 0.80  0.73 0.00 0.81 0.83  0.14 0"
          ],
          [
           "../data/arxiv/pdfs/2410.01912v1.pdf",
           14,
           "2.3 RECONSTRUCTION PERFORMANCE  We evaluate the reconstruction performance of our trained visual tok"
          ],
          [
           "../data/arxiv/pdfs/2410.01912v1.pdf",
           15,
           "5  DnD-Transformer  1  Max Depth (d)  2  12345678Codebook Depth  0.2  0.0  8  0.6  4  0.4  Layerwise"
          ],
          [
           "../data/arxiv/pdfs/2410.01912v1.pdf",
           16,
           "2.4 VQVAES CAN PERFECTLY RECONSTRUCT RICH-TEXT IMAGES  A prevalent criticism of VQVAE has been its a"
          ],
          [
           "../data/arxiv/pdfs/2410.01912v1.pdf",
           17,
           "Experiments and Results. Two rich-text image datasets, Text-Image and arXiv-Image (details in Sectio"
          ],
          [
           "../data/arxiv/pdfs/2410.01912v1.pdf",
           18,
           "3.1 DND-TRANSFORMER DESIGN  Figure 5 shows DnD-Transformer and its variants: Parallel and Vertical P"
          ],
          [
           "../data/arxiv/pdfs/2410.01912v1.pdf",
           19,
           "3.2  IMPLEMENTATION DETAILS  As shown in the left part of Figure 5, the increment of DnD-Transformer"
          ],
          [
           "../data/arxiv/pdfs/2410.01912v1.pdf",
           20,
           "4 EXPERIMENTS AND FINDINGS  4.1 TASKS AND DATASETS  Class-Conditional Image Generation. We conduct s"
          ],
          [
           "../data/arxiv/pdfs/2410.01912v1.pdf",
           21,
           "1. Pure Text Images (Text-Image). The dataset is automatically rendered from a portion of English wi"
          ],
          [
           "../data/arxiv/pdfs/2410.01912v1.pdf",
           22,
           "TextarXiv  Figure 6: Data examples in of the collected Text-Image and arXiv-Image image datasets.  M"
          ],
          [
           "../data/arxiv/pdfs/2410.01912v1.pdf",
           23,
           "DnD-Transformer. We train two size of DnD-Transformers across our experiment, namely DnD- Transforme"
          ],
          [
           "../data/arxiv/pdfs/2410.01912v1.pdf",
           24,
           "Implemented Baselines for Rich-Text Image Generation. We select multiple diffusion models as the bas"
          ],
          [
           "../data/arxiv/pdfs/2410.01912v1.pdf",
           25,
           "4.3 RESULTS OF CLASS-CONDITIONAL IMAGE GENERATION  As demonstrated in Table 2, our DnD-Transformer s"
          ],
          [
           "../data/arxiv/pdfs/2410.01912v1.pdf",
           26,
           "554M 10.94 4.88 400M 3.60 675M 2.27  −  101.0 158.7 247.7 278.2  0.69 − − 0.83  0.63 − − 0.57  AR-Re"
          ],
          [
           "../data/arxiv/pdfs/2410.01912v1.pdf",
           27,
           "− − 0.51 0.56 0.49 0.54  AR-Implemented  LlamaGen-XXL (cfg=4) LlamaGen-XXL (cfg=2) DnD-Transformer-X"
          ],
          [
           "../data/arxiv/pdfs/2410.01912v1.pdf",
           28,
           "0.89 0.83 0.89 0.83 0.82 0.80 0.89 0.85 0.83 0.80  0.35 0.49 0.42 0.56 0.56 0.57 0.42 0.54 0.58 0.59"
          ],
          [
           "../data/arxiv/pdfs/2410.01912v1.pdf",
           29,
           "(b) Sampling PPLocr on Text-Image along training.  Figure 7: Curves during training.  4.4 RESULTS OF"
          ],
          [
           "../data/arxiv/pdfs/2410.01912v1.pdf",
           30,
           "Generation Results on arXiv-Image. An 8-layer visual tokenizer and corresponding DnD- Transformer tr"
          ],
          [
           "../data/arxiv/pdfs/2410.01912v1.pdf",
           31,
           "(b) Training Loss when trained on different domain datasets.  Figure 9: Analysis of code depths and "
          ],
          [
           "../data/arxiv/pdfs/2410.01912v1.pdf",
           32,
           "4.6 AR TRAINING LOSS FOR DIFFERENT DOMAINS ALIGN WITH INNER RANDOMNESS  Training loss for the same D"
          ],
          [
           "../data/arxiv/pdfs/2410.01912v1.pdf",
           33,
           "Image Generation with VQVAE. The vector quantization (VQ) method has been pivotal in the development"
          ],
          [
           "../data/arxiv/pdfs/2410.01912v1.pdf",
           34,
           "., 2024; Wang et al., 2024b) that integrate both understanding and autoregressive image generation c"
          ],
          [
           "../data/arxiv/pdfs/2410.01912v1.pdf",
           35,
           "Rich-Text Image Generation. Despite recent significant progress in image generation, the task of ric"
          ],
          [
           "../data/arxiv/pdfs/2410.01912v1.pdf",
           36,
           "., 2023; 2024). The full potential of rich-text image generation remains largely unexplored. Our met"
          ],
          [
           "../data/arxiv/pdfs/2410.01912v1.pdf",
           37,
           "6 CONCLUSION  This paper investigated the limitations of autoregressive (AR) image generation method"
          ],
          [
           "../data/arxiv/pdfs/2410.01912v1.pdf",
           38,
           "Yogesh Balaji, Seungjun Nah, Xun Huang, Arash Vahdat, Jiaming Song, Qinsheng Zhang, Karsten Kreis, M"
          ],
          [
           "../data/arxiv/pdfs/2410.01912v1.pdf",
           39,
           "Huiwen Chang, Han Zhang, Lu Jiang, Ce Liu, and William T Freeman. Maskgit: Masked generative image t"
          ],
          [
           "../data/arxiv/pdfs/2410.01912v1.pdf",
           40,
           "Prafulla Dhariwal and Alexander Nichol. Diffusion models beat gans on image synthesis. Advances  in "
          ],
          [
           "../data/arxiv/pdfs/2410.01912v1.pdf",
           41,
           "neural information processing systems, 33:6840–6851, 2020.  Jonathan Ho, Chitwan Saharia, William Ch"
          ],
          [
           "../data/arxiv/pdfs/2410.01912v1.pdf",
           42,
           "13  DnD-Transformer  Doyup Lee, Chiheon Kim, Saehoon Kim, Minsu Cho, and Wook-Shin Han. Autoregressi"
          ],
          [
           "../data/arxiv/pdfs/2410.01912v1.pdf",
           43,
           "language, and multi-modal tasks.  Jiasen Lu, Christopher Clark, Sangho Lee, Zichen Zhang, Savya Khos"
          ],
          [
           "../data/arxiv/pdfs/2410.01912v1.pdf",
           44,
           "tion: Vq-vae made simple. arXiv preprint arXiv:2309.15505, 2023.  OpenAI. Chatgpt. https://openai.co"
          ],
          [
           "../data/arxiv/pdfs/2410.01912v1.pdf",
           45,
           "models are unsupervised multitask learners. OpenAI blog, 1(8):9, 2019.  Aditya Ramesh, Mikhail Pavlo"
          ],
          [
           "../data/arxiv/pdfs/2410.01912v1.pdf",
           46,
           "14  DnD-Transformer  Chitwan Saharia, William Chan, Saurabh Saxena, Lala Li, Jay Whang, Emily L Dent"
          ],
          [
           "../data/arxiv/pdfs/2410.01912v1.pdf",
           47,
           "Hugo Touvron, Thibaut Lavril, Gautier Izacard, Xavier Martinet, Marie-Anne Lachaux, Timoth´ee Lacroi"
          ],
          [
           "../data/arxiv/pdfs/2410.01912v1.pdf",
           48,
           "neural information processing systems, 30, 2017.  Ashish Vaswani, Noam Shazeer, Niki Parmar, Jakob U"
          ],
          [
           "../data/arxiv/pdfs/2410.01912v1.pdf",
           49,
           "Xinlong Wang, Xiaosong Zhang, Zhengxiong Luo, Quan Sun, Yufeng Cui, Jinsheng Wang, Fan Zhang, Yueze "
          ],
          [
           "../data/arxiv/pdfs/2410.01912v1.pdf",
           50,
           "Wikipedia. URL https://en.wikipedia.org/wiki/Image_compression.  Jinheng Xie, Weijia Mao, Zechen Bai"
          ],
          [
           "../data/arxiv/pdfs/2410.01912v1.pdf",
           51,
           "15  DnD-Transformer  Lijun Yu, Jos´e Lezama, Nitesh B Gundavarapu, Luca Versari, Kihyuk Sohn, David "
          ],
          [
           "../data/arxiv/pdfs/2410.01912v1.pdf",
           52,
           "A.1 STEP1: TRAIN THE VISUAL TOKENIZER AND TOKENIZE THE IMAGES  Images initially exist in the pixel-l"
          ],
          [
           "../data/arxiv/pdfs/2410.01912v1.pdf",
           53,
           "A.2 STEP2: LEARN THE PRIOR DISTRIBUTION OF IMAGE TOKENS  Having tokenized the source images into dis"
          ],
          [
           "../data/arxiv/pdfs/2410.01912v1.pdf",
           54,
           "Classifier-Free Guidance As a technique to enhance the visual quality and text-image alignment, clas"
          ],
          [
           "../data/arxiv/pdfs/2410.01912v1.pdf",
           55,
           "16  (4)  DnD-Transformer  B TRAINING DETAILS OF VISUAL TOKENIZERS  We follow (Lee et al., 2022b) to "
          ],
          [
           "../data/arxiv/pdfs/2410.01912v1.pdf",
           56,
           "266.9 232.1 289.7 295.6  0.83 0.79 0.83 0.83  0.49 0.44 0.57 0.56  Table 3: Ablation of DnD-Transfor"
          ],
          [
           "../data/arxiv/pdfs/2410.01912v1.pdf",
           57,
           "All transformer models were trained using settings similar to LlamaGen (Sun et al., 2024): a base le"
          ],
          [
           "../data/arxiv/pdfs/2410.01912v1.pdf",
           58,
           "18  DnD-Transformer  Figure 13: Conditional generation comparisons between LlamaGen-XXL and DnD-Tran"
          ],
          [
           "../data/arxiv/pdfs/2410.01912v1.pdf",
           59,
           "Figure 17: Unconditional Generation examples of DnD-Transformer on Image-Text with tempera- ture=0.1"
          ],
          [
           "../data/arxiv/pdfs/2410.21480v1.pdf",
           0,
           "4 2 0 2  t c O 8 2  ]  G L . s c [  1 v 0 8 4 1 2 . 0 1 4 2 : v i X r a  Preprint. Under review.  AI"
          ],
          [
           "../data/arxiv/pdfs/2410.21480v1.pdf",
           1,
           "bhr54@cornell.edu, anmol@cs.cornell.edu, felipe.pacheco@cornell.edu {leg86,jy6,amf272}@cornell.edu, "
          ],
          [
           "../data/arxiv/pdfs/2410.21480v1.pdf",
           2,
           "Trust and interpretability are crucial for the use of Artificial Intelligence (AI) in scientific res"
          ],
          [
           "../data/arxiv/pdfs/2410.21480v1.pdf",
           3,
           ". Across these datasets, our method outperforms fully supervised models in low and full-labeled data"
          ],
          [
           "../data/arxiv/pdfs/2410.21480v1.pdf",
           4,
           "1  Preprint. Under review.  1  INTRODUCTION  Until recently, meaningful interactions with AI models "
          ],
          [
           "../data/arxiv/pdfs/2410.21480v1.pdf",
           5,
           "However, while this transformation has enabled AI to serve as a general-purpose assistant across a w"
          ],
          [
           "../data/arxiv/pdfs/2410.21480v1.pdf",
           6,
           "Fortunately, the large context windows of LMMs allow for flexible specialization via in-context lear"
          ],
          [
           "../data/arxiv/pdfs/2410.21480v1.pdf",
           7,
           "To address these challenges, we introduce AISciVision, a framework that adapts general-purpose LMMs "
          ],
          [
           "../data/arxiv/pdfs/2410.21480v1.pdf",
           8,
           "We evaluate our method on three real-world scientific image classification datasets: detecting aquac"
          ],
          [
           "../data/arxiv/pdfs/2410.21480v1.pdf",
           9,
           "Conceptual Path  LMM: I am now conﬁdent in my prediction and don't require further tools. I predict "
          ],
          [
           "../data/arxiv/pdfs/2410.21480v1.pdf",
           10,
           "🤖Tooling InterfaceZoomOutTool : PanRightTool :  Figure 1: A schematic of our AISciVision framework, "
          ],
          [
           "../data/arxiv/pdfs/2410.21480v1.pdf",
           11,
           "3  Preprint. Under review.  AI agent. To our knowledge, AISciVision is among the first to apply such"
          ],
          [
           "../data/arxiv/pdfs/2410.21480v1.pdf",
           12,
           "Multimodal models in low-labeled data regimes Large Multimodal Models (LMMs) like CLIP (Rad- ford et"
          ],
          [
           "../data/arxiv/pdfs/2410.21480v1.pdf",
           13,
           ". On the other hand, Lu et al. (2022); Mall et al. (2024) find that zero- and few-shot capabilities "
          ],
          [
           "../data/arxiv/pdfs/2410.21480v1.pdf",
           14,
           "Retrieval-Augmented Generation (RAG) Since Large Language Models (LLMs) suffer from halluci- nations"
          ],
          [
           "../data/arxiv/pdfs/2410.21480v1.pdf",
           15,
           "Interactive AI Agents and tool-use In recent years, Large Language Models have enabled users to en- "
          ],
          [
           "../data/arxiv/pdfs/2410.21480v1.pdf",
           16,
           ". Lu et al. (2024) introduce the “AI Scien- tist” that imitates the research process in the Machine "
          ],
          [
           "../data/arxiv/pdfs/2410.21480v1.pdf",
           17,
           "For scientific research in physical, life, and climate sciences, not only is it important to obtain "
          ],
          [
           "../data/arxiv/pdfs/2410.21480v1.pdf",
           18,
           "3.1 RETRIEVING RELEVANT IMAGES WITH VISUAL RAG (VISRAG)  To specialize a general-purpose LMM for sci"
          ],
          [
           "../data/arxiv/pdfs/2410.21480v1.pdf",
           19,
           "On inference, we embed an input test image xtest to get embedding etest = ϕ(xtest). We then retrieve"
          ],
          [
           "../data/arxiv/pdfs/2410.21480v1.pdf",
           20,
           "sim and x−  sim of the respective embeddings e+  sim and e−  3.2 DOMAIN-SPECIFIC INTERACTIVE TOOLS  "
          ],
          [
           "../data/arxiv/pdfs/2410.21480v1.pdf",
           21,
           "For each image classification task, we define a set of tools T = {T1,...,TK} and provide their descr"
          ],
          [
           "../data/arxiv/pdfs/2410.21480v1.pdf",
           22,
           "We design the initial system prompt to reflect the specified domain (see Appendix C for example tran"
          ],
          [
           "../data/arxiv/pdfs/2410.21480v1.pdf",
           23,
           "4 EXPERIMENTS  We extensively evaluate our AISciVision framework on three image datasets from scient"
          ],
          [
           "../data/arxiv/pdfs/2410.21480v1.pdf",
           24,
           "2. Eelgrass Wasting Disease Detection. Eelgrass (Zostera marina), essential for coastal ecosystems, "
          ],
          [
           "../data/arxiv/pdfs/2410.21480v1.pdf",
           25,
           "7  Preprint. Under review.  AISciVision method We use the GPT-4o as the framework’s LMM, and attach "
          ],
          [
           "../data/arxiv/pdfs/2410.21480v1.pdf",
           26,
           "0.71 0.60 0.82 0.81  0.66 0.17 0.72 0.73  0.79 0.54 0.88 0.89  0.78 0.60 0.80 0.84  0.72 0.17 0.74 0"
          ],
          [
           "../data/arxiv/pdfs/2410.21480v1.pdf",
           27,
           "0.91 0.65 1.00 1.00  0.95 0.63 0.99 0.97  Table 1: Our AISciVision framework (GPT4o + VisRAG + Tools"
          ],
          [
           "../data/arxiv/pdfs/2410.21480v1.pdf",
           28,
           "Baselines A key component of AISciVision is VisRAG, which retrieves the most similar positive and ne"
          ],
          [
           "../data/arxiv/pdfs/2410.21480v1.pdf",
           29,
           "Ablation studies and tool efficacy We conduct ablation studies on the two components of AISciVision:"
          ],
          [
           "../data/arxiv/pdfs/2410.21480v1.pdf",
           30,
           "2GPT4o generations are inherently random even after setting a seed, system fingerprint, the temperat"
          ],
          [
           "../data/arxiv/pdfs/2410.21480v1.pdf",
           31,
           "0.83 0.92 0.90 0.95  0.93 0.97 0.96 0.98  0.77 0.89 0.86 0.92  0.99 0.99 1.00 1.00  0.91 0.97 0.96 0"
          ],
          [
           "../data/arxiv/pdfs/2410.21480v1.pdf",
           32,
           "5 DEPLOYED APPLICATION  AISciVision is not just a conceptual framework, we have deployed it as a ful"
          ],
          [
           "../data/arxiv/pdfs/2410.21480v1.pdf",
           33,
           "Edge  0.75  0.25  Solar  Histogram  Brightness  Edge  0.50  MLToolPredict  Zoomout  0.50  0  25  Aqu"
          ],
          [
           "../data/arxiv/pdfs/2410.21480v1.pdf",
           34,
           "AUC  0.99 0.99 1.00 1.00  Preprint. Under review.  Figure 4: Screenshot of the AISciVision web appli"
          ],
          [
           "../data/arxiv/pdfs/2410.21480v1.pdf",
           35,
           "6 DISCUSSION  Our AISciVision framework combines robust prediction capabilities, transparency, and a"
          ],
          [
           "../data/arxiv/pdfs/2410.21480v1.pdf",
           36,
           "Limitations and Future Work While AISciVision offers significant benefits in providing transparent r"
          ],
          [
           "../data/arxiv/pdfs/2410.21480v1.pdf",
           37,
           "REFERENCES  Abdelrahman Abdelhamed, Mahmoud Afifi, and Alec Go. What Do You See? Enhancing Zero-Shot"
          ],
          [
           "../data/arxiv/pdfs/2410.21480v1.pdf",
           38,
           "Tom Brown, Benjamin Mann, Nick Ryder, Melanie Subbiah, Jared D Kaplan, Prafulla Dhariwal, Arvind Nee"
          ],
          [
           "../data/arxiv/pdfs/2410.21480v1.pdf",
           39,
           "Di Chen, Yiwei Bai, Sebastian Ament, Wenting Zhao, Dan Guevarra, Lan Zhou, Bart Selman, R Bruce van "
          ],
          [
           "../data/arxiv/pdfs/2410.21480v1.pdf",
           40,
           "Danny Driess, Fei Xia, Mehdi S. M. Sajjadi, Corey Lynch, Aakanksha Chowdhery, Brian Ichter, Ayzaan W"
          ],
          [
           "../data/arxiv/pdfs/2410.21480v1.pdf",
           41,
           "org/abs/2312.11805.  Laura Greenstreet, Joshua Fan, Felipe Siqueira Pacheco, Yiwei Bai, Marta Eichem"
          ],
          [
           "../data/arxiv/pdfs/2410.21480v1.pdf",
           42,
           "Urvashi Khandelwal, Omer Levy, Dan Jurafsky, Luke Zettlemoyer, and Mike Lewis. Generalization throug"
          ],
          [
           "../data/arxiv/pdfs/2410.21480v1.pdf",
           43,
           "Alexandre Lacoste, Nils Lehmann, Pau Rodriguez, Evan David Sherwin, Hannah Kerner, Bj¨orn L¨utjens, "
          ],
          [
           "../data/arxiv/pdfs/2410.21480v1.pdf",
           44,
           "12  Preprint. Under review.  9459–9474. Curran Associates, Inc., 2020. URL https://proceedings.neuri"
          ],
          [
           "../data/arxiv/pdfs/2410.21480v1.pdf",
           45,
           "Visual Instruction Tuning.  Chris Lu, Cong Lu, Robert Tjarko Lange, Jakob Foerster, Jeff Clune, and "
          ],
          [
           "../data/arxiv/pdfs/2410.21480v1.pdf",
           46,
           "Michael Moor, Oishi Banerjee, Zahra Shakeri Hossein Abad, Harlan M Krumholz, Jure Leskovec, Eric J T"
          ],
          [
           "../data/arxiv/pdfs/2410.21480v1.pdf",
           47,
           "nected with Massive APIs. arXiv preprint arXiv:2305.15334, 2023.  Alec Radford, Jong Wook Kim, Chris"
          ],
          [
           "../data/arxiv/pdfs/2410.21480v1.pdf",
           48,
           "13  Preprint. Under review.  Timo Schick, Jane Dwivedi-Yu, Roberto Dessi, Roberta Raileanu, Maria Lo"
          ],
          [
           "../data/arxiv/pdfs/2410.21480v1.pdf",
           49,
           "David Soong, Sriram Sridhar, Han Si, Jan-Samuel Wagner, Ana Caroline Costa S´a, Christina Y Yu, Kubr"
          ],
          [
           "../data/arxiv/pdfs/2410.21480v1.pdf",
           50,
           "Guanzhi Wang, Yuqi Xie, Yunfan Jiang, Ajay Mandlekar, Chaowei Xiao, Yuke Zhu, Linxi Fan, and Anima A"
          ],
          [
           "../data/arxiv/pdfs/2410.21480v1.pdf",
           51,
           "Jason Wei, Xuezhi Wang, Dale Schuurmans, Maarten Bosma, Brian Ichter, Fei Xia, Ed Chi, Quoc Le, and "
          ],
          [
           "../data/arxiv/pdfs/2410.21480v1.pdf",
           52,
           "Michihiro Yasunaga, Armen Aghajanyan, Weijia Shi, Richard James, Jure Leskovec, Percy Liang, Mike Le"
          ],
          [
           "../data/arxiv/pdfs/2410.21480v1.pdf",
           53,
           "14  Preprint. Under review.  Cyril Zakka, Rohan Shad, Akash Chaurasia, Alex R. Dalal, Jennifer L. Ki"
          ],
          [
           "../data/arxiv/pdfs/2410.21480v1.pdf",
           54,
           "15  Preprint. Under review.  A DOMAIN-SPECIFIC TOOLS  The tools developed for each dataset are desig"
          ],
          [
           "../data/arxiv/pdfs/2410.21480v1.pdf",
           55,
           "We detail the full list of tools for each dataset in our AISciVision framework.  A.1 TOOLS FOR AQUAC"
          ],
          [
           "../data/arxiv/pdfs/2410.21480v1.pdf",
           56,
           "ZoomOutToolRelative: Zooms out from the current view relative to the last image seen. • ZoomOutToolA"
          ],
          [
           "../data/arxiv/pdfs/2410.21480v1.pdf",
           57,
           "PredictEelgrassWastingDiseaseTool: Predicts the probability of eelgrass wasting disease in the image"
          ],
          [
           "../data/arxiv/pdfs/2410.21480v1.pdf",
           58,
           "IncreaseContrastTool: Increases the contrast of the image by 50%. This tool can be helpful when the "
          ],
          [
           "../data/arxiv/pdfs/2410.21480v1.pdf",
           59,
           "0.62 0.00 0.62 0.58 0.58 0.71 0.75  0.61 0.00 0.86 0.80 0.71 0.89 0.94  0.46 0.00 0.50 0.50 0.62 0.6"
          ],
          [
           "../data/arxiv/pdfs/2410.21480v1.pdf",
           60,
           "0.67 0.47 0.92 1.00 1.00 1.00 0.92  Table 3: We report values of precision and recall when all metho"
          ],
          [
           "../data/arxiv/pdfs/2410.21480v1.pdf",
           61,
           "18  Preprint. Under review.  C.1 AQUACULTURE  Assistant:In the provided satellite image, several cha"
          ],
          [
           "../data/arxiv/pdfs/2410.21480v1.pdf",
           62,
           "True Class: 1, LMM Prediction: 1 (Probability: 0.80), Supervised Prediction: 0 (Probability: 25.91)S"
          ],
          [
           "../data/arxiv/pdfs/2410.21480v1.pdf",
           63,
           ". Use your knowledge and the tools provided to make an accurate classification of whether aquacultur"
          ],
          [
           "../data/arxiv/pdfs/2410.21480v1.pdf",
           64,
           "19  Preprint. Under review.  Assistant:In the provided satellite image, there are no visible aquacul"
          ],
          [
           "../data/arxiv/pdfs/2410.21480v1.pdf",
           65,
           "Texture: The water surface appears relatively smooth compared to natural water bodies, indicating co"
          ],
          [
           "../data/arxiv/pdfs/2410.21480v1.pdf",
           66,
           "Assistant:In the provided satellite image, we need to determine whether there are aquaculture ponds "
          ],
          [
           "../data/arxiv/pdfs/2410.21480v1.pdf",
           67,
           ".(cid:127)Example without Aquaculture Pond: The second example showed a natural landscape with dense"
          ],
          [
           "../data/arxiv/pdfs/2410.21480v1.pdf",
           68,
           "Here is the satellite image we need to classify as having an aquaculture pond or not. Describe what "
          ],
          [
           "../data/arxiv/pdfs/2410.21480v1.pdf",
           69,
           "Conclusion:Based on the geometric patterns, water color, surrounding features, and comparison with k"
          ],
          [
           "../data/arxiv/pdfs/2410.21480v1.pdf",
           70,
           ". -PanDownToolAbsolute: Pans the view downwards relative to the original starting image. - PanLeftTo"
          ],
          [
           "../data/arxiv/pdfs/2410.21480v1.pdf",
           71,
           ". Feel free to usemore tools if you need to increase your confidence.If you want to use a tool, expl"
          ],
          [
           "../data/arxiv/pdfs/2410.21480v1.pdf",
           72,
           ".[PredictAquaculturePondTool]User:The probability of an aquaculture pond being present in this image"
          ],
          [
           "../data/arxiv/pdfs/2410.21480v1.pdf",
           73,
           "22  Preprint. Under review.  Assistant:[PanDownToolRelative]{yes:60,no:40}I am choosing to pan down "
          ],
          [
           "../data/arxiv/pdfs/2410.21480v1.pdf",
           74,
           "You have 3 rounds left. You may now choose another tool or indicate you're finished. Respond with ON"
          ],
          [
           "../data/arxiv/pdfs/2410.21480v1.pdf",
           75,
           ". If you want to reference the last toolyou used, simply write its name without brackets. After choo"
          ],
          [
           "../data/arxiv/pdfs/2410.21480v1.pdf",
           76,
           "23  Preprint. Under review.  The view has been panned down, revealing more of the area down of the p"
          ],
          [
           "../data/arxiv/pdfs/2410.21480v1.pdf",
           77,
           "Assistant:[ZoomInToolRelative]{yes:80,no:20}I am choosing to zoom in further on the current view to "
          ],
          [
           "../data/arxiv/pdfs/2410.21480v1.pdf",
           78,
           "User:Based on your analysis and the tools used, please provide your final classification regarding t"
          ],
          [
           "../data/arxiv/pdfs/2410.21480v1.pdf",
           79,
           ".2.Water Color: The water in these rectangular areas has a distinct color, different from the surrou"
          ],
          [
           "../data/arxiv/pdfs/2410.21480v1.pdf",
           80,
           "25  Preprint. Under review.  C.2 EELGRASS  Assistant:This image shows eelgrass blades with dark, nec"
          ],
          [
           "../data/arxiv/pdfs/2410.21480v1.pdf",
           81,
           "True Class: 1, LMM Prediction: 1 (Probability: 0.70), Supervised Prediction: 0 (Probability: 34.51)S"
          ],
          [
           "../data/arxiv/pdfs/2410.21480v1.pdf",
           82,
           ".Use your knowledge and the tools provided to make an accurate classification.User:I will start by f"
          ],
          [
           "../data/arxiv/pdfs/2410.21480v1.pdf",
           83,
           "26  Preprint. Under review.  Assistant:This image shows eelgrass blades that are uniformly green wit"
          ],
          [
           "../data/arxiv/pdfs/2410.21480v1.pdf",
           84,
           "Based on the presence of the dark, necrotic lesion on one of the blades in this image, it is likely "
          ],
          [
           "../data/arxiv/pdfs/2410.21480v1.pdf",
           85,
           ". - AdjustBrightnessTool: Tool Name: 'AdjustBrightnessTool' Description: Adjusts the brightness of t"
          ],
          [
           "../data/arxiv/pdfs/2410.21480v1.pdf",
           86,
           ". Feel free to usemore tools if you need to increase your confidence.If you want to use a tool, expl"
          ],
          [
           "../data/arxiv/pdfs/2410.21480v1.pdf",
           87,
           ".You have 3 rounds left. You may now choose another tool or indicate you're finished. Respond with O"
          ],
          [
           "../data/arxiv/pdfs/2410.21480v1.pdf",
           88,
           "28  Preprint. Under review.  Assistant:  Assistant:{yes:80,no:20}The increased contrast has made the"
          ],
          [
           "../data/arxiv/pdfs/2410.21480v1.pdf",
           89,
           "{yes:85,no:15}The sharpening has further clarified the edges and details of the dark lesion, making "
          ],
          [
           "../data/arxiv/pdfs/2410.21480v1.pdf",
           90,
           ". Then, explain why you are picking this tool orfinishing, and how it relates to your current assess"
          ],
          [
           "../data/arxiv/pdfs/2410.21480v1.pdf",
           91,
           "30  Preprint. Under review."
          ],
          [
           "../data/arxiv/pdfs/2410.21480v1.pdf",
           92,
           "User:Based on your analysis and the tools used, please provide your final classification regarding t"
          ],
          [
           "../data/arxiv/pdfs/2410.21480v1.pdf",
           93,
           ".2.IncreaseContrastTool: This tool enhanced the visibility of the lesion, making it more prominent a"
          ],
          [
           "../data/arxiv/pdfs/2410.21480v1.pdf",
           94,
           "31  Preprint. Under review.  C.3 SOLAR  True Class: 1, LMM Prediction: 1 (Probability: 0.99), Superv"
          ],
          [
           "../data/arxiv/pdfs/2410.21480v1.pdf",
           95,
           "Assistant:In the provided satellite image, several characteristics indicate the presence of solar pa"
          ],
          [
           "../data/arxiv/pdfs/2410.21480v1.pdf",
           96,
           "Assistant:In the provided satellite image, several observations indicate the absence of solar panels"
          ],
          [
           "../data/arxiv/pdfs/2410.21480v1.pdf",
           97,
           ". Describe what you see and compare and contrast it withthe previous two known examples. Explain you"
          ],
          [
           "../data/arxiv/pdfs/2410.21480v1.pdf",
           98,
           "33  Preprint. Under review."
          ],
          [
           "../data/arxiv/pdfs/2410.21480v1.pdf",
           99,
           "Assistant:In the provided satellite image, several characteristics suggest the presence of solar pan"
          ],
          [
           "../data/arxiv/pdfs/2410.21480v1.pdf",
           100,
           ".19.First Example: Panels also cover a significant portion of the rooftop.20.Second Example: Objects"
          ],
          [
           "../data/arxiv/pdfs/2410.21480v1.pdf",
           101,
           "34  Preprint. Under review."
          ],
          [
           "../data/arxiv/pdfs/2410.21480v1.pdf",
           102,
           "Based on these observations, I classify the current image as containing solar panels.User:You have a"
          ],
          [
           "../data/arxiv/pdfs/2410.21480v1.pdf",
           103,
           ". This can help in identifying the outlines of solar panels and potentialdefects or anomalies. - Inc"
          ],
          [
           "../data/arxiv/pdfs/2410.21480v1.pdf",
           104,
           ".Remember, your goal is to accurately classify whether the image shows solar panels or not. If you d"
          ],
          [
           "../data/arxiv/pdfs/2410.21480v1.pdf",
           105,
           ".You have 3 rounds left. You may now choose another tool or indicate you're finished. Respond with O"
          ],
          [
           "../data/arxiv/pdfs/2410.21480v1.pdf",
           106,
           "35  Preprint. Under review.  Assistant:[EdgeDetectionTool] {yes:98.95,no:1.05}User:Edge detection ha"
          ],
          [
           "../data/arxiv/pdfs/2410.21480v1.pdf",
           107,
           "how it relates to your current assessment of the image.Assistant:[SharpenTool] {yes:98.95,no:1.05}Us"
          ],
          [
           "../data/arxiv/pdfs/2410.21480v1.pdf",
           108,
           "36  Preprint. Under review.  Assistant:[HistogramEqualizationTool] {yes:98.95,no:1.05}User:Histogram"
          ],
          [
           "../data/arxiv/pdfs/2410.21480v1.pdf",
           109,
           "User:Based on your analysis and the tools used, please provide your final classification regarding t"
          ],
          [
           "../data/arxiv/pdfs/2410.21480v1.pdf",
           110,
           "percentages must sum to 100%. To break ties, always assign at least 51% to one category. For example"
          ],
          [
           "../data/arxiv/pdfs/2410.21480v1.pdf",
           111,
           ".95%) of solar panels being present, which aligns with the visual analysis.Final Classification: [Ye"
          ],
          [
           "../data/arxiv/pdfs/2410.21480v1.pdf",
           112,
           "38  Preprint. Under review.  D ABLATION FAILURE CASE  In our analysis of the Eelgrass dataset, we no"
          ],
          [
           "../data/arxiv/pdfs/2410.21480v1.pdf",
           113,
           "True Class: 1, LMM Prediction: 1 (Probability: 0.85), Supervised Prediction: 0 (Probability: 7.13)Sy"
          ],
          [
           "../data/arxiv/pdfs/2410.21480v1.pdf",
           114,
           ".Use your knowledge and the tools provided to make an accurate classification.User:I will start by f"
          ],
          [
           "../data/arxiv/pdfs/2410.21480v1.pdf",
           115,
           "Assistant:This image shows eelgrass blades with dark, necrotic lesions, which are indicative of eelg"
          ],
          [
           "../data/arxiv/pdfs/2410.21480v1.pdf",
           116,
           "Assistant:This image shows eelgrass blades that appear healthy, with no visible dark spots, streaks,"
          ],
          [
           "../data/arxiv/pdfs/2410.21480v1.pdf",
           117,
           "User:Based on your analysis and the tools used, please provide your final classification regarding t"
          ],
          [
           "../data/arxiv/pdfs/2410.21480v1.pdf",
           118,
           ". The presence of these lesions, even though not as extensive as in the first example, suggests the "
          ],
          [
           "../data/arxiv/pdfs/2410.21480v1.pdf",
           119,
           "42  Preprint. Under review.  D.2 GPT4O + TOOLS (INCORRECT PREDICTION)"
          ],
          [
           "../data/arxiv/pdfs/2410.21480v1.pdf",
           120,
           "True Class: 1, LMM Prediction: 0 (Probability: 0.20), Supervised Prediction: 0 (Probability: 7.13)Sy"
          ],
          [
           "../data/arxiv/pdfs/2410.21480v1.pdf",
           121,
           ".Use your knowledge and the tools provided to make an accurate classification.User:Here is the image"
          ],
          [
           "../data/arxiv/pdfs/2410.21480v1.pdf",
           122,
           "Assistant:To classify this image for eelgrass wasting disease, I will follow these steps:Identify Da"
          ],
          [
           "../data/arxiv/pdfs/2410.21480v1.pdf",
           123,
           "Blotching: The dark streak on the left blade does not appear to have merged into larger blotches, bu"
          ],
          [
           "../data/arxiv/pdfs/2410.21480v1.pdf",
           124,
           ". This tool can beuseful when the image appears too harsh or when you want to reduce the intensity o"
          ],
          [
           "../data/arxiv/pdfs/2410.21480v1.pdf",
           125,
           ". This can help in makingfeatures more distinguishable, which is beneficial for detecting eelgrass w"
          ],
          [
           "../data/arxiv/pdfs/2410.21480v1.pdf",
           126,
           ". Note that this is not your final prediction.Then you will be asked again if you want to use a tool"
          ],
          [
           "../data/arxiv/pdfs/2410.21480v1.pdf",
           127,
           "44  Preprint. Under review.  [IncreaseContrastTool]User:Image contrast has been increased by 50%.You"
          ],
          [
           "../data/arxiv/pdfs/2410.21480v1.pdf",
           128,
           "Assistant:[SharpenTool]{yes:60,no:40}I am using the SharpenTool to enhance the edges and details of "
          ],
          [
           "../data/arxiv/pdfs/2410.21480v1.pdf",
           129,
           "Assistant:[PredictEelgrassWastingDiseaseTool]{yes:65,no:35}I am using the PredictEelgrassWastingDise"
          ],
          [
           "../data/arxiv/pdfs/2410.21480v1.pdf",
           130,
           ". Then, explain why you are picking this tool orfinishing, and how it relates to your current assess"
          ],
          [
           "../data/arxiv/pdfs/2410.21480v1.pdf",
           131,
           "46  Preprint. Under review."
          ],
          [
           "../data/arxiv/pdfs/2410.21480v1.pdf",
           132,
           "User:Based on your analysis and the tools used, please provide your final classification regarding t"
          ],
          [
           "../data/arxiv/pdfs/2410.21480v1.pdf",
           133,
           ".3.SharpenTool: Further enhanced the edges and details, confirming the presence of the dark streak b"
          ],
          [
           "../data/arxiv/pdfs/2410.21480v1.pdf",
           134,
           "You have 0 rounds left. You may now choose another tool or indicate you're finished. Respond with ON"
          ],
          [
           "../data/arxiv/pdfs/2410.21480v1.pdf",
           135,
           "True Class: 1, LMM Prediction: 0 (Probability: 0.40), Supervised Prediction: 0 (Probability: 7.13)Sy"
          ],
          [
           "../data/arxiv/pdfs/2410.21480v1.pdf",
           136,
           ".Use your knowledge and the tools provided to make an accurate classification.User:I will start by f"
          ],
          [
           "../data/arxiv/pdfs/2410.21480v1.pdf",
           137,
           "Assistant:This image shows eelgrass blades with dark, necrotic lesions, which are indicative of eelg"
          ],
          [
           "../data/arxiv/pdfs/2410.21480v1.pdf",
           138,
           "50  Preprint. Under review."
          ],
          [
           "../data/arxiv/pdfs/2410.21480v1.pdf",
           139,
           "Based on the presence of these dark, necrotic lesions and the pattern of spotting and streaking, I c"
          ],
          [
           "../data/arxiv/pdfs/2410.21480v1.pdf",
           140,
           ". I reccomend you usethis tool. - AdjustBrightnessTool: Tool Name: 'AdjustBrightnessTool' Descriptio"
          ],
          [
           "../data/arxiv/pdfs/2410.21480v1.pdf",
           141,
           ". Feel free to usemore tools if you need to increase your confidence.If you want to use a tool, expl"
          ],
          [
           "../data/arxiv/pdfs/2410.21480v1.pdf",
           142,
           ".[IncreaseContrastTool]User:Image contrast has been increased by 50%.You have 3 rounds left. You may"
          ],
          [
           "../data/arxiv/pdfs/2410.21480v1.pdf",
           143,
           "51  Preprint. Under review.  Assistant:[SharpenTool]{Yes:75,No:25}I am using the SharpenTool to enha"
          ],
          [
           "../data/arxiv/pdfs/2410.21480v1.pdf",
           144,
           "Assistant:[PredictEelgrassWastingDiseaseTool]{Yes:80,No:20}I am using the PredictEelgrassWastingDise"
          ],
          [
           "../data/arxiv/pdfs/2410.21480v1.pdf",
           145,
           ". Then, explain why you are picking this tool orfinishing, and how it relates to your current assess"
          ],
          [
           "../data/arxiv/pdfs/2410.21480v1.pdf",
           146,
           "53  Preprint. Under review."
          ],
          [
           "../data/arxiv/pdfs/2410.21480v1.pdf",
           147,
           "User:Based on your analysis and the tools used, please provide your final classification regarding t"
          ],
          [
           "../data/arxiv/pdfs/2410.21480v1.pdf",
           148,
           ". Thisreinforced the initial suspicion of eelgrass wasting disease.SharpenTool: This tool further en"
          ],
          [
           "../data/arxiv/pdfs/2410.21480v1.pdf",
           149,
           "54"
          ],
          [
           "../data/arxiv/pdfs/2411.05423v1.pdf",
           0,
           "4 2 0 2  v o N 8  ] L C . s c [  1 v 3 2 4 5 0 . 1 1 4 2 : v i X r a  Proceedings of Machine Learnin"
          ],
          [
           "../data/arxiv/pdfs/2411.05423v1.pdf",
           1,
           "milhaud1201@gmail.com  Editor: Jeongwoo Lee, Kwangsuk Park, Jihyeon Park  Abstract Generating accura"
          ],
          [
           "../data/arxiv/pdfs/2411.05423v1.pdf",
           2,
           "1. Introduction  Visual aids are critical components of mathematics education, enabling students to "
          ],
          [
           "../data/arxiv/pdfs/2411.05423v1.pdf",
           3,
           "© 2024 J. Lee, K. Park & J. Park.  J. Lee, K. Park, J. Park  creating problems requiring precise vis"
          ],
          [
           "../data/arxiv/pdfs/2411.05423v1.pdf",
           4,
           "Generative AI, particularly LLMs, holds significant promise for addressing challenges in mathematics"
          ],
          [
           "../data/arxiv/pdfs/2411.05423v1.pdf",
           5,
           "In this paper, we introduce a multi-agent framework for generating and visualizing math problems, le"
          ],
          [
           "../data/arxiv/pdfs/2411.05423v1.pdf",
           6,
           "This framework introduces a novel workflow where LLMs generate both mathemati- cal problems and thei"
          ],
          [
           "../data/arxiv/pdfs/2411.05423v1.pdf",
           7,
           "By leveraging this integrated approach, we aim to enhance the overall quality of math education, mak"
          ],
          [
           "../data/arxiv/pdfs/2411.05423v1.pdf",
           8,
           "In this study, we utilized Claude 3.5 Sonnet as the core model for our framework. A critical aspect "
          ],
          [
           "../data/arxiv/pdfs/2411.05423v1.pdf",
           9,
           "3  J. Lee, K. Park, J. Park  Figure 1: Overview of the multi-agent system for generating math proble"
          ],
          [
           "../data/arxiv/pdfs/2411.05423v1.pdf",
           10,
           "4  VISTA: Visual Integrated System for Tailored Automation in Math Problem Generation Using LLM  cul"
          ],
          [
           "../data/arxiv/pdfs/2411.05423v1.pdf",
           11,
           "Function Validator. The Function Validator plays a complementary role by analyzing and verifying geo"
          ],
          [
           "../data/arxiv/pdfs/2411.05423v1.pdf",
           12,
           "Code Executor and Summarizer. The Code Executor is responsible for executing the code generated by t"
          ],
          [
           "../data/arxiv/pdfs/2411.05423v1.pdf",
           13,
           "3. Evaluation  3.1. Datasets  The study focuses on two key areas of mathematics: Geometry and Functi"
          ],
          [
           "../data/arxiv/pdfs/2411.05423v1.pdf",
           14,
           "Within our framework, Claude 3.5 Sonnet was used to generate complex figures and math- ematical func"
          ],
          [
           "../data/arxiv/pdfs/2411.05423v1.pdf",
           15,
           ". For instance, subtle variations in the size, position, or proportions of geometric figures can dis"
          ],
          [
           "../data/arxiv/pdfs/2411.05423v1.pdf",
           16,
           "2. https://huggingface.co/spaces/opencompass/open_vlm_leaderboard  6  VISTA: Visual Integrated Syste"
          ],
          [
           "../data/arxiv/pdfs/2411.05423v1.pdf",
           17,
           "To address the shortcomings of conventional visual similarity metrics, we developed an enhanced eval"
          ],
          [
           "../data/arxiv/pdfs/2411.05423v1.pdf",
           18,
           "4. Results  4.1. Geometry  In Figure 2, the performance of VISTA and the baseline system is evaluate"
          ],
          [
           "../data/arxiv/pdfs/2411.05423v1.pdf",
           19,
           "In the Length and Applied subtypes, the pattern remains consistent, with VISTA demon- strating stron"
          ],
          [
           "../data/arxiv/pdfs/2411.05423v1.pdf",
           20,
           "4.2. Function  In Figure 3, the evaluation of function-related problems, which includes the subtypes"
          ],
          [
           "../data/arxiv/pdfs/2411.05423v1.pdf",
           21,
           "While image similarity remains low across all subtypes, VISTA’s consistently high scores in the text"
          ],
          [
           "../data/arxiv/pdfs/2411.05423v1.pdf",
           22,
           "10  VISTA: Visual Integrated System for Tailored Automation in Math Problem Generation Using LLM  Fi"
          ],
          [
           "../data/arxiv/pdfs/2411.05423v1.pdf",
           23,
           "5. Discussion  This study has demonstrated the potential of LLMs as powerful tools for generating vi"
          ],
          [
           "../data/arxiv/pdfs/2411.05423v1.pdf",
           24,
           "11  J. Lee, K. Park, J. Park  stance, when certain critical details were omitted from a problem, the"
          ],
          [
           "../data/arxiv/pdfs/2411.05423v1.pdf",
           25,
           "While our system has shown considerable potential, it is not yet perfect, and several avenues for im"
          ],
          [
           "../data/arxiv/pdfs/2411.05423v1.pdf",
           26,
           "Journal of Research & Practice, 25(5-6):355–360, 2001.  Arya Bulusu, Brandon Man, Ashish Jagmohan, A"
          ],
          [
           "../data/arxiv/pdfs/2411.05423v1.pdf",
           27,
           "12  VISTA: Visual Integrated System for Tailored Automation in Math Problem Generation Using LLM  Qi"
          ],
          [
           "../data/arxiv/pdfs/2411.05423v1.pdf",
           28,
           "Property Expression Coordinate Applied  71 32 16 40  Total  159  A.2. Agent Prompts  Figure 7: Promp"
          ],
          [
           "../data/arxiv/pdfs/2411.05423v1.pdf",
           29,
           "Figure 18: Math problem generation samples using VISTA  20  VISTA: Visual Integrated System for Tail"
          ],
          [
           "../data/arxiv/pdfs/2502.04359v1.pdf",
           0,
           "5 2 0 2  b e F 4  ] L C . s c [  1 v 9 5 3 4 0 . 2 0 5 2 : v i X r a  Exploring Spatial Language Gro"
          ],
          [
           "../data/arxiv/pdfs/2502.04359v1.pdf",
           1,
           "Abstract  Spatial Reasoning is an important component of human cognition and is an area in which the"
          ],
          [
           "../data/arxiv/pdfs/2502.04359v1.pdf",
           2,
           "ther to analyze the comparative performance of these models for spatial categories that represent di"
          ],
          [
           "../data/arxiv/pdfs/2502.04359v1.pdf",
           3,
           "We test two popular VLMs - LLaVA [Liu et al., 2024] and Grounding DINO [Liu et al., 2023b]. We also "
          ],
          [
           "../data/arxiv/pdfs/2502.04359v1.pdf",
           4,
           "1 Introduction Vision-Language model (VLM) research has boomed in the recent past, owing to the enha"
          ],
          [
           "../data/arxiv/pdfs/2502.04359v1.pdf",
           5,
           "Some of our important findings are as follows:  (1) Spatial relations contribute to more accurate gr"
          ],
          [
           "../data/arxiv/pdfs/2502.04359v1.pdf",
           6,
           "(c) The brown table that is to the left of the black cell phone  (d) The sandy shore that is near th"
          ],
          [
           "../data/arxiv/pdfs/2502.04359v1.pdf",
           7,
           "[R¨osch and Libovick`y, 2023; Subramanian et al., 2022] focus solely on spatial analysis of VLMs. [W"
          ],
          [
           "../data/arxiv/pdfs/2502.04359v1.pdf",
           8,
           "., 2021] focus on probing pre- trained LLMs or VLMs with text-only questions for spatial analysis. H"
          ],
          [
           "../data/arxiv/pdfs/2502.04359v1.pdf",
           9,
           "Other closely aligned work includes Embodied Spatial Analysis which focuses on the effects of differ"
          ],
          [
           "../data/arxiv/pdfs/2502.04359v1.pdf",
           10,
           "3 Dataset Table 1 shows the key characteristics of some popular REC datasets. We chose CopsRef over "
          ],
          [
           "../data/arxiv/pdfs/2502.04359v1.pdf",
           11,
           "Category  Number  Spatial Relations  Absolute Adjacency Directional Orientation Projective  Proximit"
          ],
          [
           "../data/arxiv/pdfs/2502.04359v1.pdf",
           12,
           "Table 2: Category-wise relation split and number of referring expressions in the CopsRef test set wi"
          ],
          [
           "../data/arxiv/pdfs/2502.04359v1.pdf",
           13,
           "To answer these questions, we explain our research  None One Two-chained Two-and Two-or Three  0 1 2"
          ],
          [
           "../data/arxiv/pdfs/2502.04359v1.pdf",
           14,
           "[Zheng et al., 2020] is an REC task-specific MGA-Net. model whose compositional learning architectur"
          ],
          [
           "../data/arxiv/pdfs/2502.04359v1.pdf",
           15,
           "limit our training to ten epochs due to computational con- straints. [Liu et al., 2023b] It is an op"
          ],
          [
           "../data/arxiv/pdfs/2502.04359v1.pdf",
           16,
           ". Both prompts have a similar structure, but the second prompt is longer. [Minderer et al., 2022] is"
          ],
          [
           "../data/arxiv/pdfs/2502.04359v1.pdf",
           17,
           ". This is unlike MGA-Net, which has dedicated trans- former architecture modules for visual, linguis"
          ],
          [
           "../data/arxiv/pdfs/2502.04359v1.pdf",
           18,
           "4.2 Experimental Setting and Evaluation We create the following dataset test splits for evaluation a"
          ],
          [
           "../data/arxiv/pdfs/2502.04359v1.pdf",
           19,
           "Visual Complexity Split To observe the effect of visual complexity on model perfor- mance, we split "
          ],
          [
           "../data/arxiv/pdfs/2502.04359v1.pdf",
           20,
           "5 Results  Model  Accuracy (%)  MGA-Net (Partial CNN) Grounding DINO LLaVA - Short Prompt MGA-Net (F"
          ],
          [
           "../data/arxiv/pdfs/2502.04359v1.pdf",
           21,
           "Absolute Adjacency Directional Projective Proximity Topological Unallocated None Two-chained Two-and"
          ],
          [
           "../data/arxiv/pdfs/2502.04359v1.pdf",
           22,
           "4 1 12 6 3 2 7 5 9 8 10 11  Table 5: Category-wise accuracy and ranking  Evaluation Metrics. We eval"
          ],
          [
           "../data/arxiv/pdfs/2502.04359v1.pdf",
           23,
           "with a single spatial relation. Among those, all 3 models per- form well for the Topological and Abs"
          ],
          [
           "../data/arxiv/pdfs/2502.04359v1.pdf",
           24,
           "Since we trained/tested each model for three runs, we re- port the average accuracy of the three run"
          ],
          [
           "../data/arxiv/pdfs/2502.04359v1.pdf",
           25,
           "Among spatial categories of MGA-Net and VLMs, the ma- jor difference occurs with the Proximity and P"
          ],
          [
           "../data/arxiv/pdfs/2502.04359v1.pdf",
           26,
           "42.89 ± 0.17 40.33 ± 0.01 31.05 ± 0.06 30.19 ± 0.26  67.8 ± 0 60.5 ± 0 52.39 ± 0 55 ± 0  Table 7: Re"
          ],
          [
           "../data/arxiv/pdfs/2502.04359v1.pdf",
           27,
           "Model  Accuracy Single(%) Accuracy Multi(%)  64.91 ± 0.15 72.54 ± 0.01 37.69 ± 0.01  MGA-Net G-DINO "
          ],
          [
           "../data/arxiv/pdfs/2502.04359v1.pdf",
           28,
           "Now, to answer RQ3, we observe in Table 5 that among the seven categories of single spatial relation"
          ],
          [
           "../data/arxiv/pdfs/2502.04359v1.pdf",
           29,
           "36 24 23 17 20  Table 9: Results for negations in expressions.  We obtained 36 expressions with 1 ‘n"
          ],
          [
           "../data/arxiv/pdfs/2502.04359v1.pdf",
           30,
           "Another interesting observation was for the outputs of MGA-Net and LLaVA models when they came close"
          ],
          [
           "../data/arxiv/pdfs/2502.04359v1.pdf",
           31,
           "6.2 Projective and Proximity Relations Figure 1c shows an example of Projective relations (‘to the l"
          ],
          [
           "../data/arxiv/pdfs/2502.04359v1.pdf",
           32,
           "the model might pay attention to only one spatial clause. Consequently, it returns an object satisfy"
          ],
          [
           "../data/arxiv/pdfs/2502.04359v1.pdf",
           33,
           "7 Conclusion  Spatial reasoning and understanding is an area in which the latest VLMs have shown sig"
          ],
          [
           "../data/arxiv/pdfs/2502.04359v1.pdf",
           34,
           "8 Future Directions  We observed that MGA-Net handles expressions with vary- ing spatial complexity "
          ],
          [
           "../data/arxiv/pdfs/2502.04359v1.pdf",
           35,
           "Another issue to address is the VLMs’ inability to com- prehend negations. MGA-Net’s improved perfor"
          ],
          [
           "../data/arxiv/pdfs/2502.04359v1.pdf",
           36,
           "[Cohn and Hernandez-Orallo, 2023] Anthony G Cohn and Jose Hernandez-Orallo. language model evaluatio"
          ],
          [
           "../data/arxiv/pdfs/2502.04359v1.pdf",
           37,
           "[Gokhale et al., 2022] Tejas Gokhale, Hamid Palangi, Be- smira Nushi, Vibhav Vineet, Eric Horvitz, E"
          ],
          [
           "../data/arxiv/pdfs/2502.04359v1.pdf",
           38,
           "[Kamali et al., 2024] Danial Kamali, Elham J Barezi, and Parisa Kordjamshidi. NeSyCoCo: A Neuro-Symb"
          ],
          [
           "../data/arxiv/pdfs/2502.04359v1.pdf",
           39,
           "[Krishna et al., 2017] Ranjay Krishna, Yuke Zhu, Oliver Groth, Joshua Kravitz, Stephanie Chen, Yanni"
          ],
          [
           "../data/arxiv/pdfs/2502.04359v1.pdf",
           40,
           "[Li et al., 2023] Bohao Li, Rui Wang, Guangzhi Wang, Yuy- ing Ge, Yixiao Ge, and Ying Shan. SEED-Ben"
          ],
          [
           "../data/arxiv/pdfs/2502.04359v1.pdf",
           41,
           "[Liu et al., 2023b] Shilong Liu, Zhaoyang Zeng, Tianhe Ren, Feng Li, Hao Zhang, Jie Yang, Chunyuan L"
          ],
          [
           "../data/arxiv/pdfs/2502.04359v1.pdf",
           42,
           "language.  [Minderer et al., 2022] Matthias Minderer, Alexey Grit- senko, Austin Stone, Maxim Neuman"
          ],
          [
           "../data/arxiv/pdfs/2502.04359v1.pdf",
           43,
           "Vicuna:  an Open-Source Large https://blogs.novita.ai/  Language Model for Chatbots. vicuna-an-open-"
          ],
          [
           "../data/arxiv/pdfs/2502.04359v1.pdf",
           44,
           "[Ren et al., 2016] Shaoqing Ren, Kaiming He, Ross Gir- shick, and Jian Sun. Faster R-CNN: Towards Re"
          ],
          [
           "../data/arxiv/pdfs/2502.04359v1.pdf",
           45,
           "[Subramanian et al., 2022] Sanjay Subramanian, William Merrill, Trevor Darrell, Matt Gardner, Sameer"
          ],
          [
           "../data/arxiv/pdfs/2502.04359v1.pdf",
           46,
           "[Wang et al., 2024] Jiayu Wang, Yifei Ming, Zhenmei Shi, Vibhav Vineet, Xin Wang, Yixuan Li, and Nee"
          ],
          [
           "../data/arxiv/pdfs/2502.04359v1.pdf",
           47,
           "[Zheng et al., 2020] Yihan Zheng, Zhiquan Wen, Mingkui Tan, Runhao Zeng, Qi Chen, Yaowei Wang, and Q"
          ],
          [
           "../data/arxiv/pdfs/2502.04359v1.pdf",
           48,
           "4. Orientation: Consists of relations which describe the orientation of an object w.r.t another obje"
          ],
          [
           "../data/arxiv/pdfs/2502.04359v1.pdf",
           49,
           "8. Unallocated: Consists of relations that cannot be allo- cated to any of the above categories.  A."
          ],
          [
           "../data/arxiv/pdfs/2502.04359v1.pdf",
           50,
           "3. Provide the bounding box coordinates for: ”Refexp”  In both prompts, the ‘bounding box list’ cons"
          ],
          [
           "../data/arxiv/pdfs/2502.04359v1.pdf",
           51,
           "{‘1’: [0.16, 0.55], ‘2’: [0.32, 0.47], ‘3’: [0.55, 0.6], ‘4’: [0.21, 0.06],...  0.9, 0.53, 0.93, 0.5"
          ],
          [
           "../data/arxiv/pdfs/2502.04359v1.pdf",
           52,
           "output  format:  Query format: <image>Bounding Boxes:bounding box list; Expression: Refexp; Correct "
          ],
          [
           "../data/arxiv/pdfs/2502.04359v1.pdf",
           53,
           "A.3 Related Works Data Table 11 provides the evaluation task, list of evaluated mod- els, the benchm"
          ],
          [
           "../data/arxiv/pdfs/2502.04359v1.pdf",
           54,
           "New: MM- Bench  Image-caption agreement Multi-Choice VQA  New: SEED- Bench  Multi-Choice VQA  New: M"
          ],
          [
           "../data/arxiv/pdfs/2502.04359v1.pdf",
           55,
           "[R¨osch and  Libovick`y, 2023]  [Kamath et  al., 2023]  [Gokhale et al., 2022]  [Lewis et al., 2022]"
          ],
          [
           "../data/arxiv/pdfs/2502.04359v1.pdf",
           56,
           "Template annotation  Template annotation  Human and template an- notation Human-annotation with cons"
          ],
          [
           "../data/arxiv/pdfs/2502.04359v1.pdf",
           57,
           "[Yu et al.,  2023]  [R¨osch and  Libovick`y, 2023]  [Kamath et  al., 2023]  [Gokhale et  Real-world "
          ],
          [
           "../data/arxiv/pdfs/2502.04359v1.pdf",
           58,
           "CopsRef Dataset  Captions - Simple  Referring expres- sions - Complex  8 + their superla- tives 51  "
          ]
         ],
         "hovertemplate": "x=%{x}<br>y=%{y}<br>document=%{customdata[0]}<br>chunk=%{customdata[1]}<br>preview=%{customdata[2]}<br>color_id=%{marker.color}<extra></extra>",
         "legendgroup": "",
         "marker": {
          "color": {
           "bdata": "CQkJCQkJCQkJCQkJCQkJCQkJCQkJCQkJCQkJCQkJCQkJCQkJCQkJCQkJCQkJCQkJCQkJCQkJCQkJCQkJCQkJCQkJCQkJCQkJCQkJCQkJCQkJCQkJCQkJCQkJAwMDAwMDAwMDAwMDAwMDAwMDAwMDAwMDAwMDAwMDAwMDAwEBAQEBAQEBAQEBAQEBAQEBAQEBAQEBAQEBAQEBAQEBAQEBAQEBAQEBAQEBAQEBAQEBAQEBAQEBAQEBAQEBAQEBAQEBAQEBBAQEBAQEBAQEBAQEBAQEBAQEBAQEBAQEBAQEBAQEBAQEBAQEBAQEBAQEBAQEBAQEBAQEBAQEBAcHBwcHBwcHBwcHBwcHBwcHBwcHBwcHBwcHBwcHBwcHBwcAAAAAAAAAAAAAAAAAAAAAAAAAAAAAAAAAAAAAAAAAAAAAAAAAAAAGBgYGBgYGBgYGBgYGBgYGBgYGBgYGBgYGBgYGBgYGBgYGBgYGBgYGBgYGBgYGBgYGBgYGBgYGBgYGBgYFBQUFBQUFBQUFBQUFBQUFBQUFBQUFBQUFBQUFBQUFBQUFBQUFBQUFBQUFBQUFBQUFBQUFBQUFBQUFBQUFBQUFBQUFBQUFBQUFBQUFBQUFBQUFBQUFBQUFBQUFBQUFBQUFBQUFBQUFBQUFBQUFBQUFBQUFBQUFBQUFBQUFBQUFBQUFBQUFBQUFBQUFBQUFBQUFBQUFBQUCAgICAgICAgICAgICAgICAgICAgICAgICAgICAgIICAgICAgICAgICAgICAgICAgICAgICAgICAgICAgICAgICAgICAgICAgICAgICAgICAgICAgICAgICA==",
           "dtype": "i1"
          },
          "coloraxis": "coloraxis",
          "opacity": 0.6,
          "size": 6,
          "symbol": "circle"
         },
         "mode": "markers",
         "name": "",
         "orientation": "v",
         "showlegend": false,
         "type": "scatter",
         "x": {
          "bdata": "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",
          "dtype": "f8"
         },
         "xaxis": "x",
         "y": {
          "bdata": "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",
          "dtype": "f8"
         },
         "yaxis": "y"
        }
       ],
       "layout": {
        "coloraxis": {
         "colorbar": {
          "title": {
           "text": "color_id"
          }
         },
         "colorscale": [
          [
           0,
           "#0d0887"
          ],
          [
           0.1111111111111111,
           "#46039f"
          ],
          [
           0.2222222222222222,
           "#7201a8"
          ],
          [
           0.3333333333333333,
           "#9c179e"
          ],
          [
           0.4444444444444444,
           "#bd3786"
          ],
          [
           0.5555555555555556,
           "#d8576b"
          ],
          [
           0.6666666666666666,
           "#ed7953"
          ],
          [
           0.7777777777777778,
           "#fb9f3a"
          ],
          [
           0.8888888888888888,
           "#fdca26"
          ],
          [
           1,
           "#f0f921"
          ]
         ]
        },
        "legend": {
         "tracegroupgap": 0
        },
        "showlegend": false,
        "template": {
         "data": {
          "bar": [
           {
            "error_x": {
             "color": "#2a3f5f"
            },
            "error_y": {
             "color": "#2a3f5f"
            },
            "marker": {
             "line": {
              "color": "#E5ECF6",
              "width": 0.5
             },
             "pattern": {
              "fillmode": "overlay",
              "size": 10,
              "solidity": 0.2
             }
            },
            "type": "bar"
           }
          ],
          "barpolar": [
           {
            "marker": {
             "line": {
              "color": "#E5ECF6",
              "width": 0.5
             },
             "pattern": {
              "fillmode": "overlay",
              "size": 10,
              "solidity": 0.2
             }
            },
            "type": "barpolar"
           }
          ],
          "carpet": [
           {
            "aaxis": {
             "endlinecolor": "#2a3f5f",
             "gridcolor": "white",
             "linecolor": "white",
             "minorgridcolor": "white",
             "startlinecolor": "#2a3f5f"
            },
            "baxis": {
             "endlinecolor": "#2a3f5f",
             "gridcolor": "white",
             "linecolor": "white",
             "minorgridcolor": "white",
             "startlinecolor": "#2a3f5f"
            },
            "type": "carpet"
           }
          ],
          "choropleth": [
           {
            "colorbar": {
             "outlinewidth": 0,
             "ticks": ""
            },
            "type": "choropleth"
           }
          ],
          "contour": [
           {
            "colorbar": {
             "outlinewidth": 0,
             "ticks": ""
            },
            "colorscale": [
             [
              0,
              "#0d0887"
             ],
             [
              0.1111111111111111,
              "#46039f"
             ],
             [
              0.2222222222222222,
              "#7201a8"
             ],
             [
              0.3333333333333333,
              "#9c179e"
             ],
             [
              0.4444444444444444,
              "#bd3786"
             ],
             [
              0.5555555555555556,
              "#d8576b"
             ],
             [
              0.6666666666666666,
              "#ed7953"
             ],
             [
              0.7777777777777778,
              "#fb9f3a"
             ],
             [
              0.8888888888888888,
              "#fdca26"
             ],
             [
              1,
              "#f0f921"
             ]
            ],
            "type": "contour"
           }
          ],
          "contourcarpet": [
           {
            "colorbar": {
             "outlinewidth": 0,
             "ticks": ""
            },
            "type": "contourcarpet"
           }
          ],
          "heatmap": [
           {
            "colorbar": {
             "outlinewidth": 0,
             "ticks": ""
            },
            "colorscale": [
             [
              0,
              "#0d0887"
             ],
             [
              0.1111111111111111,
              "#46039f"
             ],
             [
              0.2222222222222222,
              "#7201a8"
             ],
             [
              0.3333333333333333,
              "#9c179e"
             ],
             [
              0.4444444444444444,
              "#bd3786"
             ],
             [
              0.5555555555555556,
              "#d8576b"
             ],
             [
              0.6666666666666666,
              "#ed7953"
             ],
             [
              0.7777777777777778,
              "#fb9f3a"
             ],
             [
              0.8888888888888888,
              "#fdca26"
             ],
             [
              1,
              "#f0f921"
             ]
            ],
            "type": "heatmap"
           }
          ],
          "histogram": [
           {
            "marker": {
             "pattern": {
              "fillmode": "overlay",
              "size": 10,
              "solidity": 0.2
             }
            },
            "type": "histogram"
           }
          ],
          "histogram2d": [
           {
            "colorbar": {
             "outlinewidth": 0,
             "ticks": ""
            },
            "colorscale": [
             [
              0,
              "#0d0887"
             ],
             [
              0.1111111111111111,
              "#46039f"
             ],
             [
              0.2222222222222222,
              "#7201a8"
             ],
             [
              0.3333333333333333,
              "#9c179e"
             ],
             [
              0.4444444444444444,
              "#bd3786"
             ],
             [
              0.5555555555555556,
              "#d8576b"
             ],
             [
              0.6666666666666666,
              "#ed7953"
             ],
             [
              0.7777777777777778,
              "#fb9f3a"
             ],
             [
              0.8888888888888888,
              "#fdca26"
             ],
             [
              1,
              "#f0f921"
             ]
            ],
            "type": "histogram2d"
           }
          ],
          "histogram2dcontour": [
           {
            "colorbar": {
             "outlinewidth": 0,
             "ticks": ""
            },
            "colorscale": [
             [
              0,
              "#0d0887"
             ],
             [
              0.1111111111111111,
              "#46039f"
             ],
             [
              0.2222222222222222,
              "#7201a8"
             ],
             [
              0.3333333333333333,
              "#9c179e"
             ],
             [
              0.4444444444444444,
              "#bd3786"
             ],
             [
              0.5555555555555556,
              "#d8576b"
             ],
             [
              0.6666666666666666,
              "#ed7953"
             ],
             [
              0.7777777777777778,
              "#fb9f3a"
             ],
             [
              0.8888888888888888,
              "#fdca26"
             ],
             [
              1,
              "#f0f921"
             ]
            ],
            "type": "histogram2dcontour"
           }
          ],
          "mesh3d": [
           {
            "colorbar": {
             "outlinewidth": 0,
             "ticks": ""
            },
            "type": "mesh3d"
           }
          ],
          "parcoords": [
           {
            "line": {
             "colorbar": {
              "outlinewidth": 0,
              "ticks": ""
             }
            },
            "type": "parcoords"
           }
          ],
          "pie": [
           {
            "automargin": true,
            "type": "pie"
           }
          ],
          "scatter": [
           {
            "fillpattern": {
             "fillmode": "overlay",
             "size": 10,
             "solidity": 0.2
            },
            "type": "scatter"
           }
          ],
          "scatter3d": [
           {
            "line": {
             "colorbar": {
              "outlinewidth": 0,
              "ticks": ""
             }
            },
            "marker": {
             "colorbar": {
              "outlinewidth": 0,
              "ticks": ""
             }
            },
            "type": "scatter3d"
           }
          ],
          "scattercarpet": [
           {
            "marker": {
             "colorbar": {
              "outlinewidth": 0,
              "ticks": ""
             }
            },
            "type": "scattercarpet"
           }
          ],
          "scattergeo": [
           {
            "marker": {
             "colorbar": {
              "outlinewidth": 0,
              "ticks": ""
             }
            },
            "type": "scattergeo"
           }
          ],
          "scattergl": [
           {
            "marker": {
             "colorbar": {
              "outlinewidth": 0,
              "ticks": ""
             }
            },
            "type": "scattergl"
           }
          ],
          "scattermap": [
           {
            "marker": {
             "colorbar": {
              "outlinewidth": 0,
              "ticks": ""
             }
            },
            "type": "scattermap"
           }
          ],
          "scattermapbox": [
           {
            "marker": {
             "colorbar": {
              "outlinewidth": 0,
              "ticks": ""
             }
            },
            "type": "scattermapbox"
           }
          ],
          "scatterpolar": [
           {
            "marker": {
             "colorbar": {
              "outlinewidth": 0,
              "ticks": ""
             }
            },
            "type": "scatterpolar"
           }
          ],
          "scatterpolargl": [
           {
            "marker": {
             "colorbar": {
              "outlinewidth": 0,
              "ticks": ""
             }
            },
            "type": "scatterpolargl"
           }
          ],
          "scatterternary": [
           {
            "marker": {
             "colorbar": {
              "outlinewidth": 0,
              "ticks": ""
             }
            },
            "type": "scatterternary"
           }
          ],
          "surface": [
           {
            "colorbar": {
             "outlinewidth": 0,
             "ticks": ""
            },
            "colorscale": [
             [
              0,
              "#0d0887"
             ],
             [
              0.1111111111111111,
              "#46039f"
             ],
             [
              0.2222222222222222,
              "#7201a8"
             ],
             [
              0.3333333333333333,
              "#9c179e"
             ],
             [
              0.4444444444444444,
              "#bd3786"
             ],
             [
              0.5555555555555556,
              "#d8576b"
             ],
             [
              0.6666666666666666,
              "#ed7953"
             ],
             [
              0.7777777777777778,
              "#fb9f3a"
             ],
             [
              0.8888888888888888,
              "#fdca26"
             ],
             [
              1,
              "#f0f921"
             ]
            ],
            "type": "surface"
           }
          ],
          "table": [
           {
            "cells": {
             "fill": {
              "color": "#EBF0F8"
             },
             "line": {
              "color": "white"
             }
            },
            "header": {
             "fill": {
              "color": "#C8D4E3"
             },
             "line": {
              "color": "white"
             }
            },
            "type": "table"
           }
          ]
         },
         "layout": {
          "annotationdefaults": {
           "arrowcolor": "#2a3f5f",
           "arrowhead": 0,
           "arrowwidth": 1
          },
          "autotypenumbers": "strict",
          "coloraxis": {
           "colorbar": {
            "outlinewidth": 0,
            "ticks": ""
           }
          },
          "colorscale": {
           "diverging": [
            [
             0,
             "#8e0152"
            ],
            [
             0.1,
             "#c51b7d"
            ],
            [
             0.2,
             "#de77ae"
            ],
            [
             0.3,
             "#f1b6da"
            ],
            [
             0.4,
             "#fde0ef"
            ],
            [
             0.5,
             "#f7f7f7"
            ],
            [
             0.6,
             "#e6f5d0"
            ],
            [
             0.7,
             "#b8e186"
            ],
            [
             0.8,
             "#7fbc41"
            ],
            [
             0.9,
             "#4d9221"
            ],
            [
             1,
             "#276419"
            ]
           ],
           "sequential": [
            [
             0,
             "#0d0887"
            ],
            [
             0.1111111111111111,
             "#46039f"
            ],
            [
             0.2222222222222222,
             "#7201a8"
            ],
            [
             0.3333333333333333,
             "#9c179e"
            ],
            [
             0.4444444444444444,
             "#bd3786"
            ],
            [
             0.5555555555555556,
             "#d8576b"
            ],
            [
             0.6666666666666666,
             "#ed7953"
            ],
            [
             0.7777777777777778,
             "#fb9f3a"
            ],
            [
             0.8888888888888888,
             "#fdca26"
            ],
            [
             1,
             "#f0f921"
            ]
           ],
           "sequentialminus": [
            [
             0,
             "#0d0887"
            ],
            [
             0.1111111111111111,
             "#46039f"
            ],
            [
             0.2222222222222222,
             "#7201a8"
            ],
            [
             0.3333333333333333,
             "#9c179e"
            ],
            [
             0.4444444444444444,
             "#bd3786"
            ],
            [
             0.5555555555555556,
             "#d8576b"
            ],
            [
             0.6666666666666666,
             "#ed7953"
            ],
            [
             0.7777777777777778,
             "#fb9f3a"
            ],
            [
             0.8888888888888888,
             "#fdca26"
            ],
            [
             1,
             "#f0f921"
            ]
           ]
          },
          "colorway": [
           "#636efa",
           "#EF553B",
           "#00cc96",
           "#ab63fa",
           "#FFA15A",
           "#19d3f3",
           "#FF6692",
           "#B6E880",
           "#FF97FF",
           "#FECB52"
          ],
          "font": {
           "color": "#2a3f5f"
          },
          "geo": {
           "bgcolor": "white",
           "lakecolor": "white",
           "landcolor": "#E5ECF6",
           "showlakes": true,
           "showland": true,
           "subunitcolor": "white"
          },
          "hoverlabel": {
           "align": "left"
          },
          "hovermode": "closest",
          "mapbox": {
           "style": "light"
          },
          "paper_bgcolor": "white",
          "plot_bgcolor": "#E5ECF6",
          "polar": {
           "angularaxis": {
            "gridcolor": "white",
            "linecolor": "white",
            "ticks": ""
           },
           "bgcolor": "#E5ECF6",
           "radialaxis": {
            "gridcolor": "white",
            "linecolor": "white",
            "ticks": ""
           }
          },
          "scene": {
           "xaxis": {
            "backgroundcolor": "#E5ECF6",
            "gridcolor": "white",
            "gridwidth": 2,
            "linecolor": "white",
            "showbackground": true,
            "ticks": "",
            "zerolinecolor": "white"
           },
           "yaxis": {
            "backgroundcolor": "#E5ECF6",
            "gridcolor": "white",
            "gridwidth": 2,
            "linecolor": "white",
            "showbackground": true,
            "ticks": "",
            "zerolinecolor": "white"
           },
           "zaxis": {
            "backgroundcolor": "#E5ECF6",
            "gridcolor": "white",
            "gridwidth": 2,
            "linecolor": "white",
            "showbackground": true,
            "ticks": "",
            "zerolinecolor": "white"
           }
          },
          "shapedefaults": {
           "line": {
            "color": "#2a3f5f"
           }
          },
          "ternary": {
           "aaxis": {
            "gridcolor": "white",
            "linecolor": "white",
            "ticks": ""
           },
           "baxis": {
            "gridcolor": "white",
            "linecolor": "white",
            "ticks": ""
           },
           "bgcolor": "#E5ECF6",
           "caxis": {
            "gridcolor": "white",
            "linecolor": "white",
            "ticks": ""
           }
          },
          "title": {
           "x": 0.05
          },
          "xaxis": {
           "automargin": true,
           "gridcolor": "white",
           "linecolor": "white",
           "ticks": "",
           "title": {
            "standoff": 15
           },
           "zerolinecolor": "white",
           "zerolinewidth": 2
          },
          "yaxis": {
           "automargin": true,
           "gridcolor": "white",
           "linecolor": "white",
           "ticks": "",
           "title": {
            "standoff": 15
           },
           "zerolinecolor": "white",
           "zerolinewidth": 2
          }
         }
        },
        "title": {
         "text": "Interactive PCA Projection of Chunks"
        },
        "xaxis": {
         "anchor": "y",
         "domain": [
          0,
          1
         ],
         "title": {
          "text": "x"
         }
        },
        "yaxis": {
         "anchor": "x",
         "domain": [
          0,
          1
         ],
         "title": {
          "text": "y"
         }
        }
       }
      }
     },
     "metadata": {},
     "output_type": "display_data"
    }
   ],
   "source": [
    "\n",
    "fig = px.scatter(\n",
    "    df,\n",
    "    x=\"x\",\n",
    "    y=\"y\",\n",
    "    color=\"color_id\",\n",
    "    hover_data=[\"document\", \"chunk\", \"preview\"],\n",
    "    title=\"Interactive PCA Projection of Chunks\"\n",
    ")\n",
    "fig.update_traces(marker=dict(size=6, opacity=0.6))\n",
    "fig.update_layout(showlegend=False)\n",
    "fig.show()\n"
   ]
  },
  {
   "cell_type": "code",
   "execution_count": null,
   "id": "2f4cee14",
   "metadata": {},
   "outputs": [],
   "source": []
  }
 ],
 "metadata": {
  "kernelspec": {
   "display_name": ".venv",
   "language": "python",
   "name": "python3"
  },
  "language_info": {
   "codemirror_mode": {
    "name": "ipython",
    "version": 3
   },
   "file_extension": ".py",
   "mimetype": "text/x-python",
   "name": "python",
   "nbconvert_exporter": "python",
   "pygments_lexer": "ipython3",
   "version": "3.11.11"
  }
 },
 "nbformat": 4,
 "nbformat_minor": 5
}
