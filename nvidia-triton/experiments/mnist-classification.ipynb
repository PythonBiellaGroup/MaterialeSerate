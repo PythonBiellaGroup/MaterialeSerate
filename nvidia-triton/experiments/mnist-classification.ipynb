{
 "cells": [
  {
   "cell_type": "code",
   "execution_count": 1,
   "metadata": {
    "collapsed": true
   },
   "outputs": [],
   "source": [
    "import torch\n",
    "from torch import nn\n",
    "from torch.utils.data import DataLoader\n",
    "from torchvision import datasets\n",
    "from torchvision.transforms import ToTensor"
   ]
  },
  {
   "cell_type": "code",
   "execution_count": 2,
   "outputs": [],
   "source": [
    "# Download training data from open datasets.\n",
    "training_data = datasets.FashionMNIST(\n",
    "    root=\"data\",\n",
    "    train=True,\n",
    "    download=True,\n",
    "    transform=ToTensor(),\n",
    ")\n",
    "\n",
    "# Download test data from open datasets.\n",
    "test_data = datasets.FashionMNIST(\n",
    "    root=\"data\",\n",
    "    train=False,\n",
    "    download=True,\n",
    "    transform=ToTensor(),\n",
    ")"
   ],
   "metadata": {
    "collapsed": false
   }
  },
  {
   "cell_type": "code",
   "execution_count": 3,
   "outputs": [
    {
     "name": "stdout",
     "output_type": "stream",
     "text": [
      "Shape of X [N, C, H, W]: torch.Size([64, 1, 28, 28])\n",
      "Shape of y: torch.Size([64]) torch.int64\n"
     ]
    }
   ],
   "source": [
    "batch_size = 64\n",
    "\n",
    "# Create data loaders.\n",
    "train_dataloader = DataLoader(training_data, batch_size=batch_size)\n",
    "test_dataloader = DataLoader(test_data, batch_size=batch_size)\n",
    "\n",
    "for X, y in test_dataloader:\n",
    "    print(f\"Shape of X [N, C, H, W]: {X.shape}\")\n",
    "    print(f\"Shape of y: {y.shape} {y.dtype}\")\n",
    "    break"
   ],
   "metadata": {
    "collapsed": false
   }
  },
  {
   "cell_type": "code",
   "execution_count": 4,
   "outputs": [
    {
     "data": {
      "text/plain": "'mps'"
     },
     "execution_count": 4,
     "metadata": {},
     "output_type": "execute_result"
    }
   ],
   "source": [
    "# Get cpu, gpu or mps device for training.\n",
    "device = (\n",
    "    \"cuda\"\n",
    "    if torch.cuda.is_available()\n",
    "    else \"mps\"\n",
    "    if torch.backends.mps.is_available()\n",
    "    else \"cpu\"\n",
    ")\n",
    "device"
   ],
   "metadata": {
    "collapsed": false
   }
  },
  {
   "cell_type": "code",
   "execution_count": 24,
   "outputs": [
    {
     "data": {
      "text/plain": "NeuralNetwork(\n  (flatten): Flatten(start_dim=1, end_dim=-1)\n  (linear_relu_stack): Sequential(\n    (0): Linear(in_features=784, out_features=512, bias=True)\n    (1): ReLU()\n    (2): Linear(in_features=512, out_features=512, bias=True)\n    (3): ReLU()\n    (4): Linear(in_features=512, out_features=10, bias=True)\n  )\n)"
     },
     "execution_count": 24,
     "metadata": {},
     "output_type": "execute_result"
    }
   ],
   "source": [
    "# Define model\n",
    "class NeuralNetwork(nn.Module):\n",
    "    def __init__(self):\n",
    "        super().__init__()\n",
    "        self.flatten = nn.Flatten()\n",
    "        self.linear_relu_stack = nn.Sequential(\n",
    "            nn.Linear(28*28, 512),\n",
    "            nn.ReLU(),\n",
    "            nn.Linear(512, 512),\n",
    "            nn.ReLU(),\n",
    "            nn.Linear(512, 10)\n",
    "        )\n",
    "\n",
    "    def forward(self, x):\n",
    "        x = self.flatten(x)\n",
    "        logits = self.linear_relu_stack(x)\n",
    "        return logits\n",
    "\n",
    "model = NeuralNetwork().to(device)\n",
    "if device == \"cuda\":\n",
    "\tmodel = torch.optimize(model)\n",
    "model"
   ],
   "metadata": {
    "collapsed": false
   }
  },
  {
   "cell_type": "code",
   "execution_count": 25,
   "outputs": [],
   "source": [
    "loss_fn = nn.CrossEntropyLoss()\n",
    "optimizer = torch.optim.SGD(model.parameters(), lr=1e-3)"
   ],
   "metadata": {
    "collapsed": false
   }
  },
  {
   "cell_type": "code",
   "execution_count": 8,
   "outputs": [],
   "source": [
    "def train(dataloader, model, loss_fn, optimizer):\n",
    "    size = len(dataloader.dataset)\n",
    "    model.train()\n",
    "    for batch, (X, y) in enumerate(dataloader):\n",
    "        X, y = X.to(device), y.to(device)\n",
    "\n",
    "        # Compute prediction error\n",
    "        pred = model(X)\n",
    "        loss = loss_fn(pred, y)\n",
    "\n",
    "        # Backpropagation\n",
    "        optimizer.zero_grad()\n",
    "        loss.backward()\n",
    "        optimizer.step()\n",
    "\n",
    "        if batch % 100 == 0:\n",
    "            loss, current = loss.item(), (batch + 1) * len(X)\n",
    "            print(f\"loss: {loss:>7f}  [{current:>5d}/{size:>5d}]\")"
   ],
   "metadata": {
    "collapsed": false
   }
  },
  {
   "cell_type": "code",
   "execution_count": 9,
   "outputs": [],
   "source": [
    "def test(dataloader, model, loss_fn):\n",
    "    size = len(dataloader.dataset)\n",
    "    num_batches = len(dataloader)\n",
    "    model.eval()\n",
    "    test_loss, correct = 0, 0\n",
    "    with torch.no_grad():\n",
    "        for X, y in dataloader:\n",
    "            X, y = X.to(device), y.to(device)\n",
    "            pred = model(X)\n",
    "            test_loss += loss_fn(pred, y).item()\n",
    "            correct += (pred.argmax(1) == y).type(torch.float).sum().item()\n",
    "    test_loss /= num_batches\n",
    "    correct /= size\n",
    "    print(f\"Test Error: \\n Accuracy: {(100*correct):>0.1f}%, Avg loss: {test_loss:>8f} \\n\")"
   ],
   "metadata": {
    "collapsed": false
   }
  },
  {
   "cell_type": "code",
   "execution_count": 34,
   "outputs": [],
   "source": [
    "def train_model(model, loss_fn, optimizer):\n",
    "\tepochs = 10\n",
    "\tfor t in range(epochs):\n",
    "\t\tprint(f\"Epoch {t+1}\\n-------------------------------\")\n",
    "\t\ttrain(train_dataloader, model, loss_fn, optimizer)\n",
    "\t\ttest(test_dataloader, model, loss_fn)\n",
    "\tprint(\"Done!\")"
   ],
   "metadata": {
    "collapsed": false
   }
  },
  {
   "cell_type": "code",
   "execution_count": 26,
   "outputs": [
    {
     "name": "stdout",
     "output_type": "stream",
     "text": [
      "Epoch 1\n",
      "-------------------------------\n",
      "loss: 2.301783  [   64/60000]\n",
      "loss: 2.290540  [ 6464/60000]\n",
      "loss: 2.269717  [12864/60000]\n",
      "loss: 2.265140  [19264/60000]\n",
      "loss: 2.238884  [25664/60000]\n",
      "loss: 2.212539  [32064/60000]\n",
      "loss: 2.219168  [38464/60000]\n",
      "loss: 2.186257  [44864/60000]\n",
      "loss: 2.182139  [51264/60000]\n",
      "loss: 2.140126  [57664/60000]\n",
      "Test Error: \n",
      " Accuracy: 45.6%, Avg loss: 2.140773 \n",
      "\n",
      "Epoch 2\n",
      "-------------------------------\n",
      "loss: 2.152323  [   64/60000]\n",
      "loss: 2.143236  [ 6464/60000]\n",
      "loss: 2.081924  [12864/60000]\n",
      "loss: 2.101945  [19264/60000]\n",
      "loss: 2.033799  [25664/60000]\n",
      "loss: 1.976586  [32064/60000]\n",
      "loss: 2.003998  [38464/60000]\n",
      "loss: 1.920673  [44864/60000]\n",
      "loss: 1.930494  [51264/60000]\n",
      "loss: 1.846056  [57664/60000]\n",
      "Test Error: \n",
      " Accuracy: 57.6%, Avg loss: 1.848725 \n",
      "\n",
      "Epoch 3\n",
      "-------------------------------\n",
      "loss: 1.884627  [   64/60000]\n",
      "loss: 1.853767  [ 6464/60000]\n",
      "loss: 1.733704  [12864/60000]\n",
      "loss: 1.780946  [19264/60000]\n",
      "loss: 1.651876  [25664/60000]\n",
      "loss: 1.617443  [32064/60000]\n",
      "loss: 1.635887  [38464/60000]\n",
      "loss: 1.537667  [44864/60000]\n",
      "loss: 1.568442  [51264/60000]\n",
      "loss: 1.462616  [57664/60000]\n",
      "Test Error: \n",
      " Accuracy: 60.5%, Avg loss: 1.479139 \n",
      "\n",
      "Epoch 4\n",
      "-------------------------------\n",
      "loss: 1.548269  [   64/60000]\n",
      "loss: 1.514696  [ 6464/60000]\n",
      "loss: 1.365597  [12864/60000]\n",
      "loss: 1.444898  [19264/60000]\n",
      "loss: 1.317085  [25664/60000]\n",
      "loss: 1.325384  [32064/60000]\n",
      "loss: 1.337194  [38464/60000]\n",
      "loss: 1.259912  [44864/60000]\n",
      "loss: 1.301029  [51264/60000]\n",
      "loss: 1.207754  [57664/60000]\n",
      "Test Error: \n",
      " Accuracy: 63.0%, Avg loss: 1.227219 \n",
      "\n",
      "Epoch 5\n",
      "-------------------------------\n",
      "loss: 1.305316  [   64/60000]\n",
      "loss: 1.286793  [ 6464/60000]\n",
      "loss: 1.122403  [12864/60000]\n",
      "loss: 1.235978  [19264/60000]\n",
      "loss: 1.110774  [25664/60000]\n",
      "loss: 1.137513  [32064/60000]\n",
      "loss: 1.160452  [38464/60000]\n",
      "loss: 1.088553  [44864/60000]\n",
      "loss: 1.136974  [51264/60000]\n",
      "loss: 1.059246  [57664/60000]\n",
      "Test Error: \n",
      " Accuracy: 64.5%, Avg loss: 1.074151 \n",
      "\n",
      "Epoch 6\n",
      "-------------------------------\n",
      "loss: 1.146748  [   64/60000]\n",
      "loss: 1.145497  [ 6464/60000]\n",
      "loss: 0.965720  [12864/60000]\n",
      "loss: 1.107049  [19264/60000]\n",
      "loss: 0.987222  [25664/60000]\n",
      "loss: 1.012252  [32064/60000]\n",
      "loss: 1.052521  [38464/60000]\n",
      "loss: 0.979683  [44864/60000]\n",
      "loss: 1.030223  [51264/60000]\n",
      "loss: 0.966128  [57664/60000]\n",
      "Test Error: \n",
      " Accuracy: 65.5%, Avg loss: 0.976087 \n",
      "\n",
      "Epoch 7\n",
      "-------------------------------\n",
      "loss: 1.037602  [   64/60000]\n",
      "loss: 1.054042  [ 6464/60000]\n",
      "loss: 0.859280  [12864/60000]\n",
      "loss: 1.021271  [19264/60000]\n",
      "loss: 0.910237  [25664/60000]\n",
      "loss: 0.924410  [32064/60000]\n",
      "loss: 0.981901  [38464/60000]\n",
      "loss: 0.908938  [44864/60000]\n",
      "loss: 0.956418  [51264/60000]\n",
      "loss: 0.902928  [57664/60000]\n",
      "Test Error: \n",
      " Accuracy: 66.8%, Avg loss: 0.909204 \n",
      "\n",
      "Epoch 8\n",
      "-------------------------------\n",
      "loss: 0.957555  [   64/60000]\n",
      "loss: 0.989731  [ 6464/60000]\n",
      "loss: 0.782935  [12864/60000]\n",
      "loss: 0.959874  [19264/60000]\n",
      "loss: 0.858888  [25664/60000]\n",
      "loss: 0.860175  [32064/60000]\n",
      "loss: 0.931694  [38464/60000]\n",
      "loss: 0.861080  [44864/60000]\n",
      "loss: 0.903142  [51264/60000]\n",
      "loss: 0.856362  [57664/60000]\n",
      "Test Error: \n",
      " Accuracy: 68.0%, Avg loss: 0.860708 \n",
      "\n",
      "Epoch 9\n",
      "-------------------------------\n",
      "loss: 0.895599  [   64/60000]\n",
      "loss: 0.941038  [ 6464/60000]\n",
      "loss: 0.725542  [12864/60000]\n",
      "loss: 0.913400  [19264/60000]\n",
      "loss: 0.822180  [25664/60000]\n",
      "loss: 0.811644  [32064/60000]\n",
      "loss: 0.893202  [38464/60000]\n",
      "loss: 0.827160  [44864/60000]\n",
      "loss: 0.863019  [51264/60000]\n",
      "loss: 0.820014  [57664/60000]\n",
      "Test Error: \n",
      " Accuracy: 69.1%, Avg loss: 0.823515 \n",
      "\n",
      "Epoch 10\n",
      "-------------------------------\n",
      "loss: 0.845568  [   64/60000]\n",
      "loss: 0.901364  [ 6464/60000]\n",
      "loss: 0.680381  [12864/60000]\n",
      "loss: 0.877062  [19264/60000]\n",
      "loss: 0.793712  [25664/60000]\n",
      "loss: 0.774080  [32064/60000]\n",
      "loss: 0.861643  [38464/60000]\n",
      "loss: 0.801799  [44864/60000]\n",
      "loss: 0.831423  [51264/60000]\n",
      "loss: 0.790283  [57664/60000]\n",
      "Test Error: \n",
      " Accuracy: 70.3%, Avg loss: 0.793544 \n",
      "\n",
      "Done!\n"
     ]
    }
   ],
   "source": [
    "train_model(model, loss_fn, optimizer)"
   ],
   "metadata": {
    "collapsed": false
   }
  },
  {
   "cell_type": "code",
   "execution_count": 53,
   "outputs": [],
   "source": [
    "rand = torch.rand(1, 28, 28).to(device)\n",
    "rand.shape\n",
    "pred = model(rand)"
   ],
   "metadata": {
    "collapsed": false
   }
  },
  {
   "cell_type": "code",
   "execution_count": 55,
   "outputs": [
    {
     "data": {
      "text/plain": "torch.Size([1, 10])"
     },
     "execution_count": 55,
     "metadata": {},
     "output_type": "execute_result"
    }
   ],
   "source": [
    "pred.shape"
   ],
   "metadata": {
    "collapsed": false
   }
  },
  {
   "cell_type": "code",
   "execution_count": 57,
   "outputs": [
    {
     "name": "stdout",
     "output_type": "stream",
     "text": [
      "Saved PyTorch Model script to NN.pt\n"
     ]
    }
   ],
   "source": [
    "path = \"NN.pt\"\n",
    "model.eval()\n",
    "\n",
    "# An example input you would normally provide to your model's forward() method.\n",
    "example = torch.rand(1, 28, 28).to(device)\n",
    "\n",
    "# Use torch.jit.trace to generate a torch.jit.ScriptModule via tracing.\n",
    "traced_script_module = torch.jit.trace(model, example)\n",
    "traced_script_module.save(path)\n",
    "\n",
    "print(f\"Saved PyTorch Model script to {path}\")"
   ],
   "metadata": {
    "collapsed": false
   }
  },
  {
   "cell_type": "code",
   "execution_count": 38,
   "outputs": [
    {
     "data": {
      "text/plain": "MnistResNet(\n  (model): ResNet(\n    (conv1): Conv2d(1, 64, kernel_size=(7, 7), stride=(2, 2), padding=(3, 3), bias=False)\n    (bn1): BatchNorm2d(64, eps=1e-05, momentum=0.1, affine=True, track_running_stats=True)\n    (relu): ReLU(inplace=True)\n    (maxpool): MaxPool2d(kernel_size=3, stride=2, padding=1, dilation=1, ceil_mode=False)\n    (layer1): Sequential(\n      (0): BasicBlock(\n        (conv1): Conv2d(64, 64, kernel_size=(3, 3), stride=(1, 1), padding=(1, 1), bias=False)\n        (bn1): BatchNorm2d(64, eps=1e-05, momentum=0.1, affine=True, track_running_stats=True)\n        (relu): ReLU(inplace=True)\n        (conv2): Conv2d(64, 64, kernel_size=(3, 3), stride=(1, 1), padding=(1, 1), bias=False)\n        (bn2): BatchNorm2d(64, eps=1e-05, momentum=0.1, affine=True, track_running_stats=True)\n      )\n      (1): BasicBlock(\n        (conv1): Conv2d(64, 64, kernel_size=(3, 3), stride=(1, 1), padding=(1, 1), bias=False)\n        (bn1): BatchNorm2d(64, eps=1e-05, momentum=0.1, affine=True, track_running_stats=True)\n        (relu): ReLU(inplace=True)\n        (conv2): Conv2d(64, 64, kernel_size=(3, 3), stride=(1, 1), padding=(1, 1), bias=False)\n        (bn2): BatchNorm2d(64, eps=1e-05, momentum=0.1, affine=True, track_running_stats=True)\n      )\n    )\n    (layer2): Sequential(\n      (0): BasicBlock(\n        (conv1): Conv2d(64, 128, kernel_size=(3, 3), stride=(2, 2), padding=(1, 1), bias=False)\n        (bn1): BatchNorm2d(128, eps=1e-05, momentum=0.1, affine=True, track_running_stats=True)\n        (relu): ReLU(inplace=True)\n        (conv2): Conv2d(128, 128, kernel_size=(3, 3), stride=(1, 1), padding=(1, 1), bias=False)\n        (bn2): BatchNorm2d(128, eps=1e-05, momentum=0.1, affine=True, track_running_stats=True)\n        (downsample): Sequential(\n          (0): Conv2d(64, 128, kernel_size=(1, 1), stride=(2, 2), bias=False)\n          (1): BatchNorm2d(128, eps=1e-05, momentum=0.1, affine=True, track_running_stats=True)\n        )\n      )\n      (1): BasicBlock(\n        (conv1): Conv2d(128, 128, kernel_size=(3, 3), stride=(1, 1), padding=(1, 1), bias=False)\n        (bn1): BatchNorm2d(128, eps=1e-05, momentum=0.1, affine=True, track_running_stats=True)\n        (relu): ReLU(inplace=True)\n        (conv2): Conv2d(128, 128, kernel_size=(3, 3), stride=(1, 1), padding=(1, 1), bias=False)\n        (bn2): BatchNorm2d(128, eps=1e-05, momentum=0.1, affine=True, track_running_stats=True)\n      )\n    )\n    (layer3): Sequential(\n      (0): BasicBlock(\n        (conv1): Conv2d(128, 256, kernel_size=(3, 3), stride=(2, 2), padding=(1, 1), bias=False)\n        (bn1): BatchNorm2d(256, eps=1e-05, momentum=0.1, affine=True, track_running_stats=True)\n        (relu): ReLU(inplace=True)\n        (conv2): Conv2d(256, 256, kernel_size=(3, 3), stride=(1, 1), padding=(1, 1), bias=False)\n        (bn2): BatchNorm2d(256, eps=1e-05, momentum=0.1, affine=True, track_running_stats=True)\n        (downsample): Sequential(\n          (0): Conv2d(128, 256, kernel_size=(1, 1), stride=(2, 2), bias=False)\n          (1): BatchNorm2d(256, eps=1e-05, momentum=0.1, affine=True, track_running_stats=True)\n        )\n      )\n      (1): BasicBlock(\n        (conv1): Conv2d(256, 256, kernel_size=(3, 3), stride=(1, 1), padding=(1, 1), bias=False)\n        (bn1): BatchNorm2d(256, eps=1e-05, momentum=0.1, affine=True, track_running_stats=True)\n        (relu): ReLU(inplace=True)\n        (conv2): Conv2d(256, 256, kernel_size=(3, 3), stride=(1, 1), padding=(1, 1), bias=False)\n        (bn2): BatchNorm2d(256, eps=1e-05, momentum=0.1, affine=True, track_running_stats=True)\n      )\n    )\n    (layer4): Sequential(\n      (0): BasicBlock(\n        (conv1): Conv2d(256, 512, kernel_size=(3, 3), stride=(2, 2), padding=(1, 1), bias=False)\n        (bn1): BatchNorm2d(512, eps=1e-05, momentum=0.1, affine=True, track_running_stats=True)\n        (relu): ReLU(inplace=True)\n        (conv2): Conv2d(512, 512, kernel_size=(3, 3), stride=(1, 1), padding=(1, 1), bias=False)\n        (bn2): BatchNorm2d(512, eps=1e-05, momentum=0.1, affine=True, track_running_stats=True)\n        (downsample): Sequential(\n          (0): Conv2d(256, 512, kernel_size=(1, 1), stride=(2, 2), bias=False)\n          (1): BatchNorm2d(512, eps=1e-05, momentum=0.1, affine=True, track_running_stats=True)\n        )\n      )\n      (1): BasicBlock(\n        (conv1): Conv2d(512, 512, kernel_size=(3, 3), stride=(1, 1), padding=(1, 1), bias=False)\n        (bn1): BatchNorm2d(512, eps=1e-05, momentum=0.1, affine=True, track_running_stats=True)\n        (relu): ReLU(inplace=True)\n        (conv2): Conv2d(512, 512, kernel_size=(3, 3), stride=(1, 1), padding=(1, 1), bias=False)\n        (bn2): BatchNorm2d(512, eps=1e-05, momentum=0.1, affine=True, track_running_stats=True)\n      )\n    )\n    (avgpool): AdaptiveAvgPool2d(output_size=(1, 1))\n    (fc): Linear(in_features=512, out_features=10, bias=True)\n  )\n)"
     },
     "execution_count": 38,
     "metadata": {},
     "output_type": "execute_result"
    }
   ],
   "source": [
    "from torchvision.models import resnet18\n",
    "\n",
    "class MnistResNet(nn.Module):\n",
    "  def __init__(self, in_channels=1):\n",
    "    super(MnistResNet, self).__init__()\n",
    "\n",
    "    # Load a pretrained resnet model from torchvision.models in Pytorch\n",
    "    self.model = resnet18(weights=False)\n",
    "\n",
    "    # Change the input layer to take Grayscale image, instead of RGB images.\n",
    "    # Hence in_channels is set as 1 or 3 respectively\n",
    "    # original definition of the first layer on the ResNet class\n",
    "    # self.conv1 = nn.Conv2d(3, 64, kernel_size=7, stride=2, padding=3, bias=False)\n",
    "    self.model.conv1 = nn.Conv2d(in_channels, 64, kernel_size=7, stride=2, padding=3, bias=False)\n",
    "\n",
    "    # Change the output layer to output 10 classes instead of 1000 classes\n",
    "    num_ftrs = self.model.fc.in_features\n",
    "    self.model.fc = nn.Linear(num_ftrs, 10)\n",
    "\n",
    "  def forward(self, x):\n",
    "    return self.model(x)\n",
    "\n",
    "\n",
    "resnet = MnistResNet().to(device)\n",
    "loss_fn = nn.CrossEntropyLoss()\n",
    "optimizer = torch.optim.SGD(resnet.parameters(), lr=1e-3)\n",
    "resnet"
   ],
   "metadata": {
    "collapsed": false
   }
  },
  {
   "cell_type": "code",
   "execution_count": 39,
   "outputs": [
    {
     "name": "stdout",
     "output_type": "stream",
     "text": [
      "Epoch 1\n",
      "-------------------------------\n",
      "loss: 2.563664  [   64/60000]\n",
      "loss: 1.207950  [ 6464/60000]\n",
      "loss: 0.595497  [12864/60000]\n",
      "loss: 0.824724  [19264/60000]\n",
      "loss: 0.736061  [25664/60000]\n",
      "loss: 0.650119  [32064/60000]\n",
      "loss: 0.565210  [38464/60000]\n",
      "loss: 0.682832  [44864/60000]\n",
      "loss: 0.587535  [51264/60000]\n",
      "loss: 0.559341  [57664/60000]\n",
      "Test Error: \n",
      " Accuracy: 81.4%, Avg loss: 0.516020 \n",
      "\n",
      "Epoch 2\n",
      "-------------------------------\n",
      "loss: 0.466861  [   64/60000]\n",
      "loss: 0.597368  [ 6464/60000]\n",
      "loss: 0.252069  [12864/60000]\n",
      "loss: 0.534733  [19264/60000]\n",
      "loss: 0.477952  [25664/60000]\n",
      "loss: 0.498202  [32064/60000]\n",
      "loss: 0.412848  [38464/60000]\n",
      "loss: 0.543477  [44864/60000]\n",
      "loss: 0.451041  [51264/60000]\n",
      "loss: 0.476975  [57664/60000]\n",
      "Test Error: \n",
      " Accuracy: 83.9%, Avg loss: 0.447082 \n",
      "\n",
      "Epoch 3\n",
      "-------------------------------\n",
      "loss: 0.339519  [   64/60000]\n",
      "loss: 0.480570  [ 6464/60000]\n",
      "loss: 0.187824  [12864/60000]\n",
      "loss: 0.437306  [19264/60000]\n",
      "loss: 0.379235  [25664/60000]\n",
      "loss: 0.419831  [32064/60000]\n",
      "loss: 0.327579  [38464/60000]\n",
      "loss: 0.473658  [44864/60000]\n",
      "loss: 0.384702  [51264/60000]\n",
      "loss: 0.421468  [57664/60000]\n",
      "Test Error: \n",
      " Accuracy: 85.0%, Avg loss: 0.419012 \n",
      "\n",
      "Epoch 4\n",
      "-------------------------------\n",
      "loss: 0.273601  [   64/60000]\n",
      "loss: 0.411690  [ 6464/60000]\n",
      "loss: 0.161780  [12864/60000]\n",
      "loss: 0.371202  [19264/60000]\n",
      "loss: 0.327658  [25664/60000]\n",
      "loss: 0.371420  [32064/60000]\n",
      "loss: 0.268172  [38464/60000]\n",
      "loss: 0.413135  [44864/60000]\n",
      "loss: 0.340533  [51264/60000]\n",
      "loss: 0.371179  [57664/60000]\n",
      "Test Error: \n",
      " Accuracy: 85.5%, Avg loss: 0.403859 \n",
      "\n",
      "Epoch 5\n",
      "-------------------------------\n",
      "loss: 0.231706  [   64/60000]\n",
      "loss: 0.356618  [ 6464/60000]\n",
      "loss: 0.141341  [12864/60000]\n",
      "loss: 0.321032  [19264/60000]\n",
      "loss: 0.277521  [25664/60000]\n",
      "loss: 0.318722  [32064/60000]\n",
      "loss: 0.225750  [38464/60000]\n",
      "loss: 0.357158  [44864/60000]\n",
      "loss: 0.309111  [51264/60000]\n",
      "loss: 0.318526  [57664/60000]\n",
      "Test Error: \n",
      " Accuracy: 86.0%, Avg loss: 0.395788 \n",
      "\n",
      "Epoch 6\n",
      "-------------------------------\n",
      "loss: 0.199649  [   64/60000]\n",
      "loss: 0.303019  [ 6464/60000]\n",
      "loss: 0.121697  [12864/60000]\n",
      "loss: 0.273713  [19264/60000]\n",
      "loss: 0.239881  [25664/60000]\n",
      "loss: 0.270062  [32064/60000]\n",
      "loss: 0.192539  [38464/60000]\n",
      "loss: 0.300492  [44864/60000]\n",
      "loss: 0.276439  [51264/60000]\n",
      "loss: 0.270864  [57664/60000]\n",
      "Test Error: \n",
      " Accuracy: 86.3%, Avg loss: 0.392568 \n",
      "\n",
      "Epoch 7\n",
      "-------------------------------\n",
      "loss: 0.168387  [   64/60000]\n",
      "loss: 0.259923  [ 6464/60000]\n",
      "loss: 0.105182  [12864/60000]\n",
      "loss: 0.230839  [19264/60000]\n",
      "loss: 0.204473  [25664/60000]\n",
      "loss: 0.232742  [32064/60000]\n",
      "loss: 0.167324  [38464/60000]\n",
      "loss: 0.245621  [44864/60000]\n",
      "loss: 0.244041  [51264/60000]\n",
      "loss: 0.228396  [57664/60000]\n",
      "Test Error: \n",
      " Accuracy: 86.4%, Avg loss: 0.391891 \n",
      "\n",
      "Epoch 8\n",
      "-------------------------------\n",
      "loss: 0.141924  [   64/60000]\n",
      "loss: 0.220106  [ 6464/60000]\n",
      "loss: 0.089159  [12864/60000]\n",
      "loss: 0.191238  [19264/60000]\n",
      "loss: 0.170875  [25664/60000]\n",
      "loss: 0.196063  [32064/60000]\n",
      "loss: 0.145870  [38464/60000]\n",
      "loss: 0.201015  [44864/60000]\n",
      "loss: 0.210170  [51264/60000]\n",
      "loss: 0.191148  [57664/60000]\n",
      "Test Error: \n",
      " Accuracy: 86.6%, Avg loss: 0.394924 \n",
      "\n",
      "Epoch 9\n",
      "-------------------------------\n",
      "loss: 0.119650  [   64/60000]\n",
      "loss: 0.181547  [ 6464/60000]\n",
      "loss: 0.077682  [12864/60000]\n",
      "loss: 0.159758  [19264/60000]\n",
      "loss: 0.142867  [25664/60000]\n",
      "loss: 0.165978  [32064/60000]\n",
      "loss: 0.124125  [38464/60000]\n",
      "loss: 0.158458  [44864/60000]\n",
      "loss: 0.173813  [51264/60000]\n",
      "loss: 0.161263  [57664/60000]\n",
      "Test Error: \n",
      " Accuracy: 86.6%, Avg loss: 0.400831 \n",
      "\n",
      "Epoch 10\n",
      "-------------------------------\n",
      "loss: 0.094433  [   64/60000]\n",
      "loss: 0.143275  [ 6464/60000]\n",
      "loss: 0.064207  [12864/60000]\n",
      "loss: 0.127576  [19264/60000]\n",
      "loss: 0.114930  [25664/60000]\n",
      "loss: 0.142371  [32064/60000]\n",
      "loss: 0.102601  [38464/60000]\n",
      "loss: 0.125388  [44864/60000]\n",
      "loss: 0.140280  [51264/60000]\n",
      "loss: 0.132729  [57664/60000]\n",
      "Test Error: \n",
      " Accuracy: 86.8%, Avg loss: 0.409216 \n",
      "\n",
      "Done!\n"
     ]
    }
   ],
   "source": [
    "train_model(resnet, loss_fn, optimizer)"
   ],
   "metadata": {
    "collapsed": false
   }
  },
  {
   "cell_type": "code",
   "execution_count": 59,
   "outputs": [
    {
     "name": "stdout",
     "output_type": "stream",
     "text": [
      "Saved PyTorch Model script to resnet.pt\n"
     ]
    }
   ],
   "source": [
    "path = \"resnet.pt\"\n",
    "resnet.eval()\n",
    "\n",
    "# An example input you would normally provide to your model's forward() method.\n",
    "example = torch.rand(1, 28, 28).to(device)\n",
    "\n",
    "# Use torch.jit.trace to generate a torch.jit.ScriptModule via tracing.\n",
    "traced_script_module = torch.jit.trace(resnet, example.unsqueeze(0))\n",
    "traced_script_module.save(path)\n",
    "\n",
    "print(f\"Saved PyTorch Model script to {path}\")"
   ],
   "metadata": {
    "collapsed": false
   }
  },
  {
   "cell_type": "code",
   "execution_count": null,
   "outputs": [],
   "source": [],
   "metadata": {
    "collapsed": false
   }
  }
 ],
 "metadata": {
  "kernelspec": {
   "display_name": "Python 3",
   "language": "python",
   "name": "python3"
  },
  "language_info": {
   "codemirror_mode": {
    "name": "ipython",
    "version": 2
   },
   "file_extension": ".py",
   "mimetype": "text/x-python",
   "name": "python",
   "nbconvert_exporter": "python",
   "pygments_lexer": "ipython2",
   "version": "2.7.6"
  }
 },
 "nbformat": 4,
 "nbformat_minor": 0
}
