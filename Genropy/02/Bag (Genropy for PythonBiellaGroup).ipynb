{
 "cells": [
  {
   "cell_type": "markdown",
   "metadata": {},
   "source": [
    "# BAG E STRUCTURES"
   ]
  },
  {
   "cell_type": "code",
   "execution_count": 7,
   "metadata": {},
   "outputs": [
    {
     "name": "stdout",
     "output_type": "stream",
     "text": [
      "0 - (Bag) ricetta: \n",
      "    0 - (str) titolo: Spaghetti al pomodoro  \n",
      "    1 - (Bag) ingredienti: \n",
      "        0 - (str) i1: spaghetti  \n"
     ]
    }
   ],
   "source": [
    "from gnr.core.gnrbag import Bag\n",
    "\n",
    "b = Bag()\n",
    "b['ricetta.titolo'] = 'Spaghetti al pomodoro'\n",
    "b['ricetta.ingredienti.i1'] = 'spaghetti'\n",
    "print(b)"
   ]
  },
  {
   "cell_type": "code",
   "execution_count": 8,
   "metadata": {},
   "outputs": [
    {
     "name": "stdout",
     "output_type": "stream",
     "text": [
      "0 - (Bag) ricetta: \n",
      "    0 - (str) titolo: Spaghetti al pomodoro  \n",
      "    1 - (Bag) ingredienti: \n",
      "        0 - (str) i1: spaghetti  \n",
      "        1 - (str) i2: salsa di pomodoro  \n"
     ]
    }
   ],
   "source": [
    "#metodo setItem per scrivere\n",
    "b.setItem('ricetta.ingredienti.i2', 'salsa di pomodoro')\n",
    "print(b)"
   ]
  },
  {
   "cell_type": "code",
   "execution_count": 9,
   "metadata": {},
   "outputs": [
    {
     "name": "stdout",
     "output_type": "stream",
     "text": [
      "Spaghetti al pomodoro\n",
      "Spaghetti al pomodoro\n"
     ]
    }
   ],
   "source": [
    "#leggo il valore con le parentesi\n",
    "print (b['ricetta.titolo'])\n",
    "#o in alternativa con il metodo getItem\n",
    "print (b.getItem('ricetta.titolo'))"
   ]
  },
  {
   "cell_type": "code",
   "execution_count": 15,
   "metadata": {},
   "outputs": [
    {
     "name": "stdout",
     "output_type": "stream",
     "text": [
      "<?xml version=\"1.0\" ?>\n",
      "<GenRoBag>\n",
      "\t<ricetta>\n",
      "\t\t<titolo>Spaghetti al pomodoro</titolo>\n",
      "\t\t<ingredienti>\n",
      "\t\t\t<i1>spaghetti</i1>\n",
      "\t\t\t\t<i2>salsa di pomodoro</i2>\n",
      "\t\t\t\t<i3 peso=\"30g\">parmigiano</i3>\n",
      "\t\t</ingredienti>\n",
      "\t</ricetta>\n",
      "</GenRoBag>\n",
      "\n"
     ]
    }
   ],
   "source": [
    "#la Bag vista come XML formattato\n",
    "print(b.toXml('ricettario.xml', pretty=True))"
   ]
  },
  {
   "cell_type": "code",
   "execution_count": 16,
   "metadata": {},
   "outputs": [
    {
     "name": "stdout",
     "output_type": "stream",
     "text": [
      "30g\n"
     ]
    }
   ],
   "source": [
    "#aggiungo un ingrediente con attributo peso\n",
    "ingredienti = b['ricetta.ingredienti']\n",
    "ingredienti.setItem('i3', 'parmigiano', peso='30g')\n",
    "print (ingredienti['i3?peso'])"
   ]
  },
  {
   "cell_type": "code",
   "execution_count": 17,
   "metadata": {},
   "outputs": [
    {
     "name": "stdout",
     "output_type": "stream",
     "text": [
      "<?xml version=\"1.0\" ?>\n",
      "<GenRoBag>\n",
      "\t<ricetta>\n",
      "\t\t<titolo>Spaghetti al pomodoro</titolo>\n",
      "\t\t<ingredienti>\n",
      "\t\t\t<i1 peso=\"200g\">spaghetti</i1>\n",
      "\t\t\t\t<i2 peso=\"100g\">salsa di pomodoro</i2>\n",
      "\t\t\t\t<i3 peso=\"30g\">parmigiano</i3>\n",
      "\t\t</ingredienti>\n",
      "\t</ricetta>\n",
      "</GenRoBag>\n",
      "\n"
     ]
    }
   ],
   "source": [
    "#aggiungo l'attributo peso agli ingredienti precedenti\n",
    "ingredienti.setAttr('i1', peso='200g')\n",
    "ingredienti.setAttr('i2', peso='100g')\n",
    "\n",
    "print(b.toXml('ricettario_attributi.xml', pretty=True))"
   ]
  },
  {
   "cell_type": "markdown",
   "metadata": {},
   "source": [
    "# RESOLVER"
   ]
  },
  {
   "cell_type": "code",
   "execution_count": 20,
   "metadata": {},
   "outputs": [
    {
     "name": "stdout",
     "output_type": "stream",
     "text": [
      "esatta 2021-10-25 15:10:25.897848\n",
      "statica 2021-10-25 15:10:25.897603\n",
      "Dopo tre secondi esatta cambia 2021-10-25 15:10:28.901070\n",
      "statica no 2021-10-25 15:10:25.897603\n"
     ]
    }
   ],
   "source": [
    "from datetime import datetime\n",
    "import time\n",
    "\n",
    "\n",
    "b['ora_statica'] = datetime.now()\n",
    "b.setCallBackItem('ora_esatta', datetime.now)\n",
    "\n",
    "print ('esatta', b['ora_esatta'])\n",
    "print ('statica', b['ora_statica'])\n",
    "time.sleep(3)\n",
    "print ('Dopo tre secondi esatta cambia', b['ora_esatta'])\n",
    "print ('statica no', b['ora_statica'])"
   ]
  },
  {
   "cell_type": "markdown",
   "metadata": {},
   "source": [
    "# STRUCTURES"
   ]
  },
  {
   "cell_type": "code",
   "execution_count": 15,
   "metadata": {},
   "outputs": [
    {
     "data": {
      "text/plain": [
       "<gnr.core.gnrstructures.GnrStructData at 0x10cbb8760>"
      ]
     },
     "execution_count": 15,
     "metadata": {},
     "output_type": "execute_result"
    }
   ],
   "source": [
    "#La child equivale ad una setItem ad un path prefissato basato sull’attributo tag\n",
    "from gnr.core.gnrstructures import GnrStructData\n",
    "\n",
    "mystruct = GnrStructData()\n",
    "mystruct.child(tag='ingrediente',nome='Spaghetti', peso='200g')\n",
    "mystruct.child(tag='ingrediente',nome='Salsa', peso='100g')\n",
    "\n",
    "f = mystruct.child(tag='fase', nome='Preparare sugo', t='10 min.')\n",
    "f.child(tag='fase', nome='Tagliare cipolla')\n",
    "f.child(tag='fase', nome='Soffriggere cipolla')\n",
    "f.child(tag='fase', nome='Aggiungere salsa')"
   ]
  },
  {
   "cell_type": "code",
   "execution_count": 2,
   "metadata": {},
   "outputs": [],
   "source": [
    "from gnr.core.gnrstructures import GnrStructData\n",
    "\n",
    "class Ricetta(GnrStructData):\n",
    "    def ingrediente(self, nome, peso):\n",
    "        return self.child(tag='ingrediente', nome=nome, peso=peso)\n",
    "\n",
    "    def fase(self, nome, descrizione=None, tempo=None):\n",
    "        return self.child(tag='fase', nome=nome, tempo=tempo, descrizione=descrizione)\n",
    "\n",
    "    def sezione(self, nome):\n",
    "        return self.child(tag='sezione', nome=nome)"
   ]
  },
  {
   "cell_type": "code",
   "execution_count": 6,
   "metadata": {},
   "outputs": [
    {
     "name": "stdout",
     "output_type": "stream",
     "text": [
      "<?xml version=\"1.0\" ?>\n",
      "<GenRoBag>\n",
      "\t<sezione_0 nome=\"Ingredienti\" tag=\"sezione\">\n",
      "\t\t<ingrediente_0 _T=\"BAG\" nome=\"Spaghetti\" peso=\"100g\" tag=\"ingrediente\"/>\n",
      "\t\t<ingrediente_1 _T=\"BAG\" nome=\"Salsa pomodoro\" peso=\"80g\" tag=\"ingrediente\"/>\n",
      "\t</sezione_0>\n",
      "\n",
      "\t<sezione_1 nome=\"Procedimento\" tag=\"sezione\">\n",
      "\t\t<fase_0 nome=\"Preparare sugo\" tag=\"fase\" tempo=\"15 min\">\n",
      "\t\t\t<fase_0 _T=\"BAG\" nome=\"Tagliare cipolla\" tag=\"fase\"/>\n",
      "\t\t\t\t<fase_1 _T=\"BAG\" nome=\"Soffriggere cipolla\" tag=\"fase\" tempo=\"3 min\"/>\n",
      "\t\t\t\t<fase_2 _T=\"BAG\" nome=\"Aggiungere salsa\" tag=\"fase\"/>\n",
      "\t\t</fase_0>\n",
      "\t</sezione_1>\n",
      "</GenRoBag>\n",
      "\n"
     ]
    }
   ],
   "source": [
    "myricetta = Ricetta()\n",
    "ingr = myricetta.sezione('Ingredienti')\n",
    "ingr.ingrediente('Spaghetti', '100g')\n",
    "ingr.ingrediente('Salsa pomodoro', '80g')\n",
    "procedimento = myricetta.sezione('Procedimento')\n",
    "sughetto = procedimento.fase(nome='Preparare sugo', tempo='15 min')\n",
    "sughetto.fase(nome='Tagliare cipolla')\n",
    "sughetto.fase(nome='Soffriggere cipolla', tempo='3 min')\n",
    "sughetto.fase(nome='Aggiungere salsa')\n",
    "\n",
    "#infine esporto in xml per controllare il risultato\n",
    "print (myricetta.toXml('spaghetti.xml', pretty=True))"
   ]
  }
 ],
 "metadata": {
  "kernelspec": {
   "display_name": "Python 3",
   "language": "python",
   "name": "python3"
  },
  "language_info": {
   "codemirror_mode": {
    "name": "ipython",
    "version": 3
   },
   "file_extension": ".py",
   "mimetype": "text/x-python",
   "name": "python",
   "nbconvert_exporter": "python",
   "pygments_lexer": "ipython3",
   "version": "3.8.12"
  }
 },
 "nbformat": 4,
 "nbformat_minor": 4
}
