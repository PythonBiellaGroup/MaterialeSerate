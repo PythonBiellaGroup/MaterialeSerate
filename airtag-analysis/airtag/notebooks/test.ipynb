{
 "cells": [
  {
   "cell_type": "markdown",
   "source": [
    "# Test Notebook\n",
    "\n",
    "This is a test notebook to show you where the notebook can stay in the folder :)\n",
    "\n",
    "Remember: you can use the notebook in VSCode also :)"
   ],
   "metadata": {}
  },
  {
   "cell_type": "code",
   "execution_count": null,
   "source": [
    "print(\"Hello notebook!\")"
   ],
   "outputs": [],
   "metadata": {}
  }
 ],
 "metadata": {
  "orig_nbformat": 4,
  "language_info": {
   "name": "python"
  }
 },
 "nbformat": 4,
 "nbformat_minor": 2
}