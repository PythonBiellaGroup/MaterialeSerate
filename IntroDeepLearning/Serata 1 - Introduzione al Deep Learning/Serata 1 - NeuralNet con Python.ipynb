{
 "cells": [
  {
   "cell_type": "markdown",
   "id": "0c59c104",
   "metadata": {},
   "source": [
    "# Introduzione alle reti neurali con Python"
   ]
  },
  {
   "cell_type": "code",
   "execution_count": 1,
   "id": "ff4b5218",
   "metadata": {},
   "outputs": [],
   "source": [
    "from IPython.display import Image"
   ]
  },
  {
   "cell_type": "code",
   "execution_count": 2,
   "id": "e41f29a1",
   "metadata": {},
   "outputs": [],
   "source": [
    "import numpy as np\n",
    "import pandas as pd"
   ]
  },
  {
   "cell_type": "code",
   "execution_count": 3,
   "id": "b9192206",
   "metadata": {},
   "outputs": [
    {
     "data": {
      "application/javascript": [
       "\n",
       "            setTimeout(function() {\n",
       "                var nbb_cell_id = 3;\n",
       "                var nbb_unformatted_code = \"%load_ext nb_black\";\n",
       "                var nbb_formatted_code = \"%load_ext nb_black\";\n",
       "                var nbb_cells = Jupyter.notebook.get_cells();\n",
       "                for (var i = 0; i < nbb_cells.length; ++i) {\n",
       "                    if (nbb_cells[i].input_prompt_number == nbb_cell_id) {\n",
       "                        if (nbb_cells[i].get_text() == nbb_unformatted_code) {\n",
       "                             nbb_cells[i].set_text(nbb_formatted_code);\n",
       "                        }\n",
       "                        break;\n",
       "                    }\n",
       "                }\n",
       "            }, 500);\n",
       "            "
      ],
      "text/plain": [
       "<IPython.core.display.Javascript object>"
      ]
     },
     "metadata": {},
     "output_type": "display_data"
    }
   ],
   "source": [
    "%load_ext nb_black"
   ]
  },
  {
   "cell_type": "code",
   "execution_count": 4,
   "id": "0545c919",
   "metadata": {},
   "outputs": [
    {
     "data": {
      "image/png": "[encoded data removed]",
      "text/plain": [
       "<IPython.core.display.Image object>"
      ]
     },
     "execution_count": 4,
     "metadata": {},
     "output_type": "execute_result"
    },
    {
     "data": {
      "application/javascript": [
       "\n",
       "            setTimeout(function() {\n",
       "                var nbb_cell_id = 4;\n",
       "                var nbb_unformatted_code = \"Image(\\\"ML-Data paradigm.png\\\")\";\n",
       "                var nbb_formatted_code = \"Image(\\\"ML-Data paradigm.png\\\")\";\n",
       "                var nbb_cells = Jupyter.notebook.get_cells();\n",
       "                for (var i = 0; i < nbb_cells.length; ++i) {\n",
       "                    if (nbb_cells[i].input_prompt_number == nbb_cell_id) {\n",
       "                        if (nbb_cells[i].get_text() == nbb_unformatted_code) {\n",
       "                             nbb_cells[i].set_text(nbb_formatted_code);\n",
       "                        }\n",
       "                        break;\n",
       "                    }\n",
       "                }\n",
       "            }, 500);\n",
       "            "
      ],
      "text/plain": [
       "<IPython.core.display.Javascript object>"
      ]
     },
     "metadata": {},
     "output_type": "display_data"
    }
   ],
   "source": [
    "Image(\"ML-Data paradigm.png\")"
   ]
  },
  {
   "cell_type": "code",
   "execution_count": 5,
   "id": "c9251e51",
   "metadata": {},
   "outputs": [
    {
     "data": {
      "text/html": [
       "<div>\n",
       "<style scoped>\n",
       "    .dataframe tbody tr th:only-of-type {\n",
       "        vertical-align: middle;\n",
       "    }\n",
       "\n",
       "    .dataframe tbody tr th {\n",
       "        vertical-align: top;\n",
       "    }\n",
       "\n",
       "    .dataframe thead th {\n",
       "        text-align: right;\n",
       "    }\n",
       "</style>\n",
       "<table border=\"1\" class=\"dataframe\">\n",
       "  <thead>\n",
       "    <tr style=\"text-align: right;\">\n",
       "      <th></th>\n",
       "      <th>sepal_length</th>\n",
       "      <th>sepal_width</th>\n",
       "      <th>petal_length</th>\n",
       "      <th>petal_width</th>\n",
       "      <th>class</th>\n",
       "    </tr>\n",
       "  </thead>\n",
       "  <tbody>\n",
       "    <tr>\n",
       "      <th>0</th>\n",
       "      <td>5.1</td>\n",
       "      <td>3.5</td>\n",
       "      <td>1.4</td>\n",
       "      <td>0.2</td>\n",
       "      <td>Iris-setosa</td>\n",
       "    </tr>\n",
       "    <tr>\n",
       "      <th>1</th>\n",
       "      <td>4.9</td>\n",
       "      <td>3.0</td>\n",
       "      <td>1.4</td>\n",
       "      <td>0.2</td>\n",
       "      <td>Iris-setosa</td>\n",
       "    </tr>\n",
       "    <tr>\n",
       "      <th>2</th>\n",
       "      <td>4.7</td>\n",
       "      <td>3.2</td>\n",
       "      <td>1.3</td>\n",
       "      <td>0.2</td>\n",
       "      <td>Iris-setosa</td>\n",
       "    </tr>\n",
       "    <tr>\n",
       "      <th>3</th>\n",
       "      <td>4.6</td>\n",
       "      <td>3.1</td>\n",
       "      <td>1.5</td>\n",
       "      <td>0.2</td>\n",
       "      <td>Iris-setosa</td>\n",
       "    </tr>\n",
       "    <tr>\n",
       "      <th>4</th>\n",
       "      <td>5.0</td>\n",
       "      <td>3.6</td>\n",
       "      <td>1.4</td>\n",
       "      <td>0.2</td>\n",
       "      <td>Iris-setosa</td>\n",
       "    </tr>\n",
       "    <tr>\n",
       "      <th>...</th>\n",
       "      <td>...</td>\n",
       "      <td>...</td>\n",
       "      <td>...</td>\n",
       "      <td>...</td>\n",
       "      <td>...</td>\n",
       "    </tr>\n",
       "    <tr>\n",
       "      <th>145</th>\n",
       "      <td>6.7</td>\n",
       "      <td>3.0</td>\n",
       "      <td>5.2</td>\n",
       "      <td>2.3</td>\n",
       "      <td>Iris-virginica</td>\n",
       "    </tr>\n",
       "    <tr>\n",
       "      <th>146</th>\n",
       "      <td>6.3</td>\n",
       "      <td>2.5</td>\n",
       "      <td>5.0</td>\n",
       "      <td>1.9</td>\n",
       "      <td>Iris-virginica</td>\n",
       "    </tr>\n",
       "    <tr>\n",
       "      <th>147</th>\n",
       "      <td>6.5</td>\n",
       "      <td>3.0</td>\n",
       "      <td>5.2</td>\n",
       "      <td>2.0</td>\n",
       "      <td>Iris-virginica</td>\n",
       "    </tr>\n",
       "    <tr>\n",
       "      <th>148</th>\n",
       "      <td>6.2</td>\n",
       "      <td>3.4</td>\n",
       "      <td>5.4</td>\n",
       "      <td>2.3</td>\n",
       "      <td>Iris-virginica</td>\n",
       "    </tr>\n",
       "    <tr>\n",
       "      <th>149</th>\n",
       "      <td>5.9</td>\n",
       "      <td>3.0</td>\n",
       "      <td>5.1</td>\n",
       "      <td>1.8</td>\n",
       "      <td>Iris-virginica</td>\n",
       "    </tr>\n",
       "  </tbody>\n",
       "</table>\n",
       "<p>150 rows × 5 columns</p>\n",
       "</div>"
      ],
      "text/plain": [
       "     sepal_length  sepal_width  petal_length  petal_width           class\n",
       "0             5.1          3.5           1.4          0.2     Iris-setosa\n",
       "1             4.9          3.0           1.4          0.2     Iris-setosa\n",
       "2             4.7          3.2           1.3          0.2     Iris-setosa\n",
       "3             4.6          3.1           1.5          0.2     Iris-setosa\n",
       "4             5.0          3.6           1.4          0.2     Iris-setosa\n",
       "..            ...          ...           ...          ...             ...\n",
       "145           6.7          3.0           5.2          2.3  Iris-virginica\n",
       "146           6.3          2.5           5.0          1.9  Iris-virginica\n",
       "147           6.5          3.0           5.2          2.0  Iris-virginica\n",
       "148           6.2          3.4           5.4          2.3  Iris-virginica\n",
       "149           5.9          3.0           5.1          1.8  Iris-virginica\n",
       "\n",
       "[150 rows x 5 columns]"
      ]
     },
     "execution_count": 5,
     "metadata": {},
     "output_type": "execute_result"
    },
    {
     "data": {
      "application/javascript": [
       "\n",
       "            setTimeout(function() {\n",
       "                var nbb_cell_id = 5;\n",
       "                var nbb_unformatted_code = \"df = pd.read_table(\\n    \\\"iris.data\\\",\\n    sep=\\\",\\\",\\n    header=None,\\n    names=[\\\"sepal_length\\\", \\\"sepal_width\\\", \\\"petal_length\\\", \\\"petal_width\\\", \\\"class\\\"],\\n)\\ndf\";\n",
       "                var nbb_formatted_code = \"df = pd.read_table(\\n    \\\"iris.data\\\",\\n    sep=\\\",\\\",\\n    header=None,\\n    names=[\\\"sepal_length\\\", \\\"sepal_width\\\", \\\"petal_length\\\", \\\"petal_width\\\", \\\"class\\\"],\\n)\\ndf\";\n",
       "                var nbb_cells = Jupyter.notebook.get_cells();\n",
       "                for (var i = 0; i < nbb_cells.length; ++i) {\n",
       "                    if (nbb_cells[i].input_prompt_number == nbb_cell_id) {\n",
       "                        if (nbb_cells[i].get_text() == nbb_unformatted_code) {\n",
       "                             nbb_cells[i].set_text(nbb_formatted_code);\n",
       "                        }\n",
       "                        break;\n",
       "                    }\n",
       "                }\n",
       "            }, 500);\n",
       "            "
      ],
      "text/plain": [
       "<IPython.core.display.Javascript object>"
      ]
     },
     "metadata": {},
     "output_type": "display_data"
    }
   ],
   "source": [
    "df = pd.read_table(\n",
    "    \"iris.data\",\n",
    "    sep=\",\",\n",
    "    header=None,\n",
    "    names=[\"sepal_length\", \"sepal_width\", \"petal_length\", \"petal_width\", \"class\"],\n",
    ")\n",
    "df"
   ]
  },
  {
   "cell_type": "code",
   "execution_count": 6,
   "id": "12f7585b",
   "metadata": {},
   "outputs": [
    {
     "data": {
      "application/javascript": [
       "\n",
       "            setTimeout(function() {\n",
       "                var nbb_cell_id = 6;\n",
       "                var nbb_unformatted_code = \"mask = df[\\\"class\\\"] == \\\"Iris-setosa\\\"\";\n",
       "                var nbb_formatted_code = \"mask = df[\\\"class\\\"] == \\\"Iris-setosa\\\"\";\n",
       "                var nbb_cells = Jupyter.notebook.get_cells();\n",
       "                for (var i = 0; i < nbb_cells.length; ++i) {\n",
       "                    if (nbb_cells[i].input_prompt_number == nbb_cell_id) {\n",
       "                        if (nbb_cells[i].get_text() == nbb_unformatted_code) {\n",
       "                             nbb_cells[i].set_text(nbb_formatted_code);\n",
       "                        }\n",
       "                        break;\n",
       "                    }\n",
       "                }\n",
       "            }, 500);\n",
       "            "
      ],
      "text/plain": [
       "<IPython.core.display.Javascript object>"
      ]
     },
     "metadata": {},
     "output_type": "display_data"
    }
   ],
   "source": [
    "mask = df[\"class\"] == \"Iris-setosa\""
   ]
  },
  {
   "cell_type": "code",
   "execution_count": 7,
   "id": "91a1d06e",
   "metadata": {},
   "outputs": [
    {
     "data": {
      "application/javascript": [
       "\n",
       "            setTimeout(function() {\n",
       "                var nbb_cell_id = 7;\n",
       "                var nbb_unformatted_code = \"df.loc[mask, \\\"class\\\"] = 1\\ndf.loc[~mask, \\\"class\\\"] = 0\";\n",
       "                var nbb_formatted_code = \"df.loc[mask, \\\"class\\\"] = 1\\ndf.loc[~mask, \\\"class\\\"] = 0\";\n",
       "                var nbb_cells = Jupyter.notebook.get_cells();\n",
       "                for (var i = 0; i < nbb_cells.length; ++i) {\n",
       "                    if (nbb_cells[i].input_prompt_number == nbb_cell_id) {\n",
       "                        if (nbb_cells[i].get_text() == nbb_unformatted_code) {\n",
       "                             nbb_cells[i].set_text(nbb_formatted_code);\n",
       "                        }\n",
       "                        break;\n",
       "                    }\n",
       "                }\n",
       "            }, 500);\n",
       "            "
      ],
      "text/plain": [
       "<IPython.core.display.Javascript object>"
      ]
     },
     "metadata": {},
     "output_type": "display_data"
    }
   ],
   "source": [
    "df.loc[mask, \"class\"] = 1\n",
    "df.loc[~mask, \"class\"] = 0"
   ]
  },
  {
   "cell_type": "code",
   "execution_count": 8,
   "id": "2222aeb6",
   "metadata": {},
   "outputs": [
    {
     "data": {
      "text/html": [
       "<div>\n",
       "<style scoped>\n",
       "    .dataframe tbody tr th:only-of-type {\n",
       "        vertical-align: middle;\n",
       "    }\n",
       "\n",
       "    .dataframe tbody tr th {\n",
       "        vertical-align: top;\n",
       "    }\n",
       "\n",
       "    .dataframe thead th {\n",
       "        text-align: right;\n",
       "    }\n",
       "</style>\n",
       "<table border=\"1\" class=\"dataframe\">\n",
       "  <thead>\n",
       "    <tr style=\"text-align: right;\">\n",
       "      <th></th>\n",
       "      <th>sepal_length</th>\n",
       "      <th>sepal_width</th>\n",
       "      <th>petal_length</th>\n",
       "      <th>petal_width</th>\n",
       "      <th>class</th>\n",
       "    </tr>\n",
       "  </thead>\n",
       "  <tbody>\n",
       "    <tr>\n",
       "      <th>0</th>\n",
       "      <td>5.1</td>\n",
       "      <td>3.5</td>\n",
       "      <td>1.4</td>\n",
       "      <td>0.2</td>\n",
       "      <td>1</td>\n",
       "    </tr>\n",
       "    <tr>\n",
       "      <th>1</th>\n",
       "      <td>4.9</td>\n",
       "      <td>3.0</td>\n",
       "      <td>1.4</td>\n",
       "      <td>0.2</td>\n",
       "      <td>1</td>\n",
       "    </tr>\n",
       "    <tr>\n",
       "      <th>2</th>\n",
       "      <td>4.7</td>\n",
       "      <td>3.2</td>\n",
       "      <td>1.3</td>\n",
       "      <td>0.2</td>\n",
       "      <td>1</td>\n",
       "    </tr>\n",
       "    <tr>\n",
       "      <th>3</th>\n",
       "      <td>4.6</td>\n",
       "      <td>3.1</td>\n",
       "      <td>1.5</td>\n",
       "      <td>0.2</td>\n",
       "      <td>1</td>\n",
       "    </tr>\n",
       "    <tr>\n",
       "      <th>4</th>\n",
       "      <td>5.0</td>\n",
       "      <td>3.6</td>\n",
       "      <td>1.4</td>\n",
       "      <td>0.2</td>\n",
       "      <td>1</td>\n",
       "    </tr>\n",
       "    <tr>\n",
       "      <th>...</th>\n",
       "      <td>...</td>\n",
       "      <td>...</td>\n",
       "      <td>...</td>\n",
       "      <td>...</td>\n",
       "      <td>...</td>\n",
       "    </tr>\n",
       "    <tr>\n",
       "      <th>145</th>\n",
       "      <td>6.7</td>\n",
       "      <td>3.0</td>\n",
       "      <td>5.2</td>\n",
       "      <td>2.3</td>\n",
       "      <td>0</td>\n",
       "    </tr>\n",
       "    <tr>\n",
       "      <th>146</th>\n",
       "      <td>6.3</td>\n",
       "      <td>2.5</td>\n",
       "      <td>5.0</td>\n",
       "      <td>1.9</td>\n",
       "      <td>0</td>\n",
       "    </tr>\n",
       "    <tr>\n",
       "      <th>147</th>\n",
       "      <td>6.5</td>\n",
       "      <td>3.0</td>\n",
       "      <td>5.2</td>\n",
       "      <td>2.0</td>\n",
       "      <td>0</td>\n",
       "    </tr>\n",
       "    <tr>\n",
       "      <th>148</th>\n",
       "      <td>6.2</td>\n",
       "      <td>3.4</td>\n",
       "      <td>5.4</td>\n",
       "      <td>2.3</td>\n",
       "      <td>0</td>\n",
       "    </tr>\n",
       "    <tr>\n",
       "      <th>149</th>\n",
       "      <td>5.9</td>\n",
       "      <td>3.0</td>\n",
       "      <td>5.1</td>\n",
       "      <td>1.8</td>\n",
       "      <td>0</td>\n",
       "    </tr>\n",
       "  </tbody>\n",
       "</table>\n",
       "<p>150 rows × 5 columns</p>\n",
       "</div>"
      ],
      "text/plain": [
       "     sepal_length  sepal_width  petal_length  petal_width class\n",
       "0             5.1          3.5           1.4          0.2     1\n",
       "1             4.9          3.0           1.4          0.2     1\n",
       "2             4.7          3.2           1.3          0.2     1\n",
       "3             4.6          3.1           1.5          0.2     1\n",
       "4             5.0          3.6           1.4          0.2     1\n",
       "..            ...          ...           ...          ...   ...\n",
       "145           6.7          3.0           5.2          2.3     0\n",
       "146           6.3          2.5           5.0          1.9     0\n",
       "147           6.5          3.0           5.2          2.0     0\n",
       "148           6.2          3.4           5.4          2.3     0\n",
       "149           5.9          3.0           5.1          1.8     0\n",
       "\n",
       "[150 rows x 5 columns]"
      ]
     },
     "execution_count": 8,
     "metadata": {},
     "output_type": "execute_result"
    },
    {
     "data": {
      "application/javascript": [
       "\n",
       "            setTimeout(function() {\n",
       "                var nbb_cell_id = 8;\n",
       "                var nbb_unformatted_code = \"df\";\n",
       "                var nbb_formatted_code = \"df\";\n",
       "                var nbb_cells = Jupyter.notebook.get_cells();\n",
       "                for (var i = 0; i < nbb_cells.length; ++i) {\n",
       "                    if (nbb_cells[i].input_prompt_number == nbb_cell_id) {\n",
       "                        if (nbb_cells[i].get_text() == nbb_unformatted_code) {\n",
       "                             nbb_cells[i].set_text(nbb_formatted_code);\n",
       "                        }\n",
       "                        break;\n",
       "                    }\n",
       "                }\n",
       "            }, 500);\n",
       "            "
      ],
      "text/plain": [
       "<IPython.core.display.Javascript object>"
      ]
     },
     "metadata": {},
     "output_type": "display_data"
    }
   ],
   "source": [
    "df"
   ]
  },
  {
   "cell_type": "code",
   "execution_count": 9,
   "id": "2d32e1be",
   "metadata": {},
   "outputs": [
    {
     "data": {
      "application/javascript": [
       "\n",
       "            setTimeout(function() {\n",
       "                var nbb_cell_id = 9;\n",
       "                var nbb_unformatted_code = \"y, X = df[\\\"class\\\"].values, df.drop(columns=\\\"class\\\").values\";\n",
       "                var nbb_formatted_code = \"y, X = df[\\\"class\\\"].values, df.drop(columns=\\\"class\\\").values\";\n",
       "                var nbb_cells = Jupyter.notebook.get_cells();\n",
       "                for (var i = 0; i < nbb_cells.length; ++i) {\n",
       "                    if (nbb_cells[i].input_prompt_number == nbb_cell_id) {\n",
       "                        if (nbb_cells[i].get_text() == nbb_unformatted_code) {\n",
       "                             nbb_cells[i].set_text(nbb_formatted_code);\n",
       "                        }\n",
       "                        break;\n",
       "                    }\n",
       "                }\n",
       "            }, 500);\n",
       "            "
      ],
      "text/plain": [
       "<IPython.core.display.Javascript object>"
      ]
     },
     "metadata": {},
     "output_type": "display_data"
    }
   ],
   "source": [
    "y, X = df[\"class\"].values, df.drop(columns=\"class\").values"
   ]
  },
  {
   "cell_type": "markdown",
   "id": "da581613",
   "metadata": {},
   "source": [
    "## Il modello di Regressione lineare"
   ]
  },
  {
   "cell_type": "markdown",
   "id": "0fdf00d9",
   "metadata": {},
   "source": [
    "### E' possibile esprimere la relazione tra le variabili come la somma ponderata delle variabili indipendenti."
   ]
  },
  {
   "cell_type": "markdown",
   "id": "730f70fd",
   "metadata": {},
   "source": [
    "Quindi, ogni variabile indipendente sarà moltiplicata *(dot product)* per un vettore chiamato \"pesi\" e sucessivamente sarà sommato con un altro vettore chiamato \"bias\"."
   ]
  },
  {
   "cell_type": "markdown",
   "id": "6cc13ca9",
   "metadata": {},
   "source": [
    "<!-- Modeling the relationship between the variables as linear, you can express the dependent variable as a weighted sum of the independent variables.\n",
    "\n",
    "So, each independent variable will be multiplied by a vector called weight. Besides the weights and the independent variables, you also add another vector: the bias. It sets the result when all the other independent variables are equal to zero. -->"
   ]
  },
  {
   "cell_type": "markdown",
   "id": "7bcad722",
   "metadata": {},
   "source": [
    "#### Esempio dot product"
   ]
  },
  {
   "cell_type": "code",
   "execution_count": 10,
   "id": "4cf4956f",
   "metadata": {},
   "outputs": [
    {
     "data": {
      "text/plain": [
       "array([5.1, 3.5])"
      ]
     },
     "execution_count": 10,
     "metadata": {},
     "output_type": "execute_result"
    },
    {
     "data": {
      "application/javascript": [
       "\n",
       "            setTimeout(function() {\n",
       "                var nbb_cell_id = 10;\n",
       "                var nbb_unformatted_code = \"input_vector = X[0, :2]\\ninput_vector\";\n",
       "                var nbb_formatted_code = \"input_vector = X[0, :2]\\ninput_vector\";\n",
       "                var nbb_cells = Jupyter.notebook.get_cells();\n",
       "                for (var i = 0; i < nbb_cells.length; ++i) {\n",
       "                    if (nbb_cells[i].input_prompt_number == nbb_cell_id) {\n",
       "                        if (nbb_cells[i].get_text() == nbb_unformatted_code) {\n",
       "                             nbb_cells[i].set_text(nbb_formatted_code);\n",
       "                        }\n",
       "                        break;\n",
       "                    }\n",
       "                }\n",
       "            }, 500);\n",
       "            "
      ],
      "text/plain": [
       "<IPython.core.display.Javascript object>"
      ]
     },
     "metadata": {},
     "output_type": "display_data"
    }
   ],
   "source": [
    "input_vector = X[0, :2]\n",
    "input_vector"
   ]
  },
  {
   "cell_type": "code",
   "execution_count": 11,
   "id": "d72241fb",
   "metadata": {},
   "outputs": [
    {
     "data": {
      "application/javascript": [
       "\n",
       "            setTimeout(function() {\n",
       "                var nbb_cell_id = 11;\n",
       "                var nbb_unformatted_code = \"weights_1 = [1.26, 0]\";\n",
       "                var nbb_formatted_code = \"weights_1 = [1.26, 0]\";\n",
       "                var nbb_cells = Jupyter.notebook.get_cells();\n",
       "                for (var i = 0; i < nbb_cells.length; ++i) {\n",
       "                    if (nbb_cells[i].input_prompt_number == nbb_cell_id) {\n",
       "                        if (nbb_cells[i].get_text() == nbb_unformatted_code) {\n",
       "                             nbb_cells[i].set_text(nbb_formatted_code);\n",
       "                        }\n",
       "                        break;\n",
       "                    }\n",
       "                }\n",
       "            }, 500);\n",
       "            "
      ],
      "text/plain": [
       "<IPython.core.display.Javascript object>"
      ]
     },
     "metadata": {},
     "output_type": "display_data"
    }
   ],
   "source": [
    "weights_1 = [1.26, 0]"
   ]
  },
  {
   "cell_type": "code",
   "execution_count": 12,
   "id": "3652cb4f",
   "metadata": {},
   "outputs": [
    {
     "data": {
      "text/plain": [
       "6.425999999999999"
      ]
     },
     "execution_count": 12,
     "metadata": {},
     "output_type": "execute_result"
    },
    {
     "data": {
      "application/javascript": [
       "\n",
       "            setTimeout(function() {\n",
       "                var nbb_cell_id = 12;\n",
       "                var nbb_unformatted_code = \"first_indexes_mult = input_vector[0] * weights_1[0]\\nsecond_indexes_mult = input_vector[1] * weights_1[1]\\n\\ndot_product_1 = first_indexes_mult + second_indexes_mult\\n\\ndot_product_1\";\n",
       "                var nbb_formatted_code = \"first_indexes_mult = input_vector[0] * weights_1[0]\\nsecond_indexes_mult = input_vector[1] * weights_1[1]\\n\\ndot_product_1 = first_indexes_mult + second_indexes_mult\\n\\ndot_product_1\";\n",
       "                var nbb_cells = Jupyter.notebook.get_cells();\n",
       "                for (var i = 0; i < nbb_cells.length; ++i) {\n",
       "                    if (nbb_cells[i].input_prompt_number == nbb_cell_id) {\n",
       "                        if (nbb_cells[i].get_text() == nbb_unformatted_code) {\n",
       "                             nbb_cells[i].set_text(nbb_formatted_code);\n",
       "                        }\n",
       "                        break;\n",
       "                    }\n",
       "                }\n",
       "            }, 500);\n",
       "            "
      ],
      "text/plain": [
       "<IPython.core.display.Javascript object>"
      ]
     },
     "metadata": {},
     "output_type": "display_data"
    }
   ],
   "source": [
    "first_indexes_mult = input_vector[0] * weights_1[0]\n",
    "second_indexes_mult = input_vector[1] * weights_1[1]\n",
    "\n",
    "dot_product_1 = first_indexes_mult + second_indexes_mult\n",
    "\n",
    "dot_product_1"
   ]
  },
  {
   "cell_type": "code",
   "execution_count": 13,
   "id": "12177b1b",
   "metadata": {},
   "outputs": [
    {
     "data": {
      "text/plain": [
       "6.425999999999999"
      ]
     },
     "execution_count": 13,
     "metadata": {},
     "output_type": "execute_result"
    },
    {
     "data": {
      "application/javascript": [
       "\n",
       "            setTimeout(function() {\n",
       "                var nbb_cell_id = 13;\n",
       "                var nbb_unformatted_code = \"5.1 * 1.26 + 3.5 * 0\";\n",
       "                var nbb_formatted_code = \"5.1 * 1.26 + 3.5 * 0\";\n",
       "                var nbb_cells = Jupyter.notebook.get_cells();\n",
       "                for (var i = 0; i < nbb_cells.length; ++i) {\n",
       "                    if (nbb_cells[i].input_prompt_number == nbb_cell_id) {\n",
       "                        if (nbb_cells[i].get_text() == nbb_unformatted_code) {\n",
       "                             nbb_cells[i].set_text(nbb_formatted_code);\n",
       "                        }\n",
       "                        break;\n",
       "                    }\n",
       "                }\n",
       "            }, 500);\n",
       "            "
      ],
      "text/plain": [
       "<IPython.core.display.Javascript object>"
      ]
     },
     "metadata": {},
     "output_type": "display_data"
    }
   ],
   "source": [
    "5.1 * 1.26 + 3.5 * 0"
   ]
  },
  {
   "cell_type": "code",
   "execution_count": 14,
   "id": "55cfd6ed",
   "metadata": {},
   "outputs": [
    {
     "data": {
      "text/plain": [
       "6.425999999999999"
      ]
     },
     "execution_count": 14,
     "metadata": {},
     "output_type": "execute_result"
    },
    {
     "data": {
      "application/javascript": [
       "\n",
       "            setTimeout(function() {\n",
       "                var nbb_cell_id = 14;\n",
       "                var nbb_unformatted_code = \"dot_product_1 = np.dot(input_vector, weights_1)\\n\\ndot_product_1\";\n",
       "                var nbb_formatted_code = \"dot_product_1 = np.dot(input_vector, weights_1)\\n\\ndot_product_1\";\n",
       "                var nbb_cells = Jupyter.notebook.get_cells();\n",
       "                for (var i = 0; i < nbb_cells.length; ++i) {\n",
       "                    if (nbb_cells[i].input_prompt_number == nbb_cell_id) {\n",
       "                        if (nbb_cells[i].get_text() == nbb_unformatted_code) {\n",
       "                             nbb_cells[i].set_text(nbb_formatted_code);\n",
       "                        }\n",
       "                        break;\n",
       "                    }\n",
       "                }\n",
       "            }, 500);\n",
       "            "
      ],
      "text/plain": [
       "<IPython.core.display.Javascript object>"
      ]
     },
     "metadata": {},
     "output_type": "display_data"
    }
   ],
   "source": [
    "dot_product_1 = np.dot(input_vector, weights_1)\n",
    "\n",
    "dot_product_1"
   ]
  },
  {
   "cell_type": "markdown",
   "id": "4d6b0884",
   "metadata": {},
   "source": [
    "#### Al dot product aggiungeremo il bias e poi una funzione di attivazione"
   ]
  },
  {
   "cell_type": "code",
   "execution_count": 15,
   "id": "1525aa1d",
   "metadata": {},
   "outputs": [
    {
     "data": {
      "application/javascript": [
       "\n",
       "            setTimeout(function() {\n",
       "                var nbb_cell_id = 15;\n",
       "                var nbb_unformatted_code = \"bias = np.array([0.0])\";\n",
       "                var nbb_formatted_code = \"bias = np.array([0.0])\";\n",
       "                var nbb_cells = Jupyter.notebook.get_cells();\n",
       "                for (var i = 0; i < nbb_cells.length; ++i) {\n",
       "                    if (nbb_cells[i].input_prompt_number == nbb_cell_id) {\n",
       "                        if (nbb_cells[i].get_text() == nbb_unformatted_code) {\n",
       "                             nbb_cells[i].set_text(nbb_formatted_code);\n",
       "                        }\n",
       "                        break;\n",
       "                    }\n",
       "                }\n",
       "            }, 500);\n",
       "            "
      ],
      "text/plain": [
       "<IPython.core.display.Javascript object>"
      ]
     },
     "metadata": {},
     "output_type": "display_data"
    }
   ],
   "source": [
    "bias = np.array([0.0])"
   ]
  },
  {
   "cell_type": "code",
   "execution_count": 16,
   "id": "20c535e9",
   "metadata": {},
   "outputs": [
    {
     "data": {
      "application/javascript": [
       "\n",
       "            setTimeout(function() {\n",
       "                var nbb_cell_id = 16;\n",
       "                var nbb_unformatted_code = \"# funzione di attivazione\\ndef sigmoid(x):\\n\\n    return 1 / (1 + np.exp(-x))\";\n",
       "                var nbb_formatted_code = \"# funzione di attivazione\\ndef sigmoid(x):\\n\\n    return 1 / (1 + np.exp(-x))\";\n",
       "                var nbb_cells = Jupyter.notebook.get_cells();\n",
       "                for (var i = 0; i < nbb_cells.length; ++i) {\n",
       "                    if (nbb_cells[i].input_prompt_number == nbb_cell_id) {\n",
       "                        if (nbb_cells[i].get_text() == nbb_unformatted_code) {\n",
       "                             nbb_cells[i].set_text(nbb_formatted_code);\n",
       "                        }\n",
       "                        break;\n",
       "                    }\n",
       "                }\n",
       "            }, 500);\n",
       "            "
      ],
      "text/plain": [
       "<IPython.core.display.Javascript object>"
      ]
     },
     "metadata": {},
     "output_type": "display_data"
    }
   ],
   "source": [
    "# funzione di attivazione\n",
    "def sigmoid(x):\n",
    "\n",
    "    return 1 / (1 + np.exp(-x))"
   ]
  },
  {
   "cell_type": "code",
   "execution_count": 17,
   "id": "0595584c",
   "metadata": {},
   "outputs": [
    {
     "data": {
      "image/png": "[encoded data removed]",
      "text/plain": [
       "<IPython.core.display.Image object>"
      ]
     },
     "execution_count": 17,
     "metadata": {},
     "output_type": "execute_result"
    },
    {
     "data": {
      "application/javascript": [
       "\n",
       "            setTimeout(function() {\n",
       "                var nbb_cell_id = 17;\n",
       "                var nbb_unformatted_code = \"Image(\\\"Sigmoid Function.png\\\")\";\n",
       "                var nbb_formatted_code = \"Image(\\\"Sigmoid Function.png\\\")\";\n",
       "                var nbb_cells = Jupyter.notebook.get_cells();\n",
       "                for (var i = 0; i < nbb_cells.length; ++i) {\n",
       "                    if (nbb_cells[i].input_prompt_number == nbb_cell_id) {\n",
       "                        if (nbb_cells[i].get_text() == nbb_unformatted_code) {\n",
       "                             nbb_cells[i].set_text(nbb_formatted_code);\n",
       "                        }\n",
       "                        break;\n",
       "                    }\n",
       "                }\n",
       "            }, 500);\n",
       "            "
      ],
      "text/plain": [
       "<IPython.core.display.Javascript object>"
      ]
     },
     "metadata": {},
     "output_type": "display_data"
    }
   ],
   "source": [
    "Image(\"Sigmoid Function.png\")"
   ]
  },
  {
   "cell_type": "code",
   "execution_count": 18,
   "id": "25c3fe3d",
   "metadata": {},
   "outputs": [
    {
     "data": {
      "application/javascript": [
       "\n",
       "            setTimeout(function() {\n",
       "                var nbb_cell_id = 18;\n",
       "                var nbb_unformatted_code = \"def make_prediction(input_vector, weights, bias):\\n\\n    layer_1 = np.dot(input_vector, weights) + bias\\n    layer_2 = sigmoid(layer_1)\\n\\n    return layer_2\";\n",
       "                var nbb_formatted_code = \"def make_prediction(input_vector, weights, bias):\\n\\n    layer_1 = np.dot(input_vector, weights) + bias\\n    layer_2 = sigmoid(layer_1)\\n\\n    return layer_2\";\n",
       "                var nbb_cells = Jupyter.notebook.get_cells();\n",
       "                for (var i = 0; i < nbb_cells.length; ++i) {\n",
       "                    if (nbb_cells[i].input_prompt_number == nbb_cell_id) {\n",
       "                        if (nbb_cells[i].get_text() == nbb_unformatted_code) {\n",
       "                             nbb_cells[i].set_text(nbb_formatted_code);\n",
       "                        }\n",
       "                        break;\n",
       "                    }\n",
       "                }\n",
       "            }, 500);\n",
       "            "
      ],
      "text/plain": [
       "<IPython.core.display.Javascript object>"
      ]
     },
     "metadata": {},
     "output_type": "display_data"
    }
   ],
   "source": [
    "def make_prediction(input_vector, weights, bias):\n",
    "\n",
    "    layer_1 = np.dot(input_vector, weights) + bias\n",
    "    layer_2 = sigmoid(layer_1)\n",
    "\n",
    "    return layer_2"
   ]
  },
  {
   "cell_type": "code",
   "execution_count": 19,
   "id": "1719d2b3",
   "metadata": {},
   "outputs": [
    {
     "data": {
      "text/plain": [
       "array([0.9983837])"
      ]
     },
     "execution_count": 19,
     "metadata": {},
     "output_type": "execute_result"
    },
    {
     "data": {
      "application/javascript": [
       "\n",
       "            setTimeout(function() {\n",
       "                var nbb_cell_id = 19;\n",
       "                var nbb_unformatted_code = \"prediction = make_prediction(input_vector, weights_1, bias)\\n\\nprediction\";\n",
       "                var nbb_formatted_code = \"prediction = make_prediction(input_vector, weights_1, bias)\\n\\nprediction\";\n",
       "                var nbb_cells = Jupyter.notebook.get_cells();\n",
       "                for (var i = 0; i < nbb_cells.length; ++i) {\n",
       "                    if (nbb_cells[i].input_prompt_number == nbb_cell_id) {\n",
       "                        if (nbb_cells[i].get_text() == nbb_unformatted_code) {\n",
       "                             nbb_cells[i].set_text(nbb_formatted_code);\n",
       "                        }\n",
       "                        break;\n",
       "                    }\n",
       "                }\n",
       "            }, 500);\n",
       "            "
      ],
      "text/plain": [
       "<IPython.core.display.Javascript object>"
      ]
     },
     "metadata": {},
     "output_type": "display_data"
    }
   ],
   "source": [
    "prediction = make_prediction(input_vector, weights_1, bias)\n",
    "\n",
    "prediction"
   ]
  },
  {
   "cell_type": "code",
   "execution_count": 20,
   "id": "39188e5d",
   "metadata": {},
   "outputs": [
    {
     "data": {
      "text/plain": [
       "1"
      ]
     },
     "execution_count": 20,
     "metadata": {},
     "output_type": "execute_result"
    },
    {
     "data": {
      "application/javascript": [
       "\n",
       "            setTimeout(function() {\n",
       "                var nbb_cell_id = 20;\n",
       "                var nbb_unformatted_code = \"y[0]\";\n",
       "                var nbb_formatted_code = \"y[0]\";\n",
       "                var nbb_cells = Jupyter.notebook.get_cells();\n",
       "                for (var i = 0; i < nbb_cells.length; ++i) {\n",
       "                    if (nbb_cells[i].input_prompt_number == nbb_cell_id) {\n",
       "                        if (nbb_cells[i].get_text() == nbb_unformatted_code) {\n",
       "                             nbb_cells[i].set_text(nbb_formatted_code);\n",
       "                        }\n",
       "                        break;\n",
       "                    }\n",
       "                }\n",
       "            }, 500);\n",
       "            "
      ],
      "text/plain": [
       "<IPython.core.display.Javascript object>"
      ]
     },
     "metadata": {},
     "output_type": "display_data"
    }
   ],
   "source": [
    "y[0]"
   ]
  },
  {
   "cell_type": "code",
   "execution_count": 21,
   "id": "cecd3ccb",
   "metadata": {},
   "outputs": [
    {
     "data": {
      "text/plain": [
       "array([5.9, 3. ])"
      ]
     },
     "execution_count": 21,
     "metadata": {},
     "output_type": "execute_result"
    },
    {
     "data": {
      "application/javascript": [
       "\n",
       "            setTimeout(function() {\n",
       "                var nbb_cell_id = 21;\n",
       "                var nbb_unformatted_code = \"input_vector = X[149, :2]\\ninput_vector\";\n",
       "                var nbb_formatted_code = \"input_vector = X[149, :2]\\ninput_vector\";\n",
       "                var nbb_cells = Jupyter.notebook.get_cells();\n",
       "                for (var i = 0; i < nbb_cells.length; ++i) {\n",
       "                    if (nbb_cells[i].input_prompt_number == nbb_cell_id) {\n",
       "                        if (nbb_cells[i].get_text() == nbb_unformatted_code) {\n",
       "                             nbb_cells[i].set_text(nbb_formatted_code);\n",
       "                        }\n",
       "                        break;\n",
       "                    }\n",
       "                }\n",
       "            }, 500);\n",
       "            "
      ],
      "text/plain": [
       "<IPython.core.display.Javascript object>"
      ]
     },
     "metadata": {},
     "output_type": "display_data"
    }
   ],
   "source": [
    "input_vector = X[149, :2]\n",
    "input_vector"
   ]
  },
  {
   "cell_type": "code",
   "execution_count": 22,
   "id": "863f0ab1",
   "metadata": {},
   "outputs": [
    {
     "data": {
      "text/plain": [
       "array([0.99940953])"
      ]
     },
     "execution_count": 22,
     "metadata": {},
     "output_type": "execute_result"
    },
    {
     "data": {
      "application/javascript": [
       "\n",
       "            setTimeout(function() {\n",
       "                var nbb_cell_id = 22;\n",
       "                var nbb_unformatted_code = \"prediction = make_prediction(input_vector, weights_1, bias)\\n\\nprediction\";\n",
       "                var nbb_formatted_code = \"prediction = make_prediction(input_vector, weights_1, bias)\\n\\nprediction\";\n",
       "                var nbb_cells = Jupyter.notebook.get_cells();\n",
       "                for (var i = 0; i < nbb_cells.length; ++i) {\n",
       "                    if (nbb_cells[i].input_prompt_number == nbb_cell_id) {\n",
       "                        if (nbb_cells[i].get_text() == nbb_unformatted_code) {\n",
       "                             nbb_cells[i].set_text(nbb_formatted_code);\n",
       "                        }\n",
       "                        break;\n",
       "                    }\n",
       "                }\n",
       "            }, 500);\n",
       "            "
      ],
      "text/plain": [
       "<IPython.core.display.Javascript object>"
      ]
     },
     "metadata": {},
     "output_type": "display_data"
    }
   ],
   "source": [
    "prediction = make_prediction(input_vector, weights_1, bias)\n",
    "\n",
    "prediction"
   ]
  },
  {
   "cell_type": "code",
   "execution_count": 23,
   "id": "9f173ce1",
   "metadata": {},
   "outputs": [
    {
     "data": {
      "text/plain": [
       "0"
      ]
     },
     "execution_count": 23,
     "metadata": {},
     "output_type": "execute_result"
    },
    {
     "data": {
      "application/javascript": [
       "\n",
       "            setTimeout(function() {\n",
       "                var nbb_cell_id = 23;\n",
       "                var nbb_unformatted_code = \"y[149]\";\n",
       "                var nbb_formatted_code = \"y[149]\";\n",
       "                var nbb_cells = Jupyter.notebook.get_cells();\n",
       "                for (var i = 0; i < nbb_cells.length; ++i) {\n",
       "                    if (nbb_cells[i].input_prompt_number == nbb_cell_id) {\n",
       "                        if (nbb_cells[i].get_text() == nbb_unformatted_code) {\n",
       "                             nbb_cells[i].set_text(nbb_formatted_code);\n",
       "                        }\n",
       "                        break;\n",
       "                    }\n",
       "                }\n",
       "            }, 500);\n",
       "            "
      ],
      "text/plain": [
       "<IPython.core.display.Javascript object>"
      ]
     },
     "metadata": {},
     "output_type": "display_data"
    }
   ],
   "source": [
    "y[149]"
   ]
  },
  {
   "cell_type": "markdown",
   "id": "70a0dc35",
   "metadata": {},
   "source": [
    "## Anatomia di una rete neurale"
   ]
  },
  {
   "cell_type": "code",
   "execution_count": 24,
   "id": "71793599",
   "metadata": {},
   "outputs": [
    {
     "data": {
      "image/png": "[encoded data removed]",
      "text/plain": [
       "<IPython.core.display.Image object>"
      ]
     },
     "execution_count": 24,
     "metadata": {},
     "output_type": "execute_result"
    },
    {
     "data": {
      "application/javascript": [
       "\n",
       "            setTimeout(function() {\n",
       "                var nbb_cell_id = 24;\n",
       "                var nbb_unformatted_code = \"Image(\\\"Anatomia NNet.png\\\")\";\n",
       "                var nbb_formatted_code = \"Image(\\\"Anatomia NNet.png\\\")\";\n",
       "                var nbb_cells = Jupyter.notebook.get_cells();\n",
       "                for (var i = 0; i < nbb_cells.length; ++i) {\n",
       "                    if (nbb_cells[i].input_prompt_number == nbb_cell_id) {\n",
       "                        if (nbb_cells[i].get_text() == nbb_unformatted_code) {\n",
       "                             nbb_cells[i].set_text(nbb_formatted_code);\n",
       "                        }\n",
       "                        break;\n",
       "                    }\n",
       "                }\n",
       "            }, 500);\n",
       "            "
      ],
      "text/plain": [
       "<IPython.core.display.Javascript object>"
      ]
     },
     "metadata": {},
     "output_type": "display_data"
    }
   ],
   "source": [
    "Image(\"Anatomia NNet.png\")"
   ]
  },
  {
   "cell_type": "markdown",
   "id": "f48f642b",
   "metadata": {},
   "source": [
    "### Ogni layer applica una trasformazione dei dati."
   ]
  },
  {
   "cell_type": "markdown",
   "id": "eb948f48",
   "metadata": {},
   "source": [
    "## Aggiustare l'errore attraverso il gradient descent and backpropagation algorithms"
   ]
  },
  {
   "cell_type": "markdown",
   "id": "06db3076",
   "metadata": {},
   "source": [
    "Dal confronto tra valore previsto e valore reale è possibile misurare quanto l'algoritmo sta sbagliando."
   ]
  },
  {
   "cell_type": "code",
   "execution_count": 25,
   "id": "ba659abf",
   "metadata": {},
   "outputs": [
    {
     "data": {
      "image/png": "[encoded data removed]",
      "text/plain": [
       "<IPython.core.display.Image object>"
      ]
     },
     "execution_count": 25,
     "metadata": {},
     "output_type": "execute_result"
    },
    {
     "data": {
      "application/javascript": [
       "\n",
       "            setTimeout(function() {\n",
       "                var nbb_cell_id = 25;\n",
       "                var nbb_unformatted_code = \"Image(\\\"Backpropagation.png\\\")\";\n",
       "                var nbb_formatted_code = \"Image(\\\"Backpropagation.png\\\")\";\n",
       "                var nbb_cells = Jupyter.notebook.get_cells();\n",
       "                for (var i = 0; i < nbb_cells.length; ++i) {\n",
       "                    if (nbb_cells[i].input_prompt_number == nbb_cell_id) {\n",
       "                        if (nbb_cells[i].get_text() == nbb_unformatted_code) {\n",
       "                             nbb_cells[i].set_text(nbb_formatted_code);\n",
       "                        }\n",
       "                        break;\n",
       "                    }\n",
       "                }\n",
       "            }, 500);\n",
       "            "
      ],
      "text/plain": [
       "<IPython.core.display.Javascript object>"
      ]
     },
     "metadata": {},
     "output_type": "display_data"
    }
   ],
   "source": [
    "Image(\"Backpropagation.png\")"
   ]
  },
  {
   "cell_type": "markdown",
   "id": "d79f7ddf",
   "metadata": {},
   "source": [
    "#### L'obiettivo è quello di cambiare pesi e bias per diminuire l'errore."
   ]
  },
  {
   "cell_type": "markdown",
   "id": "c35e271e",
   "metadata": {},
   "source": [
    "Per questo entrano in gioco le derivate."
   ]
  },
  {
   "cell_type": "markdown",
   "id": "62bc4654",
   "metadata": {},
   "source": [
    "Nello studio di funzione, le derivate indicano il punto minimo di una funzione."
   ]
  },
  {
   "cell_type": "markdown",
   "id": "ab1afe43",
   "metadata": {},
   "source": [
    "#### Attraverso le derivate (gradient) è possibile capire in quale direzione andare per ridurre l'errore."
   ]
  },
  {
   "cell_type": "code",
   "execution_count": 26,
   "id": "87e2014e",
   "metadata": {},
   "outputs": [
    {
     "data": {
      "text/plain": [
       "array([0.99881941])"
      ]
     },
     "execution_count": 26,
     "metadata": {},
     "output_type": "execute_result"
    },
    {
     "data": {
      "application/javascript": [
       "\n",
       "            setTimeout(function() {\n",
       "                var nbb_cell_id = 26;\n",
       "                var nbb_unformatted_code = \"target = 0\\n\\n# Funzione di loss\\nmse = np.square(prediction - target)\\n\\nmse\";\n",
       "                var nbb_formatted_code = \"target = 0\\n\\n# Funzione di loss\\nmse = np.square(prediction - target)\\n\\nmse\";\n",
       "                var nbb_cells = Jupyter.notebook.get_cells();\n",
       "                for (var i = 0; i < nbb_cells.length; ++i) {\n",
       "                    if (nbb_cells[i].input_prompt_number == nbb_cell_id) {\n",
       "                        if (nbb_cells[i].get_text() == nbb_unformatted_code) {\n",
       "                             nbb_cells[i].set_text(nbb_formatted_code);\n",
       "                        }\n",
       "                        break;\n",
       "                    }\n",
       "                }\n",
       "            }, 500);\n",
       "            "
      ],
      "text/plain": [
       "<IPython.core.display.Javascript object>"
      ]
     },
     "metadata": {},
     "output_type": "display_data"
    }
   ],
   "source": [
    "target = 0\n",
    "\n",
    "# Funzione di loss\n",
    "mse = np.square(prediction - target)\n",
    "\n",
    "mse"
   ]
  },
  {
   "cell_type": "markdown",
   "id": "5cef02a4",
   "metadata": {},
   "source": [
    "#### In questo caso la derivata è: 2 * x"
   ]
  },
  {
   "cell_type": "code",
   "execution_count": 27,
   "id": "6bac0bd7",
   "metadata": {},
   "outputs": [
    {
     "data": {
      "text/plain": [
       "array([1.99881906])"
      ]
     },
     "execution_count": 27,
     "metadata": {},
     "output_type": "execute_result"
    },
    {
     "data": {
      "application/javascript": [
       "\n",
       "            setTimeout(function() {\n",
       "                var nbb_cell_id = 27;\n",
       "                var nbb_unformatted_code = \"derivative = 2 * (prediction - target)\\nderivative\";\n",
       "                var nbb_formatted_code = \"derivative = 2 * (prediction - target)\\nderivative\";\n",
       "                var nbb_cells = Jupyter.notebook.get_cells();\n",
       "                for (var i = 0; i < nbb_cells.length; ++i) {\n",
       "                    if (nbb_cells[i].input_prompt_number == nbb_cell_id) {\n",
       "                        if (nbb_cells[i].get_text() == nbb_unformatted_code) {\n",
       "                             nbb_cells[i].set_text(nbb_formatted_code);\n",
       "                        }\n",
       "                        break;\n",
       "                    }\n",
       "                }\n",
       "            }, 500);\n",
       "            "
      ],
      "text/plain": [
       "<IPython.core.display.Javascript object>"
      ]
     },
     "metadata": {},
     "output_type": "display_data"
    }
   ],
   "source": [
    "derivative = 2 * (prediction - target)\n",
    "derivative"
   ]
  },
  {
   "cell_type": "markdown",
   "id": "779c0fdc",
   "metadata": {},
   "source": [
    "#### Se il risultato è positivo allora bisogna ridurre i pesi (e anche il bias)"
   ]
  },
  {
   "cell_type": "markdown",
   "id": "7f61b5ec",
   "metadata": {},
   "source": [
    "In realtà si usano le derivate parziali, ma lo vediamo meglio in seguito."
   ]
  },
  {
   "cell_type": "code",
   "execution_count": 28,
   "id": "423773f0",
   "metadata": {},
   "outputs": [
    {
     "data": {
      "application/javascript": [
       "\n",
       "            setTimeout(function() {\n",
       "                var nbb_cell_id = 28;\n",
       "                var nbb_unformatted_code = \"weights_1 = weights_1 - derivative\";\n",
       "                var nbb_formatted_code = \"weights_1 = weights_1 - derivative\";\n",
       "                var nbb_cells = Jupyter.notebook.get_cells();\n",
       "                for (var i = 0; i < nbb_cells.length; ++i) {\n",
       "                    if (nbb_cells[i].input_prompt_number == nbb_cell_id) {\n",
       "                        if (nbb_cells[i].get_text() == nbb_unformatted_code) {\n",
       "                             nbb_cells[i].set_text(nbb_formatted_code);\n",
       "                        }\n",
       "                        break;\n",
       "                    }\n",
       "                }\n",
       "            }, 500);\n",
       "            "
      ],
      "text/plain": [
       "<IPython.core.display.Javascript object>"
      ]
     },
     "metadata": {},
     "output_type": "display_data"
    }
   ],
   "source": [
    "weights_1 = weights_1 - derivative"
   ]
  },
  {
   "cell_type": "code",
   "execution_count": 29,
   "id": "d2e904fc",
   "metadata": {},
   "outputs": [
    {
     "data": {
      "application/javascript": [
       "\n",
       "            setTimeout(function() {\n",
       "                var nbb_cell_id = 29;\n",
       "                var nbb_unformatted_code = \"prediction = make_prediction(input_vector, weights_1, bias)\";\n",
       "                var nbb_formatted_code = \"prediction = make_prediction(input_vector, weights_1, bias)\";\n",
       "                var nbb_cells = Jupyter.notebook.get_cells();\n",
       "                for (var i = 0; i < nbb_cells.length; ++i) {\n",
       "                    if (nbb_cells[i].input_prompt_number == nbb_cell_id) {\n",
       "                        if (nbb_cells[i].get_text() == nbb_unformatted_code) {\n",
       "                             nbb_cells[i].set_text(nbb_formatted_code);\n",
       "                        }\n",
       "                        break;\n",
       "                    }\n",
       "                }\n",
       "            }, 500);\n",
       "            "
      ],
      "text/plain": [
       "<IPython.core.display.Javascript object>"
      ]
     },
     "metadata": {},
     "output_type": "display_data"
    }
   ],
   "source": [
    "prediction = make_prediction(input_vector, weights_1, bias)"
   ]
  },
  {
   "cell_type": "code",
   "execution_count": 30,
   "id": "b3573d40",
   "metadata": {},
   "outputs": [
    {
     "name": "stdout",
     "output_type": "stream",
     "text": [
      "1.0122979630682682e-09\n"
     ]
    },
    {
     "data": {
      "application/javascript": [
       "\n",
       "            setTimeout(function() {\n",
       "                var nbb_cell_id = 30;\n",
       "                var nbb_unformatted_code = \"error = (prediction - target) ** 2\\nprint(f\\\"{error[0]}\\\")\";\n",
       "                var nbb_formatted_code = \"error = (prediction - target) ** 2\\nprint(f\\\"{error[0]}\\\")\";\n",
       "                var nbb_cells = Jupyter.notebook.get_cells();\n",
       "                for (var i = 0; i < nbb_cells.length; ++i) {\n",
       "                    if (nbb_cells[i].input_prompt_number == nbb_cell_id) {\n",
       "                        if (nbb_cells[i].get_text() == nbb_unformatted_code) {\n",
       "                             nbb_cells[i].set_text(nbb_formatted_code);\n",
       "                        }\n",
       "                        break;\n",
       "                    }\n",
       "                }\n",
       "            }, 500);\n",
       "            "
      ],
      "text/plain": [
       "<IPython.core.display.Javascript object>"
      ]
     },
     "metadata": {},
     "output_type": "display_data"
    }
   ],
   "source": [
    "error = (prediction - target) ** 2\n",
    "print(f\"{error[0]}\")"
   ]
  },
  {
   "cell_type": "markdown",
   "id": "edcc1cd5",
   "metadata": {},
   "source": [
    "## Il learning rate (tasso di apprendimento)"
   ]
  },
  {
   "cell_type": "markdown",
   "id": "a923382f",
   "metadata": {},
   "source": [
    "Attraverso questo parametro definiamo \"quanto\" i pesi devono aggiornarsi. Siccome stiamo cercando il minimo di una funzione (immaginiamo una parabola) vogliamo che il nostro errore diminuisca in modo costante verso il minimo.\n",
    "Con un learning rate uguale al 100% il nostro errore comincerebbe a rimbalzare da un lato all'latro della parabola e questo non è il percorso ottimale."
   ]
  },
  {
   "cell_type": "code",
   "execution_count": 31,
   "id": "48042ba3",
   "metadata": {},
   "outputs": [
    {
     "data": {
      "image/png": "[encoded data removed]",
      "text/plain": [
       "<IPython.core.display.Image object>"
      ]
     },
     "execution_count": 31,
     "metadata": {},
     "output_type": "execute_result"
    },
    {
     "data": {
      "application/javascript": [
       "\n",
       "            setTimeout(function() {\n",
       "                var nbb_cell_id = 31;\n",
       "                var nbb_unformatted_code = \"Image(\\\"SGD_1.png\\\")\";\n",
       "                var nbb_formatted_code = \"Image(\\\"SGD_1.png\\\")\";\n",
       "                var nbb_cells = Jupyter.notebook.get_cells();\n",
       "                for (var i = 0; i < nbb_cells.length; ++i) {\n",
       "                    if (nbb_cells[i].input_prompt_number == nbb_cell_id) {\n",
       "                        if (nbb_cells[i].get_text() == nbb_unformatted_code) {\n",
       "                             nbb_cells[i].set_text(nbb_formatted_code);\n",
       "                        }\n",
       "                        break;\n",
       "                    }\n",
       "                }\n",
       "            }, 500);\n",
       "            "
      ],
      "text/plain": [
       "<IPython.core.display.Javascript object>"
      ]
     },
     "metadata": {},
     "output_type": "display_data"
    }
   ],
   "source": [
    "Image(\"SGD_1.png\")"
   ]
  },
  {
   "cell_type": "markdown",
   "id": "d6c35786",
   "metadata": {},
   "source": [
    "<!-- In your neural network, you need to update both the weights and the bias vectors. -->"
   ]
  },
  {
   "cell_type": "code",
   "execution_count": 32,
   "id": "b02d87de",
   "metadata": {},
   "outputs": [
    {
     "data": {
      "image/png": "[encoded data removed]",
      "text/plain": [
       "<IPython.core.display.Image object>"
      ]
     },
     "execution_count": 32,
     "metadata": {},
     "output_type": "execute_result"
    },
    {
     "data": {
      "application/javascript": [
       "\n",
       "            setTimeout(function() {\n",
       "                var nbb_cell_id = 32;\n",
       "                var nbb_unformatted_code = \"Image(\\\"SGD_2.png\\\")\";\n",
       "                var nbb_formatted_code = \"Image(\\\"SGD_2.png\\\")\";\n",
       "                var nbb_cells = Jupyter.notebook.get_cells();\n",
       "                for (var i = 0; i < nbb_cells.length; ++i) {\n",
       "                    if (nbb_cells[i].input_prompt_number == nbb_cell_id) {\n",
       "                        if (nbb_cells[i].get_text() == nbb_unformatted_code) {\n",
       "                             nbb_cells[i].set_text(nbb_formatted_code);\n",
       "                        }\n",
       "                        break;\n",
       "                    }\n",
       "                }\n",
       "            }, 500);\n",
       "            "
      ],
      "text/plain": [
       "<IPython.core.display.Javascript object>"
      ]
     },
     "metadata": {},
     "output_type": "display_data"
    }
   ],
   "source": [
    "Image(\"SGD_2.png\")"
   ]
  },
  {
   "cell_type": "code",
   "execution_count": 33,
   "id": "a191364e",
   "metadata": {},
   "outputs": [
    {
     "data": {
      "application/javascript": [
       "\n",
       "            setTimeout(function() {\n",
       "                var nbb_cell_id = 33;\n",
       "                var nbb_unformatted_code = \"class NeuralNetwork:\\n    def __init__(self, input_vectors, targets, learning_rate):\\n        self.weights = np.array(\\n            [np.random.randn(), np.random.randn(), np.random.randn(), np.random.randn()]\\n        )\\n        self.bias = np.random.randn()\\n        self.learning_rate = learning_rate\\n\\n        self.input_vectors = input_vectors\\n        self.targets = targets\\n\\n        self.error = 0\\n\\n    def _sigmoid(self, x):\\n        return 1 / (1 + np.exp(-x))\\n\\n    def _sigmoid_deriv(self, x):\\n        return self._sigmoid(x) * (1 - self._sigmoid(x))\\n\\n    def predict(self, input_vector):\\n        layer_1 = np.dot(input_vector, self.weights) + self.bias\\n        layer_2 = self._sigmoid(layer_1)\\n        prediction = layer_2\\n        return prediction\\n\\n    def _compute_gradients(self, input_vector, target):\\n        layer_1 = np.dot(input_vector, self.weights) + self.bias\\n        layer_2 = self._sigmoid(layer_1)\\n        prediction = layer_2\\n\\n        derror_dprediction = 2 * (prediction - target)\\n        dprediction_dlayer1 = self._sigmoid_deriv(layer_1)\\n        dlayer1_dbias = 1\\n        dlayer1_dweights = (0 * self.weights) + (1 * input_vector)\\n\\n        derror_dbias = derror_dprediction * dprediction_dlayer1 * dlayer1_dbias\\n        derror_dweights = derror_dprediction * dprediction_dlayer1 * dlayer1_dweights\\n\\n        return derror_dbias, derror_dweights\\n\\n    def _update_parameters(self, derror_dbias, derror_dweights):\\n        self.bias = self.bias - (derror_dbias * self.learning_rate)\\n        self.weights = self.weights - (derror_dweights * self.learning_rate)\\n\\n    # Scelta di __next__ al posto del classico train\\n    # per necessit\\u00e0 espositive\\n\\n    def __next__(self):\\n\\n        random_data_index = np.random.randint(len(self.input_vectors))\\n\\n        input_vector = self.input_vectors[random_data_index]\\n\\n        target = self.targets[random_data_index]\\n\\n        derror_dbias, derror_dweights = self._compute_gradients(input_vector, target)\\n\\n        self._update_parameters(derror_dbias, derror_dweights)\\n\\n        prediction = self.predict(input_vector)\\n\\n        self.error = np.square(prediction - target)\\n\\n        return self.error\";\n",
       "                var nbb_formatted_code = \"class NeuralNetwork:\\n    def __init__(self, input_vectors, targets, learning_rate):\\n        self.weights = np.array(\\n            [np.random.randn(), np.random.randn(), np.random.randn(), np.random.randn()]\\n        )\\n        self.bias = np.random.randn()\\n        self.learning_rate = learning_rate\\n\\n        self.input_vectors = input_vectors\\n        self.targets = targets\\n\\n        self.error = 0\\n\\n    def _sigmoid(self, x):\\n        return 1 / (1 + np.exp(-x))\\n\\n    def _sigmoid_deriv(self, x):\\n        return self._sigmoid(x) * (1 - self._sigmoid(x))\\n\\n    def predict(self, input_vector):\\n        layer_1 = np.dot(input_vector, self.weights) + self.bias\\n        layer_2 = self._sigmoid(layer_1)\\n        prediction = layer_2\\n        return prediction\\n\\n    def _compute_gradients(self, input_vector, target):\\n        layer_1 = np.dot(input_vector, self.weights) + self.bias\\n        layer_2 = self._sigmoid(layer_1)\\n        prediction = layer_2\\n\\n        derror_dprediction = 2 * (prediction - target)\\n        dprediction_dlayer1 = self._sigmoid_deriv(layer_1)\\n        dlayer1_dbias = 1\\n        dlayer1_dweights = (0 * self.weights) + (1 * input_vector)\\n\\n        derror_dbias = derror_dprediction * dprediction_dlayer1 * dlayer1_dbias\\n        derror_dweights = derror_dprediction * dprediction_dlayer1 * dlayer1_dweights\\n\\n        return derror_dbias, derror_dweights\\n\\n    def _update_parameters(self, derror_dbias, derror_dweights):\\n        self.bias = self.bias - (derror_dbias * self.learning_rate)\\n        self.weights = self.weights - (derror_dweights * self.learning_rate)\\n\\n    # Scelta di __next__ al posto del classico train\\n    # per necessit\\u00e0 espositive\\n\\n    def __next__(self):\\n\\n        random_data_index = np.random.randint(len(self.input_vectors))\\n\\n        input_vector = self.input_vectors[random_data_index]\\n\\n        target = self.targets[random_data_index]\\n\\n        derror_dbias, derror_dweights = self._compute_gradients(input_vector, target)\\n\\n        self._update_parameters(derror_dbias, derror_dweights)\\n\\n        prediction = self.predict(input_vector)\\n\\n        self.error = np.square(prediction - target)\\n\\n        return self.error\";\n",
       "                var nbb_cells = Jupyter.notebook.get_cells();\n",
       "                for (var i = 0; i < nbb_cells.length; ++i) {\n",
       "                    if (nbb_cells[i].input_prompt_number == nbb_cell_id) {\n",
       "                        if (nbb_cells[i].get_text() == nbb_unformatted_code) {\n",
       "                             nbb_cells[i].set_text(nbb_formatted_code);\n",
       "                        }\n",
       "                        break;\n",
       "                    }\n",
       "                }\n",
       "            }, 500);\n",
       "            "
      ],
      "text/plain": [
       "<IPython.core.display.Javascript object>"
      ]
     },
     "metadata": {},
     "output_type": "display_data"
    }
   ],
   "source": [
    "class NeuralNetwork:\n",
    "    def __init__(self, input_vectors, targets, learning_rate):\n",
    "        self.weights = np.array(\n",
    "            [np.random.randn(), np.random.randn(), np.random.randn(), np.random.randn()]\n",
    "        )\n",
    "        self.bias = np.random.randn()\n",
    "        self.learning_rate = learning_rate\n",
    "\n",
    "        self.input_vectors = input_vectors\n",
    "        self.targets = targets\n",
    "\n",
    "        self.error = 0\n",
    "\n",
    "    def _sigmoid(self, x):\n",
    "        return 1 / (1 + np.exp(-x))\n",
    "\n",
    "    def _sigmoid_deriv(self, x):\n",
    "        return self._sigmoid(x) * (1 - self._sigmoid(x))\n",
    "\n",
    "    def predict(self, input_vector):\n",
    "        layer_1 = np.dot(input_vector, self.weights) + self.bias\n",
    "        layer_2 = self._sigmoid(layer_1)\n",
    "        prediction = layer_2\n",
    "        return prediction\n",
    "\n",
    "    def _compute_gradients(self, input_vector, target):\n",
    "        layer_1 = np.dot(input_vector, self.weights) + self.bias\n",
    "        layer_2 = self._sigmoid(layer_1)\n",
    "        prediction = layer_2\n",
    "\n",
    "        derror_dprediction = 2 * (prediction - target)\n",
    "        dprediction_dlayer1 = self._sigmoid_deriv(layer_1)\n",
    "        dlayer1_dbias = 1\n",
    "        dlayer1_dweights = (0 * self.weights) + (1 * input_vector)\n",
    "\n",
    "        derror_dbias = derror_dprediction * dprediction_dlayer1 * dlayer1_dbias\n",
    "        derror_dweights = derror_dprediction * dprediction_dlayer1 * dlayer1_dweights\n",
    "\n",
    "        return derror_dbias, derror_dweights\n",
    "\n",
    "    def _update_parameters(self, derror_dbias, derror_dweights):\n",
    "        self.bias = self.bias - (derror_dbias * self.learning_rate)\n",
    "        self.weights = self.weights - (derror_dweights * self.learning_rate)\n",
    "\n",
    "    # Scelta di __next__ al posto del classico train\n",
    "    # per necessità espositive\n",
    "\n",
    "    def __next__(self):\n",
    "\n",
    "        random_data_index = np.random.randint(len(self.input_vectors))\n",
    "\n",
    "        input_vector = self.input_vectors[random_data_index]\n",
    "\n",
    "        target = self.targets[random_data_index]\n",
    "\n",
    "        derror_dbias, derror_dweights = self._compute_gradients(input_vector, target)\n",
    "\n",
    "        self._update_parameters(derror_dbias, derror_dweights)\n",
    "\n",
    "        prediction = self.predict(input_vector)\n",
    "\n",
    "        self.error = np.square(prediction - target)\n",
    "\n",
    "        return self.error"
   ]
  },
  {
   "cell_type": "code",
   "execution_count": 34,
   "id": "fb4e101e",
   "metadata": {},
   "outputs": [
    {
     "data": {
      "application/javascript": [
       "\n",
       "            setTimeout(function() {\n",
       "                var nbb_cell_id = 34;\n",
       "                var nbb_unformatted_code = \"nnet = NeuralNetwork(X, y, 0.001)\";\n",
       "                var nbb_formatted_code = \"nnet = NeuralNetwork(X, y, 0.001)\";\n",
       "                var nbb_cells = Jupyter.notebook.get_cells();\n",
       "                for (var i = 0; i < nbb_cells.length; ++i) {\n",
       "                    if (nbb_cells[i].input_prompt_number == nbb_cell_id) {\n",
       "                        if (nbb_cells[i].get_text() == nbb_unformatted_code) {\n",
       "                             nbb_cells[i].set_text(nbb_formatted_code);\n",
       "                        }\n",
       "                        break;\n",
       "                    }\n",
       "                }\n",
       "            }, 500);\n",
       "            "
      ],
      "text/plain": [
       "<IPython.core.display.Javascript object>"
      ]
     },
     "metadata": {},
     "output_type": "display_data"
    }
   ],
   "source": [
    "nnet = NeuralNetwork(X, y, 0.001)"
   ]
  },
  {
   "cell_type": "code",
   "execution_count": 35,
   "id": "e67f2f6d",
   "metadata": {},
   "outputs": [
    {
     "data": {
      "application/javascript": [
       "\n",
       "            setTimeout(function() {\n",
       "                var nbb_cell_id = 35;\n",
       "                var nbb_unformatted_code = \"for i in range(10000):\\n    next(nnet)\";\n",
       "                var nbb_formatted_code = \"for i in range(10000):\\n    next(nnet)\";\n",
       "                var nbb_cells = Jupyter.notebook.get_cells();\n",
       "                for (var i = 0; i < nbb_cells.length; ++i) {\n",
       "                    if (nbb_cells[i].input_prompt_number == nbb_cell_id) {\n",
       "                        if (nbb_cells[i].get_text() == nbb_unformatted_code) {\n",
       "                             nbb_cells[i].set_text(nbb_formatted_code);\n",
       "                        }\n",
       "                        break;\n",
       "                    }\n",
       "                }\n",
       "            }, 500);\n",
       "            "
      ],
      "text/plain": [
       "<IPython.core.display.Javascript object>"
      ]
     },
     "metadata": {},
     "output_type": "display_data"
    }
   ],
   "source": [
    "for i in range(10000):\n",
    "    next(nnet)"
   ]
  },
  {
   "cell_type": "code",
   "execution_count": 36,
   "id": "4078ff29",
   "metadata": {},
   "outputs": [
    {
     "data": {
      "text/plain": [
       "0.012550321538507526"
      ]
     },
     "execution_count": 36,
     "metadata": {},
     "output_type": "execute_result"
    },
    {
     "data": {
      "application/javascript": [
       "\n",
       "            setTimeout(function() {\n",
       "                var nbb_cell_id = 36;\n",
       "                var nbb_unformatted_code = \"nnet.error\";\n",
       "                var nbb_formatted_code = \"nnet.error\";\n",
       "                var nbb_cells = Jupyter.notebook.get_cells();\n",
       "                for (var i = 0; i < nbb_cells.length; ++i) {\n",
       "                    if (nbb_cells[i].input_prompt_number == nbb_cell_id) {\n",
       "                        if (nbb_cells[i].get_text() == nbb_unformatted_code) {\n",
       "                             nbb_cells[i].set_text(nbb_formatted_code);\n",
       "                        }\n",
       "                        break;\n",
       "                    }\n",
       "                }\n",
       "            }, 500);\n",
       "            "
      ],
      "text/plain": [
       "<IPython.core.display.Javascript object>"
      ]
     },
     "metadata": {},
     "output_type": "display_data"
    }
   ],
   "source": [
    "nnet.error"
   ]
  },
  {
   "cell_type": "markdown",
   "id": "cc4bc194",
   "metadata": {},
   "source": [
    "## TensorFlow e Keras"
   ]
  },
  {
   "cell_type": "markdown",
   "id": "316c15fe",
   "metadata": {},
   "source": [
    "### Installazione"
   ]
  },
  {
   "cell_type": "code",
   "execution_count": 37,
   "id": "04997b93",
   "metadata": {},
   "outputs": [
    {
     "data": {
      "application/javascript": [
       "\n",
       "            setTimeout(function() {\n",
       "                var nbb_cell_id = 37;\n",
       "                var nbb_unformatted_code = \"# !pip install tensorflow\";\n",
       "                var nbb_formatted_code = \"# !pip install tensorflow\";\n",
       "                var nbb_cells = Jupyter.notebook.get_cells();\n",
       "                for (var i = 0; i < nbb_cells.length; ++i) {\n",
       "                    if (nbb_cells[i].input_prompt_number == nbb_cell_id) {\n",
       "                        if (nbb_cells[i].get_text() == nbb_unformatted_code) {\n",
       "                             nbb_cells[i].set_text(nbb_formatted_code);\n",
       "                        }\n",
       "                        break;\n",
       "                    }\n",
       "                }\n",
       "            }, 500);\n",
       "            "
      ],
      "text/plain": [
       "<IPython.core.display.Javascript object>"
      ]
     },
     "metadata": {},
     "output_type": "display_data"
    }
   ],
   "source": [
    "# !pip install tensorflow"
   ]
  },
  {
   "cell_type": "code",
   "execution_count": 38,
   "id": "770aec2d",
   "metadata": {},
   "outputs": [
    {
     "name": "stderr",
     "output_type": "stream",
     "text": [
      "Using TensorFlow backend.\n"
     ]
    },
    {
     "data": {
      "application/javascript": [
       "\n",
       "            setTimeout(function() {\n",
       "                var nbb_cell_id = 38;\n",
       "                var nbb_unformatted_code = \"from tensorflow import keras\\n\\nfrom keras import Sequential, Input\\nfrom keras.layers import Dense, Dropout\\nfrom keras.optimizers import Adam\\nfrom keras.utils import to_categorical\";\n",
       "                var nbb_formatted_code = \"from tensorflow import keras\\n\\nfrom keras import Sequential, Input\\nfrom keras.layers import Dense, Dropout\\nfrom keras.optimizers import Adam\\nfrom keras.utils import to_categorical\";\n",
       "                var nbb_cells = Jupyter.notebook.get_cells();\n",
       "                for (var i = 0; i < nbb_cells.length; ++i) {\n",
       "                    if (nbb_cells[i].input_prompt_number == nbb_cell_id) {\n",
       "                        if (nbb_cells[i].get_text() == nbb_unformatted_code) {\n",
       "                             nbb_cells[i].set_text(nbb_formatted_code);\n",
       "                        }\n",
       "                        break;\n",
       "                    }\n",
       "                }\n",
       "            }, 500);\n",
       "            "
      ],
      "text/plain": [
       "<IPython.core.display.Javascript object>"
      ]
     },
     "metadata": {},
     "output_type": "display_data"
    }
   ],
   "source": [
    "from tensorflow import keras\n",
    "\n",
    "from keras import Sequential, Input\n",
    "from keras.layers import Dense, Dropout\n",
    "from keras.optimizers import Adam\n",
    "from keras.utils import to_categorical"
   ]
  },
  {
   "cell_type": "code",
   "execution_count": 39,
   "id": "a36c195a",
   "metadata": {},
   "outputs": [
    {
     "data": {
      "application/javascript": [
       "\n",
       "            setTimeout(function() {\n",
       "                var nbb_cell_id = 39;\n",
       "                var nbb_unformatted_code = \"from sklearn.preprocessing import StandardScaler\";\n",
       "                var nbb_formatted_code = \"from sklearn.preprocessing import StandardScaler\";\n",
       "                var nbb_cells = Jupyter.notebook.get_cells();\n",
       "                for (var i = 0; i < nbb_cells.length; ++i) {\n",
       "                    if (nbb_cells[i].input_prompt_number == nbb_cell_id) {\n",
       "                        if (nbb_cells[i].get_text() == nbb_unformatted_code) {\n",
       "                             nbb_cells[i].set_text(nbb_formatted_code);\n",
       "                        }\n",
       "                        break;\n",
       "                    }\n",
       "                }\n",
       "            }, 500);\n",
       "            "
      ],
      "text/plain": [
       "<IPython.core.display.Javascript object>"
      ]
     },
     "metadata": {},
     "output_type": "display_data"
    }
   ],
   "source": [
    "from sklearn.preprocessing import StandardScaler"
   ]
  },
  {
   "cell_type": "code",
   "execution_count": 40,
   "id": "16a7fbe6",
   "metadata": {},
   "outputs": [
    {
     "data": {
      "application/javascript": [
       "\n",
       "            setTimeout(function() {\n",
       "                var nbb_cell_id = 40;\n",
       "                var nbb_unformatted_code = \"scaler = StandardScaler()\";\n",
       "                var nbb_formatted_code = \"scaler = StandardScaler()\";\n",
       "                var nbb_cells = Jupyter.notebook.get_cells();\n",
       "                for (var i = 0; i < nbb_cells.length; ++i) {\n",
       "                    if (nbb_cells[i].input_prompt_number == nbb_cell_id) {\n",
       "                        if (nbb_cells[i].get_text() == nbb_unformatted_code) {\n",
       "                             nbb_cells[i].set_text(nbb_formatted_code);\n",
       "                        }\n",
       "                        break;\n",
       "                    }\n",
       "                }\n",
       "            }, 500);\n",
       "            "
      ],
      "text/plain": [
       "<IPython.core.display.Javascript object>"
      ]
     },
     "metadata": {},
     "output_type": "display_data"
    }
   ],
   "source": [
    "scaler = StandardScaler()"
   ]
  },
  {
   "cell_type": "code",
   "execution_count": 41,
   "id": "56c0bf10",
   "metadata": {},
   "outputs": [
    {
     "data": {
      "application/javascript": [
       "\n",
       "            setTimeout(function() {\n",
       "                var nbb_cell_id = 41;\n",
       "                var nbb_unformatted_code = \"X = scaler.fit_transform(X)\";\n",
       "                var nbb_formatted_code = \"X = scaler.fit_transform(X)\";\n",
       "                var nbb_cells = Jupyter.notebook.get_cells();\n",
       "                for (var i = 0; i < nbb_cells.length; ++i) {\n",
       "                    if (nbb_cells[i].input_prompt_number == nbb_cell_id) {\n",
       "                        if (nbb_cells[i].get_text() == nbb_unformatted_code) {\n",
       "                             nbb_cells[i].set_text(nbb_formatted_code);\n",
       "                        }\n",
       "                        break;\n",
       "                    }\n",
       "                }\n",
       "            }, 500);\n",
       "            "
      ],
      "text/plain": [
       "<IPython.core.display.Javascript object>"
      ]
     },
     "metadata": {},
     "output_type": "display_data"
    }
   ],
   "source": [
    "X = scaler.fit_transform(X)"
   ]
  },
  {
   "cell_type": "code",
   "execution_count": 42,
   "id": "1365298f",
   "metadata": {},
   "outputs": [
    {
     "data": {
      "application/javascript": [
       "\n",
       "            setTimeout(function() {\n",
       "                var nbb_cell_id = 42;\n",
       "                var nbb_unformatted_code = \"y = to_categorical(y)\";\n",
       "                var nbb_formatted_code = \"y = to_categorical(y)\";\n",
       "                var nbb_cells = Jupyter.notebook.get_cells();\n",
       "                for (var i = 0; i < nbb_cells.length; ++i) {\n",
       "                    if (nbb_cells[i].input_prompt_number == nbb_cell_id) {\n",
       "                        if (nbb_cells[i].get_text() == nbb_unformatted_code) {\n",
       "                             nbb_cells[i].set_text(nbb_formatted_code);\n",
       "                        }\n",
       "                        break;\n",
       "                    }\n",
       "                }\n",
       "            }, 500);\n",
       "            "
      ],
      "text/plain": [
       "<IPython.core.display.Javascript object>"
      ]
     },
     "metadata": {},
     "output_type": "display_data"
    }
   ],
   "source": [
    "y = to_categorical(y)"
   ]
  },
  {
   "cell_type": "code",
   "execution_count": 43,
   "id": "43a3eef1",
   "metadata": {},
   "outputs": [
    {
     "data": {
      "application/javascript": [
       "\n",
       "            setTimeout(function() {\n",
       "                var nbb_cell_id = 43;\n",
       "                var nbb_unformatted_code = \"model = Sequential()\\nmodel.add(Dense(units=16, activation=\\\"linear\\\", input_shape=(4,)))\\nmodel.add(Dropout(0.2))\\nmodel.add(Dense(units=2, activation=\\\"sigmoid\\\"))\";\n",
       "                var nbb_formatted_code = \"model = Sequential()\\nmodel.add(Dense(units=16, activation=\\\"linear\\\", input_shape=(4,)))\\nmodel.add(Dropout(0.2))\\nmodel.add(Dense(units=2, activation=\\\"sigmoid\\\"))\";\n",
       "                var nbb_cells = Jupyter.notebook.get_cells();\n",
       "                for (var i = 0; i < nbb_cells.length; ++i) {\n",
       "                    if (nbb_cells[i].input_prompt_number == nbb_cell_id) {\n",
       "                        if (nbb_cells[i].get_text() == nbb_unformatted_code) {\n",
       "                             nbb_cells[i].set_text(nbb_formatted_code);\n",
       "                        }\n",
       "                        break;\n",
       "                    }\n",
       "                }\n",
       "            }, 500);\n",
       "            "
      ],
      "text/plain": [
       "<IPython.core.display.Javascript object>"
      ]
     },
     "metadata": {},
     "output_type": "display_data"
    }
   ],
   "source": [
    "model = Sequential()\n",
    "model.add(Dense(units=16, activation=\"linear\", input_shape=(4,)))\n",
    "model.add(Dropout(0.2))\n",
    "model.add(Dense(units=2, activation=\"sigmoid\"))"
   ]
  },
  {
   "cell_type": "code",
   "execution_count": 44,
   "id": "db8acf72",
   "metadata": {},
   "outputs": [
    {
     "name": "stdout",
     "output_type": "stream",
     "text": [
      "Model: \"sequential_1\"\n",
      "_________________________________________________________________\n",
      "Layer (type)                 Output Shape              Param #   \n",
      "=================================================================\n",
      "dense_1 (Dense)              (None, 16)                80        \n",
      "_________________________________________________________________\n",
      "dropout_1 (Dropout)          (None, 16)                0         \n",
      "_________________________________________________________________\n",
      "dense_2 (Dense)              (None, 2)                 34        \n",
      "=================================================================\n",
      "Total params: 114\n",
      "Trainable params: 114\n",
      "Non-trainable params: 0\n",
      "_________________________________________________________________\n"
     ]
    },
    {
     "data": {
      "application/javascript": [
       "\n",
       "            setTimeout(function() {\n",
       "                var nbb_cell_id = 44;\n",
       "                var nbb_unformatted_code = \"model.summary()\";\n",
       "                var nbb_formatted_code = \"model.summary()\";\n",
       "                var nbb_cells = Jupyter.notebook.get_cells();\n",
       "                for (var i = 0; i < nbb_cells.length; ++i) {\n",
       "                    if (nbb_cells[i].input_prompt_number == nbb_cell_id) {\n",
       "                        if (nbb_cells[i].get_text() == nbb_unformatted_code) {\n",
       "                             nbb_cells[i].set_text(nbb_formatted_code);\n",
       "                        }\n",
       "                        break;\n",
       "                    }\n",
       "                }\n",
       "            }, 500);\n",
       "            "
      ],
      "text/plain": [
       "<IPython.core.display.Javascript object>"
      ]
     },
     "metadata": {},
     "output_type": "display_data"
    }
   ],
   "source": [
    "model.summary()"
   ]
  },
  {
   "cell_type": "code",
   "execution_count": 45,
   "id": "6eb7f6fb",
   "metadata": {},
   "outputs": [
    {
     "data": {
      "application/javascript": [
       "\n",
       "            setTimeout(function() {\n",
       "                var nbb_cell_id = 45;\n",
       "                var nbb_unformatted_code = \"model.compile(optimizer=Adam(), loss=\\\"binary_crossentropy\\\", metrics=[\\\"accuracy\\\"])\";\n",
       "                var nbb_formatted_code = \"model.compile(optimizer=Adam(), loss=\\\"binary_crossentropy\\\", metrics=[\\\"accuracy\\\"])\";\n",
       "                var nbb_cells = Jupyter.notebook.get_cells();\n",
       "                for (var i = 0; i < nbb_cells.length; ++i) {\n",
       "                    if (nbb_cells[i].input_prompt_number == nbb_cell_id) {\n",
       "                        if (nbb_cells[i].get_text() == nbb_unformatted_code) {\n",
       "                             nbb_cells[i].set_text(nbb_formatted_code);\n",
       "                        }\n",
       "                        break;\n",
       "                    }\n",
       "                }\n",
       "            }, 500);\n",
       "            "
      ],
      "text/plain": [
       "<IPython.core.display.Javascript object>"
      ]
     },
     "metadata": {},
     "output_type": "display_data"
    }
   ],
   "source": [
    "model.compile(optimizer=Adam(), loss=\"binary_crossentropy\", metrics=[\"accuracy\"])"
   ]
  },
  {
   "cell_type": "code",
   "execution_count": 49,
   "id": "e30ff92b",
   "metadata": {},
   "outputs": [
    {
     "name": "stdout",
     "output_type": "stream",
     "text": [
      "Train on 120 samples, validate on 30 samples\n",
      "Epoch 1/100\n",
      "120/120 [==============================] - 1s 8ms/step - loss: 0.7267 - accuracy: 0.4792 - val_loss: 0.7604 - val_accuracy: 0.3667\n",
      "Epoch 2/100\n",
      "120/120 [==============================] - 0s 579us/step - loss: 0.7067 - accuracy: 0.4750 - val_loss: 0.7230 - val_accuracy: 0.4167\n",
      "Epoch 3/100\n",
      "120/120 [==============================] - 0s 666us/step - loss: 0.6446 - accuracy: 0.5625 - val_loss: 0.6867 - val_accuracy: 0.4500\n",
      "Epoch 4/100\n",
      "120/120 [==============================] - 0s 647us/step - loss: 0.6472 - accuracy: 0.5417 - val_loss: 0.6518 - val_accuracy: 0.5500\n",
      "Epoch 5/100\n",
      "120/120 [==============================] - 0s 407us/step - loss: 0.6263 - accuracy: 0.5667 - val_loss: 0.6171 - val_accuracy: 0.6000\n",
      "Epoch 6/100\n",
      "120/120 [==============================] - 0s 534us/step - loss: 0.5864 - accuracy: 0.6500 - val_loss: 0.5843 - val_accuracy: 0.6333\n",
      "Epoch 7/100\n",
      "120/120 [==============================] - 0s 543us/step - loss: 0.5416 - accuracy: 0.7042 - val_loss: 0.5535 - val_accuracy: 0.7333\n",
      "Epoch 8/100\n",
      "120/120 [==============================] - 0s 561us/step - loss: 0.5368 - accuracy: 0.7042 - val_loss: 0.5234 - val_accuracy: 0.8333\n",
      "Epoch 9/100\n",
      "120/120 [==============================] - 0s 408us/step - loss: 0.5066 - accuracy: 0.7917 - val_loss: 0.4951 - val_accuracy: 0.8833\n",
      "Epoch 10/100\n",
      "120/120 [==============================] - 0s 319us/step - loss: 0.4891 - accuracy: 0.8375 - val_loss: 0.4673 - val_accuracy: 0.9500\n",
      "Epoch 11/100\n",
      "120/120 [==============================] - 0s 528us/step - loss: 0.4587 - accuracy: 0.8708 - val_loss: 0.4409 - val_accuracy: 0.9667\n",
      "Epoch 12/100\n",
      "120/120 [==============================] - 0s 530us/step - loss: 0.4319 - accuracy: 0.9417 - val_loss: 0.4157 - val_accuracy: 0.9833\n",
      "Epoch 13/100\n",
      "120/120 [==============================] - 0s 498us/step - loss: 0.4272 - accuracy: 0.9333 - val_loss: 0.3917 - val_accuracy: 0.9833\n",
      "Epoch 14/100\n",
      "120/120 [==============================] - 0s 444us/step - loss: 0.4047 - accuracy: 0.9292 - val_loss: 0.3686 - val_accuracy: 0.9833\n",
      "Epoch 15/100\n",
      "120/120 [==============================] - 0s 308us/step - loss: 0.3918 - accuracy: 0.9708 - val_loss: 0.3465 - val_accuracy: 1.0000\n",
      "Epoch 16/100\n",
      "120/120 [==============================] - 0s 336us/step - loss: 0.3563 - accuracy: 0.9667 - val_loss: 0.3256 - val_accuracy: 1.0000\n",
      "Epoch 17/100\n",
      "120/120 [==============================] - 0s 330us/step - loss: 0.3478 - accuracy: 0.9833 - val_loss: 0.3058 - val_accuracy: 1.0000\n",
      "Epoch 18/100\n",
      "120/120 [==============================] - 0s 408us/step - loss: 0.3317 - accuracy: 0.9708 - val_loss: 0.2873 - val_accuracy: 1.0000\n",
      "Epoch 19/100\n",
      "120/120 [==============================] - 0s 220us/step - loss: 0.3124 - accuracy: 0.9917 - val_loss: 0.2699 - val_accuracy: 1.0000\n",
      "Epoch 20/100\n",
      "120/120 [==============================] - 0s 480us/step - loss: 0.3043 - accuracy: 0.9833 - val_loss: 0.2530 - val_accuracy: 1.0000\n",
      "Epoch 21/100\n",
      "120/120 [==============================] - 0s 357us/step - loss: 0.2940 - accuracy: 0.9875 - val_loss: 0.2373 - val_accuracy: 1.0000\n",
      "Epoch 22/100\n",
      "120/120 [==============================] - 0s 359us/step - loss: 0.2736 - accuracy: 0.9917 - val_loss: 0.2228 - val_accuracy: 1.0000\n",
      "Epoch 23/100\n",
      "120/120 [==============================] - 0s 276us/step - loss: 0.2797 - accuracy: 0.9792 - val_loss: 0.2089 - val_accuracy: 1.0000\n",
      "Epoch 24/100\n",
      "120/120 [==============================] - 0s 356us/step - loss: 0.2495 - accuracy: 0.9917 - val_loss: 0.1958 - val_accuracy: 1.0000\n",
      "Epoch 25/100\n",
      "120/120 [==============================] - 0s 329us/step - loss: 0.2368 - accuracy: 0.9917 - val_loss: 0.1836 - val_accuracy: 1.0000\n",
      "Epoch 26/100\n",
      "120/120 [==============================] - 0s 413us/step - loss: 0.2330 - accuracy: 0.9958 - val_loss: 0.1720 - val_accuracy: 1.0000\n",
      "Epoch 27/100\n",
      "120/120 [==============================] - 0s 396us/step - loss: 0.2181 - accuracy: 0.9958 - val_loss: 0.1610 - val_accuracy: 1.0000\n",
      "Epoch 28/100\n",
      "120/120 [==============================] - 0s 329us/step - loss: 0.2109 - accuracy: 0.9917 - val_loss: 0.1509 - val_accuracy: 1.0000\n",
      "Epoch 29/100\n",
      "120/120 [==============================] - 0s 450us/step - loss: 0.2054 - accuracy: 0.9917 - val_loss: 0.1414 - val_accuracy: 1.0000\n",
      "Epoch 30/100\n",
      "120/120 [==============================] - 0s 503us/step - loss: 0.2003 - accuracy: 0.9958 - val_loss: 0.1326 - val_accuracy: 1.0000\n",
      "Epoch 31/100\n",
      "120/120 [==============================] - 0s 510us/step - loss: 0.1980 - accuracy: 0.9958 - val_loss: 0.1242 - val_accuracy: 1.0000\n",
      "Epoch 32/100\n",
      "120/120 [==============================] - 0s 418us/step - loss: 0.1774 - accuracy: 0.9917 - val_loss: 0.1163 - val_accuracy: 1.0000\n",
      "Epoch 33/100\n",
      "120/120 [==============================] - 0s 620us/step - loss: 0.1741 - accuracy: 0.9958 - val_loss: 0.1090 - val_accuracy: 1.0000\n",
      "Epoch 34/100\n",
      "120/120 [==============================] - 0s 511us/step - loss: 0.1672 - accuracy: 1.0000 - val_loss: 0.1022 - val_accuracy: 1.0000\n",
      "Epoch 35/100\n",
      "120/120 [==============================] - 0s 333us/step - loss: 0.1572 - accuracy: 0.9917 - val_loss: 0.0960 - val_accuracy: 1.0000\n",
      "Epoch 36/100\n",
      "120/120 [==============================] - 0s 358us/step - loss: 0.1542 - accuracy: 0.9917 - val_loss: 0.0901 - val_accuracy: 1.0000\n",
      "Epoch 37/100\n",
      "120/120 [==============================] - 0s 345us/step - loss: 0.1521 - accuracy: 0.9958 - val_loss: 0.0846 - val_accuracy: 1.0000\n",
      "Epoch 38/100\n",
      "120/120 [==============================] - 0s 464us/step - loss: 0.1278 - accuracy: 1.0000 - val_loss: 0.0795 - val_accuracy: 1.0000\n",
      "Epoch 39/100\n",
      "120/120 [==============================] - 0s 469us/step - loss: 0.1412 - accuracy: 0.9917 - val_loss: 0.0747 - val_accuracy: 1.0000\n",
      "Epoch 40/100\n",
      "120/120 [==============================] - 0s 442us/step - loss: 0.1348 - accuracy: 0.9917 - val_loss: 0.0703 - val_accuracy: 1.0000\n",
      "Epoch 41/100\n",
      "120/120 [==============================] - 0s 316us/step - loss: 0.1206 - accuracy: 1.0000 - val_loss: 0.0662 - val_accuracy: 1.0000\n",
      "Epoch 42/100\n",
      "120/120 [==============================] - 0s 514us/step - loss: 0.1182 - accuracy: 1.0000 - val_loss: 0.0623 - val_accuracy: 1.0000\n",
      "Epoch 43/100\n",
      "120/120 [==============================] - 0s 316us/step - loss: 0.1245 - accuracy: 0.9917 - val_loss: 0.0586 - val_accuracy: 1.0000\n",
      "Epoch 44/100\n",
      "120/120 [==============================] - 0s 622us/step - loss: 0.1127 - accuracy: 1.0000 - val_loss: 0.0552 - val_accuracy: 1.0000\n",
      "Epoch 45/100\n",
      "120/120 [==============================] - 0s 347us/step - loss: 0.1051 - accuracy: 1.0000 - val_loss: 0.0520 - val_accuracy: 1.0000\n",
      "Epoch 46/100\n",
      "120/120 [==============================] - 0s 227us/step - loss: 0.1060 - accuracy: 0.9958 - val_loss: 0.0490 - val_accuracy: 1.0000\n",
      "Epoch 47/100\n",
      "120/120 [==============================] - 0s 259us/step - loss: 0.1056 - accuracy: 0.9917 - val_loss: 0.0463 - val_accuracy: 1.0000\n",
      "Epoch 48/100\n",
      "120/120 [==============================] - 0s 291us/step - loss: 0.0965 - accuracy: 0.9958 - val_loss: 0.0437 - val_accuracy: 1.0000\n",
      "Epoch 49/100\n",
      "120/120 [==============================] - 0s 301us/step - loss: 0.0940 - accuracy: 1.0000 - val_loss: 0.0413 - val_accuracy: 1.0000\n",
      "Epoch 50/100\n",
      "120/120 [==============================] - 0s 362us/step - loss: 0.0938 - accuracy: 1.0000 - val_loss: 0.0391 - val_accuracy: 1.0000\n",
      "Epoch 51/100\n",
      "120/120 [==============================] - 0s 273us/step - loss: 0.0896 - accuracy: 0.9958 - val_loss: 0.0370 - val_accuracy: 1.0000\n",
      "Epoch 52/100\n",
      "120/120 [==============================] - 0s 318us/step - loss: 0.0800 - accuracy: 1.0000 - val_loss: 0.0350 - val_accuracy: 1.0000\n",
      "Epoch 53/100\n",
      "120/120 [==============================] - 0s 427us/step - loss: 0.0848 - accuracy: 1.0000 - val_loss: 0.0331 - val_accuracy: 1.0000\n",
      "Epoch 54/100\n",
      "120/120 [==============================] - 0s 345us/step - loss: 0.0861 - accuracy: 0.9917 - val_loss: 0.0314 - val_accuracy: 1.0000\n",
      "Epoch 55/100\n",
      "120/120 [==============================] - 0s 290us/step - loss: 0.0790 - accuracy: 0.9917 - val_loss: 0.0298 - val_accuracy: 1.0000\n",
      "Epoch 56/100\n",
      "120/120 [==============================] - 0s 314us/step - loss: 0.0744 - accuracy: 1.0000 - val_loss: 0.0282 - val_accuracy: 1.0000\n"
     ]
    },
    {
     "name": "stdout",
     "output_type": "stream",
     "text": [
      "Epoch 57/100\n",
      "120/120 [==============================] - 0s 409us/step - loss: 0.0748 - accuracy: 1.0000 - val_loss: 0.0268 - val_accuracy: 1.0000\n",
      "Epoch 58/100\n",
      "120/120 [==============================] - 0s 376us/step - loss: 0.0659 - accuracy: 1.0000 - val_loss: 0.0255 - val_accuracy: 1.0000\n",
      "Epoch 59/100\n",
      "120/120 [==============================] - 0s 356us/step - loss: 0.0635 - accuracy: 1.0000 - val_loss: 0.0242 - val_accuracy: 1.0000\n",
      "Epoch 60/100\n",
      "120/120 [==============================] - 0s 261us/step - loss: 0.0626 - accuracy: 1.0000 - val_loss: 0.0231 - val_accuracy: 1.0000\n",
      "Epoch 61/100\n",
      "120/120 [==============================] - 0s 313us/step - loss: 0.0634 - accuracy: 1.0000 - val_loss: 0.0220 - val_accuracy: 1.0000\n",
      "Epoch 62/100\n",
      "120/120 [==============================] - 0s 255us/step - loss: 0.0616 - accuracy: 1.0000 - val_loss: 0.0210 - val_accuracy: 1.0000\n",
      "Epoch 63/100\n",
      "120/120 [==============================] - 0s 282us/step - loss: 0.0631 - accuracy: 1.0000 - val_loss: 0.0200 - val_accuracy: 1.0000\n",
      "Epoch 64/100\n",
      "120/120 [==============================] - 0s 207us/step - loss: 0.0653 - accuracy: 1.0000 - val_loss: 0.0190 - val_accuracy: 1.0000\n",
      "Epoch 65/100\n",
      "120/120 [==============================] - 0s 334us/step - loss: 0.0604 - accuracy: 0.9958 - val_loss: 0.0181 - val_accuracy: 1.0000\n",
      "Epoch 66/100\n",
      "120/120 [==============================] - 0s 581us/step - loss: 0.0544 - accuracy: 1.0000 - val_loss: 0.0173 - val_accuracy: 1.0000\n",
      "Epoch 67/100\n",
      "120/120 [==============================] - 0s 465us/step - loss: 0.0571 - accuracy: 0.9958 - val_loss: 0.0165 - val_accuracy: 1.0000\n",
      "Epoch 68/100\n",
      "120/120 [==============================] - 0s 345us/step - loss: 0.0600 - accuracy: 0.9958 - val_loss: 0.0158 - val_accuracy: 1.0000\n",
      "Epoch 69/100\n",
      "120/120 [==============================] - 0s 544us/step - loss: 0.0517 - accuracy: 1.0000 - val_loss: 0.0150 - val_accuracy: 1.0000\n",
      "Epoch 70/100\n",
      "120/120 [==============================] - 0s 455us/step - loss: 0.0570 - accuracy: 0.9958 - val_loss: 0.0143 - val_accuracy: 1.0000\n",
      "Epoch 71/100\n",
      "120/120 [==============================] - 0s 393us/step - loss: 0.0461 - accuracy: 1.0000 - val_loss: 0.0137 - val_accuracy: 1.0000\n",
      "Epoch 72/100\n",
      "120/120 [==============================] - 0s 484us/step - loss: 0.0469 - accuracy: 1.0000 - val_loss: 0.0131 - val_accuracy: 1.0000\n",
      "Epoch 73/100\n",
      "120/120 [==============================] - 0s 599us/step - loss: 0.0526 - accuracy: 1.0000 - val_loss: 0.0125 - val_accuracy: 1.0000\n",
      "Epoch 74/100\n",
      "120/120 [==============================] - 0s 739us/step - loss: 0.0476 - accuracy: 1.0000 - val_loss: 0.0119 - val_accuracy: 1.0000\n",
      "Epoch 75/100\n",
      "120/120 [==============================] - 0s 559us/step - loss: 0.0420 - accuracy: 1.0000 - val_loss: 0.0114 - val_accuracy: 1.0000\n",
      "Epoch 76/100\n",
      "120/120 [==============================] - 0s 611us/step - loss: 0.0473 - accuracy: 1.0000 - val_loss: 0.0109 - val_accuracy: 1.0000\n",
      "Epoch 77/100\n",
      "120/120 [==============================] - 0s 383us/step - loss: 0.0419 - accuracy: 1.0000 - val_loss: 0.0105 - val_accuracy: 1.0000\n",
      "Epoch 78/100\n",
      "120/120 [==============================] - 0s 687us/step - loss: 0.0439 - accuracy: 0.9917 - val_loss: 0.0100 - val_accuracy: 1.0000\n",
      "Epoch 79/100\n",
      "120/120 [==============================] - 0s 188us/step - loss: 0.0401 - accuracy: 0.9958 - val_loss: 0.0096 - val_accuracy: 1.0000\n",
      "Epoch 80/100\n",
      "120/120 [==============================] - 0s 255us/step - loss: 0.0398 - accuracy: 1.0000 - val_loss: 0.0092 - val_accuracy: 1.0000\n",
      "Epoch 81/100\n",
      "120/120 [==============================] - 0s 317us/step - loss: 0.0363 - accuracy: 1.0000 - val_loss: 0.0089 - val_accuracy: 1.0000\n",
      "Epoch 82/100\n",
      "120/120 [==============================] - 0s 429us/step - loss: 0.0389 - accuracy: 1.0000 - val_loss: 0.0085 - val_accuracy: 1.0000\n",
      "Epoch 83/100\n",
      "120/120 [==============================] - 0s 339us/step - loss: 0.0351 - accuracy: 1.0000 - val_loss: 0.0082 - val_accuracy: 1.0000\n",
      "Epoch 84/100\n",
      "120/120 [==============================] - 0s 261us/step - loss: 0.0390 - accuracy: 1.0000 - val_loss: 0.0078 - val_accuracy: 1.0000\n",
      "Epoch 85/100\n",
      "120/120 [==============================] - 0s 160us/step - loss: 0.0388 - accuracy: 1.0000 - val_loss: 0.0075 - val_accuracy: 1.0000\n",
      "Epoch 86/100\n",
      "120/120 [==============================] - 0s 661us/step - loss: 0.0424 - accuracy: 0.9958 - val_loss: 0.0072 - val_accuracy: 1.0000\n",
      "Epoch 87/100\n",
      "120/120 [==============================] - 0s 330us/step - loss: 0.0336 - accuracy: 1.0000 - val_loss: 0.0069 - val_accuracy: 1.0000\n",
      "Epoch 88/100\n",
      "120/120 [==============================] - 0s 336us/step - loss: 0.0362 - accuracy: 1.0000 - val_loss: 0.0067 - val_accuracy: 1.0000\n",
      "Epoch 89/100\n",
      "120/120 [==============================] - 0s 357us/step - loss: 0.0306 - accuracy: 1.0000 - val_loss: 0.0064 - val_accuracy: 1.0000\n",
      "Epoch 90/100\n",
      "120/120 [==============================] - 0s 216us/step - loss: 0.0320 - accuracy: 1.0000 - val_loss: 0.0062 - val_accuracy: 1.0000\n",
      "Epoch 91/100\n",
      "120/120 [==============================] - 0s 252us/step - loss: 0.0282 - accuracy: 1.0000 - val_loss: 0.0059 - val_accuracy: 1.0000\n",
      "Epoch 92/100\n",
      "120/120 [==============================] - 0s 273us/step - loss: 0.0304 - accuracy: 1.0000 - val_loss: 0.0057 - val_accuracy: 1.0000\n",
      "Epoch 93/100\n",
      "120/120 [==============================] - 0s 325us/step - loss: 0.0292 - accuracy: 1.0000 - val_loss: 0.0055 - val_accuracy: 1.0000\n",
      "Epoch 94/100\n",
      "120/120 [==============================] - 0s 270us/step - loss: 0.0337 - accuracy: 1.0000 - val_loss: 0.0053 - val_accuracy: 1.0000\n",
      "Epoch 95/100\n",
      "120/120 [==============================] - 0s 368us/step - loss: 0.0301 - accuracy: 1.0000 - val_loss: 0.0051 - val_accuracy: 1.0000\n",
      "Epoch 96/100\n",
      "120/120 [==============================] - 0s 323us/step - loss: 0.0306 - accuracy: 1.0000 - val_loss: 0.0049 - val_accuracy: 1.0000\n",
      "Epoch 97/100\n",
      "120/120 [==============================] - 0s 345us/step - loss: 0.0287 - accuracy: 1.0000 - val_loss: 0.0048 - val_accuracy: 1.0000\n",
      "Epoch 98/100\n",
      "120/120 [==============================] - 0s 257us/step - loss: 0.0277 - accuracy: 1.0000 - val_loss: 0.0046 - val_accuracy: 1.0000\n",
      "Epoch 99/100\n",
      "120/120 [==============================] - 0s 229us/step - loss: 0.0269 - accuracy: 1.0000 - val_loss: 0.0044 - val_accuracy: 1.0000\n",
      "Epoch 100/100\n",
      "120/120 [==============================] - 0s 362us/step - loss: 0.0290 - accuracy: 1.0000 - val_loss: 0.0043 - val_accuracy: 1.0000\n"
     ]
    },
    {
     "data": {
      "text/plain": [
       "<keras.callbacks.callbacks.History at 0x7f99ff072820>"
      ]
     },
     "execution_count": 49,
     "metadata": {},
     "output_type": "execute_result"
    },
    {
     "data": {
      "application/javascript": [
       "\n",
       "            setTimeout(function() {\n",
       "                var nbb_cell_id = 49;\n",
       "                var nbb_unformatted_code = \"model.fit(\\n    x=X, y=y, epochs=100, batch_size=25, validation_split=0.2)\";\n",
       "                var nbb_formatted_code = \"model.fit(x=X, y=y, epochs=100, batch_size=25, validation_split=0.2)\";\n",
       "                var nbb_cells = Jupyter.notebook.get_cells();\n",
       "                for (var i = 0; i < nbb_cells.length; ++i) {\n",
       "                    if (nbb_cells[i].input_prompt_number == nbb_cell_id) {\n",
       "                        if (nbb_cells[i].get_text() == nbb_unformatted_code) {\n",
       "                             nbb_cells[i].set_text(nbb_formatted_code);\n",
       "                        }\n",
       "                        break;\n",
       "                    }\n",
       "                }\n",
       "            }, 500);\n",
       "            "
      ],
      "text/plain": [
       "<IPython.core.display.Javascript object>"
      ]
     },
     "metadata": {},
     "output_type": "display_data"
    }
   ],
   "source": [
    "model.fit(x=X, y=y, epochs=100, batch_size=25, validation_split=0.2)"
   ]
  },
  {
   "cell_type": "code",
   "execution_count": 71,
   "id": "411a86e5",
   "metadata": {},
   "outputs": [
    {
     "data": {
      "image/png": "[encoded data removed]",
      "text/plain": [
       "<Figure size 432x288 with 1 Axes>"
      ]
     },
     "metadata": {
      "needs_background": "light"
     },
     "output_type": "display_data"
    },
    {
     "data": {
      "application/javascript": [
       "\n",
       "            setTimeout(function() {\n",
       "                var nbb_cell_id = 71;\n",
       "                var nbb_unformatted_code = \"from matplotlib import pyplot as plt\\n\\nplt.plot(model.history.history[\\\"accuracy\\\"])\\nplt.plot(model.history.history[\\\"val_accuracy\\\"])\\nplt.show()\";\n",
       "                var nbb_formatted_code = \"from matplotlib import pyplot as plt\\n\\nplt.plot(model.history.history[\\\"accuracy\\\"])\\nplt.plot(model.history.history[\\\"val_accuracy\\\"])\\nplt.show()\";\n",
       "                var nbb_cells = Jupyter.notebook.get_cells();\n",
       "                for (var i = 0; i < nbb_cells.length; ++i) {\n",
       "                    if (nbb_cells[i].input_prompt_number == nbb_cell_id) {\n",
       "                        if (nbb_cells[i].get_text() == nbb_unformatted_code) {\n",
       "                             nbb_cells[i].set_text(nbb_formatted_code);\n",
       "                        }\n",
       "                        break;\n",
       "                    }\n",
       "                }\n",
       "            }, 500);\n",
       "            "
      ],
      "text/plain": [
       "<IPython.core.display.Javascript object>"
      ]
     },
     "metadata": {},
     "output_type": "display_data"
    }
   ],
   "source": [
    "from matplotlib import pyplot as plt\n",
    "\n",
    "plt.plot(model.history.history[\"accuracy\"])\n",
    "plt.plot(model.history.history[\"val_accuracy\"])\n",
    "plt.show()"
   ]
  },
  {
   "cell_type": "code",
   "execution_count": null,
   "id": "d5b2b32d",
   "metadata": {},
   "outputs": [],
   "source": []
  },
  {
   "cell_type": "code",
   "execution_count": null,
   "id": "c8bf3938",
   "metadata": {},
   "outputs": [],
   "source": []
  },
  {
   "cell_type": "code",
   "execution_count": null,
   "id": "b6b4ceb1",
   "metadata": {},
   "outputs": [],
   "source": []
  },
  {
   "cell_type": "code",
   "execution_count": null,
   "id": "f3a8dedb",
   "metadata": {},
   "outputs": [],
   "source": []
  },
  {
   "cell_type": "code",
   "execution_count": null,
   "id": "b2b74642",
   "metadata": {},
   "outputs": [],
   "source": []
  },
  {
   "cell_type": "code",
   "execution_count": 46,
   "id": "dfd1805d",
   "metadata": {},
   "outputs": [
    {
     "data": {
      "text/plain": [
       "(150, 4)"
      ]
     },
     "execution_count": 46,
     "metadata": {},
     "output_type": "execute_result"
    },
    {
     "data": {
      "application/javascript": [
       "\n",
       "            setTimeout(function() {\n",
       "                var nbb_cell_id = 46;\n",
       "                var nbb_unformatted_code = \"X.shape\";\n",
       "                var nbb_formatted_code = \"X.shape\";\n",
       "                var nbb_cells = Jupyter.notebook.get_cells();\n",
       "                for (var i = 0; i < nbb_cells.length; ++i) {\n",
       "                    if (nbb_cells[i].input_prompt_number == nbb_cell_id) {\n",
       "                        if (nbb_cells[i].get_text() == nbb_unformatted_code) {\n",
       "                             nbb_cells[i].set_text(nbb_formatted_code);\n",
       "                        }\n",
       "                        break;\n",
       "                    }\n",
       "                }\n",
       "            }, 500);\n",
       "            "
      ],
      "text/plain": [
       "<IPython.core.display.Javascript object>"
      ]
     },
     "metadata": {},
     "output_type": "display_data"
    }
   ],
   "source": [
    "X.shape"
   ]
  },
  {
   "cell_type": "code",
   "execution_count": 47,
   "id": "e78f9eba",
   "metadata": {},
   "outputs": [
    {
     "data": {
      "text/plain": [
       "(4,)"
      ]
     },
     "execution_count": 47,
     "metadata": {},
     "output_type": "execute_result"
    },
    {
     "data": {
      "application/javascript": [
       "\n",
       "            setTimeout(function() {\n",
       "                var nbb_cell_id = 47;\n",
       "                var nbb_unformatted_code = \"X[0].shape\";\n",
       "                var nbb_formatted_code = \"X[0].shape\";\n",
       "                var nbb_cells = Jupyter.notebook.get_cells();\n",
       "                for (var i = 0; i < nbb_cells.length; ++i) {\n",
       "                    if (nbb_cells[i].input_prompt_number == nbb_cell_id) {\n",
       "                        if (nbb_cells[i].get_text() == nbb_unformatted_code) {\n",
       "                             nbb_cells[i].set_text(nbb_formatted_code);\n",
       "                        }\n",
       "                        break;\n",
       "                    }\n",
       "                }\n",
       "            }, 500);\n",
       "            "
      ],
      "text/plain": [
       "<IPython.core.display.Javascript object>"
      ]
     },
     "metadata": {},
     "output_type": "display_data"
    }
   ],
   "source": [
    "X[0].shape"
   ]
  },
  {
   "cell_type": "code",
   "execution_count": 48,
   "id": "3cc2f84d",
   "metadata": {},
   "outputs": [
    {
     "data": {
      "text/plain": [
       "(1, 4)"
      ]
     },
     "execution_count": 48,
     "metadata": {},
     "output_type": "execute_result"
    },
    {
     "data": {
      "application/javascript": [
       "\n",
       "            setTimeout(function() {\n",
       "                var nbb_cell_id = 48;\n",
       "                var nbb_unformatted_code = \"X[0].reshape(1, 4).shape\";\n",
       "                var nbb_formatted_code = \"X[0].reshape(1, 4).shape\";\n",
       "                var nbb_cells = Jupyter.notebook.get_cells();\n",
       "                for (var i = 0; i < nbb_cells.length; ++i) {\n",
       "                    if (nbb_cells[i].input_prompt_number == nbb_cell_id) {\n",
       "                        if (nbb_cells[i].get_text() == nbb_unformatted_code) {\n",
       "                             nbb_cells[i].set_text(nbb_formatted_code);\n",
       "                        }\n",
       "                        break;\n",
       "                    }\n",
       "                }\n",
       "            }, 500);\n",
       "            "
      ],
      "text/plain": [
       "<IPython.core.display.Javascript object>"
      ]
     },
     "metadata": {},
     "output_type": "display_data"
    }
   ],
   "source": [
    "X[0].reshape(1, 4).shape"
   ]
  },
  {
   "cell_type": "code",
   "execution_count": 49,
   "id": "59c6678e",
   "metadata": {},
   "outputs": [
    {
     "data": {
      "text/plain": [
       "array([[4.1094489e-04, 9.9629647e-01]], dtype=float32)"
      ]
     },
     "execution_count": 49,
     "metadata": {},
     "output_type": "execute_result"
    },
    {
     "data": {
      "application/javascript": [
       "\n",
       "            setTimeout(function() {\n",
       "                var nbb_cell_id = 49;\n",
       "                var nbb_unformatted_code = \"model.predict(X[10].reshape(1, 4))\";\n",
       "                var nbb_formatted_code = \"model.predict(X[10].reshape(1, 4))\";\n",
       "                var nbb_cells = Jupyter.notebook.get_cells();\n",
       "                for (var i = 0; i < nbb_cells.length; ++i) {\n",
       "                    if (nbb_cells[i].input_prompt_number == nbb_cell_id) {\n",
       "                        if (nbb_cells[i].get_text() == nbb_unformatted_code) {\n",
       "                             nbb_cells[i].set_text(nbb_formatted_code);\n",
       "                        }\n",
       "                        break;\n",
       "                    }\n",
       "                }\n",
       "            }, 500);\n",
       "            "
      ],
      "text/plain": [
       "<IPython.core.display.Javascript object>"
      ]
     },
     "metadata": {},
     "output_type": "display_data"
    }
   ],
   "source": [
    "model.predict(X[10].reshape(1, 4))"
   ]
  },
  {
   "cell_type": "code",
   "execution_count": 50,
   "id": "12deb6d3",
   "metadata": {},
   "outputs": [
    {
     "data": {
      "text/plain": [
       "array([1])"
      ]
     },
     "execution_count": 50,
     "metadata": {},
     "output_type": "execute_result"
    },
    {
     "data": {
      "application/javascript": [
       "\n",
       "            setTimeout(function() {\n",
       "                var nbb_cell_id = 50;\n",
       "                var nbb_unformatted_code = \"model.predict_classes(X[10].reshape(1, 4))\";\n",
       "                var nbb_formatted_code = \"model.predict_classes(X[10].reshape(1, 4))\";\n",
       "                var nbb_cells = Jupyter.notebook.get_cells();\n",
       "                for (var i = 0; i < nbb_cells.length; ++i) {\n",
       "                    if (nbb_cells[i].input_prompt_number == nbb_cell_id) {\n",
       "                        if (nbb_cells[i].get_text() == nbb_unformatted_code) {\n",
       "                             nbb_cells[i].set_text(nbb_formatted_code);\n",
       "                        }\n",
       "                        break;\n",
       "                    }\n",
       "                }\n",
       "            }, 500);\n",
       "            "
      ],
      "text/plain": [
       "<IPython.core.display.Javascript object>"
      ]
     },
     "metadata": {},
     "output_type": "display_data"
    }
   ],
   "source": [
    "model.predict_classes(X[10].reshape(1, 4))"
   ]
  }
 ],
 "metadata": {
  "kernelspec": {
   "display_name": "Python 3",
   "language": "python",
   "name": "python3"
  },
  "language_info": {
   "codemirror_mode": {
    "name": "ipython",
    "version": 3
   },
   "file_extension": ".py",
   "mimetype": "text/x-python",
   "name": "python",
   "nbconvert_exporter": "python",
   "pygments_lexer": "ipython3",
   "version": "3.8.5"
  }
 },
 "nbformat": 4,
 "nbformat_minor": 5
}
