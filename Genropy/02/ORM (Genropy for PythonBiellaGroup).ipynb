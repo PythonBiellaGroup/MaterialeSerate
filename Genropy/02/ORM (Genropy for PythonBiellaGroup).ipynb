{
 "cells": [
  {
   "cell_type": "markdown",
   "metadata": {},
   "source": [
    "# ORM"
   ]
  },
  {
   "cell_type": "code",
   "execution_count": 2,
   "metadata": {},
   "outputs": [
    {
     "data": {
      "text/plain": [
       "['sys',\n",
       " 'adm',\n",
       " 'glbl',\n",
       " 'sandbox',\n",
       " 'tutor',\n",
       " 'test',\n",
       " 'test15',\n",
       " 'biz',\n",
       " 'docu',\n",
       " 'fatt',\n",
       " 'email']"
      ]
     },
     "execution_count": 2,
     "metadata": {},
     "output_type": "execute_result"
    }
   ],
   "source": [
    "#Istanziare l'app da terminale ed esplorare il model\n",
    "from gnr.app.gnrapp import GnrApp\n",
    "app = GnrApp('sandboxpg')\n",
    "mydb = app.db\n",
    "mymodel = mydb.model\n",
    "model_structure = mymodel.src\n",
    "model_structure['packages'].keys()"
   ]
  },
  {
   "cell_type": "markdown",
   "metadata": {},
   "source": [
    "### La Table"
   ]
  },
  {
   "cell_type": "code",
   "execution_count": 3,
   "metadata": {},
   "outputs": [],
   "source": [
    "#Definizione di una Table\n",
    "class Table(object):\n",
    "    def config_db(self, pkg):\n",
    "        tbl = pkg.table('cliente', pkey='id',caption_field='ragione_sociale')\n",
    "        tbl.column('id' ,size='22', name_long='Id')\n",
    "        tbl.column('ragione_sociale', size=':40', name_long='Ragione sociale')\n",
    "        tbl.column('indirizzo', name_long='Indirizzo')\n",
    "        prov_col = tbl.column('provincia',size='2',name_long='Provincia')\n",
    "        prov_col.relation('glbl.provincia.sigla', relation_name='clienti', mode='foreignkey')"
   ]
  },
  {
   "cell_type": "code",
   "execution_count": 4,
   "metadata": {},
   "outputs": [
    {
     "data": {
      "text/plain": [
       "['id',\n",
       " '__ins_ts',\n",
       " '__del_ts',\n",
       " '__mod_ts',\n",
       " '__ins_user',\n",
       " 'ragione_sociale',\n",
       " 'indirizzo',\n",
       " 'provincia',\n",
       " 'comune_id',\n",
       " 'cliente_tipo_codice',\n",
       " 'pagamento_tipo_codice',\n",
       " 'note',\n",
       " 'email',\n",
       " 'data_iscrizione_newsletter',\n",
       " 'data_disiscrizione_newsletter']"
      ]
     },
     "execution_count": 4,
     "metadata": {},
     "output_type": "execute_result"
    }
   ],
   "source": [
    "model_structure['packages.fatt.tables.cliente.columns'].keys()"
   ]
  },
  {
   "cell_type": "markdown",
   "metadata": {},
   "source": [
    "### Le query"
   ]
  },
  {
   "cell_type": "code",
   "execution_count": 5,
   "metadata": {},
   "outputs": [
    {
     "data": {
      "text/plain": [
       "[[ragione_sociale=Camillozzi SPA,regione=Piemonte,pkey=huWxufwWNqeERsBSbHiXbw],\n",
       " [ragione_sociale=Bianchi Luigino,regione=Lombardia,pkey=pN1YrXqfPyinfCQBQ2qewQ],\n",
       " [ragione_sociale=Effelunga,regione=Lombardia,pkey=eXTjroRqOLqqaP5Ez4vL0g],\n",
       " [ragione_sociale=Rossi Mario,regione=Lombardia,pkey=mf_6EJbWN1unRWkVjRRTgA],\n",
       " [ragione_sociale=Giardini e Giardini,regione=Lombardia,pkey=ja14mgX2P2mRQWUNMWcdKg]]"
      ]
     },
     "execution_count": 5,
     "metadata": {},
     "output_type": "execute_result"
    }
   ],
   "source": [
    "query_1 = mydb.table('fatt.cliente').query(columns='$ragione_sociale,@provincia.@regione.nome AS regione', limit=5)\n",
    "query_1.fetch()"
   ]
  },
  {
   "cell_type": "code",
   "execution_count": 6,
   "metadata": {},
   "outputs": [
    {
     "name": "stdout",
     "output_type": "stream",
     "text": [
      "Fattura F21/000010 del 2021-08-31 Cliente: Bianchi Luigino Totale: 1113.06\n",
      "Fattura F16/000004 del 2016-09-09 Cliente: Galimberti srl Totale: 1626.1\n",
      "Fattura F16/000003 del 2016-01-19 Cliente: Effelunga Totale: 1049.35\n",
      "Fattura F15/000325 del 2015-04-14 Cliente: Rockerduck S.p.a. Totale: 46046.368\n",
      "Fattura F15/000323 del 2015-04-14 Cliente: Galimberti srl Totale: 7118.58\n"
     ]
    }
   ],
   "source": [
    "query_2 = mydb.table('fatt.fattura').query(columns=\"\"\"\n",
    "                                                    $data,$protocollo,$totale_fattura,\n",
    "                                                    @cliente_id.ragione_sociale AS cliente\n",
    "                                                    \"\"\", \n",
    "                                                    where='$totale_fattura>1000',\n",
    "                                                    limit=5, order_by='$data DESC')\n",
    "for r in query_2.fetch():\n",
    "    print ('Fattura {protocollo} del {data} Cliente: {cliente} Totale: {totale_fattura}'.format(**r))"
   ]
  },
  {
   "cell_type": "code",
   "execution_count": 7,
   "metadata": {},
   "outputs": [
    {
     "name": "stdout",
     "output_type": "stream",
     "text": [
      "SELECT  t0.\"data\" AS \"data\",\n",
      "t0.\"protocollo\" AS \"protocollo\",\n",
      "t0.\"totale_fattura\" AS \"totale_fattura\",\n",
      "t1.\"ragione_sociale\" AS cliente,\n",
      "t0.id AS pkey\n",
      " FROM fatt.\"fatt_fattura\" AS t0\n",
      "       LEFT JOIN fatt.\"fatt_cliente\" AS t1 ON t1.\"id\" = t0.\"cliente_id\"\n",
      "WHERE (t0.\"totale_fattura\">1000) AND (t0.\"__del_ts\" IS NULL)\n",
      "ORDER BY t0.\"data\" DESC\n",
      "LIMIT 5\n"
     ]
    }
   ],
   "source": [
    "print(query_2.sqltext)"
   ]
  },
  {
   "cell_type": "markdown",
   "metadata": {},
   "source": [
    "### Il metodo record"
   ]
  },
  {
   "cell_type": "code",
   "execution_count": 8,
   "metadata": {},
   "outputs": [
    {
     "name": "stdout",
     "output_type": "stream",
     "text": [
      "Lombardia\n"
     ]
    }
   ],
   "source": [
    "tbl = mydb.table('fatt.cliente')\n",
    "cliente_id = 'mf_6EJbWN1unRWkVjRRTgA'\n",
    "record_cliente = tbl.record(cliente_id, mode='bag')\n",
    "print(record_cliente['@provincia.@regione.nome'])"
   ]
  },
  {
   "cell_type": "code",
   "execution_count": 9,
   "metadata": {},
   "outputs": [
    {
     "name": "stdout",
     "output_type": "stream",
     "text": [
      "F21/000013 None\n",
      "F15/000135 191\n",
      "F15/000241 184\n",
      "F15/000258 1866\n",
      "F15/000039 315.7\n",
      "F15/000249 676\n",
      "F15/000174 1180.8\n",
      "F15/000194 837.6\n",
      "F15/000129 1651.9\n",
      "F15/000074 658.2\n",
      "F15/000319 449\n",
      "F15/000277 120\n",
      "F15/000311 82\n",
      "F15/000007 186\n",
      "F15/000280 1642\n",
      "F15/000308 365\n",
      "F15/000130 806\n",
      "F14/000002 71.4\n",
      "F14/000012 61.2\n",
      "F15/000217 1296\n",
      "F15/000252 516\n",
      "F15/000051 870\n",
      "F15/000015 216\n"
     ]
    }
   ],
   "source": [
    "for fatt in record_cliente['@fatture'].values():\n",
    "    print (fatt['protocollo'],fatt['totale_lordo'])"
   ]
  }
 ],
 "metadata": {
  "kernelspec": {
   "display_name": "Python 3",
   "language": "python",
   "name": "python3"
  },
  "language_info": {
   "codemirror_mode": {
    "name": "ipython",
    "version": 3
   },
   "file_extension": ".py",
   "mimetype": "text/x-python",
   "name": "python",
   "nbconvert_exporter": "python",
   "pygments_lexer": "ipython3",
   "version": "3.8.12"
  }
 },
 "nbformat": 4,
 "nbformat_minor": 4
}
