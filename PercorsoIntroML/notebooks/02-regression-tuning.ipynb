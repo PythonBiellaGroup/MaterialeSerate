{
 "cells": [
  {
   "cell_type": "markdown",
   "id": "d039ec72-4c3a-48d5-864d-d03246681197",
   "metadata": {},
   "source": [
    "# Scelta del modello migliore\n",
    "In questo notebook testeremo diversi modelli.\n",
    "\n",
    "Un volta identificato il migliore proseguiremo con il tuning dei parametri.\n",
    "\n",
    "Infine vedremo come effettuare una validazione più robusta del modello ottimizzato."
   ]
  },
  {
   "cell_type": "code",
   "execution_count": 1,
   "id": "6b917572-d985-47c3-a27d-d249e10c5035",
   "metadata": {},
   "outputs": [],
   "source": [
    "import pandas as pd\n",
    "import numpy as np"
   ]
  },
  {
   "cell_type": "code",
   "execution_count": 2,
   "id": "5122f1f3-1304-44bb-9d1d-3efb5f8215d4",
   "metadata": {},
   "outputs": [],
   "source": [
    "from sklearn.model_selection import train_test_split, KFold, GridSearchCV\n",
    "from sklearn.ensemble import RandomForestRegressor\n",
    "from sklearn.linear_model import LinearRegression, Ridge, Lasso\n",
    "from sklearn.impute import SimpleImputer\n",
    "from sklearn.pipeline import Pipeline\n",
    "from sklearn.compose import ColumnTransformer\n",
    "from sklearn.preprocessing import StandardScaler, MinMaxScaler"
   ]
  },
  {
   "cell_type": "code",
   "execution_count": null,
   "id": "7a1738d5-1fd8-4ae5-a618-8e5c35d02ba6",
   "metadata": {},
   "outputs": [],
   "source": []
  },
  {
   "cell_type": "code",
   "execution_count": 3,
   "id": "36ab7cde-3093-4b5e-8519-47b8c2b481e4",
   "metadata": {},
   "outputs": [],
   "source": [
    "df = pd.read_pickle(\"../data/weather/processed_weather_data.pkl\")"
   ]
  },
  {
   "cell_type": "code",
   "execution_count": 4,
   "id": "fde546e0-a44a-49dd-9303-0f6afb394c96",
   "metadata": {},
   "outputs": [],
   "source": [
    "# Individuo alcune colonne su cui addestrare il modello\n",
    "TRAIN_COLS = [\n",
    "    'Precip',\n",
    "    'MaxTemp', \n",
    "    'MinTemp'\n",
    "]\n",
    "\n",
    "# TARGET DEFINITION\n",
    "TARGET_COL = \"Snowfall\""
   ]
  },
  {
   "cell_type": "code",
   "execution_count": 5,
   "id": "9671ee85-34af-4952-a14b-ded408e0bdbf",
   "metadata": {},
   "outputs": [],
   "source": [
    "X = df[TRAIN_COLS]\n",
    "y = df[TARGET_COL]"
   ]
  },
  {
   "cell_type": "code",
   "execution_count": 6,
   "id": "3c07cba8-682a-49a8-b3c2-d3be295e20c5",
   "metadata": {},
   "outputs": [],
   "source": [
    "# train / test split\n",
    "X_train, X_test, y_train, y_test = train_test_split(X, y, test_size=0.25, random_state=42)"
   ]
  },
  {
   "cell_type": "code",
   "execution_count": 7,
   "id": "0240a954-f66c-418b-8a8f-d369f7ce5eba",
   "metadata": {},
   "outputs": [
    {
     "data": {
      "text/plain": [
       "((89256, 3), (29752, 3))"
      ]
     },
     "execution_count": 7,
     "metadata": {},
     "output_type": "execute_result"
    }
   ],
   "source": [
    "X_train.shape, X_test.shape"
   ]
  },
  {
   "cell_type": "markdown",
   "id": "674a8b7c-9200-4f9b-a82f-b69ed40a9989",
   "metadata": {},
   "source": [
    "### TRY DIFFERENT ALGORITHMS"
   ]
  },
  {
   "cell_type": "code",
   "execution_count": 8,
   "id": "cc1ffa16-af58-4e76-9bb1-9ff7aa9a7bf8",
   "metadata": {},
   "outputs": [],
   "source": [
    "colnames = X_train.columns.tolist()\n",
    "\n",
    "def get_model():\n",
    "    # definizione delle trasformazioni delle colonne\n",
    "    imputer = SimpleImputer(strategy=\"median\") # se ci sono valori mancanti li sostituisce con la mediana (su tutte le colonne)\n",
    "\n",
    "    std_scaler_columns = [colnames.index(x) for x in [\"MinTemp\", \"MaxTemp\"]]\n",
    "    minmax_scaler_columns = [colnames.index(x) for x in [\"Precip\"]]\n",
    "    ct = ColumnTransformer([\n",
    "        (\"stdscaler\", StandardScaler(), std_scaler_columns), # applica standard scaler solo a Min e Max Temp\n",
    "        (\"minmaxscaler\", MinMaxScaler(), minmax_scaler_columns) # applica il MinMax Scaler a Precip\n",
    "    ], remainder='passthrough') \n",
    "\n",
    "    # definizione del estimator (regressore)\n",
    "    regressor = LinearRegression()  \n",
    "\n",
    "    # creazione della pipeline\n",
    "    pipe = Pipeline(steps=[\n",
    "        (\"imputer\", imputer), \n",
    "        (\"col_transformer\", ct), \n",
    "        (\"regressor\", None)\n",
    "    ])\n",
    "    \n",
    "    return pipe"
   ]
  },
  {
   "cell_type": "code",
   "execution_count": 9,
   "id": "6e9863cf-203d-441c-978d-77f9bef3bcb9",
   "metadata": {},
   "outputs": [],
   "source": [
    "param_grid = {\n",
    "    'regressor': [\n",
    "        LinearRegression(),\n",
    "        Ridge(alpha=0.5, random_state=42),\n",
    "        Lasso(alpha=0.5, random_state=42),\n",
    "        RandomForestRegressor(max_depth=5, random_state=42)\n",
    "    ]\n",
    "}"
   ]
  },
  {
   "cell_type": "code",
   "execution_count": null,
   "id": "79eb56f5-f223-4b41-8228-8464934a0f9c",
   "metadata": {},
   "outputs": [],
   "source": []
  },
  {
   "cell_type": "code",
   "execution_count": 10,
   "id": "030538d8-236f-439b-8016-77fc31a85360",
   "metadata": {},
   "outputs": [],
   "source": [
    "search = GridSearchCV(\n",
    "    get_model(), \n",
    "    param_grid, \n",
    "    cv=KFold(n_splits=5, shuffle=True, random_state=123), \n",
    "    scoring=\"neg_mean_squared_error\",\n",
    "    return_train_score=True, \n",
    "    verbose=3\n",
    ")"
   ]
  },
  {
   "cell_type": "code",
   "execution_count": 11,
   "id": "953274af-fe67-4c65-b8a6-a699a0cc587c",
   "metadata": {},
   "outputs": [
    {
     "name": "stdout",
     "output_type": "stream",
     "text": [
      "Fitting 5 folds for each of 4 candidates, totalling 20 fits\n",
      "[CV 1/5] END regressor=LinearRegression();, score=(train=-6.176, test=-5.818) total time=   0.0s\n",
      "[CV 2/5] END regressor=LinearRegression();, score=(train=-6.102, test=-6.112) total time=   0.0s\n",
      "[CV 3/5] END regressor=LinearRegression();, score=(train=-6.200, test=-5.722) total time=   0.0s\n",
      "[CV 4/5] END regressor=LinearRegression();, score=(train=-5.960, test=-6.683) total time=   0.0s\n",
      "[CV 5/5] END regressor=LinearRegression();, score=(train=-6.082, test=-6.192) total time=   0.0s\n",
      "[CV 1/5] END regressor=Ridge(alpha=0.5, random_state=42);, score=(train=-6.176, test=-5.818) total time=   0.1s\n",
      "[CV 2/5] END regressor=Ridge(alpha=0.5, random_state=42);, score=(train=-6.102, test=-6.112) total time=   0.0s\n",
      "[CV 3/5] END regressor=Ridge(alpha=0.5, random_state=42);, score=(train=-6.200, test=-5.722) total time=   0.0s\n",
      "[CV 4/5] END regressor=Ridge(alpha=0.5, random_state=42);, score=(train=-5.960, test=-6.683) total time=   0.0s\n",
      "[CV 5/5] END regressor=Ridge(alpha=0.5, random_state=42);, score=(train=-6.082, test=-6.192) total time=   0.0s\n",
      "[CV 1/5] END regressor=Lasso(alpha=0.5, random_state=42);, score=(train=-6.442, test=-6.013) total time=   0.0s\n",
      "[CV 2/5] END regressor=Lasso(alpha=0.5, random_state=42);, score=(train=-6.368, test=-6.324) total time=   0.0s\n",
      "[CV 3/5] END regressor=Lasso(alpha=0.5, random_state=42);, score=(train=-6.465, test=-5.988) total time=   0.0s\n",
      "[CV 4/5] END regressor=Lasso(alpha=0.5, random_state=42);, score=(train=-6.225, test=-7.022) total time=   0.0s\n",
      "[CV 5/5] END regressor=Lasso(alpha=0.5, random_state=42);, score=(train=-6.348, test=-6.509) total time=   0.0s\n",
      "[CV 1/5] END regressor=RandomForestRegressor(max_depth=5, random_state=42);, score=(train=-4.488, test=-4.562) total time=   5.7s\n",
      "[CV 2/5] END regressor=RandomForestRegressor(max_depth=5, random_state=42);, score=(train=-4.357, test=-4.928) total time=   5.9s\n",
      "[CV 3/5] END regressor=RandomForestRegressor(max_depth=5, random_state=42);, score=(train=-4.566, test=-4.116) total time=   5.1s\n",
      "[CV 4/5] END regressor=RandomForestRegressor(max_depth=5, random_state=42);, score=(train=-4.310, test=-5.242) total time=   4.9s\n",
      "[CV 5/5] END regressor=RandomForestRegressor(max_depth=5, random_state=42);, score=(train=-4.462, test=-4.567) total time=   5.1s\n",
      "Wall time: 37.5 s\n"
     ]
    },
    {
     "data": {
      "text/plain": [
       "GridSearchCV(cv=KFold(n_splits=5, random_state=123, shuffle=True),\n",
       "             estimator=Pipeline(steps=[('imputer',\n",
       "                                        SimpleImputer(strategy='median')),\n",
       "                                       ('col_transformer',\n",
       "                                        ColumnTransformer(remainder='passthrough',\n",
       "                                                          transformers=[('stdscaler',\n",
       "                                                                         StandardScaler(),\n",
       "                                                                         [2,\n",
       "                                                                          1]),\n",
       "                                                                        ('minmaxscaler',\n",
       "                                                                         MinMaxScaler(),\n",
       "                                                                         [0])])),\n",
       "                                       ('regressor', None)]),\n",
       "             param_grid={'regressor': [LinearRegression(),\n",
       "                                       Ridge(alpha=0.5, random_state=42),\n",
       "                                       Lasso(alpha=0.5, random_state=42),\n",
       "                                       RandomForestRegressor(max_depth=5,\n",
       "                                                             random_state=42)]},\n",
       "             return_train_score=True, scoring='neg_mean_squared_error',\n",
       "             verbose=3)"
      ]
     },
     "execution_count": 11,
     "metadata": {},
     "output_type": "execute_result"
    }
   ],
   "source": [
    "%%time\n",
    "search.fit(X, y)"
   ]
  },
  {
   "cell_type": "code",
   "execution_count": 12,
   "id": "7a6ddc5b-9ab3-4e8c-be3a-d99795192bf0",
   "metadata": {},
   "outputs": [
    {
     "data": {
      "text/plain": [
       "Pipeline(steps=[('imputer', SimpleImputer(strategy='median')),\n",
       "                ('col_transformer',\n",
       "                 ColumnTransformer(remainder='passthrough',\n",
       "                                   transformers=[('stdscaler', StandardScaler(),\n",
       "                                                  [2, 1]),\n",
       "                                                 ('minmaxscaler',\n",
       "                                                  MinMaxScaler(), [0])])),\n",
       "                ('regressor',\n",
       "                 RandomForestRegressor(max_depth=5, random_state=42))])"
      ]
     },
     "execution_count": 12,
     "metadata": {},
     "output_type": "execute_result"
    }
   ],
   "source": [
    "search.best_estimator_"
   ]
  },
  {
   "cell_type": "code",
   "execution_count": 13,
   "id": "9ff266d6-232b-4c6e-bfc5-67c3ed73a28e",
   "metadata": {},
   "outputs": [
    {
     "data": {
      "text/plain": [
       "-4.683016134096068"
      ]
     },
     "execution_count": 13,
     "metadata": {},
     "output_type": "execute_result"
    }
   ],
   "source": [
    "search.best_score_"
   ]
  },
  {
   "cell_type": "markdown",
   "id": "ceb3f48d-8977-4cf5-9e53-f3eee2cbb042",
   "metadata": {},
   "source": [
    "#### BEST ALGORITHM = RandomForestRegressor"
   ]
  },
  {
   "cell_type": "code",
   "execution_count": 14,
   "id": "b523a26a-b48a-4ce8-bb8c-ea1fb13e5bac",
   "metadata": {},
   "outputs": [
    {
     "data": {
      "text/plain": [
       "{'mean_fit_time': array([0.06680145, 0.12100272, 0.0984046 , 5.37712636]),\n",
       " 'std_fit_time': array([0.00541935, 0.05355088, 0.00407416, 0.38939227]),\n",
       " 'mean_score_time': array([0.00620227, 0.00839953, 0.00599785, 0.07659492]),\n",
       " 'std_score_time': array([0.00074673, 0.00313799, 0.00126497, 0.00638233]),\n",
       " 'param_regressor': masked_array(data=[LinearRegression(), Ridge(alpha=0.5, random_state=42),\n",
       "                    Lasso(alpha=0.5, random_state=42),\n",
       "                    RandomForestRegressor(max_depth=5, random_state=42)],\n",
       "              mask=[False, False, False, False],\n",
       "        fill_value='?',\n",
       "             dtype=object),\n",
       " 'params': [{'regressor': LinearRegression()},\n",
       "  {'regressor': Ridge(alpha=0.5, random_state=42)},\n",
       "  {'regressor': Lasso(alpha=0.5, random_state=42)},\n",
       "  {'regressor': RandomForestRegressor(max_depth=5, random_state=42)}],\n",
       " 'split0_test_score': array([-5.81813619, -5.81813595, -6.01295601, -4.56200847]),\n",
       " 'split1_test_score': array([-6.11163221, -6.11163186, -6.32395328, -4.92835117]),\n",
       " 'split2_test_score': array([-5.7223155 , -5.72231443, -5.98793738, -4.11560127]),\n",
       " 'split3_test_score': array([-6.68259154, -6.68259203, -7.02153646, -5.24178933]),\n",
       " 'split4_test_score': array([-6.19205717, -6.19205747, -6.50864954, -4.56733042]),\n",
       " 'mean_test_score': array([-6.10534652, -6.10534635, -6.37100654, -4.68301613]),\n",
       " 'std_test_score': array([0.33763074, 0.33763121, 0.37928642, 0.38010589]),\n",
       " 'rank_test_score': array([3, 2, 4, 1]),\n",
       " 'split0_train_score': array([-6.17583452, -6.17583452, -6.44159115, -4.48796728]),\n",
       " 'split1_train_score': array([-6.10239848, -6.10239848, -6.36821745, -4.3566382 ]),\n",
       " 'split2_train_score': array([-6.19960177, -6.19960177, -6.46482154, -4.56567951]),\n",
       " 'split3_train_score': array([-5.95974918, -5.95974918, -6.22547203, -4.31005178]),\n",
       " 'split4_train_score': array([-6.08230361, -6.08230361, -6.34812106, -4.46177901]),\n",
       " 'mean_train_score': array([-6.10397751, -6.10397751, -6.36964465, -4.43642316]),\n",
       " 'std_train_score': array([0.08435816, 0.08435816, 0.08424486, 0.09202422])}"
      ]
     },
     "execution_count": 14,
     "metadata": {},
     "output_type": "execute_result"
    }
   ],
   "source": [
    "search.cv_results_"
   ]
  },
  {
   "cell_type": "code",
   "execution_count": 15,
   "id": "0bf578fd-c532-4bb6-9e21-c2f35aef52f3",
   "metadata": {},
   "outputs": [
    {
     "data": {
      "text/plain": [
       "dict_keys(['mean_fit_time', 'std_fit_time', 'mean_score_time', 'std_score_time', 'param_regressor', 'params', 'split0_test_score', 'split1_test_score', 'split2_test_score', 'split3_test_score', 'split4_test_score', 'mean_test_score', 'std_test_score', 'rank_test_score', 'split0_train_score', 'split1_train_score', 'split2_train_score', 'split3_train_score', 'split4_train_score', 'mean_train_score', 'std_train_score'])"
      ]
     },
     "execution_count": 15,
     "metadata": {},
     "output_type": "execute_result"
    }
   ],
   "source": [
    "search.cv_results_.keys()"
   ]
  },
  {
   "cell_type": "code",
   "execution_count": 16,
   "id": "8b5d2822-edca-46bb-82af-95903342e823",
   "metadata": {},
   "outputs": [
    {
     "data": {
      "text/plain": [
       "['LinearRegression', 'Ridge', 'Lasso', 'RandomForestRegressor']"
      ]
     },
     "execution_count": 16,
     "metadata": {},
     "output_type": "execute_result"
    }
   ],
   "source": [
    "[r[\"regressor\"].__class__.__name__ for r in search.cv_results_[\"params\"]]"
   ]
  },
  {
   "cell_type": "code",
   "execution_count": null,
   "id": "03c36c6c-2d8d-4c57-aeba-8881a4cb8439",
   "metadata": {},
   "outputs": [],
   "source": []
  },
  {
   "cell_type": "code",
   "execution_count": 17,
   "id": "9ab7800f-f51e-4fe0-8e25-d0db54a30046",
   "metadata": {},
   "outputs": [],
   "source": [
    "plot_res_df = pd.DataFrame([\n",
    "    search.cv_results_['split0_test_score'], \n",
    "    search.cv_results_['split1_test_score'],\n",
    "    search.cv_results_['split2_test_score'], \n",
    "    search.cv_results_['split3_test_score'], \n",
    "    search.cv_results_['split4_test_score']\n",
    "], columns=[r[\"regressor\"].__class__.__name__ for r in search.cv_results_[\"params\"]])"
   ]
  },
  {
   "cell_type": "code",
   "execution_count": 18,
   "id": "77ba6122-f4ae-4f92-8cfd-15f57144f090",
   "metadata": {},
   "outputs": [
    {
     "data": {
      "text/plain": [
       "<AxesSubplot:xlabel='Fold', ylabel='TestScore'>"
      ]
     },
     "execution_count": 18,
     "metadata": {},
     "output_type": "execute_result"
    },
    {
     "data": {
      "image/png": "[encoded data removed]",
      "text/plain": [
       "<Figure size 432x288 with 1 Axes>"
      ]
     },
     "metadata": {
      "needs_background": "light"
     },
     "output_type": "display_data"
    }
   ],
   "source": [
    "plot_res_df.plot(xlabel=\"Fold\", ylabel=\"TestScore\", xticks=range(plot_res_df.shape[1]+1))"
   ]
  },
  {
   "cell_type": "markdown",
   "id": "c61f8304-4000-4edd-a59a-bbad2a452417",
   "metadata": {},
   "source": [
    "### Esercizio: HYPER PARAMETER TUNING\n",
    "\n",
    "Con la stessa metodologia esposta è possibile fare tuning parametri.\n",
    "Lascio a voi questo esercizio.\n",
    "\n",
    "Suggerimenti: \n",
    "- provare a lavorare sui seguenti parametri dell'algoritmo RandomForest\n",
    "    - max_depth\n",
    "    - min_samples_split\n",
    "    - min_samples_leaf\n",
    "- random forest è un algoritmo basato su alberi, teoricamente non richiede scaling delle features\n",
    "- è possibile eseguire nuovamente la selezione del modello e tuning dei parametri aggiungendo nuove colonne (vedi pairplot nel notebook precedente)"
   ]
  },
  {
   "cell_type": "code",
   "execution_count": 19,
   "id": "faebd676-2586-4142-80b8-42a1681d5073",
   "metadata": {},
   "outputs": [],
   "source": [
    "# param_grid = {\n",
    "#     'base_estimator__max_depth': [2, 4, 6, 8, 12]\n",
    "#     .......\n",
    "# }"
   ]
  },
  {
   "cell_type": "code",
   "execution_count": 20,
   "id": "2d1e0be6-54ac-4687-b27e-85b19296b384",
   "metadata": {},
   "outputs": [],
   "source": [
    "# search = GridSearchCV(.........)\n",
    "# search.fit(X, y)"
   ]
  },
  {
   "cell_type": "code",
   "execution_count": null,
   "id": "ce76debc-5224-4983-97ac-ed9c89862f69",
   "metadata": {},
   "outputs": [],
   "source": []
  }
 ],
 "metadata": {
  "kernelspec": {
   "display_name": "Python [conda env:py39_pbg]",
   "language": "python",
   "name": "conda-env-py39_pbg-py"
  },
  "language_info": {
   "codemirror_mode": {
    "name": "ipython",
    "version": 3
   },
   "file_extension": ".py",
   "mimetype": "text/x-python",
   "name": "python",
   "nbconvert_exporter": "python",
   "pygments_lexer": "ipython3",
   "version": "3.9.7"
  }
 },
 "nbformat": 4,
 "nbformat_minor": 5
}
